{
 "cells": [
  {
   "cell_type": "code",
   "execution_count": 1,
   "metadata": {},
   "outputs": [
    {
     "ename": "SyntaxError",
     "evalue": "invalid syntax (<ipython-input-1-70e8dc6bef02>, line 2)",
     "output_type": "error",
     "traceback": [
      "\u001b[1;36m  File \u001b[1;32m\"<ipython-input-1-70e8dc6bef02>\"\u001b[1;36m, line \u001b[1;32m2\u001b[0m\n\u001b[1;33m    - 함수 이름은 중복이 되면 안됨 (오버로딩은 디폴트 매개변수로 해결)\u001b[0m\n\u001b[1;37m           ^\u001b[0m\n\u001b[1;31mSyntaxError\u001b[0m\u001b[1;31m:\u001b[0m invalid syntax\n"
     ]
    }
   ],
   "source": [
    "# 함수 function\n",
    "- 함수 이름은 중복이 되면 안됨 (오버로딩은 디폴트 매개변수로 해결)\n",
    "- Required arguments(매개변수를 순서적으로 입력)\n",
    "- Keyword arguments(키 매개변수의 순서 변경이 가능)\n",
    "- Default arguments(오버로딩 해결)\n",
    "- Variable-length arguments(변동매개변수: * -> list, ** -> dict)\n"
   ]
  },
  {
   "cell_type": "code",
   "execution_count": 9,
   "metadata": {},
   "outputs": [
    {
     "name": "stdout",
     "output_type": "stream",
     "text": [
      "30\n",
      "30\n",
      "30\n",
      "70\n"
     ]
    }
   ],
   "source": [
    "a = 10\n",
    "b = 20\n",
    "result = a + b\n",
    "print(result)\n",
    "\n",
    "c = 10\n",
    "d = 20\n",
    "result = c + d\n",
    "print(result)\n",
    "\n",
    "def addvalue(ab,bd): # 사용자 정의 함수. ab=10, bd=20 주소값만 전달 call by reference\n",
    "    return ab+bd\n",
    "print(addvalue(10,20)) # 호출시 데이터는 힙에 저장 => 주소값만 전달\n",
    "print(addvalue(30,40))"
   ]
  },
  {
   "cell_type": "code",
   "execution_count": 10,
   "metadata": {},
   "outputs": [
    {
     "ename": "NameError",
     "evalue": "name 'ax' is not defined",
     "output_type": "error",
     "traceback": [
      "\u001b[1;31m---------------------------------------------------------------------------\u001b[0m",
      "\u001b[1;31mNameError\u001b[0m                                 Traceback (most recent call last)",
      "\u001b[1;32m<ipython-input-10-79729e3222d3>\u001b[0m in \u001b[0;36m<module>\u001b[1;34m\u001b[0m\n\u001b[0;32m      1\u001b[0m \u001b[1;31m# 회귀분석\u001b[0m\u001b[1;33m\u001b[0m\u001b[1;33m\u001b[0m\u001b[1;33m\u001b[0m\u001b[0m\n\u001b[1;32m----> 2\u001b[1;33m \u001b[0my\u001b[0m \u001b[1;33m=\u001b[0m \u001b[0max\u001b[0m \u001b[1;33m+\u001b[0m \u001b[0mb\u001b[0m \u001b[1;31m# a=기울기 계수, b=bias 절편\u001b[0m\u001b[1;33m\u001b[0m\u001b[1;33m\u001b[0m\u001b[0m\n\u001b[0m",
      "\u001b[1;31mNameError\u001b[0m: name 'ax' is not defined"
     ]
    }
   ],
   "source": [
    "# 회귀분석\n",
    "y = ax + b # a=기울기 계수, b=bias 절편"
   ]
  },
  {
   "cell_type": "code",
   "execution_count": 18,
   "metadata": {},
   "outputs": [
    {
     "name": "stdout",
     "output_type": "stream",
     "text": [
      "1030\n",
      "10030\n"
     ]
    },
    {
     "ename": "TypeError",
     "evalue": "reg() takes 1 positional argument but 3 were given",
     "output_type": "error",
     "traceback": [
      "\u001b[1;31m---------------------------------------------------------------------------\u001b[0m",
      "\u001b[1;31mTypeError\u001b[0m                                 Traceback (most recent call last)",
      "\u001b[1;32m<ipython-input-18-58aac51eb639>\u001b[0m in \u001b[0;36m<module>\u001b[1;34m\u001b[0m\n\u001b[0;32m      8\u001b[0m     \u001b[1;32mreturn\u001b[0m \u001b[0ma\u001b[0m\u001b[1;33m*\u001b[0m\u001b[0mx\u001b[0m \u001b[1;33m+\u001b[0m \u001b[0mb\u001b[0m\u001b[1;33m\u001b[0m\u001b[1;33m\u001b[0m\u001b[0m\n\u001b[0;32m      9\u001b[0m \u001b[0mprint\u001b[0m\u001b[1;33m(\u001b[0m\u001b[0mreg\u001b[0m\u001b[1;33m(\u001b[0m\u001b[1;36m1000\u001b[0m\u001b[1;33m)\u001b[0m\u001b[1;33m)\u001b[0m\u001b[1;33m\u001b[0m\u001b[1;33m\u001b[0m\u001b[0m\n\u001b[1;32m---> 10\u001b[1;33m \u001b[0mreg\u001b[0m\u001b[1;33m(\u001b[0m\u001b[1;36m10\u001b[0m\u001b[1;33m,\u001b[0m\u001b[1;36m30\u001b[0m\u001b[1;33m,\u001b[0m\u001b[1;36m100\u001b[0m\u001b[1;33m)\u001b[0m \u001b[1;31m# 함수 이름 중복되면 안됨\u001b[0m\u001b[1;33m\u001b[0m\u001b[1;33m\u001b[0m\u001b[0m\n\u001b[0m",
      "\u001b[1;31mTypeError\u001b[0m: reg() takes 1 positional argument but 3 were given"
     ]
    }
   ],
   "source": [
    "def reg(a,b,x):\n",
    "    return a*x + b\n",
    "print(reg(10,30,100))\n",
    "\n",
    "def reg(x):\n",
    "    a = 10\n",
    "    b = 30\n",
    "    return a*x + b\n",
    "print(reg(1000))\n",
    "reg(10,30,100) # 함수 이름 중복되면 안됨"
   ]
  },
  {
   "cell_type": "code",
   "execution_count": 24,
   "metadata": {},
   "outputs": [
    {
     "name": "stdout",
     "output_type": "stream",
     "text": [
      "10보다 크다\n"
     ]
    }
   ],
   "source": [
    "# 두 수를 더한 값이 10보다 큰지 확인하시오.\n",
    "a = 10\n",
    "b = 20\n",
    "result = a+b\n",
    "if result >= 10:\n",
    "    result = '10보다 크다'\n",
    "else:\n",
    "    result = \"10보다 작다\"\n",
    "print(result)"
   ]
  },
  {
   "cell_type": "code",
   "execution_count": 21,
   "metadata": {},
   "outputs": [
    {
     "data": {
      "text/plain": [
       "'10보다 크다'"
      ]
     },
     "execution_count": 21,
     "metadata": {},
     "output_type": "execute_result"
    }
   ],
   "source": [
    "def sum_1(a,b):\n",
    "    result = a+ b\n",
    "    if result >= 10:\n",
    "        result = '10보다 크다'\n",
    "    else:\n",
    "        result = '10보다 작다'\n",
    "    return result\n",
    "sum_1(10,20)"
   ]
  },
  {
   "cell_type": "code",
   "execution_count": 2,
   "metadata": {},
   "outputs": [
    {
     "name": "stdout",
     "output_type": "stream",
     "text": [
      "20 10\n",
      "(10, 20)\n"
     ]
    },
    {
     "data": {
      "text/plain": [
       "tuple"
      ]
     },
     "execution_count": 2,
     "metadata": {},
     "output_type": "execute_result"
    }
   ],
   "source": [
    "a = 10\n",
    "b = 20\n",
    "def swap(a,b):\n",
    "    a,b = b, a\n",
    "    return a,b\n",
    "swap(10,20)\n",
    "a,b = swap(a,b)\n",
    "print(a,b)\n",
    "x = swap(a,b)\n",
    "print(x)\n",
    "type(x)"
   ]
  },
  {
   "cell_type": "code",
   "execution_count": 39,
   "metadata": {},
   "outputs": [
    {
     "name": "stdout",
     "output_type": "stream",
     "text": [
      "9\n",
      "-1\n",
      "800\n",
      "결과 35\n",
      "결과 -5\n",
      "결과 300\n"
     ]
    }
   ],
   "source": [
    "# 두 수를 입력받아 +, -, * 하는 함수 3개를 작성하시오\n",
    "def add(a,b):\n",
    "    return a+b\n",
    "def sub(a,b):\n",
    "    return a-b\n",
    "def multiply(a,b):\n",
    "    return a*b\n",
    "\n",
    "print(add(4,5)) \n",
    "print(sub(19,20))\n",
    "print(multiply(40,20))\n",
    "# 함수는 일급함수: 함수가 매개변수로 전달 가능, 리턴값으로도 가능\n",
    "def changefun(g,a,b):\n",
    "    return g(a,b)\n",
    "print('결과', changefun(add, 15, 20)) # sort(key 함수 전달)\n",
    "print('결과', changefun(sub, 15, 20))\n",
    "print('결과', changefun(multiply, 15, 20))"
   ]
  },
  {
   "cell_type": "code",
   "execution_count": 3,
   "metadata": {},
   "outputs": [
    {
     "name": "stdout",
     "output_type": "stream",
     "text": [
      "함수 내부에서 출력:  [1, 2, 3, 4]\n",
      "함수 외부에서 출력:  [10, 20, 30]\n",
      "함수 내부에서 출력:  [10, 20, 30, [1, 2, 3, 4]]\n",
      "함수 외부에서 출력:  [10, 20, 30, [1, 2, 3, 4]]\n"
     ]
    }
   ],
   "source": [
    "def changeme(mylist): # mylist = mylist 주소\n",
    "    mylist = [1,2,3,4] # 대입이 벌어지면 call by value\n",
    "    print(\"함수 내부에서 출력: \", mylist)\n",
    "    return\n",
    "mylist = [10,20,30] # heap에 저장, 이유: 주소 값이 넘어갔기 때문에 call by reference\n",
    "changeme(mylist)\n",
    "print('함수 외부에서 출력: ', mylist)\n",
    "\n",
    "def changeme(mylist): # mylist = mylist 주소\n",
    "    mylist.append([1,2,3,4]);\n",
    "    print(\"함수 내부에서 출력: \", mylist)\n",
    "    return\n",
    "mylist = [10,20,30] # heap에 저장, 이유: 주소 값이 넘어갔기 때문에 call by reference\n",
    "changeme(mylist)\n",
    "print('함수 외부에서 출력: ', mylist)\n"
   ]
  },
  {
   "cell_type": "code",
   "execution_count": 52,
   "metadata": {},
   "outputs": [
    {
     "ename": "AttributeError",
     "evalue": "'set' object has no attribute 'append'",
     "output_type": "error",
     "traceback": [
      "\u001b[1;31m---------------------------------------------------------------------------\u001b[0m",
      "\u001b[1;31mAttributeError\u001b[0m                            Traceback (most recent call last)",
      "\u001b[1;32m<ipython-input-52-f85827b49221>\u001b[0m in \u001b[0;36m<module>\u001b[1;34m\u001b[0m\n\u001b[0;32m      1\u001b[0m \u001b[1;31m# 실행이 안되는 이유: 데이터타입을 구분해야 하는 것은 프로그래머의 책임!\u001b[0m\u001b[1;33m\u001b[0m\u001b[1;33m\u001b[0m\u001b[1;33m\u001b[0m\u001b[0m\n\u001b[0;32m      2\u001b[0m \u001b[0mmylist\u001b[0m \u001b[1;33m=\u001b[0m \u001b[1;33m{\u001b[0m\u001b[1;36m10\u001b[0m\u001b[1;33m,\u001b[0m\u001b[1;36m20\u001b[0m\u001b[1;33m,\u001b[0m\u001b[1;36m30\u001b[0m\u001b[1;33m}\u001b[0m\u001b[1;33m;\u001b[0m\u001b[1;33m\u001b[0m\u001b[1;33m\u001b[0m\u001b[0m\n\u001b[1;32m----> 3\u001b[1;33m \u001b[0mchangeme\u001b[0m\u001b[1;33m(\u001b[0m\u001b[0mmylist\u001b[0m\u001b[1;33m)\u001b[0m\u001b[1;33m;\u001b[0m\u001b[1;33m\u001b[0m\u001b[1;33m\u001b[0m\u001b[0m\n\u001b[0m\u001b[0;32m      4\u001b[0m \u001b[0mprint\u001b[0m\u001b[1;33m(\u001b[0m\u001b[1;34m'함수 외부에서 출력: '\u001b[0m\u001b[1;33m,\u001b[0m \u001b[0mmylist\u001b[0m\u001b[1;33m)\u001b[0m\u001b[1;33m\u001b[0m\u001b[1;33m\u001b[0m\u001b[0m\n",
      "\u001b[1;32m<ipython-input-50-acd7e9b8bfc2>\u001b[0m in \u001b[0;36mchangeme\u001b[1;34m(mylist)\u001b[0m\n\u001b[0;32m      8\u001b[0m \u001b[1;33m\u001b[0m\u001b[0m\n\u001b[0;32m      9\u001b[0m \u001b[1;32mdef\u001b[0m \u001b[0mchangeme\u001b[0m\u001b[1;33m(\u001b[0m\u001b[0mmylist\u001b[0m\u001b[1;33m)\u001b[0m\u001b[1;33m:\u001b[0m \u001b[1;31m# mylist = mylist 주소\u001b[0m\u001b[1;33m\u001b[0m\u001b[1;33m\u001b[0m\u001b[0m\n\u001b[1;32m---> 10\u001b[1;33m     \u001b[0mmylist\u001b[0m\u001b[1;33m.\u001b[0m\u001b[0mappend\u001b[0m\u001b[1;33m(\u001b[0m\u001b[1;33m[\u001b[0m\u001b[1;36m1\u001b[0m\u001b[1;33m,\u001b[0m\u001b[1;36m2\u001b[0m\u001b[1;33m,\u001b[0m\u001b[1;36m3\u001b[0m\u001b[1;33m,\u001b[0m\u001b[1;36m4\u001b[0m\u001b[1;33m]\u001b[0m\u001b[1;33m)\u001b[0m\u001b[1;33m;\u001b[0m\u001b[1;33m\u001b[0m\u001b[1;33m\u001b[0m\u001b[0m\n\u001b[0m\u001b[0;32m     11\u001b[0m     \u001b[0mprint\u001b[0m\u001b[1;33m(\u001b[0m\u001b[1;34m\"함수 내부에서 출력: \"\u001b[0m\u001b[1;33m,\u001b[0m \u001b[0mmylist\u001b[0m\u001b[1;33m)\u001b[0m\u001b[1;33m\u001b[0m\u001b[1;33m\u001b[0m\u001b[0m\n\u001b[0;32m     12\u001b[0m     \u001b[1;32mreturn\u001b[0m\u001b[1;33m\u001b[0m\u001b[1;33m\u001b[0m\u001b[0m\n",
      "\u001b[1;31mAttributeError\u001b[0m: 'set' object has no attribute 'append'"
     ]
    }
   ],
   "source": [
    "# 실행이 안되는 이유: 데이터타입을 구분해야 하는 것은 프로그래머의 책임!\n",
    "mylist = {10,20,30};\n",
    "changeme(mylist);\n",
    "print('함수 외부에서 출력: ', mylist)"
   ]
  },
  {
   "cell_type": "code",
   "execution_count": 54,
   "metadata": {},
   "outputs": [
    {
     "name": "stdout",
     "output_type": "stream",
     "text": [
      "시작\n",
      "2,4,6,\n",
      "2,4,6,8,10,\n"
     ]
    }
   ],
   "source": [
    "# 변동 매개변수: \n",
    "def func1(*args): # list\n",
    "    for i in args:\n",
    "        print(i*2, end=',')\n",
    "    print()\n",
    "print('시작')\n",
    "func1(1,2,3)\n",
    "func1(1,2,3,4,5)"
   ]
  },
  {
   "cell_type": "code",
   "execution_count": 59,
   "metadata": {},
   "outputs": [
    {
     "name": "stdout",
     "output_type": "stream",
     "text": [
      "args is  (1, 2)\n",
      "kwargs is  {'z': 5.0}\n",
      "Hello Now I'm going to call <function g at 0x000001669BCD20D8> \n",
      "1\n",
      "2\n",
      "5.0\n"
     ]
    },
    {
     "data": {
      "text/plain": [
       "0.6"
      ]
     },
     "execution_count": 59,
     "metadata": {},
     "output_type": "execute_result"
    }
   ],
   "source": [
    "def say_hello_then_call(f, *args, **kwargs):\n",
    "    print('args is ', args)\n",
    "    print('kwargs is ', kwargs)\n",
    "    print(\"Hello Now I'm going to call %s \" %f) # 함수의 주소값이 출력됨\n",
    "    return f(*args, **kwargs)\n",
    "def g(x,y,z=1): # 디폴트 매개변수\n",
    "    print(x)\n",
    "    print(y)\n",
    "    print(z)\n",
    "    return(x+y) / z\n",
    "say_hello_then_call(g, 1,2, z= 5.)"
   ]
  },
  {
   "cell_type": "code",
   "execution_count": 61,
   "metadata": {},
   "outputs": [
    {
     "name": "stdout",
     "output_type": "stream",
     "text": [
      "1 0\n",
      "1 2\n",
      "1 2\n"
     ]
    }
   ],
   "source": [
    "def func_test2(a, b=0): # b는 디폴트를 0으로 지정\n",
    "    print(a,b)\n",
    "func_test2(1) # a=1, b=0\n",
    "func_test2(1,2)\n",
    "func_test2(b=2, a=1) # key 매개변수\n"
   ]
  },
  {
   "cell_type": "code",
   "execution_count": 64,
   "metadata": {},
   "outputs": [],
   "source": [
    "def func_test4(): # None 객체\n",
    "    pass # 몸통을 미지정"
   ]
  },
  {
   "cell_type": "code",
   "execution_count": 65,
   "metadata": {},
   "outputs": [
    {
     "data": {
      "text/plain": [
       "True"
      ]
     },
     "execution_count": 65,
     "metadata": {},
     "output_type": "execute_result"
    }
   ],
   "source": [
    "# 비교할때 숫자나 문자는 '==' 사용, 객체를 비교할 때는 'is' 사용\n",
    "result = func_test4()\n",
    "result is None"
   ]
  },
  {
   "cell_type": "code",
   "execution_count": 71,
   "metadata": {},
   "outputs": [
    {
     "data": {
      "text/plain": [
       "NoneType"
      ]
     },
     "execution_count": 71,
     "metadata": {},
     "output_type": "execute_result"
    }
   ],
   "source": [
    "result.__class__ # 멤버 변수, 시스템에서 생성한 변수"
   ]
  },
  {
   "cell_type": "code",
   "execution_count": 73,
   "metadata": {},
   "outputs": [
    {
     "data": {
      "text/plain": [
       "function"
      ]
     },
     "execution_count": 73,
     "metadata": {},
     "output_type": "execute_result"
    }
   ],
   "source": [
    "func_test4.__class__ # 함수도 객체다"
   ]
  },
  {
   "cell_type": "code",
   "execution_count": 74,
   "metadata": {},
   "outputs": [
    {
     "name": "stdout",
     "output_type": "stream",
     "text": [
      "15 5 50\n",
      "<class 'function'>\n"
     ]
    }
   ],
   "source": [
    "def func_test3(a,b):\n",
    "    return a+b, a-b, a*b\n",
    "a,b,c = func_test3(10,5)\n",
    "print(a,b,c)\n",
    "print(type(func_test3)) # 함수도 객체다."
   ]
  },
  {
   "cell_type": "code",
   "execution_count": 75,
   "metadata": {},
   "outputs": [
    {
     "name": "stdout",
     "output_type": "stream",
     "text": [
      "15\n"
     ]
    }
   ],
   "source": [
    "# 커링\n",
    "def all_number(x,y):\n",
    "    return x+y\n",
    "add_five = lambda y: all_number(5,y) # 무명함수 => 유명함수\n",
    "print(add_five(10))"
   ]
  },
  {
   "cell_type": "code",
   "execution_count": 82,
   "metadata": {},
   "outputs": [
    {
     "name": "stdout",
     "output_type": "stream",
     "text": [
      "1.4142135623730951\n"
     ]
    }
   ],
   "source": [
    "# 문제: 두 점 사이의 거리값을 구하는 함수를 작성하시오\n",
    "import math\n",
    "def distance(x, y, z, a):\n",
    "    \"두 점 사이의 거리를 구하는 함수\"\n",
    "    return math.sqrt((x-z)**2 + (y-a)**2) # 피타고라스 정리\n",
    "print(distance(1,1,2,2))\n",
    "?distance # Docstring 확인"
   ]
  },
  {
   "cell_type": "code",
   "execution_count": 84,
   "metadata": {},
   "outputs": [
    {
     "data": {
      "text/plain": [
       "479001600"
      ]
     },
     "execution_count": 84,
     "metadata": {},
     "output_type": "execute_result"
    }
   ],
   "source": [
    "# 수학에서 factorial\n",
    "def factorial(n):\n",
    "    sum = 1 # 항등원. 덧셈의 항등원은 0, 곱셈의 항등원은 1, 행렬의 항등원은 단위행렬(대각선이 1)\n",
    "    for i in range(n, 1, -1):\n",
    "        sum *= i\n",
    "    return sum\n",
    "factorial(5)   "
   ]
  },
  {
   "cell_type": "code",
   "execution_count": 94,
   "metadata": {},
   "outputs": [
    {
     "data": {
      "text/plain": [
       "5040"
      ]
     },
     "execution_count": 94,
     "metadata": {},
     "output_type": "execute_result"
    }
   ],
   "source": [
    "# 재귀함수: 함수가 자기자신 함수를 호출\n",
    "def factorial(n, stop = 1):\n",
    "    if n <= stop or n <= 0 : # n <= stop 종료조건 # n <=0 곱셈이기 때문에 입력 제한\n",
    "        return 1\n",
    "    return n*factorial(n-1, stop)\n",
    "factorial(7)"
   ]
  },
  {
   "cell_type": "code",
   "execution_count": 100,
   "metadata": {},
   "outputs": [
    {
     "name": "stdout",
     "output_type": "stream",
     "text": [
      "8\n"
     ]
    }
   ],
   "source": [
    "# power 함수를 구현하시오(2^10) \n",
    "def power(r,n):\n",
    "    value = 1\n",
    "    for i in range(1, n+1):\n",
    "        value = r * value\n",
    "    return value\n",
    "print(power(2,3))"
   ]
  },
  {
   "cell_type": "code",
   "execution_count": 103,
   "metadata": {},
   "outputs": [
    {
     "data": {
      "text/plain": [
       "0.25"
      ]
     },
     "execution_count": 103,
     "metadata": {},
     "output_type": "execute_result"
    }
   ],
   "source": [
    "# power 함수를 구현하시오(2^10) # power(2,10 => 재귀호출 방식으로)\n",
    "def power2(r,n):\n",
    "    if n <= 1:\n",
    "        return 1\n",
    "    return r*power2(r, n-1)\n",
    "power(0.5,2)"
   ]
  },
  {
   "cell_type": "code",
   "execution_count": 7,
   "metadata": {},
   "outputs": [
    {
     "name": "stdout",
     "output_type": "stream",
     "text": [
      "global inner\n",
      "global inner\n"
     ]
    }
   ],
   "source": [
    "# 내부 함수\n",
    "def outer():\n",
    "    \n",
    "    def inner():\n",
    "        print('inner')\n",
    "        \n",
    "    inner()\n",
    "    \n",
    "def inner():\n",
    "    print('global inner')\n",
    "    \n",
    "outer()\n",
    "inner()"
   ]
  },
  {
   "cell_type": "code",
   "execution_count": 129,
   "metadata": {},
   "outputs": [
    {
     "name": "stdout",
     "output_type": "stream",
     "text": [
      "0.07059115376670555\n",
      "0.04129844773134295\n",
      "0.6028165925175932\n",
      "0.8598682900949667\n",
      "0.44975039361981084\n",
      "<generator object gaus_dist at 0x000001669BD357C8>\n"
     ]
    }
   ],
   "source": [
    "# generator\n",
    "# for in: Collections(list, tuple, dict, set), Iterator(ranges), Generator, Enumerate\n",
    "import random\n",
    "def gaus_dist(n):\n",
    "    while n > 0:\n",
    "        yield random.random() # yield: 비동기 호출 함수 0~1\n",
    "        n -= 1\n",
    "gd = gaus_dist(5)\n",
    "for i in gd:\n",
    "    print(i)"
   ]
  },
  {
   "cell_type": "code",
   "execution_count": 117,
   "metadata": {},
   "outputs": [
    {
     "name": "stdout",
     "output_type": "stream",
     "text": [
      "0.04489447274023883\n"
     ]
    }
   ],
   "source": [
    "print(random.random())"
   ]
  },
  {
   "cell_type": "code",
   "execution_count": 128,
   "metadata": {},
   "outputs": [
    {
     "name": "stdout",
     "output_type": "stream",
     "text": [
      "0.2432312411855272\n",
      "0.2286841651143091\n",
      "0.26426607447316386\n",
      "0.09892710457249487\n",
      "0.28882985937958283\n"
     ]
    }
   ],
   "source": [
    "import random\n",
    "def gaus_dist(n):\n",
    "    while n > 0:\n",
    "        print(random.random()) # yield: 비동기 호출 함수 0~1\n",
    "        n -= 1\n",
    "gaus_dist(5)\n"
   ]
  },
  {
   "cell_type": "code",
   "execution_count": 134,
   "metadata": {},
   "outputs": [
    {
     "name": "stdout",
     "output_type": "stream",
     "text": [
      "python's recipe no.1\n",
      "perl's recipe no.2\n"
     ]
    },
    {
     "data": {
      "text/plain": [
       "(1540212488520, 1540212489960)"
      ]
     },
     "execution_count": 134,
     "metadata": {},
     "output_type": "execute_result"
    }
   ],
   "source": [
    "# 함수가 값을 저장할 수 있는가? 지역변수라 저장이 불가\n",
    "# closure (자바 스크립트에서 사용하던 방식): 값을 저장하는 방법\n",
    "\n",
    "def cookbook(name):\n",
    "    def recipe(no):\n",
    "        print(\"%s's recipe no.%d\" % (name, no))\n",
    "    return recipe\n",
    "\n",
    "python_recipe = cookbook('python')\n",
    "perl_recipe = cookbook('perl')\n",
    "\n",
    "python_recipe(1)\n",
    "perl_recipe(2)\n",
    "\n",
    "id(python_recipe), id(perl_recipe)"
   ]
  },
  {
   "cell_type": "code",
   "execution_count": 137,
   "metadata": {},
   "outputs": [
    {
     "name": "stdout",
     "output_type": "stream",
     "text": [
      "         1.7560\n",
      "              2\n",
      "              1\n"
     ]
    }
   ],
   "source": [
    "# closure 클로저의 응용(장식자: decorator)\n",
    "def format_and_pad(template, space):\n",
    "    def formatter(x):\n",
    "        return(template%x).rjust(space)\n",
    "    return formatter\n",
    "\n",
    "fmt = format_and_pad('%.4f', 15)\n",
    "print(fmt(1.756))\n",
    "print(fmt2(2.222))\n",
    "fmt2 = format_and_pad('%d', 15)\n",
    "print(fmt2(1.756))\n"
   ]
  },
  {
   "cell_type": "code",
   "execution_count": 138,
   "metadata": {},
   "outputs": [
    {
     "name": "stdout",
     "output_type": "stream",
     "text": [
      "밑변 길이나 반지름 값5\n",
      "삼각형과 사각형의 높이 값3\n",
      "삼각형의 넓이는  7.5\n",
      "사각형의 넓이는  15\n",
      "원의 넓이는  78.53981633974483\n"
     ]
    }
   ],
   "source": [
    "# 데이터를 입력받아 삼각형의 넓이, 사각형의 넓이, 원의 넓이를 계산하는 함수를 작성해라\n",
    "import math\n",
    "\n",
    "def tri(mylist):\n",
    "    return mylist[0] * mylist[1] /2\n",
    "def sqr(mylist):\n",
    "    return mylist[0] * mylist[1]\n",
    "def cir(mylist):\n",
    "    return math.pi * (mylist[0] ** 2)\n",
    "mylist = []\n",
    "width = eval(input(\"밑변 길이나 반지름 값\"))\n",
    "height = eval(input(\"삼각형과 사각형의 높이 값\"))\n",
    "mylist.append(width)\n",
    "mylist.append(height)\n",
    "print(\"삼각형의 넓이는 \", tri(mylist))\n",
    "print(\"사각형의 넓이는 \", sqr(mylist))\n",
    "print(\"원의 넓이는 \", cir(mylist))\n",
    "\n"
   ]
  },
  {
   "cell_type": "code",
   "execution_count": 6,
   "metadata": {},
   "outputs": [
    {
     "name": "stdout",
     "output_type": "stream",
     "text": [
      "시급 입력:3000\n",
      "주간 근무 시간 입력:100\n",
      "390000.0\n"
     ]
    }
   ],
   "source": [
    "# 시간과 시간당 급여를 입력 받아 주급을 계산하는 프로그램을 작성해라: 40시간 넘으면 1.5배\n",
    "\n",
    "wage = int(input(\"시급 입력:\"))\n",
    "shift = int(input(\"주간 근무 시간 입력:\"))\n",
    "\n",
    "def income(wage, shift):\n",
    "    if shift > 40:\n",
    "        return (shift - 40) * wage * 1.5 + (40*wage)\n",
    "    else:\n",
    "        return wage * shift\n",
    "print(income(wage,shift))\n",
    "    "
   ]
  },
  {
   "cell_type": "code",
   "execution_count": 9,
   "metadata": {},
   "outputs": [
    {
     "name": "stdout",
     "output_type": "stream",
     "text": [
      "시간당 급여:500\n",
      "주간 총 근무시간:100\n",
      "주간 수입은: 65,000.00원\n",
      "65000.0\n"
     ]
    }
   ],
   "source": [
    "# 선생님 답안. 상수는 변수화 해야 나중에 수정하기 유리하다\n",
    "basictime = 40\n",
    "def pay(wage, hours):\n",
    "    if hours <= basictime:\n",
    "        amount = wage * hours\n",
    "    else:\n",
    "        amount = (wage * basictime) + ((1.5) * wage * (hours - basictime))\n",
    "    return amount\n",
    "hourlyWage = eval(input(\"시간당 급여:\"))\n",
    "hourlyWorked = eval(input(\"주간 총 근무시간:\"))\n",
    "earnings = pay(hourlyWage, hourlyWorked)\n",
    "print(\"주간 수입은: {0:,.2f}원\".format(earnings))"
   ]
  },
  {
   "cell_type": "code",
   "execution_count": null,
   "metadata": {},
   "outputs": [
    {
     "name": "stdout",
     "output_type": "stream",
     "text": [
      "입금액을 정해라100\n"
     ]
    }
   ],
   "source": [
    "# 이자율이 주어졌을 때 기간 거치 후의 총액과 이자수익을 출력하시오\n",
    "# 복리계산 = (원가1 + 이율 0.04) ** 거치년수 \n",
    "\n",
    "amount = int(input(\"입금액을 정해라\"))\n",
    "year = int(input(\"거치 년수를 정해라\"))\n",
    "inter_rate= 0.04\n",
    "def interest(amount, year):\n",
    "    result = round(((1+inter_rate)**year) * amount, 2)\n",
    "    return result\n",
    "print(\"최종금액은\", interest(amount, year),\"원 이며, 총 이자수익은\", interest(amount, year)-amount,\"원 입니다\")\n"
   ]
  },
  {
   "cell_type": "code",
   "execution_count": 6,
   "metadata": {},
   "outputs": [
    {
     "name": "stdout",
     "output_type": "stream",
     "text": [
      "입금액을 정해라100\n",
      "거치 년수를 정해라2\n",
      "최종금액은 108.16 원 이며, 총 이자수익은 8.16 원 입니다\n"
     ]
    }
   ],
   "source": [
    "inter_rate = 0.04\n",
    "# 나의 실패작\n",
    "def subscr():\n",
    "    amount = int(input(\"입금액을 정해라\"))\n",
    "    year = int(input(\"거치 년수를 정해라\"))\n",
    "    return (amount, year)\n",
    "def interest(money, time):\n",
    "    total = (1+inter_rate)**time * money\n",
    "    revenue = ((1+inter_rate)**time) * money - money\n",
    "    return (total, revenue)\n",
    "def final(tot, rev):\n",
    "    tot = round(tot, 2)\n",
    "    rev = round(rev, 2)\n",
    "    print(\"최종금액은\", tot,\"원 이며, 총 이자수익은\", rev,\"원 입니다\")\n",
    "def main():\n",
    "    amount, year = subscr()\n",
    "    bal, yearr = interest(amount, year)\n",
    "    final(bal, yearr)\n",
    "    \n",
    "main()"
   ]
  },
  {
   "cell_type": "code",
   "execution_count": null,
   "metadata": {},
   "outputs": [
    {
     "name": "stdout",
     "output_type": "stream",
     "text": [
      "예금액: 100\n",
      "기간: 2\n",
      "예금 총액: $108.16 이자총액: $8.16\n",
      "예금액: 100\n"
     ]
    }
   ],
   "source": [
    "# 정답\n",
    "inter_rate= 0.04\n",
    "def getInput():\n",
    "    principal = eval(input(\"예금액: \"))\n",
    "    numberOfYears = eval(input(\"기간: \"))\n",
    "    return(principal, numberOfYears)\n",
    "\n",
    "def balanceAndInterest(prin, numYears): # 처리\n",
    "    balance = prin * ((1+inter_rate) ** numYears) # 원금포함 이자 계산액\n",
    "    interestEarned = balance - prin    # 순수 이자액\n",
    "    return (balance, interestEarned)\n",
    "\n",
    "def displayOutput(bal, intEarned): # 출력\n",
    "    print(\"예금 총액: ${0:,.2f} 이자총액: ${1:,.2f}\".format(bal, intEarned))\n",
    "    \n",
    "def main(): # 이 함수는 굳이 안만들어도 되지만 만드는 습관을 들이는 것이 좋다.\n",
    "    principal, numberOfYears = getInput()\n",
    "    bal, intEarned = balanceAndInterest(principal, numberOfYears)\n",
    "    displayOutput(bal, intEarned)\n",
    "#    displayOutput(*(balanceAndInterest(*(getInput()))))\n",
    "'''    setted = getInput()\n",
    "    bal = balanceAndInterest(*setted)\n",
    "    displayOutput(*bal)\n",
    "'''    \n",
    "main()"
   ]
  },
  {
   "cell_type": "code",
   "execution_count": null,
   "metadata": {},
   "outputs": [],
   "source": [
    "# 함수화 프로그래밍 for + 함수를 적용\n",
    "lambda 함수를 이용한 처리가 많음\n"
   ]
  },
  {
   "cell_type": "code",
   "execution_count": 1,
   "metadata": {},
   "outputs": [
    {
     "data": {
      "text/plain": [
       "100"
      ]
     },
     "execution_count": 1,
     "metadata": {},
     "output_type": "execute_result"
    }
   ],
   "source": [
    "(lambda x: x*x)(10)"
   ]
  },
  {
   "cell_type": "code",
   "execution_count": 4,
   "metadata": {},
   "outputs": [
    {
     "name": "stdout",
     "output_type": "stream",
     "text": [
      "11\n"
     ]
    },
    {
     "data": {
      "text/plain": [
       "15"
      ]
     },
     "execution_count": 4,
     "metadata": {},
     "output_type": "execute_result"
    }
   ],
   "source": [
    "incr = lambda x, incr = 1: x+incr # 무명함수 -> 유명함수\n",
    "print(incr(10))\n",
    "incr(10,5)"
   ]
  },
  {
   "cell_type": "code",
   "execution_count": 8,
   "metadata": {},
   "outputs": [
    {
     "name": "stdout",
     "output_type": "stream",
     "text": [
      "['aaaa', 'foo', 'abab', 'bar', 'card']\n"
     ]
    }
   ],
   "source": [
    "###################################################################################################################################\n",
    "# 디폴트: key\n",
    "strings = ['foo', 'card', 'bar','aaaa','abab']\n",
    "strings.sort(key = lambda x: len(set(list(x)))) # 중복되지 않는 데이터 개수에 따라\n",
    "print(strings)\n",
    "###################################################################################################################################\n",
    "# 왜 x를 리스트 안의 단어로 인식할수 있는지?"
   ]
  },
  {
   "cell_type": "code",
   "execution_count": 10,
   "metadata": {},
   "outputs": [
    {
     "name": "stdout",
     "output_type": "stream",
     "text": [
      "<map object at 0x000001E6F3B51488>\n",
      "[9, 16]\n"
     ]
    }
   ],
   "source": [
    "# 맵함수는 디폴트가 없다\n",
    "m = map(lambda x: x*x, [3,4])\n",
    "print(m)\n",
    "print(list(m))"
   ]
  },
  {
   "cell_type": "code",
   "execution_count": 11,
   "metadata": {},
   "outputs": [
    {
     "data": {
      "text/plain": [
       "[0, 1, 4, 9, 16]"
      ]
     },
     "execution_count": 11,
     "metadata": {},
     "output_type": "execute_result"
    }
   ],
   "source": [
    "list(map(lambda x: x*x, range(5)))"
   ]
  },
  {
   "cell_type": "code",
   "execution_count": 12,
   "metadata": {},
   "outputs": [
    {
     "data": {
      "text/plain": [
       "[0, 1, 4, 9, 16]"
      ]
     },
     "execution_count": 12,
     "metadata": {},
     "output_type": "execute_result"
    }
   ],
   "source": [
    "# iterator 함수 적용\n",
    "sqr = lambda x: x*x\n",
    "list(map(sqr, range(5)))"
   ]
  },
  {
   "cell_type": "code",
   "execution_count": 13,
   "metadata": {},
   "outputs": [
    {
     "data": {
      "text/plain": [
       "[0, 1, 4, 9, 16]"
      ]
     },
     "execution_count": 13,
     "metadata": {},
     "output_type": "execute_result"
    }
   ],
   "source": [
    "def sqr2(x):\n",
    "    return x*x\n",
    "list(map(sqr2, range(5)))"
   ]
  },
  {
   "cell_type": "code",
   "execution_count": 19,
   "metadata": {},
   "outputs": [
    {
     "name": "stdout",
     "output_type": "stream",
     "text": [
      "[1210000, 1135000, 910000, 1360000, 2260000, 3010000]\n"
     ]
    }
   ],
   "source": [
    "# 다음 출근 시간 데이터에 대하여 기본금 10,000원, 시간당 7,500원의 급여를 계산하고 lambda함수와 map 함수를 이용하여 구하시오\n",
    "total_time = [160,150,120,180,300,400]\n",
    "a= list(map(lambda x: x * 7500 +10000, total_time))\n",
    "print(a)"
   ]
  },
  {
   "cell_type": "code",
   "execution_count": 20,
   "metadata": {},
   "outputs": [
    {
     "data": {
      "text/plain": [
       "[1, 3, 5, 7, 9]"
      ]
     },
     "execution_count": 20,
     "metadata": {},
     "output_type": "execute_result"
    }
   ],
   "source": [
    "def odd(p):\n",
    "    return [i for i in p if i%2] # 홀수\n",
    "odd(range(10))"
   ]
  },
  {
   "cell_type": "code",
   "execution_count": 20,
   "metadata": {},
   "outputs": [
    {
     "name": "stdout",
     "output_type": "stream",
     "text": [
      "[1, 3, 5, 7, 9, 11, 13, 15, 17, 19, 21, 23, 25, 27, 29, 31, 33, 35, 37, 39, 41, 43, 45, 47, 49, 51, 53, 55, 57, 59, 61, 63, 65, 67, 69, 71, 73, 75, 77, 79, 81, 83, 85, 87, 89, 91, 93, 95, 97, 99],\n",
      "[0, 2, 4, 6, 8, 10, 12, 14, 16, 18, 20, 22, 24, 26, 28, 30, 32, 34, 36, 38, 40, 42, 44, 46, 48, 50, 52, 54, 56, 58, 60, 62, 64, 66, 68, 70, 72, 74, 76, 78, 80, 82, 84, 86, 88, 90, 92, 94, 96, 98],"
     ]
    }
   ],
   "source": [
    "# 필터의 함수는 True/False를 리턴하는 함수여야 함\n",
    "def odd(k):\n",
    "    return k%2\n",
    "print(list(filter(odd,range(100))), end=',')\n",
    "\n",
    "print()\n",
    "def even(k):\n",
    "    return not(k%2)\n",
    "print(list(filter(even,range(100))), end=',')"
   ]
  },
  {
   "cell_type": "code",
   "execution_count": 31,
   "metadata": {},
   "outputs": [
    {
     "name": "stdout",
     "output_type": "stream",
     "text": [
      "[0, 3, 6, 9, 12, 15, 18, 21, 24, 27, 30, 33, 36, 39, 42, 45, 48, 51, 54, 57, 60, 63, 66, 69, 72, 75, 78, 81, 84, 87, 90, 93, 96, 99],"
     ]
    }
   ],
   "source": [
    "# 1부터 99 사이의 데이터 중 3으로 나누어 떨어지는 데이터를 filter를 이용해 구하시오\n",
    "def odd(k):\n",
    "    return k % 3 == 0\n",
    "print(list(filter(odd, range(100))), end = ',')"
   ]
  },
  {
   "cell_type": "code",
   "execution_count": 22,
   "metadata": {},
   "outputs": [
    {
     "data": {
      "text/plain": [
       "55"
      ]
     },
     "execution_count": 22,
     "metadata": {},
     "output_type": "execute_result"
    }
   ],
   "source": [
    "# reduce (분산 처리시 값을 계산할 때 사용)\n",
    "from functools import reduce\n",
    "reduce(lambda x, y: x+y, range(11)) # 이전에 계산된 값이 x로 가면서 누적됨"
   ]
  },
  {
   "cell_type": "code",
   "execution_count": 24,
   "metadata": {},
   "outputs": [
    {
     "data": {
      "text/plain": [
       "'edcba'"
      ]
     },
     "execution_count": 24,
     "metadata": {},
     "output_type": "execute_result"
    }
   ],
   "source": [
    "reduce(lambda x,y: y+x, 'abcde')"
   ]
  },
  {
   "cell_type": "code",
   "execution_count": 26,
   "metadata": {},
   "outputs": [
    {
     "data": {
      "text/plain": [
       "120"
      ]
     },
     "execution_count": 26,
     "metadata": {},
     "output_type": "execute_result"
    }
   ],
   "source": [
    "# 팩토리얼\n",
    "reduce(lambda x,y: y*x, range(1,6))"
   ]
  },
  {
   "cell_type": "code",
   "execution_count": 46,
   "metadata": {},
   "outputs": [
    {
     "data": {
      "text/plain": [
       "100"
      ]
     },
     "execution_count": 46,
     "metadata": {},
     "output_type": "execute_result"
    }
   ],
   "source": [
    "# 함수 배열\n",
    "func_choice = [lambda x, y: x**2, lambda x, y : x/y]\n",
    "func_choice[0](10,2)\n",
    "func_choice[1](10,2)"
   ]
  },
  {
   "cell_type": "code",
   "execution_count": 47,
   "metadata": {},
   "outputs": [
    {
     "name": "stdout",
     "output_type": "stream",
     "text": [
      "[5, 6, 7, 8],"
     ]
    }
   ],
   "source": [
    "# 다음 데이터에서 4보다 큰 수만 출력하도록 filtering 해라\n",
    "data= [1,2,3,4,5,6,7,8,3,4,2,1]\n",
    "def four(k):\n",
    "    return k > 4\n",
    "print(list(filter(four, data)), end = ',')"
   ]
  },
  {
   "cell_type": "code",
   "execution_count": 49,
   "metadata": {},
   "outputs": [
    {
     "name": "stdout",
     "output_type": "stream",
     "text": [
      "[5, 6, 7, 8]\n"
     ]
    }
   ],
   "source": [
    "fill = list(filter(lambda x: x>4, data))\n",
    "print(fill)"
   ]
  },
  {
   "cell_type": "code",
   "execution_count": 58,
   "metadata": {},
   "outputs": [
    {
     "name": "stdout",
     "output_type": "stream",
     "text": [
      "숫자 입력:1\n",
      "행복\n"
     ]
    }
   ],
   "source": [
    "#################################################################################################################################\n",
    "#숫자를 입력 받아서 홀수인 경우는 '나는 행복합니다' 라고 출력하고, 짝수인 경우는 '나는 귀중한 사람이다'라고 출력하는 함수 선택을 구현해라\n",
    "\n",
    "choic = [lambda: print(\"귀중\"), lambda: print(\"행복\")]\n",
    "chon = int(input(\"숫자 입력:\"))\n",
    "chon %=2\n",
    "choic[chon]()\n",
    "#################################################################################################################################"
   ]
  },
  {
   "cell_type": "code",
   "execution_count": null,
   "metadata": {},
   "outputs": [
    {
     "name": "stdout",
     "output_type": "stream",
     "text": [
      "이름을 입력해라: 펭수\n",
      "국어 점수: 10\n",
      "영어 점수: 20\n",
      "수학 점수: 30\n",
      "총점: 60 , 평균 20.0\n"
     ]
    }
   ],
   "source": [
    "# 성적 프로그램을 입력,처리,출력함수를 이용해서 구현하시오\n",
    "# 이름, 국어, 영어, 수학, 총점, 평균\n",
    "sungjuk = []\n",
    "def getInput():\n",
    "    name = input(\"이름을 입력해라: \")\n",
    "    korean = eval(input(\"국어 점수: \"))\n",
    "    english = eval(input(\"영어 점수: \"))\n",
    "    math = eval(input(\"수학 점수: \"))\n",
    "    sungjuk.append(name)\n",
    "    sungjuk.append(korean)\n",
    "    sungjuk.append(english)\n",
    "    sungjuk.append(math)\n",
    "    return(sungjuk)\n",
    "\n",
    "def calcul(result): # 처리\n",
    "    total = (result[1] + result[2] + result[3])\n",
    "    avg = total / 3\n",
    "    sungjuk.append(total)\n",
    "    sungjuk.append(avg)\n",
    "    return (result)\n",
    "\n",
    "def displayOutput(result): # 출력\n",
    "    print(\"총점:\",result[4], \", 평균\", result[5])\n",
    "    \n",
    "def main(): # 이 함수는 굳이 안만들어도 되지만 만드는 습관을 들이는 것이 좋다.\n",
    "    result = getInput()\n",
    "    result = calcul(result)\n",
    "    displayOutput(result)\n",
    "    displayOutput(*(calcul(*(getInput()))))\n",
    "main()\n"
   ]
  },
  {
   "cell_type": "code",
   "execution_count": null,
   "metadata": {},
   "outputs": [],
   "source": []
  },
  {
   "cell_type": "code",
   "execution_count": null,
   "metadata": {},
   "outputs": [],
   "source": []
  }
 ],
 "metadata": {
  "kernelspec": {
   "display_name": "Python 3",
   "language": "python",
   "name": "python3"
  },
  "language_info": {
   "codemirror_mode": {
    "name": "ipython",
    "version": 3
   },
   "file_extension": ".py",
   "mimetype": "text/x-python",
   "name": "python",
   "nbconvert_exporter": "python",
   "pygments_lexer": "ipython3",
   "version": "3.7.4"
  }
 },
 "nbformat": 4,
 "nbformat_minor": 2
}
