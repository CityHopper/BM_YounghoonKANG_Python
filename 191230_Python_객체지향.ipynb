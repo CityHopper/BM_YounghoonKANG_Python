{
 "cells": [
  {
   "cell_type": "code",
   "execution_count": null,
   "metadata": {},
   "outputs": [],
   "source": [
    "# 객체 지향 프로그래밍 - class(꼴) => (instance: 메모리 확보) object (객체)\n",
    "- class: 멤버 변수(속성) + 멤버 함수(공유되어짐)\n",
    "- 인스턴스할 때 멤버 변수(속성)를 저장하는 공간만 확보"
   ]
  },
  {
   "cell_type": "code",
   "execution_count": null,
   "metadata": {},
   "outputs": [],
   "source": [
    "width = 10\n",
    "height = 20\n",
    "area = 10 * 20 / 2\n",
    "print(\"삼각형의 넓이는\", area)"
   ]
  },
  {
   "cell_type": "code",
   "execution_count": null,
   "metadata": {},
   "outputs": [],
   "source": [
    "class Triangle:\n",
    "    def setData(self, width, height): # 함수를 이용한 초기화\n",
    "        self.width = width\n",
    "        self.height = height\n",
    "    def area(self): # 매개변수 취급은 안함\n",
    "        return self.width*self.height/2\n",
    "tri1 = Triangle() # 를 인스턴스한다라고 함\n",
    "tri1.setData(10,20)\n",
    "print(tri1.width, tri1.height, tri1.area())"
   ]
  },
  {
   "cell_type": "code",
   "execution_count": null,
   "metadata": {},
   "outputs": [],
   "source": [
    "# __init__ object에 있는 함수 (상속: 클래스를 생성하면 자동으로 상속)\n",
    "class Triangle:\n",
    "    def __init__(self, width, height): # 초기화 함수, 생성자, 강제로 호출할 수 없는 함수 ex)tri1.__init__(10,20) 처럼 안됨\n",
    "        self.width = width\n",
    "        self.height = height\n",
    "    def area(self): \n",
    "        return self.width*self.height/2\n",
    "tri1 = Triangle(10,20) \n",
    "print(tri1.width, tri1.height, tri1.area())"
   ]
  },
  {
   "cell_type": "code",
   "execution_count": null,
   "metadata": {},
   "outputs": [],
   "source": [
    "# 클래스변수, 멤버변수, 지역변수\n",
    "class MyClass(object): # 선언하는 순간에 메모리에 자리를 잡음. '(object)' 생략 가능\n",
    "    \"\"\"클래스의 예\"\"\"\n",
    "    i = 12345 # 클래스변수, 공용변수. 함수 외부에서 선언됨\n",
    "    def __init__(self):\n",
    "        self.i = 54321 # self.가 붙으면 멤버변수\n",
    "        num = 100 # self.가 붙지 않고 함수 안에 있으면 지역변수\n",
    "    def f(self):\n",
    "        return self.i\n",
    "MyClass.__doc__ # Object의 속성"
   ]
  },
  {
   "cell_type": "code",
   "execution_count": null,
   "metadata": {},
   "outputs": [],
   "source": [
    "print(MyClass.i) # 클래스변수는 인스턴스 하지 않고도 호출 가능"
   ]
  },
  {
   "cell_type": "code",
   "execution_count": null,
   "metadata": {},
   "outputs": [],
   "source": [
    "myclass = MyClass() # self.i 에 대한 메모리 확보 (인스턴스)\n",
    "print(myclass.i) # 멤버변수 호출\n",
    "myclass.f()"
   ]
  },
  {
   "cell_type": "code",
   "execution_count": null,
   "metadata": {},
   "outputs": [],
   "source": [
    "print(MyClass.i)\n",
    "print(MyClass().i) # 참조하는게 없기 때문에 사용과 동시에 메모리에서 사라짐 (인스턴스)"
   ]
  },
  {
   "cell_type": "code",
   "execution_count": null,
   "metadata": {},
   "outputs": [],
   "source": [
    "from time import time, ctime, sleep # 시간은 초로 관리 'c'time(문자열로 convert)\n",
    "class Life:\n",
    "    def __init__(self): # 생성자\n",
    "        self.birth = ctime() # 현재의 시간을 문자열로 변환\n",
    "        print('생성', self.birth)\n",
    "    def __del__(self): # 소멸자 (메모리에서 사라질 때 자동으로 호출)\n",
    "        print('사망', ctime())\n",
    "    def test(self): # \n",
    "        # mylife = Life()\n",
    "        print('Sleeping for 5s')\n",
    "        sleep(5) # 초\n",
    "li = Life() # 오른쪽은 heap에 저장됨, 왼쪽은 그 주소를 가리키는 stack에 생성\n",
    "li.test()\n",
    "del li # 자동으로 가비지 컬렉션 됨"
   ]
  },
  {
   "cell_type": "code",
   "execution_count": null,
   "metadata": {},
   "outputs": [],
   "source": [
    "# 사원 관리\n",
    "class Employee:\n",
    "    empCount = 0 # 사원수를 저장: 클래스 변수 생성\n",
    "    def __init__(self, name, salary):\n",
    "        self.name = name # 이름\n",
    "        self.salary = salary # 급여\n",
    "        Employee.empCount += 1\n",
    "    def displayCount(self):\n",
    "        print(\"직원 수 = %d\" % Employee.empCount)\n",
    "    def displayEmployee(self):\n",
    "        print(\"이름: \", self.name, \", 급여: \", self.salary)\n",
    "    def __call__(self, *pargs, **kargs):\n",
    "        print('Called: ', pargs, kargs)\n",
    "        "
   ]
  },
  {
   "cell_type": "code",
   "execution_count": null,
   "metadata": {},
   "outputs": [],
   "source": [
    "emp = Employee(\"김종호\", 500)\n",
    "print(emp.displayCount()) # 1\n",
    "emp1 = Employee(\"빅데이터\", 500)\n",
    "print(emp1.displayCount()) # 2\n",
    "print(emp.displayCount()) # 2 공유 변수이기 때문\n",
    "print(emp.displayEmployee()) # 데이터를 담고 있는 위치가 다르기 때문\n",
    "print(emp1.displayEmployee())\n",
    "print(emp(\"빅데이터\", 500,100,c=100)) # 클래스를 함수처럼 사용하고 싶을 때 __call__을 오버라이딩"
   ]
  },
  {
   "cell_type": "code",
   "execution_count": null,
   "metadata": {},
   "outputs": [],
   "source": [
    "# 실시간으로 변수를 추가할 수 있다\n",
    "emp1.age = 7\n",
    "emp.age = 8"
   ]
  },
  {
   "cell_type": "code",
   "execution_count": null,
   "metadata": {},
   "outputs": [],
   "source": [
    "print(emp1.age)\n",
    "print(emp.age)"
   ]
  },
  {
   "cell_type": "code",
   "execution_count": null,
   "metadata": {},
   "outputs": [],
   "source": [
    "print(emp.__dict__) # object를 상속"
   ]
  },
  {
   "cell_type": "code",
   "execution_count": null,
   "metadata": {},
   "outputs": [],
   "source": [
    "print(Employee.empCount)"
   ]
  },
  {
   "cell_type": "code",
   "execution_count": null,
   "metadata": {},
   "outputs": [],
   "source": [
    "print(dir(emp))"
   ]
  },
  {
   "cell_type": "code",
   "execution_count": null,
   "metadata": {},
   "outputs": [],
   "source": [
    "# 이름과 나이를 저장하는 student class를 생성하시오\n",
    "# 이름과 나이를 출력하는 print 함수를 클래스 내에 정의하시오\n",
    "class Student:\n",
    "    stuCount = 0 # 사원수를 저장: 클래스 변수 생성\n",
    "    def __init__(self, name, age):\n",
    "        self.name = name # 이름\n",
    "        self.age = age\n",
    "        Student.stuCount += 1\n",
    "    def displayStudent(self):\n",
    "        print(\"이름: \", self.name, \", 나이: \", self.age)\n",
    "    def __repr__(self): # __str__ 오버라이딩 해놓은 경우\n",
    "        return \"나의 이름은 \" + self.name\n",
    "    def __call__(self, *pargs, **kargs):\n",
    "        print('Called: ', pargs, kargs)\n",
    "        "
   ]
  },
  {
   "cell_type": "code",
   "execution_count": null,
   "metadata": {},
   "outputs": [],
   "source": [
    "stu = Student(\"강영훈\", 35)\n",
    "stu.displayStudent()\n",
    "print(stu)\n",
    "stu.__call__()"
   ]
  },
  {
   "cell_type": "code",
   "execution_count": null,
   "metadata": {},
   "outputs": [],
   "source": [
    "# object로 상속\n",
    "print(stu.__class__) # 어떤 클래스에서 인스턴스 되었는지를 확인"
   ]
  },
  {
   "cell_type": "code",
   "execution_count": null,
   "metadata": {},
   "outputs": [],
   "source": [
    "# Student(\"김종호\", 34)와 같은 효과\n",
    "g = stu.__class__(\"김종호\", 34) # 인스턴스된 변수로 부터 클래스 생성\n",
    "print(g)"
   ]
  },
  {
   "cell_type": "code",
   "execution_count": null,
   "metadata": {},
   "outputs": [],
   "source": [
    "import math\n",
    "x1 = 10; y1 = 20\n",
    "x2 = 20; y2 = 30\n",
    "distance = math.sqrt((x1-x2)**2 + (y1-y2)**2)\n",
    "print(distance)\n",
    "# 1개를 다루는 클래스를 작성하고 있지만 거리값은 두 개를 이용\n",
    "class Point:\n",
    "    def __init__(self, x, y): # 생성자\n",
    "        self.x = x\n",
    "        self.y = y\n",
    "    def __str__(self): # __repr__ 과 같다. 문자열을 요구하는 함수에 들어가면\n",
    "        return \"좌표는 (%d, %d)\" %(self.x, self.y)\n",
    "    def dist(self, other):\n",
    "        distance = math.sqrt((self.x-other.x)**2+(self.y-other.y)**2)\n",
    "        return distance\n",
    "    def collision(self, other):\n",
    "        return self.dist(other) < 3\n"
   ]
  },
  {
   "cell_type": "code",
   "execution_count": null,
   "metadata": {},
   "outputs": [],
   "source": [
    "first = Point(7,3)\n",
    "second= Point(4,7)\n",
    "print(first)\n",
    "print(second)"
   ]
  },
  {
   "cell_type": "code",
   "execution_count": null,
   "metadata": {},
   "outputs": [],
   "source": [
    "print(\"두 점 사이의 거리는 =\", first.dist(second))\n",
    "if first.collision(second):\n",
    "    print(\"충돌했습니다\")\n",
    "else:\n",
    "    print(\"충돌하지 않았습니다\")"
   ]
  },
  {
   "cell_type": "code",
   "execution_count": null,
   "metadata": {},
   "outputs": [],
   "source": [
    "# Point 클래스를 이용하여 Circle 클래스를 정의하시오\n",
    "# - 원: 중심점, 반지름\n",
    "import math\n",
    "#center = Point()\n",
    "class Circle:\n",
    "    def __init__(self, center, radius):\n",
    "        self.center = center\n",
    "        self.radius = radius\n",
    "    def __repr__(self):\n",
    "        return \"원의 중심은\" + str(self.center) + \"반지름은\" + str(self.radius)\n",
    "    def collision(self,other):\n",
    "        if self.center.dist(other.center) < self.radius + other.radius:\n",
    "            result = \"충돌\"\n",
    "        else:\n",
    "            result = \"미충돌\"\n",
    "        return result\n"
   ]
  },
  {
   "cell_type": "code",
   "execution_count": null,
   "metadata": {},
   "outputs": [],
   "source": [
    "cir1 = Circle(first, 1) # 위에서 만든 포인트 사용\n",
    "cir2 = Circle(second, 5)\n",
    "print(cir1)\n",
    "print(cir2)\n",
    "print(cir1.collision(cir2))\n",
    "Circle.collision(cir1, cir2) # self"
   ]
  },
  {
   "cell_type": "code",
   "execution_count": null,
   "metadata": {},
   "outputs": [],
   "source": [
    "# Point를 이용해서 사각형 rectangle 클래스를 작성해라\n",
    "# - 사각형의 면적을 구하는 함수를 작성하시오\n",
    "# - 사각형의 둘레를 구하는 함수를 작성해라\n",
    "# - 대각선의 길이를 구하는 함수를 작성해라\n",
    "import math\n",
    "class Rectangle:\n",
    "    def __init__(self, pointa, pointb):\n",
    "        self.pointa = pointa\n",
    "        self.pointb = pointb\n",
    "    def __repr__(self):\n",
    "        return \"사각형 한 점은\" + str(self.pointa) + \"또다른 한점은\" + str(self.pointb)\n",
    "    def size(self):\n",
    "        line1 = abs(self.pointa.x - self.pointb.x)\n",
    "        line2 = abs(self.pointa.y - self.pointb.y)\n",
    "        return line1 * line2\n",
    "    def length(self):\n",
    "        line1 = abs(self.pointa.x - self.pointb.x) ########################################## 여기서 self.line1 가능?\n",
    "        line2 = abs(self.pointa.y - self.pointb.y)\n",
    "        return (line1+line2)*2\n",
    "    def diagonal(self):\n",
    "        return math.sqrt(abs(self.pointa.x - self.pointb.x)**2 + abs(self.pointa.y - self.pointb.y)**2)\n",
    "    \n",
    "aa = Rectangle(Point(4,5), Point(6,9))\n",
    "print(aa.size())\n",
    "print(aa.length())\n",
    "print(aa.diagonal())\n",
    "print(aa)"
   ]
  },
  {
   "cell_type": "code",
   "execution_count": null,
   "metadata": {},
   "outputs": [],
   "source": [
    "# 선생님 답\n",
    "import math\n",
    "class Rect:\n",
    "    def __init__(self, po1, po2): #po1 = Point() 매핑\n",
    "        self.po1 = po1\n",
    "        self.po2 = po2\n",
    "    def area(self):\n",
    "        result = abs((po1.x - po2.x)*(po1.y - po2.y))\n",
    "        return result\n",
    "    def perimeter(self):\n",
    "        abs(po1.x - po2.x)*2 + abs(po1.y - po2.y)*2\n",
    "    def diagnoal_dist(self):\n",
    "        result = math.sqrt( (po1.x-po2.x)**2 + (po1.y-po2.y)**2)"
   ]
  },
  {
   "cell_type": "code",
   "execution_count": null,
   "metadata": {},
   "outputs": [],
   "source": [
    "# Vector 클래스를 작성하시오\n",
    "# x,y의 2차원 벡터 구현\n",
    "# 벡터의 연산 (+,-,*,/): 요소별로 계산하면 됨\n",
    "# dot 함수를 구현해라: 벡터의 요소별로 곱하고 모두 더해주면 됨\n",
    "# cos 값으로 변환하는 함수를 구현하시오\n",
    "# cos theta = acos(A내적B / |A||B|)\n",
    "# |A| = math.sqrt(x^2 + y^2)\n",
    "\n",
    "# a = 10\n",
    "# b = 20\n",
    "# c = a+b\n",
    "################################################################################################# __는__ 무슨 의미\n",
    "class Vector:\n",
    "    def __init__(self, x, y):\n",
    "        self.x = x\n",
    "        self.y = y\n",
    "    def __repr__(self):\n",
    "        return \"좌표는 %d, %d\" %(self.x, self.y)\n",
    "    def __add__(self, other): # 연산자 오버로딩을 오버라이딩으로 구현한 것\n",
    "        return Vector(self.x + other.x, self.y+other.y)\n",
    "    def __mul__(self, other):\n",
    "        return Vector(self.x * other.x, self.y*other.y)\n",
    "    def __sub__(self, other):\n",
    "        return Vector(self.x - other.x, self.y-other.y)\n",
    "    def __truediv__(self, other): # div 2. 버전에서만 사용\n",
    "        return Vector(self.x / other.x, self.y/other.y)"
   ]
  },
  {
   "cell_type": "code",
   "execution_count": null,
   "metadata": {},
   "outputs": [],
   "source": [
    "f = Vector(10, 23)\n",
    "g = Vector(20, 27)\n",
    "print(f)\n",
    "print(f+g)\n",
    "print(f-g)\n",
    "print(f*g)\n",
    "print(f/g)"
   ]
  },
  {
   "cell_type": "code",
   "execution_count": null,
   "metadata": {},
   "outputs": [],
   "source": [
    "# 3차원 벡터를 클래스로 구현하시오( 연산자 오버로딩 +,-,*,/)\n",
    "import math\n",
    "class Vector3:\n",
    "    def __init__(self, x, y, z):\n",
    "        self.x = x\n",
    "        self.y = y\n",
    "        self.z = z\n",
    "    def __repr__(self):\n",
    "        return \"좌표는 %d, %d, %d\" %(self.x, self.y, self.z)\n",
    "    def __add__(self, other): # 연산자 오버로딩을 오버라이딩으로 구현한 것\n",
    "        return Vector3(self.x + other.x, self.y+other.y, self.z+other.z)\n",
    "    def __mul__(self, other):\n",
    "        return Vector3(self.x * other.x, self.y*other.y, self.z*other.z)\n",
    "    def __sub__(self, other):\n",
    "        return Vector3(self.x - other.x, self.y-other.y, self.z-other.z)\n",
    "    def __truediv__(self, other):\n",
    "        return Vector3(self.x / other.x, self.y/other.y, self.z/other.z)\n",
    "    def dist(self, other):\n",
    "        return math.sqrt(self.x*other.x + self.y*other.y + self.z*other.z)\n",
    "    def norm(self): # 정규화(normalization) 크기 값이 1인 사이즈로 변경(반지름이 1인 사이즈)\n",
    "        dist = self.dist()\n",
    "        return self.x/dist, self.y/dist, self.z/dist\n",
    "    def dot(self):\n",
    "        return (self.x * other.x + self.y*other.y + self.z*other.z)\n",
    "    def theta(self, other):\n",
    "        dot = self.dot(other)\n",
    "        dist1 = self.dist()\n",
    "        dist2 = other.dist() # radian => degree로 (컴퓨터는 라디안만 사용)\n",
    "        return math.acos(dot/dist1*dist2) * (180/math.pi) # 라디안 => 디그리로 변경\n",
    "# 변환과정이 필요 => 사람이 사용하는 각도 입력(90) => 라디안 변환(math.pi/180) => 계산 후 => 사람이 사용하는 degree로 변환해서 출력(180/math.pi)    "
   ]
  },
  {
   "cell_type": "code",
   "execution_count": null,
   "metadata": {},
   "outputs": [],
   "source": [
    "a = Vector3(10,20,30)\n",
    "b = Vector3(20,60,90)\n",
    "print(a)\n",
    "print(a-b)\n",
    "print(a/b)"
   ]
  },
  {
   "cell_type": "code",
   "execution_count": null,
   "metadata": {},
   "outputs": [],
   "source": [
    "f = Vector3(10,0,0)\n",
    "g = Vector3(0,27,0)\n",
    "print(f)\n",
    "print(f+f)\n",
    "print(f-g)\n",
    "print(f*g)\n",
    "print(\"f벡터의 크기 = \", f.dist())\n",
    "print(\"g벡터의 크기 = \", g.dist())\n",
    "print(\"f의 normal vector = \", f.norm()) # 1.0 0.0 0.0\n",
    "print(\"g의 normal vector = \", g.norm()) # 0.0 1.0 0.0\n",
    "print(\"두 벡터의 내적 = \", g.dot(f)) # 내적이 0이면 두 벡터는 90도 직교한다.\n",
    "print(\"f와 g의 사이각은 = \", f.theta(g))\n",
    "print(\"f와 g의 사이각은 = \", g.theta(f))"
   ]
  },
  {
   "cell_type": "code",
   "execution_count": null,
   "metadata": {},
   "outputs": [],
   "source": [
    "import copy\n",
    "a = [1,2,3]\n",
    "b = [4,5,a] # 주소 \n",
    "x = [a,b,100] \n",
    "y = copy.copy(x) # 주소값 복사\n",
    "t = copy.deepcopy(x) # 원래의 요소를 별도의 공간에 복사한 다음에 주소를 전달해줌\n",
    "e = copy.deepcopy(y)\n",
    "print(\"a=\", a)\n",
    "print(x)\n",
    "print(y)\n",
    "print(t)\n",
    "print(e)\n",
    "a.append(100)\n",
    "print(x)\n",
    "print(y)\n",
    "print(t)\n",
    "print(e)"
   ]
  },
  {
   "cell_type": "code",
   "execution_count": null,
   "metadata": {},
   "outputs": [],
   "source": [
    "# 이름, 국어, 수학, 영어를 관리하는 Student class를 작성하시오(1인분 관리)\n",
    "# 총점과 평균도 계산해서 멤버 변수에 저장\n",
    "\n",
    "class Students:\n",
    "    studCount = 0 # 사원수를 저장: 클래스 변수 생성\n",
    "    def __init__(self, name, kor, mat, eng):\n",
    "        self.name = name # 이름\n",
    "        self.kor = kor\n",
    "        self.mat = mat\n",
    "        self.eng = eng\n",
    "        self.tot = self.kor+self.mat+self.eng\n",
    "        self.avg = self.tot/3\n",
    "        Students.studCount +=1\n",
    "    def displayStudent(self):\n",
    "        print(\"이름: \", self.name, \", 국어: \", self.kor, \", 수학: \", self.mat, \", 영어: \", self.eng)\n",
    "        print(\"평균: \", self.avg, \", 총점: \", self.tot)"
   ]
  },
  {
   "cell_type": "code",
   "execution_count": 15,
   "metadata": {},
   "outputs": [
    {
     "name": "stdout",
     "output_type": "stream",
     "text": [
      "1.입력 2.출력 3.계산 4.종료 =>4\n"
     ]
    }
   ],
   "source": [
    "# 메뉴화\n",
    "def start():\n",
    "    students = []\n",
    "    while True:\n",
    "        choice = input(\"1.입력 2.출력 3.계산 4.종료 =>\")\n",
    "        if choice == '1':\n",
    "            name = input(\"이름:\")\n",
    "            kor = int(input(\"국어:\"))\n",
    "            mat = int(input(\"수학:\"))\n",
    "            eng = int(input(\"영어:\"))\n",
    "            stud = Students(name, kor, mat, eng) # 위의 클래스명과 이름 같아야 함\n",
    "            students.append(stud)\n",
    "        elif choice == '2':\n",
    "            for s in students:\n",
    "                print(\"이름:%s 국어:%s 수학:%s 영어:%s 총점:%s 평균:%s\" % (s.name, s.kor, s.mat, s.eng, s.tot, s.avg))\n",
    "        elif choice == '3': # 여러 학생들의 과목별 평균\n",
    "            kor_tot = 0; mat_tot = 0; eng_tot = 0\n",
    "            for s in students:\n",
    "                kor_tot += s.kor\n",
    "                mat_tot += s.tot\n",
    "                eng_tot += s.eng\n",
    "            kor_avg = round(kor_tot / len(students),2)\n",
    "            mat_avg = round(mat_tot / len(students),2)\n",
    "            eng_avg = round(eng_tot / len(students),2)\n",
    "            print(\"총 학생수: %s 명\" % len(students))\n",
    "            print(\"국어 평균: %s\\t\\t영어 평균: %s\\t\\t수학 평균: %s\\t\\t\" % (kor_avg, mat_avg, eng_avg))\n",
    "        elif choice == '4':\n",
    "            break\n",
    "start()"
   ]
  },
  {
   "cell_type": "code",
   "execution_count": null,
   "metadata": {},
   "outputs": [],
   "source": [
    "############################################################## 과제"
   ]
  },
  {
   "cell_type": "code",
   "execution_count": 36,
   "metadata": {},
   "outputs": [],
   "source": [
    "# 2개로 분리된 class\n",
    "# - 기본적인 데이터를 저장하는 클래스\n",
    "# - Management(입력, 출력, 검색, 수정 등)\n",
    "# - 메뉴 함수\n",
    "\n",
    "import sys\n",
    "class Student:\n",
    "    def __init__(self):\n",
    "        self.bunho = 0; self.name = ''; self.kor =0; self.mat=0; self.eng=0; self.total = 0; self.average=0; self.grade=''\n",
    "    def inputData(self):\n",
    "        self.name = input(\"이름을 입력하세요\")\n",
    "        self.kor = eval(input(\"국어 점수:\"))\n",
    "        self.mat = eval(input(\"수학 점수:\"))\n",
    "        self.eng = eval(input(\"영어 점수:\"))\n",
    "    def calc_total_average(self): # 수정도 염두에 두어서 별도의 함수화\n",
    "        self.total = self.kor + self.mat + self.eng\n",
    "        self.average = round(self.total/3, 2)\n",
    "        self.grade = self.calcSemGrade()\n",
    "    def calcSemGrade(self):\n",
    "        if self.average >= 90: return \"A\"\n",
    "        elif self.average >= 80: return \"B\"\n",
    "        elif self.average >= 70: return \"C\"\n",
    "        elif self.average >= 60: return \"D\"\n",
    "        else: return \"F\"\n",
    "    def __str__(self):\n",
    "        return \"%s\\t%s\\t%.2f\\t%.2f\\t%.2f\\t%.2f\\t%.2f\\t%s\" %(self.bunho, self.name, self.kor, self.mat, self.eng, self.total, self.average, self.grade)\n",
    "    def __cmp__(self, other): #compare, true/false로 결과 리턴\n",
    "        return self.name == other.name"
   ]
  },
  {
   "cell_type": "code",
   "execution_count": 37,
   "metadata": {},
   "outputs": [],
   "source": [
    "class Management:\n",
    "    schoolname = '제주 아카데미'\n",
    "    bunho = 0\n",
    "    def __init__(self, count):\n",
    "        print(\"메뉴를 선택하시오\")\n",
    "        self.sungjuk = []\n",
    "        self.count = count\n",
    "    def input(self): # 1\n",
    "        for co_in in range(self.count):\n",
    "            stu = Student()\n",
    "            stu.inputData()\n",
    "            Management.bunho += 1 # 번호를 자동으로 입력하기 위해\n",
    "            stu.bunho = Management.bunho\n",
    "            self.sungjuk.append(stu)\n",
    "    def print_sungjuk(self): # 2\n",
    "        for per in self.sungjuk:\n",
    "            print(per)\n",
    "            print()\n",
    "    def calc_sungjuk(self): # 3\n",
    "        for per in self.sungjuk:\n",
    "            per.calc_total_average()\n",
    "    def search_name(self): # 4\n",
    "        name = input(\"검색할 학생 이름을 추가하시오\")\n",
    "        for per in self.sungjuk:\n",
    "            if (per.name==name):\n",
    "                print(per)\n",
    "                return\n",
    "        print(\"검색하고자 하는 학생이 없습니다.\")\n",
    "        return\n",
    "    def remove_name(self): # 6\n",
    "        nametoremove = input(\"삭제할 이름을 적어라\")\n",
    "        for per in self.sungjuk:\n",
    "            if (per.name==nametoremove):\n",
    "                self.sungjuk.remove(per)\n",
    "                print(\"삭제 완료\")\n",
    "    def sorting_sungjuk(self):\n",
    "        self.sungjuk.sort(key=lambda x:x.total, reverse = True)\n",
    "        print('정렬 완료. 출력해보소')\n",
    "    def modify_name(self):\n",
    "        old_name = input(\"바꿀 대상의 이름을 적으시오\")\n",
    "        new_name = input(\"새 이름을 적으시오\")\n",
    "        for per in self.sungjuk:\n",
    "            if per.name == old_name:\n",
    "                per.name = new_name\n",
    "                print(\"변경 완료. 출력해보소\")\n",
    "            \n",
    "        "
   ]
  },
  {
   "cell_type": "code",
   "execution_count": 38,
   "metadata": {
    "scrolled": true
   },
   "outputs": [
    {
     "name": "stdout",
     "output_type": "stream",
     "text": [
      "메뉴를 선택하시오\n",
      "['입력(1), 출력(2), 계산(3), 검색(4), 이름수정(5), 이름삭제(6), 정렬(8), 종료(9)']1\n",
      "이름을 입력하세요eee\n",
      "국어 점수:64\n",
      "수학 점수:69\n",
      "영어 점수:90\n",
      "이름을 입력하세요gfh\n",
      "국어 점수:46\n",
      "수학 점수:41\n",
      "영어 점수:50\n",
      "이름을 입력하세요dgfdhdf\n",
      "국어 점수:99\n",
      "수학 점수:100\n",
      "영어 점수:38\n",
      "['입력(1), 출력(2), 계산(3), 검색(4), 이름수정(5), 이름삭제(6), 정렬(8), 종료(9)']3\n",
      "계산이 완료되었습니다. - 확인하려면 출력해보세용\n",
      "['입력(1), 출력(2), 계산(3), 검색(4), 이름수정(5), 이름삭제(6), 정렬(8), 종료(9)']2\n",
      "제주 아카데미성적계산표\n",
      "번호\t이름\t국어\t수학\t영어\t총점\t평균\t학점\n",
      "1\teee\t64.00\t69.00\t90.00\t223.00\t74.33\tC\n",
      "\n",
      "2\tgfh\t46.00\t41.00\t50.00\t137.00\t45.67\tF\n",
      "\n",
      "3\tdgfdhdf\t99.00\t100.00\t38.00\t237.00\t79.00\tC\n",
      "\n",
      "['입력(1), 출력(2), 계산(3), 검색(4), 이름수정(5), 이름삭제(6), 정렬(8), 종료(9)']5\n",
      "바꿀 대상의 이름을 적으시오eee\n",
      "새 이름을 적으시오love\n",
      "변경 완료. 출력해보소\n",
      "['입력(1), 출력(2), 계산(3), 검색(4), 이름수정(5), 이름삭제(6), 정렬(8), 종료(9)']2\n",
      "제주 아카데미성적계산표\n",
      "번호\t이름\t국어\t수학\t영어\t총점\t평균\t학점\n",
      "1\tlove\t64.00\t69.00\t90.00\t223.00\t74.33\tC\n",
      "\n",
      "2\tgfh\t46.00\t41.00\t50.00\t137.00\t45.67\tF\n",
      "\n",
      "3\tdgfdhdf\t99.00\t100.00\t38.00\t237.00\t79.00\tC\n",
      "\n",
      "['입력(1), 출력(2), 계산(3), 검색(4), 이름수정(5), 이름삭제(6), 정렬(8), 종료(9)']9\n"
     ]
    }
   ],
   "source": [
    "sj = [\"번호\",'이름','국어','수학','영어','총점','평균','학점']\n",
    "menu = ['입력(1), 출력(2), 계산(3), 검색(4), 이름수정(5), 이름삭제(6), 정렬(8), 종료(9)']\n",
    "man_sung = Management(3) ############ 3은 뭘 의미하나: for문 (입력)을 세번 돌린다. \n",
    "while 1:\n",
    "    sel = input(menu)\n",
    "    if sel == '1':\n",
    "        man_sung.input()\n",
    "        continue\n",
    "    elif sel =='2':\n",
    "        print(Management.schoolname +'성적계산표')\n",
    "        print(\"%s\\t%s\\t%s\\t%s\\t%s\\t%s\\t%s\\t%s\" %('번호','이름','국어','수학','영어','총점','평균','학점'))\n",
    "        man_sung.print_sungjuk()\n",
    "        continue\n",
    "    elif sel == '3':\n",
    "        man_sung.calc_sungjuk()\n",
    "        print(\"계산이 완료되었습니다. - 확인하려면 출력해보세용\")\n",
    "        continue\n",
    "    elif sel == '4':\n",
    "        man_sung.search_name()\n",
    "        continue\n",
    "    elif sel == '5': # 이름 수정\n",
    "        man_sung.modify_name()\n",
    "        continue\n",
    "    elif sel == '6': # 이름 삭제\n",
    "        man_sung.remove_name()\n",
    "        continue\n",
    "    elif sel == '7': # pass\n",
    "        pass\n",
    "    elif sel == '8': # 정렬\n",
    "        man_sung.sorting_sungjuk()\n",
    "        continue\n",
    "    elif sel == '9': # 종료\n",
    "        break\n",
    "    else:\n",
    "        print(\"잘못된 입력입니다. 다시 입력하시오\")\n",
    "        continue\n"
   ]
  }
 ],
 "metadata": {
  "kernelspec": {
   "display_name": "Python 3",
   "language": "python",
   "name": "python3"
  },
  "language_info": {
   "codemirror_mode": {
    "name": "ipython",
    "version": 3
   },
   "file_extension": ".py",
   "mimetype": "text/x-python",
   "name": "python",
   "nbconvert_exporter": "python",
   "pygments_lexer": "ipython3",
   "version": "3.7.4"
  }
 },
 "nbformat": 4,
 "nbformat_minor": 2
}
