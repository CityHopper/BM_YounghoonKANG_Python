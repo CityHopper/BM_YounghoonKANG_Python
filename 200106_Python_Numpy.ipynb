{
 "cells": [
  {
   "cell_type": "code",
   "execution_count": 1,
   "metadata": {},
   "outputs": [],
   "source": [
    "# flask\n",
    "import flask # 웹서버 기능 5000번 포트로 서비스"
   ]
  },
  {
   "cell_type": "code",
   "execution_count": 2,
   "metadata": {},
   "outputs": [
    {
     "name": "stdout",
     "output_type": "stream",
     "text": [
      "1.16.5\n",
      "type:<class 'numpy.ndarray'>\n",
      "shape:(3,), dimension:1, dtype:int32\n",
      "Array's Data: \n",
      " [1 2 3]\n"
     ]
    }
   ],
   "source": [
    "import matplotlib\n",
    "import numpy as np\n",
    "print(np.__version__) # 상위 오브젝트가 가진 속성\n",
    "def pprint(arr): # ndarray : numpy의 기본 데이터 배열\n",
    "    print(\"type:{}\".format(type(arr)))\n",
    "    print(\"shape:{}, dimension:{}, dtype:{}\".format(arr.shape, arr.ndim, arr.dtype)) # 요소수, 차원, 배열의 자료형\n",
    "    print(\"Array's Data: \\n\", arr)\n",
    "arr = [1.0, 2.0, 3.0]\n",
    "a = np.array([1,2,3]) #ndarray 생성 함수(매개변수: 리스트)\n",
    "pprint(a)"
   ]
  },
  {
   "cell_type": "code",
   "execution_count": 20,
   "metadata": {},
   "outputs": [
    {
     "name": "stdout",
     "output_type": "stream",
     "text": [
      "2542382309664\n",
      "10\n",
      "[0. 1. 2. 3. 4. 5. 6. 7. 8. 9.]\n",
      "40\n"
     ]
    },
    {
     "data": {
      "text/plain": [
       "array([  0,   1,   2,   3,   4,   5,   6,   7,   8,   9,  10,  11,  12,\n",
       "        13,  14,  15,  16,  17,  18,  19,  20,  21,  22,  23,  24,  25,\n",
       "        26,  27,  28,  29,  30,  31,  32,  33,  34,  35,  36,  37,  38,\n",
       "        39,  40,  41,  42,  43,  44,  45,  46,  47,  48,  49,  50,  51,\n",
       "        52,  53,  54,  55,  56,  57,  58,  59,  60,  61,  62,  63,  64,\n",
       "        65,  66,  67,  68,  69,  70,  71,  72,  73,  74,  75,  76,  77,\n",
       "        78,  79,  80,  81,  82,  83,  84,  85,  86,  87,  88,  89,  90,\n",
       "        91,  92,  93,  94,  95,  96,  97,  98,  99, 100, 101, 102, 103,\n",
       "       104, 105, 106, 107, 108, 109, 110, 111, 112, 113, 114, 115, 116,\n",
       "       117, 118, 119, 120, 121, 122, 123, 124, 125, 126, 127, 128, 129,\n",
       "       130, 131, 132, 133, 134, 135, 136, 137, 138, 139, 140, 141, 142,\n",
       "       143, 144, 145, 146, 147, 148, 149, 150, 151, 152, 153, 154, 155,\n",
       "       156, 157, 158, 159, 160, 161, 162, 163, 164, 165, 166, 167, 168,\n",
       "       169, 170, 171, 172, 173, 174, 175, 176, 177, 178, 179, 180, 181,\n",
       "       182, 183, 184, 185, 186, 187, 188, 189, 190, 191, 192, 193, 194,\n",
       "       195, 196, 197, 198, 199, 200, 201, 202, 203, 204, 205, 206, 207,\n",
       "       208, 209, 210, 211, 212, 213, 214, 215, 216, 217, 218, 219, 220,\n",
       "       221, 222, 223, 224, 225, 226, 227, 228, 229, 230, 231, 232, 233,\n",
       "       234, 235, 236, 237, 238, 239, 240, 241, 242, 243, 244, 245, 246,\n",
       "       247, 248, 249, 250, 251, 252, 253, 254, 255, 256, 257, 258, 259,\n",
       "       260, 261, 262, 263, 264, 265, 266, 267, 268, 269, 270, 271, 272,\n",
       "       273, 274, 275, 276, 277, 278, 279, 280, 281, 282, 283, 284, 285,\n",
       "       286, 287, 288, 289, 290, 291, 292, 293, 294, 295, 296, 297, 298,\n",
       "       299, 300, 301, 302, 303, 304, 305, 306, 307, 308, 309, 310, 311,\n",
       "       312, 313, 314, 315, 316, 317, 318, 319, 320, 321, 322, 323, 324,\n",
       "       325, 326, 327, 328, 329, 330, 331, 332, 333, 334, 335, 336, 337,\n",
       "       338, 339, 340, 341, 342, 343, 344, 345, 346, 347, 348, 349, 350,\n",
       "       351, 352, 353, 354, 355, 356, 357, 358, 359, 360, 361, 362, 363,\n",
       "       364, 365, 366, 367, 368, 369, 370, 371, 372, 373, 374, 375, 376,\n",
       "       377, 378, 379, 380, 381, 382, 383, 384, 385, 386, 387, 388, 389,\n",
       "       390, 391, 392, 393, 394, 395, 396, 397, 398, 399, 400, 401, 402,\n",
       "       403, 404, 405, 406, 407, 408, 409, 410, 411, 412, 413, 414, 415,\n",
       "       416, 417, 418, 419, 420, 421, 422, 423, 424, 425, 426, 427, 428,\n",
       "       429, 430, 431, 432, 433, 434, 435, 436, 437, 438, 439, 440, 441,\n",
       "       442, 443, 444, 445, 446, 447, 448, 449, 450, 451, 452, 453, 454,\n",
       "       455, 456, 457, 458, 459, 460, 461, 462, 463, 464, 465, 466, 467,\n",
       "       468, 469, 470, 471, 472, 473, 474, 475, 476, 477, 478, 479, 480,\n",
       "       481, 482, 483, 484, 485, 486, 487, 488, 489, 490, 491, 492, 493,\n",
       "       494, 495, 496, 497, 498, 499, 500, 501, 502, 503, 504, 505, 506,\n",
       "       507, 508, 509, 510, 511, 512, 513, 514, 515, 516, 517, 518, 519,\n",
       "       520, 521, 522, 523, 524, 525, 526, 527, 528, 529, 530, 531, 532,\n",
       "       533, 534, 535, 536, 537, 538, 539, 540, 541, 542, 543, 544, 545,\n",
       "       546, 547, 548, 549, 550, 551, 552, 553, 554, 555, 556, 557, 558,\n",
       "       559, 560, 561, 562, 563, 564, 565, 566, 567, 568, 569, 570, 571,\n",
       "       572, 573, 574, 575, 576, 577, 578, 579, 580, 581, 582, 583, 584,\n",
       "       585, 586, 587, 588, 589, 590, 591, 592, 593, 594, 595, 596, 597,\n",
       "       598, 599, 600, 601, 602, 603, 604, 605, 606, 607, 608, 609, 610,\n",
       "       611, 612, 613, 614, 615, 616, 617, 618, 619, 620, 621, 622, 623,\n",
       "       624, 625, 626, 627, 628, 629, 630, 631, 632, 633, 634, 635, 636,\n",
       "       637, 638, 639, 640, 641, 642, 643, 644, 645, 646, 647, 648, 649,\n",
       "       650, 651, 652, 653, 654, 655, 656, 657, 658, 659, 660, 661, 662,\n",
       "       663, 664, 665, 666, 667, 668, 669, 670, 671, 672, 673, 674, 675,\n",
       "       676, 677, 678, 679, 680, 681, 682, 683, 684, 685, 686, 687, 688,\n",
       "       689, 690, 691, 692, 693, 694, 695, 696, 697, 698, 699, 700, 701,\n",
       "       702, 703, 704, 705, 706, 707, 708, 709, 710, 711, 712, 713, 714,\n",
       "       715, 716, 717, 718, 719, 720, 721, 722, 723, 724, 725, 726, 727,\n",
       "       728, 729, 730, 731, 732, 733, 734, 735, 736, 737, 738, 739, 740,\n",
       "       741, 742, 743, 744, 745, 746, 747, 748, 749, 750, 751, 752, 753,\n",
       "       754, 755, 756, 757, 758, 759, 760, 761, 762, 763, 764, 765, 766,\n",
       "       767, 768, 769, 770, 771, 772, 773, 774, 775, 776, 777, 778, 779,\n",
       "       780, 781, 782, 783, 784, 785, 786, 787, 788, 789, 790, 791, 792,\n",
       "       793, 794, 795, 796, 797, 798, 799, 800, 801, 802, 803, 804, 805,\n",
       "       806, 807, 808, 809, 810, 811, 812, 813, 814, 815, 816, 817, 818,\n",
       "       819, 820, 821, 822, 823, 824, 825, 826, 827, 828, 829, 830, 831,\n",
       "       832, 833, 834, 835, 836, 837, 838, 839, 840, 841, 842, 843, 844,\n",
       "       845, 846, 847, 848, 849, 850, 851, 852, 853, 854, 855, 856, 857,\n",
       "       858, 859, 860, 861, 862, 863, 864, 865, 866, 867, 868, 869, 870,\n",
       "       871, 872, 873, 874, 875, 876, 877, 878, 879, 880, 881, 882, 883,\n",
       "       884, 885, 886, 887, 888, 889, 890, 891, 892, 893, 894, 895, 896,\n",
       "       897, 898, 899, 900, 901, 902, 903, 904, 905, 906, 907, 908, 909,\n",
       "       910, 911, 912, 913, 914, 915, 916, 917, 918, 919, 920, 921, 922,\n",
       "       923, 924, 925, 926, 927, 928, 929, 930, 931, 932, 933, 934, 935,\n",
       "       936, 937, 938, 939, 940, 941, 942, 943, 944, 945, 946, 947, 948,\n",
       "       949, 950, 951, 952, 953, 954, 955, 956, 957, 958, 959, 960, 961,\n",
       "       962, 963, 964, 965, 966, 967, 968, 969, 970, 971, 972, 973, 974,\n",
       "       975, 976, 977, 978, 979, 980, 981, 982, 983, 984, 985, 986, 987,\n",
       "       988, 989, 990, 991, 992, 993, 994, 995, 996, 997, 998, 999])"
      ]
     },
     "execution_count": 20,
     "metadata": {},
     "output_type": "execute_result"
    }
   ],
   "source": [
    "# 인스턴스 상태\n",
    "a = np.array([0,1,2,3,4,5,6,7,8,9]) #ndarray\n",
    "print(id(a)) #python core 주소값 확인\n",
    "print(a.size) #데이터 개수\n",
    "print(a.astype(np.float32)) #데이터 타입 변경, numpy는 행 중심, 동질적\n",
    "print(a.dtype.itemsize*a.size) # 전체 메모리 사이즈(바이트)\n",
    "# iterator for in range => list\n",
    "a = np.arange(1000) # => ndarray\n",
    "a"
   ]
  },
  {
   "cell_type": "code",
   "execution_count": 14,
   "metadata": {},
   "outputs": [
    {
     "name": "stdout",
     "output_type": "stream",
     "text": [
      "[[0. 0. 0. 0.]\n",
      " [0. 0. 0. 0.]\n",
      " [0. 0. 0. 0.]]\n",
      "[[[1 1 1 1]\n",
      "  [1 1 1 1]\n",
      "  [1 1 1 1]]\n",
      "\n",
      " [[1 1 1 1]\n",
      "  [1 1 1 1]\n",
      "  [1 1 1 1]]]\n",
      "[[7 7]\n",
      " [7 7]]\n",
      "[[1. 0. 0. 0.]\n",
      " [0. 1. 0. 0.]\n",
      " [0. 0. 1. 0.]\n",
      " [0. 0. 0. 1.]]\n",
      "[[0.00000000e+000 0.00000000e+000]\n",
      " [0.00000000e+000 0.00000000e+000]\n",
      " [0.00000000e+000 3.26083326e-321]\n",
      " [1.10343781e-312 8.70018274e-313]]\n"
     ]
    }
   ],
   "source": [
    "# ndarray 초기화 함수들\n",
    "print(np.zeros((3,4))) #0\n",
    "print(np.ones((2,3,4), dtype=np.int16)) # 1,3차원 면, 행, 열\n",
    "print(np.full((2,2),7))\n",
    "print(np.eye(4)) # 대각행렬 identity 행렬연산에서 항등원 +, *,\n",
    "print(np.empty((4,2))) #"
   ]
  },
  {
   "cell_type": "code",
   "execution_count": 19,
   "metadata": {
    "scrolled": false
   },
   "outputs": [
    {
     "name": "stdout",
     "output_type": "stream",
     "text": [
      "[1, 5, -1]\n",
      "[ 0 10 20 30 40 50 60 70 80 90]\n",
      "[10 50 90]\n"
     ]
    }
   ],
   "source": [
    "a = np.arange(0, 100, 10) # ndarray\n",
    "indices = [1,5,-1] # 리스트\n",
    "print(indices)\n",
    "b = a[indices] # 리스트를 첨자(인덱스)로 사용\n",
    "print(a)\n",
    "print(b)"
   ]
  },
  {
   "cell_type": "code",
   "execution_count": 23,
   "metadata": {},
   "outputs": [
    {
     "name": "stdout",
     "output_type": "stream",
     "text": [
      "[11 12 13 14 15 16 17 18 19 20 21 22 23 24 25 26 27 28 29 30 31 32 33 34\n",
      " 35]\n",
      "[[11 12 13 14 15]\n",
      " [16 17 18 19 20]\n",
      " [21 22 23 24 25]\n",
      " [26 27 28 29 30]\n",
      " [31 32 33 34 35]]\n",
      "<class 'numpy.ndarray'>\n",
      "int32\n",
      "25\n",
      "(5, 5)\n",
      "2\n",
      "100\n",
      "(20, 4)\n"
     ]
    }
   ],
   "source": [
    "a = np.arange(11,36) # 1차원\n",
    "print(a)\n",
    "a.shape = (5,5) # 정상 모양을 갖춘 개수 R\n",
    "print(a)\n",
    "print(type(a))\n",
    "print(a.dtype)\n",
    "print(a.size)\n",
    "print(a.shape) # 차수(5,5)\n",
    "print(a.ndim) # 2차원\n",
    "print(a.nbytes) # 100바이트 = 25 * 4\n",
    "print(a.strides) # (20,4) # (dimensions 간의 간격, 앨리먼트간의 간격) 다음 열의 데이터는 몇바이트를 건너뛰어야 하는가\n",
    "                 # 다음 행은 몇 바이트를 건너뛰어야 하는가\n",
    "'''strides는 '걸음걸이'라는 뜻을 가지고 있는 단어이다.\n",
    "numpy에서는, 각 dimensions를 건너가는데 몇 bytes나 뛰어넘어야 하는지에 대한 정보이다.\n",
    "예를들어 [[1,2,3],[4,5,6]] 이라는 2차원의 array가 있다.\n",
    "strides를 사용하면 (dimensions 간의 간격, 앨리먼트간의 간격) 으로 결과가 출력된다.\n",
    "각 dimensions 간의 간격은 [1,2,3] 의 용량과 같으므로 4바이트인 int32형 3개 = 12 bytes인 것.\n",
    "그래서 (12,4)로 표현한다. \n",
    "strides() = Tuple of bytes to step in each dimension when traversing an array.'''"
   ]
  },
  {
   "cell_type": "code",
   "execution_count": 24,
   "metadata": {},
   "outputs": [
    {
     "name": "stdout",
     "output_type": "stream",
     "text": [
      "<class 'numpy.ndarray'>\n",
      "[0 1 2 3 4 5 6 7 8 9]\n",
      "5\n",
      "[5 6 7]\n",
      "[ 1  2  3  4 12]\n"
     ]
    }
   ],
   "source": [
    "arr = np.arange(10) # 0,\n",
    "print(type(arr))\n",
    "print(arr)\n",
    "print(arr[5])\n",
    "print(arr[5:8]) # 마지막 불포함\n",
    "arr[5:8] = 12 # 데이터 업데이트. 5~8까지 12를 대입하라\n",
    "print(arr[1:6])"
   ]
  },
  {
   "cell_type": "code",
   "execution_count": 120,
   "metadata": {},
   "outputs": [
    {
     "name": "stdout",
     "output_type": "stream",
     "text": [
      "2\n",
      "[1 2 3]\n",
      "3\n",
      "3\n",
      "\n",
      "[[1 2 3]\n",
      " [4 5 6]]\n",
      "[[2 3]\n",
      " [5 6]]\n",
      "\n",
      "[[2 3]\n",
      " [5 6]\n",
      " [8 9]]\n",
      "[4 5]\n",
      "[7]\n",
      "\n",
      "[[0 2 3]\n",
      " [0 5 6]\n",
      " [7 8 9]]\n"
     ]
    }
   ],
   "source": [
    "# numpy 첨자 생략 불가 [,4]\n",
    "arr2d = np.array([[1,2,3], [4,5,6], [7,8,9]])\n",
    "print(arr2d.ndim) # 2차원\n",
    "print(arr2d[0]) # 행 우선\n",
    "print(arr2d[0][2]) # 0의 2열\n",
    "print(arr2d[0,2]) # 바로 위 print(arr2d[0][2])와 같음 ########## 이게 헷갈리네\n",
    "print()\n",
    "print(arr2d[:2]) # 0,1행\n",
    "print(arr2d[:2,1:]) # 끝까지\n",
    "# print(arr2d[,1:]) R 처럼 행 생략 안됨\n",
    "print()\n",
    "print(arr2d[:,1:]) # 모든 각 행의 두번째부터 끝까지\n",
    "print(arr2d[1, :2]) # [4 5]\n",
    "print(arr2d[2, :1])\n",
    "print()\n",
    "arr2d[:2, :1] = 0\n",
    "arr2d[:2, :1] = 0\n",
    "print(arr2d)"
   ]
  },
  {
   "cell_type": "code",
   "execution_count": 122,
   "metadata": {},
   "outputs": [
    {
     "name": "stdout",
     "output_type": "stream",
     "text": [
      "스트라이드의 값 (160, 40, 8)\n"
     ]
    }
   ],
   "source": [
    "# 실제 저장은 일렬로, 사람이 데이터를 다루는 것은 입체로 - 480바이트\n",
    "# 행렬 연산에서 앞의 행렬열수와 뒤의 행렬의 행수를 일치 시켜야 행렬곱이 가능\n",
    "# 행렬곱에서 행렬 앞뒤로 바꾸면 안됨\n",
    "\n",
    "print(\"스트라이드의 값\", np.ones((3,4,5), dtype = np.float64).strides) # 3, 4, 5(단일데이터)\n",
    "# 단일 데이터 float64: 8바이트"
   ]
  },
  {
   "cell_type": "code",
   "execution_count": 33,
   "metadata": {},
   "outputs": [
    {
     "name": "stdout",
     "output_type": "stream",
     "text": [
      "첫 면 [[1 2 3]\n",
      " [4 5 6]]\n",
      "첫면 첫 행은 = [1 2 3]\n",
      "첫면 첫행, 첫요소는 = 1\n",
      "8\n",
      "12\n"
     ]
    }
   ],
   "source": [
    "# 문제\n",
    "arr3d = np.array([ [ [1,2,3],[4,5,6] ],[ [7,8,9],[10,11,12] ] ]) # 2면, 2행 ,3열\n",
    "print(\"첫 면\", arr3d[0]) #0번 면\n",
    "print(\"첫면 첫 행은 =\", arr3d[0][0])\n",
    "print(\"첫면 첫행, 첫요소는 =\", arr3d[0][0][0]) # [면][행][요소]\n",
    "# 8을 출력하라\n",
    "print(arr3d[1][0][1])\n",
    "# 12를 출력하라\n",
    "print(arr3d[1][1][2])"
   ]
  },
  {
   "cell_type": "code",
   "execution_count": 123,
   "metadata": {},
   "outputs": [
    {
     "name": "stdout",
     "output_type": "stream",
     "text": [
      "값의 변경 후\n",
      "[[[42 42 42]\n",
      "  [42 42 42]]\n",
      "\n",
      " [[ 7  8  9]\n",
      "  [10 11 12]]]\n",
      "이전 값으로 복구\n",
      "[[[42 42 42]\n",
      "  [42 42 42]]\n",
      "\n",
      " [[ 7  8  9]\n",
      "  [10 11 12]]]\n"
     ]
    }
   ],
   "source": [
    "# 백업이 안됨: 대입하면 같은 주소를 가리키기 때문에 \n",
    "old_values = arr3d.copy() # 대입: 주소를 복사\n",
    "arr3d[0] = 42\n",
    "print(\"값의 변경 후\")\n",
    "print(arr3d)\n",
    "print(\"이전 값으로 복구\")\n",
    "arr3d = old_values\n",
    "print(arr3d)"
   ]
  },
  {
   "cell_type": "code",
   "execution_count": 130,
   "metadata": {},
   "outputs": [
    {
     "name": "stdout",
     "output_type": "stream",
     "text": [
      "[ 0  1  2  3  4  5  6  7  8  9 10 11 12 13 14 15 16 17 18 19 20 21 22 23\n",
      " 24 25 26 27 28 29 30 31 32 33 34 35]\n",
      "1 차원\n",
      "\n",
      "[[ 0  1  2  3  4  5]\n",
      " [ 6  7  8  9 10 11]\n",
      " [12 13 14 15 16 17]\n",
      " [18 19 20 21 22 23]\n",
      " [24 25 26 27 28 29]\n",
      " [30 31 32 33 34 35]]\n",
      "2 차원\n",
      "\n",
      "[[[ 0  1  2  3  4  5]\n",
      "  [ 6  7  8  9 10 11]\n",
      "  [12 13 14 15 16 17]]\n",
      "\n",
      " [[18 19 20 21 22 23]\n",
      "  [24 25 26 27 28 29]\n",
      "  [30 31 32 33 34 35]]]\n",
      "3 차원\n"
     ]
    }
   ],
   "source": [
    "Z = np.arange(36)\n",
    "print(Z)\n",
    "print(Z.ndim, '차원')\n",
    "print()\n",
    "Z = Z.reshape((6,6))\n",
    "print(Z)\n",
    "print(Z.ndim, '차원')\n",
    "print()\n",
    "reshape2 = Z.reshape((2,3,6)) # 면,행,렬\n",
    "print(reshape2)\n",
    "print(reshape2.ndim, \"차원\")"
   ]
  },
  {
   "cell_type": "code",
   "execution_count": 131,
   "metadata": {},
   "outputs": [
    {
     "name": "stdout",
     "output_type": "stream",
     "text": [
      "[[ 0  1  2  3]\n",
      " [ 4  5  6  7]\n",
      " [ 8  9 10 11]\n",
      " [12 13 14 15]\n",
      " [16 17 18 19]\n",
      " [20 21 22 23]\n",
      " [24 25 26 27]\n",
      " [28 29 30 31]]\n",
      "[[ 4  5  6  7]\n",
      " [20 21 22 23]\n",
      " [28 29 30 31]\n",
      " [ 8  9 10 11]]\n",
      "[[28 29 30 31]\n",
      " [12 13 14 15]\n",
      " [ 4  5  6  7]\n",
      " [24 25 26 27]]\n",
      "[ 4 23 29 10]\n",
      "\n",
      "[[ 4  5  6  7]\n",
      " [ 8  9 10 11]\n",
      " [20 21 22 23]\n",
      " [28 29 30 31]]\n",
      "[[ 4  7  5  6]\n",
      " [20 23 21 22]\n",
      " [28 31 29 30]\n",
      " [ 8 11  9 10]]\n"
     ]
    }
   ],
   "source": [
    "arr = np.arange(32).reshape((8,4)) # shape vs. reshape(바꿀 때만)\n",
    "print(arr)\n",
    "print(arr[[1,5,7,2]]) # 행 중심\n",
    "print(arr[[-1,-5,-7,-2]])# 거꾸로 인덱싱\n",
    "print(arr[[1,5,7,2],[0,3,1,2]]) # 1번행의 5번열, 5번행의 4번열...\n",
    "print()\n",
    "# fancy 인덱싱\n",
    "print(arr[[1,2,5,7]][:, [0,1,2,3]])\n",
    "print(arr[[1,5,7,2]][:, [0,3,1,2]]) ###########################################################"
   ]
  },
  {
   "cell_type": "code",
   "execution_count": 5,
   "metadata": {},
   "outputs": [
    {
     "name": "stdout",
     "output_type": "stream",
     "text": [
      "[[0, 1, 2, 3, 4, 5], [10, 11, 12, 13, 14, 15], [20, 21, 22, 23, 24, 25], [30, 31, 32, 33, 34, 35], [40, 41, 42, 43, 44, 45], [50, 51, 52, 53, 54, 55]]\n"
     ]
    }
   ],
   "source": [
    "# 그림 참조 \n",
    "arr = []\n",
    "for i in range(6):\n",
    "    ad = []\n",
    "    for j in range(6):\n",
    "        ad.append(i*10 + j)\n",
    "    arr.append(ad)\n",
    "print(arr)\n",
    "arr = np.array(arr)"
   ]
  },
  {
   "cell_type": "code",
   "execution_count": 6,
   "metadata": {},
   "outputs": [
    {
     "name": "stdout",
     "output_type": "stream",
     "text": [
      "[[ 0  1  2  3  4  5]\n",
      " [10 11 12 13 14 15]\n",
      " [20 21 22 23 24 25]\n",
      " [30 31 32 33 34 35]\n",
      " [40 41 42 43 44 45]\n",
      " [50 51 52 53 54 55]]\n",
      "주황색 [ 1 12 23 34 45]\n",
      "빨간색 [ 2 22 52]\n",
      "하늘색 [[30 32 35]\n",
      " [40 42 45]\n",
      " [50 52 55]]\n"
     ]
    }
   ],
   "source": [
    "# Q1\n",
    "print(arr)\n",
    "print(\"주황색\", arr[[0,1,2,3,4],[1,2,3,4,5]])\n",
    "print(\"빨간색\", arr[[0,2,5],2])\n",
    "print(\"하늘색\", arr[3:6][:, [0,2,5]])"
   ]
  },
  {
   "cell_type": "code",
   "execution_count": 60,
   "metadata": {},
   "outputs": [
    {
     "name": "stdout",
     "output_type": "stream",
     "text": [
      "빨간색 [ 2 12 22 32 42 52]\n",
      "주황색 [3 4]\n",
      "녹색 [[20 22 24]\n",
      " [40 42 44]]\n"
     ]
    }
   ],
   "source": [
    "# Q2\n",
    "#print(\"빨간색\", arr[[0:6], 2]) 이렇게 하면 왜 안돼??????????????????????????????\n",
    "print(\"빨간색\", arr[:, 2])\n",
    "print(\"주황색\", arr[0,[3,4]])\n",
    "print(\"녹색\", arr[[2,4]][:,[0,2,4]])"
   ]
  },
  {
   "cell_type": "code",
   "execution_count": 134,
   "metadata": {},
   "outputs": [
    {
     "name": "stdout",
     "output_type": "stream",
     "text": [
      "타일 출력\n",
      "[[1 0 1]\n",
      " [1 0 1]\n",
      " [1 0 1]\n",
      " [1 0 1]]\n",
      "[[ 2  2  4]\n",
      " [ 5  5  7]\n",
      " [ 8  8 10]\n",
      " [11 11 13]]\n",
      "배열 연산\n",
      " [[ 2  2  4]\n",
      " [ 5  5  7]\n",
      " [ 8  8 10]\n",
      " [11 11 13]]\n"
     ]
    },
    {
     "data": {
      "text/plain": [
       "array([[ 4,  5,  6],\n",
       "       [ 7,  8,  9],\n",
       "       [10, 11, 12],\n",
       "       [13, 14, 15]])"
      ]
     },
     "execution_count": 134,
     "metadata": {},
     "output_type": "execute_result"
    }
   ],
   "source": [
    "x = np.array([[1,2,3], [4,5,6], [7,8,9], [10,11,12]]) # 4x3\n",
    "v = np.array([1,0,1])\n",
    "print(\"타일 출력\")\n",
    "vv = np.tile(v, (4,1))\n",
    "print(vv)\n",
    "y = x + vv # 4x3 배열 연산 => 요소별 연산\n",
    "print(y)\n",
    "# 배열 연산: 양쪽 차원이 일치해야 함\n",
    "print(\"배열 연산\\n\", x + v) # 4x3, 4x1 broadcasting\n",
    "x+3 # 모든 요소에 3을 더함"
   ]
  },
  {
   "cell_type": "code",
   "execution_count": 7,
   "metadata": {},
   "outputs": [
    {
     "name": "stdout",
     "output_type": "stream",
     "text": [
      "[[0 1]\n",
      " [2 3]\n",
      " [4 5]]\n",
      "[[0 2 4]\n",
      " [1 3 5]]\n",
      "[[0 2 4]\n",
      " [1 3 5]]\n",
      "[[ 1  3  5]\n",
      " [ 3 13 23]\n",
      " [ 5 23 41]]\n"
     ]
    }
   ],
   "source": [
    "x = np.arange(6).reshape((3,2))\n",
    "print(x)\n",
    "# 거듭제곱(행열곱, @)\n",
    "# x@x # 앞의 행렬 열수와 뒤의 행렬 행수가 일치해야함 => (3x2)(3x2)라서 안됨. \n",
    "# 전치행렬 => .T 또는 transpose()함수 사용을 해야한다.\n",
    "print(x.T) # x의 전치행렬\n",
    "print(np.transpose(x))\n",
    "\n",
    "print(x@x.T) # 거듭제곱(행열곱)의 결과는 3x3\n",
    "# https://ko.wikipedia.org/wiki/%EC%A0%84%EC%B9%98%ED%96%89%EB%A0%AC"
   ]
  },
  {
   "cell_type": "code",
   "execution_count": 141,
   "metadata": {},
   "outputs": [
    {
     "name": "stdout",
     "output_type": "stream",
     "text": [
      "arr = \n",
      " [[[ 0  1  2  3]\n",
      "  [ 4  5  6  7]\n",
      "  [ 8  9 10 11]]\n",
      "\n",
      " [[12 13 14 15]\n",
      "  [16 17 18 19]\n",
      "  [20 21 22 23]]]\n",
      "arr.transpose((1,0,2)) = \n",
      " [[[ 0  1  2  3]\n",
      "  [12 13 14 15]]\n",
      "\n",
      " [[ 4  5  6  7]\n",
      "  [16 17 18 19]]\n",
      "\n",
      " [[ 8  9 10 11]\n",
      "  [20 21 22 23]]]\n",
      "arr.transpose((0,1,2)) = \n",
      " [[[ 0  1  2  3]\n",
      "  [ 4  5  6  7]\n",
      "  [ 8  9 10 11]]\n",
      "\n",
      " [[12 13 14 15]\n",
      "  [16 17 18 19]\n",
      "  [20 21 22 23]]]\n"
     ]
    }
   ],
   "source": [
    "arr= np.arange(24).reshape((2,3,4)) # 2면 3행 4열\n",
    "print(\"arr = \\n\", arr)\n",
    "print(\"arr.transpose((1,0,2)) = \\n\", arr.transpose((1,0,2))) # 2면 3행 4열 -> 3면 2행 4열\n",
    "print(\"arr.transpose((0,1,2)) = \\n\", arr.transpose((0,1,2)))"
   ]
  },
  {
   "cell_type": "code",
   "execution_count": 142,
   "metadata": {},
   "outputs": [
    {
     "name": "stdout",
     "output_type": "stream",
     "text": [
      "[[-1.55599459  1.03615081  0.19889181  0.09477533]\n",
      " [-1.52673203  2.47463214  1.08269769 -0.89127185]\n",
      " [ 0.28711708 -1.88898259 -0.35001688  1.11346897]\n",
      " [-0.52816053 -0.86610379 -0.10961215  0.63445069]\n",
      " [ 0.16038509  0.45966734 -0.92535261 -0.64343556]\n",
      " [ 1.23693374  1.14498558  0.02166777 -0.69389212]\n",
      " [-1.10243052  0.08928026  0.43659355  1.68735757]]\n",
      "[ True False False False False False False]\n",
      "[[-1.55599459  1.03615081  0.19889181  0.09477533]]\n",
      "[[0.19889181 0.09477533]]\n",
      "[0.09477533]\n",
      "[False  True  True  True  True  True  True]\n",
      "\n",
      "[ True False False False False False False]\n",
      "[ True False False False  True False False]\n",
      "[[-1.55599459  1.03615081  0.19889181  0.09477533]\n",
      " [ 0.16038509  0.45966734 -0.92535261 -0.64343556]]\n"
     ]
    }
   ],
   "source": [
    "names = np.array(['GMP', 'PUS', 'CJJ', 'gMP', 'cJJ', 'PUS', 'PUS'])\n",
    "data = np.random.randn(7,4) # 7x4\n",
    "print(data)\n",
    "print(names == 'GMP') # 1,0,0,0,0,0,0\n",
    "print(data[names=='GMP']) # 0번행\n",
    "print(data[names=='GMP', 2:])\n",
    "print(data[names=='GMP', 3])\n",
    "print(names != 'GMP') # 0,1,1,1,1,1,1\n",
    "\n",
    "print()\n",
    "print(~(names != 'GMP')) # '~' = 부정\n",
    "mask = (names == 'GMP') | (names =='cJJ')\n",
    "print(mask)\n",
    "print(data[mask])"
   ]
  },
  {
   "cell_type": "code",
   "execution_count": 86,
   "metadata": {},
   "outputs": [
    {
     "name": "stdout",
     "output_type": "stream",
     "text": [
      "<zip object at 0x0000024FF1CB7788>\n",
      "[(1.1, 2.1, True), (1.2, 2.2, False), (1.3, 2.3, True), (1.4, 2.4, True), (1.5, 2.5, False)]\n",
      "result =  [1.1, 2.2, 1.3, 1.4, 2.5]\n",
      "[1.1 2.2 1.3 1.4 2.5]\n",
      "[[ 0.38212189  0.47476044  0.21108633 -2.28825117]\n",
      " [-1.25076867  1.44438278  0.21692185 -0.73415977]\n",
      " [-0.46451538  1.68349117  1.2676929   0.59630665]\n",
      " [ 1.00264539  0.20809645 -1.28845367  1.1387486 ]]\n",
      "[[ 2  2  2 -2]\n",
      " [-2  2  2 -2]\n",
      " [-2  2  2  2]\n",
      " [ 2  2 -2  2]]\n"
     ]
    }
   ],
   "source": [
    "xarr = np.array([1.1, 1.2, 1.3, 1.4, 1.5])\n",
    "yarr = np.array([2.1, 2.2, 2.3, 2.4, 2.5])\n",
    "cond = np.array([True, False, True, True, False])\n",
    "print(zip(xarr, yarr, cond)) # 요소별로 데이터 묶음, zip 고유 포맷\n",
    "print(list(zip(xarr, yarr, cond))) \n",
    "result = [(x if c else y) for x,y,c in zip(xarr, yarr, cond)] # 3 항연산자\n",
    "print(\"result = \", result) \n",
    "\n",
    "result = np.where(cond, xarr, yarr)\n",
    "print(result)\n",
    "\n",
    "arr = np.random.randn(4,4)\n",
    "print(arr)\n",
    "print(np.where(arr>0, 2, -2))"
   ]
  },
  {
   "cell_type": "code",
   "execution_count": 91,
   "metadata": {},
   "outputs": [],
   "source": [
    "# 문제) 다음 데이터를 이용하여 두개다 참일 때는 0, cond1이 참일 때는 1, cond2가 참일때는 2, 그 외일때는 3으로 처리하여 출력해라\n",
    "# 0,1,2,3\n",
    "# 조건문 4개 써라\n",
    "# where을 쓰면 3개 쓰게 된다\n",
    "result = []\n",
    "cond1 = np.array([1,0,1,1,0,0,1], dtype = bool)\n",
    "cond2 = np.array([0,1,1,1,0,1,1], dtype = bool)"
   ]
  },
  {
   "cell_type": "code",
   "execution_count": 92,
   "metadata": {},
   "outputs": [
    {
     "name": "stdout",
     "output_type": "stream",
     "text": [
      "조건문 [1, 2, 0, 0, 3, 2, 0]\n",
      "제3항연산자 [1 2 0 0 3 2 0]\n",
      "수식을 이용한 [1 2 0 0 3 2 0]\n"
     ]
    }
   ],
   "source": [
    "for i in range(len(cond1)):\n",
    "    if (cond1[i] and cond2[i]):\n",
    "        result.append(0)\n",
    "    elif cond1[i]:\n",
    "        result.append(1)\n",
    "    elif cond2[i]:\n",
    "        result.append(2)\n",
    "    else:\n",
    "        result.append(3)\n",
    "print(\"조건문\", result)\n",
    "result = np.where(cond1 & cond2, 0, np.where(cond1, 1,\n",
    "                                            np.where(cond2, 2, 3))) ####################################################\n",
    "print(\"제3항연산자\", result)\n",
    "result = 1*(cond1 & ~cond2) + 2*(cond2 & ~cond1) + 3* ~(cond1 | cond2)\n",
    "print(\"수식을 이용한\", result)"
   ]
  },
  {
   "cell_type": "code",
   "execution_count": 95,
   "metadata": {},
   "outputs": [],
   "source": [
    "x = np.arange(1, 10001)\n",
    "y = np.arange(10001, 20001)\n",
    "z = np.zeros_like(x) # 다른 행렬과 같은 사이즈의 초기화 (초기값을 모두 0으로)\n",
    "for i in range(10000):\n",
    "    z[i] = x[i] + y[i]"
   ]
  },
  {
   "cell_type": "code",
   "execution_count": 97,
   "metadata": {},
   "outputs": [
    {
     "name": "stdout",
     "output_type": "stream",
     "text": [
      "False\n",
      "True\n",
      "[ 2.71828183  7.3890561  20.08553692 54.59815003]\n"
     ]
    }
   ],
   "source": [
    "a = np.array([1,2,3,4])\n",
    "b = np.array([4,2,2,4])\n",
    "print(np.all(a==b)) # 전체가 참일 때 참\n",
    "print(np.any(a==b)) # 하나라도 참이면 참\n",
    "print(np.exp(a)) # 지수함수(자연대수: 2.718)"
   ]
  },
  {
   "cell_type": "code",
   "execution_count": 101,
   "metadata": {},
   "outputs": [],
   "source": [
    "# 선형대수: 선형으로 해결하자. => 비선형도 잘게 나누면 선형"
   ]
  },
  {
   "cell_type": "code",
   "execution_count": null,
   "metadata": {},
   "outputs": [],
   "source": [
    "# 행렬의 종류\n",
    "# - 정방행렬: 정사각형 (행과 열수가 같은 행렬)\n",
    "# - 대칭행렬: 전치행렬이 스스로와 같은 행렬\n",
    "# - 대각행렬: 주대각선을 제외한 곳의 원소가 0인 정사각행렬 (scale을 변화시키는 요소)\n",
    "# - 단위행렬(identity): 행렬곱의 항등원, 행렬과 역행렬을 곱하면 단위행렬. 왼쪽에서 오른쪽 대각선 아래로 성분이 1, 나머지가 0\n",
    "# - 역행렬: 곱해서 단위행렬이 나오는 행렬/ 행렬의 나눗셈을 위해 구해서 곱해지는 행렬(정방행렬만 가능)\n",
    "# - 특이행렬: 역행렬이 없는 행렬\n",
    "# - 직교행렬: 행렬*행렬.T= 행렬.T*행렬 = I인 행렬 / 행렬 축의 정직교, 각축간의 내적이 0인 행렬\n",
    "# - 정방행렬이면서 대칭행렬: 공분산행렬, 상관계수행렬, 거리행렬\n",
    "# - 공분산: 두 수간의 관계 (한수-평균) * (다른수-평균)\n",
    "# - 상관계수(표준화 -1 ~ 1): 공분산 / 표준편차의 곱"
   ]
  },
  {
   "cell_type": "code",
   "execution_count": 103,
   "metadata": {},
   "outputs": [
    {
     "name": "stdout",
     "output_type": "stream",
     "text": [
      "[[1 2]\n",
      " [3 4]]\n",
      "[[2 2]\n",
      " [2 2]]\n",
      "[[3 4]\n",
      " [5 6]]\n",
      "[[2 4]\n",
      " [6 8]]\n",
      "[[ 6  6]\n",
      " [14 14]]\n"
     ]
    }
   ],
   "source": [
    "import numpy as np\n",
    "F1 = np.array([[1,2],[3,4]]) # 2x2\n",
    "F2 = np.array([[2,2],[2,2]]) # 2x2\n",
    "print(F1)\n",
    "print(F2)\n",
    "print(F1 + F2) # 요소끼리 \n",
    "print(F1 * F2)\n",
    "print(F1 @ F2) # 행렬곱도 내적\n",
    "# 1,2   2,2     6, 6     두 벡터의 사이각을 구해\n",
    "# 3,4   2,2    14,14"
   ]
  },
  {
   "cell_type": "code",
   "execution_count": 104,
   "metadata": {},
   "outputs": [
    {
     "name": "stdout",
     "output_type": "stream",
     "text": [
      "[[ 2  1 -2]\n",
      " [ 3  0  1]\n",
      " [ 1  1 -1]]\n",
      "[[-3]\n",
      " [ 5]\n",
      " [-2]]\n",
      "[[ 1.]\n",
      " [-1.]\n",
      " [ 2.]]\n"
     ]
    }
   ],
   "source": [
    "# 방정식의 해\n",
    "# 2 x1 + x2 -2 x3 = -3\n",
    "# 3 x1 +     2 x3 = 5\n",
    "#   x1 + x2 -  x3 = -2\n",
    "A = np.array([[2,1,-2],[3,0,1],[1,1,-1]])\n",
    "print(A)\n",
    "b = np.transpose(np.array([[-3,5,-2]])) # 열로 전치\n",
    "print(b)\n",
    "x = np.linalg.solve(A,b) # A의 역행렬을 구해서 b와 곱해줌 / 연립방정식 해 풀기\n",
    "# 2x + 1y -2z = -3\n",
    "# 3x + 0y +1z = 5\n",
    "# 1x + 1y -1z = -2\n",
    "# 해: x=1, y=-1, z=2\n",
    "print(x)"
   ]
  },
  {
   "cell_type": "code",
   "execution_count": 110,
   "metadata": {},
   "outputs": [
    {
     "name": "stdout",
     "output_type": "stream",
     "text": [
      "[[ 1.]\n",
      " [-1.]\n",
      " [ 2.]]\n",
      "[[ 1.]\n",
      " [-1.]\n",
      " [ 2.]]\n",
      "[[ 1.]\n",
      " [-1.]\n",
      " [ 2.]]\n"
     ]
    }
   ],
   "source": [
    "# 아래 세 개 다 값이 같음 (위 방정식 문제의 답)\n",
    "x = np.linalg.solve(A,b) # A의 역행렬을 구해서 b와 곱해줌 # Linear Algebra = 선형 대수\n",
    "print(x)\n",
    "print(np.dot(np.linalg.inv(A),b)) # 행렬곱98\n",
    "print(np.linalg.inv(A)@b) # 왜 역행렬을 구해야 하는가? 행렬은 나눗셈이 없어서 역행렬 곱해서"
   ]
  },
  {
   "cell_type": "code",
   "execution_count": 111,
   "metadata": {},
   "outputs": [
    {
     "name": "stdout",
     "output_type": "stream",
     "text": [
      "0\n"
     ]
    }
   ],
   "source": [
    "a = np.array([0,1,0]) # y축\n",
    "b = np.array([1,0,0]) # x축\n",
    "res = np.dot(a,b) # 내적 사이각 = 직각\n",
    "print(res)"
   ]
  },
  {
   "cell_type": "code",
   "execution_count": 112,
   "metadata": {},
   "outputs": [
    {
     "name": "stdout",
     "output_type": "stream",
     "text": [
      "1.0\n",
      "1.0\n",
      "1.0\n",
      "cos theta 0.0\n",
      "1.5707963267948966\n",
      "90.0\n"
     ]
    }
   ],
   "source": [
    "#################################################################################################################\n",
    "# Norm\n",
    "print(np.linalg.norm(a)) # 벡터의 크기\n",
    "print(np.linalg.norm(b))\n",
    "print(np.linalg.norm(a) * np.linalg.norm(b))\n",
    "rad = res / (np.linalg.norm(a) * np.linalg.norm(b)) # cos(theta)\n",
    "# rad = np.dot(a,b) / (np.linalg.norm(a) * np.linalg.norm(b)) | cos(세타)값 = 내적 사이각/벡터A크기*벡터B크기\n",
    "print(\"cos theta\", rad)\n",
    "print(np.arccos(rad)) # theta 값을 구함\n",
    "print(np.degrees(np.arccos(rad))) # 사람이 알아보는 각도로 표현"
   ]
  },
  {
   "cell_type": "code",
   "execution_count": 143,
   "metadata": {},
   "outputs": [
    {
     "name": "stdout",
     "output_type": "stream",
     "text": [
      "[[1 2]\n",
      " [3 4]]\n",
      "[[-2.   1. ]\n",
      " [ 1.5 -0.5]]\n",
      "[[1.00000000e+00 1.11022302e-16]\n",
      " [0.00000000e+00 1.00000000e+00]]\n"
     ]
    }
   ],
   "source": [
    "x = np.array([[1,2],[3,4]])\n",
    "y = np.linalg.inv(x)\n",
    "print(x)\n",
    "print(y)\n",
    "print(np.dot(x,y))"
   ]
  },
  {
   "cell_type": "code",
   "execution_count": 114,
   "metadata": {},
   "outputs": [
    {
     "name": "stdout",
     "output_type": "stream",
     "text": [
      "[[ 1  1  1]\n",
      " [ 2  0  5]\n",
      " [ 2  5 -1]]\n",
      "[[ 6]\n",
      " [-4]\n",
      " [27]]\n",
      "[[13.]\n",
      " [-1.]\n",
      " [-6.]]\n"
     ]
    }
   ],
   "source": [
    "# 문제: 방정식의 해 구하기\n",
    "#  x +  y  + z = 6\n",
    "# 2y +      5z = -4\n",
    "# 2x + 5y  - z = 27\n",
    "A = np.array([[1,1,1],[2,0,5],[2,5,-1]])\n",
    "print(A)\n",
    "b = np.transpose(np.array([[6,-4,27]])) # 열로 전치\n",
    "print(b)\n",
    "x = np.linalg.solve(A,b) # A의 역행렬을 구해서 b와 곱해줌\n",
    "print(x)\n",
    "\n",
    "# 답: 13, -1, -6\n"
   ]
  },
  {
   "cell_type": "code",
   "execution_count": 118,
   "metadata": {},
   "outputs": [
    {
     "name": "stdout",
     "output_type": "stream",
     "text": [
      "3\n"
     ]
    }
   ],
   "source": [
    "arr2d = np.array([ [[1,2], [4,5]], [[7,8], [10,11]] ])\n",
    "print(arr2d.ndim) # 3차원\n"
   ]
  }
 ],
 "metadata": {
  "kernelspec": {
   "display_name": "Python 3",
   "language": "python",
   "name": "python3"
  },
  "language_info": {
   "codemirror_mode": {
    "name": "ipython",
    "version": 3
   },
   "file_extension": ".py",
   "mimetype": "text/x-python",
   "name": "python",
   "nbconvert_exporter": "python",
   "pygments_lexer": "ipython3",
   "version": "3.7.4"
  }
 },
 "nbformat": 4,
 "nbformat_minor": 2
}
