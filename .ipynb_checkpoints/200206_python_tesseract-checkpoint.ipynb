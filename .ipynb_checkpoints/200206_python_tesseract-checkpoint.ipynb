{
 "cells": [
  {
   "cell_type": "markdown",
   "metadata": {},
   "source": [
    "# pytesseract"
   ]
  },
  {
   "cell_type": "code",
   "execution_count": 12,
   "metadata": {},
   "outputs": [],
   "source": [
    "from PIL import Image\n",
    "import pytesseract\n",
    "import configparser\n",
    "import os\n",
    "pytesseract.pytesseract.tesseract_cmd = r'C:\\Program Files\\Tesseract-OCR\\tesseract'"
   ]
  },
  {
   "cell_type": "code",
   "execution_count": 17,
   "metadata": {},
   "outputs": [
    {
     "name": "stdout",
     "output_type": "stream",
     "text": [
      "기능성 화장품 사용 팁\n",
      "\n",
      "면 좋은 SET AE\n",
      "전용 화장품과세라미이드\n",
      "~AHA(QITSIOIE SAIS)\n",
      ".8804메타하이드록시샌 와 BSR\n",
      "-모공관리제품과 OAS\n",
      "-비타민화 비타민\n",
      "-얄부틴과비타민6\n",
      "(20K HIERN Hoke: ESOL AHA\n",
      "=O) NB 뒤에 BENE AS\n",
      "eee ny\n",
      "~ AHAGBHAS! Elis\n",
      "Aleta} HIE}2IC\n",
      "~ AHASH 비타민6\n",
      "-모공조절저품\n",
      "AO} SAE 안에이징제품\n",
      "= e/a] 비타민\n",
      "~The 보슴제품\n",
      "자료:식품의약품안전처\n"
     ]
    }
   ],
   "source": [
    "print(pytesseract.image_to_string('ocrtest.jpg',lang='kor+eng'))"
   ]
  },
  {
   "cell_type": "markdown",
   "metadata": {},
   "source": [
    "# tesserocr"
   ]
  },
  {
   "cell_type": "code",
   "execution_count": 19,
   "metadata": {},
   "outputs": [
    {
     "name": "stdout",
     "output_type": "stream",
     "text": [
      "7is8 383 NSE\n",
      "\n",
      "oi $2 SET AE\n",
      "Bg si5a} AIOE\n",
      "~AHA(QITSIOIE SAIS)\n",
      "ABHAIHIEHS}OI SAlA)04 BSR\n",
      "- Bape AEH OAS\n",
      "~BE}BICS} BIE}\n",
      "~ FEIT BEBIC\n",
      "(20K HIERN Hoke: ESOL AHA\n",
      "=O) NB 0] BENE AS\n",
      "eee ny\n",
      "~ AHAGBHAS! Elis\n",
      "Aleta} HIE}2IC\n",
      "~ AHASH BIEHIC\n",
      "-BERENE\n",
      "AO} SAE clelo|OVS Hs\n",
      "= e/a] HIEIRIC\n",
      "~The BOM\n",
      "ASAZINEA\n",
      "\n",
      " \n",
      "\n",
      "  \n",
      "\n",
      " \n",
      "\n",
      " \n",
      "\n"
     ]
    }
   ],
   "source": [
    "import tesserocr\n",
    "\n",
    "# with tesserocr.PyTessBaseAPI(lang='eng+kor') as api:\n",
    "#     api.SetImageFile('eSXSz.jpg')\n",
    "#     print api.GetUTF8Text()\n",
    "\n",
    "# or simply\n",
    "print(tesserocr.file_to_text('ocrtest.jpg', lang='eng'))"
   ]
  },
  {
   "cell_type": "code",
   "execution_count": 25,
   "metadata": {
    "scrolled": true
   },
   "outputs": [
    {
     "name": "stdout",
     "output_type": "stream",
     "text": [
      "7is8 383 NSE\n",
      "\n",
      "oi $2 SET AE\n",
      "Bg si5a} AIOE\n",
      "~AHA(QITSIOIE SAIS)\n",
      "ABHAIHIEHS}OI SAlA)04 BSR\n",
      "- Bape AEH OAS\n",
      "~BE}BICS} BIE}\n",
      "~ FEIT BEBIC\n",
      "(20K HIERN Hoke: ESOL AHA\n",
      "=O) NB 0] BENE AS\n",
      "eee ny\n",
      "~ AHAGBHAS! Elis\n",
      "Aleta} HIE}2IC\n",
      "~ AHASH BIEHIC\n",
      "-BERENE\n",
      "AO} SAE clelo|OVS Hs\n",
      "= e/a] HIEIRIC\n",
      "~The BOM\n",
      "ASAZINEA\n",
      "\n",
      " \n",
      "\n",
      "  \n",
      "\n",
      " \n",
      "\n",
      " \n",
      "\n",
      "[31, 50, 33, 38, 39, 38, 57, 25, 0, 10, 0, 0, 0, 0, 8, 16, 0, 38, 17, 0, 20, 42, 25, 0, 25, 11, 40, 36, 66, 0, 79, 56, 55, 62, 36, 26, 73, 60, 62, 19, 0, 53, 0, 33, 0, 2, 0, 0, 35, 54, 31, 0, 2, 0, 0, 95, 95, 95, 95]\n"
     ]
    }
   ],
   "source": [
    "from tesserocr import PyTessBaseAPI\n",
    "\n",
    "images = ['ocrtest.jpg']\n",
    "\n",
    "with PyTessBaseAPI() as api:\n",
    "    for img in images:\n",
    "        api.SetImageFile(img)\n",
    "        print(api.GetUTF8Text())\n",
    "        print(api.AllWordConfidences())\n",
    "# api is automatically finalized when used in a with-statement (context manager).\n",
    "# otherwise api.End() should be explicitly called when it's no longer needed."
   ]
  },
  {
   "cell_type": "code",
   "execution_count": 24,
   "metadata": {},
   "outputs": [
    {
     "name": "stdout",
     "output_type": "stream",
     "text": [
      "('C:\\\\Users\\\\ICT01_20\\\\Anaconda3\\\\envs\\\\tf_test/tessdata/', ['eng', 'kor', 'kor_vert', 'osd'])\n"
     ]
    }
   ],
   "source": [
    "print(tesserocr.get_languages())"
   ]
  },
  {
   "cell_type": "code",
   "execution_count": 28,
   "metadata": {},
   "outputs": [
    {
     "ename": "NameError",
     "evalue": "name 'baseApi' is not defined",
     "output_type": "error",
     "traceback": [
      "\u001b[1;31m---------------------------------------------------------------------------\u001b[0m",
      "\u001b[1;31mNameError\u001b[0m                                 Traceback (most recent call last)",
      "\u001b[1;32m<ipython-input-28-2e8cb90a941c>\u001b[0m in \u001b[0;36m<module>\u001b[1;34m\u001b[0m\n\u001b[0;32m      1\u001b[0m \u001b[1;32mimport\u001b[0m \u001b[0mtesserocr\u001b[0m\u001b[1;33m\u001b[0m\u001b[1;33m\u001b[0m\u001b[0m\n\u001b[1;32m----> 2\u001b[1;33m \u001b[0ma\u001b[0m \u001b[1;33m=\u001b[0m \u001b[0mbaseApi\u001b[0m\u001b[1;33m.\u001b[0m\u001b[0minit\u001b[0m\u001b[1;33m(\u001b[0m\u001b[1;34mr'C:\\Users\\ICT01_20\\Documents\\BM_YounghoonKANG_Python'\u001b[0m\u001b[1;33m,\u001b[0m \u001b[0mlang\u001b[0m\u001b[1;33m=\u001b[0m\u001b[1;34m'kor'\u001b[0m\u001b[1;33m)\u001b[0m\u001b[1;33m\u001b[0m\u001b[1;33m\u001b[0m\u001b[0m\n\u001b[0m",
      "\u001b[1;31mNameError\u001b[0m: name 'baseApi' is not defined"
     ]
    }
   ],
   "source": [
    "import tesserocr \n",
    "a = baseApi.init(r'C:\\Users\\ICT01_20\\Documents\\BM_YounghoonKANG_Python', lang='kor')"
   ]
  },
  {
   "cell_type": "markdown",
   "metadata": {},
   "source": [
    "# Kakao REST API"
   ]
  },
  {
   "cell_type": "code",
   "execution_count": 29,
   "metadata": {},
   "outputs": [
    {
     "ename": "ModuleNotFoundError",
     "evalue": "No module named 'cv2'",
     "output_type": "error",
     "traceback": [
      "\u001b[1;31m---------------------------------------------------------------------------\u001b[0m",
      "\u001b[1;31mModuleNotFoundError\u001b[0m                       Traceback (most recent call last)",
      "\u001b[1;32m<ipython-input-29-e3a7c0db6fcb>\u001b[0m in \u001b[0;36m<module>\u001b[1;34m\u001b[0m\n\u001b[0;32m      1\u001b[0m \u001b[1;32mimport\u001b[0m \u001b[0mjson\u001b[0m\u001b[1;33m\u001b[0m\u001b[1;33m\u001b[0m\u001b[0m\n\u001b[1;32m----> 2\u001b[1;33m \u001b[1;32mimport\u001b[0m \u001b[0mcv2\u001b[0m\u001b[1;33m\u001b[0m\u001b[1;33m\u001b[0m\u001b[0m\n\u001b[0m\u001b[0;32m      3\u001b[0m \u001b[1;32mimport\u001b[0m \u001b[0mrequests\u001b[0m\u001b[1;33m\u001b[0m\u001b[1;33m\u001b[0m\u001b[0m\n\u001b[0;32m      4\u001b[0m \u001b[1;32mimport\u001b[0m \u001b[0msys\u001b[0m\u001b[1;33m\u001b[0m\u001b[1;33m\u001b[0m\u001b[0m\n\u001b[0;32m      5\u001b[0m \u001b[1;33m\u001b[0m\u001b[0m\n",
      "\u001b[1;31mModuleNotFoundError\u001b[0m: No module named 'cv2'"
     ]
    }
   ],
   "source": [
    "import json\n",
    "import cv2\n",
    "import requests\n",
    "import sys\n",
    "\n",
    "LIMIT_PX = 1024\n",
    "LIMIT_BYTE = 1024*1024  # 1MB\n",
    "LIMIT_BOX = 40\n",
    "\n",
    "def kakao_ocr_resize(image_path: str):\n",
    "    \"\"\"\n",
    "    ocr detect/recognize api helper\n",
    "    ocr api의 제약사항이 넘어서는 이미지는 요청 이전에 전처리가 필요.\n",
    "\n",
    "    pixel 제약사항 초과: resize\n",
    "    용량 제약사항 초과  : 다른 포맷으로 압축, 이미지 분할 등의 처리 필요. (예제에서 제공하지 않음)\n",
    "\n",
    "    :param image_path: 이미지파일 경로\n",
    "    :return:\n",
    "    \"\"\"\n",
    "    image = cv2.imread(image_path)\n",
    "    height, width, _ = image.shape\n",
    "\n",
    "    if LIMIT_PX < height or LIMIT_PX < width:\n",
    "        ratio = float(LIMIT_PX) / max(height, width)\n",
    "        image = cv2.resize(image, None, fx=ratio, fy=ratio)\n",
    "        height, width, _ = height, width, _ = image.shape\n",
    "\n",
    "        # api 사용전에 이미지가 resize된 경우, recognize시 resize된 결과를 사용해야함.\n",
    "        image_path = \"{}_resized.jpg\".format(image_path)\n",
    "        cv2.imwrite(image_path, image)\n",
    "        return image_path\n",
    "    return None\n",
    "\n",
    "def kakao_ocr_detect(image_path: str, appkey: str):\n",
    "    \"\"\"\n",
    "    detect api request example\n",
    "    :param image_path: 이미지파일 경로\n",
    "    :param appkey: 카카오 앱 REST API 키\n",
    "    \"\"\"\n",
    "    API_URL = 'https://kapi.kakao.com/v1/vision/text/detect'\n",
    "    headers = {'Authorization': 'KakaoAK {}'.format(appkey)}\n",
    "    image = cv2.imread(image_path)\n",
    "    jpeg_image = cv2.imencode(\".jpg\", image)[1]\n",
    "    data = jpeg_image.tobytes()\n",
    "    return requests.post(API_URL, headers=headers, files={\"file\": data})\n",
    "\n",
    "def kakao_ocr_recognize(image_path: str, boxes: list, appkey: str):\n",
    "    \"\"\"\n",
    "    recognize api request example\n",
    "    :param boxes: 감지된 영역 리스트. Canvas 좌표계: 좌상단이 (0,0) / 우상단이 (limit,0)\n",
    "                    감지된 영역중 좌상단 점을 기준으로 시계방향 순서, 좌상->우상->우하->좌하\n",
    "                    ex) [[[0,0],[1,0],[1,1],[0,1]], [[1,1],[2,1],[2,2],[1,2]], ...]\n",
    "    :param image_path: 이미지 파일 경로\n",
    "    :param appkey: 카카오 앱 REST API 키\n",
    "    \"\"\"\n",
    "    API_URL = 'https://kapi.kakao.com/v1/vision/text/recognize'\n",
    "    headers = {'Authorization': 'KakaoAK {}'.format(appkey)}\n",
    "    image = cv2.imread(image_path)\n",
    "    jpeg_image = cv2.imencode(\".jpg\", image)[1]\n",
    "    data = jpeg_image.tobytes()\n",
    "    return requests.post(API_URL, headers=headers, files={\"file\": data}, data={\"boxes\": json.dumps(boxes)})\n",
    "\n",
    "def main():\n",
    "    if len(sys.argv) != 3:\n",
    "        print(\"Please run with args: $ python example.py /path/to/image appkey\")\n",
    "    #image_path, appkey = sys.argv[1], sys.argv[2]\n",
    "    image_path, appkey = \"2.jpg\", \"5dc4d50e5b850c0b040d5c308ef6e3c4\"\n",
    "    resize_impath = kakao_ocr_resize(image_path)\n",
    "    if resize_impath is not None:\n",
    "        image_path = resize_impath\n",
    "        print(\"원본 대신 리사이즈된 이미지를 사용합니다.\")\n",
    "    output = kakao_ocr_detect(image_path, appkey).json()\n",
    "    print(\"[detect] output:\\n{}\\n\".format(output))\n",
    "    boxes = output[\"result\"][\"boxes\"]\n",
    "    boxes = boxes[:min(len(boxes), LIMIT_BOX)]\n",
    "    output = kakao_ocr_recognize(image_path, boxes, appkey).json()\n",
    "    print(\"[recognize] output:\\n{}\\n\".format(json.dumps(output, sort_keys=True, indent=2, ensure_ascii=False)))\n",
    "\n",
    "if __name__ == \"__main__\":\n",
    "    main()"
   ]
  },
  {
   "cell_type": "code",
   "execution_count": null,
   "metadata": {},
   "outputs": [],
   "source": []
  },
  {
   "cell_type": "code",
   "execution_count": null,
   "metadata": {},
   "outputs": [],
   "source": []
  },
  {
   "cell_type": "code",
   "execution_count": null,
   "metadata": {},
   "outputs": [],
   "source": []
  },
  {
   "cell_type": "code",
   "execution_count": null,
   "metadata": {},
   "outputs": [],
   "source": []
  },
  {
   "cell_type": "code",
   "execution_count": null,
   "metadata": {},
   "outputs": [],
   "source": []
  },
  {
   "cell_type": "code",
   "execution_count": null,
   "metadata": {},
   "outputs": [],
   "source": []
  },
  {
   "cell_type": "code",
   "execution_count": null,
   "metadata": {},
   "outputs": [],
   "source": []
  }
 ],
 "metadata": {
  "kernelspec": {
   "display_name": "Python 3",
   "language": "python",
   "name": "python3"
  },
  "language_info": {
   "codemirror_mode": {
    "name": "ipython",
    "version": 3
   },
   "file_extension": ".py",
   "mimetype": "text/x-python",
   "name": "python",
   "nbconvert_exporter": "python",
   "pygments_lexer": "ipython3",
   "version": "3.7.6"
  }
 },
 "nbformat": 4,
 "nbformat_minor": 4
}
