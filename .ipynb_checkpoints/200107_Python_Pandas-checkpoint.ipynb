{
 "cells": [
  {
   "cell_type": "code",
   "execution_count": 1,
   "metadata": {},
   "outputs": [],
   "source": [
    "# 미분: \n",
    "# 분산:  ( 시그마((관측치 - 평균) ^ 2) ) / (n-1) # n에서 1을 빼주는 이유는 모든 데이터를 이용하면 안빼도 되지만 보통 그렇지 않기에\n",
    "# 표준편차: root( 시그마((관측치 - 평균) ^ 2) ) / (n-1)\n",
    "# 공분산: 시그마( (x - xbar)(y - ybar) ) / (n-1)\n",
    "# 상관계수 (시그마( (x - xbar)(y - ybar) ) / (n-1)) / (xsigma * ysigma) : -1 ~ 1\n",
    "# 벡터의 거리값: 각 요소의 차의 제곱을 루트로 구함\n",
    "# model 평가: MSE(mean square error) : 연속된 수치인 경우의 평가\n",
    "#              RMSE(root)\n",
    "# 신경망에서 cost function 비용함수: (예측치 - 관측치) => back propgation (역전파를 통해서 가중치를 수정)\n",
    "# 국어, 수학 점수 vector 상관계수가 높다, 내적 1이다의 의미: 차가 없다 [상관계수나 내적이나 같은 말이다]"
   ]
  },
  {
   "cell_type": "code",
   "execution_count": 2,
   "metadata": {},
   "outputs": [
    {
     "ename": "SyntaxError",
     "evalue": "invalid syntax (<ipython-input-2-f5b975a38182>, line 2)",
     "output_type": "error",
     "traceback": [
      "\u001b[1;36m  File \u001b[1;32m\"<ipython-input-2-f5b975a38182>\"\u001b[1;36m, line \u001b[1;32m2\u001b[0m\n\u001b[1;33m    - 회귀분석 다중공선성: 종속변수가 과학의 영향을 받을 수 있음\u001b[0m\n\u001b[1;37m               ^\u001b[0m\n\u001b[1;31mSyntaxError\u001b[0m\u001b[1;31m:\u001b[0m invalid syntax\n"
     ]
    }
   ],
   "source": [
    "# 회귀분석, 상관분석\n",
    "- 회귀분석 다중공선성: 종속변수가 과학의 영향을 받을 수 있음\n",
    "- 회귀분석 자기상관성(Autocorelation)이 존재하면?: 시계열 분석을 해야함\n",
    "- 시계열 분석 ARMA(Autorelation + Moving Average)\n",
    "    - 이동평균법(주파수를 줄여줌 => 복잡하면 분석 불가)\n",
    "    - 정상성을 띈 데이터에만 가능\n",
    "- 비정상 -> 정상성\n",
    "- ARIMA(Auto Corelation Integrated Moving Average => 통합하여 비정상성을 띈 데이터에도 가능)\n",
    "- pandas는 시계열 분석을 지원 (시간 index를 지원)"
   ]
  },
  {
   "cell_type": "code",
   "execution_count": null,
   "metadata": {},
   "outputs": [],
   "source": [
    "import numpy as np\n",
    "from statistics import *\n",
    "x = np.array([7,8,9])\n",
    "y = np.array([9,10,20]) # [9,10,11]로 하면 상관계수 1 나옴\n",
    "print(y.mean()) # 통계학에서는 중위수(median)을 사용\n",
    "\n",
    "print(\"공분산\", np.cov(x))# 공분산 행렬\n",
    "print(\"상관계수\", np.corrcoef(x, y)) # 상관계수 행렬 (열2, 행2 : 4)"
   ]
  },
  {
   "cell_type": "code",
   "execution_count": 3,
   "metadata": {},
   "outputs": [
    {
     "name": "stdout",
     "output_type": "stream",
     "text": [
      "원본: [[1 2 3]\n",
      " [4 5 6]\n",
      " [7 8 9]]\n",
      "누적합(행): [[ 1  2  3]\n",
      " [ 5  7  9]\n",
      " [12 15 18]]\n",
      "누적곱(열): [[  1   2   6]\n",
      " [  4  20 120]\n",
      " [  7  56 504]]\n",
      "배열의 합계: 45\n",
      "열방향으로의 합계(행평균): [2. 5. 8.]\n",
      "행방향으로의 합계: [12 15 18]\n"
     ]
    }
   ],
   "source": [
    "import numpy as np\n",
    "arr = np.array([[1,2,3],[4,5,6],[7,8,9]])\n",
    "print(\"원본:\", arr)\n",
    "print(\"누적합(행):\", arr.cumsum(0))\n",
    "print(\"누적곱(열):\", arr.cumprod(1))\n",
    "print(\"배열의 합계:\", arr.sum())\n",
    "print(\"열방향으로의 합계(행평균):\", arr.mean(axis =1)) # 행방향과 열방향의 구분\n",
    "print(\"행방향으로의 합계:\", arr.sum(0)) # 열별 합계"
   ]
  },
  {
   "cell_type": "code",
   "execution_count": 4,
   "metadata": {},
   "outputs": [
    {
     "name": "stdout",
     "output_type": "stream",
     "text": [
      "2.0\n",
      "1.25\n",
      "1.118033988749895\n"
     ]
    }
   ],
   "source": [
    "# 가중치(변수 중요도)를 부여한다는 의미: \n",
    "a = np.array([1,2,3,4]) \n",
    "wts = np.array([4,3,2,1]) # 1에게는 4 정도의 중요성을, 3에게는 2 정도의 중요성을 부여한다\n",
    "print(np.average(a, weights = wts))\n",
    "std = np.sqrt(np.mean(abs(a-a.mean())**2))\n",
    "print(np.var([1,2,3,4])) # 분산\n",
    "print(np.std([1,2,3,4])) # 표준편차"
   ]
  },
  {
   "cell_type": "code",
   "execution_count": 5,
   "metadata": {},
   "outputs": [
    {
     "ename": "SyntaxError",
     "evalue": "invalid syntax (<ipython-input-5-6791fe41fb6b>, line 2)",
     "output_type": "error",
     "traceback": [
      "\u001b[1;36m  File \u001b[1;32m\"<ipython-input-5-6791fe41fb6b>\"\u001b[1;36m, line \u001b[1;32m2\u001b[0m\n\u001b[1;33m    - matplotlib로 구성\u001b[0m\n\u001b[1;37m                   ^\u001b[0m\n\u001b[1;31mSyntaxError\u001b[0m\u001b[1;31m:\u001b[0m invalid syntax\n"
     ]
    }
   ],
   "source": [
    "# matplotlib, seaborn, pandas.plot\n",
    "- matplotlib로 구성    \n",
    "- %matplotlib inline을 사용해야 출력"
   ]
  },
  {
   "cell_type": "code",
   "execution_count": null,
   "metadata": {},
   "outputs": [],
   "source": [
    "%matplotlib inline\n",
    "from numpy import mean # 메모리 낭비를 절감\n",
    "from numpy import std\n",
    "from numpy.random import randn # 서브 패키지: linalg, random, fft(푸리에 변환), poly(다차방정식)\n",
    "from numpy.random import seed # random: 의사난수) 데이터 출력 순서 정해짐\n",
    "from matplotlib import pyplot\n",
    "seed(1) # 같은 수가 발생\n",
    "data1 = 20 * randn(1000) + 100 # randn 정규분포\n",
    "data2 = data1 + (10 * randn(1000) + 50)\n",
    "print('data1: mean=%.3f stdv=%.3f' % (mean(data1), std(data1)))\n",
    "print('data2: mean=%.3f stdv=%.3f' % (mean(data2), std(data2)))\n",
    "pyplot.scatter(data1, data2) # 산포도\n",
    "pyplot.show()\n"
   ]
  },
  {
   "cell_type": "code",
   "execution_count": null,
   "metadata": {},
   "outputs": [],
   "source": [
    "import matplotlib.pyplot as plt\n",
    "print(plt.style.available)"
   ]
  },
  {
   "cell_type": "code",
   "execution_count": null,
   "metadata": {},
   "outputs": [],
   "source": [
    "plt.style.use(['classic']) # 'classic', ...dark_background\n",
    "xs = np.random.normal(0,3, (100,3)) # 평균=0, 표준편차:3, 100x3 데이터 생성\n",
    "plt.figure(figsize=(12,4))\n",
    "for i in range(0,3):\n",
    "    x = xs[:, i]\n",
    "    plt.plot(range(0, len(x)), x, linewidth = 1, linestyle = '--', label='x_{}'.format(i))\n",
    "plt.legend() # 범례\n",
    "plt.grid(True) # 격자선, False하면 격자선 사라짐\n",
    "plt.show()"
   ]
  },
  {
   "cell_type": "code",
   "execution_count": null,
   "metadata": {},
   "outputs": [],
   "source": [
    "fig = plt.figure()\n",
    "ax1 = fig.add_subplot(2,2,1) # 2행 2열 \n",
    "ax2 = fig.add_subplot(2,2,4)\n",
    "\n",
    "x = range(0, 100)\n",
    "y = [v*v for v in x]\n",
    "\n",
    "ax1.plot(x,y)\n",
    "ax2.bar(x, y) # 막대그래프\n",
    "plt.title('Plot')\n",
    "plt.show()"
   ]
  },
  {
   "cell_type": "code",
   "execution_count": null,
   "metadata": {},
   "outputs": [],
   "source": [
    "x1 = np.linspace(0.0 , 5.0)\n",
    "x2 = np.linspace(0.0 , 2.0)\n",
    "\n",
    "plt.plot(np.exp(x1), 'yo-') # 지수함수의 그라프 # exponenet 지수\n",
    "plt.show()"
   ]
  },
  {
   "cell_type": "code",
   "execution_count": null,
   "metadata": {},
   "outputs": [],
   "source": [
    "y1 = np.cos(2 * np.pi * x1) * np.exp(-x1) # -가 줄어들게 함\n",
    "y2 = np.cos(2 * np.pi * x2)\n",
    "ax1 = plt.subplot(2,1,1)\n",
    "plt.plot(x1, y1, 'yo-') # yo- == YELLOW, point marking, linetype # yh-. , yh-- , yh:\n",
    "plt.title('subplots')\n",
    "print(ax1)\n",
    "ax2 = plt.subplot(2,1,2)\n",
    "plt.plot(x2,y2, 'r.-')\n",
    "plt.xlabel('time(s)')\n",
    "print(ax2)\n",
    "plt.show()"
   ]
  },
  {
   "cell_type": "code",
   "execution_count": null,
   "metadata": {},
   "outputs": [],
   "source": [
    "fig = plt.figure(figsize = (20,10))\n",
    "ax1 = fig.add_subplot(121)\n",
    "ax2 = fig.add_subplot(122)\n",
    "# 이산형은 막대그래프, 연속형 막대그래프는 히스토그램\n",
    "ax1.bar([1,2,3],[3,4,5], color='y')\n",
    "ax2.barh([0.5,1,2.5],[0,1,2]) # v 수직, h 수평\n",
    "ax1.axvline(0.65)\n",
    "ax2.axhline(0.45)\n",
    "plt.tight_layout() # 여백을 줄여서 표현\n",
    "plt.show()\n"
   ]
  },
  {
   "cell_type": "code",
   "execution_count": null,
   "metadata": {},
   "outputs": [],
   "source": [
    "# boxplot\n",
    "# IQR(Inter Quantile Range = 3사분위수 - 1사분위수)\n",
    "# IQR * +- 1.5 : 상하한선\n",
    "np.random.seed(19680801)\n",
    "spread = np.random.rand(50) * 100 # 분포\n",
    "center = np.ones(25) * 50 # 중심\n",
    "filter_high = np.random.rand(10) * 100 + 100 # 상한선+을 넘는 데이터\n",
    "flier_low = np.random.rand(10) * -100 # 하한선-을 넘는 데이터\n",
    "data = np.concatenate((spread, center, filter_high,flier_low)) # 데이터를 병합 concatenate\n",
    "fig1, ax1 = plt.subplots() # 형태를 제어, 도화지\n",
    "ax1.set_title('boxplot')\n",
    "ax1.boxplot(data)"
   ]
  },
  {
   "cell_type": "code",
   "execution_count": null,
   "metadata": {},
   "outputs": [],
   "source": [
    "fig2, ax2 = plt.subplots()\n",
    "ax2.set_title('Notched boxes') # 홈이 95% 신뢰구간\n",
    "ax2.boxplot(data, notch = True)"
   ]
  },
  {
   "cell_type": "code",
   "execution_count": null,
   "metadata": {},
   "outputs": [],
   "source": [
    "red_square = dict(markerfacecolor = 'r', marker ='s') # square 사각형\n",
    "fig5, ax5 = plt.subplots()\n",
    "ax5.set_title('Horizontal')\n",
    "ax5.boxplot(data, vert=False, flierprops = red_square) # 이상치 표현을 제어"
   ]
  },
  {
   "cell_type": "code",
   "execution_count": null,
   "metadata": {},
   "outputs": [],
   "source": [
    "# meshgrid (그물망 격자)\n",
    "# 그래프에 수식: latex 문법 사용\n",
    "points = np.arange(-5, 5, 0.01) # 범위 -5에서 5까지 0.01 간격으로 == 좌우 각 1000개 = 총 1 백만 개\n",
    "xs, ys = np.meshgrid(points, points)\n",
    "z = np.sqrt(xs **2 + ys ** 2)\n",
    "# 팔레트 : \n",
    "plt.imshow(z, cmap=plt.cm.rainbow) # imageshow 데이터를 이미지로 출력\n",
    "plt.colorbar() # 컬러별 수의 크기값을 출력\n",
    "plt.title(\"$Wsqrt{x^2+y^2}$\")\n",
    "plt.show"
   ]
  },
  {
   "cell_type": "code",
   "execution_count": null,
   "metadata": {},
   "outputs": [],
   "source": [
    "# 3차원 : Axes3D\n",
    "from mpl_toolkits.mplot3d import Axes3D\n",
    "fig = plt.figure()\n",
    "ax = Axes3D(fig) # 3차원 출력 도화지\n",
    "X = np.arange(-4, 4, 0.25) # 0,0\n",
    "Y = np.arange(-4, 4, 0.25)\n",
    "X, Y = np.meshgrid(X, Y) # 좌표점 -4, -3.75 , -3.5, ... 수능로 변해감\n",
    "R = np.sqrt(X**2 + Y**2) # 거리값\n",
    "#Z = (R)\n",
    "Z = np.sin(R)\n",
    "ax.plot_surface(X, Y, Z, rstride=1, cstride=1, cmap = 'hot')\n",
    "plt.show()\n",
    "ax.plot_surface(X, Y, Z, rstride = 1, cstride=1, cmap=plt.cm.rainbow)\n",
    "plt.show()"
   ]
  },
  {
   "cell_type": "code",
   "execution_count": null,
   "metadata": {},
   "outputs": [],
   "source": [
    "from mpl_toolkits.mplot3d import Axes3D\n",
    "def f(x,y): return (1-x/2+x**5+y**3)*np.exp(-x**2 -y**2)\n",
    "fig = plt.figure()\n",
    "ax = Axes3D(fig)\n",
    "X = np.arange(-4, 4, 0.25)\n",
    "Y = np.arange(-4, 4, 0.25)\n",
    "X, Y = np.meshgrid(X, Y)\n",
    "Z = np.sin(f(X,Y))\n",
    "# row, column\n",
    "ax.plot_surface(X,Y,Z, rstride=1, cstride=1, cmap='hot')\n",
    "plt.show()"
   ]
  },
  {
   "cell_type": "code",
   "execution_count": null,
   "metadata": {},
   "outputs": [],
   "source": [
    "plt.contourf(X,Y, f(X,Y), 8, alpha=.75, cmap='jet')\n",
    "plt.colorbar()\n",
    "plt.show()"
   ]
  },
  {
   "cell_type": "code",
   "execution_count": null,
   "metadata": {},
   "outputs": [],
   "source": [
    "a = [0,0,1,0,\n",
    "    1,0,1,0,\n",
    "    1,1,1,1,\n",
    "    0,0,1,0]\n",
    "np1 = np.array(a)\n",
    "print(np1)\n",
    "plt.imshow(np1.reshape(4,4), cmap='Greys', interpolation='nearest') # 보간(interpolation)법 : 컬러값이 지정되지 않으면 보간해서 적용해라\n",
    "plt.show()"
   ]
  },
  {
   "cell_type": "code",
   "execution_count": null,
   "metadata": {},
   "outputs": [],
   "source": [
    "%matplotlib inline\n",
    "from matplotlib import font_manager, rc\n",
    "import matplotlib\n",
    "import matplotlib.pyplot as plt\n",
    "plt.style.use(['classic'])\n",
    "\n",
    "font_path = 'C://Windows/Fonts/NanumBarunGothicLight.ttf' \n",
    "font_name = font_manager.FontProperties(fname=font_path).get_name()\n",
    "# resource configuration\n",
    "matplotlib.rc('font', family=font_name)\n",
    "plt.plot([1,2,3,4])\n",
    "plt.title('글꼴 적용', fontproperties = fontprop)\n",
    "plt.xlabel(\"시간\")\n",
    "plt.ylabel(\"거리\")\n",
    "plt.show()"
   ]
  },
  {
   "cell_type": "code",
   "execution_count": null,
   "metadata": {},
   "outputs": [],
   "source": [
    "import matplotlib.font_manager as fm\n",
    "path = 'C:/Windows/Fonts/NanumBarunGothicLight.ttf'\n",
    "fontprop = fm.FontProperties(fname=path, size=18)\n",
    "data = np.random.randint(-100,100,50).cumsum() # cumulative sum (누적합)\n",
    "data\n",
    "plt.plot(range(50), data, 'r')\n",
    "plt.title('가격변동 추이', fontproperties = fontprop)\n",
    "plt.ylabel('가격', fontproperties=fontprop)\n",
    "plt.show()"
   ]
  },
  {
   "cell_type": "code",
   "execution_count": 40,
   "metadata": {},
   "outputs": [
    {
     "data": {
      "text/plain": [
       "Text(0, 0.5, 'f(x)')"
      ]
     },
     "execution_count": 40,
     "metadata": {},
     "output_type": "execute_result"
    },
    {
     "data": {
      "image/png": "[encoded data removed]",
      "text/plain": [
       "<Figure size 432x288 with 1 Axes>"
      ]
     },
     "metadata": {},
     "output_type": "display_data"
    }
   ],
   "source": [
    "from pylab import plt\n",
    "plt.style.use('ggplot')\n",
    "import matplotlib as mpl\n",
    "mpl.rcParams['font.family'] = 'Batang'\n",
    "def f(x):\n",
    "    return np.sin(x) + 0.5 * x # 주기함수\n",
    "x = np.linspace(-2 * np.pi, 2 * np.pi, 50)\n",
    "plt.plot(x, f(x), 'b')\n",
    "plt.grid(True)\n",
    "plt.xlabel('x')\n",
    "plt.ylabel('f(x)')"
   ]
  },
  {
   "cell_type": "code",
   "execution_count": null,
   "metadata": {},
   "outputs": [],
   "source": [
    "# 최소제곱법을 이용해서 fitting 적합"
   ]
  },
  {
   "cell_type": "code",
   "execution_count": null,
   "metadata": {},
   "outputs": [],
   "source": [
    "# polyfit 다차방장석으로 fitting(적합): 계수를 찾아내는 것\n",
    "reg = np.polyfit(x, f(x), deg =5) # 5차 방정식으로 피팅하라\n",
    "ry = np.polyval(reg, x)\n",
    "\n",
    "plt.plot(x, f(x), 'b', label='f(x)') # 원본 데이터\n",
    "plt.plot(x,ry, 'r', label='regression') # ?\n",
    "plt.legend(loc=0)\n",
    "plt.grid(True)\n",
    "plt.xlabel('x')\n",
    "plt.ylabel('f(x)')"
   ]
  },
  {
   "cell_type": "code",
   "execution_count": null,
   "metadata": {},
   "outputs": [],
   "source": [
    "# 지리정보 시스템\n",
    "import folium\n",
    "map_1 = folium.Map(location=[37.565711,126.978090],\n",
    "                  zoom_start =16,\n",
    "                  tiles='Stamen Terrain')\n",
    "folium.Marker([37.565711, 126.978090], popup='서울시청').add_to(map_1)\n",
    "folium.Marker([37.565711, 126.978190],\n",
    "             popup='서울시청 및',\n",
    "             icon = folium.Icon(icon='cloud')\n",
    "             ).add_to(map_1)\n",
    "map_1"
   ]
  },
  {
   "cell_type": "code",
   "execution_count": 14,
   "metadata": {},
   "outputs": [
    {
     "data": {
      "text/html": [
       "<div style=\"width:100%;\"><div style=\"position:relative;width:100%;height:0;padding-bottom:60%;\"><iframe src=\"data:text/html;charset=utf-8;base64,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\" style=\"position:absolute;width:100%;height:100%;left:0;top:0;border:none !important;\" allowfullscreen webkitallowfullscreen mozallowfullscreen></iframe></div></div>"
      ],
      "text/plain": [
       "<folium.folium.Map at 0x20ecb973c08>"
      ]
     },
     "execution_count": 14,
     "metadata": {},
     "output_type": "execute_result"
    }
   ],
   "source": [
    "# 숙제: 서울소재 10개 대학의 좌표를 출력하시오 ##############################################################\n",
    "import folium\n",
    "map_uni = folium.Map(location=[37.565711,126.978090],\n",
    "                  zoom_start =11,\n",
    "                  tiles='Stamen Terrain')\n",
    "folium.Marker([37.460935, 126.952100], popup='서울대학교').add_to(map_uni)\n",
    "folium.Marker([37.483382, 126.996054], popup='백석예술대학교').add_to(map_uni)\n",
    "folium.Marker([37.498608, 126.957675], popup='숭실대학교').add_to(map_uni)\n",
    "folium.Marker([37.508487, 126.956859], popup='중앙대학교').add_to(map_uni)\n",
    "folium.Marker([37.505464, 126.877072], popup='남개대학교').add_to(map_uni)\n",
    "folium.Marker([37.501514, 126.868050], popup='동양미래대학교').add_to(map_uni)\n",
    "folium.Marker([37.491092, 127.016012], popup='서울교육대학교').add_to(map_uni)\n",
    "folium.Marker([37.564469, 127.044126], popup='한양대학교').add_to(map_uni)\n",
    "folium.Marker([37.554399, 127.045499], popup='한국방통대학교').add_to(map_uni)\n",
    "folium.Marker([37.560659, 126.852895], popup='서울디지털대학교').add_to(map_uni)\n",
    "\n",
    "folium.Marker([37.565711, 126.978190],\n",
    "             popup='서울 소재 10개 대학',\n",
    "             icon = folium.Icon(icon='cloud')\n",
    "             ).add_to(map_uni)\n",
    "map_uni"
   ]
  },
  {
   "cell_type": "code",
   "execution_count": null,
   "metadata": {},
   "outputs": [],
   "source": [
    "##########################################################################################################################\n",
    "############## PANDAS 시작"
   ]
  },
  {
   "cell_type": "code",
   "execution_count": null,
   "metadata": {},
   "outputs": [],
   "source": [
    "# pandas 자료구조 = Series(1차원), DataFrame(2차원), Panel(3차원)\n",
    "# numpy가 베이스이기 때문에 numpy방식의 인덱싱이 가능, + dict(중복을 허용하고, 순서를 보장)"
   ]
  },
  {
   "cell_type": "code",
   "execution_count": 28,
   "metadata": {},
   "outputs": [
    {
     "name": "stdout",
     "output_type": "stream",
     "text": [
      "0.0\n",
      "0.0\n",
      "nan\n"
     ]
    },
    {
     "data": {
      "text/plain": [
       "[1.0, 2.0, nan, 0.0]"
      ]
     },
     "execution_count": 28,
     "metadata": {},
     "output_type": "execute_result"
    }
   ],
   "source": [
    "import pandas as pd\n",
    "# 파이썬 딕셔너리를 Series, DataFrame, Panel로 변환해서 사용\n",
    "data = {'a':0., 'b':1.,'c':2.} # dict\n",
    "s = pd.Series(data) # 1차원\n",
    "print(s['a']) # 키 인덱싱\n",
    "s = pd.Series(data, index = ['b','c','d','a']) # 행이름\n",
    "print(s['a'])\n",
    "print(s['d']) # 데이터가 없기 때문에 nan(Not A Number)\n",
    "list(s)"
   ]
  },
  {
   "cell_type": "code",
   "execution_count": 32,
   "metadata": {},
   "outputs": [
    {
     "name": "stdout",
     "output_type": "stream",
     "text": [
      "인덱스에 의한 출력 1\n",
      "1\n",
      "a    1\n",
      "b    2\n",
      "c    3\n",
      "dtype: int64\n",
      "음수 c    3\n",
      "d    4\n",
      "e    5\n",
      "dtype: int64\n",
      "100\n",
      "S: \n",
      " a    100\n",
      "b      2\n",
      "c      3\n",
      "d      4\n",
      "e      5\n",
      "f     10\n",
      "dtype: int64\n",
      "filtering에 의한 출력 a    100\n",
      "e      5\n",
      "f     10\n",
      "dtype: int64\n",
      "a    100\n",
      "b      2\n",
      "c      3\n",
      "d      4\n",
      "e      5\n",
      "f     10\n",
      "dtype: int64\n",
      "a    200\n",
      "b      4\n",
      "c      6\n",
      "d      8\n",
      "e     10\n",
      "f     20\n",
      "dtype: int64\n"
     ]
    }
   ],
   "source": [
    "s = pd.Series([1,2,3,4,5], index = ['a','b','c','d','e'])\n",
    "print(\"인덱스에 의한 출력\", s[0]) # 순서에 의한 인덱스\n",
    "print(s['a']) # 키에 의한 인덱스\n",
    "print(s[:3]) # numpy 방식 인덱싱 가능\n",
    "print('음수', s[-3:])\n",
    "s['a'] =100\n",
    "print(s['a'])\n",
    "s['f']=10\n",
    "print('S: \\n', s)\n",
    "print(\"filtering에 의한 출력\", s[s>4]) # 인덱스가 boolean 인덱스로 바뀜\n",
    "print(s)\n",
    "print(s*2)"
   ]
  },
  {
   "cell_type": "code",
   "execution_count": 35,
   "metadata": {},
   "outputs": [
    {
     "name": "stdout",
     "output_type": "stream",
     "text": [
      "data = ['a' 'b' 'c' 'd']\n",
      "시리즈 데이터 ['a' 'b' 'c' 'd']\n",
      "시리즈 인덱스 RangeIndex(start=0, stop=4, step=1)\n",
      "시리즈 초기화 0    a\n",
      "1    b\n",
      "2    c\n",
      "3    d\n",
      "dtype: object\n",
      "시리즈 인덱스의 값 [0 1 2 3]\n",
      "a\n",
      "0    a\n",
      "1    b\n",
      "2    c\n",
      "3    d\n",
      "dtype: object\n",
      "d    1\n",
      "b    1\n",
      "c    1\n",
      "a    1\n",
      "dtype: int64\n",
      "############################################\n",
      "d    0.25\n",
      "b    0.25\n",
      "c    0.25\n",
      "a    0.25\n",
      "dtype: float64\n",
      "count     4\n",
      "unique    4\n",
      "top       d\n",
      "freq      1\n",
      "dtype: object\n",
      "데이터 타입은:  object\n",
      "차원:  1\n",
      "차수:  (4,)\n"
     ]
    }
   ],
   "source": [
    "data = np.array(['a','b','c','d']) # ndarray\n",
    "print('data =', data)\n",
    "# range: 결과값이 리스트 ############################################################ 어떻게?\n",
    "# arange: 결과값이 ndarray [array range]\n",
    "# RangeIndex 객체가 자동으로 생성됨 => 데이터 타입은 (순서가 있는) index\n",
    "s = pd.Series(data) # ndarray를 이용해 시리즈 초기화\n",
    "print(\"시리즈 데이터\", s.values) # 값만\n",
    "print(\"시리즈 인덱스\", s.index) # RangeIndex(start=0, stop=4, step=1)\n",
    "print(\"시리즈 초기화\", s)\n",
    "print(\"시리즈 인덱스의 값\", s.index.values)\n",
    "print(s[0])\n",
    "print(s.head()) # tail()\n",
    "print(s.value_counts()) # 도수 분포표\n",
    "print(\"############################################\")\n",
    "print(s.value_counts(normalize = True)) # 사이즈 1로 => 상대도수분포표\n",
    "print(s.describe()) # describe: 숫자 변수에 대해서만 출력\n",
    "print(\"데이터 타입은: \",s.dtypes)\n",
    "print(\"차원: \",s.ndim)\n",
    "print(\"차수: \",s.shape)"
   ]
  },
  {
   "cell_type": "code",
   "execution_count": 37,
   "metadata": {
    "scrolled": true
   },
   "outputs": [
    {
     "name": "stdout",
     "output_type": "stream",
     "text": [
      "Ohio      35000\n",
      "Texas     71000\n",
      "Oregon    16000\n",
      "Utah       5000\n",
      "dtype: int64\n",
      "(4,)\n",
      "California        NaN\n",
      "Ohio          35000.0\n",
      "Oregon        16000.0\n",
      "Texas         71000.0\n",
      "dtype: float64\n",
      "##############################################################\n",
      "시리즈 인덱스 Index(['Ohio', 'Texas', 'Oregon', 'Utah'], dtype='object')\n",
      "시리즈 인덱스 Index(['California', 'Ohio', 'Oregon', 'Texas'], dtype='object')\n",
      "null이 있는가 California     True\n",
      "Ohio          False\n",
      "Oregon        False\n",
      "Texas         False\n",
      "dtype: bool\n",
      "결측치가 있는가 California    False\n",
      "Ohio           True\n",
      "Oregon         True\n",
      "Texas          True\n",
      "dtype: bool\n",
      "객체 출력\n",
      "obj3을 출력 Ohio      35000\n",
      "Texas     71000\n",
      "Oregon    16000\n",
      "Utah       5000\n",
      "dtype: int64\n",
      "obj4을 출력 California        NaN\n",
      "Ohio          35000.0\n",
      "Oregon        16000.0\n",
      "Texas         71000.0\n",
      "dtype: float64\n",
      "연산결과를 출력합니다 California         NaN\n",
      "Ohio           70000.0\n",
      "Oregon         32000.0\n",
      "Texas         142000.0\n",
      "Utah               NaN\n",
      "dtype: float64\n"
     ]
    }
   ],
   "source": [
    "# dict\n",
    "sdata = {'Ohio': 35000, 'Texas': 71000, 'Oregon':16000, 'Utah':5000}\n",
    "obj3  = pd.Series(sdata)\n",
    "print(obj3)\n",
    "print(obj3.shape) # 4차수\n",
    "states = ['California', 'Ohio', 'Oregon','Texas']\n",
    "obj4 = pd.Series(sdata, index=states) # California: NaN\n",
    "print(obj4)\n",
    "print(\"##############################################################\")\n",
    "print('시리즈 인덱스', obj3.index) # Index\n",
    "print('시리즈 인덱스', obj4.index) # Index dtype = object(문자열)\n",
    "print('null이 있는가', pd.isnull(obj4)) # 데이터가 널값인가\n",
    "print('결측치가 있는가', pd.notnull(obj4)) # 널값이 아닐때 True\n",
    "print('객체 출력')\n",
    "print('obj3을 출력', obj3)\n",
    "print('obj4을 출력', obj4)\n",
    "print('연산결과를 출력합니다', obj3+obj4)\n",
    "# 짝이 맞지 않기 때문에:\n",
    "# index가 다름 -> 짝이 없으면 NaN"
   ]
  },
  {
   "cell_type": "code",
   "execution_count": 38,
   "metadata": {},
   "outputs": [
    {
     "data": {
      "text/plain": [
       "0    0.0\n",
       "1    0.0\n",
       "2    2.0\n",
       "3    2.0\n",
       "4    NaN\n",
       "5    0.0\n",
       "6    1.0\n",
       "dtype: float64"
      ]
     },
     "execution_count": 38,
     "metadata": {},
     "output_type": "execute_result"
    }
   ],
   "source": [
    "# 문자열 처리함수\n",
    "s = pd.Series(['A', 'B', 'Aaba','Baca', np.nan, 'CABA','cat'])\n",
    "s.str.count('a')"
   ]
  },
  {
   "cell_type": "code",
   "execution_count": 45,
   "metadata": {},
   "outputs": [
    {
     "data": {
      "image/png": "[encoded data removed]",
      "text/plain": [
       "<Figure size 432x288 with 1 Axes>"
      ]
     },
     "metadata": {},
     "output_type": "display_data"
    }
   ],
   "source": [
    "s = pd.Series([1, 2, 2.5, 3, 3.5, 4, 100])\n",
    "s.plot.kde() # kernel density estimate 곡선으로 출력\n",
    "# 데이터가 없는 부분은 kernel로 예측 - 가우시안 분포\n",
    "plt.show()"
   ]
  },
  {
   "cell_type": "code",
   "execution_count": 46,
   "metadata": {},
   "outputs": [
    {
     "data": {
      "image/png": "[encoded data removed]",
      "text/plain": [
       "<Figure size 432x288 with 1 Axes>"
      ]
     },
     "metadata": {},
     "output_type": "display_data"
    }
   ],
   "source": [
    "s.plot.kde(bw_method=0.3) # 과적합 bin width\n",
    "plt.show()"
   ]
  },
  {
   "cell_type": "code",
   "execution_count": 48,
   "metadata": {},
   "outputs": [
    {
     "data": {
      "text/html": [
       "<div>\n",
       "<style scoped>\n",
       "    .dataframe tbody tr th:only-of-type {\n",
       "        vertical-align: middle;\n",
       "    }\n",
       "\n",
       "    .dataframe tbody tr th {\n",
       "        vertical-align: top;\n",
       "    }\n",
       "\n",
       "    .dataframe thead th {\n",
       "        text-align: right;\n",
       "    }\n",
       "</style>\n",
       "<table border=\"1\" class=\"dataframe\">\n",
       "  <thead>\n",
       "    <tr style=\"text-align: right;\">\n",
       "      <th></th>\n",
       "      <th>area</th>\n",
       "      <th>pop</th>\n",
       "    </tr>\n",
       "  </thead>\n",
       "  <tbody>\n",
       "    <tr>\n",
       "      <td>California</td>\n",
       "      <td>423967</td>\n",
       "      <td>38332521</td>\n",
       "    </tr>\n",
       "    <tr>\n",
       "      <td>Texas</td>\n",
       "      <td>695662</td>\n",
       "      <td>26448193</td>\n",
       "    </tr>\n",
       "    <tr>\n",
       "      <td>New York</td>\n",
       "      <td>141297</td>\n",
       "      <td>19651127</td>\n",
       "    </tr>\n",
       "    <tr>\n",
       "      <td>Florida</td>\n",
       "      <td>170312</td>\n",
       "      <td>19552860</td>\n",
       "    </tr>\n",
       "    <tr>\n",
       "      <td>Illinois</td>\n",
       "      <td>149995</td>\n",
       "      <td>12882135</td>\n",
       "    </tr>\n",
       "  </tbody>\n",
       "</table>\n",
       "</div>"
      ],
      "text/plain": [
       "              area       pop\n",
       "California  423967  38332521\n",
       "Texas       695662  26448193\n",
       "New York    141297  19651127\n",
       "Florida     170312  19552860\n",
       "Illinois    149995  12882135"
      ]
     },
     "execution_count": 48,
     "metadata": {},
     "output_type": "execute_result"
    }
   ],
   "source": [
    "import pandas as pd\n",
    "area = pd.Series({'California': 423967, 'Texas': 695662,\n",
    "                  'New York': 141297, 'Florida': 170312,\n",
    "                  'Illinois': 149995})\n",
    "pop = pd.Series({'California': 38332521, 'Texas': 26448193,\n",
    "                 'New York': 19651127, 'Florida': 19552860,\n",
    "                 'Illinois': 12882135})\n",
    "data = pd.DataFrame({'area':area, 'pop':pop})\n",
    "data "
   ]
  },
  {
   "cell_type": "code",
   "execution_count": 49,
   "metadata": {},
   "outputs": [
    {
     "data": {
      "text/plain": [
       "California    423967\n",
       "Texas         695662\n",
       "New York      141297\n",
       "Florida       170312\n",
       "Illinois      149995\n",
       "Name: area, dtype: int64"
      ]
     },
     "execution_count": 49,
     "metadata": {},
     "output_type": "execute_result"
    }
   ],
   "source": [
    "data['area']\n",
    "data.area"
   ]
  },
  {
   "cell_type": "code",
   "execution_count": 50,
   "metadata": {},
   "outputs": [
    {
     "data": {
      "text/plain": [
       "True"
      ]
     },
     "execution_count": 50,
     "metadata": {},
     "output_type": "execute_result"
    }
   ],
   "source": [
    "# 객체 비교 is None\n",
    "data.area is data['area']"
   ]
  },
  {
   "cell_type": "code",
   "execution_count": 51,
   "metadata": {},
   "outputs": [
    {
     "data": {
      "text/html": [
       "<div>\n",
       "<style scoped>\n",
       "    .dataframe tbody tr th:only-of-type {\n",
       "        vertical-align: middle;\n",
       "    }\n",
       "\n",
       "    .dataframe tbody tr th {\n",
       "        vertical-align: top;\n",
       "    }\n",
       "\n",
       "    .dataframe thead th {\n",
       "        text-align: right;\n",
       "    }\n",
       "</style>\n",
       "<table border=\"1\" class=\"dataframe\">\n",
       "  <thead>\n",
       "    <tr style=\"text-align: right;\">\n",
       "      <th></th>\n",
       "      <th>area</th>\n",
       "      <th>pop</th>\n",
       "      <th>density</th>\n",
       "    </tr>\n",
       "  </thead>\n",
       "  <tbody>\n",
       "    <tr>\n",
       "      <td>California</td>\n",
       "      <td>423967</td>\n",
       "      <td>38332521</td>\n",
       "      <td>90.413926</td>\n",
       "    </tr>\n",
       "    <tr>\n",
       "      <td>Texas</td>\n",
       "      <td>695662</td>\n",
       "      <td>26448193</td>\n",
       "      <td>38.018740</td>\n",
       "    </tr>\n",
       "    <tr>\n",
       "      <td>New York</td>\n",
       "      <td>141297</td>\n",
       "      <td>19651127</td>\n",
       "      <td>139.076746</td>\n",
       "    </tr>\n",
       "    <tr>\n",
       "      <td>Florida</td>\n",
       "      <td>170312</td>\n",
       "      <td>19552860</td>\n",
       "      <td>114.806121</td>\n",
       "    </tr>\n",
       "    <tr>\n",
       "      <td>Illinois</td>\n",
       "      <td>149995</td>\n",
       "      <td>12882135</td>\n",
       "      <td>85.883763</td>\n",
       "    </tr>\n",
       "  </tbody>\n",
       "</table>\n",
       "</div>"
      ],
      "text/plain": [
       "              area       pop     density\n",
       "California  423967  38332521   90.413926\n",
       "Texas       695662  26448193   38.018740\n",
       "New York    141297  19651127  139.076746\n",
       "Florida     170312  19552860  114.806121\n",
       "Illinois    149995  12882135   85.883763"
      ]
     },
     "execution_count": 51,
     "metadata": {},
     "output_type": "execute_result"
    }
   ],
   "source": [
    "# 객체에서 변수를 실시간 추가하는 것이 가능\n",
    "# append\n",
    "data['density'] = data['pop']/data['area']\n",
    "data"
   ]
  },
  {
   "cell_type": "code",
   "execution_count": 52,
   "metadata": {},
   "outputs": [
    {
     "data": {
      "text/plain": [
       "array([[4.23967000e+05, 3.83325210e+07, 9.04139261e+01],\n",
       "       [6.95662000e+05, 2.64481930e+07, 3.80187404e+01],\n",
       "       [1.41297000e+05, 1.96511270e+07, 1.39076746e+02],\n",
       "       [1.70312000e+05, 1.95528600e+07, 1.14806121e+02],\n",
       "       [1.49995000e+05, 1.28821350e+07, 8.58837628e+01]])"
      ]
     },
     "execution_count": 52,
     "metadata": {},
     "output_type": "execute_result"
    }
   ],
   "source": [
    "data.values # ndarray => numpy 함수로 처리"
   ]
  },
  {
   "cell_type": "code",
   "execution_count": 53,
   "metadata": {},
   "outputs": [
    {
     "data": {
      "text/html": [
       "<div>\n",
       "<style scoped>\n",
       "    .dataframe tbody tr th:only-of-type {\n",
       "        vertical-align: middle;\n",
       "    }\n",
       "\n",
       "    .dataframe tbody tr th {\n",
       "        vertical-align: top;\n",
       "    }\n",
       "\n",
       "    .dataframe thead th {\n",
       "        text-align: right;\n",
       "    }\n",
       "</style>\n",
       "<table border=\"1\" class=\"dataframe\">\n",
       "  <thead>\n",
       "    <tr style=\"text-align: right;\">\n",
       "      <th></th>\n",
       "      <th>California</th>\n",
       "      <th>Texas</th>\n",
       "      <th>New York</th>\n",
       "      <th>Florida</th>\n",
       "      <th>Illinois</th>\n",
       "    </tr>\n",
       "  </thead>\n",
       "  <tbody>\n",
       "    <tr>\n",
       "      <td>area</td>\n",
       "      <td>4.239670e+05</td>\n",
       "      <td>6.956620e+05</td>\n",
       "      <td>1.412970e+05</td>\n",
       "      <td>1.703120e+05</td>\n",
       "      <td>1.499950e+05</td>\n",
       "    </tr>\n",
       "    <tr>\n",
       "      <td>pop</td>\n",
       "      <td>3.833252e+07</td>\n",
       "      <td>2.644819e+07</td>\n",
       "      <td>1.965113e+07</td>\n",
       "      <td>1.955286e+07</td>\n",
       "      <td>1.288214e+07</td>\n",
       "    </tr>\n",
       "    <tr>\n",
       "      <td>density</td>\n",
       "      <td>9.041393e+01</td>\n",
       "      <td>3.801874e+01</td>\n",
       "      <td>1.390767e+02</td>\n",
       "      <td>1.148061e+02</td>\n",
       "      <td>8.588376e+01</td>\n",
       "    </tr>\n",
       "  </tbody>\n",
       "</table>\n",
       "</div>"
      ],
      "text/plain": [
       "           California         Texas      New York       Florida      Illinois\n",
       "area     4.239670e+05  6.956620e+05  1.412970e+05  1.703120e+05  1.499950e+05\n",
       "pop      3.833252e+07  2.644819e+07  1.965113e+07  1.955286e+07  1.288214e+07\n",
       "density  9.041393e+01  3.801874e+01  1.390767e+02  1.148061e+02  8.588376e+01"
      ]
     },
     "execution_count": 53,
     "metadata": {},
     "output_type": "execute_result"
    }
   ],
   "source": [
    "data.T # 전치행렬"
   ]
  },
  {
   "cell_type": "code",
   "execution_count": 54,
   "metadata": {},
   "outputs": [
    {
     "data": {
      "text/plain": [
       "array([4.23967000e+05, 3.83325210e+07, 9.04139261e+01])"
      ]
     },
     "execution_count": 54,
     "metadata": {},
     "output_type": "execute_result"
    }
   ],
   "source": [
    "data.values[0] # 행값"
   ]
  },
  {
   "cell_type": "code",
   "execution_count": 55,
   "metadata": {},
   "outputs": [
    {
     "data": {
      "text/html": [
       "<div>\n",
       "<style scoped>\n",
       "    .dataframe tbody tr th:only-of-type {\n",
       "        vertical-align: middle;\n",
       "    }\n",
       "\n",
       "    .dataframe tbody tr th {\n",
       "        vertical-align: top;\n",
       "    }\n",
       "\n",
       "    .dataframe thead th {\n",
       "        text-align: right;\n",
       "    }\n",
       "</style>\n",
       "<table border=\"1\" class=\"dataframe\">\n",
       "  <thead>\n",
       "    <tr style=\"text-align: right;\">\n",
       "      <th></th>\n",
       "      <th>area</th>\n",
       "      <th>pop</th>\n",
       "    </tr>\n",
       "  </thead>\n",
       "  <tbody>\n",
       "    <tr>\n",
       "      <td>California</td>\n",
       "      <td>423967</td>\n",
       "      <td>38332521</td>\n",
       "    </tr>\n",
       "    <tr>\n",
       "      <td>Texas</td>\n",
       "      <td>695662</td>\n",
       "      <td>26448193</td>\n",
       "    </tr>\n",
       "    <tr>\n",
       "      <td>New York</td>\n",
       "      <td>141297</td>\n",
       "      <td>19651127</td>\n",
       "    </tr>\n",
       "    <tr>\n",
       "      <td>Florida</td>\n",
       "      <td>170312</td>\n",
       "      <td>19552860</td>\n",
       "    </tr>\n",
       "    <tr>\n",
       "      <td>Illinois</td>\n",
       "      <td>149995</td>\n",
       "      <td>12882135</td>\n",
       "    </tr>\n",
       "  </tbody>\n",
       "</table>\n",
       "</div>"
      ],
      "text/plain": [
       "              area       pop\n",
       "California  423967  38332521\n",
       "Texas       695662  26448193\n",
       "New York    141297  19651127\n",
       "Florida     170312  19552860\n",
       "Illinois    149995  12882135"
      ]
     },
     "execution_count": 55,
     "metadata": {},
     "output_type": "execute_result"
    }
   ],
   "source": [
    "data.loc[:'Illinois',:'pop'] # 열은 처음부터 일리노이까지, 행은 처음부터 인구까지"
   ]
  },
  {
   "cell_type": "code",
   "execution_count": 56,
   "metadata": {},
   "outputs": [
    {
     "data": {
      "text/html": [
       "<div>\n",
       "<style scoped>\n",
       "    .dataframe tbody tr th:only-of-type {\n",
       "        vertical-align: middle;\n",
       "    }\n",
       "\n",
       "    .dataframe tbody tr th {\n",
       "        vertical-align: top;\n",
       "    }\n",
       "\n",
       "    .dataframe thead th {\n",
       "        text-align: right;\n",
       "    }\n",
       "</style>\n",
       "<table border=\"1\" class=\"dataframe\">\n",
       "  <thead>\n",
       "    <tr style=\"text-align: right;\">\n",
       "      <th></th>\n",
       "      <th>area</th>\n",
       "      <th>pop</th>\n",
       "      <th>density</th>\n",
       "    </tr>\n",
       "  </thead>\n",
       "  <tbody>\n",
       "    <tr>\n",
       "      <td>California</td>\n",
       "      <td>423967</td>\n",
       "      <td>38332521</td>\n",
       "      <td>90.000000</td>\n",
       "    </tr>\n",
       "    <tr>\n",
       "      <td>Texas</td>\n",
       "      <td>695662</td>\n",
       "      <td>26448193</td>\n",
       "      <td>38.018740</td>\n",
       "    </tr>\n",
       "    <tr>\n",
       "      <td>New York</td>\n",
       "      <td>141297</td>\n",
       "      <td>19651127</td>\n",
       "      <td>139.076746</td>\n",
       "    </tr>\n",
       "    <tr>\n",
       "      <td>Florida</td>\n",
       "      <td>170312</td>\n",
       "      <td>19552860</td>\n",
       "      <td>114.806121</td>\n",
       "    </tr>\n",
       "    <tr>\n",
       "      <td>Illinois</td>\n",
       "      <td>149995</td>\n",
       "      <td>12882135</td>\n",
       "      <td>85.883763</td>\n",
       "    </tr>\n",
       "  </tbody>\n",
       "</table>\n",
       "</div>"
      ],
      "text/plain": [
       "              area       pop     density\n",
       "California  423967  38332521   90.000000\n",
       "Texas       695662  26448193   38.018740\n",
       "New York    141297  19651127  139.076746\n",
       "Florida     170312  19552860  114.806121\n",
       "Illinois    149995  12882135   85.883763"
      ]
     },
     "execution_count": 56,
     "metadata": {},
     "output_type": "execute_result"
    }
   ],
   "source": [
    "# loc\t인덱스 기준으로 행 데이터 읽기\n",
    "# iloc\t행 번호를 기준으로 행 데이터 읽기\n",
    "data.iloc[0,2] = 90 \n",
    "data"
   ]
  },
  {
   "cell_type": "code",
   "execution_count": 61,
   "metadata": {
    "scrolled": true
   },
   "outputs": [
    {
     "data": {
      "text/html": [
       "<div>\n",
       "<style scoped>\n",
       "    .dataframe tbody tr th:only-of-type {\n",
       "        vertical-align: middle;\n",
       "    }\n",
       "\n",
       "    .dataframe tbody tr th {\n",
       "        vertical-align: top;\n",
       "    }\n",
       "\n",
       "    .dataframe thead th {\n",
       "        text-align: right;\n",
       "    }\n",
       "</style>\n",
       "<table border=\"1\" class=\"dataframe\">\n",
       "  <thead>\n",
       "    <tr style=\"text-align: right;\">\n",
       "      <th></th>\n",
       "      <th>area</th>\n",
       "      <th>pop</th>\n",
       "      <th>density</th>\n",
       "    </tr>\n",
       "  </thead>\n",
       "  <tbody>\n",
       "    <tr>\n",
       "      <td>Florida</td>\n",
       "      <td>170312</td>\n",
       "      <td>19552860</td>\n",
       "      <td>114.806121</td>\n",
       "    </tr>\n",
       "    <tr>\n",
       "      <td>Illinois</td>\n",
       "      <td>149995</td>\n",
       "      <td>12882135</td>\n",
       "      <td>85.883763</td>\n",
       "    </tr>\n",
       "  </tbody>\n",
       "</table>\n",
       "</div>"
      ],
      "text/plain": [
       "            area       pop     density\n",
       "Florida   170312  19552860  114.806121\n",
       "Illinois  149995  12882135   85.883763"
      ]
     },
     "execution_count": 61,
     "metadata": {},
     "output_type": "execute_result"
    }
   ],
   "source": [
    "data['Florida':'Illinois'] # 행으로만 검색. 플로리다부터 일리노이까지"
   ]
  },
  {
   "cell_type": "code",
   "execution_count": 62,
   "metadata": {},
   "outputs": [],
   "source": [
    "import pandas as pd\n",
    "import numpy as np\n",
    "\n",
    "d = {'Name':pd.Series(['김하나','이하나','삼하나','사하나','오하나','육하나','칠하나', '팔하나']),\n",
    "   'Age':pd.Series([25,26,25,23,30,29,23]),\n",
    "   'Rating':pd.Series([4.23,3.24,3.98,2.56,3.20,4.6,3.8])}"
   ]
  },
  {
   "cell_type": "code",
   "execution_count": 64,
   "metadata": {},
   "outputs": [
    {
     "name": "stdout",
     "output_type": "stream",
     "text": [
      "  Name   Age  Rating\n",
      "0  김하나  25.0    4.23\n",
      "1  이하나  26.0    3.24\n",
      "2  삼하나  25.0    3.98\n",
      "3  사하나  23.0    2.56\n",
      "4  오하나  30.0    3.20\n",
      "5  육하나  29.0    4.60\n",
      "6  칠하나  23.0    3.80\n",
      "7  팔하나   NaN     NaN\n",
      "축 [RangeIndex(start=0, stop=8, step=1), Index(['Name', 'Age', 'Rating'], dtype='object')]\n",
      "데이터 타입\n",
      " Name       object\n",
      "Age       float64\n",
      "Rating    float64\n",
      "dtype: object\n",
      "데이터 타입\n",
      " <bound method NDFrame.get_dtype_counts of   Name   Age  Rating\n",
      "0  김하나  25.0    4.23\n",
      "1  이하나  26.0    3.24\n",
      "2  삼하나  25.0    3.98\n",
      "3  사하나  23.0    2.56\n",
      "4  오하나  30.0    3.20\n",
      "5  육하나  29.0    4.60\n",
      "6  칠하나  23.0    3.80\n",
      "7  팔하나   NaN     NaN>\n",
      "비었나 False\n",
      "차원 2\n",
      "차수 (8, 3)\n",
      "사이즈 24\n",
      "값 [['김하나' 25.0 4.23]\n",
      " ['이하나' 26.0 3.24]\n",
      " ['삼하나' 25.0 3.98]\n",
      " ['사하나' 23.0 2.56]\n",
      " ['오하나' 30.0 3.2]\n",
      " ['육하나' 29.0 4.6]\n",
      " ['칠하나' 23.0 3.8]\n",
      " ['팔하나' nan nan]]\n",
      "  Name   Age  Rating\n",
      "0  김하나  25.0    4.23\n",
      "1  이하나  26.0    3.24\n",
      "  Name   Age  Rating\n",
      "6  칠하나  23.0     3.8\n",
      "7  팔하나   NaN     NaN\n"
     ]
    }
   ],
   "source": [
    "df = pd.DataFrame(d)\n",
    "print(df)\n",
    "print('축',df.axes)\n",
    "print('데이터 타입\\n', df.dtypes) # 컬럼명과 자료형 출력\n",
    "print('데이터 타입\\n', df.get_dtype_counts) # 데이터 그대로 출력. 이걸 어따 쓰나?\n",
    "print('비었나', df.empty)\n",
    "print('차원', df.ndim)\n",
    "print('차수', df.shape)\n",
    "print('사이즈', df.size)\n",
    "print('값', df.values)\n",
    "print(df.head(2)) # 앞의 것 두 개\n",
    "print(df.tail(2)) # 뒤의 것 두 개"
   ]
  },
  {
   "cell_type": "code",
   "execution_count": 66,
   "metadata": {},
   "outputs": [
    {
     "name": "stdout",
     "output_type": "stream",
     "text": [
      "합계 Name      김하나이하나삼하나사하나오하나육하나칠하나팔하나\n",
      "Age                            181\n",
      "Rating                       25.61\n",
      "dtype: object\n",
      "#########################################\n",
      "Age       25.857143\n",
      "Rating     3.658571\n",
      "dtype: float64\n",
      "#########################################\n",
      "Age       2.734262\n",
      "Rating    0.698628\n",
      "dtype: float64\n"
     ]
    }
   ],
   "source": [
    "print('합계', df.sum()) # 전체 데이터 합 - 문자열까지 합쳐버림\n",
    "print(\"#########################################\")\n",
    "print(df.mean()) # 평균 숫자만 적용\n",
    "print(\"#########################################\")\n",
    "print(df.std()) # standart deviation 표준편차"
   ]
  },
  {
   "cell_type": "code",
   "execution_count": 72,
   "metadata": {
    "scrolled": true
   },
   "outputs": [
    {
     "name": "stdout",
     "output_type": "stream",
     "text": [
      "  Name   Age  Rating\n",
      "0  김하나  25.0    4.23\n",
      "1  이하나  26.0    3.24\n",
      "2  삼하나  25.0    3.98\n",
      "3  사하나  23.0    2.56\n",
      "4  오하나  30.0    3.20\n",
      "5  육하나  29.0    4.60\n",
      "6  칠하나  23.0    3.80\n",
      "7  팔하나   NaN     NaN\n",
      "             Age    Rating\n",
      "count   7.000000  7.000000\n",
      "mean   25.857143  3.658571\n",
      "std     2.734262  0.698628\n",
      "min    23.000000  2.560000\n",
      "25%    24.000000  3.220000\n",
      "50%    25.000000  3.800000\n",
      "75%    27.500000  4.105000\n",
      "max    30.000000  4.600000\n",
      "#########################################\n",
      "오브젝트\n",
      "        Name\n",
      "count     8\n",
      "unique    8\n",
      "top     사하나\n",
      "freq      1\n",
      "#########################################\n",
      "       Name        Age    Rating\n",
      "count     8   7.000000  7.000000\n",
      "unique    8        NaN       NaN\n",
      "top     사하나        NaN       NaN\n",
      "freq      1        NaN       NaN\n",
      "mean    NaN  25.857143  3.658571\n",
      "std     NaN   2.734262  0.698628\n",
      "min     NaN  23.000000  2.560000\n",
      "25%     NaN  24.000000  3.220000\n",
      "50%     NaN  25.000000  3.800000\n",
      "75%     NaN  27.500000  4.105000\n",
      "max     NaN  30.000000  4.600000\n"
     ]
    }
   ],
   "source": [
    "print(df)\n",
    "print(df.describe()) # 숫자데이터만 적용\n",
    "print(\"#########################################\")\n",
    "print('오브젝트\\n', df.describe(include=['object'])) #문자\n",
    "print(\"#########################################\")\n",
    "print(df.describe(include='all')) # unique, top, frequency"
   ]
  },
  {
   "cell_type": "code",
   "execution_count": 117,
   "metadata": {},
   "outputs": [
    {
     "name": "stdout",
     "output_type": "stream",
     "text": [
      "one      경기\n",
      "two      강원\n",
      "three    서울\n",
      "four     충북\n",
      "five     인천\n",
      "Name: state, dtype: object\n",
      "    estern\n",
      "one       \n",
      "       year state  pop  debt estern\n",
      "one    2000    경기  1.5   NaN  False\n",
      "two    2001    강원  1.7  -1.2  False\n",
      "three  2002    서울  3.6   NaN   True\n",
      "four   2001    충북  2.4  -1.5  False\n",
      "five   2002    인천  2.9  -1.7  False\n"
     ]
    }
   ],
   "source": [
    "data={'state': ['경기', '강원', '서울', '충북', '인천'],\n",
    "      'year':[2000,2001,2002,2001,2002],\n",
    "      'pop':[1.5,1.7,3.6,2.4,2.9]}\n",
    "frame2=pd.DataFrame(data, columns=['year', 'state', 'pop', 'debt'],\n",
    "                 index=['one', 'two', 'three', 'four', 'five']) \n",
    "\n",
    "# 1) state만 출력하시오\n",
    "print(frame2.state)\n",
    "# 2) debt 열을 추가하고 모든 값을 16.5로 입력하시오\n",
    "frame2['debt'] = 16.5\n",
    "# 3) debt를 pd.Series([-1.2, -1.5, -1.7]), index = ['two','four','five'])로 수정하시오\n",
    "frame2['debt'] = pd.Series([-1.2, -1.5, -1.7], index = ['two','four','five'])\n",
    "# 4) 파생변수 'estern'에 주소가 서울인가를 따져 서울은 True, 아니면 False가 입력되게 하시오\n",
    "frame2['estern'] = ' '\n",
    "print(frame2.iloc[[0],[4]])\n",
    "for i in range(len(frame2.columns)):\n",
    "    if frame2.iloc[i,1] == '서울':\n",
    "        frame2.iloc[i,4] = 'True'\n",
    "    else: \n",
    "        frame2.iloc[i,4] = 'False'\n",
    "print(frame2)"
   ]
  },
  {
   "cell_type": "code",
   "execution_count": 110,
   "metadata": {
    "scrolled": true
   },
   "outputs": [
    {
     "name": "stdout",
     "output_type": "stream",
     "text": [
      "one      경기\n",
      "two      강원\n",
      "three    서울\n",
      "four     충북\n",
      "five     인천\n",
      "Name: state, dtype: object\n",
      "one      경기\n",
      "two      강원\n",
      "three    서울\n",
      "four     충북\n",
      "five     인천\n",
      "Name: state, dtype: object\n",
      "debt 값 적용후        year state  pop  debt  estern\n",
      "one    2000    경기  1.5  16.5   False\n",
      "two    2001    강원  1.7  16.5   False\n",
      "three  2002    서울  3.6  16.5    True\n",
      "four   2001    충북  2.4  16.5   False\n",
      "five   2002    인천  2.9  16.5   False\n",
      "시리즈 데이터 삽입후        year state  pop  debt  estern\n",
      "one    2000    경기  1.5   NaN   False\n",
      "two    2001    강원  1.7  -1.2   False\n",
      "three  2002    서울  3.6   NaN    True\n",
      "four   2001    충북  2.4  -1.5   False\n",
      "five   2002    인천  2.9  -1.7   False\n",
      "       year state  pop  debt  estern\n",
      "one    2000    경기  1.5   NaN   False\n",
      "two    2001    강원  1.7  -1.2   False\n",
      "three  2002    서울  3.6   NaN    True\n",
      "four   2001    충북  2.4  -1.5   False\n",
      "five   2002    인천  2.9  -1.7   False\n",
      "Index(['year', 'state', 'pop', 'debt', 'estern'], dtype='object')\n",
      "2000\n",
      "2000\n"
     ]
    }
   ],
   "source": [
    "# 1) state만 출력하시오\n",
    "print(frame2['state'])\n",
    "print(frame2.state)\n",
    "# 2) debt 열을 추가하고 모든 값을 16.5로 입력하시오\n",
    "frame2['debt'] = 16.5\n",
    "print(\"debt 값 적용후\", frame2)\n",
    "# 3) debt를 pd.Series([-1.2, -1.5, -1.7], index = ['two','four','five'])로 수정하시오\n",
    "val = pd.Series([-1.2, -1.5, -1.7], index=['two','four','five'])\n",
    "frame2['debt'] = val\n",
    "print('시리즈 데이터 삽입후', frame2)\n",
    "# 4) 파생변수 'estern'에 주소가 서울인가를 따져 서울은 True, 아니면 False가 입력되게 하시오\n",
    "frame2['estern']=frame2.state =='서울'\n",
    "print(frame2)\n",
    "print(frame2.columns)\n",
    "del frame2['estern']\n",
    "\n",
    "print(frame2[\"year\"][\"one\"]) # 열이 먼저 옴\n",
    "print(frame2.loc[\"one\",'year'])"
   ]
  },
  {
   "cell_type": "code",
   "execution_count": null,
   "metadata": {},
   "outputs": [],
   "source": [
    "# 시간 함수\n",
    "# 리눅스에서는 timestamp 1970.1.1 이후로 경과된 mili.초로 표현\n",
    "# 내부적으로 데이터를 저장시 timestamp로 저장\n",
    "# 그러나 pandas에서는 nano 초까지 표현\n",
    "# 시간 인덱스: 시계열 분석 - DateTimeIndex, PeriodIndex 주기값\n",
    "# 파이썬: time.time() : 2000.1.1 부터 경과된 mili초로 표현\n",
    "# datetime(날짜와 시간을 표현)"
   ]
  },
  {
   "cell_type": "code",
   "execution_count": 119,
   "metadata": {},
   "outputs": [
    {
     "name": "stdout",
     "output_type": "stream",
     "text": [
      "1578403680.609935\n",
      "time.struct_time(tm_year=2020, tm_mon=1, tm_mday=7, tm_hour=22, tm_min=28, tm_sec=0, tm_wday=1, tm_yday=7, tm_isdst=0)\n",
      "time.struct_time(tm_year=2020, tm_mon=1, tm_mday=6, tm_hour=22, tm_min=28, tm_sec=0, tm_wday=0, tm_yday=6, tm_isdst=0)\n"
     ]
    },
    {
     "data": {
      "text/plain": [
       "'2020 01 07'"
      ]
     },
     "execution_count": 119,
     "metadata": {},
     "output_type": "execute_result"
    }
   ],
   "source": [
    "import time\n",
    "print(time.time()) # milli 초로 표현\n",
    "print(time.localtime()) # 년월일 시분초\n",
    "yesterday = time.localtime(time.time()-60*60*24) # 하루전 (시간 연산 가능)\n",
    "yesterday\n",
    "print(yesterday)\n",
    "time.strftime('%Y %m %d') # 시간을 문자열로 변경해서 출력"
   ]
  },
  {
   "cell_type": "code",
   "execution_count": 2,
   "metadata": {},
   "outputs": [
    {
     "name": "stdout",
     "output_type": "stream",
     "text": [
      "2020-01-07 17:20:09.847255\n"
     ]
    },
    {
     "data": {
      "text/plain": [
       "1578385209.847255"
      ]
     },
     "execution_count": 2,
     "metadata": {},
     "output_type": "execute_result"
    }
   ],
   "source": [
    "from datetime import date, time, datetime, timedelta # 시간차\n",
    "now = datetime.now() # 연월일 시분초\n",
    "print(now)\n",
    "now.year, now.month, now.day\n",
    "now.timestamp() # 시간을 밀리초로 표현하고 싶을때 timestamp 사용"
   ]
  },
  {
   "cell_type": "code",
   "execution_count": 120,
   "metadata": {},
   "outputs": [
    {
     "name": "stdout",
     "output_type": "stream",
     "text": [
      "2020-01-07 17:20:09\n"
     ]
    }
   ],
   "source": [
    "now_str = now.strftime('%Y-%m-%d %H:%M:%S') # 문자열\n",
    "print(now_str)"
   ]
  },
  {
   "cell_type": "code",
   "execution_count": 121,
   "metadata": {},
   "outputs": [
    {
     "data": {
      "text/plain": [
       "datetime.datetime(2020, 1, 7, 17, 20, 9)"
      ]
     },
     "execution_count": 121,
     "metadata": {},
     "output_type": "execute_result"
    }
   ],
   "source": [
    "datetime.strptime(now_str, '%Y-%m-%d %H:%M:%S') # 2019-11-01 11:49~ #날짜 형식으로 전환????????????????????????????????????????"
   ]
  },
  {
   "cell_type": "code",
   "execution_count": 122,
   "metadata": {},
   "outputs": [
    {
     "name": "stdout",
     "output_type": "stream",
     "text": [
      "시간차는 = 1657 days, 15:45:00 1657 56700\n"
     ]
    }
   ],
   "source": [
    "delta = datetime(2015,1,7) - datetime(2010,6,24,8,15)\n",
    "print(\"시간차는 =\", delta, delta.days, delta.seconds)"
   ]
  },
  {
   "cell_type": "code",
   "execution_count": 123,
   "metadata": {},
   "outputs": [
    {
     "name": "stdout",
     "output_type": "stream",
     "text": [
      "2019-01-19 00:00:00\n"
     ]
    },
    {
     "data": {
      "text/plain": [
       "datetime.datetime(2019, 1, 6, 19, 0)"
      ]
     },
     "execution_count": 123,
     "metadata": {},
     "output_type": "execute_result"
    }
   ],
   "source": [
    "start = datetime(2019,1,7) # 2019년 1월 7일 기준\n",
    "print(start + timedelta(12)) # 기본이 날짜 [위 날짜에 12일 더함]\n",
    "start + timedelta(hours= -5) # 빼기 5시간"
   ]
  },
  {
   "cell_type": "code",
   "execution_count": 124,
   "metadata": {},
   "outputs": [
    {
     "name": "stdout",
     "output_type": "stream",
     "text": [
      "2020-01-07 22:28:06.921618\n",
      "2017-03-01 00:00:00\n",
      "2020-04-24 00:14:15\n"
     ]
    }
   ],
   "source": [
    "import pandas as pd\n",
    "print(pd.datetime.now())\n",
    "print(pd.Timestamp('2017-03-01'))\n",
    "print(pd.Timestamp(1587687255, unit='s'))"
   ]
  },
  {
   "cell_type": "code",
   "execution_count": 125,
   "metadata": {},
   "outputs": [
    {
     "name": "stdout",
     "output_type": "stream",
     "text": [
      "DatetimeIndex(['2020-01-07 11:00:00', '2020-01-07 11:30:00',\n",
      "               '2020-01-07 12:00:00', '2020-01-07 12:30:00',\n",
      "               '2020-01-07 13:00:00'],\n",
      "              dtype='datetime64[ns]', freq='30T')\n",
      "시간으로 [datetime.time(11, 0) datetime.time(11, 30) datetime.time(12, 0)\n",
      " datetime.time(12, 30) datetime.time(13, 0)]\n",
      "DatetimeIndex(['2020-01-07 11:00:00', '2020-01-07 12:00:00',\n",
      "               '2020-01-07 13:00:00'],\n",
      "              dtype='datetime64[ns]', freq='H')\n"
     ]
    }
   ],
   "source": [
    "# Datetime Index 생성: 행-index, 열키-columns\n",
    "# 30분 단위로\n",
    "print(pd.date_range(\"11:00\", \"13:00\", freq=\"30min\"))\n",
    "print(\"시간으로\", pd.date_range(\"11:00\", '13:00', freq='30min').time)\n",
    "print(pd.date_range(\"11:00\",\"13:00\",freq ='H')) # 시간 단위"
   ]
  },
  {
   "cell_type": "code",
   "execution_count": 126,
   "metadata": {},
   "outputs": [
    {
     "name": "stdout",
     "output_type": "stream",
     "text": [
      "0   2009-07-31\n",
      "1   2010-01-10\n",
      "2          NaT\n",
      "dtype: datetime64[ns]\n",
      "DatetimeIndex(['2005-11-23', '2010-12-31', 'NaT'], dtype='datetime64[ns]', freq=None)\n"
     ]
    }
   ],
   "source": [
    "# 지정된 시간을 DatetimeIndex로 생성\n",
    "print(pd.to_datetime(pd.Series(['Jul 31, 2009', '2010-01-10', None])))\n",
    "print(pd.to_datetime(['2005/11/23','2010.12.31', None]))"
   ]
  },
  {
   "cell_type": "code",
   "execution_count": 127,
   "metadata": {},
   "outputs": [
    {
     "name": "stdout",
     "output_type": "stream",
     "text": [
      "DatetimeIndex(['2017-01-01', '2017-01-02', '2017-01-03', '2017-01-04',\n",
      "               '2017-01-05'],\n",
      "              dtype='datetime64[ns]', freq='D')\n",
      "DatetimeIndex(['2017-01-31', '2017-02-28', '2017-03-31', '2017-04-30',\n",
      "               '2017-05-31'],\n",
      "              dtype='datetime64[ns]', freq='M')\n"
     ]
    }
   ],
   "source": [
    "print(pd.date_range('1/1/2017', periods=5)) # 기본 주기는 날짜(1일 간격)\n",
    "print(pd.date_range('1/1/2017', periods=5, freq='M')) # 1개월 간격"
   ]
  },
  {
   "cell_type": "code",
   "execution_count": 129,
   "metadata": {
    "scrolled": true
   },
   "outputs": [
    {
     "data": {
      "text/plain": [
       "<matplotlib.axes._subplots.AxesSubplot at 0x20ece36d2c8>"
      ]
     },
     "execution_count": 129,
     "metadata": {},
     "output_type": "execute_result"
    },
    {
     "data": {
      "image/png": "[encoded data removed]",
      "text/plain": [
       "<Figure size 432x288 with 1 Axes>"
      ]
     },
     "metadata": {},
     "output_type": "display_data"
    },
    {
     "data": {
      "image/png": "[encoded data removed]",
      "text/plain": [
       "<Figure size 432x288 with 1 Axes>"
      ]
     },
     "metadata": {},
     "output_type": "display_data"
    },
    {
     "data": {
      "image/png": "[encoded data removed]",
      "text/plain": [
       "<Figure size 432x288 with 1 Axes>"
      ]
     },
     "metadata": {},
     "output_type": "display_data"
    }
   ],
   "source": [
    "# 누적합인데 왜 그래프가 줄어들었다 커졌다 하나???????????????????????????????????????????????????\n",
    "ts = pd.Series(np.random.randn(1000), # 1000개를 랜덤으로 뽑았기 때문에\n",
    "              index = pd.date_range('1/1/2000',periods = 1000)) # periods도 1000개 해야함!\n",
    "ts = ts.cumsum()\n",
    "ts.plot()\n",
    "df = pd.DataFrame(np.random.randn(1000,4), index=ts.index,columns = list('ABCD')) # 1000개의 행, 4개의 열\n",
    "df = df.cumsum()\n",
    "df.plot()\n",
    "df.plot.bar()"
   ]
  },
  {
   "cell_type": "code",
   "execution_count": 26,
   "metadata": {
    "scrolled": true
   },
   "outputs": [
    {
     "name": "stdout",
     "output_type": "stream",
     "text": [
      "     지역     2018     2017     2016     2015  2015-2018증감율\n",
      "서울  수도권  9904312  9631482  9762546  9853972        0.0283\n",
      "부산  경상권  3448737  3393191  3512547  3655437        0.0163\n",
      "인천  수도권  2890451  2632035  2517680  2466338        0.0982\n",
      "대구  경상권  2466052  2431774  2456016  2473990        0.0141\n"
     ]
    }
   ],
   "source": [
    "# 문제 다음 데이터를 데이터프레임에 저장하시요\n",
    "#         지역  2018     2017 2016 2015 2015-2018 증가율\n",
    "# 서울 수도권  9904312 9631482 9762546 9853972    0.0283\n",
    "# 부산 경상권  3448737 3393191 3512547 3655437    0.0163\n",
    "# 인천 수도권  2890451 2632035 2517680 2466338    0.0982\n",
    "# 대구 경상권  2466052 2431774 2456016 2473990    0.0141 \n",
    "\n",
    "data={'지역':['수도권','경상권','수도권','경상권'],\n",
    "      '2018':[9904312,3448737,2890451,2466052],\n",
    "     '2017': [9631482,3393191,2632035,2431774],\n",
    "     '2016': [9762546,3512547,2517680,2456016],\n",
    "     '2015': [9853972,3655437,2466338,2473990],\n",
    "     '2015-2018증감율': [0.0283, 0.0163, 0.0982, 0.0141]}\n",
    "frameq=pd.DataFrame(data, columns=['지역', '2018', '2017', '2016', '2015', '2015-2018증감율'],\n",
    "                 index = ['서울', '부산','인천','대구']) \n",
    "print(frameq)"
   ]
  },
  {
   "cell_type": "code",
   "execution_count": 27,
   "metadata": {},
   "outputs": [
    {
     "data": {
      "text/html": [
       "<div>\n",
       "<style scoped>\n",
       "    .dataframe tbody tr th:only-of-type {\n",
       "        vertical-align: middle;\n",
       "    }\n",
       "\n",
       "    .dataframe tbody tr th {\n",
       "        vertical-align: top;\n",
       "    }\n",
       "\n",
       "    .dataframe thead th {\n",
       "        text-align: right;\n",
       "    }\n",
       "</style>\n",
       "<table border=\"1\" class=\"dataframe\">\n",
       "  <thead>\n",
       "    <tr style=\"text-align: right;\">\n",
       "      <th></th>\n",
       "      <th>지역</th>\n",
       "      <th>2018</th>\n",
       "      <th>2017</th>\n",
       "      <th>2016</th>\n",
       "      <th>2015</th>\n",
       "      <th>2015-2018증감율</th>\n",
       "      <th>2015-2017증감율</th>\n",
       "    </tr>\n",
       "  </thead>\n",
       "  <tbody>\n",
       "    <tr>\n",
       "      <td>서울</td>\n",
       "      <td>수도권</td>\n",
       "      <td>9904312</td>\n",
       "      <td>9631482</td>\n",
       "      <td>9762546</td>\n",
       "      <td>9853972</td>\n",
       "      <td>2.83</td>\n",
       "      <td>-2.26</td>\n",
       "    </tr>\n",
       "    <tr>\n",
       "      <td>부산</td>\n",
       "      <td>경상권</td>\n",
       "      <td>3448737</td>\n",
       "      <td>3393191</td>\n",
       "      <td>3512547</td>\n",
       "      <td>3655437</td>\n",
       "      <td>1.63</td>\n",
       "      <td>-7.17</td>\n",
       "    </tr>\n",
       "    <tr>\n",
       "      <td>인천</td>\n",
       "      <td>수도권</td>\n",
       "      <td>2890451</td>\n",
       "      <td>2632035</td>\n",
       "      <td>2517680</td>\n",
       "      <td>2466338</td>\n",
       "      <td>9.82</td>\n",
       "      <td>6.72</td>\n",
       "    </tr>\n",
       "    <tr>\n",
       "      <td>대구</td>\n",
       "      <td>경상권</td>\n",
       "      <td>2466052</td>\n",
       "      <td>2431774</td>\n",
       "      <td>2456016</td>\n",
       "      <td>2473990</td>\n",
       "      <td>1.41</td>\n",
       "      <td>-1.71</td>\n",
       "    </tr>\n",
       "  </tbody>\n",
       "</table>\n",
       "</div>"
      ],
      "text/plain": [
       "     지역     2018     2017     2016     2015  2015-2018증감율  2015-2017증감율\n",
       "서울  수도권  9904312  9631482  9762546  9853972          2.83         -2.26\n",
       "부산  경상권  3448737  3393191  3512547  3655437          1.63         -7.17\n",
       "인천  수도권  2890451  2632035  2517680  2466338          9.82          6.72\n",
       "대구  경상권  2466052  2431774  2456016  2473990          1.41         -1.71"
      ]
     },
     "execution_count": 27,
     "metadata": {},
     "output_type": "execute_result"
    }
   ],
   "source": [
    "# 문제: \"2015-2018 증가율\"을 %로 변경하시오\n",
    "frameq['2015-2018증감율'] = (frameq['2015-2018증감율']*100)\n",
    "frameq\n",
    "\n",
    "# 문제: 2015-2017의 증가율을 구해서 변수를 추가하시오 (열이름: \"2015-2017 증가율\")\n",
    "frameq['2015-2017증감율'] = ((frameq['2017']-frameq['2015'])/frameq['2015']*100).round(2)\n",
    "frameq"
   ]
  },
  {
   "cell_type": "code",
   "execution_count": null,
   "metadata": {},
   "outputs": [],
   "source": []
  }
 ],
 "metadata": {
  "kernelspec": {
   "display_name": "Python 3",
   "language": "python",
   "name": "python3"
  },
  "language_info": {
   "codemirror_mode": {
    "name": "ipython",
    "version": 3
   },
   "file_extension": ".py",
   "mimetype": "text/x-python",
   "name": "python",
   "nbconvert_exporter": "python",
   "pygments_lexer": "ipython3",
   "version": "3.7.4"
  }
 },
 "nbformat": 4,
 "nbformat_minor": 2
}
