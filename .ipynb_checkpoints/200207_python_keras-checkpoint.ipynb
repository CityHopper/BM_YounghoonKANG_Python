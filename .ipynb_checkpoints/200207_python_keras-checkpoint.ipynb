{
 "cells": [
  {
   "cell_type": "markdown",
   "metadata": {},
   "source": [
    "케라스는 파이썬으로 구현된 쉽고 간결한 딥러닝 라이브러리입니다. 딥러닝 비전문가라도 각자 분야에서 손쉽게 딥러닝 모델을 개발하고 활용할 수 있도록 케라스는 직관적인 API를 제공하고 있습니다. 내부적으로는 텐서플로우(TensorFlow), 티아노(Theano), CNTK 등의 딥러닝 전용 엔진이 구동되지만 케라스 사용자는 복잡한 내부 엔진을 알 필요는 없습니다. 직관적인 API로 쉽게 다층퍼셉트론 모델, 컨볼루션 신경망 모델, 순환 신경망 모델 또는 이를 조합한 모델은 물론 다중 입력 또는 다중 출력 등 다양한 구성을 할 수 있습니다.\n",
    "\n",
    "# 케라스 주요 특징\n",
    "케라스는 아래 4가지의 주요 특징을 가지고 있습니다.\n",
    "\n",
    "- 모듈화 (Modularity)\n",
    "케라스에서 제공하는 모듈은 독립적이고 설정 가능하며, 가능한 최소한의 제약사항으로 서로 연결될 수 있습니다. 모델은 시퀀스 또는 그래프로 이러한 모듈들을 구성한 것입니다.\n",
    "특히 신경망 층, 비용함수, 최적화기, 초기화기법, 활성화함수, 정규화기법은 모두 독립적인 모듈이며, 새로운 모델을 만들기 위해 이러한 모듈을 조합할 수 있습니다.\n",
    "- 최소주의 (Minimalism)\n",
    "각 모듈은 짥고 간결합니다.\n",
    "모든 코드는 한 번 훏어보는 것으로도 이해가능해야 합니다.\n",
    "단 반복 속도와 혁신성에는 다소 떨어질 수가 있습니다.\n",
    "- 쉬운 확장성\n",
    "새로운 클래스나 함수로 모듈을 아주 쉽게 추가할 수 있습니다.\n",
    "따라서 고급 연구에 필요한 다양한 표현을 할 수 있습니다.\n",
    "- 파이썬 기반\n",
    "Caffe 처럼 별도의 모델 설정 파일이 필요없으며 파이썬 코드로 모델들이 정의됩니다.\n",
    "이 멋진 케라스를 개발하고 유지보수하고 있는 사람은 구글 엔지니어인 프랑소와 쏠레(François Chollet)입니다.\n",
    "\n",
    "# 케라스 기본 개념\n",
    "케라스의 가장 핵심적인 데이터 구조는 바로 모델입니다. 케라스에서 제공하는 시퀀스 모델로 원하는 레이어를 쉽게 순차적으로 쌓을 수 있습니다. 다중 출력이 필요하는 등 좀 더 복잡한 모델을 구성하려면 케라스 함수 API를 사용하면 됩니다. 케라스로 딥러닝 모델을 만들 때는 다음과 같은 순서로 작성합니다. 다른 딥러닝 라이브러리와 비슷한 순서이지만 훨씬 직관적이고 간결합니다.\n",
    "\n",
    "1. 데이터셋 생성하기\n",
    "원본 데이터를 불러오거나 시뮬레이션을 통해 데이터를 생성합니다.\n",
    "데이터로부터 훈련셋, 검증셋, 시험셋을 생성합니다.\n",
    "이 때 딥러닝 모델의 학습 및 평가를 할 수 있도록 포맷 변환을 합니다.\n",
    "2. 모델 구성하기\n",
    "시퀀스 모델을 생성한 뒤 필요한 레이어를 추가하여 구성합니다.\n",
    "좀 더 복잡한 모델이 필요할 때는 케라스 함수 API를 사용합니다.\n",
    "3. 모델 학습과정 설정하기\n",
    "학습하기 전에 학습에 대한 설정을 수행합니다.\n",
    "손실 함수 및 최적화 방법을 정의합니다.\n",
    "케라스에서는 compile() 함수를 사용합니다.\n",
    "4. 모델 학습시키기\n",
    "훈련셋을 이용하여 구성한 모델로 학습시킵니다.\n",
    "케라스에서는 fit() 함수를 사용합니다.\n",
    "5. 학습과정 살펴보기\n",
    "모델 학습 시 훈련셋, 검증셋의 손실 및 정확도를 측정합니다.\n",
    "반복횟수에 따른 손실 및 정확도 추이를 보면서 학습 상황을 판단합니다.\n",
    "6. 모델 평가하기\n",
    "준비된 시험셋으로 학습한 모델을 평가합니다.\n",
    "케라스에서는 evaluate() 함수를 사용합니다.\n",
    "7. 모델 사용하기\n",
    "임의의 입력으로 모델의 출력을 얻습니다.\n",
    "케라스에서는 predict() 함수를 사용합니다."
   ]
  },
  {
   "cell_type": "code",
   "execution_count": 2,
   "metadata": {},
   "outputs": [
    {
     "name": "stdout",
     "output_type": "stream",
     "text": [
      "Epoch 1/5\n",
      "60000/60000 [==============================] - 2s 33us/step - loss: 0.6743 - accuracy: 0.8277\n",
      "Epoch 2/5\n",
      "60000/60000 [==============================] - 2s 30us/step - loss: 0.3486 - accuracy: 0.9023\n",
      "Epoch 3/5\n",
      "60000/60000 [==============================] - 2s 29us/step - loss: 0.3027 - accuracy: 0.9151\n",
      "Epoch 4/5\n",
      "60000/60000 [==============================] - 2s 31us/step - loss: 0.2760 - accuracy: 0.9224\n",
      "Epoch 5/5\n",
      "60000/60000 [==============================] - 2s 31us/step - loss: 0.2562 - accuracy: 0.9284\n",
      "## training loss and acc ##\n",
      "[0.6743448816299439, 0.34859967901508015, 0.30266156189640364, 0.275987261668841, 0.2562100180844466]\n",
      "[0.8276833, 0.9023167, 0.91513336, 0.9224167, 0.92836666]\n",
      "10000/10000 [==============================] - 0s 18us/step\n",
      "## evaluation loss and_metrics ##\n",
      "[0.23791462744176387, 0.9316999912261963]\n",
      "## yhat ##\n",
      "[[2.5879120e-04 5.5731300e-07 7.1258354e-04 2.4578564e-03 6.4094270e-06\n",
      "  2.1085623e-05 2.1508103e-07 9.9571395e-01 2.3656930e-05 8.0493494e-04]]\n"
     ]
    }
   ],
   "source": [
    "# https://tykimos.github.io/2017/01/27/Keras_Talk/\n",
    "\n",
    "# 0. 사용할 패키지 불러오기\n",
    "from keras.utils import np_utils\n",
    "from keras.datasets import mnist\n",
    "from keras.models import Sequential\n",
    "from keras.layers import Dense, Activation\n",
    "\n",
    "# 1. 데이터셋 생성하기\n",
    "(x_train, y_train), (x_test, y_test) = mnist.load_data()\n",
    "x_train = x_train.reshape(60000, 784).astype('float32') / 255.0\n",
    "x_test = x_test.reshape(10000, 784).astype('float32') / 255.0\n",
    "y_train = np_utils.to_categorical(y_train)\n",
    "y_test = np_utils.to_categorical(y_test)\n",
    "\n",
    "# 2. 모델 구성하기\n",
    "model = Sequential()\n",
    "model.add(Dense(units=64, input_dim=28*28, activation='relu'))\n",
    "model.add(Dense(units=10, activation='softmax'))\n",
    "\n",
    "# 3. 모델 학습과정 설정하기\n",
    "model.compile(loss='categorical_crossentropy', optimizer='sgd', metrics=['accuracy'])\n",
    "\n",
    "# 4. 모델 학습시키기\n",
    "hist = model.fit(x_train, y_train, epochs=5, batch_size=32)\n",
    "\n",
    "# 5. 학습과정 살펴보기\n",
    "print('## training loss and acc ##')\n",
    "print(hist.history['loss'])\n",
    "print(hist.history['accuracy'])\n",
    "\n",
    "# 6. 모델 평가하기\n",
    "loss_and_metrics = model.evaluate(x_test, y_test, batch_size=32)\n",
    "print('## evaluation loss and_metrics ##')\n",
    "print(loss_and_metrics)\n",
    "\n",
    "# 7. 모델 사용하기\n",
    "xhat = x_test[0:1]\n",
    "yhat = model.predict(xhat)\n",
    "print('## yhat ##')\n",
    "print(yhat)"
   ]
  },
  {
   "cell_type": "markdown",
   "metadata": {},
   "source": [
    "# 케라스를 이용한 회귀"
   ]
  },
  {
   "cell_type": "code",
   "execution_count": 3,
   "metadata": {},
   "outputs": [
    {
     "name": "stdout",
     "output_type": "stream",
     "text": [
      "입력데이터=[0.29466096 0.30317302], 예측결과=[0.17173982]\n",
      "입력데이터=[0.39445118 0.79390858], 예측결과=[0.74399096]\n",
      "입력데이터=[0.02884127 0.6208843 ], 예측결과=[0.4069232]\n"
     ]
    }
   ],
   "source": [
    "from keras.models import Sequential # models 서브패키지\n",
    "from keras.layers import Dense # layers => 모델 구성\n",
    "from sklearn.datasets import make_regression\n",
    "from sklearn.preprocessing import MinMaxScaler # 신경망 - 정규화\n",
    "X, y = make_regression(n_samples = 100, n_features =2, noise=0.1, random_state=1) # x=100x2, y=100\n",
    "scalarX, scalarY = MinMaxScaler(), MinMaxScaler() # 값의 범위가 다름\n",
    "scalarX.fit(X)\n",
    "scalarY.fit(y.reshape(100,1)) # 행으로\n",
    "X = scalarX.transform(X)\n",
    "y = scalarY.transform(y.reshape(100,1))\n",
    "model = Sequential() # keras model\n",
    "model.add(Dense(4, input_dim=2, activation = 'relu')) # 100x2 출력차수 지정, 2x4(가중치), 100x4(결과)\n",
    "model.add(Dense(4, activation = 'relu')) # 100x4, 4x4, 100x4 - 레이어를 여러개 만듦\n",
    "model.add(Dense(1, activation = 'linear')) # 예측!\n",
    "# backend = tensorflow\n",
    "# mse, cross enthopy, KL-divergence: 분포를 비교\n",
    "model.compile(loss = 'mse', optimizer='adam') # tensorflow 모델을 변환\n",
    "model.fit(X, y, epochs=1000, verbose=0) # 알아서 for 문을 만들어서 반복하기에 구조가 간단\n",
    "Xnew, a = make_regression(n_samples=3, n_features=2, noise=0.1, random_state=1)\n",
    "Xnew = scalarX.transform(Xnew)\n",
    "ynew = model.predict(Xnew)\n",
    "for i in range(len(Xnew)):\n",
    "    print('입력데이터=%s, 예측결과=%s' % (Xnew[i], ynew[i]))"
   ]
  },
  {
   "cell_type": "markdown",
   "metadata": {},
   "source": [
    "# 케라스를 이용한 분류"
   ]
  },
  {
   "cell_type": "code",
   "execution_count": 129,
   "metadata": {},
   "outputs": [
    {
     "name": "stdout",
     "output_type": "stream",
     "text": [
      "768/768 [==============================] - 0s 648us/step\n",
      "\n",
      "accuracy: 77.47%\n"
     ]
    }
   ],
   "source": [
    "from keras.models import Sequential # 시퀀셜 : 입력이 하나, 출력도 하나인 망\n",
    "from keras.layers import Dense\n",
    "import numpy\n",
    "\n",
    "numpy.random.seed(7)\n",
    "dataset = numpy.loadtxt(\"pima.data\", delimiter=\",\")\n",
    "X = dataset[:, 0:8] # 독립변수 8개\n",
    "Y = dataset[:, 8] # 종속변수 1개\n",
    "\n",
    "model = Sequential()\n",
    "# 첫번째 레이어 : ? x 8 -> 8x12 => ?x12\n",
    "model.add( Dense(12, input_dim=8, activation=\"relu\") )\n",
    "# 두번째 레이어 : ?x12 -> 12x8 -> ?x8\n",
    "model.add( Dense(8, activation=\"relu\") )\n",
    "# 세번째 레이어 : ?x8 -> 8x1 => ?x1\n",
    "model.add( Dense(1, activation=\"sigmoid\") ) # 시그모이드? 0.5를 기준으로 분류\n",
    "model.compile( loss=\"binary_crossentropy\", optimizer=\"adam\", metrics=[\"accuracy\"] ) # 메트릭스 accuracy를 보고싶다(측정하겠다;)         \n",
    "model.fit(X, Y, epochs=150, batch_size=10, verbose =0)\n",
    "\n",
    "scores = model.evaluate(X ,Y) # 평가해보자\n",
    "print( \"\\n%s: %.2f%%\" % ( model.metrics_names[1], scores[1]*100 ) ) # accuracy 보려면 컴파일할때 적어줘야함"
   ]
  },
  {
   "cell_type": "code",
   "execution_count": 4,
   "metadata": {},
   "outputs": [
    {
     "name": "stdout",
     "output_type": "stream",
     "text": [
      "WARNING:tensorflow:From C:\\Users\\ICT01_20\\Anaconda3\\lib\\site-packages\\tensorflow\\python\\ops\\nn_impl.py:180: add_dispatch_support.<locals>.wrapper (from tensorflow.python.ops.array_ops) is deprecated and will be removed in a future version.\n",
      "Instructions for updating:\n",
      "Use tf.where in 2.0, which has the same broadcast rule as np.where\n",
      "Train on 514 samples, validate on 254 samples\n",
      "Epoch 1/150\n",
      "514/514 [==============================] - 0s 642us/step - loss: 0.6799 - accuracy: 0.6401 - val_loss: 0.6587 - val_accuracy: 0.6732\n",
      "Epoch 2/150\n",
      "514/514 [==============================] - 0s 114us/step - loss: 0.6690 - accuracy: 0.6401 - val_loss: 0.6534 - val_accuracy: 0.6732\n",
      "Epoch 3/150\n",
      "514/514 [==============================] - 0s 107us/step - loss: 0.6613 - accuracy: 0.6401 - val_loss: 0.6503 - val_accuracy: 0.6732\n",
      "Epoch 4/150\n",
      "514/514 [==============================] - 0s 107us/step - loss: 0.6515 - accuracy: 0.6362 - val_loss: 0.6404 - val_accuracy: 0.6850\n",
      "Epoch 5/150\n",
      "514/514 [==============================] - 0s 112us/step - loss: 0.6388 - accuracy: 0.6556 - val_loss: 0.6295 - val_accuracy: 0.6693\n",
      "Epoch 6/150\n",
      "514/514 [==============================] - 0s 109us/step - loss: 0.6304 - accuracy: 0.6401 - val_loss: 0.6178 - val_accuracy: 0.7087\n",
      "Epoch 7/150\n",
      "514/514 [==============================] - 0s 106us/step - loss: 0.6169 - accuracy: 0.6634 - val_loss: 0.6100 - val_accuracy: 0.6890\n",
      "Epoch 8/150\n",
      "514/514 [==============================] - 0s 107us/step - loss: 0.6139 - accuracy: 0.6615 - val_loss: 0.6047 - val_accuracy: 0.6654\n",
      "Epoch 9/150\n",
      "514/514 [==============================] - 0s 109us/step - loss: 0.6031 - accuracy: 0.6751 - val_loss: 0.5996 - val_accuracy: 0.6850\n",
      "Epoch 10/150\n",
      "514/514 [==============================] - 0s 105us/step - loss: 0.5988 - accuracy: 0.6887 - val_loss: 0.5954 - val_accuracy: 0.6535\n",
      "Epoch 11/150\n",
      "514/514 [==============================] - 0s 103us/step - loss: 0.5966 - accuracy: 0.6868 - val_loss: 0.6041 - val_accuracy: 0.6811\n",
      "Epoch 12/150\n",
      "514/514 [==============================] - 0s 112us/step - loss: 0.5997 - accuracy: 0.6809 - val_loss: 0.5925 - val_accuracy: 0.6969\n",
      "Epoch 13/150\n",
      "514/514 [==============================] - 0s 107us/step - loss: 0.5978 - accuracy: 0.6809 - val_loss: 0.5896 - val_accuracy: 0.6693\n",
      "Epoch 14/150\n",
      "514/514 [==============================] - 0s 105us/step - loss: 0.5883 - accuracy: 0.6907 - val_loss: 0.5891 - val_accuracy: 0.6890\n",
      "Epoch 15/150\n",
      "514/514 [==============================] - 0s 117us/step - loss: 0.5913 - accuracy: 0.7004 - val_loss: 0.5858 - val_accuracy: 0.6693\n",
      "Epoch 16/150\n",
      "514/514 [==============================] - 0s 109us/step - loss: 0.5954 - accuracy: 0.6809 - val_loss: 0.5851 - val_accuracy: 0.6929\n",
      "Epoch 17/150\n",
      "514/514 [==============================] - 0s 136us/step - loss: 0.5877 - accuracy: 0.6926 - val_loss: 0.5821 - val_accuracy: 0.7008\n",
      "Epoch 18/150\n",
      "514/514 [==============================] - 0s 113us/step - loss: 0.5836 - accuracy: 0.6887 - val_loss: 0.5803 - val_accuracy: 0.6929\n",
      "Epoch 19/150\n",
      "514/514 [==============================] - 0s 107us/step - loss: 0.5853 - accuracy: 0.7062 - val_loss: 0.5797 - val_accuracy: 0.7205\n",
      "Epoch 20/150\n",
      "514/514 [==============================] - 0s 111us/step - loss: 0.5832 - accuracy: 0.7160 - val_loss: 0.5819 - val_accuracy: 0.6693\n",
      "Epoch 21/150\n",
      "514/514 [==============================] - 0s 106us/step - loss: 0.5838 - accuracy: 0.7004 - val_loss: 0.5870 - val_accuracy: 0.6417\n",
      "Epoch 22/150\n",
      "514/514 [==============================] - 0s 122us/step - loss: 0.5797 - accuracy: 0.7179 - val_loss: 0.5820 - val_accuracy: 0.7008\n",
      "Epoch 23/150\n",
      "514/514 [==============================] - 0s 124us/step - loss: 0.5786 - accuracy: 0.7043 - val_loss: 0.5757 - val_accuracy: 0.6890\n",
      "Epoch 24/150\n",
      "514/514 [==============================] - 0s 106us/step - loss: 0.5683 - accuracy: 0.7315 - val_loss: 0.5826 - val_accuracy: 0.7008\n",
      "Epoch 25/150\n",
      "514/514 [==============================] - 0s 110us/step - loss: 0.5776 - accuracy: 0.7121 - val_loss: 0.5715 - val_accuracy: 0.7008\n",
      "Epoch 26/150\n",
      "514/514 [==============================] - 0s 111us/step - loss: 0.5719 - accuracy: 0.7296 - val_loss: 0.5750 - val_accuracy: 0.7047\n",
      "Epoch 27/150\n",
      "514/514 [==============================] - 0s 116us/step - loss: 0.5711 - accuracy: 0.7296 - val_loss: 0.5700 - val_accuracy: 0.6890\n",
      "Epoch 28/150\n",
      "514/514 [==============================] - 0s 107us/step - loss: 0.5710 - accuracy: 0.7140 - val_loss: 0.6327 - val_accuracy: 0.5787\n",
      "Epoch 29/150\n",
      "514/514 [==============================] - 0s 116us/step - loss: 0.5704 - accuracy: 0.7082 - val_loss: 0.5782 - val_accuracy: 0.7165\n",
      "Epoch 30/150\n",
      "514/514 [==============================] - 0s 105us/step - loss: 0.5635 - accuracy: 0.7315 - val_loss: 0.5808 - val_accuracy: 0.7087\n",
      "Epoch 31/150\n",
      "514/514 [==============================] - 0s 115us/step - loss: 0.5586 - accuracy: 0.7160 - val_loss: 0.5706 - val_accuracy: 0.6969\n",
      "Epoch 32/150\n",
      "514/514 [==============================] - 0s 107us/step - loss: 0.5669 - accuracy: 0.7160 - val_loss: 0.5949 - val_accuracy: 0.6732\n",
      "Epoch 33/150\n",
      "514/514 [==============================] - 0s 110us/step - loss: 0.5738 - accuracy: 0.7335 - val_loss: 0.5967 - val_accuracy: 0.7047\n",
      "Epoch 34/150\n",
      "514/514 [==============================] - 0s 107us/step - loss: 0.5578 - accuracy: 0.7393 - val_loss: 0.5677 - val_accuracy: 0.7087\n",
      "Epoch 35/150\n",
      "514/514 [==============================] - 0s 107us/step - loss: 0.5529 - accuracy: 0.7296 - val_loss: 0.5636 - val_accuracy: 0.6969\n",
      "Epoch 36/150\n",
      "514/514 [==============================] - 0s 119us/step - loss: 0.5605 - accuracy: 0.7296 - val_loss: 0.5753 - val_accuracy: 0.6772\n",
      "Epoch 37/150\n",
      "514/514 [==============================] - 0s 114us/step - loss: 0.5515 - accuracy: 0.7335 - val_loss: 0.5666 - val_accuracy: 0.7008\n",
      "Epoch 38/150\n",
      "514/514 [==============================] - 0s 105us/step - loss: 0.5494 - accuracy: 0.7335 - val_loss: 0.5547 - val_accuracy: 0.6929\n",
      "Epoch 39/150\n",
      "514/514 [==============================] - 0s 107us/step - loss: 0.5586 - accuracy: 0.7101 - val_loss: 0.5552 - val_accuracy: 0.7205\n",
      "Epoch 40/150\n",
      "514/514 [==============================] - 0s 110us/step - loss: 0.5531 - accuracy: 0.7315 - val_loss: 0.5570 - val_accuracy: 0.7047\n",
      "Epoch 41/150\n",
      "514/514 [==============================] - 0s 109us/step - loss: 0.5473 - accuracy: 0.7412 - val_loss: 0.5530 - val_accuracy: 0.7047\n",
      "Epoch 42/150\n",
      "514/514 [==============================] - 0s 123us/step - loss: 0.5512 - accuracy: 0.7432 - val_loss: 0.5710 - val_accuracy: 0.7244\n",
      "Epoch 43/150\n",
      "514/514 [==============================] - 0s 106us/step - loss: 0.5499 - accuracy: 0.7296 - val_loss: 0.5699 - val_accuracy: 0.7087\n",
      "Epoch 44/150\n",
      "514/514 [==============================] - 0s 110us/step - loss: 0.5480 - accuracy: 0.7237 - val_loss: 0.5569 - val_accuracy: 0.7008\n",
      "Epoch 45/150\n",
      "514/514 [==============================] - 0s 107us/step - loss: 0.5413 - accuracy: 0.7412 - val_loss: 0.5757 - val_accuracy: 0.6654\n",
      "Epoch 46/150\n",
      "514/514 [==============================] - 0s 109us/step - loss: 0.5496 - accuracy: 0.7315 - val_loss: 0.5653 - val_accuracy: 0.7047\n",
      "Epoch 47/150\n",
      "514/514 [==============================] - 0s 120us/step - loss: 0.5497 - accuracy: 0.7296 - val_loss: 0.5522 - val_accuracy: 0.7362\n",
      "Epoch 48/150\n",
      "514/514 [==============================] - 0s 107us/step - loss: 0.5467 - accuracy: 0.7276 - val_loss: 0.5550 - val_accuracy: 0.7283\n",
      "Epoch 49/150\n",
      "514/514 [==============================] - 0s 107us/step - loss: 0.5431 - accuracy: 0.7471 - val_loss: 0.5584 - val_accuracy: 0.6969\n",
      "Epoch 50/150\n",
      "514/514 [==============================] - 0s 107us/step - loss: 0.5429 - accuracy: 0.7335 - val_loss: 0.5688 - val_accuracy: 0.6772\n",
      "Epoch 51/150\n",
      "514/514 [==============================] - 0s 105us/step - loss: 0.5383 - accuracy: 0.7549 - val_loss: 0.5418 - val_accuracy: 0.7244\n",
      "Epoch 52/150\n",
      "514/514 [==============================] - 0s 107us/step - loss: 0.5429 - accuracy: 0.7374 - val_loss: 0.5658 - val_accuracy: 0.7008\n",
      "Epoch 53/150\n",
      "514/514 [==============================] - 0s 107us/step - loss: 0.5378 - accuracy: 0.7432 - val_loss: 0.5477 - val_accuracy: 0.7205\n",
      "Epoch 54/150\n"
     ]
    },
    {
     "name": "stdout",
     "output_type": "stream",
     "text": [
      "514/514 [==============================] - 0s 105us/step - loss: 0.5378 - accuracy: 0.7393 - val_loss: 0.5579 - val_accuracy: 0.7205\n",
      "Epoch 55/150\n",
      "514/514 [==============================] - 0s 105us/step - loss: 0.5346 - accuracy: 0.7393 - val_loss: 0.5510 - val_accuracy: 0.7244\n",
      "Epoch 56/150\n",
      "514/514 [==============================] - 0s 111us/step - loss: 0.5421 - accuracy: 0.7198 - val_loss: 0.5584 - val_accuracy: 0.7008\n",
      "Epoch 57/150\n",
      "514/514 [==============================] - 0s 106us/step - loss: 0.5387 - accuracy: 0.7412 - val_loss: 0.5623 - val_accuracy: 0.7126\n",
      "Epoch 58/150\n",
      "514/514 [==============================] - 0s 107us/step - loss: 0.5333 - accuracy: 0.7237 - val_loss: 0.5651 - val_accuracy: 0.6772\n",
      "Epoch 59/150\n",
      "514/514 [==============================] - 0s 116us/step - loss: 0.5410 - accuracy: 0.7432 - val_loss: 0.5462 - val_accuracy: 0.7283\n",
      "Epoch 60/150\n",
      "514/514 [==============================] - 0s 122us/step - loss: 0.5363 - accuracy: 0.7296 - val_loss: 0.5482 - val_accuracy: 0.7323\n",
      "Epoch 61/150\n",
      "514/514 [==============================] - 0s 116us/step - loss: 0.5421 - accuracy: 0.7451 - val_loss: 0.5473 - val_accuracy: 0.7205\n",
      "Epoch 62/150\n",
      "514/514 [==============================] - 0s 113us/step - loss: 0.5371 - accuracy: 0.7412 - val_loss: 0.5535 - val_accuracy: 0.7402\n",
      "Epoch 63/150\n",
      "514/514 [==============================] - 0s 126us/step - loss: 0.5300 - accuracy: 0.7393 - val_loss: 0.5460 - val_accuracy: 0.7323\n",
      "Epoch 64/150\n",
      "514/514 [==============================] - 0s 120us/step - loss: 0.5325 - accuracy: 0.7354 - val_loss: 0.5438 - val_accuracy: 0.7362\n",
      "Epoch 65/150\n",
      "514/514 [==============================] - 0s 104us/step - loss: 0.5344 - accuracy: 0.7335 - val_loss: 0.5583 - val_accuracy: 0.6929\n",
      "Epoch 66/150\n",
      "514/514 [==============================] - 0s 114us/step - loss: 0.5394 - accuracy: 0.7374 - val_loss: 0.5306 - val_accuracy: 0.7559\n",
      "Epoch 67/150\n",
      "514/514 [==============================] - 0s 105us/step - loss: 0.5288 - accuracy: 0.7412 - val_loss: 0.5524 - val_accuracy: 0.7362\n",
      "Epoch 68/150\n",
      "514/514 [==============================] - 0s 111us/step - loss: 0.5352 - accuracy: 0.7315 - val_loss: 0.5657 - val_accuracy: 0.7402\n",
      "Epoch 69/150\n",
      "514/514 [==============================] - 0s 110us/step - loss: 0.5331 - accuracy: 0.7374 - val_loss: 0.5476 - val_accuracy: 0.7283\n",
      "Epoch 70/150\n",
      "514/514 [==============================] - 0s 118us/step - loss: 0.5360 - accuracy: 0.7451 - val_loss: 0.5462 - val_accuracy: 0.7283\n",
      "Epoch 71/150\n",
      "514/514 [==============================] - 0s 111us/step - loss: 0.5321 - accuracy: 0.7568 - val_loss: 0.5540 - val_accuracy: 0.7283\n",
      "Epoch 72/150\n",
      "514/514 [==============================] - 0s 109us/step - loss: 0.5277 - accuracy: 0.7451 - val_loss: 0.5311 - val_accuracy: 0.7598\n",
      "Epoch 73/150\n",
      "514/514 [==============================] - 0s 109us/step - loss: 0.5355 - accuracy: 0.7296 - val_loss: 0.5359 - val_accuracy: 0.7520\n",
      "Epoch 74/150\n",
      "514/514 [==============================] - 0s 107us/step - loss: 0.5259 - accuracy: 0.7490 - val_loss: 0.5411 - val_accuracy: 0.7441\n",
      "Epoch 75/150\n",
      "514/514 [==============================] - 0s 107us/step - loss: 0.5292 - accuracy: 0.7393 - val_loss: 0.5433 - val_accuracy: 0.7441\n",
      "Epoch 76/150\n",
      "514/514 [==============================] - 0s 107us/step - loss: 0.5235 - accuracy: 0.7354 - val_loss: 0.5339 - val_accuracy: 0.7323\n",
      "Epoch 77/150\n",
      "514/514 [==============================] - 0s 109us/step - loss: 0.5247 - accuracy: 0.7549 - val_loss: 0.5340 - val_accuracy: 0.7402\n",
      "Epoch 78/150\n",
      "514/514 [==============================] - 0s 112us/step - loss: 0.5229 - accuracy: 0.7354 - val_loss: 0.5294 - val_accuracy: 0.7362\n",
      "Epoch 79/150\n",
      "514/514 [==============================] - 0s 113us/step - loss: 0.5321 - accuracy: 0.7432 - val_loss: 0.5405 - val_accuracy: 0.7480\n",
      "Epoch 80/150\n",
      "514/514 [==============================] - 0s 113us/step - loss: 0.5258 - accuracy: 0.7471 - val_loss: 0.5323 - val_accuracy: 0.7638\n",
      "Epoch 81/150\n",
      "514/514 [==============================] - 0s 116us/step - loss: 0.5314 - accuracy: 0.7451 - val_loss: 0.5283 - val_accuracy: 0.7441\n",
      "Epoch 82/150\n",
      "514/514 [==============================] - 0s 116us/step - loss: 0.5262 - accuracy: 0.7354 - val_loss: 0.5268 - val_accuracy: 0.7441\n",
      "Epoch 83/150\n",
      "514/514 [==============================] - 0s 122us/step - loss: 0.5181 - accuracy: 0.7276 - val_loss: 0.5354 - val_accuracy: 0.7205\n",
      "Epoch 84/150\n",
      "514/514 [==============================] - 0s 118us/step - loss: 0.5288 - accuracy: 0.7471 - val_loss: 0.5267 - val_accuracy: 0.7559\n",
      "Epoch 85/150\n",
      "514/514 [==============================] - 0s 111us/step - loss: 0.5229 - accuracy: 0.7451 - val_loss: 0.5286 - val_accuracy: 0.7441\n",
      "Epoch 86/150\n",
      "514/514 [==============================] - 0s 120us/step - loss: 0.5187 - accuracy: 0.7393 - val_loss: 0.5315 - val_accuracy: 0.7441\n",
      "Epoch 87/150\n",
      "514/514 [==============================] - 0s 107us/step - loss: 0.5174 - accuracy: 0.7490 - val_loss: 0.5242 - val_accuracy: 0.7441\n",
      "Epoch 88/150\n",
      "514/514 [==============================] - 0s 111us/step - loss: 0.5194 - accuracy: 0.7490 - val_loss: 0.5309 - val_accuracy: 0.7480\n",
      "Epoch 89/150\n",
      "514/514 [==============================] - 0s 107us/step - loss: 0.5196 - accuracy: 0.7451 - val_loss: 0.5245 - val_accuracy: 0.7480\n",
      "Epoch 90/150\n",
      "514/514 [==============================] - 0s 109us/step - loss: 0.5213 - accuracy: 0.7335 - val_loss: 0.5328 - val_accuracy: 0.7362\n",
      "Epoch 91/150\n",
      "514/514 [==============================] - 0s 121us/step - loss: 0.5229 - accuracy: 0.7296 - val_loss: 0.5331 - val_accuracy: 0.7520\n",
      "Epoch 92/150\n",
      "514/514 [==============================] - 0s 110us/step - loss: 0.5268 - accuracy: 0.7412 - val_loss: 0.5216 - val_accuracy: 0.7480\n",
      "Epoch 93/150\n",
      "514/514 [==============================] - 0s 109us/step - loss: 0.5192 - accuracy: 0.7568 - val_loss: 0.5198 - val_accuracy: 0.7480\n",
      "Epoch 94/150\n",
      "514/514 [==============================] - 0s 105us/step - loss: 0.5223 - accuracy: 0.7490 - val_loss: 0.5233 - val_accuracy: 0.7795\n",
      "Epoch 95/150\n",
      "514/514 [==============================] - 0s 107us/step - loss: 0.5201 - accuracy: 0.7626 - val_loss: 0.5401 - val_accuracy: 0.7323\n",
      "Epoch 96/150\n",
      "514/514 [==============================] - 0s 107us/step - loss: 0.5240 - accuracy: 0.7393 - val_loss: 0.5245 - val_accuracy: 0.7520\n",
      "Epoch 97/150\n",
      "514/514 [==============================] - 0s 108us/step - loss: 0.5188 - accuracy: 0.7510 - val_loss: 0.5178 - val_accuracy: 0.7598\n",
      "Epoch 98/150\n",
      "514/514 [==============================] - 0s 107us/step - loss: 0.5231 - accuracy: 0.7335 - val_loss: 0.5282 - val_accuracy: 0.7402\n",
      "Epoch 99/150\n",
      "514/514 [==============================] - 0s 114us/step - loss: 0.5249 - accuracy: 0.7432 - val_loss: 0.5258 - val_accuracy: 0.7520\n",
      "Epoch 100/150\n",
      "514/514 [==============================] - 0s 111us/step - loss: 0.5208 - accuracy: 0.7354 - val_loss: 0.5100 - val_accuracy: 0.7874\n",
      "Epoch 101/150\n",
      "514/514 [==============================] - 0s 118us/step - loss: 0.5160 - accuracy: 0.7529 - val_loss: 0.5215 - val_accuracy: 0.7441\n",
      "Epoch 102/150\n",
      "514/514 [==============================] - 0s 118us/step - loss: 0.5110 - accuracy: 0.7510 - val_loss: 0.5117 - val_accuracy: 0.7638\n",
      "Epoch 103/150\n",
      "514/514 [==============================] - 0s 114us/step - loss: 0.5225 - accuracy: 0.7490 - val_loss: 0.5270 - val_accuracy: 0.7480\n",
      "Epoch 104/150\n",
      "514/514 [==============================] - 0s 114us/step - loss: 0.5152 - accuracy: 0.7451 - val_loss: 0.5088 - val_accuracy: 0.7756\n",
      "Epoch 105/150\n",
      "514/514 [==============================] - 0s 114us/step - loss: 0.5095 - accuracy: 0.7490 - val_loss: 0.5147 - val_accuracy: 0.7717\n",
      "Epoch 106/150\n",
      "514/514 [==============================] - 0s 113us/step - loss: 0.5143 - accuracy: 0.7451 - val_loss: 0.5109 - val_accuracy: 0.7717\n",
      "Epoch 107/150\n",
      "514/514 [==============================] - 0s 114us/step - loss: 0.5147 - accuracy: 0.7393 - val_loss: 0.5293 - val_accuracy: 0.7362\n",
      "Epoch 108/150\n",
      "514/514 [==============================] - 0s 118us/step - loss: 0.5255 - accuracy: 0.7568 - val_loss: 0.5162 - val_accuracy: 0.7598\n",
      "Epoch 109/150\n",
      "514/514 [==============================] - 0s 109us/step - loss: 0.5138 - accuracy: 0.7529 - val_loss: 0.5052 - val_accuracy: 0.7835\n",
      "Epoch 110/150\n"
     ]
    },
    {
     "name": "stdout",
     "output_type": "stream",
     "text": [
      "514/514 [==============================] - 0s 113us/step - loss: 0.5070 - accuracy: 0.7588 - val_loss: 0.5440 - val_accuracy: 0.7205\n",
      "Epoch 111/150\n",
      "514/514 [==============================] - 0s 107us/step - loss: 0.5230 - accuracy: 0.7529 - val_loss: 0.5136 - val_accuracy: 0.7756\n",
      "Epoch 112/150\n",
      "514/514 [==============================] - 0s 107us/step - loss: 0.5057 - accuracy: 0.7607 - val_loss: 0.5181 - val_accuracy: 0.7638\n",
      "Epoch 113/150\n",
      "514/514 [==============================] - 0s 111us/step - loss: 0.5094 - accuracy: 0.7490 - val_loss: 0.5154 - val_accuracy: 0.7638\n",
      "Epoch 114/150\n",
      "514/514 [==============================] - 0s 107us/step - loss: 0.5047 - accuracy: 0.7510 - val_loss: 0.5138 - val_accuracy: 0.7638\n",
      "Epoch 115/150\n",
      "514/514 [==============================] - 0s 109us/step - loss: 0.5110 - accuracy: 0.7451 - val_loss: 0.5059 - val_accuracy: 0.7677\n",
      "Epoch 116/150\n",
      "514/514 [==============================] - 0s 112us/step - loss: 0.5059 - accuracy: 0.7588 - val_loss: 0.5066 - val_accuracy: 0.7756\n",
      "Epoch 117/150\n",
      "514/514 [==============================] - 0s 111us/step - loss: 0.5147 - accuracy: 0.7412 - val_loss: 0.5311 - val_accuracy: 0.7480\n",
      "Epoch 118/150\n",
      "514/514 [==============================] - 0s 109us/step - loss: 0.5071 - accuracy: 0.7549 - val_loss: 0.5055 - val_accuracy: 0.7638\n",
      "Epoch 119/150\n",
      "514/514 [==============================] - 0s 111us/step - loss: 0.5090 - accuracy: 0.7549 - val_loss: 0.5199 - val_accuracy: 0.7559\n",
      "Epoch 120/150\n",
      "514/514 [==============================] - 0s 109us/step - loss: 0.5057 - accuracy: 0.7432 - val_loss: 0.5118 - val_accuracy: 0.7677\n",
      "Epoch 121/150\n",
      "514/514 [==============================] - 0s 111us/step - loss: 0.5064 - accuracy: 0.7510 - val_loss: 0.5169 - val_accuracy: 0.7520\n",
      "Epoch 122/150\n",
      "514/514 [==============================] - 0s 110us/step - loss: 0.5105 - accuracy: 0.7451 - val_loss: 0.5059 - val_accuracy: 0.7953\n",
      "Epoch 123/150\n",
      "514/514 [==============================] - 0s 114us/step - loss: 0.5041 - accuracy: 0.7451 - val_loss: 0.5213 - val_accuracy: 0.7520\n",
      "Epoch 124/150\n",
      "514/514 [==============================] - 0s 115us/step - loss: 0.5055 - accuracy: 0.7549 - val_loss: 0.5128 - val_accuracy: 0.7638\n",
      "Epoch 125/150\n",
      "514/514 [==============================] - 0s 109us/step - loss: 0.5120 - accuracy: 0.7510 - val_loss: 0.5233 - val_accuracy: 0.7402\n",
      "Epoch 126/150\n",
      "514/514 [==============================] - 0s 113us/step - loss: 0.5016 - accuracy: 0.7412 - val_loss: 0.5193 - val_accuracy: 0.7480\n",
      "Epoch 127/150\n",
      "514/514 [==============================] - 0s 111us/step - loss: 0.5010 - accuracy: 0.7549 - val_loss: 0.5028 - val_accuracy: 0.7953\n",
      "Epoch 128/150\n",
      "514/514 [==============================] - 0s 107us/step - loss: 0.4936 - accuracy: 0.7724 - val_loss: 0.5136 - val_accuracy: 0.7638\n",
      "Epoch 129/150\n",
      "514/514 [==============================] - 0s 116us/step - loss: 0.5076 - accuracy: 0.7374 - val_loss: 0.5067 - val_accuracy: 0.7638\n",
      "Epoch 130/150\n",
      "514/514 [==============================] - 0s 120us/step - loss: 0.5025 - accuracy: 0.7432 - val_loss: 0.4977 - val_accuracy: 0.7756\n",
      "Epoch 131/150\n",
      "514/514 [==============================] - 0s 109us/step - loss: 0.5021 - accuracy: 0.7510 - val_loss: 0.5103 - val_accuracy: 0.7717\n",
      "Epoch 132/150\n",
      "514/514 [==============================] - 0s 107us/step - loss: 0.5020 - accuracy: 0.7529 - val_loss: 0.4960 - val_accuracy: 0.7756\n",
      "Epoch 133/150\n",
      "514/514 [==============================] - 0s 108us/step - loss: 0.4964 - accuracy: 0.7646 - val_loss: 0.4982 - val_accuracy: 0.7874\n",
      "Epoch 134/150\n",
      "514/514 [==============================] - 0s 106us/step - loss: 0.4983 - accuracy: 0.7588 - val_loss: 0.5107 - val_accuracy: 0.7559\n",
      "Epoch 135/150\n",
      "514/514 [==============================] - 0s 107us/step - loss: 0.4941 - accuracy: 0.7646 - val_loss: 0.4979 - val_accuracy: 0.7795\n",
      "Epoch 136/150\n",
      "514/514 [==============================] - 0s 113us/step - loss: 0.4998 - accuracy: 0.7490 - val_loss: 0.4983 - val_accuracy: 0.7835\n",
      "Epoch 137/150\n",
      "514/514 [==============================] - 0s 109us/step - loss: 0.5021 - accuracy: 0.7588 - val_loss: 0.5060 - val_accuracy: 0.7677\n",
      "Epoch 138/150\n",
      "514/514 [==============================] - 0s 107us/step - loss: 0.4963 - accuracy: 0.7490 - val_loss: 0.4955 - val_accuracy: 0.7835\n",
      "Epoch 139/150\n",
      "514/514 [==============================] - 0s 108us/step - loss: 0.4971 - accuracy: 0.7490 - val_loss: 0.4961 - val_accuracy: 0.7835\n",
      "Epoch 140/150\n",
      "514/514 [==============================] - 0s 107us/step - loss: 0.4896 - accuracy: 0.7451 - val_loss: 0.4979 - val_accuracy: 0.7795\n",
      "Epoch 141/150\n",
      "514/514 [==============================] - 0s 105us/step - loss: 0.4956 - accuracy: 0.7626 - val_loss: 0.4902 - val_accuracy: 0.7835\n",
      "Epoch 142/150\n",
      "514/514 [==============================] - 0s 107us/step - loss: 0.4922 - accuracy: 0.7588 - val_loss: 0.4991 - val_accuracy: 0.7835\n",
      "Epoch 143/150\n",
      "514/514 [==============================] - 0s 109us/step - loss: 0.5049 - accuracy: 0.7588 - val_loss: 0.4958 - val_accuracy: 0.7835\n",
      "Epoch 144/150\n",
      "514/514 [==============================] - 0s 120us/step - loss: 0.5057 - accuracy: 0.7471 - val_loss: 0.4956 - val_accuracy: 0.7638\n",
      "Epoch 145/150\n",
      "514/514 [==============================] - 0s 118us/step - loss: 0.4996 - accuracy: 0.7510 - val_loss: 0.4909 - val_accuracy: 0.7795\n",
      "Epoch 146/150\n",
      "514/514 [==============================] - 0s 109us/step - loss: 0.4918 - accuracy: 0.7451 - val_loss: 0.5057 - val_accuracy: 0.7795\n",
      "Epoch 147/150\n",
      "514/514 [==============================] - 0s 111us/step - loss: 0.4939 - accuracy: 0.7549 - val_loss: 0.4942 - val_accuracy: 0.7756\n",
      "Epoch 148/150\n",
      "514/514 [==============================] - 0s 82us/step - loss: 0.4954 - accuracy: 0.7568 - val_loss: 0.4985 - val_accuracy: 0.7677\n",
      "Epoch 149/150\n",
      "514/514 [==============================] - 0s 133us/step - loss: 0.4900 - accuracy: 0.7646 - val_loss: 0.4912 - val_accuracy: 0.7913\n",
      "Epoch 150/150\n",
      "514/514 [==============================] - 0s 109us/step - loss: 0.4865 - accuracy: 0.7510 - val_loss: 0.4894 - val_accuracy: 0.7835\n",
      "768/768 [==============================] - 0s 14us/step\n",
      "\n",
      "accuracy: 77.99%\n"
     ]
    }
   ],
   "source": [
    "# 케라스 분류 예2)\n",
    "from keras.models import Sequential # 입력이 하나 output도 하나인 망\n",
    "from keras.layers import Dense\n",
    "import numpy\n",
    "\n",
    "numpy.random.seed(7)\n",
    "dataset = numpy.loadtxt('pima.data', delimiter =\",\")\n",
    "X = dataset[:, 0:8] # 8개 독립변수\n",
    "Y = dataset[:, 8] # 종속변수\n",
    "\n",
    "model = Sequential() # ?x8 , 8x12 => ?x12\n",
    "model.add(Dense(12, input_dim=8, kernel_initializer='uniform', activation='relu')) # ?x12, 12x8(가중치), ?x8(결과)\n",
    "model.add(Dense(8, kernel_initializer='uniform', activation='relu')) # ?x8, 8x1, ?x1 (분류!)\n",
    "model.add(Dense(1, kernel_initializer='uniform', activation='sigmoid')) # 0.5를 기준으로 크면 1, 아니면 0\n",
    "# kernel_initializer='uniform': 가중치를 균등분포로 초기화\n",
    "model.compile(loss='binary_crossentropy', optimizer='adam', metrics=['accuracy'])\n",
    "\n",
    "# train, validation, test\n",
    "history = model.fit(X, Y, validation_split=0.33, epochs=150, batch_size=10)\n",
    "scores = model.evaluate(X, Y)\n",
    "print('\\n%s: %.2f%%' % (model.metrics_names[1], scores[1]*100)) # 2번째 accuracy"
   ]
  },
  {
   "cell_type": "code",
   "execution_count": 6,
   "metadata": {},
   "outputs": [
    {
     "name": "stdout",
     "output_type": "stream",
     "text": [
      "dict_keys(['val_loss', 'val_accuracy', 'loss', 'accuracy'])\n"
     ]
    },
    {
     "data": {
      "image/png": "[encoded data removed]",
      "text/plain": [
       "<Figure size 432x288 with 1 Axes>"
      ]
     },
     "metadata": {
      "needs_background": "light"
     },
     "output_type": "display_data"
    }
   ],
   "source": [
    "from matplotlib import pyplot as plt\n",
    "print(history.history.keys())\n",
    "plt.plot(history.history['accuracy'])\n",
    "plt.plot(history.history['val_accuracy'])\n",
    "plt.title('accuracy')\n",
    "plt.ylabel('accuracy')\n",
    "plt.xlabel('epoch')\n",
    "plt.legend(['train', 'test'], loc='upper left')\n",
    "plt.show()"
   ]
  },
  {
   "cell_type": "code",
   "execution_count": 7,
   "metadata": {},
   "outputs": [
    {
     "name": "stdout",
     "output_type": "stream",
     "text": [
      "dict_keys(['val_loss', 'val_accuracy', 'loss', 'accuracy'])\n"
     ]
    },
    {
     "data": {
      "image/png": "[encoded data removed]",
      "text/plain": [
       "<Figure size 432x288 with 1 Axes>"
      ]
     },
     "metadata": {
      "needs_background": "light"
     },
     "output_type": "display_data"
    }
   ],
   "source": [
    "from matplotlib import pyplot as plt\n",
    "print(history.history.keys())\n",
    "plt.plot(history.history['loss'])\n",
    "plt.plot(history.history['val_loss'])\n",
    "plt.title('loss')\n",
    "plt.ylabel('loss')\n",
    "plt.xlabel('epoch')\n",
    "plt.legend(['train', 'test'], loc='upper left')\n",
    "plt.show()"
   ]
  },
  {
   "cell_type": "markdown",
   "metadata": {},
   "source": [
    "# 비선형으로 바이너리 분류"
   ]
  },
  {
   "cell_type": "code",
   "execution_count": 8,
   "metadata": {},
   "outputs": [
    {
     "name": "stdout",
     "output_type": "stream",
     "text": [
      "(1000, 2)\n",
      "(1000,)\n"
     ]
    }
   ],
   "source": [
    "from sklearn.preprocessing import scale\n",
    "from sklearn.datasets import make_moons\n",
    "from sklearn.model_selection import train_test_split\n",
    "X, Y = make_moons(noise=0.2, random_state=0, n_samples=1000)\n",
    "X = scale(X)\n",
    "X_train, X_test, Y_train, Y_test = train_test_split(X, Y, test_size=.5)\n",
    "print(X.shape) # 데이터 차수: 1000 x 2(2개의 변수)\n",
    "print(Y.shape) # 1000개의 데이터"
   ]
  },
  {
   "cell_type": "code",
   "execution_count": 9,
   "metadata": {},
   "outputs": [
    {
     "data": {
      "text/plain": [
       "[Text(0, 0.5, 'Y'), Text(0.5, 0, 'X'), Text(0.5, 1.0, 'binary classification')]"
      ]
     },
     "execution_count": 9,
     "metadata": {},
     "output_type": "execute_result"
    },
    {
     "data": {
      "image/png": "[encoded data removed]",
      "text/plain": [
       "<Figure size 432x288 with 1 Axes>"
      ]
     },
     "metadata": {
      "needs_background": "light"
     },
     "output_type": "display_data"
    }
   ],
   "source": [
    "fig, ax = plt.subplots()\n",
    "ax.scatter(X[Y==0, 0], X[Y==0,1], label='Class O')\n",
    "ax.scatter(X[Y==1, 0], X[Y==1,1], color='r', label='Class 1')\n",
    "ax.legend()\n",
    "ax.set(xlabel='X', ylabel='Y', title='binary classification')"
   ]
  },
  {
   "cell_type": "code",
   "execution_count": 10,
   "metadata": {},
   "outputs": [
    {
     "name": "stdout",
     "output_type": "stream",
     "text": [
      "WARNING:tensorflow:From C:\\Users\\ICT01_20\\Anaconda3\\lib\\site-packages\\keras\\callbacks\\tensorboard_v1.py:146: The name tf.summary.histogram is deprecated. Please use tf.compat.v1.summary.histogram instead.\n",
      "\n",
      "WARNING:tensorflow:From C:\\Users\\ICT01_20\\Anaconda3\\lib\\site-packages\\keras\\callbacks\\tensorboard_v1.py:200: The name tf.summary.merge_all is deprecated. Please use tf.compat.v1.summary.merge_all instead.\n",
      "\n",
      "WARNING:tensorflow:From C:\\Users\\ICT01_20\\Anaconda3\\lib\\site-packages\\keras\\callbacks\\tensorboard_v1.py:203: The name tf.summary.FileWriter is deprecated. Please use tf.compat.v1.summary.FileWriter instead.\n",
      "\n"
     ]
    }
   ],
   "source": [
    "import keras\n",
    "\n",
    "# 비선형 모델 - 신경망\n",
    "model = Sequential()\n",
    "\n",
    "# 행렬연산 => 설명을 확대\n",
    "# 1000x2, 2x32 => 1000x32(변수가 32개로 늘어난 것과 마찬가지. 2개의 변수를 32개로 세밀하기 설명)\n",
    "model.add(Dense(32, input_dim=2, activation='relu')) # 차원 확대\n",
    "model.add(Dense(1, activation='sigmoid'))\n",
    "model.compile(optimizer='AdaDelta', loss='binary_crossentropy', metrics=['accuracy'])\n",
    "\n",
    "# callback 함수는 windows 자동으로 호출되는 함수 \n",
    "tb_callback = keras.callbacks.TensorBoard(log_dir='./Graph/model_1/', histogram_freq=100, write_graph=True, write_images=False)\n",
    "tb_callback.set_model(model) # 콜백을 모델에 등록"
   ]
  },
  {
   "cell_type": "code",
   "execution_count": 11,
   "metadata": {},
   "outputs": [
    {
     "name": "stdout",
     "output_type": "stream",
     "text": [
      "WARNING:tensorflow:From C:\\Users\\ICT01_20\\Anaconda3\\lib\\site-packages\\keras\\callbacks\\tensorboard_v1.py:343: The name tf.Summary is deprecated. Please use tf.compat.v1.Summary instead.\n",
      "\n"
     ]
    }
   ],
   "source": [
    "hist = model.fit(X_train, Y_train, batch_size=32, epochs = 200, verbose=0, validation_data = (X_test, Y_test), callbacks=[tb_callback])"
   ]
  },
  {
   "cell_type": "code",
   "execution_count": 12,
   "metadata": {},
   "outputs": [
    {
     "name": "stdout",
     "output_type": "stream",
     "text": [
      "Test loss:  0.12789358568191528\n",
      "Test accuracy:  0.949999988079071\n"
     ]
    }
   ],
   "source": [
    "score=model.evaluate(X_test, Y_test, verbose=0)\n",
    "print('Test loss: ', score[0])\n",
    "print('Test accuracy: ', score[1])"
   ]
  },
  {
   "cell_type": "code",
   "execution_count": 13,
   "metadata": {},
   "outputs": [
    {
     "name": "stdout",
     "output_type": "stream",
     "text": [
      "Model: \"sequential_5\"\n",
      "_________________________________________________________________\n",
      "Layer (type)                 Output Shape              Param #   \n",
      "=================================================================\n",
      "dense_11 (Dense)             (None, 32)                96        \n",
      "_________________________________________________________________\n",
      "dense_12 (Dense)             (None, 1)                 33        \n",
      "=================================================================\n",
      "Total params: 129\n",
      "Trainable params: 129\n",
      "Non-trainable params: 0\n",
      "_________________________________________________________________\n"
     ]
    }
   ],
   "source": [
    "keras.utils.print_summary(model)"
   ]
  },
  {
   "cell_type": "code",
   "execution_count": 14,
   "metadata": {
    "scrolled": false
   },
   "outputs": [
    {
     "data": {
      "image/png": "[encoded data removed]",
      "text/plain": [
       "<IPython.core.display.Image object>"
      ]
     },
     "execution_count": 14,
     "metadata": {},
     "output_type": "execute_result"
    }
   ],
   "source": [
    "keras.utils.plot_model(model)"
   ]
  },
  {
   "cell_type": "code",
   "execution_count": 15,
   "metadata": {},
   "outputs": [
    {
     "data": {
      "text/plain": [
       "<pydot.Dot at 0x1be2c7c2688>"
      ]
     },
     "execution_count": 15,
     "metadata": {},
     "output_type": "execute_result"
    }
   ],
   "source": [
    "%matplotlib inline\n",
    "from keras.utils.vis_utils import model_to_dot\n",
    "model_to_dot(model)"
   ]
  },
  {
   "cell_type": "code",
   "execution_count": 16,
   "metadata": {},
   "outputs": [
    {
     "data": {
      "image/svg+xml": [
       "<svg height=\"255pt\" viewBox=\"0.00 0.00 181.00 191.00\" width=\"241pt\" xmlns=\"http://www.w3.org/2000/svg\" xmlns:xlink=\"http://www.w3.org/1999/xlink\">\n",
       "<g class=\"graph\" id=\"graph0\" transform=\"scale(1.33333 1.33333) rotate(0) translate(4 187)\">\n",
       "<title>G</title>\n",
       "<polygon fill=\"white\" points=\"-4,4 -4,-187 177,-187 177,4 -4,4\" stroke=\"none\"/>\n",
       "<!-- 1916250705032 -->\n",
       "<g class=\"node\" id=\"node1\"><title>1916250705032</title>\n",
       "<polygon fill=\"none\" points=\"0,-146.5 0,-182.5 173,-182.5 173,-146.5 0,-146.5\" stroke=\"black\"/>\n",
       "<text font-family=\"Times New Roman,serif\" font-size=\"14.00\" text-anchor=\"middle\" x=\"86.5\" y=\"-160.8\">dense_11_input: InputLayer</text>\n",
       "</g>\n",
       "<!-- 1916253369864 -->\n",
       "<g class=\"node\" id=\"node2\"><title>1916253369864</title>\n",
       "<polygon fill=\"none\" points=\"31,-73.5 31,-109.5 142,-109.5 142,-73.5 31,-73.5\" stroke=\"black\"/>\n",
       "<text font-family=\"Times New Roman,serif\" font-size=\"14.00\" text-anchor=\"middle\" x=\"86.5\" y=\"-87.8\">dense_11: Dense</text>\n",
       "</g>\n",
       "<!-- 1916250705032&#45;&gt;1916253369864 -->\n",
       "<g class=\"edge\" id=\"edge1\"><title>1916250705032-&gt;1916253369864</title>\n",
       "<path d=\"M86.5,-146.313C86.5,-138.289 86.5,-128.547 86.5,-119.569\" fill=\"none\" stroke=\"black\"/>\n",
       "<polygon fill=\"black\" points=\"90.0001,-119.529 86.5,-109.529 83.0001,-119.529 90.0001,-119.529\" stroke=\"black\"/>\n",
       "</g>\n",
       "<!-- 1916247194376 -->\n",
       "<g class=\"node\" id=\"node3\"><title>1916247194376</title>\n",
       "<polygon fill=\"none\" points=\"31,-0.5 31,-36.5 142,-36.5 142,-0.5 31,-0.5\" stroke=\"black\"/>\n",
       "<text font-family=\"Times New Roman,serif\" font-size=\"14.00\" text-anchor=\"middle\" x=\"86.5\" y=\"-14.8\">dense_12: Dense</text>\n",
       "</g>\n",
       "<!-- 1916253369864&#45;&gt;1916247194376 -->\n",
       "<g class=\"edge\" id=\"edge2\"><title>1916253369864-&gt;1916247194376</title>\n",
       "<path d=\"M86.5,-73.3129C86.5,-65.2895 86.5,-55.5475 86.5,-46.5691\" fill=\"none\" stroke=\"black\"/>\n",
       "<polygon fill=\"black\" points=\"90.0001,-46.5288 86.5,-36.5288 83.0001,-46.5289 90.0001,-46.5288\" stroke=\"black\"/>\n",
       "</g>\n",
       "</g>\n",
       "</svg>"
      ],
      "text/plain": [
       "<IPython.core.display.SVG object>"
      ]
     },
     "execution_count": 16,
     "metadata": {},
     "output_type": "execute_result"
    }
   ],
   "source": [
    "from IPython.display import Image, SVG\n",
    "SVG(model_to_dot(model).create(prog='dot',format='svg'))"
   ]
  },
  {
   "cell_type": "code",
   "execution_count": 17,
   "metadata": {},
   "outputs": [
    {
     "name": "stdout",
     "output_type": "stream",
     "text": [
      "Model: \"sequential_5\"\n",
      "_________________________________________________________________\n",
      "Layer (type)                 Output Shape              Param #   \n",
      "=================================================================\n",
      "dense_11 (Dense)             (None, 32)                96        \n",
      "_________________________________________________________________\n",
      "dense_12 (Dense)             (None, 1)                 33        \n",
      "=================================================================\n",
      "Total params: 129\n",
      "Trainable params: 129\n",
      "Non-trainable params: 0\n",
      "_________________________________________________________________\n"
     ]
    }
   ],
   "source": [
    "model.summary()"
   ]
  },
  {
   "cell_type": "markdown",
   "metadata": {},
   "source": [
    "# Multi Classification"
   ]
  },
  {
   "cell_type": "code",
   "execution_count": 18,
   "metadata": {},
   "outputs": [],
   "source": [
    "# callback class\n",
    "# custom callback 함수의 제작\n",
    "# 함수에 의해서 호출되는 객체\n",
    "class CustomHistory(keras.callbacks.Callback): # 상속\n",
    "    def init(self):\n",
    "        self.train_loss = []\n",
    "        self.val_loss = []\n",
    "        self.train_acc = []\n",
    "        self.val_acc = []\n",
    "    def on_epoch_end(self, batch, logs={}): # 오버라이딩\n",
    "        self.train_loss.append(logs.get('loss'))\n",
    "        self.val_loss.append(logs.get('val_loss'))\n",
    "        self.train_acc.append(logs.get('acc'))\n",
    "        self.val_acc.append(logs.get('val_acc'))"
   ]
  },
  {
   "cell_type": "code",
   "execution_count": 19,
   "metadata": {},
   "outputs": [
    {
     "name": "stdout",
     "output_type": "stream",
     "text": [
      "(60000, 28, 28) uint8\n",
      "(60000,) uint8\n",
      "(10000, 28, 28) uint8\n",
      "(10000,) uint8\n"
     ]
    }
   ],
   "source": [
    "from keras.datasets import mnist\n",
    "import matplotlib.pylab as plt\n",
    "(X_train0, y_train0), (X_test0, y_test0) = mnist.load_data()\n",
    "print(X_train0.shape, X_train0.dtype) # 60000, 28x28\n",
    "print(y_train0.shape, y_train0.dtype) # 60000\n",
    "print(X_test0.shape, X_test0.dtype) # 10000, 28x28\n",
    "print(y_test0.shape, y_test0.dtype) # 10000"
   ]
  },
  {
   "cell_type": "code",
   "execution_count": 20,
   "metadata": {},
   "outputs": [
    {
     "data": {
      "image/png": "[encoded data removed]",
      "text/plain": [
       "<Figure size 432x288 with 1 Axes>"
      ]
     },
     "metadata": {
      "needs_background": "light"
     },
     "output_type": "display_data"
    }
   ],
   "source": [
    "plt.imshow(X_train0[0])\n",
    "plt.grid(False)\n",
    "plt.show()"
   ]
  },
  {
   "cell_type": "code",
   "execution_count": 21,
   "metadata": {},
   "outputs": [
    {
     "name": "stdout",
     "output_type": "stream",
     "text": [
      "(60000, 784) float32\n"
     ]
    }
   ],
   "source": [
    "# fully-connected: flatten: FFNN은 \n",
    "# 이미지 정규화: 0~255 컬러/255 => 0~1\n",
    "X_train = X_train0.reshape(60000, 784).astype('float32')/255.0\n",
    "X_test = X_test0.reshape(10000, 784).astype('float32')/255.0\n",
    "print(X_train.shape, X_train.dtype)"
   ]
  },
  {
   "cell_type": "code",
   "execution_count": 22,
   "metadata": {},
   "outputs": [
    {
     "data": {
      "text/plain": [
       "array([5, 0, 4, 1, 9], dtype=uint8)"
      ]
     },
     "execution_count": 22,
     "metadata": {},
     "output_type": "execute_result"
    }
   ],
   "source": [
    "y_train0[:5] # one-hot-encoding 여부: multi-label => softmax\n",
    "# 경우의 수에 대한 확률값\n",
    "# array([5, 0, 4, 1, 9], dtype=uint8) - 원핫인코딩 안되어있음"
   ]
  },
  {
   "cell_type": "code",
   "execution_count": 23,
   "metadata": {},
   "outputs": [
    {
     "data": {
      "text/plain": [
       "array([[0., 0., 0., 0., 0., 1., 0., 0., 0., 0.],\n",
       "       [1., 0., 0., 0., 0., 0., 0., 0., 0., 0.],\n",
       "       [0., 0., 0., 0., 1., 0., 0., 0., 0., 0.],\n",
       "       [0., 1., 0., 0., 0., 0., 0., 0., 0., 0.],\n",
       "       [0., 0., 0., 0., 0., 0., 0., 0., 0., 1.]], dtype=float32)"
      ]
     },
     "execution_count": 23,
     "metadata": {},
     "output_type": "execute_result"
    }
   ],
   "source": [
    "from keras.utils import np_utils\n",
    "Y_train = np_utils.to_categorical(y_train0, 10)\n",
    "Y_test = np_utils.to_categorical(y_test0, 10)\n",
    "y_train[:5]"
   ]
  },
  {
   "cell_type": "code",
   "execution_count": 24,
   "metadata": {},
   "outputs": [],
   "source": [
    "import numpy as np\n",
    "from keras.optimizers import SGD\n",
    "\n",
    "np.random.seed(0)\n",
    "model = Sequential() # 60000x784, 784x15 => 60000x15\n",
    "model.add(Dense(15, input_dim=784, activation='sigmoid')) # 60000x15, 15x10 = > 60000x10\n",
    "model.add(Dense(10, activation='sigmoid'))\n",
    "\n",
    "model.compile(optimizer=SGD(lr=0.2), loss = 'mean_squared_error', metrics=['accuracy']) \n",
    "# lr = learning rate\n",
    "# stochastic gradient descent 확률적경사하강"
   ]
  },
  {
   "cell_type": "code",
   "execution_count": 25,
   "metadata": {},
   "outputs": [
    {
     "data": {
      "text/plain": [
       "[<keras.layers.core.Dense at 0x1be2c873048>,\n",
       " <keras.layers.core.Dense at 0x1be2c873748>]"
      ]
     },
     "execution_count": 25,
     "metadata": {},
     "output_type": "execute_result"
    }
   ],
   "source": [
    "model.layers"
   ]
  },
  {
   "cell_type": "code",
   "execution_count": 26,
   "metadata": {},
   "outputs": [
    {
     "data": {
      "text/plain": [
       "<function keras.activations.sigmoid(x)>"
      ]
     },
     "execution_count": 26,
     "metadata": {},
     "output_type": "execute_result"
    }
   ],
   "source": [
    "l1 = model.layers[0]\n",
    "l2 = model.layers[1]\n",
    "# 레이어 속성으로 정보 확인\n",
    "l1.name\n",
    "l1.input_shape\n",
    "l1.output_shape\n",
    "l1.activation"
   ]
  },
  {
   "cell_type": "code",
   "execution_count": 27,
   "metadata": {},
   "outputs": [
    {
     "name": "stderr",
     "output_type": "stream",
     "text": [
      "C:\\Users\\ICT01_20\\Anaconda3\\lib\\site-packages\\ipykernel_launcher.py:4: UserWarning: The `nb_epoch` argument in `fit` has been renamed `epochs`.\n",
      "  after removing the cwd from sys.path.\n"
     ]
    },
    {
     "name": "stdout",
     "output_type": "stream",
     "text": [
      "Train on 60000 samples, validate on 10000 samples\n",
      "Epoch 1/30\n",
      " - 1s - loss: 0.1019 - accuracy: 0.2440 - val_loss: 0.0864 - val_accuracy: 0.3212\n",
      "Epoch 2/30\n",
      " - 1s - loss: 0.0845 - accuracy: 0.3921 - val_loss: 0.0821 - val_accuracy: 0.4409\n",
      "Epoch 3/30\n",
      " - 1s - loss: 0.0796 - accuracy: 0.4997 - val_loss: 0.0765 - val_accuracy: 0.5340\n",
      "Epoch 4/30\n",
      " - 1s - loss: 0.0740 - accuracy: 0.5620 - val_loss: 0.0707 - val_accuracy: 0.5852\n",
      "Epoch 5/30\n",
      " - 1s - loss: 0.0682 - accuracy: 0.6149 - val_loss: 0.0649 - val_accuracy: 0.6522\n",
      "Epoch 6/30\n",
      " - 1s - loss: 0.0625 - accuracy: 0.6759 - val_loss: 0.0594 - val_accuracy: 0.6998\n",
      "Epoch 7/30\n",
      " - 1s - loss: 0.0576 - accuracy: 0.7101 - val_loss: 0.0551 - val_accuracy: 0.7316\n",
      "Epoch 8/30\n",
      " - 1s - loss: 0.0537 - accuracy: 0.7325 - val_loss: 0.0516 - val_accuracy: 0.7485\n",
      "Epoch 9/30\n",
      " - 1s - loss: 0.0505 - accuracy: 0.7474 - val_loss: 0.0486 - val_accuracy: 0.7639\n",
      "Epoch 10/30\n",
      " - 1s - loss: 0.0478 - accuracy: 0.7609 - val_loss: 0.0461 - val_accuracy: 0.7759\n",
      "Epoch 11/30\n",
      " - 1s - loss: 0.0455 - accuracy: 0.7739 - val_loss: 0.0439 - val_accuracy: 0.7893\n",
      "Epoch 12/30\n",
      " - 1s - loss: 0.0435 - accuracy: 0.7859 - val_loss: 0.0420 - val_accuracy: 0.8023\n",
      "Epoch 13/30\n",
      " - 1s - loss: 0.0417 - accuracy: 0.7977 - val_loss: 0.0402 - val_accuracy: 0.8132\n",
      "Epoch 14/30\n",
      " - 1s - loss: 0.0400 - accuracy: 0.8083 - val_loss: 0.0386 - val_accuracy: 0.8255\n",
      "Epoch 15/30\n",
      " - 1s - loss: 0.0385 - accuracy: 0.8192 - val_loss: 0.0371 - val_accuracy: 0.8359\n",
      "Epoch 16/30\n",
      " - 1s - loss: 0.0371 - accuracy: 0.8288 - val_loss: 0.0358 - val_accuracy: 0.8432\n",
      "Epoch 17/30\n",
      " - 1s - loss: 0.0359 - accuracy: 0.8371 - val_loss: 0.0345 - val_accuracy: 0.8503\n",
      "Epoch 18/30\n",
      " - 1s - loss: 0.0347 - accuracy: 0.8440 - val_loss: 0.0334 - val_accuracy: 0.8557\n",
      "Epoch 19/30\n",
      " - 1s - loss: 0.0336 - accuracy: 0.8506 - val_loss: 0.0323 - val_accuracy: 0.8618\n",
      "Epoch 20/30\n",
      " - 1s - loss: 0.0326 - accuracy: 0.8565 - val_loss: 0.0313 - val_accuracy: 0.8651\n",
      "Epoch 21/30\n",
      " - 1s - loss: 0.0316 - accuracy: 0.8610 - val_loss: 0.0304 - val_accuracy: 0.8706\n",
      "Epoch 22/30\n",
      " - 1s - loss: 0.0308 - accuracy: 0.8646 - val_loss: 0.0295 - val_accuracy: 0.8742\n",
      "Epoch 23/30\n",
      " - 1s - loss: 0.0299 - accuracy: 0.8680 - val_loss: 0.0287 - val_accuracy: 0.8777\n",
      "Epoch 24/30\n",
      " - 1s - loss: 0.0292 - accuracy: 0.8709 - val_loss: 0.0280 - val_accuracy: 0.8790\n",
      "Epoch 25/30\n",
      " - 1s - loss: 0.0285 - accuracy: 0.8738 - val_loss: 0.0273 - val_accuracy: 0.8814\n",
      "Epoch 26/30\n",
      " - 1s - loss: 0.0278 - accuracy: 0.8765 - val_loss: 0.0267 - val_accuracy: 0.8845\n",
      "Epoch 27/30\n",
      " - 1s - loss: 0.0272 - accuracy: 0.8787 - val_loss: 0.0261 - val_accuracy: 0.8863\n",
      "Epoch 28/30\n",
      " - 1s - loss: 0.0266 - accuracy: 0.8814 - val_loss: 0.0255 - val_accuracy: 0.8878\n",
      "Epoch 29/30\n",
      " - 1s - loss: 0.0261 - accuracy: 0.8829 - val_loss: 0.0250 - val_accuracy: 0.8894\n",
      "Epoch 30/30\n",
      " - 1s - loss: 0.0256 - accuracy: 0.8844 - val_loss: 0.0245 - val_accuracy: 0.8904\n"
     ]
    },
    {
     "data": {
      "image/png": "[encoded data removed]",
      "text/plain": [
       "<Figure size 432x288 with 1 Axes>"
      ]
     },
     "metadata": {
      "needs_background": "light"
     },
     "output_type": "display_data"
    }
   ],
   "source": [
    "custom_hist = CustomHistory()\n",
    "custom_hist.init()\n",
    "hist = model.fit(X_train, Y_train, nb_epoch=30, batch_size=100, validation_data=(X_test, Y_test),\n",
    "                 callbacks=[custom_hist], verbose= 2)\n",
    "plt.plot(hist.history['loss'])\n",
    "plt.show()"
   ]
  },
  {
   "cell_type": "code",
   "execution_count": 31,
   "metadata": {},
   "outputs": [
    {
     "data": {
      "image/png": "[encoded data removed]",
      "text/plain": [
       "<Figure size 432x288 with 1 Axes>"
      ]
     },
     "metadata": {
      "needs_background": "light"
     },
     "output_type": "display_data"
    },
    {
     "name": "stdout",
     "output_type": "stream",
     "text": [
      "<keras.engine.sequential.Sequential object at 0x000001BE2C8737C8>\n",
      "{'batch_size': 100, 'epochs': 30, 'steps': None, 'samples': 60000, 'verbose': 2, 'do_validation': True, 'metrics': ['loss', 'accuracy', 'val_loss', 'val_accuracy']}\n",
      "[0.24401666, 0.39213333, 0.49971667, 0.56201667, 0.6149167, 0.6759167, 0.7101333, 0.7325, 0.7474167, 0.76085, 0.77395, 0.7858833, 0.79766667, 0.8082833, 0.81918335, 0.82878333, 0.83713335, 0.84403336, 0.8506333, 0.85646665, 0.8609667, 0.8646167, 0.86795, 0.87091666, 0.87381667, 0.87651664, 0.8786833, 0.88136667, 0.8829, 0.8844]\n",
      "0.8903999924659729\n"
     ]
    },
    {
     "data": {
      "image/png": "[encoded data removed]",
      "text/plain": [
       "<Figure size 432x288 with 1 Axes>"
      ]
     },
     "metadata": {
      "needs_background": "light"
     },
     "output_type": "display_data"
    }
   ],
   "source": [
    "plt.plot(hist.history['accuracy'], 'b-', label='training')\n",
    "plt.plot(hist.history['val_accuracy'], 'r:', label ='test')\n",
    "plt.legend()\n",
    "plt.show()\n",
    "\n",
    "print(hist.model)\n",
    "print(hist.params)\n",
    "print(hist.history['accuracy'])\n",
    "print(hist.history['val_accuracy'][29])\n",
    "plt.show()\n",
    "plt.plot(custom_hist.train_loss, 'y', label='train loss')\n",
    "plt.show()"
   ]
  },
  {
   "cell_type": "code",
   "execution_count": 32,
   "metadata": {},
   "outputs": [
    {
     "data": {
      "text/plain": [
       "array([[0.01767004, 0.01917329, 0.01319787, 0.02869663, 0.01251969,\n",
       "        0.05721784, 0.01232022, 0.94186753, 0.00762814, 0.05536831]],\n",
       "      dtype=float32)"
      ]
     },
     "execution_count": 32,
     "metadata": {},
     "output_type": "execute_result"
    }
   ],
   "source": [
    "# 문제:  X_test의 이미지 한 장의 label을 예측하시오\n",
    "model.predict(X_test[:1, :])"
   ]
  },
  {
   "cell_type": "code",
   "execution_count": 33,
   "metadata": {},
   "outputs": [
    {
     "data": {
      "text/plain": [
       "array([7], dtype=int64)"
      ]
     },
     "execution_count": 33,
     "metadata": {},
     "output_type": "execute_result"
    }
   ],
   "source": [
    "model.predict_classes(X_test[:1, :])"
   ]
  },
  {
   "cell_type": "markdown",
   "metadata": {},
   "source": [
    "- 문제: 출력차수가 512인 레이어를 출력하시오 (차수 높여야 함)\n",
    "- ->생략"
   ]
  },
  {
   "cell_type": "markdown",
   "metadata": {},
   "source": [
    "# 회귀해보자"
   ]
  },
  {
   "cell_type": "code",
   "execution_count": 35,
   "metadata": {},
   "outputs": [],
   "source": [
    "from keras.datasets import boston_housing\n",
    "(x_train, y_train),(x_test, y_test) = boston_housing.load_data()\n",
    "# 404x13, 404, 102x13 102"
   ]
  },
  {
   "cell_type": "code",
   "execution_count": 36,
   "metadata": {},
   "outputs": [],
   "source": [
    "model = Sequential()\n",
    "num_features = 13\n",
    "model.add(Dense(1, input_dim=num_features, activation='linear'))"
   ]
  },
  {
   "cell_type": "code",
   "execution_count": 37,
   "metadata": {},
   "outputs": [
    {
     "name": "stdout",
     "output_type": "stream",
     "text": [
      "Model: \"sequential_7\"\n",
      "_________________________________________________________________\n",
      "Layer (type)                 Output Shape              Param #   \n",
      "=================================================================\n",
      "dense_15 (Dense)             (None, 1)                 14        \n",
      "=================================================================\n",
      "Total params: 14\n",
      "Trainable params: 14\n",
      "Non-trainable params: 0\n",
      "_________________________________________________________________\n",
      "Epoch 1/10\n",
      "404/404 [==============================] - 0s 744us/step - loss: 28031.2535 - mae: 127.1642\n",
      "Epoch 2/10\n",
      "404/404 [==============================] - 0s 515us/step - loss: 3554.3965 - mae: 46.6836\n",
      "Epoch 3/10\n",
      "404/404 [==============================] - 0s 524us/step - loss: 1257.6941 - mae: 27.5113\n",
      "Epoch 4/10\n",
      "404/404 [==============================] - 0s 562us/step - loss: 298.5174 - mae: 12.8495\n",
      "Epoch 5/10\n",
      "404/404 [==============================] - 0s 583us/step - loss: 140.4095 - mae: 8.7667\n",
      "Epoch 6/10\n",
      "404/404 [==============================] - 0s 533us/step - loss: 126.6947 - mae: 8.0275\n",
      "Epoch 7/10\n",
      "404/404 [==============================] - 0s 514us/step - loss: 113.5021 - mae: 7.5869\n",
      "Epoch 8/10\n",
      "404/404 [==============================] - 0s 526us/step - loss: 104.8122 - mae: 7.3391\n",
      "Epoch 9/10\n",
      "404/404 [==============================] - 0s 570us/step - loss: 98.4709 - mae: 7.0894\n",
      "Epoch 10/10\n",
      "404/404 [==============================] - 0s 531us/step - loss: 91.2522 - mae: 6.6835\n"
     ]
    },
    {
     "data": {
      "text/plain": [
       "<keras.callbacks.callbacks.History at 0x1be2ceb4f88>"
      ]
     },
     "execution_count": 37,
     "metadata": {},
     "output_type": "execute_result"
    }
   ],
   "source": [
    "model.summary()\n",
    "model.compile(optimizer = 'rmsprop', loss='mse', metrics=['mae'])\n",
    "model.fit(x_train, y_train, batch_size=1, epochs=10, verbose=1)"
   ]
  },
  {
   "cell_type": "code",
   "execution_count": 38,
   "metadata": {},
   "outputs": [
    {
     "data": {
      "text/plain": [
       "(80.5265775194355, 8.973660207486994, 6.593564033508301)"
      ]
     },
     "execution_count": 38,
     "metadata": {},
     "output_type": "execute_result"
    }
   ],
   "source": [
    "# accuracy\n",
    "mse, mae = model.evaluate(x_test, y_test, verbose=False)\n",
    "rmse = np.sqrt(mse)\n",
    "mse, rmse, mae"
   ]
  },
  {
   "cell_type": "code",
   "execution_count": 41,
   "metadata": {},
   "outputs": [
    {
     "name": "stdout",
     "output_type": "stream",
     "text": [
      "예측: \n",
      " [[ 8.539897]\n",
      " [19.76989 ]\n",
      " [27.80211 ]]\n",
      "실제:  [ 7.2 18.8 19. ]\n"
     ]
    }
   ],
   "source": [
    "# 문제: x_test의 앞의 세 집을 예측해봐\n",
    "print('예측: \\n', model.predict(x_test[:3, :])) # 예측\n",
    "print('실제: ', y_test[:3]) # 실제"
   ]
  },
  {
   "cell_type": "code",
   "execution_count": 42,
   "metadata": {},
   "outputs": [
    {
     "data": {
      "text/plain": [
       "array([[1.        , 0.91582434],\n",
       "       [0.91582434, 1.        ]])"
      ]
     },
     "execution_count": 42,
     "metadata": {},
     "output_type": "execute_result"
    }
   ],
   "source": [
    "# 문제: 위의 예측과 실제의 상관계수를 확인해봐\n",
    "import numpy as np\n",
    "pred = model.predict(x_test[:3,:])\n",
    "real = y_test[:3]\n",
    "pred =pred.reshape(3)\n",
    "np.corrcoef(pred,real)"
   ]
  },
  {
   "cell_type": "markdown",
   "metadata": {},
   "source": [
    "# scikits와 keras를 연결해주는 객체 : KerasClassifier, KerasRegressor"
   ]
  },
  {
   "cell_type": "code",
   "execution_count": 68,
   "metadata": {},
   "outputs": [],
   "source": [
    "# scikets와 keras를 연결: KerasClassifier(분류), KerasRegressor\n",
    "import numpy\n",
    "from sklearn.model_selection import GridSearchCV\n",
    "from keras.models import Sequential\n",
    "from keras.layers import Dense, Dropout\n",
    "from keras.wrappers.scikit_learn import KerasClassifier"
   ]
  },
  {
   "cell_type": "code",
   "execution_count": 69,
   "metadata": {},
   "outputs": [],
   "source": [
    "# 768x9 => 768x8(독립변수), 768x1(종속변수)\n",
    "def create_model():\n",
    "    model = Sequential()\n",
    "    model.add(Dense(12,input_dim=8, activation = 'relu')) # 8x12 => 768x12\n",
    "    model.add(Dense(1, activation = 'sigmoid')) # 0~1 \n",
    "    model.compile(loss='binary_crossentropy', optimizer='adam', metrics=['accuracy'])\n",
    "    return model\n",
    "seed = 7\n",
    "numpy.random.seed(seed)\n",
    "dataset = numpy.loadtxt('pima.csv', delimiter=',')\n",
    "X = dataset[:, 0:8]\n",
    "Y = dataset[:, 8]\n",
    "model = KerasClassifier(build_fn=create_model, verbose=0) # verbose: 학습중 출력되는 문구를 설정. progress bar"
   ]
  },
  {
   "cell_type": "code",
   "execution_count": 46,
   "metadata": {},
   "outputs": [
    {
     "name": "stderr",
     "output_type": "stream",
     "text": [
      "C:\\Users\\ICT01_20\\Anaconda3\\lib\\site-packages\\sklearn\\model_selection\\_split.py:1978: FutureWarning: The default value of cv will change from 3 to 5 in version 0.22. Specify it explicitly to silence this warning.\n",
      "  warnings.warn(CV_WARNING, FutureWarning)\n"
     ]
    },
    {
     "name": "stdout",
     "output_type": "stream",
     "text": [
      "최적 스코어: 0.703125 사용한 파라미터조합: {'batch_size': 10, 'epochs': 100}\n",
      "0.588542 (0.026557) with: {'batch_size': 10, 'epochs': 10}\n",
      "0.644531 (0.050126) with: {'batch_size': 10, 'epochs': 50}\n",
      "0.703125 (0.000000) with: {'batch_size': 10, 'epochs': 100}\n",
      "0.542969 (0.070168) with: {'batch_size': 20, 'epochs': 10}\n",
      "0.660156 (0.038801) with: {'batch_size': 20, 'epochs': 50}\n",
      "0.660156 (0.030425) with: {'batch_size': 20, 'epochs': 100}\n",
      "0.546875 (0.031412) with: {'batch_size': 40, 'epochs': 10}\n",
      "0.648438 (0.030758) with: {'batch_size': 40, 'epochs': 50}\n",
      "0.669271 (0.029635) with: {'batch_size': 40, 'epochs': 100}\n",
      "0.614583 (0.019225) with: {'batch_size': 60, 'epochs': 10}\n",
      "0.613281 (0.062825) with: {'batch_size': 60, 'epochs': 50}\n",
      "0.662760 (0.028940) with: {'batch_size': 60, 'epochs': 100}\n",
      "0.579427 (0.034401) with: {'batch_size': 80, 'epochs': 10}\n",
      "0.561198 (0.038582) with: {'batch_size': 80, 'epochs': 50}\n",
      "0.654948 (0.017566) with: {'batch_size': 80, 'epochs': 100}\n",
      "0.596354 (0.014382) with: {'batch_size': 100, 'epochs': 10}\n",
      "0.625000 (0.005524) with: {'batch_size': 100, 'epochs': 50}\n",
      "0.656250 (0.041707) with: {'batch_size': 100, 'epochs': 100}\n"
     ]
    }
   ],
   "source": [
    "# 파라미터 조합\n",
    "batch_size = [10,20,40,60,80,100]\n",
    "epochs = [10,50,100]\n",
    "param_grid = dict(batch_size= batch_size, epochs=epochs) # 매개 변수입력 형태는 dictionary\n",
    "grid = GridSearchCV(estimator = model, param_grid=param_grid, n_jobs = -1 ) # 참여하는 cpu 개수\n",
    "grid_result = grid.fit(X,Y)\n",
    "print(\"최적 스코어: %f 사용한 파라미터조합: %s\" %(grid_result.best_score_, grid_result.best_params_))\n",
    "means = grid_result.cv_results_['mean_test_score']\n",
    "stds =grid_result.cv_results_['std_test_score']\n",
    "params = grid_result.cv_results_['params']\n",
    "for mean, stdev, param in zip(means, stds, params):\n",
    "    print(\"%f (%f) with: %r\" % (mean, stdev, param))"
   ]
  },
  {
   "cell_type": "code",
   "execution_count": null,
   "metadata": {},
   "outputs": [],
   "source": [
    "# 문제: 가중치 초기화 (kernel_initializer) 매개변수를 넣고 이를 \n",
    "# ['uniform','lecun_uniform','normal','zero','glorot_normal','glorot_uniform','he_normal','he_uniform']\n",
    "# 로 테스트해서 가장 최적의 가중치 초기화 파라미터를 결정하시오\n",
    "dense1: activation 함수를 달아주고\n",
    "    ['softmax','softplus','softsign','relu','tanh','sigmoid','hard_sigmoid','linear']\n",
    "    의 조합중 가장 좋은 activation 함수를 결정하시오\n"
   ]
  },
  {
   "cell_type": "code",
   "execution_count": 47,
   "metadata": {
    "collapsed": true
   },
   "outputs": [
    {
     "ename": "TypeError",
     "evalue": "create_model() missing 2 required positional arguments: 'init_mode' and 'activation'",
     "output_type": "error",
     "traceback": [
      "\u001b[1;31m---------------------------------------------------------------------------\u001b[0m",
      "\u001b[1;31m_RemoteTraceback\u001b[0m                          Traceback (most recent call last)",
      "\u001b[1;31m_RemoteTraceback\u001b[0m: \n\"\"\"\nTraceback (most recent call last):\n  File \"C:\\Users\\ICT01_20\\Anaconda3\\lib\\site-packages\\joblib\\externals\\loky\\process_executor.py\", line 418, in _process_worker\n    r = call_item()\n  File \"C:\\Users\\ICT01_20\\Anaconda3\\lib\\site-packages\\joblib\\externals\\loky\\process_executor.py\", line 272, in __call__\n    return self.fn(*self.args, **self.kwargs)\n  File \"C:\\Users\\ICT01_20\\Anaconda3\\lib\\site-packages\\joblib\\_parallel_backends.py\", line 567, in __call__\n    return self.func(*args, **kwargs)\n  File \"C:\\Users\\ICT01_20\\Anaconda3\\lib\\site-packages\\joblib\\parallel.py\", line 225, in __call__\n    for func, args, kwargs in self.items]\n  File \"C:\\Users\\ICT01_20\\Anaconda3\\lib\\site-packages\\joblib\\parallel.py\", line 225, in <listcomp>\n    for func, args, kwargs in self.items]\n  File \"C:\\Users\\ICT01_20\\Anaconda3\\lib\\site-packages\\sklearn\\model_selection\\_validation.py\", line 516, in _fit_and_score\n    estimator.fit(X_train, y_train, **fit_params)\n  File \"C:\\Users\\ICT01_20\\Anaconda3\\lib\\site-packages\\keras\\wrappers\\scikit_learn.py\", line 209, in fit\n    return super(KerasClassifier, self).fit(x, y, **kwargs)\n  File \"C:\\Users\\ICT01_20\\Anaconda3\\lib\\site-packages\\keras\\wrappers\\scikit_learn.py\", line 142, in fit\n    self.model = self.build_fn(**self.filter_sk_params(self.build_fn))\nTypeError: create_model() missing 2 required positional arguments: 'init_mode' and 'activation'\n\"\"\"",
      "\nThe above exception was the direct cause of the following exception:\n",
      "\u001b[1;31mTypeError\u001b[0m                                 Traceback (most recent call last)",
      "\u001b[1;32m<ipython-input-47-87f49a495dca>\u001b[0m in \u001b[0;36m<module>\u001b[1;34m\u001b[0m\n\u001b[0;32m     17\u001b[0m \u001b[0mparam_grid\u001b[0m \u001b[1;33m=\u001b[0m \u001b[0mdict\u001b[0m\u001b[1;33m(\u001b[0m\u001b[0mbatch_size\u001b[0m\u001b[1;33m=\u001b[0m \u001b[0mbatch_size\u001b[0m\u001b[1;33m,\u001b[0m \u001b[0mepochs\u001b[0m\u001b[1;33m=\u001b[0m\u001b[0mepochs\u001b[0m\u001b[1;33m)\u001b[0m \u001b[1;31m# 매개 변수입력 형태는 dictionary\u001b[0m\u001b[1;33m\u001b[0m\u001b[1;33m\u001b[0m\u001b[0m\n\u001b[0;32m     18\u001b[0m \u001b[0mgrid\u001b[0m \u001b[1;33m=\u001b[0m \u001b[0mGridSearchCV\u001b[0m\u001b[1;33m(\u001b[0m\u001b[0mestimator\u001b[0m \u001b[1;33m=\u001b[0m \u001b[0mmodel\u001b[0m\u001b[1;33m,\u001b[0m \u001b[0mparam_grid\u001b[0m\u001b[1;33m=\u001b[0m\u001b[0mparam_grid\u001b[0m\u001b[1;33m,\u001b[0m \u001b[0mn_jobs\u001b[0m \u001b[1;33m=\u001b[0m \u001b[1;33m-\u001b[0m\u001b[1;36m1\u001b[0m \u001b[1;33m)\u001b[0m \u001b[1;31m# 참여하는 cpu 개수\u001b[0m\u001b[1;33m\u001b[0m\u001b[1;33m\u001b[0m\u001b[0m\n\u001b[1;32m---> 19\u001b[1;33m \u001b[0mgrid_result\u001b[0m \u001b[1;33m=\u001b[0m \u001b[0mgrid\u001b[0m\u001b[1;33m.\u001b[0m\u001b[0mfit\u001b[0m\u001b[1;33m(\u001b[0m\u001b[0mX\u001b[0m\u001b[1;33m,\u001b[0m\u001b[0mY\u001b[0m\u001b[1;33m)\u001b[0m\u001b[1;33m\u001b[0m\u001b[1;33m\u001b[0m\u001b[0m\n\u001b[0m\u001b[0;32m     20\u001b[0m \u001b[0mprint\u001b[0m\u001b[1;33m(\u001b[0m\u001b[1;34m\"최적 스코어: %f 사용한 파라미터조합: %s\"\u001b[0m \u001b[1;33m%\u001b[0m\u001b[1;33m(\u001b[0m\u001b[0mgrid_result\u001b[0m\u001b[1;33m.\u001b[0m\u001b[0mbest_score_\u001b[0m\u001b[1;33m,\u001b[0m \u001b[0mgrid_result\u001b[0m\u001b[1;33m.\u001b[0m\u001b[0mbest_params_\u001b[0m\u001b[1;33m)\u001b[0m\u001b[1;33m)\u001b[0m\u001b[1;33m\u001b[0m\u001b[1;33m\u001b[0m\u001b[0m\n\u001b[0;32m     21\u001b[0m \u001b[0mmeans\u001b[0m \u001b[1;33m=\u001b[0m \u001b[0mgrid_result\u001b[0m\u001b[1;33m.\u001b[0m\u001b[0mcv_results_\u001b[0m\u001b[1;33m[\u001b[0m\u001b[1;34m'mean_test_score'\u001b[0m\u001b[1;33m]\u001b[0m\u001b[1;33m\u001b[0m\u001b[1;33m\u001b[0m\u001b[0m\n",
      "\u001b[1;32m~\\Anaconda3\\lib\\site-packages\\sklearn\\model_selection\\_search.py\u001b[0m in \u001b[0;36mfit\u001b[1;34m(self, X, y, groups, **fit_params)\u001b[0m\n\u001b[0;32m    686\u001b[0m                 \u001b[1;32mreturn\u001b[0m \u001b[0mresults\u001b[0m\u001b[1;33m\u001b[0m\u001b[1;33m\u001b[0m\u001b[0m\n\u001b[0;32m    687\u001b[0m \u001b[1;33m\u001b[0m\u001b[0m\n\u001b[1;32m--> 688\u001b[1;33m             \u001b[0mself\u001b[0m\u001b[1;33m.\u001b[0m\u001b[0m_run_search\u001b[0m\u001b[1;33m(\u001b[0m\u001b[0mevaluate_candidates\u001b[0m\u001b[1;33m)\u001b[0m\u001b[1;33m\u001b[0m\u001b[1;33m\u001b[0m\u001b[0m\n\u001b[0m\u001b[0;32m    689\u001b[0m \u001b[1;33m\u001b[0m\u001b[0m\n\u001b[0;32m    690\u001b[0m         \u001b[1;31m# For multi-metric evaluation, store the best_index_, best_params_ and\u001b[0m\u001b[1;33m\u001b[0m\u001b[1;33m\u001b[0m\u001b[1;33m\u001b[0m\u001b[0m\n",
      "\u001b[1;32m~\\Anaconda3\\lib\\site-packages\\sklearn\\model_selection\\_search.py\u001b[0m in \u001b[0;36m_run_search\u001b[1;34m(self, evaluate_candidates)\u001b[0m\n\u001b[0;32m   1147\u001b[0m     \u001b[1;32mdef\u001b[0m \u001b[0m_run_search\u001b[0m\u001b[1;33m(\u001b[0m\u001b[0mself\u001b[0m\u001b[1;33m,\u001b[0m \u001b[0mevaluate_candidates\u001b[0m\u001b[1;33m)\u001b[0m\u001b[1;33m:\u001b[0m\u001b[1;33m\u001b[0m\u001b[1;33m\u001b[0m\u001b[0m\n\u001b[0;32m   1148\u001b[0m         \u001b[1;34m\"\"\"Search all candidates in param_grid\"\"\"\u001b[0m\u001b[1;33m\u001b[0m\u001b[1;33m\u001b[0m\u001b[0m\n\u001b[1;32m-> 1149\u001b[1;33m         \u001b[0mevaluate_candidates\u001b[0m\u001b[1;33m(\u001b[0m\u001b[0mParameterGrid\u001b[0m\u001b[1;33m(\u001b[0m\u001b[0mself\u001b[0m\u001b[1;33m.\u001b[0m\u001b[0mparam_grid\u001b[0m\u001b[1;33m)\u001b[0m\u001b[1;33m)\u001b[0m\u001b[1;33m\u001b[0m\u001b[1;33m\u001b[0m\u001b[0m\n\u001b[0m\u001b[0;32m   1150\u001b[0m \u001b[1;33m\u001b[0m\u001b[0m\n\u001b[0;32m   1151\u001b[0m \u001b[1;33m\u001b[0m\u001b[0m\n",
      "\u001b[1;32m~\\Anaconda3\\lib\\site-packages\\sklearn\\model_selection\\_search.py\u001b[0m in \u001b[0;36mevaluate_candidates\u001b[1;34m(candidate_params)\u001b[0m\n\u001b[0;32m    665\u001b[0m                                \u001b[1;32mfor\u001b[0m \u001b[0mparameters\u001b[0m\u001b[1;33m,\u001b[0m \u001b[1;33m(\u001b[0m\u001b[0mtrain\u001b[0m\u001b[1;33m,\u001b[0m \u001b[0mtest\u001b[0m\u001b[1;33m)\u001b[0m\u001b[1;33m\u001b[0m\u001b[1;33m\u001b[0m\u001b[0m\n\u001b[0;32m    666\u001b[0m                                in product(candidate_params,\n\u001b[1;32m--> 667\u001b[1;33m                                           cv.split(X, y, groups)))\n\u001b[0m\u001b[0;32m    668\u001b[0m \u001b[1;33m\u001b[0m\u001b[0m\n\u001b[0;32m    669\u001b[0m                 \u001b[1;32mif\u001b[0m \u001b[0mlen\u001b[0m\u001b[1;33m(\u001b[0m\u001b[0mout\u001b[0m\u001b[1;33m)\u001b[0m \u001b[1;33m<\u001b[0m \u001b[1;36m1\u001b[0m\u001b[1;33m:\u001b[0m\u001b[1;33m\u001b[0m\u001b[1;33m\u001b[0m\u001b[0m\n",
      "\u001b[1;32m~\\Anaconda3\\lib\\site-packages\\joblib\\parallel.py\u001b[0m in \u001b[0;36m__call__\u001b[1;34m(self, iterable)\u001b[0m\n\u001b[0;32m    932\u001b[0m \u001b[1;33m\u001b[0m\u001b[0m\n\u001b[0;32m    933\u001b[0m             \u001b[1;32mwith\u001b[0m \u001b[0mself\u001b[0m\u001b[1;33m.\u001b[0m\u001b[0m_backend\u001b[0m\u001b[1;33m.\u001b[0m\u001b[0mretrieval_context\u001b[0m\u001b[1;33m(\u001b[0m\u001b[1;33m)\u001b[0m\u001b[1;33m:\u001b[0m\u001b[1;33m\u001b[0m\u001b[1;33m\u001b[0m\u001b[0m\n\u001b[1;32m--> 934\u001b[1;33m                 \u001b[0mself\u001b[0m\u001b[1;33m.\u001b[0m\u001b[0mretrieve\u001b[0m\u001b[1;33m(\u001b[0m\u001b[1;33m)\u001b[0m\u001b[1;33m\u001b[0m\u001b[1;33m\u001b[0m\u001b[0m\n\u001b[0m\u001b[0;32m    935\u001b[0m             \u001b[1;31m# Make sure that we get a last message telling us we are done\u001b[0m\u001b[1;33m\u001b[0m\u001b[1;33m\u001b[0m\u001b[1;33m\u001b[0m\u001b[0m\n\u001b[0;32m    936\u001b[0m             \u001b[0melapsed_time\u001b[0m \u001b[1;33m=\u001b[0m \u001b[0mtime\u001b[0m\u001b[1;33m.\u001b[0m\u001b[0mtime\u001b[0m\u001b[1;33m(\u001b[0m\u001b[1;33m)\u001b[0m \u001b[1;33m-\u001b[0m \u001b[0mself\u001b[0m\u001b[1;33m.\u001b[0m\u001b[0m_start_time\u001b[0m\u001b[1;33m\u001b[0m\u001b[1;33m\u001b[0m\u001b[0m\n",
      "\u001b[1;32m~\\Anaconda3\\lib\\site-packages\\joblib\\parallel.py\u001b[0m in \u001b[0;36mretrieve\u001b[1;34m(self)\u001b[0m\n\u001b[0;32m    831\u001b[0m             \u001b[1;32mtry\u001b[0m\u001b[1;33m:\u001b[0m\u001b[1;33m\u001b[0m\u001b[1;33m\u001b[0m\u001b[0m\n\u001b[0;32m    832\u001b[0m                 \u001b[1;32mif\u001b[0m \u001b[0mgetattr\u001b[0m\u001b[1;33m(\u001b[0m\u001b[0mself\u001b[0m\u001b[1;33m.\u001b[0m\u001b[0m_backend\u001b[0m\u001b[1;33m,\u001b[0m \u001b[1;34m'supports_timeout'\u001b[0m\u001b[1;33m,\u001b[0m \u001b[1;32mFalse\u001b[0m\u001b[1;33m)\u001b[0m\u001b[1;33m:\u001b[0m\u001b[1;33m\u001b[0m\u001b[1;33m\u001b[0m\u001b[0m\n\u001b[1;32m--> 833\u001b[1;33m                     \u001b[0mself\u001b[0m\u001b[1;33m.\u001b[0m\u001b[0m_output\u001b[0m\u001b[1;33m.\u001b[0m\u001b[0mextend\u001b[0m\u001b[1;33m(\u001b[0m\u001b[0mjob\u001b[0m\u001b[1;33m.\u001b[0m\u001b[0mget\u001b[0m\u001b[1;33m(\u001b[0m\u001b[0mtimeout\u001b[0m\u001b[1;33m=\u001b[0m\u001b[0mself\u001b[0m\u001b[1;33m.\u001b[0m\u001b[0mtimeout\u001b[0m\u001b[1;33m)\u001b[0m\u001b[1;33m)\u001b[0m\u001b[1;33m\u001b[0m\u001b[1;33m\u001b[0m\u001b[0m\n\u001b[0m\u001b[0;32m    834\u001b[0m                 \u001b[1;32melse\u001b[0m\u001b[1;33m:\u001b[0m\u001b[1;33m\u001b[0m\u001b[1;33m\u001b[0m\u001b[0m\n\u001b[0;32m    835\u001b[0m                     \u001b[0mself\u001b[0m\u001b[1;33m.\u001b[0m\u001b[0m_output\u001b[0m\u001b[1;33m.\u001b[0m\u001b[0mextend\u001b[0m\u001b[1;33m(\u001b[0m\u001b[0mjob\u001b[0m\u001b[1;33m.\u001b[0m\u001b[0mget\u001b[0m\u001b[1;33m(\u001b[0m\u001b[1;33m)\u001b[0m\u001b[1;33m)\u001b[0m\u001b[1;33m\u001b[0m\u001b[1;33m\u001b[0m\u001b[0m\n",
      "\u001b[1;32m~\\Anaconda3\\lib\\site-packages\\joblib\\_parallel_backends.py\u001b[0m in \u001b[0;36mwrap_future_result\u001b[1;34m(future, timeout)\u001b[0m\n\u001b[0;32m    519\u001b[0m         AsyncResults.get from multiprocessing.\"\"\"\n\u001b[0;32m    520\u001b[0m         \u001b[1;32mtry\u001b[0m\u001b[1;33m:\u001b[0m\u001b[1;33m\u001b[0m\u001b[1;33m\u001b[0m\u001b[0m\n\u001b[1;32m--> 521\u001b[1;33m             \u001b[1;32mreturn\u001b[0m \u001b[0mfuture\u001b[0m\u001b[1;33m.\u001b[0m\u001b[0mresult\u001b[0m\u001b[1;33m(\u001b[0m\u001b[0mtimeout\u001b[0m\u001b[1;33m=\u001b[0m\u001b[0mtimeout\u001b[0m\u001b[1;33m)\u001b[0m\u001b[1;33m\u001b[0m\u001b[1;33m\u001b[0m\u001b[0m\n\u001b[0m\u001b[0;32m    522\u001b[0m         \u001b[1;32mexcept\u001b[0m \u001b[0mLokyTimeoutError\u001b[0m\u001b[1;33m:\u001b[0m\u001b[1;33m\u001b[0m\u001b[1;33m\u001b[0m\u001b[0m\n\u001b[0;32m    523\u001b[0m             \u001b[1;32mraise\u001b[0m \u001b[0mTimeoutError\u001b[0m\u001b[1;33m(\u001b[0m\u001b[1;33m)\u001b[0m\u001b[1;33m\u001b[0m\u001b[1;33m\u001b[0m\u001b[0m\n",
      "\u001b[1;32m~\\Anaconda3\\lib\\concurrent\\futures\\_base.py\u001b[0m in \u001b[0;36mresult\u001b[1;34m(self, timeout)\u001b[0m\n\u001b[0;32m    433\u001b[0m                 \u001b[1;32mraise\u001b[0m \u001b[0mCancelledError\u001b[0m\u001b[1;33m(\u001b[0m\u001b[1;33m)\u001b[0m\u001b[1;33m\u001b[0m\u001b[1;33m\u001b[0m\u001b[0m\n\u001b[0;32m    434\u001b[0m             \u001b[1;32melif\u001b[0m \u001b[0mself\u001b[0m\u001b[1;33m.\u001b[0m\u001b[0m_state\u001b[0m \u001b[1;33m==\u001b[0m \u001b[0mFINISHED\u001b[0m\u001b[1;33m:\u001b[0m\u001b[1;33m\u001b[0m\u001b[1;33m\u001b[0m\u001b[0m\n\u001b[1;32m--> 435\u001b[1;33m                 \u001b[1;32mreturn\u001b[0m \u001b[0mself\u001b[0m\u001b[1;33m.\u001b[0m\u001b[0m__get_result\u001b[0m\u001b[1;33m(\u001b[0m\u001b[1;33m)\u001b[0m\u001b[1;33m\u001b[0m\u001b[1;33m\u001b[0m\u001b[0m\n\u001b[0m\u001b[0;32m    436\u001b[0m             \u001b[1;32melse\u001b[0m\u001b[1;33m:\u001b[0m\u001b[1;33m\u001b[0m\u001b[1;33m\u001b[0m\u001b[0m\n\u001b[0;32m    437\u001b[0m                 \u001b[1;32mraise\u001b[0m \u001b[0mTimeoutError\u001b[0m\u001b[1;33m(\u001b[0m\u001b[1;33m)\u001b[0m\u001b[1;33m\u001b[0m\u001b[1;33m\u001b[0m\u001b[0m\n",
      "\u001b[1;32m~\\Anaconda3\\lib\\concurrent\\futures\\_base.py\u001b[0m in \u001b[0;36m__get_result\u001b[1;34m(self)\u001b[0m\n\u001b[0;32m    382\u001b[0m     \u001b[1;32mdef\u001b[0m \u001b[0m__get_result\u001b[0m\u001b[1;33m(\u001b[0m\u001b[0mself\u001b[0m\u001b[1;33m)\u001b[0m\u001b[1;33m:\u001b[0m\u001b[1;33m\u001b[0m\u001b[1;33m\u001b[0m\u001b[0m\n\u001b[0;32m    383\u001b[0m         \u001b[1;32mif\u001b[0m \u001b[0mself\u001b[0m\u001b[1;33m.\u001b[0m\u001b[0m_exception\u001b[0m\u001b[1;33m:\u001b[0m\u001b[1;33m\u001b[0m\u001b[1;33m\u001b[0m\u001b[0m\n\u001b[1;32m--> 384\u001b[1;33m             \u001b[1;32mraise\u001b[0m \u001b[0mself\u001b[0m\u001b[1;33m.\u001b[0m\u001b[0m_exception\u001b[0m\u001b[1;33m\u001b[0m\u001b[1;33m\u001b[0m\u001b[0m\n\u001b[0m\u001b[0;32m    385\u001b[0m         \u001b[1;32melse\u001b[0m\u001b[1;33m:\u001b[0m\u001b[1;33m\u001b[0m\u001b[1;33m\u001b[0m\u001b[0m\n\u001b[0;32m    386\u001b[0m             \u001b[1;32mreturn\u001b[0m \u001b[0mself\u001b[0m\u001b[1;33m.\u001b[0m\u001b[0m_result\u001b[0m\u001b[1;33m\u001b[0m\u001b[1;33m\u001b[0m\u001b[0m\n",
      "\u001b[1;31mTypeError\u001b[0m: create_model() missing 2 required positional arguments: 'init_mode' and 'activation'"
     ]
    }
   ],
   "source": [
    "# 파라미터 조합\n",
    "def create_model(init_mode, activation):\n",
    "    model = Sequential()\n",
    "    model.add(Dense(12,input_dim=8, activation = activation)) # 8x12 => 768x12\n",
    "    model.add(Dense(1, kernel_initializer= init_mode, activation = 'sigmoid')) # 0~1 \n",
    "    model.compile(loss='binary_crossentropy', optimizer='adam', metrics=['accuracy'])\n",
    "    return model\n",
    "seed = 7\n",
    "numpy.random.seed(seed)\n",
    "dataset = numpy.loadtxt('pima.csv', delimiter=',')\n",
    "X = dataset[:, 0:8]\n",
    "Y = dataset[:, 8]\n",
    "model = KerasClassifier(build_fn=create_model, verbose=0) # verbose: 학습중 출력되는 문구를 설정. progress bar\n",
    "\n",
    "init_mode = ['uniform','lecun_uniform','normal','zero','glorot_normal','glorot_uniform','he_normal','he_uniform']\n",
    "activation = ['softmax','softplus','softsign','relu','tanh','sigmoid','hard_sigmoid','linear']\n",
    "param_grid = dict(batch_size= batch_size, epochs=epochs) # 매개 변수입력 형태는 dictionary\n",
    "grid = GridSearchCV(estimator = model, param_grid=param_grid, n_jobs = -1 ) # 참여하는 cpu 개수\n",
    "grid_result = grid.fit(X,Y)\n",
    "print(\"최적 스코어: %f 사용한 파라미터조합: %s\" %(grid_result.best_score_, grid_result.best_params_))\n",
    "means = grid_result.cv_results_['mean_test_score']\n",
    "stds =grid_result.cv_results_['std_test_score']\n",
    "params = grid_result.cv_results_['params']\n",
    "for mean, stdev, param in zip(means, stds, params):\n",
    "    print(\"%f (%f) with: %r\" % (mean, stdev, param))"
   ]
  },
  {
   "cell_type": "code",
   "execution_count": 70,
   "metadata": {
    "collapsed": true
   },
   "outputs": [
    {
     "name": "stderr",
     "output_type": "stream",
     "text": [
      "C:\\Users\\ICT01_20\\Anaconda3\\lib\\site-packages\\sklearn\\model_selection\\_split.py:1978: FutureWarning: The default value of cv will change from 3 to 5 in version 0.22. Specify it explicitly to silence this warning.\n",
      "  warnings.warn(CV_WARNING, FutureWarning)\n",
      "C:\\Users\\ICT01_20\\Anaconda3\\lib\\site-packages\\joblib\\externals\\loky\\process_executor.py:706: UserWarning: A worker stopped while some jobs were given to the executor. This can be caused by a too short worker timeout or by a memory leak.\n",
      "  \"timeout or by a memory leak.\", UserWarning\n"
     ]
    },
    {
     "ename": "KeyboardInterrupt",
     "evalue": "",
     "output_type": "error",
     "traceback": [
      "\u001b[1;31m---------------------------------------------------------------------------\u001b[0m",
      "\u001b[1;31mKeyboardInterrupt\u001b[0m                         Traceback (most recent call last)",
      "\u001b[1;32m<ipython-input-70-6a8040fd46c3>\u001b[0m in \u001b[0;36m<module>\u001b[1;34m\u001b[0m\n\u001b[0;32m     22\u001b[0m \u001b[0mgrid\u001b[0m \u001b[1;33m=\u001b[0m \u001b[0mGridSearchCV\u001b[0m\u001b[1;33m(\u001b[0m\u001b[0mestimator\u001b[0m \u001b[1;33m=\u001b[0m \u001b[0mmodel\u001b[0m\u001b[1;33m,\u001b[0m \u001b[0mparam_grid\u001b[0m\u001b[1;33m=\u001b[0m\u001b[0mparam_grid\u001b[0m\u001b[1;33m,\u001b[0m \u001b[0mn_jobs\u001b[0m \u001b[1;33m=\u001b[0m \u001b[1;33m-\u001b[0m\u001b[1;36m1\u001b[0m \u001b[1;33m)\u001b[0m \u001b[1;31m# 참여하는 cpu 개수\u001b[0m\u001b[1;33m\u001b[0m\u001b[1;33m\u001b[0m\u001b[0m\n\u001b[0;32m     23\u001b[0m \u001b[0mfit_params\u001b[0m \u001b[1;33m=\u001b[0m \u001b[0mdict\u001b[0m\u001b[1;33m(\u001b[0m\u001b[0mcallbacks\u001b[0m \u001b[1;33m=\u001b[0m \u001b[1;33m[\u001b[0m\u001b[0mstopper\u001b[0m\u001b[1;33m]\u001b[0m\u001b[1;33m)\u001b[0m\u001b[1;33m\u001b[0m\u001b[1;33m\u001b[0m\u001b[0m\n\u001b[1;32m---> 24\u001b[1;33m \u001b[0mgrid_result\u001b[0m \u001b[1;33m=\u001b[0m \u001b[0mgrid\u001b[0m\u001b[1;33m.\u001b[0m\u001b[0mfit\u001b[0m\u001b[1;33m(\u001b[0m\u001b[0mX\u001b[0m\u001b[1;33m,\u001b[0m\u001b[0mY\u001b[0m\u001b[1;33m,\u001b[0m \u001b[1;33m**\u001b[0m\u001b[0mfit_params\u001b[0m\u001b[1;33m)\u001b[0m \u001b[1;31m# 변동매개변수(여러 개가 전달될 때) list = *, dict = **\u001b[0m\u001b[1;33m\u001b[0m\u001b[1;33m\u001b[0m\u001b[0m\n\u001b[0m\u001b[0;32m     25\u001b[0m \u001b[0mprint\u001b[0m\u001b[1;33m(\u001b[0m\u001b[1;34m\"최적 스코어: %f 사용한 파라미터조합: %s\"\u001b[0m \u001b[1;33m%\u001b[0m\u001b[1;33m(\u001b[0m\u001b[0mgrid_result\u001b[0m\u001b[1;33m.\u001b[0m\u001b[0mbest_score_\u001b[0m\u001b[1;33m,\u001b[0m \u001b[0mgrid_result\u001b[0m\u001b[1;33m.\u001b[0m\u001b[0mbest_params_\u001b[0m\u001b[1;33m)\u001b[0m\u001b[1;33m)\u001b[0m\u001b[1;33m\u001b[0m\u001b[1;33m\u001b[0m\u001b[0m\n\u001b[0;32m     26\u001b[0m \u001b[0mmeans\u001b[0m \u001b[1;33m=\u001b[0m \u001b[0mgrid_result\u001b[0m\u001b[1;33m.\u001b[0m\u001b[0mcv_results_\u001b[0m\u001b[1;33m[\u001b[0m\u001b[1;34m'mean_test_score'\u001b[0m\u001b[1;33m]\u001b[0m\u001b[1;33m\u001b[0m\u001b[1;33m\u001b[0m\u001b[0m\n",
      "\u001b[1;32m~\\Anaconda3\\lib\\site-packages\\sklearn\\model_selection\\_search.py\u001b[0m in \u001b[0;36mfit\u001b[1;34m(self, X, y, groups, **fit_params)\u001b[0m\n\u001b[0;32m    686\u001b[0m                 \u001b[1;32mreturn\u001b[0m \u001b[0mresults\u001b[0m\u001b[1;33m\u001b[0m\u001b[1;33m\u001b[0m\u001b[0m\n\u001b[0;32m    687\u001b[0m \u001b[1;33m\u001b[0m\u001b[0m\n\u001b[1;32m--> 688\u001b[1;33m             \u001b[0mself\u001b[0m\u001b[1;33m.\u001b[0m\u001b[0m_run_search\u001b[0m\u001b[1;33m(\u001b[0m\u001b[0mevaluate_candidates\u001b[0m\u001b[1;33m)\u001b[0m\u001b[1;33m\u001b[0m\u001b[1;33m\u001b[0m\u001b[0m\n\u001b[0m\u001b[0;32m    689\u001b[0m \u001b[1;33m\u001b[0m\u001b[0m\n\u001b[0;32m    690\u001b[0m         \u001b[1;31m# For multi-metric evaluation, store the best_index_, best_params_ and\u001b[0m\u001b[1;33m\u001b[0m\u001b[1;33m\u001b[0m\u001b[1;33m\u001b[0m\u001b[0m\n",
      "\u001b[1;32m~\\Anaconda3\\lib\\site-packages\\sklearn\\model_selection\\_search.py\u001b[0m in \u001b[0;36m_run_search\u001b[1;34m(self, evaluate_candidates)\u001b[0m\n\u001b[0;32m   1147\u001b[0m     \u001b[1;32mdef\u001b[0m \u001b[0m_run_search\u001b[0m\u001b[1;33m(\u001b[0m\u001b[0mself\u001b[0m\u001b[1;33m,\u001b[0m \u001b[0mevaluate_candidates\u001b[0m\u001b[1;33m)\u001b[0m\u001b[1;33m:\u001b[0m\u001b[1;33m\u001b[0m\u001b[1;33m\u001b[0m\u001b[0m\n\u001b[0;32m   1148\u001b[0m         \u001b[1;34m\"\"\"Search all candidates in param_grid\"\"\"\u001b[0m\u001b[1;33m\u001b[0m\u001b[1;33m\u001b[0m\u001b[0m\n\u001b[1;32m-> 1149\u001b[1;33m         \u001b[0mevaluate_candidates\u001b[0m\u001b[1;33m(\u001b[0m\u001b[0mParameterGrid\u001b[0m\u001b[1;33m(\u001b[0m\u001b[0mself\u001b[0m\u001b[1;33m.\u001b[0m\u001b[0mparam_grid\u001b[0m\u001b[1;33m)\u001b[0m\u001b[1;33m)\u001b[0m\u001b[1;33m\u001b[0m\u001b[1;33m\u001b[0m\u001b[0m\n\u001b[0m\u001b[0;32m   1150\u001b[0m \u001b[1;33m\u001b[0m\u001b[0m\n\u001b[0;32m   1151\u001b[0m \u001b[1;33m\u001b[0m\u001b[0m\n",
      "\u001b[1;32m~\\Anaconda3\\lib\\site-packages\\sklearn\\model_selection\\_search.py\u001b[0m in \u001b[0;36mevaluate_candidates\u001b[1;34m(candidate_params)\u001b[0m\n\u001b[0;32m    665\u001b[0m                                \u001b[1;32mfor\u001b[0m \u001b[0mparameters\u001b[0m\u001b[1;33m,\u001b[0m \u001b[1;33m(\u001b[0m\u001b[0mtrain\u001b[0m\u001b[1;33m,\u001b[0m \u001b[0mtest\u001b[0m\u001b[1;33m)\u001b[0m\u001b[1;33m\u001b[0m\u001b[1;33m\u001b[0m\u001b[0m\n\u001b[0;32m    666\u001b[0m                                in product(candidate_params,\n\u001b[1;32m--> 667\u001b[1;33m                                           cv.split(X, y, groups)))\n\u001b[0m\u001b[0;32m    668\u001b[0m \u001b[1;33m\u001b[0m\u001b[0m\n\u001b[0;32m    669\u001b[0m                 \u001b[1;32mif\u001b[0m \u001b[0mlen\u001b[0m\u001b[1;33m(\u001b[0m\u001b[0mout\u001b[0m\u001b[1;33m)\u001b[0m \u001b[1;33m<\u001b[0m \u001b[1;36m1\u001b[0m\u001b[1;33m:\u001b[0m\u001b[1;33m\u001b[0m\u001b[1;33m\u001b[0m\u001b[0m\n",
      "\u001b[1;32m~\\Anaconda3\\lib\\site-packages\\joblib\\parallel.py\u001b[0m in \u001b[0;36m__call__\u001b[1;34m(self, iterable)\u001b[0m\n\u001b[0;32m    932\u001b[0m \u001b[1;33m\u001b[0m\u001b[0m\n\u001b[0;32m    933\u001b[0m             \u001b[1;32mwith\u001b[0m \u001b[0mself\u001b[0m\u001b[1;33m.\u001b[0m\u001b[0m_backend\u001b[0m\u001b[1;33m.\u001b[0m\u001b[0mretrieval_context\u001b[0m\u001b[1;33m(\u001b[0m\u001b[1;33m)\u001b[0m\u001b[1;33m:\u001b[0m\u001b[1;33m\u001b[0m\u001b[1;33m\u001b[0m\u001b[0m\n\u001b[1;32m--> 934\u001b[1;33m                 \u001b[0mself\u001b[0m\u001b[1;33m.\u001b[0m\u001b[0mretrieve\u001b[0m\u001b[1;33m(\u001b[0m\u001b[1;33m)\u001b[0m\u001b[1;33m\u001b[0m\u001b[1;33m\u001b[0m\u001b[0m\n\u001b[0m\u001b[0;32m    935\u001b[0m             \u001b[1;31m# Make sure that we get a last message telling us we are done\u001b[0m\u001b[1;33m\u001b[0m\u001b[1;33m\u001b[0m\u001b[1;33m\u001b[0m\u001b[0m\n\u001b[0;32m    936\u001b[0m             \u001b[0melapsed_time\u001b[0m \u001b[1;33m=\u001b[0m \u001b[0mtime\u001b[0m\u001b[1;33m.\u001b[0m\u001b[0mtime\u001b[0m\u001b[1;33m(\u001b[0m\u001b[1;33m)\u001b[0m \u001b[1;33m-\u001b[0m \u001b[0mself\u001b[0m\u001b[1;33m.\u001b[0m\u001b[0m_start_time\u001b[0m\u001b[1;33m\u001b[0m\u001b[1;33m\u001b[0m\u001b[0m\n",
      "\u001b[1;32m~\\Anaconda3\\lib\\site-packages\\joblib\\parallel.py\u001b[0m in \u001b[0;36mretrieve\u001b[1;34m(self)\u001b[0m\n\u001b[0;32m    831\u001b[0m             \u001b[1;32mtry\u001b[0m\u001b[1;33m:\u001b[0m\u001b[1;33m\u001b[0m\u001b[1;33m\u001b[0m\u001b[0m\n\u001b[0;32m    832\u001b[0m                 \u001b[1;32mif\u001b[0m \u001b[0mgetattr\u001b[0m\u001b[1;33m(\u001b[0m\u001b[0mself\u001b[0m\u001b[1;33m.\u001b[0m\u001b[0m_backend\u001b[0m\u001b[1;33m,\u001b[0m \u001b[1;34m'supports_timeout'\u001b[0m\u001b[1;33m,\u001b[0m \u001b[1;32mFalse\u001b[0m\u001b[1;33m)\u001b[0m\u001b[1;33m:\u001b[0m\u001b[1;33m\u001b[0m\u001b[1;33m\u001b[0m\u001b[0m\n\u001b[1;32m--> 833\u001b[1;33m                     \u001b[0mself\u001b[0m\u001b[1;33m.\u001b[0m\u001b[0m_output\u001b[0m\u001b[1;33m.\u001b[0m\u001b[0mextend\u001b[0m\u001b[1;33m(\u001b[0m\u001b[0mjob\u001b[0m\u001b[1;33m.\u001b[0m\u001b[0mget\u001b[0m\u001b[1;33m(\u001b[0m\u001b[0mtimeout\u001b[0m\u001b[1;33m=\u001b[0m\u001b[0mself\u001b[0m\u001b[1;33m.\u001b[0m\u001b[0mtimeout\u001b[0m\u001b[1;33m)\u001b[0m\u001b[1;33m)\u001b[0m\u001b[1;33m\u001b[0m\u001b[1;33m\u001b[0m\u001b[0m\n\u001b[0m\u001b[0;32m    834\u001b[0m                 \u001b[1;32melse\u001b[0m\u001b[1;33m:\u001b[0m\u001b[1;33m\u001b[0m\u001b[1;33m\u001b[0m\u001b[0m\n\u001b[0;32m    835\u001b[0m                     \u001b[0mself\u001b[0m\u001b[1;33m.\u001b[0m\u001b[0m_output\u001b[0m\u001b[1;33m.\u001b[0m\u001b[0mextend\u001b[0m\u001b[1;33m(\u001b[0m\u001b[0mjob\u001b[0m\u001b[1;33m.\u001b[0m\u001b[0mget\u001b[0m\u001b[1;33m(\u001b[0m\u001b[1;33m)\u001b[0m\u001b[1;33m)\u001b[0m\u001b[1;33m\u001b[0m\u001b[1;33m\u001b[0m\u001b[0m\n",
      "\u001b[1;32m~\\Anaconda3\\lib\\site-packages\\joblib\\_parallel_backends.py\u001b[0m in \u001b[0;36mwrap_future_result\u001b[1;34m(future, timeout)\u001b[0m\n\u001b[0;32m    519\u001b[0m         AsyncResults.get from multiprocessing.\"\"\"\n\u001b[0;32m    520\u001b[0m         \u001b[1;32mtry\u001b[0m\u001b[1;33m:\u001b[0m\u001b[1;33m\u001b[0m\u001b[1;33m\u001b[0m\u001b[0m\n\u001b[1;32m--> 521\u001b[1;33m             \u001b[1;32mreturn\u001b[0m \u001b[0mfuture\u001b[0m\u001b[1;33m.\u001b[0m\u001b[0mresult\u001b[0m\u001b[1;33m(\u001b[0m\u001b[0mtimeout\u001b[0m\u001b[1;33m=\u001b[0m\u001b[0mtimeout\u001b[0m\u001b[1;33m)\u001b[0m\u001b[1;33m\u001b[0m\u001b[1;33m\u001b[0m\u001b[0m\n\u001b[0m\u001b[0;32m    522\u001b[0m         \u001b[1;32mexcept\u001b[0m \u001b[0mLokyTimeoutError\u001b[0m\u001b[1;33m:\u001b[0m\u001b[1;33m\u001b[0m\u001b[1;33m\u001b[0m\u001b[0m\n\u001b[0;32m    523\u001b[0m             \u001b[1;32mraise\u001b[0m \u001b[0mTimeoutError\u001b[0m\u001b[1;33m(\u001b[0m\u001b[1;33m)\u001b[0m\u001b[1;33m\u001b[0m\u001b[1;33m\u001b[0m\u001b[0m\n",
      "\u001b[1;32m~\\Anaconda3\\lib\\concurrent\\futures\\_base.py\u001b[0m in \u001b[0;36mresult\u001b[1;34m(self, timeout)\u001b[0m\n\u001b[0;32m    428\u001b[0m                 \u001b[1;32mreturn\u001b[0m \u001b[0mself\u001b[0m\u001b[1;33m.\u001b[0m\u001b[0m__get_result\u001b[0m\u001b[1;33m(\u001b[0m\u001b[1;33m)\u001b[0m\u001b[1;33m\u001b[0m\u001b[1;33m\u001b[0m\u001b[0m\n\u001b[0;32m    429\u001b[0m \u001b[1;33m\u001b[0m\u001b[0m\n\u001b[1;32m--> 430\u001b[1;33m             \u001b[0mself\u001b[0m\u001b[1;33m.\u001b[0m\u001b[0m_condition\u001b[0m\u001b[1;33m.\u001b[0m\u001b[0mwait\u001b[0m\u001b[1;33m(\u001b[0m\u001b[0mtimeout\u001b[0m\u001b[1;33m)\u001b[0m\u001b[1;33m\u001b[0m\u001b[1;33m\u001b[0m\u001b[0m\n\u001b[0m\u001b[0;32m    431\u001b[0m \u001b[1;33m\u001b[0m\u001b[0m\n\u001b[0;32m    432\u001b[0m             \u001b[1;32mif\u001b[0m \u001b[0mself\u001b[0m\u001b[1;33m.\u001b[0m\u001b[0m_state\u001b[0m \u001b[1;32min\u001b[0m \u001b[1;33m[\u001b[0m\u001b[0mCANCELLED\u001b[0m\u001b[1;33m,\u001b[0m \u001b[0mCANCELLED_AND_NOTIFIED\u001b[0m\u001b[1;33m]\u001b[0m\u001b[1;33m:\u001b[0m\u001b[1;33m\u001b[0m\u001b[1;33m\u001b[0m\u001b[0m\n",
      "\u001b[1;32m~\\Anaconda3\\lib\\threading.py\u001b[0m in \u001b[0;36mwait\u001b[1;34m(self, timeout)\u001b[0m\n\u001b[0;32m    294\u001b[0m         \u001b[1;32mtry\u001b[0m\u001b[1;33m:\u001b[0m    \u001b[1;31m# restore state no matter what (e.g., KeyboardInterrupt)\u001b[0m\u001b[1;33m\u001b[0m\u001b[1;33m\u001b[0m\u001b[0m\n\u001b[0;32m    295\u001b[0m             \u001b[1;32mif\u001b[0m \u001b[0mtimeout\u001b[0m \u001b[1;32mis\u001b[0m \u001b[1;32mNone\u001b[0m\u001b[1;33m:\u001b[0m\u001b[1;33m\u001b[0m\u001b[1;33m\u001b[0m\u001b[0m\n\u001b[1;32m--> 296\u001b[1;33m                 \u001b[0mwaiter\u001b[0m\u001b[1;33m.\u001b[0m\u001b[0macquire\u001b[0m\u001b[1;33m(\u001b[0m\u001b[1;33m)\u001b[0m\u001b[1;33m\u001b[0m\u001b[1;33m\u001b[0m\u001b[0m\n\u001b[0m\u001b[0;32m    297\u001b[0m                 \u001b[0mgotit\u001b[0m \u001b[1;33m=\u001b[0m \u001b[1;32mTrue\u001b[0m\u001b[1;33m\u001b[0m\u001b[1;33m\u001b[0m\u001b[0m\n\u001b[0;32m    298\u001b[0m             \u001b[1;32melse\u001b[0m\u001b[1;33m:\u001b[0m\u001b[1;33m\u001b[0m\u001b[1;33m\u001b[0m\u001b[0m\n",
      "\u001b[1;31mKeyboardInterrupt\u001b[0m: "
     ]
    }
   ],
   "source": [
    "def create_model(init_mode='uniform',activation='relu', dropout_rate=dropout_rate):\n",
    "    model = Sequential()\n",
    "    model.add(Dense(12,input_dim=8, activation = activation)) # 8x12 => 768x12\n",
    "    model.add(Dropout(dropout_rate)) # 과적합 방지\n",
    "    model.add(Dense(1, kernel_initializer= init_mode, activation = 'sigmoid')) # 0~1 \n",
    "    model.compile(loss='binary_crossentropy', optimizer='adam', metrics=['accuracy'])\n",
    "    return model\n",
    "seed = 7\n",
    "numpy.random.seed(seed)\n",
    "dataset = numpy.loadtxt('pima.csv', delimiter=',')\n",
    "X = dataset[:, 0:8]\n",
    "Y = dataset[:, 8]\n",
    "\n",
    "from keras.callbacks import EarlyStopping\n",
    "stopper = EarlyStopping(monitor = 'val_acc', patience = 3, verbose=1)\n",
    "\n",
    "model = KerasClassifier(build_fn=create_model, epochs=100, batch_size=40, verbose=0) # verbose: 학습중 출력되는 문구를 설정. progress bar\n",
    "dropout_rate = [0.0, 0.1,0.2,0.3,0.4,0.5,0.6,0.7,0.8,0.9,1.0]\n",
    "init_mode = ['uniform','lecun_uniform','normal','zero','glorot_normal','glorot_uniform','he_normal','he_uniform']\n",
    "activation = ['softmax','softplus','softsign','relu','tanh','sigmoid','hard_sigmoid','linear']\n",
    "param_grid = dict(activation=activation, init_mode=init_mode, dropout_rate=dropout_rate) # 매개 변수입력 형태는 dictionary\n",
    "grid = GridSearchCV(estimator = model, param_grid=param_grid, n_jobs = -1 ) # 참여하는 cpu 개수\n",
    "fit_params = dict(callbacks = [stopper])\n",
    "grid_result = grid.fit(X,Y, **fit_params) # 변동매개변수(여러 개가 전달될 때) list = *, dict = **\n",
    "print(\"최적 스코어: %f 사용한 파라미터조합: %s\" %(grid_result.best_score_, grid_result.best_params_))\n",
    "means = grid_result.cv_results_['mean_test_score']\n",
    "stds =grid_result.cv_results_['std_test_score']\n",
    "params = grid_result.cv_results_['params']\n",
    "for mean, stdev, param in zip(means, stds, params):\n",
    "    print(\"%f (%f) with: %r\" % (mean, stdev, param))"
   ]
  },
  {
   "cell_type": "code",
   "execution_count": 53,
   "metadata": {},
   "outputs": [
    {
     "name": "stderr",
     "output_type": "stream",
     "text": [
      "C:\\Users\\ICT01_20\\Anaconda3\\lib\\site-packages\\joblib\\externals\\loky\\process_executor.py:706: UserWarning: A worker stopped while some jobs were given to the executor. This can be caused by a too short worker timeout or by a memory leak.\n",
      "  \"timeout or by a memory leak.\", UserWarning\n"
     ]
    },
    {
     "name": "stdout",
     "output_type": "stream",
     "text": [
      "Epoch 1/100\n",
      "768/768 [==============================] - 0s 451us/step - loss: 2.8129 - accuracy: 0.5794\n",
      "Epoch 2/100\n",
      "768/768 [==============================] - 0s 100us/step - loss: 0.6892 - accuracy: 0.6445\n",
      "Epoch 3/100\n",
      "768/768 [==============================] - 0s 96us/step - loss: 0.6787 - accuracy: 0.6510\n",
      "Epoch 4/100\n",
      " 10/768 [..............................] - ETA: 0s - loss: 0.5966 - accuracy: 0.7000"
     ]
    },
    {
     "name": "stderr",
     "output_type": "stream",
     "text": [
      "C:\\Users\\ICT01_20\\Anaconda3\\lib\\site-packages\\keras\\callbacks\\callbacks.py:846: RuntimeWarning: Early stopping conditioned on metric `var_accuracy` which is not available. Available metrics are: loss,accuracy\n",
      "  (self.monitor, ','.join(list(logs.keys()))), RuntimeWarning\n"
     ]
    },
    {
     "name": "stdout",
     "output_type": "stream",
     "text": [
      "768/768 [==============================] - 0s 110us/step - loss: 0.6834 - accuracy: 0.6641\n",
      "Epoch 5/100\n",
      "768/768 [==============================] - 0s 104us/step - loss: 0.6716 - accuracy: 0.6549\n",
      "Epoch 6/100\n",
      "768/768 [==============================] - 0s 108us/step - loss: 0.6771 - accuracy: 0.6719\n",
      "Epoch 7/100\n",
      "768/768 [==============================] - 0s 108us/step - loss: 0.6971 - accuracy: 0.6680\n",
      "Epoch 8/100\n",
      "768/768 [==============================] - 0s 97us/step - loss: 0.6813 - accuracy: 0.6719\n",
      "Epoch 9/100\n",
      "768/768 [==============================] - 0s 125us/step - loss: 0.6703 - accuracy: 0.6654\n",
      "Epoch 10/100\n",
      "768/768 [==============================] - 0s 101us/step - loss: 0.6443 - accuracy: 0.6628\n",
      "Epoch 11/100\n",
      "768/768 [==============================] - 0s 96us/step - loss: 0.6494 - accuracy: 0.6641\n",
      "Epoch 12/100\n",
      "768/768 [==============================] - 0s 99us/step - loss: 0.6509 - accuracy: 0.6719\n",
      "Epoch 13/100\n",
      "768/768 [==============================] - 0s 101us/step - loss: 0.6434 - accuracy: 0.6706\n",
      "Epoch 14/100\n",
      "768/768 [==============================] - 0s 101us/step - loss: 0.6237 - accuracy: 0.6771\n",
      "Epoch 15/100\n",
      "768/768 [==============================] - 0s 95us/step - loss: 0.6183 - accuracy: 0.6875\n",
      "Epoch 16/100\n",
      "768/768 [==============================] - 0s 110us/step - loss: 0.6361 - accuracy: 0.6706\n",
      "Epoch 17/100\n",
      "768/768 [==============================] - 0s 100us/step - loss: 0.6441 - accuracy: 0.6693\n",
      "Epoch 18/100\n",
      "768/768 [==============================] - 0s 97us/step - loss: 0.6340 - accuracy: 0.6901\n",
      "Epoch 19/100\n",
      "768/768 [==============================] - 0s 97us/step - loss: 0.6147 - accuracy: 0.6888\n",
      "Epoch 20/100\n",
      "768/768 [==============================] - 0s 97us/step - loss: 0.6224 - accuracy: 0.6797\n",
      "Epoch 21/100\n",
      "768/768 [==============================] - 0s 100us/step - loss: 0.6164 - accuracy: 0.6745\n",
      "Epoch 22/100\n",
      "768/768 [==============================] - 0s 106us/step - loss: 0.6157 - accuracy: 0.6745\n",
      "Epoch 23/100\n",
      "768/768 [==============================] - 0s 102us/step - loss: 0.6242 - accuracy: 0.6797\n",
      "Epoch 24/100\n",
      "768/768 [==============================] - 0s 92us/step - loss: 0.6177 - accuracy: 0.6758\n",
      "Epoch 25/100\n",
      "768/768 [==============================] - 0s 105us/step - loss: 0.5901 - accuracy: 0.6953\n",
      "Epoch 26/100\n",
      "768/768 [==============================] - 0s 108us/step - loss: 0.6080 - accuracy: 0.6706\n",
      "Epoch 27/100\n",
      "768/768 [==============================] - 0s 100us/step - loss: 0.6051 - accuracy: 0.6758\n",
      "Epoch 28/100\n",
      "768/768 [==============================] - 0s 100us/step - loss: 0.6079 - accuracy: 0.6732\n",
      "Epoch 29/100\n",
      "768/768 [==============================] - 0s 100us/step - loss: 0.5857 - accuracy: 0.7057\n",
      "Epoch 30/100\n",
      "768/768 [==============================] - 0s 104us/step - loss: 0.5947 - accuracy: 0.7005\n",
      "Epoch 31/100\n",
      "768/768 [==============================] - 0s 96us/step - loss: 0.6080 - accuracy: 0.6953\n",
      "Epoch 32/100\n",
      "768/768 [==============================] - 0s 96us/step - loss: 0.6024 - accuracy: 0.6953\n",
      "Epoch 33/100\n",
      "768/768 [==============================] - 0s 101us/step - loss: 0.5838 - accuracy: 0.7057\n",
      "Epoch 34/100\n",
      "768/768 [==============================] - 0s 94us/step - loss: 0.6146 - accuracy: 0.6901\n",
      "Epoch 35/100\n",
      "768/768 [==============================] - 0s 101us/step - loss: 0.5985 - accuracy: 0.7070\n",
      "Epoch 36/100\n",
      "768/768 [==============================] - 0s 96us/step - loss: 0.6083 - accuracy: 0.6667\n",
      "Epoch 37/100\n",
      "768/768 [==============================] - 0s 100us/step - loss: 0.5886 - accuracy: 0.7031\n",
      "Epoch 38/100\n",
      "768/768 [==============================] - 0s 106us/step - loss: 0.5966 - accuracy: 0.6940\n",
      "Epoch 39/100\n",
      "768/768 [==============================] - 0s 103us/step - loss: 0.5967 - accuracy: 0.6862\n",
      "Epoch 40/100\n",
      "768/768 [==============================] - 0s 92us/step - loss: 0.5827 - accuracy: 0.7174\n",
      "Epoch 41/100\n",
      "768/768 [==============================] - 0s 97us/step - loss: 0.5877 - accuracy: 0.7044\n",
      "Epoch 42/100\n",
      "768/768 [==============================] - 0s 108us/step - loss: 0.5834 - accuracy: 0.6966\n",
      "Epoch 43/100\n",
      "768/768 [==============================] - 0s 104us/step - loss: 0.5837 - accuracy: 0.7161\n",
      "Epoch 44/100\n",
      "768/768 [==============================] - 0s 92us/step - loss: 0.5868 - accuracy: 0.7057\n",
      "Epoch 45/100\n",
      "768/768 [==============================] - 0s 103us/step - loss: 0.5825 - accuracy: 0.7018\n",
      "Epoch 46/100\n",
      "768/768 [==============================] - 0s 92us/step - loss: 0.5765 - accuracy: 0.7201\n",
      "Epoch 47/100\n",
      "768/768 [==============================] - 0s 78us/step - loss: 0.5683 - accuracy: 0.7135\n",
      "Epoch 48/100\n",
      "768/768 [==============================] - 0s 106us/step - loss: 0.5912 - accuracy: 0.6966\n",
      "Epoch 49/100\n",
      "768/768 [==============================] - 0s 93us/step - loss: 0.5718 - accuracy: 0.7148\n",
      "Epoch 50/100\n",
      "768/768 [==============================] - 0s 90us/step - loss: 0.5688 - accuracy: 0.7148\n",
      "Epoch 51/100\n",
      "768/768 [==============================] - 0s 93us/step - loss: 0.5800 - accuracy: 0.6979\n",
      "Epoch 52/100\n",
      "768/768 [==============================] - 0s 92us/step - loss: 0.5656 - accuracy: 0.7253\n",
      "Epoch 53/100\n",
      "768/768 [==============================] - 0s 92us/step - loss: 0.5851 - accuracy: 0.6953\n",
      "Epoch 54/100\n",
      "768/768 [==============================] - 0s 99us/step - loss: 0.5689 - accuracy: 0.7201\n",
      "Epoch 55/100\n",
      "768/768 [==============================] - 0s 90us/step - loss: 0.5796 - accuracy: 0.6836\n",
      "Epoch 56/100\n",
      "768/768 [==============================] - 0s 75us/step - loss: 0.5794 - accuracy: 0.7083\n",
      "Epoch 57/100\n",
      "768/768 [==============================] - 0s 107us/step - loss: 0.5701 - accuracy: 0.7174\n",
      "Epoch 58/100\n",
      "768/768 [==============================] - 0s 94us/step - loss: 0.5797 - accuracy: 0.7018\n",
      "Epoch 59/100\n",
      "768/768 [==============================] - 0s 91us/step - loss: 0.5696 - accuracy: 0.7122\n",
      "Epoch 60/100\n",
      "768/768 [==============================] - 0s 92us/step - loss: 0.5750 - accuracy: 0.7005\n",
      "Epoch 61/100\n",
      "768/768 [==============================] - 0s 114us/step - loss: 0.5690 - accuracy: 0.7109\n",
      "Epoch 62/100\n",
      "768/768 [==============================] - 0s 101us/step - loss: 0.5547 - accuracy: 0.7214\n",
      "Epoch 63/100\n",
      "768/768 [==============================] - 0s 103us/step - loss: 0.5754 - accuracy: 0.7096\n",
      "Epoch 64/100\n",
      "768/768 [==============================] - 0s 99us/step - loss: 0.5611 - accuracy: 0.7057\n",
      "Epoch 65/100\n",
      "768/768 [==============================] - 0s 100us/step - loss: 0.5514 - accuracy: 0.7188\n",
      "Epoch 66/100\n",
      "768/768 [==============================] - 0s 101us/step - loss: 0.5657 - accuracy: 0.7005\n",
      "Epoch 67/100\n",
      "768/768 [==============================] - 0s 108us/step - loss: 0.5663 - accuracy: 0.7174\n",
      "Epoch 68/100\n",
      "768/768 [==============================] - 0s 96us/step - loss: 0.5691 - accuracy: 0.7096\n",
      "Epoch 69/100\n",
      "768/768 [==============================] - 0s 94us/step - loss: 0.5572 - accuracy: 0.7201\n",
      "Epoch 70/100\n",
      "768/768 [==============================] - 0s 101us/step - loss: 0.5642 - accuracy: 0.7188\n",
      "Epoch 71/100\n",
      "768/768 [==============================] - 0s 99us/step - loss: 0.5657 - accuracy: 0.7096\n",
      "Epoch 72/100\n",
      "768/768 [==============================] - 0s 92us/step - loss: 0.5599 - accuracy: 0.7201\n",
      "Epoch 73/100\n",
      "768/768 [==============================] - 0s 117us/step - loss: 0.5660 - accuracy: 0.7070\n",
      "Epoch 74/100\n",
      "768/768 [==============================] - 0s 113us/step - loss: 0.5697 - accuracy: 0.7057\n",
      "Epoch 75/100\n",
      "768/768 [==============================] - 0s 101us/step - loss: 0.5794 - accuracy: 0.6992\n",
      "Epoch 76/100\n",
      "768/768 [==============================] - 0s 91us/step - loss: 0.5699 - accuracy: 0.7240\n",
      "Epoch 77/100\n",
      "768/768 [==============================] - 0s 100us/step - loss: 0.5601 - accuracy: 0.7161\n",
      "Epoch 78/100\n",
      "768/768 [==============================] - 0s 97us/step - loss: 0.5628 - accuracy: 0.7083\n",
      "Epoch 79/100\n",
      "768/768 [==============================] - 0s 105us/step - loss: 0.5682 - accuracy: 0.7227\n",
      "Epoch 80/100\n",
      "768/768 [==============================] - 0s 101us/step - loss: 0.5509 - accuracy: 0.7279\n",
      "Epoch 81/100\n",
      "768/768 [==============================] - 0s 123us/step - loss: 0.5823 - accuracy: 0.7070\n",
      "Epoch 82/100\n",
      "768/768 [==============================] - 0s 109us/step - loss: 0.5618 - accuracy: 0.7266\n",
      "Epoch 83/100\n"
     ]
    },
    {
     "name": "stdout",
     "output_type": "stream",
     "text": [
      "768/768 [==============================] - 0s 91us/step - loss: 0.5621 - accuracy: 0.7174\n",
      "Epoch 84/100\n",
      "768/768 [==============================] - 0s 99us/step - loss: 0.5635 - accuracy: 0.7161\n",
      "Epoch 85/100\n",
      "768/768 [==============================] - 0s 95us/step - loss: 0.5590 - accuracy: 0.7096\n",
      "Epoch 86/100\n",
      "768/768 [==============================] - 0s 103us/step - loss: 0.5664 - accuracy: 0.7083\n",
      "Epoch 87/100\n",
      "768/768 [==============================] - 0s 114us/step - loss: 0.5539 - accuracy: 0.7174\n",
      "Epoch 88/100\n",
      "768/768 [==============================] - 0s 99us/step - loss: 0.5532 - accuracy: 0.7148\n",
      "Epoch 89/100\n",
      "768/768 [==============================] - 0s 96us/step - loss: 0.5622 - accuracy: 0.7109\n",
      "Epoch 90/100\n",
      "768/768 [==============================] - 0s 99us/step - loss: 0.5425 - accuracy: 0.7435\n",
      "Epoch 91/100\n",
      "768/768 [==============================] - 0s 113us/step - loss: 0.5566 - accuracy: 0.7122\n",
      "Epoch 92/100\n",
      "768/768 [==============================] - 0s 95us/step - loss: 0.5515 - accuracy: 0.7135\n",
      "Epoch 93/100\n",
      "768/768 [==============================] - 0s 104us/step - loss: 0.5566 - accuracy: 0.7188\n",
      "Epoch 94/100\n",
      "768/768 [==============================] - 0s 94us/step - loss: 0.5782 - accuracy: 0.6810\n",
      "Epoch 95/100\n",
      "768/768 [==============================] - 0s 91us/step - loss: 0.5585 - accuracy: 0.7070\n",
      "Epoch 96/100\n",
      "768/768 [==============================] - 0s 95us/step - loss: 0.5509 - accuracy: 0.7227\n",
      "Epoch 97/100\n",
      "768/768 [==============================] - 0s 91us/step - loss: 0.5585 - accuracy: 0.7305\n",
      "Epoch 98/100\n",
      "768/768 [==============================] - 0s 91us/step - loss: 0.5587 - accuracy: 0.7188\n",
      "Epoch 99/100\n",
      "768/768 [==============================] - 0s 91us/step - loss: 0.5409 - accuracy: 0.7422\n",
      "Epoch 100/100\n",
      "768/768 [==============================] - 0s 99us/step - loss: 0.5796 - accuracy: 0.6992\n",
      "Best: 0.690104 using {'dropout_rate': 0.1, 'init_mode': 'uniform', 'optimizer': 'softmax'}\n",
      "0.690104 (0.027126) with: {'dropout_rate': 0.1, 'init_mode': 'uniform', 'optimizer': 'softmax'}\n",
      "0.000000 (0.000000) with: {'dropout_rate': 0.1, 'init_mode': 'uniform', 'optimizer': 'relu'}\n",
      "0.498698 (0.196127) with: {'dropout_rate': 0.1, 'init_mode': 'lecun_uniform', 'optimizer': 'softmax'}\n",
      "0.000000 (0.000000) with: {'dropout_rate': 0.1, 'init_mode': 'lecun_uniform', 'optimizer': 'relu'}\n",
      "0.688802 (0.009207) with: {'dropout_rate': 0.2, 'init_mode': 'uniform', 'optimizer': 'softmax'}\n",
      "0.013021 (0.009744) with: {'dropout_rate': 0.2, 'init_mode': 'uniform', 'optimizer': 'relu'}\n",
      "0.531250 (0.152927) with: {'dropout_rate': 0.2, 'init_mode': 'lecun_uniform', 'optimizer': 'softmax'}\n",
      "0.000000 (0.000000) with: {'dropout_rate': 0.2, 'init_mode': 'lecun_uniform', 'optimizer': 'relu'}\n",
      "0.670573 (0.043067) with: {'dropout_rate': 0.3, 'init_mode': 'uniform', 'optimizer': 'softmax'}\n",
      "0.003906 (0.005524) with: {'dropout_rate': 0.3, 'init_mode': 'uniform', 'optimizer': 'relu'}\n",
      "0.523438 (0.212690) with: {'dropout_rate': 0.3, 'init_mode': 'lecun_uniform', 'optimizer': 'softmax'}\n",
      "0.002604 (0.003683) with: {'dropout_rate': 0.3, 'init_mode': 'lecun_uniform', 'optimizer': 'relu'}\n"
     ]
    }
   ],
   "source": [
    "# Use scikit-learn to grid search the weight initialization\n",
    "import numpy\n",
    "from sklearn.model_selection import GridSearchCV\n",
    "from keras.models import Sequential\n",
    "from keras.layers import Dense, Dropout\n",
    "from keras.wrappers.scikit_learn import KerasClassifier\n",
    "from keras.callbacks import EarlyStopping\n",
    "stopper = EarlyStopping(monitor='var_accuracy', patience=3, verbose=1)\n",
    "# Function to create model, required for KerasClassifier\n",
    "def create_model(init_mode='uniform',optimizer='relu',dropout_rate=0.1):\n",
    "# create model\n",
    "    model = Sequential()\n",
    "    model.add(Dense(12, input_dim=8, kernel_initializer=init_mode, activation=optimizer))\n",
    "    model.add(Dropout(dropout_rate))\n",
    "    model.add(Dense(1))\n",
    "    # Compile model\n",
    "    model.compile(loss='binary_crossentropy', optimizer='adam', metrics=['accuracy'])\n",
    "    return model\n",
    "# fix random seed for reproducibility\n",
    "seed = 7\n",
    "numpy.random.seed(seed)\n",
    "# load dataset\n",
    "dataset = numpy.loadtxt(\"pima.csv\", delimiter=\",\")\n",
    "# split into input (X) and output (Y) variables\n",
    "X = dataset[:,0:8]\n",
    "Y = dataset[:,8]\n",
    "# create model\n",
    "# Earlystopping\n",
    "model = KerasClassifier(build_fn=create_model, epochs=100, batch_size=10, verbose=1)\n",
    "# define the grid search parameters\n",
    "dropout_rate=[0.1,0.2,0.3] # ,0.4,0.5,0.6,0.7,0.8,0.9\n",
    "init_mode = ['uniform', 'lecun_uniform']# ,'normal','zero','glorot_normal','glorot_uniform','he_normal','he_uniform'\n",
    "optimizer = ['softmax','relu'] #, 'softplus', 'softsign','tanh','sigmoid','hard_sigmoid','linear'\n",
    "param_grid = dict(init_mode=init_mode,optimizer=optimizer,dropout_rate=dropout_rate)\n",
    "fit_params = dict(callbacks=[stopper])\n",
    "grid = GridSearchCV(estimator=model, param_grid=param_grid, n_jobs=-1, cv=3)\n",
    "# 변동 매개변수\n",
    "grid_result = grid.fit(X, Y, **fit_params)\n",
    "# summarize results\n",
    "print(\"Best: %f using %s\" % (grid_result.best_score_, grid_result.best_params_))\n",
    "means = grid_result.cv_results_['mean_test_score']\n",
    "stds = grid_result.cv_results_['std_test_score']\n",
    "params = grid_result.cv_results_['params']\n",
    "for mean, stdev, param in zip(means, stds, params):\n",
    "    print(\"%f (%f) with: %r\" % (mean, stdev, param))"
   ]
  },
  {
   "cell_type": "markdown",
   "metadata": {},
   "source": [
    "# Pipeline"
   ]
  },
  {
   "cell_type": "code",
   "execution_count": 90,
   "metadata": {},
   "outputs": [],
   "source": [
    "from keras.wrappers.scikit_learn import KerasRegressor\n",
    "from sklearn.model_selection import cross_val_score, KFold\n",
    "from sklearn.preprocessing import StandardScaler\n",
    "from sklearn.pipeline import Pipeline\n",
    "import pandas as pd"
   ]
  },
  {
   "cell_type": "code",
   "execution_count": 91,
   "metadata": {},
   "outputs": [
    {
     "data": {
      "text/html": [
       "<div>\n",
       "<style scoped>\n",
       "    .dataframe tbody tr th:only-of-type {\n",
       "        vertical-align: middle;\n",
       "    }\n",
       "\n",
       "    .dataframe tbody tr th {\n",
       "        vertical-align: top;\n",
       "    }\n",
       "\n",
       "    .dataframe thead th {\n",
       "        text-align: right;\n",
       "    }\n",
       "</style>\n",
       "<table border=\"1\" class=\"dataframe\">\n",
       "  <thead>\n",
       "    <tr style=\"text-align: right;\">\n",
       "      <th></th>\n",
       "      <th>0</th>\n",
       "      <th>1</th>\n",
       "      <th>2</th>\n",
       "      <th>3</th>\n",
       "      <th>4</th>\n",
       "      <th>5</th>\n",
       "      <th>6</th>\n",
       "      <th>7</th>\n",
       "      <th>8</th>\n",
       "      <th>9</th>\n",
       "      <th>10</th>\n",
       "      <th>11</th>\n",
       "      <th>12</th>\n",
       "      <th>13</th>\n",
       "    </tr>\n",
       "  </thead>\n",
       "  <tbody>\n",
       "    <tr>\n",
       "      <td>0</td>\n",
       "      <td>0.00632</td>\n",
       "      <td>18.0</td>\n",
       "      <td>2.31</td>\n",
       "      <td>0</td>\n",
       "      <td>0.538</td>\n",
       "      <td>6.575</td>\n",
       "      <td>65.2</td>\n",
       "      <td>4.0900</td>\n",
       "      <td>1</td>\n",
       "      <td>296.0</td>\n",
       "      <td>15.3</td>\n",
       "      <td>396.90</td>\n",
       "      <td>4.98</td>\n",
       "      <td>24.0</td>\n",
       "    </tr>\n",
       "    <tr>\n",
       "      <td>1</td>\n",
       "      <td>0.02731</td>\n",
       "      <td>0.0</td>\n",
       "      <td>7.07</td>\n",
       "      <td>0</td>\n",
       "      <td>0.469</td>\n",
       "      <td>6.421</td>\n",
       "      <td>78.9</td>\n",
       "      <td>4.9671</td>\n",
       "      <td>2</td>\n",
       "      <td>242.0</td>\n",
       "      <td>17.8</td>\n",
       "      <td>396.90</td>\n",
       "      <td>9.14</td>\n",
       "      <td>21.6</td>\n",
       "    </tr>\n",
       "    <tr>\n",
       "      <td>2</td>\n",
       "      <td>0.02729</td>\n",
       "      <td>0.0</td>\n",
       "      <td>7.07</td>\n",
       "      <td>0</td>\n",
       "      <td>0.469</td>\n",
       "      <td>7.185</td>\n",
       "      <td>61.1</td>\n",
       "      <td>4.9671</td>\n",
       "      <td>2</td>\n",
       "      <td>242.0</td>\n",
       "      <td>17.8</td>\n",
       "      <td>392.83</td>\n",
       "      <td>4.03</td>\n",
       "      <td>34.7</td>\n",
       "    </tr>\n",
       "    <tr>\n",
       "      <td>3</td>\n",
       "      <td>0.03237</td>\n",
       "      <td>0.0</td>\n",
       "      <td>2.18</td>\n",
       "      <td>0</td>\n",
       "      <td>0.458</td>\n",
       "      <td>6.998</td>\n",
       "      <td>45.8</td>\n",
       "      <td>6.0622</td>\n",
       "      <td>3</td>\n",
       "      <td>222.0</td>\n",
       "      <td>18.7</td>\n",
       "      <td>394.63</td>\n",
       "      <td>2.94</td>\n",
       "      <td>33.4</td>\n",
       "    </tr>\n",
       "    <tr>\n",
       "      <td>4</td>\n",
       "      <td>0.06905</td>\n",
       "      <td>0.0</td>\n",
       "      <td>2.18</td>\n",
       "      <td>0</td>\n",
       "      <td>0.458</td>\n",
       "      <td>7.147</td>\n",
       "      <td>54.2</td>\n",
       "      <td>6.0622</td>\n",
       "      <td>3</td>\n",
       "      <td>222.0</td>\n",
       "      <td>18.7</td>\n",
       "      <td>396.90</td>\n",
       "      <td>5.33</td>\n",
       "      <td>36.2</td>\n",
       "    </tr>\n",
       "    <tr>\n",
       "      <td>...</td>\n",
       "      <td>...</td>\n",
       "      <td>...</td>\n",
       "      <td>...</td>\n",
       "      <td>...</td>\n",
       "      <td>...</td>\n",
       "      <td>...</td>\n",
       "      <td>...</td>\n",
       "      <td>...</td>\n",
       "      <td>...</td>\n",
       "      <td>...</td>\n",
       "      <td>...</td>\n",
       "      <td>...</td>\n",
       "      <td>...</td>\n",
       "      <td>...</td>\n",
       "    </tr>\n",
       "    <tr>\n",
       "      <td>501</td>\n",
       "      <td>0.06263</td>\n",
       "      <td>0.0</td>\n",
       "      <td>11.93</td>\n",
       "      <td>0</td>\n",
       "      <td>0.573</td>\n",
       "      <td>6.593</td>\n",
       "      <td>69.1</td>\n",
       "      <td>2.4786</td>\n",
       "      <td>1</td>\n",
       "      <td>273.0</td>\n",
       "      <td>21.0</td>\n",
       "      <td>391.99</td>\n",
       "      <td>9.67</td>\n",
       "      <td>22.4</td>\n",
       "    </tr>\n",
       "    <tr>\n",
       "      <td>502</td>\n",
       "      <td>0.04527</td>\n",
       "      <td>0.0</td>\n",
       "      <td>11.93</td>\n",
       "      <td>0</td>\n",
       "      <td>0.573</td>\n",
       "      <td>6.120</td>\n",
       "      <td>76.7</td>\n",
       "      <td>2.2875</td>\n",
       "      <td>1</td>\n",
       "      <td>273.0</td>\n",
       "      <td>21.0</td>\n",
       "      <td>396.90</td>\n",
       "      <td>9.08</td>\n",
       "      <td>20.6</td>\n",
       "    </tr>\n",
       "    <tr>\n",
       "      <td>503</td>\n",
       "      <td>0.06076</td>\n",
       "      <td>0.0</td>\n",
       "      <td>11.93</td>\n",
       "      <td>0</td>\n",
       "      <td>0.573</td>\n",
       "      <td>6.976</td>\n",
       "      <td>91.0</td>\n",
       "      <td>2.1675</td>\n",
       "      <td>1</td>\n",
       "      <td>273.0</td>\n",
       "      <td>21.0</td>\n",
       "      <td>396.90</td>\n",
       "      <td>5.64</td>\n",
       "      <td>23.9</td>\n",
       "    </tr>\n",
       "    <tr>\n",
       "      <td>504</td>\n",
       "      <td>0.10959</td>\n",
       "      <td>0.0</td>\n",
       "      <td>11.93</td>\n",
       "      <td>0</td>\n",
       "      <td>0.573</td>\n",
       "      <td>6.794</td>\n",
       "      <td>89.3</td>\n",
       "      <td>2.3889</td>\n",
       "      <td>1</td>\n",
       "      <td>273.0</td>\n",
       "      <td>21.0</td>\n",
       "      <td>393.45</td>\n",
       "      <td>6.48</td>\n",
       "      <td>22.0</td>\n",
       "    </tr>\n",
       "    <tr>\n",
       "      <td>505</td>\n",
       "      <td>0.04741</td>\n",
       "      <td>0.0</td>\n",
       "      <td>11.93</td>\n",
       "      <td>0</td>\n",
       "      <td>0.573</td>\n",
       "      <td>6.030</td>\n",
       "      <td>80.8</td>\n",
       "      <td>2.5050</td>\n",
       "      <td>1</td>\n",
       "      <td>273.0</td>\n",
       "      <td>21.0</td>\n",
       "      <td>396.90</td>\n",
       "      <td>7.88</td>\n",
       "      <td>11.9</td>\n",
       "    </tr>\n",
       "  </tbody>\n",
       "</table>\n",
       "<p>506 rows × 14 columns</p>\n",
       "</div>"
      ],
      "text/plain": [
       "          0     1      2   3      4      5     6       7   8      9     10  \\\n",
       "0    0.00632  18.0   2.31   0  0.538  6.575  65.2  4.0900   1  296.0  15.3   \n",
       "1    0.02731   0.0   7.07   0  0.469  6.421  78.9  4.9671   2  242.0  17.8   \n",
       "2    0.02729   0.0   7.07   0  0.469  7.185  61.1  4.9671   2  242.0  17.8   \n",
       "3    0.03237   0.0   2.18   0  0.458  6.998  45.8  6.0622   3  222.0  18.7   \n",
       "4    0.06905   0.0   2.18   0  0.458  7.147  54.2  6.0622   3  222.0  18.7   \n",
       "..       ...   ...    ...  ..    ...    ...   ...     ...  ..    ...   ...   \n",
       "501  0.06263   0.0  11.93   0  0.573  6.593  69.1  2.4786   1  273.0  21.0   \n",
       "502  0.04527   0.0  11.93   0  0.573  6.120  76.7  2.2875   1  273.0  21.0   \n",
       "503  0.06076   0.0  11.93   0  0.573  6.976  91.0  2.1675   1  273.0  21.0   \n",
       "504  0.10959   0.0  11.93   0  0.573  6.794  89.3  2.3889   1  273.0  21.0   \n",
       "505  0.04741   0.0  11.93   0  0.573  6.030  80.8  2.5050   1  273.0  21.0   \n",
       "\n",
       "         11    12    13  \n",
       "0    396.90  4.98  24.0  \n",
       "1    396.90  9.14  21.6  \n",
       "2    392.83  4.03  34.7  \n",
       "3    394.63  2.94  33.4  \n",
       "4    396.90  5.33  36.2  \n",
       "..      ...   ...   ...  \n",
       "501  391.99  9.67  22.4  \n",
       "502  396.90  9.08  20.6  \n",
       "503  396.90  5.64  23.9  \n",
       "504  393.45  6.48  22.0  \n",
       "505  396.90  7.88  11.9  \n",
       "\n",
       "[506 rows x 14 columns]"
      ]
     },
     "execution_count": 91,
     "metadata": {},
     "output_type": "execute_result"
    }
   ],
   "source": [
    "dataframe = pandas.read_csv(\"housing.csv\", delim_whitespace=True, header = None)\n",
    "dataset = dataframe.values\n",
    "X = dataset[:,0:13]\n",
    "Y = dataset[:,13]\n",
    "dataframe"
   ]
  },
  {
   "cell_type": "code",
   "execution_count": 92,
   "metadata": {},
   "outputs": [],
   "source": [
    "def baseline_model():\n",
    "    model = Sequential()\n",
    "    model.add(Dense(13, input_dim = 13, kernel_initializer = 'normal', activation = 'relu')) # 506x13 13x13 506x13\n",
    "    model.add(Dense(1, kernel_initializer='normal')) # 506x13 13x1 506x1\n",
    "    model.compile(loss='mean_squared_error', optimizer = 'adam')\n",
    "    return model"
   ]
  },
  {
   "cell_type": "code",
   "execution_count": 93,
   "metadata": {},
   "outputs": [],
   "source": [
    "# deep해짐\n",
    "def larger_model():\n",
    "    model = Sequential()\n",
    "    model.add(Dense(13, input_dim = 13, kernel_initializer = 'normal', activation = 'relu')) \n",
    "    model.add(Dense(6, kernel_initializer='normal', activation='relu'))\n",
    "    model.add(Dense(1, kernel_initializer='normal'))\n",
    "    model.compile(loss='mean_squared_error', optimizer = 'adam')\n",
    "    return model"
   ]
  },
  {
   "cell_type": "code",
   "execution_count": 109,
   "metadata": {},
   "outputs": [],
   "source": [
    "def wider_model():\n",
    "    model=Sequential()\n",
    "    model.add(Dense(20, input_dim=13, kernel_initializer = 'normal', activation = 'relu')) \n",
    "    model.add(Dense(1, kernel_initializer='normal'))\n",
    "    model.compile(loss='mean_squared_error', optimizer = 'adam')\n",
    "    return model"
   ]
  },
  {
   "cell_type": "code",
   "execution_count": 110,
   "metadata": {},
   "outputs": [],
   "source": [
    "seed = 7\n",
    "numpy.random.seed(seed)\n",
    "estimator = KerasRegressor(build_fn=wider_model, nb_epoch=100,batch_size=5, verbose=0) ############ 모델 선택"
   ]
  },
  {
   "cell_type": "code",
   "execution_count": 111,
   "metadata": {},
   "outputs": [
    {
     "name": "stdout",
     "output_type": "stream",
     "text": [
      "Results: -101.97 (72.21) MSE\n"
     ]
    }
   ],
   "source": [
    "# 10개 중에 한개는 검증 validation을 위함\n",
    "kfold = KFold(n_splits=10, random_state=seed)\n",
    "results = cross_val_score(estimator, X, Y, cv=kfold)\n",
    "print(\"Results: %.2f (%.2f) MSE\" % (results.mean(), results.std()))"
   ]
  },
  {
   "cell_type": "code",
   "execution_count": 112,
   "metadata": {},
   "outputs": [
    {
     "name": "stdout",
     "output_type": "stream",
     "text": [
      "Standardized: -24.24 (25) MSE\n"
     ]
    },
    {
     "data": {
      "text/plain": [
       "Pipeline(memory=None,\n",
       "         steps=[('standardize',\n",
       "                 StandardScaler(copy=True, with_mean=True, with_std=True)),\n",
       "                ('mlp',\n",
       "                 <keras.wrappers.scikit_learn.KerasRegressor object at 0x000001BE8D8CAEC8>)],\n",
       "         verbose=False)"
      ]
     },
     "execution_count": 112,
     "metadata": {},
     "output_type": "execute_result"
    }
   ],
   "source": [
    "numpy.random.seed(seed)\n",
    "estimators = []\n",
    "estimators.append(('standardize', StandardScaler()))\n",
    "estimators.append(('mlp', KerasRegressor(build_fn=wider_model, epochs=50, batch_size=5, verbose=0))) ############ 모델 선택\n",
    "pipeline = Pipeline(estimators)\n",
    "kfold = KFold(n_splits=10, random_state=seed)\n",
    "results= cross_val_score(pipeline, X, Y, cv=kfold)\n",
    "print(\"Standardized: %.2f (%2.f) MSE\" % (results.mean(), results.std()))\n",
    "pipeline.fit(X,Y)"
   ]
  },
  {
   "cell_type": "code",
   "execution_count": 113,
   "metadata": {},
   "outputs": [
    {
     "data": {
      "text/plain": [
       "Pipeline(memory=None,\n",
       "         steps=[('standardize',\n",
       "                 StandardScaler(copy=True, with_mean=True, with_std=True)),\n",
       "                ('mlp',\n",
       "                 <keras.wrappers.scikit_learn.KerasRegressor object at 0x000001BE8D8CAEC8>)],\n",
       "         verbose=False)"
      ]
     },
     "execution_count": 113,
     "metadata": {},
     "output_type": "execute_result"
    }
   ],
   "source": [
    "pipeline.fit(X,Y)"
   ]
  },
  {
   "cell_type": "code",
   "execution_count": 114,
   "metadata": {},
   "outputs": [
    {
     "data": {
      "text/plain": [
       "29.532545"
      ]
     },
     "execution_count": 114,
     "metadata": {},
     "output_type": "execute_result"
    }
   ],
   "source": [
    "res=pipeline.predict(X)\n",
    "res[0]"
   ]
  },
  {
   "cell_type": "code",
   "execution_count": 115,
   "metadata": {},
   "outputs": [
    {
     "data": {
      "text/plain": [
       "array([[1.        , 0.91896414],\n",
       "       [0.91896414, 1.        ]])"
      ]
     },
     "execution_count": 115,
     "metadata": {},
     "output_type": "execute_result"
    }
   ],
   "source": [
    "import numpy as np\n",
    "np.corrcoef(res, Y)"
   ]
  },
  {
   "cell_type": "markdown",
   "metadata": {},
   "source": [
    "- 각 세 모델의 상관계수\n",
    "1. baseline_model: 0.90373689\n",
    "2. larger_model: 0.93322976\n",
    "3. wider_model: 0.91896414"
   ]
  },
  {
   "cell_type": "markdown",
   "metadata": {},
   "source": [
    "# 숙제\n",
    "- iris.csv 데이터를 로딩한 다음 분류를 구성하시오\n",
    "- 파라미터 tuning을 구현하시오(pipeline 사용도 함께)"
   ]
  },
  {
   "cell_type": "code",
   "execution_count": 123,
   "metadata": {},
   "outputs": [
    {
     "data": {
      "text/html": [
       "<div>\n",
       "<style scoped>\n",
       "    .dataframe tbody tr th:only-of-type {\n",
       "        vertical-align: middle;\n",
       "    }\n",
       "\n",
       "    .dataframe tbody tr th {\n",
       "        vertical-align: top;\n",
       "    }\n",
       "\n",
       "    .dataframe thead th {\n",
       "        text-align: right;\n",
       "    }\n",
       "</style>\n",
       "<table border=\"1\" class=\"dataframe\">\n",
       "  <thead>\n",
       "    <tr style=\"text-align: right;\">\n",
       "      <th></th>\n",
       "      <th>120</th>\n",
       "      <th>4</th>\n",
       "      <th>setosa</th>\n",
       "      <th>versicolor</th>\n",
       "      <th>virginica</th>\n",
       "    </tr>\n",
       "  </thead>\n",
       "  <tbody>\n",
       "    <tr>\n",
       "      <td>0</td>\n",
       "      <td>6.4</td>\n",
       "      <td>2.8</td>\n",
       "      <td>5.6</td>\n",
       "      <td>2.2</td>\n",
       "      <td>2</td>\n",
       "    </tr>\n",
       "    <tr>\n",
       "      <td>1</td>\n",
       "      <td>5.0</td>\n",
       "      <td>2.3</td>\n",
       "      <td>3.3</td>\n",
       "      <td>1.0</td>\n",
       "      <td>1</td>\n",
       "    </tr>\n",
       "    <tr>\n",
       "      <td>2</td>\n",
       "      <td>4.9</td>\n",
       "      <td>2.5</td>\n",
       "      <td>4.5</td>\n",
       "      <td>1.7</td>\n",
       "      <td>2</td>\n",
       "    </tr>\n",
       "    <tr>\n",
       "      <td>3</td>\n",
       "      <td>4.9</td>\n",
       "      <td>3.1</td>\n",
       "      <td>1.5</td>\n",
       "      <td>0.1</td>\n",
       "      <td>0</td>\n",
       "    </tr>\n",
       "    <tr>\n",
       "      <td>4</td>\n",
       "      <td>5.7</td>\n",
       "      <td>3.8</td>\n",
       "      <td>1.7</td>\n",
       "      <td>0.3</td>\n",
       "      <td>0</td>\n",
       "    </tr>\n",
       "    <tr>\n",
       "      <td>...</td>\n",
       "      <td>...</td>\n",
       "      <td>...</td>\n",
       "      <td>...</td>\n",
       "      <td>...</td>\n",
       "      <td>...</td>\n",
       "    </tr>\n",
       "    <tr>\n",
       "      <td>145</td>\n",
       "      <td>6.1</td>\n",
       "      <td>3.0</td>\n",
       "      <td>4.6</td>\n",
       "      <td>1.4</td>\n",
       "      <td>1</td>\n",
       "    </tr>\n",
       "    <tr>\n",
       "      <td>146</td>\n",
       "      <td>5.2</td>\n",
       "      <td>4.1</td>\n",
       "      <td>1.5</td>\n",
       "      <td>0.1</td>\n",
       "      <td>0</td>\n",
       "    </tr>\n",
       "    <tr>\n",
       "      <td>147</td>\n",
       "      <td>6.7</td>\n",
       "      <td>3.1</td>\n",
       "      <td>4.7</td>\n",
       "      <td>1.5</td>\n",
       "      <td>1</td>\n",
       "    </tr>\n",
       "    <tr>\n",
       "      <td>148</td>\n",
       "      <td>6.7</td>\n",
       "      <td>3.3</td>\n",
       "      <td>5.7</td>\n",
       "      <td>2.5</td>\n",
       "      <td>2</td>\n",
       "    </tr>\n",
       "    <tr>\n",
       "      <td>149</td>\n",
       "      <td>6.4</td>\n",
       "      <td>2.9</td>\n",
       "      <td>4.3</td>\n",
       "      <td>1.3</td>\n",
       "      <td>1</td>\n",
       "    </tr>\n",
       "  </tbody>\n",
       "</table>\n",
       "<p>150 rows × 5 columns</p>\n",
       "</div>"
      ],
      "text/plain": [
       "     120    4  setosa  versicolor  virginica\n",
       "0    6.4  2.8     5.6         2.2          2\n",
       "1    5.0  2.3     3.3         1.0          1\n",
       "2    4.9  2.5     4.5         1.7          2\n",
       "3    4.9  3.1     1.5         0.1          0\n",
       "4    5.7  3.8     1.7         0.3          0\n",
       "..   ...  ...     ...         ...        ...\n",
       "145  6.1  3.0     4.6         1.4          1\n",
       "146  5.2  4.1     1.5         0.1          0\n",
       "147  6.7  3.1     4.7         1.5          1\n",
       "148  6.7  3.3     5.7         2.5          2\n",
       "149  6.4  2.9     4.3         1.3          1\n",
       "\n",
       "[150 rows x 5 columns]"
      ]
     },
     "execution_count": 123,
     "metadata": {},
     "output_type": "execute_result"
    }
   ],
   "source": [
    "from keras.wrappers.scikit_learn import KerasRegressor\n",
    "from sklearn.model_selection import cross_val_score, KFold\n",
    "from sklearn.preprocessing import StandardScaler\n",
    "from sklearn.pipeline import Pipeline\n",
    "import pandas as pd\n",
    "\n",
    "df = pandas.read_csv(\"iris.csv\", delim_whitespace=False)\n",
    "dataset = df.values\n",
    "X = dataset[:,:]\n",
    "Y = dataset[:,4]\n",
    "df"
   ]
  },
  {
   "cell_type": "code",
   "execution_count": 124,
   "metadata": {},
   "outputs": [],
   "source": [
    "def baseline_model():\n",
    "    model = Sequential()\n",
    "    model.add(Dense(4, input_dim = 4, kernel_initializer = 'normal', activation = 'relu')) # 506x13 13x13 506x13\n",
    "    model.add(Dense(1, kernel_initializer='normal')) # 506x13 13x1 506x1\n",
    "    model.compile(loss='mean_squared_error', optimizer = 'adam')\n",
    "    return model"
   ]
  },
  {
   "cell_type": "code",
   "execution_count": 125,
   "metadata": {},
   "outputs": [],
   "source": [
    "seed = 7\n",
    "numpy.random.seed(seed)\n",
    "estimator = KerasRegressor(build_fn=baseline_model, nb_epoch=100,batch_size=5, verbose=0) ############ 모델 선택"
   ]
  },
  {
   "cell_type": "code",
   "execution_count": 127,
   "metadata": {},
   "outputs": [
    {
     "ename": "ValueError",
     "evalue": "Error when checking input: expected dense_262_input to have shape (4,) but got array with shape (5,)",
     "output_type": "error",
     "traceback": [
      "\u001b[1;31m---------------------------------------------------------------------------\u001b[0m",
      "\u001b[1;31mValueError\u001b[0m                                Traceback (most recent call last)",
      "\u001b[1;32m<ipython-input-127-642fa733839c>\u001b[0m in \u001b[0;36m<module>\u001b[1;34m\u001b[0m\n\u001b[0;32m      1\u001b[0m \u001b[0mkfold\u001b[0m \u001b[1;33m=\u001b[0m \u001b[0mKFold\u001b[0m\u001b[1;33m(\u001b[0m\u001b[0mn_splits\u001b[0m\u001b[1;33m=\u001b[0m\u001b[1;36m3\u001b[0m\u001b[1;33m,\u001b[0m \u001b[0mrandom_state\u001b[0m\u001b[1;33m=\u001b[0m\u001b[0mseed\u001b[0m\u001b[1;33m)\u001b[0m\u001b[1;33m\u001b[0m\u001b[1;33m\u001b[0m\u001b[0m\n\u001b[1;32m----> 2\u001b[1;33m \u001b[0mresults\u001b[0m \u001b[1;33m=\u001b[0m \u001b[0mcross_val_score\u001b[0m\u001b[1;33m(\u001b[0m\u001b[0mestimator\u001b[0m\u001b[1;33m,\u001b[0m \u001b[0mX\u001b[0m\u001b[1;33m,\u001b[0m \u001b[0mY\u001b[0m\u001b[1;33m,\u001b[0m \u001b[0mcv\u001b[0m\u001b[1;33m=\u001b[0m\u001b[0mkfold\u001b[0m\u001b[1;33m)\u001b[0m\u001b[1;33m\u001b[0m\u001b[1;33m\u001b[0m\u001b[0m\n\u001b[0m\u001b[0;32m      3\u001b[0m \u001b[0mprint\u001b[0m\u001b[1;33m(\u001b[0m\u001b[1;34m\"Results: %.2f (%.2f) MSE\"\u001b[0m \u001b[1;33m%\u001b[0m \u001b[1;33m(\u001b[0m\u001b[0mresults\u001b[0m\u001b[1;33m.\u001b[0m\u001b[0mmean\u001b[0m\u001b[1;33m(\u001b[0m\u001b[1;33m)\u001b[0m\u001b[1;33m,\u001b[0m \u001b[0mresults\u001b[0m\u001b[1;33m.\u001b[0m\u001b[0mstd\u001b[0m\u001b[1;33m(\u001b[0m\u001b[1;33m)\u001b[0m\u001b[1;33m)\u001b[0m\u001b[1;33m)\u001b[0m\u001b[1;33m\u001b[0m\u001b[1;33m\u001b[0m\u001b[0m\n",
      "\u001b[1;32m~\\Anaconda3\\lib\\site-packages\\sklearn\\model_selection\\_validation.py\u001b[0m in \u001b[0;36mcross_val_score\u001b[1;34m(estimator, X, y, groups, scoring, cv, n_jobs, verbose, fit_params, pre_dispatch, error_score)\u001b[0m\n\u001b[0;32m    389\u001b[0m                                 \u001b[0mfit_params\u001b[0m\u001b[1;33m=\u001b[0m\u001b[0mfit_params\u001b[0m\u001b[1;33m,\u001b[0m\u001b[1;33m\u001b[0m\u001b[1;33m\u001b[0m\u001b[0m\n\u001b[0;32m    390\u001b[0m                                 \u001b[0mpre_dispatch\u001b[0m\u001b[1;33m=\u001b[0m\u001b[0mpre_dispatch\u001b[0m\u001b[1;33m,\u001b[0m\u001b[1;33m\u001b[0m\u001b[1;33m\u001b[0m\u001b[0m\n\u001b[1;32m--> 391\u001b[1;33m                                 error_score=error_score)\n\u001b[0m\u001b[0;32m    392\u001b[0m     \u001b[1;32mreturn\u001b[0m \u001b[0mcv_results\u001b[0m\u001b[1;33m[\u001b[0m\u001b[1;34m'test_score'\u001b[0m\u001b[1;33m]\u001b[0m\u001b[1;33m\u001b[0m\u001b[1;33m\u001b[0m\u001b[0m\n\u001b[0;32m    393\u001b[0m \u001b[1;33m\u001b[0m\u001b[0m\n",
      "\u001b[1;32m~\\Anaconda3\\lib\\site-packages\\sklearn\\model_selection\\_validation.py\u001b[0m in \u001b[0;36mcross_validate\u001b[1;34m(estimator, X, y, groups, scoring, cv, n_jobs, verbose, fit_params, pre_dispatch, return_train_score, return_estimator, error_score)\u001b[0m\n\u001b[0;32m    230\u001b[0m             \u001b[0mreturn_times\u001b[0m\u001b[1;33m=\u001b[0m\u001b[1;32mTrue\u001b[0m\u001b[1;33m,\u001b[0m \u001b[0mreturn_estimator\u001b[0m\u001b[1;33m=\u001b[0m\u001b[0mreturn_estimator\u001b[0m\u001b[1;33m,\u001b[0m\u001b[1;33m\u001b[0m\u001b[1;33m\u001b[0m\u001b[0m\n\u001b[0;32m    231\u001b[0m             error_score=error_score)\n\u001b[1;32m--> 232\u001b[1;33m         for train, test in cv.split(X, y, groups))\n\u001b[0m\u001b[0;32m    233\u001b[0m \u001b[1;33m\u001b[0m\u001b[0m\n\u001b[0;32m    234\u001b[0m     \u001b[0mzipped_scores\u001b[0m \u001b[1;33m=\u001b[0m \u001b[0mlist\u001b[0m\u001b[1;33m(\u001b[0m\u001b[0mzip\u001b[0m\u001b[1;33m(\u001b[0m\u001b[1;33m*\u001b[0m\u001b[0mscores\u001b[0m\u001b[1;33m)\u001b[0m\u001b[1;33m)\u001b[0m\u001b[1;33m\u001b[0m\u001b[1;33m\u001b[0m\u001b[0m\n",
      "\u001b[1;32m~\\Anaconda3\\lib\\site-packages\\joblib\\parallel.py\u001b[0m in \u001b[0;36m__call__\u001b[1;34m(self, iterable)\u001b[0m\n\u001b[0;32m    919\u001b[0m             \u001b[1;31m# remaining jobs.\u001b[0m\u001b[1;33m\u001b[0m\u001b[1;33m\u001b[0m\u001b[1;33m\u001b[0m\u001b[0m\n\u001b[0;32m    920\u001b[0m             \u001b[0mself\u001b[0m\u001b[1;33m.\u001b[0m\u001b[0m_iterating\u001b[0m \u001b[1;33m=\u001b[0m \u001b[1;32mFalse\u001b[0m\u001b[1;33m\u001b[0m\u001b[1;33m\u001b[0m\u001b[0m\n\u001b[1;32m--> 921\u001b[1;33m             \u001b[1;32mif\u001b[0m \u001b[0mself\u001b[0m\u001b[1;33m.\u001b[0m\u001b[0mdispatch_one_batch\u001b[0m\u001b[1;33m(\u001b[0m\u001b[0miterator\u001b[0m\u001b[1;33m)\u001b[0m\u001b[1;33m:\u001b[0m\u001b[1;33m\u001b[0m\u001b[1;33m\u001b[0m\u001b[0m\n\u001b[0m\u001b[0;32m    922\u001b[0m                 \u001b[0mself\u001b[0m\u001b[1;33m.\u001b[0m\u001b[0m_iterating\u001b[0m \u001b[1;33m=\u001b[0m \u001b[0mself\u001b[0m\u001b[1;33m.\u001b[0m\u001b[0m_original_iterator\u001b[0m \u001b[1;32mis\u001b[0m \u001b[1;32mnot\u001b[0m \u001b[1;32mNone\u001b[0m\u001b[1;33m\u001b[0m\u001b[1;33m\u001b[0m\u001b[0m\n\u001b[0;32m    923\u001b[0m \u001b[1;33m\u001b[0m\u001b[0m\n",
      "\u001b[1;32m~\\Anaconda3\\lib\\site-packages\\joblib\\parallel.py\u001b[0m in \u001b[0;36mdispatch_one_batch\u001b[1;34m(self, iterator)\u001b[0m\n\u001b[0;32m    757\u001b[0m                 \u001b[1;32mreturn\u001b[0m \u001b[1;32mFalse\u001b[0m\u001b[1;33m\u001b[0m\u001b[1;33m\u001b[0m\u001b[0m\n\u001b[0;32m    758\u001b[0m             \u001b[1;32melse\u001b[0m\u001b[1;33m:\u001b[0m\u001b[1;33m\u001b[0m\u001b[1;33m\u001b[0m\u001b[0m\n\u001b[1;32m--> 759\u001b[1;33m                 \u001b[0mself\u001b[0m\u001b[1;33m.\u001b[0m\u001b[0m_dispatch\u001b[0m\u001b[1;33m(\u001b[0m\u001b[0mtasks\u001b[0m\u001b[1;33m)\u001b[0m\u001b[1;33m\u001b[0m\u001b[1;33m\u001b[0m\u001b[0m\n\u001b[0m\u001b[0;32m    760\u001b[0m                 \u001b[1;32mreturn\u001b[0m \u001b[1;32mTrue\u001b[0m\u001b[1;33m\u001b[0m\u001b[1;33m\u001b[0m\u001b[0m\n\u001b[0;32m    761\u001b[0m \u001b[1;33m\u001b[0m\u001b[0m\n",
      "\u001b[1;32m~\\Anaconda3\\lib\\site-packages\\joblib\\parallel.py\u001b[0m in \u001b[0;36m_dispatch\u001b[1;34m(self, batch)\u001b[0m\n\u001b[0;32m    714\u001b[0m         \u001b[1;32mwith\u001b[0m \u001b[0mself\u001b[0m\u001b[1;33m.\u001b[0m\u001b[0m_lock\u001b[0m\u001b[1;33m:\u001b[0m\u001b[1;33m\u001b[0m\u001b[1;33m\u001b[0m\u001b[0m\n\u001b[0;32m    715\u001b[0m             \u001b[0mjob_idx\u001b[0m \u001b[1;33m=\u001b[0m \u001b[0mlen\u001b[0m\u001b[1;33m(\u001b[0m\u001b[0mself\u001b[0m\u001b[1;33m.\u001b[0m\u001b[0m_jobs\u001b[0m\u001b[1;33m)\u001b[0m\u001b[1;33m\u001b[0m\u001b[1;33m\u001b[0m\u001b[0m\n\u001b[1;32m--> 716\u001b[1;33m             \u001b[0mjob\u001b[0m \u001b[1;33m=\u001b[0m \u001b[0mself\u001b[0m\u001b[1;33m.\u001b[0m\u001b[0m_backend\u001b[0m\u001b[1;33m.\u001b[0m\u001b[0mapply_async\u001b[0m\u001b[1;33m(\u001b[0m\u001b[0mbatch\u001b[0m\u001b[1;33m,\u001b[0m \u001b[0mcallback\u001b[0m\u001b[1;33m=\u001b[0m\u001b[0mcb\u001b[0m\u001b[1;33m)\u001b[0m\u001b[1;33m\u001b[0m\u001b[1;33m\u001b[0m\u001b[0m\n\u001b[0m\u001b[0;32m    717\u001b[0m             \u001b[1;31m# A job can complete so quickly than its callback is\u001b[0m\u001b[1;33m\u001b[0m\u001b[1;33m\u001b[0m\u001b[1;33m\u001b[0m\u001b[0m\n\u001b[0;32m    718\u001b[0m             \u001b[1;31m# called before we get here, causing self._jobs to\u001b[0m\u001b[1;33m\u001b[0m\u001b[1;33m\u001b[0m\u001b[1;33m\u001b[0m\u001b[0m\n",
      "\u001b[1;32m~\\Anaconda3\\lib\\site-packages\\joblib\\_parallel_backends.py\u001b[0m in \u001b[0;36mapply_async\u001b[1;34m(self, func, callback)\u001b[0m\n\u001b[0;32m    180\u001b[0m     \u001b[1;32mdef\u001b[0m \u001b[0mapply_async\u001b[0m\u001b[1;33m(\u001b[0m\u001b[0mself\u001b[0m\u001b[1;33m,\u001b[0m \u001b[0mfunc\u001b[0m\u001b[1;33m,\u001b[0m \u001b[0mcallback\u001b[0m\u001b[1;33m=\u001b[0m\u001b[1;32mNone\u001b[0m\u001b[1;33m)\u001b[0m\u001b[1;33m:\u001b[0m\u001b[1;33m\u001b[0m\u001b[1;33m\u001b[0m\u001b[0m\n\u001b[0;32m    181\u001b[0m         \u001b[1;34m\"\"\"Schedule a func to be run\"\"\"\u001b[0m\u001b[1;33m\u001b[0m\u001b[1;33m\u001b[0m\u001b[0m\n\u001b[1;32m--> 182\u001b[1;33m         \u001b[0mresult\u001b[0m \u001b[1;33m=\u001b[0m \u001b[0mImmediateResult\u001b[0m\u001b[1;33m(\u001b[0m\u001b[0mfunc\u001b[0m\u001b[1;33m)\u001b[0m\u001b[1;33m\u001b[0m\u001b[1;33m\u001b[0m\u001b[0m\n\u001b[0m\u001b[0;32m    183\u001b[0m         \u001b[1;32mif\u001b[0m \u001b[0mcallback\u001b[0m\u001b[1;33m:\u001b[0m\u001b[1;33m\u001b[0m\u001b[1;33m\u001b[0m\u001b[0m\n\u001b[0;32m    184\u001b[0m             \u001b[0mcallback\u001b[0m\u001b[1;33m(\u001b[0m\u001b[0mresult\u001b[0m\u001b[1;33m)\u001b[0m\u001b[1;33m\u001b[0m\u001b[1;33m\u001b[0m\u001b[0m\n",
      "\u001b[1;32m~\\Anaconda3\\lib\\site-packages\\joblib\\_parallel_backends.py\u001b[0m in \u001b[0;36m__init__\u001b[1;34m(self, batch)\u001b[0m\n\u001b[0;32m    547\u001b[0m         \u001b[1;31m# Don't delay the application, to avoid keeping the input\u001b[0m\u001b[1;33m\u001b[0m\u001b[1;33m\u001b[0m\u001b[1;33m\u001b[0m\u001b[0m\n\u001b[0;32m    548\u001b[0m         \u001b[1;31m# arguments in memory\u001b[0m\u001b[1;33m\u001b[0m\u001b[1;33m\u001b[0m\u001b[1;33m\u001b[0m\u001b[0m\n\u001b[1;32m--> 549\u001b[1;33m         \u001b[0mself\u001b[0m\u001b[1;33m.\u001b[0m\u001b[0mresults\u001b[0m \u001b[1;33m=\u001b[0m \u001b[0mbatch\u001b[0m\u001b[1;33m(\u001b[0m\u001b[1;33m)\u001b[0m\u001b[1;33m\u001b[0m\u001b[1;33m\u001b[0m\u001b[0m\n\u001b[0m\u001b[0;32m    550\u001b[0m \u001b[1;33m\u001b[0m\u001b[0m\n\u001b[0;32m    551\u001b[0m     \u001b[1;32mdef\u001b[0m \u001b[0mget\u001b[0m\u001b[1;33m(\u001b[0m\u001b[0mself\u001b[0m\u001b[1;33m)\u001b[0m\u001b[1;33m:\u001b[0m\u001b[1;33m\u001b[0m\u001b[1;33m\u001b[0m\u001b[0m\n",
      "\u001b[1;32m~\\Anaconda3\\lib\\site-packages\\joblib\\parallel.py\u001b[0m in \u001b[0;36m__call__\u001b[1;34m(self)\u001b[0m\n\u001b[0;32m    223\u001b[0m         \u001b[1;32mwith\u001b[0m \u001b[0mparallel_backend\u001b[0m\u001b[1;33m(\u001b[0m\u001b[0mself\u001b[0m\u001b[1;33m.\u001b[0m\u001b[0m_backend\u001b[0m\u001b[1;33m,\u001b[0m \u001b[0mn_jobs\u001b[0m\u001b[1;33m=\u001b[0m\u001b[0mself\u001b[0m\u001b[1;33m.\u001b[0m\u001b[0m_n_jobs\u001b[0m\u001b[1;33m)\u001b[0m\u001b[1;33m:\u001b[0m\u001b[1;33m\u001b[0m\u001b[1;33m\u001b[0m\u001b[0m\n\u001b[0;32m    224\u001b[0m             return [func(*args, **kwargs)\n\u001b[1;32m--> 225\u001b[1;33m                     for func, args, kwargs in self.items]\n\u001b[0m\u001b[0;32m    226\u001b[0m \u001b[1;33m\u001b[0m\u001b[0m\n\u001b[0;32m    227\u001b[0m     \u001b[1;32mdef\u001b[0m \u001b[0m__len__\u001b[0m\u001b[1;33m(\u001b[0m\u001b[0mself\u001b[0m\u001b[1;33m)\u001b[0m\u001b[1;33m:\u001b[0m\u001b[1;33m\u001b[0m\u001b[1;33m\u001b[0m\u001b[0m\n",
      "\u001b[1;32m~\\Anaconda3\\lib\\site-packages\\joblib\\parallel.py\u001b[0m in \u001b[0;36m<listcomp>\u001b[1;34m(.0)\u001b[0m\n\u001b[0;32m    223\u001b[0m         \u001b[1;32mwith\u001b[0m \u001b[0mparallel_backend\u001b[0m\u001b[1;33m(\u001b[0m\u001b[0mself\u001b[0m\u001b[1;33m.\u001b[0m\u001b[0m_backend\u001b[0m\u001b[1;33m,\u001b[0m \u001b[0mn_jobs\u001b[0m\u001b[1;33m=\u001b[0m\u001b[0mself\u001b[0m\u001b[1;33m.\u001b[0m\u001b[0m_n_jobs\u001b[0m\u001b[1;33m)\u001b[0m\u001b[1;33m:\u001b[0m\u001b[1;33m\u001b[0m\u001b[1;33m\u001b[0m\u001b[0m\n\u001b[0;32m    224\u001b[0m             return [func(*args, **kwargs)\n\u001b[1;32m--> 225\u001b[1;33m                     for func, args, kwargs in self.items]\n\u001b[0m\u001b[0;32m    226\u001b[0m \u001b[1;33m\u001b[0m\u001b[0m\n\u001b[0;32m    227\u001b[0m     \u001b[1;32mdef\u001b[0m \u001b[0m__len__\u001b[0m\u001b[1;33m(\u001b[0m\u001b[0mself\u001b[0m\u001b[1;33m)\u001b[0m\u001b[1;33m:\u001b[0m\u001b[1;33m\u001b[0m\u001b[1;33m\u001b[0m\u001b[0m\n",
      "\u001b[1;32m~\\Anaconda3\\lib\\site-packages\\sklearn\\model_selection\\_validation.py\u001b[0m in \u001b[0;36m_fit_and_score\u001b[1;34m(estimator, X, y, scorer, train, test, verbose, parameters, fit_params, return_train_score, return_parameters, return_n_test_samples, return_times, return_estimator, error_score)\u001b[0m\n\u001b[0;32m    514\u001b[0m             \u001b[0mestimator\u001b[0m\u001b[1;33m.\u001b[0m\u001b[0mfit\u001b[0m\u001b[1;33m(\u001b[0m\u001b[0mX_train\u001b[0m\u001b[1;33m,\u001b[0m \u001b[1;33m**\u001b[0m\u001b[0mfit_params\u001b[0m\u001b[1;33m)\u001b[0m\u001b[1;33m\u001b[0m\u001b[1;33m\u001b[0m\u001b[0m\n\u001b[0;32m    515\u001b[0m         \u001b[1;32melse\u001b[0m\u001b[1;33m:\u001b[0m\u001b[1;33m\u001b[0m\u001b[1;33m\u001b[0m\u001b[0m\n\u001b[1;32m--> 516\u001b[1;33m             \u001b[0mestimator\u001b[0m\u001b[1;33m.\u001b[0m\u001b[0mfit\u001b[0m\u001b[1;33m(\u001b[0m\u001b[0mX_train\u001b[0m\u001b[1;33m,\u001b[0m \u001b[0my_train\u001b[0m\u001b[1;33m,\u001b[0m \u001b[1;33m**\u001b[0m\u001b[0mfit_params\u001b[0m\u001b[1;33m)\u001b[0m\u001b[1;33m\u001b[0m\u001b[1;33m\u001b[0m\u001b[0m\n\u001b[0m\u001b[0;32m    517\u001b[0m \u001b[1;33m\u001b[0m\u001b[0m\n\u001b[0;32m    518\u001b[0m     \u001b[1;32mexcept\u001b[0m \u001b[0mException\u001b[0m \u001b[1;32mas\u001b[0m \u001b[0me\u001b[0m\u001b[1;33m:\u001b[0m\u001b[1;33m\u001b[0m\u001b[1;33m\u001b[0m\u001b[0m\n",
      "\u001b[1;32m~\\Anaconda3\\lib\\site-packages\\keras\\wrappers\\scikit_learn.py\u001b[0m in \u001b[0;36mfit\u001b[1;34m(self, x, y, **kwargs)\u001b[0m\n\u001b[0;32m    149\u001b[0m         \u001b[0mfit_args\u001b[0m\u001b[1;33m.\u001b[0m\u001b[0mupdate\u001b[0m\u001b[1;33m(\u001b[0m\u001b[0mkwargs\u001b[0m\u001b[1;33m)\u001b[0m\u001b[1;33m\u001b[0m\u001b[1;33m\u001b[0m\u001b[0m\n\u001b[0;32m    150\u001b[0m \u001b[1;33m\u001b[0m\u001b[0m\n\u001b[1;32m--> 151\u001b[1;33m         \u001b[0mhistory\u001b[0m \u001b[1;33m=\u001b[0m \u001b[0mself\u001b[0m\u001b[1;33m.\u001b[0m\u001b[0mmodel\u001b[0m\u001b[1;33m.\u001b[0m\u001b[0mfit\u001b[0m\u001b[1;33m(\u001b[0m\u001b[0mx\u001b[0m\u001b[1;33m,\u001b[0m \u001b[0my\u001b[0m\u001b[1;33m,\u001b[0m \u001b[1;33m**\u001b[0m\u001b[0mfit_args\u001b[0m\u001b[1;33m)\u001b[0m\u001b[1;33m\u001b[0m\u001b[1;33m\u001b[0m\u001b[0m\n\u001b[0m\u001b[0;32m    152\u001b[0m \u001b[1;33m\u001b[0m\u001b[0m\n\u001b[0;32m    153\u001b[0m         \u001b[1;32mreturn\u001b[0m \u001b[0mhistory\u001b[0m\u001b[1;33m\u001b[0m\u001b[1;33m\u001b[0m\u001b[0m\n",
      "\u001b[1;32m~\\Anaconda3\\lib\\site-packages\\keras\\engine\\training.py\u001b[0m in \u001b[0;36mfit\u001b[1;34m(self, x, y, batch_size, epochs, verbose, callbacks, validation_split, validation_data, shuffle, class_weight, sample_weight, initial_epoch, steps_per_epoch, validation_steps, validation_freq, max_queue_size, workers, use_multiprocessing, **kwargs)\u001b[0m\n\u001b[0;32m   1152\u001b[0m             \u001b[0msample_weight\u001b[0m\u001b[1;33m=\u001b[0m\u001b[0msample_weight\u001b[0m\u001b[1;33m,\u001b[0m\u001b[1;33m\u001b[0m\u001b[1;33m\u001b[0m\u001b[0m\n\u001b[0;32m   1153\u001b[0m             \u001b[0mclass_weight\u001b[0m\u001b[1;33m=\u001b[0m\u001b[0mclass_weight\u001b[0m\u001b[1;33m,\u001b[0m\u001b[1;33m\u001b[0m\u001b[1;33m\u001b[0m\u001b[0m\n\u001b[1;32m-> 1154\u001b[1;33m             batch_size=batch_size)\n\u001b[0m\u001b[0;32m   1155\u001b[0m \u001b[1;33m\u001b[0m\u001b[0m\n\u001b[0;32m   1156\u001b[0m         \u001b[1;31m# Prepare validation data.\u001b[0m\u001b[1;33m\u001b[0m\u001b[1;33m\u001b[0m\u001b[1;33m\u001b[0m\u001b[0m\n",
      "\u001b[1;32m~\\Anaconda3\\lib\\site-packages\\keras\\engine\\training.py\u001b[0m in \u001b[0;36m_standardize_user_data\u001b[1;34m(self, x, y, sample_weight, class_weight, check_array_lengths, batch_size)\u001b[0m\n\u001b[0;32m    577\u001b[0m             \u001b[0mfeed_input_shapes\u001b[0m\u001b[1;33m,\u001b[0m\u001b[1;33m\u001b[0m\u001b[1;33m\u001b[0m\u001b[0m\n\u001b[0;32m    578\u001b[0m             \u001b[0mcheck_batch_axis\u001b[0m\u001b[1;33m=\u001b[0m\u001b[1;32mFalse\u001b[0m\u001b[1;33m,\u001b[0m  \u001b[1;31m# Don't enforce the batch size.\u001b[0m\u001b[1;33m\u001b[0m\u001b[1;33m\u001b[0m\u001b[0m\n\u001b[1;32m--> 579\u001b[1;33m             exception_prefix='input')\n\u001b[0m\u001b[0;32m    580\u001b[0m \u001b[1;33m\u001b[0m\u001b[0m\n\u001b[0;32m    581\u001b[0m         \u001b[1;32mif\u001b[0m \u001b[0my\u001b[0m \u001b[1;32mis\u001b[0m \u001b[1;32mnot\u001b[0m \u001b[1;32mNone\u001b[0m\u001b[1;33m:\u001b[0m\u001b[1;33m\u001b[0m\u001b[1;33m\u001b[0m\u001b[0m\n",
      "\u001b[1;32m~\\Anaconda3\\lib\\site-packages\\keras\\engine\\training_utils.py\u001b[0m in \u001b[0;36mstandardize_input_data\u001b[1;34m(data, names, shapes, check_batch_axis, exception_prefix)\u001b[0m\n\u001b[0;32m    143\u001b[0m                             \u001b[1;34m': expected '\u001b[0m \u001b[1;33m+\u001b[0m \u001b[0mnames\u001b[0m\u001b[1;33m[\u001b[0m\u001b[0mi\u001b[0m\u001b[1;33m]\u001b[0m \u001b[1;33m+\u001b[0m \u001b[1;34m' to have shape '\u001b[0m \u001b[1;33m+\u001b[0m\u001b[1;33m\u001b[0m\u001b[1;33m\u001b[0m\u001b[0m\n\u001b[0;32m    144\u001b[0m                             \u001b[0mstr\u001b[0m\u001b[1;33m(\u001b[0m\u001b[0mshape\u001b[0m\u001b[1;33m)\u001b[0m \u001b[1;33m+\u001b[0m \u001b[1;34m' but got array with shape '\u001b[0m \u001b[1;33m+\u001b[0m\u001b[1;33m\u001b[0m\u001b[1;33m\u001b[0m\u001b[0m\n\u001b[1;32m--> 145\u001b[1;33m                             str(data_shape))\n\u001b[0m\u001b[0;32m    146\u001b[0m     \u001b[1;32mreturn\u001b[0m \u001b[0mdata\u001b[0m\u001b[1;33m\u001b[0m\u001b[1;33m\u001b[0m\u001b[0m\n\u001b[0;32m    147\u001b[0m \u001b[1;33m\u001b[0m\u001b[0m\n",
      "\u001b[1;31mValueError\u001b[0m: Error when checking input: expected dense_262_input to have shape (4,) but got array with shape (5,)"
     ]
    }
   ],
   "source": [
    "kfold = KFold(n_splits=3, random_state=seed)\n",
    "results = cross_val_score(estimator, X, Y, cv=kfold)\n",
    "print(\"Results: %.2f (%.2f) MSE\" % (results.mean(), results.std()))"
   ]
  },
  {
   "cell_type": "code",
   "execution_count": null,
   "metadata": {},
   "outputs": [],
   "source": []
  },
  {
   "cell_type": "code",
   "execution_count": null,
   "metadata": {},
   "outputs": [],
   "source": []
  },
  {
   "cell_type": "code",
   "execution_count": null,
   "metadata": {},
   "outputs": [],
   "source": []
  },
  {
   "cell_type": "code",
   "execution_count": null,
   "metadata": {},
   "outputs": [],
   "source": []
  },
  {
   "cell_type": "code",
   "execution_count": null,
   "metadata": {},
   "outputs": [],
   "source": []
  }
 ],
 "metadata": {
  "kernelspec": {
   "display_name": "Python 3",
   "language": "python",
   "name": "python3"
  },
  "language_info": {
   "codemirror_mode": {
    "name": "ipython",
    "version": 3
   },
   "file_extension": ".py",
   "mimetype": "text/x-python",
   "name": "python",
   "nbconvert_exporter": "python",
   "pygments_lexer": "ipython3",
   "version": "3.7.4"
  }
 },
 "nbformat": 4,
 "nbformat_minor": 2
}
