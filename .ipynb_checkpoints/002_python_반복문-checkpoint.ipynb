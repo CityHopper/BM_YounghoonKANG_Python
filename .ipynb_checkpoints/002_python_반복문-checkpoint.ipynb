{
 "cells": [
  {
   "cell_type": "code",
   "execution_count": 1,
   "metadata": {},
   "outputs": [],
   "source": [
    "# 반복문"
   ]
  },
  {
   "cell_type": "code",
   "execution_count": 4,
   "metadata": {},
   "outputs": [
    {
     "name": "stdout",
     "output_type": "stream",
     "text": [
      "7 2 4\n",
      "3 8\n"
     ]
    }
   ],
   "source": [
    "num1 = 6\n",
    "num1 += 1 # num1 = num1 + 1\n",
    "num2 = 7\n",
    "num2 -= 5  # num2 = num2 - 5\n",
    "num3 = 8\n",
    "num3 /= 2\n",
    "print(num1, num2, round(num3))\n",
    "num1 = 1\n",
    "num1 *= 3\n",
    "num2 = 2\n",
    "num2 **= 3 # ^, **\n",
    "print(num1, num2)"
   ]
  },
  {
   "cell_type": "code",
   "execution_count": 5,
   "metadata": {},
   "outputs": [
    {
     "name": "stdout",
     "output_type": "stream",
     "text": [
      "Non-negative\n"
     ]
    }
   ],
   "source": [
    "# 3항 연산자\n",
    "x = 5\n",
    "ans = 'Non-negative' if x >= 0 else 'Negative' # x가 0보다 크면 앞의 것을 출력, 아니면 뒤의 것을 출력\n",
    "print(ans) # 문자열 데이터 타입: str"
   ]
  },
  {
   "cell_type": "code",
   "execution_count": 9,
   "metadata": {},
   "outputs": [
    {
     "name": "stdout",
     "output_type": "stream",
     "text": [
      "empty city\n"
     ]
    }
   ],
   "source": [
    "city = ' ' # ''안에 아무것도 없으면 문자열 거짓. 공백 ' '을 넣으면 참. 공백도 문자열이다. \n",
    "# list:[] 리스트 안에 아무것도 없으면 거짓. dict : {}, tuple: ()\n",
    "if city: # 조건이 참일 때만 if 문 실행\n",
    "    print('empty city')"
   ]
  },
  {
   "cell_type": "code",
   "execution_count": 11,
   "metadata": {},
   "outputs": [
    {
     "name": "stdout",
     "output_type": "stream",
     "text": [
      "2019-12-26 11:07:52.103322\n",
      "\n",
      "생년월일(19951031)을 입력하시오19900804\n",
      "당신의 나이는  30\n",
      "당신은 미성년자가 아니다\n"
     ]
    }
   ],
   "source": [
    "import datetime\n",
    "dt = datetime.datetime.now()\n",
    "print(dt)\n",
    "print()\n",
    "# 데이터 입력\n",
    "age = input(\"생년월일(19951031)을 입력하시오\")\n",
    "# 데이터 처리\n",
    "year = int(age[0:4]) # 0,1,2,3 (마지막은 미포함)\n",
    "month = int(age[4:6]) # 4, 5\n",
    "day = int(age[6:])\n",
    "# 빼기 연산\n",
    "# 분산: 상계방지(제곱)\n",
    "year_diff = dt.year - year\n",
    "month_diff = dt.month - month\n",
    "day_diff = dt.day - day\n",
    "if day_diff < 0:\n",
    "    month_diff -= 1\n",
    "if month_diff < 0:\n",
    "    year_diff -= 1\n",
    "# 데이터 출력\n",
    "print(\"당신의 나이는 \", year_diff + 1)\n",
    "if year_diff < 18:\n",
    "    print(\"당신은 미성년자\")\n",
    "else: print(\"당신은 미성년자가 아니다\")"
   ]
  },
  {
   "cell_type": "code",
   "execution_count": null,
   "metadata": {},
   "outputs": [],
   "source": [
    "# 데이터 입력 -> 처리(연산자), 제어문(판단문, 한 가지 규칙을 여러 데이터에 적용: 반복문)"
   ]
  },
  {
   "cell_type": "code",
   "execution_count": null,
   "metadata": {},
   "outputs": [],
   "source": [
    "# for \n",
    "# 이전의 방식 : for(i=0; i < 100; i++): 인덱스 오버플로우 발생\n",
    "# for in 문"
   ]
  },
  {
   "cell_type": "code",
   "execution_count": 12,
   "metadata": {},
   "outputs": [
    {
     "name": "stdout",
     "output_type": "stream",
     "text": [
      "earth air fire water "
     ]
    }
   ],
   "source": [
    "# 데이터를 이용하는 방법\n",
    "elements = ['earth', 'air', 'fire', 'water']\n",
    "for i in elements: # Collections, iterator, generator, enumerate 총 4가지가 올 수 있다\n",
    "    print(i, end = ' ') # end=''를 빼면 \\n (줄바꿈)"
   ]
  },
  {
   "cell_type": "code",
   "execution_count": null,
   "metadata": {},
   "outputs": [],
   "source": [
    "# Collectios: list, tuple, dict, set\n",
    "# Iterator  : range - for(i=0; i < 100; i++) 와 같은 방법으로 사용 (start, end, step)\n",
    "# Generator : 데이터 생성 - 메모리를 차지하지 않음\n",
    "# Enumerate : 맵핑을 해줌 0:earth, 1:air, ..."
   ]
  },
  {
   "cell_type": "code",
   "execution_count": 13,
   "metadata": {},
   "outputs": [
    {
     "name": "stdout",
     "output_type": "stream",
     "text": [
      "0\n",
      "1\n",
      "2\n",
      "3\n",
      "4\n"
     ]
    }
   ],
   "source": [
    "for i in range(5): # 최종값\n",
    "    print(i)"
   ]
  },
  {
   "cell_type": "code",
   "execution_count": 14,
   "metadata": {},
   "outputs": [
    {
     "name": "stdout",
     "output_type": "stream",
     "text": [
      "2\n",
      "3\n",
      "4\n"
     ]
    }
   ],
   "source": [
    "# 파이썬에서는 오버로딩이 없다: 디폴트 값으로 처리\n",
    "for i in range(2, 5):\n",
    "    print(i)"
   ]
  },
  {
   "cell_type": "code",
   "execution_count": 16,
   "metadata": {},
   "outputs": [
    {
     "name": "stdout",
     "output_type": "stream",
     "text": [
      "0\n",
      "2\n",
      "4\n",
      "6\n",
      "8\n"
     ]
    }
   ],
   "source": [
    "for i in range(0, 10,2): # start, end, step\n",
    "    print(i)"
   ]
  },
  {
   "cell_type": "code",
   "execution_count": 17,
   "metadata": {},
   "outputs": [
    {
     "name": "stdout",
     "output_type": "stream",
     "text": [
      "0\n",
      "earth\n",
      "1\n",
      "air\n",
      "2\n",
      "fire\n",
      "3\n",
      "water\n"
     ]
    }
   ],
   "source": [
    "# 인덱스를 이용하는 방법\n",
    "for i in range(4):\n",
    "    print(i)\n",
    "    print(elements[i])"
   ]
  },
  {
   "cell_type": "code",
   "execution_count": 22,
   "metadata": {},
   "outputs": [
    {
     "name": "stdout",
     "output_type": "stream",
     "text": [
      "<range_iterator object at 0x00000150CD635AB0>\n",
      "[3, 2, 1, 0]\n"
     ]
    }
   ],
   "source": [
    "# range는 객체(object)다.\n",
    "ra = reversed(range(4))\n",
    "print(ra)\n",
    "print(list(ra)) # 리스트로 캐스팅"
   ]
  },
  {
   "cell_type": "code",
   "execution_count": 23,
   "metadata": {},
   "outputs": [
    {
     "name": "stdout",
     "output_type": "stream",
     "text": [
      "[5, 4, 3, 2, 1, 0]\n"
     ]
    }
   ],
   "source": [
    "print(list(range(5, -1, -1)))"
   ]
  },
  {
   "cell_type": "code",
   "execution_count": 26,
   "metadata": {},
   "outputs": [
    {
     "name": "stdout",
     "output_type": "stream",
     "text": [
      "55\n"
     ]
    }
   ],
   "source": [
    "# 증가변수, 누적변수\n",
    "sum = 0\n",
    "for x in range(1, 11):\n",
    "    # sum= sum + x\n",
    "    sum += x\n",
    "print(sum)"
   ]
  },
  {
   "cell_type": "code",
   "execution_count": 29,
   "metadata": {},
   "outputs": [
    {
     "name": "stdout",
     "output_type": "stream",
     "text": [
      "\n",
      "2 * 1 = 2\n",
      "2 * 2 = 4\n",
      "2 * 3 = 6\n",
      "2 * 4 = 8\n",
      "2 * 5 = 10\n",
      "2 * 6 = 12\n",
      "2 * 7 = 14\n",
      "2 * 8 = 16\n",
      "2 * 9 = 18\n",
      "\n",
      "3 * 1 = 3\n",
      "3 * 2 = 6\n",
      "3 * 3 = 9\n",
      "3 * 4 = 12\n",
      "3 * 5 = 15\n",
      "3 * 6 = 18\n",
      "3 * 7 = 21\n",
      "3 * 8 = 24\n",
      "3 * 9 = 27\n"
     ]
    }
   ],
   "source": [
    "# 중첩된 for 문\n",
    "for x in range(2, 4):\n",
    "    print()\n",
    "    for y in range(1,10):\n",
    "        print(x, '*', y, '=', x*y)"
   ]
  },
  {
   "cell_type": "code",
   "execution_count": 33,
   "metadata": {},
   "outputs": [
    {
     "name": "stdout",
     "output_type": "stream",
     "text": [
      "\n",
      "2 * 1 = 2\t3 * 1 = 3\t4 * 1 = 4\t5 * 1 = 5\t6 * 1 = 6\t7 * 1 = 7\t8 * 1 = 8\t9 * 1 = 9\t\n",
      "2 * 2 = 4\t3 * 2 = 6\t4 * 2 = 8\t5 * 2 = 10\t6 * 2 = 12\t7 * 2 = 14\t8 * 2 = 16\t9 * 2 = 18\t\n",
      "2 * 3 = 6\t3 * 3 = 9\t4 * 3 = 12\t5 * 3 = 15\t6 * 3 = 18\t7 * 3 = 21\t8 * 3 = 24\t9 * 3 = 27\t\n",
      "2 * 4 = 8\t3 * 4 = 12\t4 * 4 = 16\t5 * 4 = 20\t6 * 4 = 24\t7 * 4 = 28\t8 * 4 = 32\t9 * 4 = 36\t\n",
      "2 * 5 = 10\t3 * 5 = 15\t4 * 5 = 20\t5 * 5 = 25\t6 * 5 = 30\t7 * 5 = 35\t8 * 5 = 40\t9 * 5 = 45\t\n",
      "2 * 6 = 12\t3 * 6 = 18\t4 * 6 = 24\t5 * 6 = 30\t6 * 6 = 36\t7 * 6 = 42\t8 * 6 = 48\t9 * 6 = 54\t\n",
      "2 * 7 = 14\t3 * 7 = 21\t4 * 7 = 28\t5 * 7 = 35\t6 * 7 = 42\t7 * 7 = 49\t8 * 7 = 56\t9 * 7 = 63\t\n",
      "2 * 8 = 16\t3 * 8 = 24\t4 * 8 = 32\t5 * 8 = 40\t6 * 8 = 48\t7 * 8 = 56\t8 * 8 = 64\t9 * 8 = 72\t\n",
      "2 * 9 = 18\t3 * 9 = 27\t4 * 9 = 36\t5 * 9 = 45\t6 * 9 = 54\t7 * 9 = 63\t8 * 9 = 72\t9 * 9 = 81\t"
     ]
    }
   ],
   "source": [
    "for x in range(1, 10):\n",
    "    print()\n",
    "    for y in range(2,10):\n",
    "        print(y, '*', x, '=', x*y, end = '\\t')"
   ]
  },
  {
   "cell_type": "code",
   "execution_count": 34,
   "metadata": {},
   "outputs": [
    {
     "data": {
      "text/plain": [
       "[0, 1, 2, 3, 4, 5, 6, 7, 8, 9]"
      ]
     },
     "execution_count": 34,
     "metadata": {},
     "output_type": "execute_result"
    }
   ],
   "source": [
    "# 내장 리스트: 동적으로 데이터 생성\n",
    "[i for i in range(10)]"
   ]
  },
  {
   "cell_type": "code",
   "execution_count": 35,
   "metadata": {},
   "outputs": [
    {
     "data": {
      "text/plain": [
       "[0, 1, 4, 9, 16, 25, 36, 49, 64, 81]"
      ]
     },
     "execution_count": 35,
     "metadata": {},
     "output_type": "execute_result"
    }
   ],
   "source": [
    "[i**2 for i in range(10)]"
   ]
  },
  {
   "cell_type": "code",
   "execution_count": 39,
   "metadata": {},
   "outputs": [
    {
     "data": {
      "text/plain": [
       "{0: 0, 1: 1, 2: 8, 3: 27, 4: 64, 5: 125, 6: 216, 7: 343, 8: 512, 9: 729}"
      ]
     },
     "execution_count": 39,
     "metadata": {},
     "output_type": "execute_result"
    }
   ],
   "source": [
    "{i: i**3 for i in range(10)}"
   ]
  },
  {
   "cell_type": "code",
   "execution_count": 40,
   "metadata": {},
   "outputs": [
    {
     "data": {
      "text/plain": [
       "[0, 4, 16, 36, 64]"
      ]
     },
     "execution_count": 40,
     "metadata": {},
     "output_type": "execute_result"
    }
   ],
   "source": [
    "[i**2 for i in range(10) if i%2 == 0]"
   ]
  },
  {
   "cell_type": "code",
   "execution_count": 43,
   "metadata": {},
   "outputs": [
    {
     "data": {
      "text/plain": [
       "[(1, 10),\n",
       " (1, 11),\n",
       " (1, 12),\n",
       " (1, 13),\n",
       " (1, 14),\n",
       " (2, 10),\n",
       " (2, 11),\n",
       " (2, 12),\n",
       " (2, 13),\n",
       " (2, 14),\n",
       " (3, 10),\n",
       " (3, 11),\n",
       " (3, 12),\n",
       " (3, 13),\n",
       " (3, 14),\n",
       " (4, 10),\n",
       " (4, 11),\n",
       " (4, 12),\n",
       " (4, 13),\n",
       " (4, 14)]"
      ]
     },
     "execution_count": 43,
     "metadata": {},
     "output_type": "execute_result"
    }
   ],
   "source": [
    "'''\n",
    "for r in rows:\n",
    "    for c in cols:\n",
    "        (r, c)\n",
    "'''\n",
    "rows = range(1, 5)\n",
    "cols = range(10, 15)\n",
    "vectors = [(r,c) for r in rows for c in cols]\n",
    "vectors"
   ]
  },
  {
   "cell_type": "code",
   "execution_count": 46,
   "metadata": {},
   "outputs": [
    {
     "data": {
      "text/plain": [
       "[1,\n",
       " 2,\n",
       " '3의 배수',\n",
       " 4,\n",
       " '5의 배수',\n",
       " '3의 배수',\n",
       " 7,\n",
       " 8,\n",
       " '3의 배수',\n",
       " '5의 배수',\n",
       " 11,\n",
       " '3의 배수',\n",
       " 13,\n",
       " 14,\n",
       " '3의 배수5의 배수',\n",
       " 16,\n",
       " 17,\n",
       " '3의 배수',\n",
       " 19,\n",
       " '5의 배수']"
      ]
     },
     "execution_count": 46,
     "metadata": {},
     "output_type": "execute_result"
    }
   ],
   "source": [
    "# 문자열 연산자 +, *(반복)\n",
    "# 앞이 참이면 뒤의 것은 계산하지 않음\n",
    "[\"3의 배수\" * (i%3 == 0) + \"5의 배수\" * (i%5 == 0) or i for i in range(1,21)]\n",
    "#[i for i in range(1,21) or \"3의 배수\" * (i%3 == 0) + \"5의 배수\" * (i%5 == 0)]"
   ]
  },
  {
   "cell_type": "code",
   "execution_count": null,
   "metadata": {},
   "outputs": [
    {
     "name": "stdout",
     "output_type": "stream",
     "text": [
      "점수 입력: 88\n",
      "B\n",
      "점수 입력: 88\n"
     ]
    }
   ],
   "source": [
    "# 점수를 입력받아서 A,B,C,D,F 학점으로 출력하시오(점수를 학점으로 mapping)\n",
    "while True:\n",
    "    print('점수 입력: ', end = '')\n",
    "    score = int(input())\n",
    "    if score == 0: # 무한 루프인 경우 종료 조건 지정\n",
    "        break # 반복문 종료 명령\n",
    "    if score >= 90: print('A')\n",
    "    elif score >= 80: print('B')\n",
    "    elif score >= 70: print('C')\n",
    "    elif score >= 60: print('D')\n",
    "    else: print('F')\n"
   ]
  },
  {
   "cell_type": "code",
   "execution_count": null,
   "metadata": {},
   "outputs": [],
   "source": [
    "score = input(\"점수를 입력해라: \")\n",
    "[\"A\" * (score == range(8, 11)) + \"B\" * (score == range(6,8) + \"C\" * (score == range(4,6)) + \"D\" * (score == range(2,4)) + \"F\" * (score==range(0,2)) or score for score in range(0, 100)]"
   ]
  },
  {
   "cell_type": "code",
   "execution_count": null,
   "metadata": {},
   "outputs": [],
   "source": [
    "# 번호 이름 국어 영어 수학 점수를 입력하는 프로그램 작성(3명 분)\n",
    "# 2차원 리스트"
   ]
  },
  {
   "cell_type": "code",
   "execution_count": 4,
   "metadata": {},
   "outputs": [
    {
     "name": "stdout",
     "output_type": "stream",
     "text": [
      "번호 입력: 1\n",
      "이름 입력: 1\n",
      "국어 점수 입력: 1\n",
      "영어 점수 입력: 1\n",
      "수학 점수 입력: 1\n",
      "번호 입력: 2\n",
      "이름 입력: 2\n",
      "국어 점수 입력: 2\n",
      "영어 점수 입력: 2\n",
      "수학 점수 입력: 2\n",
      "번호 입력: 3\n",
      "이름 입력: 3\n",
      "국어 점수 입력: 3\n",
      "영어 점수 입력: 3\n",
      "수학 점수 입력: 3\n",
      "[['1', '1', 1, 1, 1, '2', '2', 2, 2, 2, '3', '3', 3, 3, 3], ['1', '1', 1, 1, 1, '2', '2', 2, 2, 2, '3', '3', 3, 3, 3], ['1', '1', 1, 1, 1, '2', '2', 2, 2, 2, '3', '3', 3, 3, 3]]\n"
     ]
    }
   ],
   "source": [
    "final = []\n",
    "sungjuk = []\n",
    "for i in range(3):    \n",
    "    num = input(\"번호 입력: \")\n",
    "    name = input(\"이름 입력: \")\n",
    "    kor= int(input(\"국어 점수 입력: \"))\n",
    "    eng= int(input(\"영어 점수 입력: \"))\n",
    "    math= int(input(\"수학 점수 입력: \"))\n",
    "    sungjuk.append(num)\n",
    "    sungjuk.append(name)\n",
    "    sungjuk.append(kor)\n",
    "    sungjuk.append(eng)\n",
    "    sungjuk.append(math)\n",
    "    final.append(sungjuk)\n",
    "print(final)\n",
    "    "
   ]
  },
  {
   "cell_type": "code",
   "execution_count": 5,
   "metadata": {},
   "outputs": [
    {
     "name": "stdout",
     "output_type": "stream",
     "text": [
      "번호 입력: 1\n",
      "이름 입력: 1\n",
      "국어 점수 입력: 1\n",
      "영어 점수 입력: 1\n",
      "수학 점수 입력: 1\n",
      "번호 입력: 2\n",
      "이름 입력: 2\n",
      "국어 점수 입력: 2\n",
      "영어 점수 입력: 2\n",
      "수학 점수 입력: 2\n",
      "번호 입력: 3\n",
      "이름 입력: 3\n",
      "국어 점수 입력: 3\n",
      "영어 점수 입력: 3\n",
      "수학 점수 입력: 3\n",
      "[['1', '1', 1, 1, 1], ['2', '2', 2, 2, 2], ['3', '3', 3, 3, 3]]\n"
     ]
    }
   ],
   "source": [
    "final = []\n",
    "for i in range(3):\n",
    "    sungjuk = []\n",
    "    num = input(\"번호 입력: \")\n",
    "    name = input(\"이름 입력: \")\n",
    "    kor= int(input(\"국어 점수 입력: \"))\n",
    "    eng= int(input(\"영어 점수 입력: \"))\n",
    "    math= int(input(\"수학 점수 입력: \"))\n",
    "    sungjuk.append(num)\n",
    "    sungjuk.append(name)\n",
    "    sungjuk.append(kor)\n",
    "    sungjuk.append(eng)\n",
    "    sungjuk.append(math)\n",
    "    final.append(sungjuk)\n",
    "print(final)"
   ]
  },
  {
   "cell_type": "code",
   "execution_count": 4,
   "metadata": {},
   "outputs": [
    {
     "name": "stdout",
     "output_type": "stream",
     "text": [
      "번호 입력: 1\n",
      "이름 입력: 1\n",
      "국어 점수 입력: 33\n",
      "영어 점수 입력: 66\n",
      "수학 점수 입력: 54\n",
      "번호 입력: 2\n",
      "이름 입력: 2\n",
      "국어 점수 입력: 96\n",
      "영어 점수 입력: 98\n",
      "수학 점수 입력: 99\n",
      "번호 입력: 3\n",
      "이름 입력: 3\n",
      "국어 점수 입력: 46\n",
      "영어 점수 입력: 65\n",
      "수학 점수 입력: 69\n",
      "[['1', '1', 33, 66, 54, 51.0, 153, 'F'], ['2', '2', 96, 98, 99, 97.67, 293, 'A'], ['3', '3', 46, 65, 69, 60.0, 180, 'D']]\n"
     ]
    }
   ],
   "source": [
    "# 문제 합계와 평균을 구해서 추가시켜 보시오. 평균은 소수점 셋째자리에서 반올림하여 둘째자리까지 표현.\n",
    "final = []\n",
    "for i in range(3):\n",
    "    sungjuk = []\n",
    "    num = input(\"번호 입력: \")\n",
    "    name = input(\"이름 입력: \")\n",
    "    kor= int(input(\"국어 점수 입력: \"))\n",
    "    eng= int(input(\"영어 점수 입력: \"))\n",
    "    math= int(input(\"수학 점수 입력: \"))\n",
    "    tot = kor+eng+math\n",
    "    avg = round((kor+eng+math)/3, 2)\n",
    "    if avg >= 90:\n",
    "        grade = 'A'\n",
    "    elif avg >= 80:\n",
    "        grade = 'B'\n",
    "    elif avg >= 70:\n",
    "        grade = \"C\"\n",
    "    elif avg >= 60:\n",
    "        grade = \"D\"\n",
    "    else:\n",
    "        grade = 'F'\n",
    "    # 프로그램은 순서적으로 실행됨: 순서를 변경하는 것 - 제어문과 함수\n",
    "    # 순서가 있는 자료구조\n",
    "    sungjuk.append(num)\n",
    "    sungjuk.append(name) \n",
    "    sungjuk.append(kor)\n",
    "    sungjuk.append(eng)\n",
    "    sungjuk.append(math)\n",
    "    sungjuk.append(avg)\n",
    "    sungjuk.append(tot)\n",
    "    sungjuk.append(grade)\n",
    "    final.append(sungjuk)\n",
    "print(final)"
   ]
  },
  {
   "cell_type": "code",
   "execution_count": 17,
   "metadata": {},
   "outputs": [
    {
     "name": "stdout",
     "output_type": "stream",
     "text": [
      "6\n",
      "6\n"
     ]
    },
    {
     "data": {
      "text/plain": [
       "6.0"
      ]
     },
     "execution_count": 17,
     "metadata": {},
     "output_type": "execute_result"
    }
   ],
   "source": [
    "a = int(input())\n",
    "b= int(input())\n",
    "li = []\n",
    "li.append(a)\n",
    "li.append(b)\n",
    "li\n",
    "sum(li)/len(li) # 파이썬은 평균 구하는 함수가 없다"
   ]
  },
  {
   "cell_type": "code",
   "execution_count": 3,
   "metadata": {},
   "outputs": [
    {
     "name": "stdout",
     "output_type": "stream",
     "text": [
      "[['1', '1', 33, 66, 66, 55.0, 165, 'F'], ['2', '2', 56, 58, 59, 57.67, 173, 'F'], ['3', '3', 64, 69, 63, 65.33, 196, 'D']]\n"
     ]
    }
   ],
   "source": [
    "# 정렬하고 싶은 경우\n",
    "# 기본 데이터 타입: str, int, float, list, dict, set, tuple\n",
    "# 파이썬은 모든 것이 객체(변수+함수) : 사용자 정의 데이터 타입\n",
    "final.sort()\n",
    "print(final)\n"
   ]
  },
  {
   "cell_type": "code",
   "execution_count": 3,
   "metadata": {},
   "outputs": [
    {
     "ename": "NameError",
     "evalue": "name 'final' is not defined",
     "output_type": "error",
     "traceback": [
      "\u001b[1;31m---------------------------------------------------------------------------\u001b[0m",
      "\u001b[1;31mNameError\u001b[0m                                 Traceback (most recent call last)",
      "\u001b[1;32m<ipython-input-3-33d9a1c178af>\u001b[0m in \u001b[0;36m<module>\u001b[1;34m\u001b[0m\n\u001b[0;32m      2\u001b[0m \u001b[1;32mdef\u001b[0m \u001b[0mgetKey\u001b[0m\u001b[1;33m(\u001b[0m\u001b[0ma1\u001b[0m\u001b[1;33m)\u001b[0m\u001b[1;33m:\u001b[0m\u001b[1;33m\u001b[0m\u001b[1;33m\u001b[0m\u001b[0m\n\u001b[0;32m      3\u001b[0m     \u001b[1;32mreturn\u001b[0m \u001b[0ma1\u001b[0m\u001b[1;33m[\u001b[0m\u001b[1;36m1\u001b[0m\u001b[1;33m]\u001b[0m\u001b[1;33m\u001b[0m\u001b[1;33m\u001b[0m\u001b[0m\n\u001b[1;32m----> 4\u001b[1;33m \u001b[0mfinal\u001b[0m\u001b[1;33m.\u001b[0m\u001b[0msort\u001b[0m\u001b[1;33m(\u001b[0m\u001b[0mkey\u001b[0m \u001b[1;33m=\u001b[0m \u001b[0mgetKey\u001b[0m\u001b[1;33m,\u001b[0m \u001b[0mreverse\u001b[0m \u001b[1;33m=\u001b[0m \u001b[1;32mTrue\u001b[0m\u001b[1;33m)\u001b[0m \u001b[1;31m# 내림차순\u001b[0m\u001b[1;33m\u001b[0m\u001b[1;33m\u001b[0m\u001b[0m\n\u001b[0m\u001b[0;32m      5\u001b[0m \u001b[0mprint\u001b[0m\u001b[1;33m(\u001b[0m\u001b[0mfinal\u001b[0m\u001b[1;33m)\u001b[0m\u001b[1;33m\u001b[0m\u001b[1;33m\u001b[0m\u001b[0m\n",
      "\u001b[1;31mNameError\u001b[0m: name 'final' is not defined"
     ]
    }
   ],
   "source": [
    "# 함수를 키로 한다. (이름으로 정렬) : 1인분 데이터 전달(번호, 이름, 국어...)\n",
    "def getKey(a1):\n",
    "    return a1[1]\n",
    "final.sort(key = getKey, reverse = True) # 내림차순\n",
    "print(final)"
   ]
  },
  {
   "cell_type": "code",
   "execution_count": null,
   "metadata": {},
   "outputs": [],
   "source": [
    "# lambda 함수: 무명 함수, 간단한 함수를 작성할 때 사용\n",
    "final.sort(key=lambda row: row[1], reverse = True)"
   ]
  },
  {
   "cell_type": "code",
   "execution_count": 7,
   "metadata": {},
   "outputs": [
    {
     "name": "stdout",
     "output_type": "stream",
     "text": [
      "[['2', '2', 96, 98, 99, 97.67, 293, 'A'], ['3', '3', 46, 65, 69, 60.0, 180, 'D'], ['1', '1', 33, 66, 54, 51.0, 153, 'F']]\n"
     ]
    }
   ],
   "source": [
    "# 등수를 입력하는 필드를 추가하시오\n",
    "final.sort(key=lambda final: final[6], reverse = True) # 총점 중심 내림차순\n",
    "print(final)"
   ]
  },
  {
   "cell_type": "code",
   "execution_count": 15,
   "metadata": {},
   "outputs": [
    {
     "name": "stdout",
     "output_type": "stream",
     "text": [
      "번호 이름 국어 수학 영어 평균 합계 등급 "
     ]
    },
    {
     "ename": "IndexError",
     "evalue": "list index out of range",
     "output_type": "error",
     "traceback": [
      "\u001b[1;31m---------------------------------------------------------------------------\u001b[0m",
      "\u001b[1;31mIndexError\u001b[0m                                Traceback (most recent call last)",
      "\u001b[1;32m<ipython-input-15-2fdf6107c534>\u001b[0m in \u001b[0;36m<module>\u001b[1;34m\u001b[0m\n\u001b[0;32m      6\u001b[0m \u001b[0mtot_list\u001b[0m \u001b[1;33m=\u001b[0m \u001b[1;33m[\u001b[0m\u001b[1;34m\"번호\"\u001b[0m\u001b[1;33m,\u001b[0m \u001b[1;34m\"이름\"\u001b[0m\u001b[1;33m,\u001b[0m \u001b[1;34m\"국어\"\u001b[0m\u001b[1;33m,\u001b[0m\u001b[1;34m\"수학\"\u001b[0m\u001b[1;33m,\u001b[0m\u001b[1;34m\"영어\"\u001b[0m\u001b[1;33m,\u001b[0m\u001b[1;34m\"평균\"\u001b[0m\u001b[1;33m,\u001b[0m \u001b[1;34m\"합계\"\u001b[0m\u001b[1;33m,\u001b[0m \u001b[1;34m\"등급\"\u001b[0m\u001b[1;33m]\u001b[0m\u001b[1;33m\u001b[0m\u001b[1;33m\u001b[0m\u001b[0m\n\u001b[0;32m      7\u001b[0m \u001b[1;32mfor\u001b[0m \u001b[0mj\u001b[0m \u001b[1;32min\u001b[0m \u001b[0mrange\u001b[0m\u001b[1;33m(\u001b[0m\u001b[0mlen\u001b[0m\u001b[1;33m(\u001b[0m\u001b[0mfinal\u001b[0m\u001b[1;33m[\u001b[0m\u001b[1;36m0\u001b[0m\u001b[1;33m]\u001b[0m\u001b[1;33m)\u001b[0m\u001b[1;33m)\u001b[0m\u001b[1;33m:\u001b[0m\u001b[1;33m\u001b[0m\u001b[1;33m\u001b[0m\u001b[0m\n\u001b[1;32m----> 8\u001b[1;33m     \u001b[0mprint\u001b[0m\u001b[1;33m(\u001b[0m\u001b[0mtot_list\u001b[0m\u001b[1;33m[\u001b[0m\u001b[0mj\u001b[0m\u001b[1;33m]\u001b[0m\u001b[1;33m,\u001b[0m \u001b[0mend\u001b[0m \u001b[1;33m=\u001b[0m \u001b[1;34m\" \"\u001b[0m\u001b[1;33m)\u001b[0m\u001b[1;33m\u001b[0m\u001b[1;33m\u001b[0m\u001b[0m\n\u001b[0m\u001b[0;32m      9\u001b[0m \u001b[1;32mfor\u001b[0m \u001b[0mi\u001b[0m \u001b[1;32min\u001b[0m \u001b[0mrange\u001b[0m\u001b[1;33m(\u001b[0m\u001b[0mlen\u001b[0m\u001b[1;33m(\u001b[0m\u001b[0mfinal\u001b[0m\u001b[1;33m)\u001b[0m\u001b[1;33m)\u001b[0m\u001b[1;33m:\u001b[0m\u001b[1;33m\u001b[0m\u001b[1;33m\u001b[0m\u001b[0m\n\u001b[0;32m     10\u001b[0m     \u001b[0mprint\u001b[0m\u001b[1;33m(\u001b[0m\u001b[0mend\u001b[0m \u001b[1;33m=\u001b[0m \u001b[1;34m'\\n'\u001b[0m\u001b[1;33m)\u001b[0m\u001b[1;33m\u001b[0m\u001b[1;33m\u001b[0m\u001b[0m\n",
      "\u001b[1;31mIndexError\u001b[0m: list index out of range"
     ]
    }
   ],
   "source": [
    "rank = 0\n",
    "for i in range(len(final)):\n",
    "    rank = rank +1\n",
    "    final[i].append(rank)\n",
    "final.sort(key = lambda row: row[0])\n",
    "tot_list = [\"번호\", \"이름\", \"국어\",\"수학\",\"영어\",\"평균\", \"합계\", \"등급\"]\n",
    "for j in range(len(final[0])):\n",
    "    print(tot_list[j], end = \" \")\n",
    "for i in range(len(final)):\n",
    "    print(end = '\\n')\n",
    "    for j in range(8):\n",
    "        print(final[i][j], end = ' ')\n",
    "print(final)"
   ]
  },
  {
   "cell_type": "code",
   "execution_count": 16,
   "metadata": {},
   "outputs": [
    {
     "ename": "SyntaxError",
     "evalue": "invalid syntax (<ipython-input-16-14774bc5db7e>, line 2)",
     "output_type": "error",
     "traceback": [
      "\u001b[1;36m  File \u001b[1;32m\"<ipython-input-16-14774bc5db7e>\"\u001b[1;36m, line \u001b[1;32m2\u001b[0m\n\u001b[1;33m    1) computer는 숫자를 랜덤으로 발생시킴(1~100)\u001b[0m\n\u001b[1;37m     ^\u001b[0m\n\u001b[1;31mSyntaxError\u001b[0m\u001b[1;31m:\u001b[0m invalid syntax\n"
     ]
    }
   ],
   "source": [
    "'''\n",
    "# 문제 number guess(숫자 맞추기 게임 1:1)\n",
    "1) computer는 숫자를 랜덤으로 발생시킴(1~100)\n",
    "2) 사용자는 숫자를 입력\n",
    "3) 컴퓨터가 낸 숫자와 사용자가 입력한 숫자가 일치하는지 확인하고 일치하면 확인하고 다시 다음 게임으로 진행한다\n",
    "4) 만약 맞추지 못하였으면 사용자가 입력한 숫자가 컴퓨터가 가지고 있는 수보다 큰지 작은지 알려준다\n",
    "5) 무한 루프로 진행하던 게임은 q가 눌리면 종료한다.\n",
    "6) 몇 회만에 맞혔는지 확인하여 출력한다\n",
    "7) 총 진행회수하고 guess 횟수를 누적시킨 다음 평균 시도 횟수를 출력하시오.\n",
    "'''"
   ]
  },
  {
   "cell_type": "code",
   "execution_count": 6,
   "metadata": {},
   "outputs": [
    {
     "name": "stdout",
     "output_type": "stream",
     "text": [
      "컴퓨터가 고른 숫자는: 8\n",
      "번호를 입력해라: 8\n",
      "♥정답이다. 시도한 횟수:  1 라운드별 평균 시도 횟수:  1.0\n",
      "컴퓨터가 고른 숫자는: 48\n",
      "번호를 입력해라: q\n",
      "●●●멈춘다. 라운드별 평균 시도 횟수: 1.0\n"
     ]
    },
    {
     "data": {
      "text/plain": [
       "'\\n나는 모든 elif 문에 int()를 씌웠는데 신혁이는 if 다음 else 문을 두고 거기서 int()로 지정함. 그래서 뒤는 걱정할 필요가 없게 했다!\\n'"
      ]
     },
     "execution_count": 6,
     "metadata": {},
     "output_type": "execute_result"
    }
   ],
   "source": [
    "from random import randint\n",
    "n = randint(1,101)\n",
    "count = 0\n",
    "totalguess = 0\n",
    "guess = 0\n",
    "print(\"컴퓨터가 고른 숫자는:\", n)\n",
    "while 1: \n",
    "    try1 = input(\"번호를 입력해라: \")\n",
    "    guess += 1\n",
    "    if try1 == 'q':\n",
    "        print(\"●●●멈춘다. 라운드별 평균 시도 횟수:\", totalguess/count)\n",
    "        break\n",
    "    elif int(try1) == n:\n",
    "        count += 1\n",
    "        totalguess += guess\n",
    "        print(\"♥정답이다. 시도한 횟수: \", guess, \"라운드별 평균 시도 횟수: \", totalguess/count)\n",
    "        guess = 0\n",
    "        n = randint(1,101)\n",
    "        print(\"컴퓨터가 고른 숫자는:\", n)\n",
    "        continue\n",
    "    elif int(try1) > n:\n",
    "        print(\"더 작은 숫자다\")\n",
    "    elif int(try1) < n:\n",
    "        print(\"더 큰 숫자다\")\n",
    "        \n",
    "'''\n",
    "나는 모든 elif 문에 int()를 씌웠는데 신혁이는 if 다음 else 문을 두고 거기서 int()로 지정함. 그래서 뒤는 걱정할 필요가 없게 했다!\n",
    "'''"
   ]
  },
  {
   "cell_type": "code",
   "execution_count": 11,
   "metadata": {
    "scrolled": true
   },
   "outputs": [
    {
     "name": "stdout",
     "output_type": "stream",
     "text": [
      "상상의 수를 입력(Q to Exit): 46\n",
      "높은 수를 선택하시오\n",
      "상상의 수를 입력(Q to Exit): 60\n",
      "높은 수를 선택하시오\n",
      "상상의 수를 입력(Q to Exit): 80\n",
      "높은 수를 선택하시오\n",
      "상상의 수를 입력(Q to Exit): 90\n",
      "높은 수를 선택하시오\n",
      "상상의 수를 입력(Q to Exit): 95\n",
      "정답!\n",
      "상상의 수를 입력(Q to Exit): q\n",
      "총 게임수:  1 이긴게임수:  1\n",
      "평균 시도횟수:  5.0\n"
     ]
    },
    {
     "ename": "SystemExit",
     "evalue": "0",
     "output_type": "error",
     "traceback": [
      "An exception has occurred, use %tb to see the full traceback.\n",
      "\u001b[1;31mSystemExit\u001b[0m\u001b[1;31m:\u001b[0m 0\n"
     ]
    },
    {
     "name": "stderr",
     "output_type": "stream",
     "text": [
      "C:\\Users\\ICT01_04\\Anaconda3\\lib\\site-packages\\IPython\\core\\interactiveshell.py:3334: UserWarning: To exit: use 'exit', 'quit', or Ctrl-D.\n",
      "  warn(\"To exit: use 'exit', 'quit', or Ctrl-D.\", stacklevel=1)\n"
     ]
    }
   ],
   "source": [
    "from random import randint\n",
    "import sys\n",
    "tot_game = 0 # 총 게임 수\n",
    "win = 0 # 이긴 경우 수\n",
    "tot_attempt =  [] # 전체 시도회수\n",
    "while True:\n",
    "    n = randint(1, 101) # 컴퓨터는 수하나 선택\n",
    "    tot_game += 1; game=0\n",
    "    while True:\n",
    "        ans = input(\"상상의 수를 입력(Q to Exit): \")\n",
    "        game += 1;\n",
    "        if ans.upper() == 'Q':\n",
    "            print(\"총 게임수: \", tot_game-1, \"이긴게임수: \", win)\n",
    "            game_tot = sum(tot_attempt)\n",
    "            print(\"평균 시도횟수: \", game_tot/(tot_game - 1))\n",
    "            sys.exit(0) # 프로그램을 종료\n",
    "        ians = int(ans)\n",
    "        if (n == ians):\n",
    "            print(\"정답!\")\n",
    "            win += 1\n",
    "            tot_attempt.append(game)\n",
    "            break\n",
    "        elif(n>ians):\n",
    "            print(\"높은 수를 선택하시오\")\n",
    "        else: \n",
    "            print(\"작은 수를 선택하시오\")"
   ]
  },
  {
   "cell_type": "code",
   "execution_count": 15,
   "metadata": {},
   "outputs": [
    {
     "name": "stdout",
     "output_type": "stream",
     "text": [
      "아파트의 제곱미터를 입력해라: 160\n",
      "중형\n"
     ]
    }
   ],
   "source": [
    "# 문제 1: 제곱미터로 입력되는 아파트 면적을 평형으로 계산하여 종류 판정\n",
    "# 30평을 기준으로 판정하는 프로그램 작성\n",
    "# 소형(17), 중소형(25), 중형(30)\n",
    "# 평형수 = 제곱미터 / 3.305\n",
    "size1 = int(input(\"아파트의 제곱미터를 입력해라: \"))\n",
    "size = size1/3.305\n",
    "if size >= 30:\n",
    "    result = \"중형\"\n",
    "elif size >= 25:\n",
    "    result = \"중소형\"\n",
    "elif size >= 17:\n",
    "    result = \"소형\"\n",
    "print(result)"
   ]
  },
  {
   "cell_type": "code",
   "execution_count": 3,
   "metadata": {},
   "outputs": [
    {
     "name": "stdout",
     "output_type": "stream",
     "text": [
      "날 수를 입력해라: 1\n",
      "86400.0 초\n"
     ]
    }
   ],
   "source": [
    "# 문제 2: 날 수를 입력하면 이를 초로 변경하는 프로그램 작성\n",
    "day = float(input(\"날 수를 입력해라: \"))\n",
    "print(day*24*60*60, '초')"
   ]
  },
  {
   "cell_type": "code",
   "execution_count": 10,
   "metadata": {},
   "outputs": [
    {
     "name": "stdout",
     "output_type": "stream",
     "text": [
      "소득을 입력해라 ex) 5천만원: 5000 5000\n",
      "1400.0000000000002\n"
     ]
    }
   ],
   "source": [
    "# 소득세 계산: 소득 세율표를 구해보고 이를 이용하여 소득이 들어오면 세금이 얼마인지 계산하라(연봉, 단순히 세율만 적용)\n",
    "# 1천만원 미만시 연봉 9.5% / 1천~4천: 19% / 4천~8천: 28% / 8천 이상: 37%\n",
    "income = int(input(\"소득을 입력해라 ex) 5천만원: 5000 \"))\n",
    "if income >= 8000:\n",
    "    result = income * 0.37\n",
    "elif income > 4000:\n",
    "    result = income * 0.28\n",
    "elif income > 1000:\n",
    "    result = income * 0.19\n",
    "else:\n",
    "    result = income * 0.095\n",
    "print(result)"
   ]
  },
  {
   "cell_type": "code",
   "execution_count": 11,
   "metadata": {},
   "outputs": [
    {
     "name": "stdout",
     "output_type": "stream",
     "text": [
      "소득을 입력해라 ex) 5천만원: 5000 5000\n",
      "945.0\n"
     ]
    }
   ],
   "source": [
    "# 소득세 계산: 소득 세율표를 구해보고 이를 이용하여 소득이 들어오면 세금이 얼마인지 계산하라(연봉, 단순히 세율만 적용)\n",
    "# 1천만원 미만시 연봉 9.5% / 1천~4천: 19% / 4천~8천: 28% / 8천 이상: 37%\n",
    "income = int(input(\"소득을 입력해라 ex) 5천만원: 5000 \"))\n",
    "tax = 0.0\n",
    "if income < 1000:\n",
    "    tax = income *0.095\n",
    "elif income < 4000:\n",
    "    tax = 1000*0.095 + (income-1000)*0.19\n",
    "elif income < 8000:\n",
    "    tax = 1000*0.095 + 3000*0.19 + (income-4000)*0.28\n",
    "else:\n",
    "    tax = 1000*0.095 + 3000*0.19 + 4000*0.28 + (income-4000)*0.37\n",
    "print(tax)"
   ]
  },
  {
   "cell_type": "code",
   "execution_count": 9,
   "metadata": {},
   "outputs": [
    {
     "name": "stdout",
     "output_type": "stream",
     "text": [
      "초등학생 수:1\n",
      "청소년 수:1\n",
      "일반인 수:1\n",
      "경로대상 수:1\n",
      "할인카드 종류(없음, 일반, VIP 중 선택)1\n",
      "총 요금은 33000 원입니다\n"
     ]
    }
   ],
   "source": [
    "# 놀이공원 매표소 단체 입장료 계산하기\n",
    "# 조건: 팀별 인원 구성을 입력(초등, 청소년, 일반인, 경로대상)하면 입장료 소견표에\n",
    "# 정산요금: 초등(5000원) 청소년(10000원) 일반인(15000원) 경로대상(3000원)\n",
    "# 팀별 할인 카드 확인\n",
    "# 카드 없음: 할인 무, 일반카드: 10%, VIP: 20%\n",
    "primary = int(input(\"초등학생 수:\"))\n",
    "juv = int(input(\"청소년 수:\"))\n",
    "general = int(input(\"일반인 수:\"))\n",
    "elder = int(input(\"경로대상 수:\"))\n",
    "discount = input(\"할인카드 종류(없음, 일반, VIP 중 선택)\")\n",
    "price = primary*5000 + juv*10000 + general*15000 + elder*3000\n",
    "if discount == '일반':\n",
    "    result = price * 0.9\n",
    "elif discount == 'VIP':\n",
    "    result = price*0.8\n",
    "else:\n",
    "    result = price\n",
    "print('총 요금은', result, '원입니다')"
   ]
  },
  {
   "cell_type": "code",
   "execution_count": 13,
   "metadata": {
    "scrolled": true
   },
   "outputs": [
    {
     "name": "stdout",
     "output_type": "stream",
     "text": [
      "초등학생 수:1\n",
      "청소년 수:1\n",
      "일반인 수:1\n",
      "경로대상 수:1\n",
      "카드없음(0), 일반카드(1), VIP카드(2)0\n",
      "33000\n"
     ]
    }
   ],
   "source": [
    "# 놀이공원 매표소 단체 입장료 계산하기\n",
    "# 조건: 팀별 인원 구성을 입력(초등, 청소년, 일반인, 경로대상)하면 입장료 소견표에\n",
    "# 정산요금: 초등(5000원) 청소년(10000원) 일반인(15000원) 경로대상(3000원)\n",
    "# 팀별 할인 카드 확인\n",
    "# 카드 없음: 할인 무, 일반카드: 10%, VIP: 20%\n",
    "primary = 5000*int(input(\"초등학생 수:\"))\n",
    "juv = 10000*int(input(\"청소년 수:\"))\n",
    "general = 15000*int(input(\"일반인 수:\"))\n",
    "elder = 3000*int(input(\"경로대상 수:\"))\n",
    "total = primary + juv+general+elder\n",
    "dis = int(input(\"카드없음(0), 일반카드(1), VIP카드(2)\"))\n",
    "select = [total, total*0.9, total*0.8]\n",
    "print(select[dis])"
   ]
  },
  {
   "cell_type": "code",
   "execution_count": 22,
   "metadata": {},
   "outputs": [
    {
     "name": "stdout",
     "output_type": "stream",
     "text": [
      "숫자를 입력하시오: 10\n",
      "         *\n",
      "        **\n",
      "       ***\n",
      "      ****\n",
      "     *****\n",
      "    ******\n",
      "   *******\n",
      "  ********\n",
      " *********\n",
      "**********\n"
     ]
    }
   ],
   "source": [
    "# 이중 반복문\n",
    "numberOfRows = int(input(\"숫자를 입력하시오: \"))\n",
    "for i in range(numberOfRows):\n",
    "    for j in range(numberOfRows-i-1): # 띄어쓰기 횟수\n",
    "        print(\" \", end = '')\n",
    "    for k in range(i+1): # 별의 갯수\n",
    "        print(\"*\", end = '')\n",
    "    print()"
   ]
  },
  {
   "cell_type": "code",
   "execution_count": 143,
   "metadata": {},
   "outputs": [
    {
     "name": "stdout",
     "output_type": "stream",
     "text": [
      "숫자를 입력하시오: 40\n",
      "                                        *\n",
      "                                       ***\n",
      "                                      *****\n",
      "                                     *******\n",
      "                                    *********\n",
      "                                   ***********\n",
      "                                  *************\n",
      "                                 ***************\n",
      "                                *****************\n",
      "                               *******************\n",
      "                              *********************\n",
      "                             ***********************\n",
      "                            *************************\n",
      "                           ***************************\n",
      "                          *****************************\n",
      "                         *******************************\n",
      "                        *********************************\n",
      "                       ***********************************\n",
      "                      *************************************\n",
      "                     ***************************************\n",
      "                    *****************************************\n",
      "                   *******************************************\n",
      "                  *********************************************\n",
      "                 ***********************************************\n",
      "                *************************************************\n",
      "               ***************************************************\n",
      "              *****************************************************\n",
      "             *******************************************************\n",
      "            *********************************************************\n",
      "           ***********************************************************\n",
      "          *************************************************************\n",
      "         ***************************************************************\n",
      "        *****************************************************************\n",
      "       *******************************************************************\n",
      "      *********************************************************************\n",
      "     ***********************************************************************\n",
      "    *************************************************************************\n",
      "   ***************************************************************************\n",
      "  *****************************************************************************\n",
      " *******************************************************************************\n"
     ]
    }
   ],
   "source": [
    "n = int(input(\"숫자를 입력하시오: \"))\n",
    "for i in list(range(1, n*2, 2)):\n",
    "    print(' '*int((n*2-i)/2), \"*\"*i)\n",
    "    "
   ]
  },
  {
   "cell_type": "code",
   "execution_count": 158,
   "metadata": {},
   "outputs": [
    {
     "name": "stdout",
     "output_type": "stream",
     "text": [
      "숫자를 입력하시오: 40\n",
      "\n",
      "*\n",
      "**\n",
      "***\n",
      "****\n",
      "*****\n",
      "******\n",
      "*******\n",
      "********\n",
      "*********\n",
      "**********\n",
      "***********\n",
      "************\n",
      "*************\n",
      "**************\n",
      "***************\n",
      "****************\n",
      "*****************\n",
      "******************\n",
      "*******************\n",
      "********************\n",
      "*******************\n",
      "******************\n",
      "*****************\n",
      "****************\n",
      "***************\n",
      "**************\n",
      "*************\n",
      "************\n",
      "***********\n",
      "**********\n",
      "*********\n",
      "********\n",
      "*******\n",
      "******\n",
      "*****\n",
      "****\n",
      "***\n",
      "**\n",
      "*\n"
     ]
    }
   ],
   "source": [
    "n = int(input(\"숫자를 입력하시오: \"))\n",
    "for i in range(n):\n",
    "    if i <= n/2:\n",
    "        print(\"*\"*(i),end=''); print()\n",
    "    else:\n",
    "        print(\"*\"*(n-i), end=''); print()"
   ]
  },
  {
   "cell_type": "code",
   "execution_count": 176,
   "metadata": {},
   "outputs": [
    {
     "name": "stdout",
     "output_type": "stream",
     "text": [
      "       \n",
      "*      *\n",
      "**      **\n",
      "***     ***\n",
      "****     ****\n",
      "*****    *****\n",
      "****     ****\n",
      "***     ***\n",
      "**      **\n",
      "*      *\n",
      "       \n",
      "                      \n",
      "*                    *\n",
      "**                  **\n",
      "***                ***\n",
      "****              ****\n",
      "*****            *****\n",
      "******          ******\n",
      "*******        *******\n",
      "********      ********\n",
      "*********    *********\n",
      "**********  **********\n",
      "**********  **********\n",
      "*********    *********\n",
      "********      ********\n",
      "*******        *******\n",
      "******          ******\n",
      "*****            *****\n",
      "****              ****\n",
      "***                ***\n",
      "**                  **\n",
      "*                    *\n",
      "                      \n"
     ]
    }
   ],
   "source": [
    "n= 10\n",
    "for i in range(n+1):\n",
    "    if i <= int(n/2):\n",
    "        print(\"*\" *i, ' '*int((n-i)/2), \"*\" *i)\n",
    "    else:\n",
    "        print(\"*\"*(n-i), ' '*int(i/2), \"*\"*(n-i))\n",
    "        \n",
    "\n",
    "n = 10\n",
    "for i in range(n+1):\n",
    "    print(\"*\"*i, \" \"*(n-i)*2, \"*\"*i)\n",
    "for j in range(n+1):\n",
    "    print(\"*\"*(n-j), \" \"*j*2, \"*\"*(n-j))"
   ]
  },
  {
   "cell_type": "code",
   "execution_count": 145,
   "metadata": {},
   "outputs": [
    {
     "name": "stdout",
     "output_type": "stream",
     "text": [
      "숫자를 입력하시오: 40\n",
      "                                                                                  \n",
      "*                                                                                *\n",
      "**                                                                              **\n",
      "***                                                                            ***\n",
      "****                                                                          ****\n",
      "*****                                                                        *****\n",
      "******                                                                      ******\n",
      "*******                                                                    *******\n",
      "********                                                                  ********\n",
      "*********                                                                *********\n",
      "**********                                                              **********\n",
      "***********                                                            ***********\n",
      "************                                                          ************\n",
      "*************                                                        *************\n",
      "**************                                                      **************\n",
      "***************                                                    ***************\n",
      "****************                                                  ****************\n",
      "*****************                                                *****************\n",
      "******************                                              ******************\n",
      "*******************                                            *******************\n",
      "********************                                          ********************\n",
      "*********************                                        *********************\n",
      "**********************                                      **********************\n",
      "***********************                                    ***********************\n",
      "************************                                  ************************\n",
      "*************************                                *************************\n",
      "**************************                              **************************\n",
      "***************************                            ***************************\n",
      "****************************                          ****************************\n",
      "*****************************                        *****************************\n",
      "******************************                      ******************************\n",
      "*******************************                    *******************************\n",
      "********************************                  ********************************\n",
      "*********************************                *********************************\n",
      "**********************************              **********************************\n",
      "***********************************            ***********************************\n",
      "************************************          ************************************\n",
      "*************************************        *************************************\n",
      "**************************************      **************************************\n",
      "***************************************    ***************************************\n",
      "****************************************  ****************************************\n"
     ]
    }
   ],
   "source": [
    "n = int(input(\"숫자를 입력하시오: \"))\n",
    "for i in range(n+1):\n",
    "    print(\"*\"*i, \" \"*(n-i)*2, \"*\"*i)\n"
   ]
  },
  {
   "cell_type": "code",
   "execution_count": 146,
   "metadata": {},
   "outputs": [
    {
     "name": "stdout",
     "output_type": "stream",
     "text": [
      "숫자를 입력하시오: 50\n",
      "                                                                                                      \n",
      "*                                                                                                    *\n",
      "**                                                                                                  **\n",
      "***                                                                                                ***\n",
      "****                                                                                              ****\n",
      "*****                                                                                            *****\n",
      "******                                                                                          ******\n",
      "*******                                                                                        *******\n",
      "********                                                                                      ********\n",
      "*********                                                                                    *********\n",
      "**********                                                                                  **********\n",
      "***********                                                                                ***********\n",
      "************                                                                              ************\n",
      "*************                                                                            *************\n",
      "**************                                                                          **************\n",
      "***************                                                                        ***************\n",
      "****************                                                                      ****************\n",
      "*****************                                                                    *****************\n",
      "******************                                                                  ******************\n",
      "*******************                                                                *******************\n",
      "********************                                                              ********************\n",
      "*********************                                                            *********************\n",
      "**********************                                                          **********************\n",
      "***********************                                                        ***********************\n",
      "************************                                                      ************************\n",
      "*************************                                                    *************************\n",
      "**************************                                                  **************************\n",
      "***************************                                                ***************************\n",
      "****************************                                              ****************************\n",
      "*****************************                                            *****************************\n",
      "******************************                                          ******************************\n",
      "*******************************                                        *******************************\n",
      "********************************                                      ********************************\n",
      "*********************************                                    *********************************\n",
      "**********************************                                  **********************************\n",
      "***********************************                                ***********************************\n",
      "************************************                              ************************************\n",
      "*************************************                            *************************************\n",
      "**************************************                          **************************************\n",
      "***************************************                        ***************************************\n",
      "****************************************                      ****************************************\n",
      "*****************************************                    *****************************************\n",
      "******************************************                  ******************************************\n",
      "*******************************************                *******************************************\n",
      "********************************************              ********************************************\n",
      "*********************************************            *********************************************\n",
      "**********************************************          **********************************************\n",
      "***********************************************        ***********************************************\n",
      "************************************************      ************************************************\n",
      "*************************************************    *************************************************\n",
      "**************************************************  **************************************************\n",
      "******************************************************************************************************\n",
      "******************************************************************************************************\n"
     ]
    }
   ],
   "source": [
    "n = int(input(\"숫자를 입력하시오: \"))\n",
    "for i in range(n+1):\n",
    "    print(\"*\"*i, \" \"*(n-i)*2, \"*\"*i)\n",
    "print(\"*\"*(n+1)*2)\n",
    "print(\"*\"*(n+1)*2)"
   ]
  },
  {
   "cell_type": "code",
   "execution_count": 111,
   "metadata": {
    "scrolled": true
   },
   "outputs": [
    {
     "name": "stdout",
     "output_type": "stream",
     "text": [
      "                      \n",
      "*                    *\n",
      "**                  **\n",
      "***                ***\n",
      "****              ****\n",
      "*****            *****\n",
      "******          ******\n",
      "*******        *******\n",
      "********      ********\n",
      "*********    *********\n",
      "**********  **********\n",
      "**********  **********\n",
      "*********    *********\n",
      "********      ********\n",
      "*******        *******\n",
      "******          ******\n",
      "*****            *****\n",
      "****              ****\n",
      "***                ***\n",
      "**                  **\n",
      "*                    *\n",
      "                      \n"
     ]
    }
   ],
   "source": [
    "n = 10\n",
    "for i in range(n+1):\n",
    "    print(\"*\"*i, \" \"*(n-i)*2, \"*\"*i)\n",
    "for j in range(n+1):\n",
    "    print(\"*\"*(n-j), \" \"*j*2, \"*\"*(n-j))"
   ]
  },
  {
   "cell_type": "code",
   "execution_count": 106,
   "metadata": {},
   "outputs": [
    {
     "name": "stdout",
     "output_type": "stream",
     "text": [
      "         *\n",
      "         ***\n",
      "         *****\n",
      "         *******\n",
      "         *********\n",
      "         ***********\n",
      "         *************\n",
      "         ***************\n",
      "         *****************\n",
      "         *******************\n"
     ]
    }
   ],
   "source": [
    "n = 10\n",
    "for i in range(n):\n",
    "    for k in range(n-1):\n",
    "        print(\" \", end='')\n",
    "    for j in range(i+1):\n",
    "        print(\"*\", end='')\n",
    "    for j in range(i):\n",
    "        print(\"*\", end='')\n",
    "    print()"
   ]
  },
  {
   "cell_type": "code",
   "execution_count": 121,
   "metadata": {},
   "outputs": [
    {
     "name": "stdout",
     "output_type": "stream",
     "text": [
      "*\n",
      "**\n",
      "***\n",
      "****\n",
      "*****\n",
      "******\n",
      "*******\n",
      "********\n",
      "*********\n",
      "**********\n",
      "*********\n",
      "********\n",
      "*******\n",
      "******\n",
      "*****\n",
      "****\n",
      "***\n",
      "**\n",
      "*\n"
     ]
    }
   ],
   "source": [
    "n = 10\n",
    "n2 = n -1\n",
    "for i in range(n):\n",
    "    for j in range(i+1):\n",
    "        print(\"*\", end='')\n",
    "    print()\n",
    "for i in range(n2):\n",
    "    for k in range(n2-i):\n",
    "        print(\"*\", end='')\n",
    "    print()"
   ]
  },
  {
   "cell_type": "code",
   "execution_count": 124,
   "metadata": {},
   "outputs": [
    {
     "name": "stdout",
     "output_type": "stream",
     "text": [
      "*\n",
      "**\n",
      "***\n",
      "****\n",
      "*****\n",
      "*****\n",
      "****\n",
      "***\n",
      "**\n",
      "*\n"
     ]
    }
   ],
   "source": [
    "n = 10\n",
    "for i in range(n):\n",
    "    if i<n/2:\n",
    "        for j in range( i+1):\n",
    "            print(\"*\", end='')\n",
    "    else:\n",
    "        for j in range(n//2-1, -1, -1):\n",
    "            if(j >= i-n//2):\n",
    "                print(\"*\", end=\"\")\n",
    "    print()"
   ]
  },
  {
   "cell_type": "code",
   "execution_count": 119,
   "metadata": {},
   "outputs": [
    {
     "name": "stdout",
     "output_type": "stream",
     "text": [
      "\n",
      "*\n",
      "**\n",
      "***\n",
      "****\n",
      "*****\n",
      "****\n",
      "***\n",
      "**\n",
      "*\n"
     ]
    }
   ],
   "source": [
    "n = 10\n",
    "for i in range(n):\n",
    "    print(\"*\"*(i-int(i/6)*(i*2-n)))"
   ]
  },
  {
   "cell_type": "code",
   "execution_count": 134,
   "metadata": {},
   "outputs": [
    {
     "data": {
      "text/plain": [
       "5"
      ]
     },
     "execution_count": 134,
     "metadata": {},
     "output_type": "execute_result"
    }
   ],
   "source": [
    "int(5.5)"
   ]
  },
  {
   "cell_type": "code",
   "execution_count": null,
   "metadata": {},
   "outputs": [],
   "source": []
  },
  {
   "cell_type": "code",
   "execution_count": null,
   "metadata": {},
   "outputs": [],
   "source": []
  }
 ],
 "metadata": {
  "kernelspec": {
   "display_name": "Python 3",
   "language": "python",
   "name": "python3"
  },
  "language_info": {
   "codemirror_mode": {
    "name": "ipython",
    "version": 3
   },
   "file_extension": ".py",
   "mimetype": "text/x-python",
   "name": "python",
   "nbconvert_exporter": "python",
   "pygments_lexer": "ipython3",
   "version": "3.7.4"
  }
 },
 "nbformat": 4,
 "nbformat_minor": 2
}
