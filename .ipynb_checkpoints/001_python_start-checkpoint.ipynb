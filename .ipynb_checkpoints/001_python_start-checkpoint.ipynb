{
 "cells": [
  {
   "cell_type": "markdown",
   "metadata": {},
   "source": [
    "# 편집 모드와 명령행 모드 (주석)"
   ]
  },
  {
   "cell_type": "code",
   "execution_count": 2,
   "metadata": {},
   "outputs": [
    {
     "name": "stdout",
     "output_type": "stream",
     "text": [
      "10\n",
      "10\n"
     ]
    }
   ],
   "source": [
    "a = 10 # 주소 => 값 저장 (맵핑)\n",
    "b = a # 이때 10이 대입되는게 아니라 a가 가리키는 주소가 대입됨\n",
    "print(a)\n",
    "print(b)"
   ]
  },
  {
   "cell_type": "code",
   "execution_count": 3,
   "metadata": {},
   "outputs": [
    {
     "name": "stdout",
     "output_type": "stream",
     "text": [
      "주소값 대입 140729542091440\n",
      "140729542091440\n"
     ]
    },
    {
     "data": {
      "text/plain": [
       "(None, None)"
      ]
     },
     "execution_count": 3,
     "metadata": {},
     "output_type": "execute_result"
    }
   ],
   "source": [
    "# 주소값 일치\n",
    "print(\"주소값 대입\", id(a)), print(id(b))"
   ]
  },
  {
   "cell_type": "code",
   "execution_count": 4,
   "metadata": {},
   "outputs": [
    {
     "name": "stdout",
     "output_type": "stream",
     "text": [
      "20\n",
      "10\n",
      "주소값 대입 140729542091760\n",
      "140729542091440\n"
     ]
    },
    {
     "data": {
      "text/plain": [
       "(None, None)"
      ]
     },
     "execution_count": 4,
     "metadata": {},
     "output_type": "execute_result"
    }
   ],
   "source": [
    "a = 20\n",
    "print(a)\n",
    "print(b)\n",
    "print(\"주소값 대입\", id(a)), print(id(b))"
   ]
  },
  {
   "cell_type": "markdown",
   "metadata": {},
   "source": [
    "# 파이썬은 대소문자를 구분한다"
   ]
  },
  {
   "cell_type": "code",
   "execution_count": 5,
   "metadata": {},
   "outputs": [
    {
     "data": {
      "text/plain": [
       "int"
      ]
     },
     "execution_count": 5,
     "metadata": {},
     "output_type": "execute_result"
    }
   ],
   "source": [
    "type(a)\n"
   ]
  },
  {
   "cell_type": "code",
   "execution_count": 6,
   "metadata": {},
   "outputs": [
    {
     "name": "stdout",
     "output_type": "stream",
     "text": [
      "10\n"
     ]
    }
   ],
   "source": [
    "a = 10\n",
    "A = 20\n",
    "print(a)"
   ]
  },
  {
   "cell_type": "code",
   "execution_count": null,
   "metadata": {
    "scrolled": true
   },
   "outputs": [
    {
     "name": "stdout",
     "output_type": "stream",
     "text": [
      "수식을 입력해라3+3\n"
     ]
    }
   ],
   "source": [
    "# 데이터 입력: 프롬프트 텍스트\n",
    "problem = input(\"수식을 입력해라\") # 데이터 입출력은 문자열로 입출력 됨\n",
    "print(problem)\n",
    "#print(int(problem)) # 데이터 casting : 데이터형 변환\n",
    "print(eval(problem)) # 평가. 수식을 계산하여 결과 출력"
   ]
  },
  {
   "cell_type": "code",
   "execution_count": null,
   "metadata": {
    "scrolled": true
   },
   "outputs": [],
   "source": [
    "a3 = 4.24e-3 # exponent 지수형\n",
    "a4 = 0o177 # octal 8진수\n",
    "print(a3)\n",
    "print(a4)"
   ]
  },
  {
   "cell_type": "code",
   "execution_count": null,
   "metadata": {},
   "outputs": [],
   "source": [
    "a = 10\n",
    "b = 40\n",
    "print(eval(a+b))"
   ]
  },
  {
   "cell_type": "code",
   "execution_count": null,
   "metadata": {},
   "outputs": [],
   "source": [
    "# fullName 문자열: 기본이 1차원 배열, 숫자 int:4바이트 float:4바이트\n",
    "fullName = input(\"이름을 입력해라: \")\n",
    "n = fullName.rfind(\" \")\n",
    "\n",
    "print(fullName[0]) # 배열과 리스트의 인덱싱은 동일하다\n",
    "print(fullName[1])\n",
    "print(fullName[2])\n",
    "print(n)\n",
    "print(\"이름:\", fullName[n+1:]) # :\n",
    "print(\"성(s):\", fullName[:n])\n",
    "len(fullName)\n",
    "\n",
    "#이름을 입력해라: 강 아아아 라라라 타타타\n",
    "#강\n",
    "# \n",
    "#아\n",
    "#9\n",
    "#이름: 타타타\n",
    "#성(s): 강 아아아 라라라\n",
    "#13"
   ]
  },
  {
   "cell_type": "code",
   "execution_count": null,
   "metadata": {},
   "outputs": [],
   "source": [
    "# 문자열은 'single quotation', 'korea' : double quotation\n",
    "# \"\"\"\"\"\": 3개인 경우는 입력하는 대로 저장함\n",
    "s = 'korea'\n",
    "print(s+s) #\n",
    "print(s*3)\n",
    "print(s[0:])\n",
    "print(s[4])\n",
    "print(s[-1])\n",
    "print(s[1:3])\n",
    "print(s[-2:])\n",
    "print(s[-2:5])\n",
    "print(s[3:-1])\n",
    "print(len(s))\n",
    "s.split('r')\n",
    "'''\n",
    "koreakorea\n",
    "koreakoreakorea\n",
    "korea\n",
    "a\n",
    "a\n",
    "or\n",
    "ea\n",
    "e\n",
    "e\n",
    "5\n",
    "['ko', 'ea']\n",
    "'''"
   ]
  },
  {
   "cell_type": "code",
   "execution_count": null,
   "metadata": {},
   "outputs": [],
   "source": [
    "# csv 데이터: comma로 분리된 데이터\n",
    "t = 'Seoul, Busan, Incheon'.split(',') # 객체.함수()\n",
    "print(t) # 리스트로 분할"
   ]
  },
  {
   "cell_type": "code",
   "execution_count": null,
   "metadata": {},
   "outputs": [],
   "source": [
    "','.join(t)"
   ]
  },
  {
   "cell_type": "code",
   "execution_count": null,
   "metadata": {
    "scrolled": true
   },
   "outputs": [],
   "source": [
    "# 파이썬은 객체 지향 프로그래밍을 설계된 언어임: 모든 것이 객체임, 함수도 객체.\n",
    "# c, java는 객체지향을 별도로 학습\n",
    "# python은 자체가 객체지향언어\n",
    "s = 'korea'\n",
    "\n",
    "\n",
    "print(s.capitalize())\n",
    "print(s.find('r'))\n",
    "print(s.count('re'))\n",
    "print(s.isalpha())\n",
    "print(s.isdigit())\n",
    "print('0123'.isdigit())\n",
    "print(s.replace('r','R')) # 크롤링할 때 유용, 특정 문자를 삭제할 수도 있다\n",
    "print(s.startswith('K')) # 대소문자를 구분하기 때문에 False\n",
    "print(s.endswith('a'))\n",
    "print(s.upper())"
   ]
  },
  {
   "cell_type": "code",
   "execution_count": null,
   "metadata": {},
   "outputs": [],
   "source": [
    "# 산술연산\n",
    "a = 3\n",
    "b = 4\n",
    "print(a +b, a-b, a*b, a/b)\n",
    "print(a/b)\n",
    "print(a%b) # 나머지 연산자: 경우의 수를 생성할 때: 변수가 가질 수 있는 경우의 수를 확인\n",
    "print(1%2)\n",
    "print(2%2)\n",
    "print(3%2)\n",
    "print(4%2)\n",
    "print(7/4)\n",
    "print(7//4) # 몫 연산자"
   ]
  },
  {
   "cell_type": "code",
   "execution_count": null,
   "metadata": {},
   "outputs": [],
   "source": [
    "# 내장함수:\n",
    "# 괄호 종류: [list], {dict}, (tuple) - 함수에서 사용\n",
    "print('sum([1,2,3]) : ', sum([1,2,3]))\n",
    "print('min([1,2,3]) : ', min([1,2,3]))\n",
    "print('abs(-11) : ', abs(-11)) # absolute\n",
    "print('pow(2, 10) : ', pow(2, 10)) # power\n",
    "print('round(3.141592) : ', round(3.141592)) # # 디폴트 매개변수 0이 생략됨\n",
    "print('round(3.141592) : ', round(3.141592, 2)) \n",
    "# 함수의 형태가 다르면 : 오버로딩 \n",
    "# 파이썬은 오버로딩이 없다 => 디폴트 매개변수가 있다"
   ]
  },
  {
   "cell_type": "code",
   "execution_count": null,
   "metadata": {},
   "outputs": [],
   "source": [
    "# 문제: 숫자 4, 7, 8 을 리스트로 초기화하고 합계를 출력하시오\n",
    "q1 = [4, 7, 8]\n",
    "print(sum(q1))"
   ]
  },
  {
   "cell_type": "code",
   "execution_count": null,
   "metadata": {},
   "outputs": [],
   "source": [
    "# 문제: 두 수를 입력 받아 몫과 나머지를 출력하시오\n",
    "q21 = int(input(\"수 입력: \"))\n",
    "q22 = int(input(\"수 입력: \"))\n",
    "print(q21//q22)\n",
    "print(q21%q22)"
   ]
  },
  {
   "cell_type": "code",
   "execution_count": 2,
   "metadata": {},
   "outputs": [
    {
     "name": "stdout",
     "output_type": "stream",
     "text": [
      "정수 입력: 3\n"
     ]
    },
    {
     "ename": "KeyboardInterrupt",
     "evalue": "",
     "output_type": "error",
     "traceback": [
      "\u001b[1;31m---------------------------------------------------------------------------\u001b[0m",
      "\u001b[1;31mKeyboardInterrupt\u001b[0m                         Traceback (most recent call last)",
      "\u001b[1;32m~\\Anaconda3\\lib\\site-packages\\ipykernel\\kernelbase.py\u001b[0m in \u001b[0;36m_input_request\u001b[1;34m(self, prompt, ident, parent, password)\u001b[0m\n\u001b[0;32m    884\u001b[0m             \u001b[1;32mtry\u001b[0m\u001b[1;33m:\u001b[0m\u001b[1;33m\u001b[0m\u001b[1;33m\u001b[0m\u001b[0m\n\u001b[1;32m--> 885\u001b[1;33m                 \u001b[0mident\u001b[0m\u001b[1;33m,\u001b[0m \u001b[0mreply\u001b[0m \u001b[1;33m=\u001b[0m \u001b[0mself\u001b[0m\u001b[1;33m.\u001b[0m\u001b[0msession\u001b[0m\u001b[1;33m.\u001b[0m\u001b[0mrecv\u001b[0m\u001b[1;33m(\u001b[0m\u001b[0mself\u001b[0m\u001b[1;33m.\u001b[0m\u001b[0mstdin_socket\u001b[0m\u001b[1;33m,\u001b[0m \u001b[1;36m0\u001b[0m\u001b[1;33m)\u001b[0m\u001b[1;33m\u001b[0m\u001b[1;33m\u001b[0m\u001b[0m\n\u001b[0m\u001b[0;32m    886\u001b[0m             \u001b[1;32mexcept\u001b[0m \u001b[0mException\u001b[0m\u001b[1;33m:\u001b[0m\u001b[1;33m\u001b[0m\u001b[1;33m\u001b[0m\u001b[0m\n",
      "\u001b[1;32m~\\Anaconda3\\lib\\site-packages\\jupyter_client\\session.py\u001b[0m in \u001b[0;36mrecv\u001b[1;34m(self, socket, mode, content, copy)\u001b[0m\n\u001b[0;32m    802\u001b[0m         \u001b[1;32mtry\u001b[0m\u001b[1;33m:\u001b[0m\u001b[1;33m\u001b[0m\u001b[1;33m\u001b[0m\u001b[0m\n\u001b[1;32m--> 803\u001b[1;33m             \u001b[0mmsg_list\u001b[0m \u001b[1;33m=\u001b[0m \u001b[0msocket\u001b[0m\u001b[1;33m.\u001b[0m\u001b[0mrecv_multipart\u001b[0m\u001b[1;33m(\u001b[0m\u001b[0mmode\u001b[0m\u001b[1;33m,\u001b[0m \u001b[0mcopy\u001b[0m\u001b[1;33m=\u001b[0m\u001b[0mcopy\u001b[0m\u001b[1;33m)\u001b[0m\u001b[1;33m\u001b[0m\u001b[1;33m\u001b[0m\u001b[0m\n\u001b[0m\u001b[0;32m    804\u001b[0m         \u001b[1;32mexcept\u001b[0m \u001b[0mzmq\u001b[0m\u001b[1;33m.\u001b[0m\u001b[0mZMQError\u001b[0m \u001b[1;32mas\u001b[0m \u001b[0me\u001b[0m\u001b[1;33m:\u001b[0m\u001b[1;33m\u001b[0m\u001b[1;33m\u001b[0m\u001b[0m\n",
      "\u001b[1;32m~\\Anaconda3\\lib\\site-packages\\zmq\\sugar\\socket.py\u001b[0m in \u001b[0;36mrecv_multipart\u001b[1;34m(self, flags, copy, track)\u001b[0m\n\u001b[0;32m    474\u001b[0m         \"\"\"\n\u001b[1;32m--> 475\u001b[1;33m         \u001b[0mparts\u001b[0m \u001b[1;33m=\u001b[0m \u001b[1;33m[\u001b[0m\u001b[0mself\u001b[0m\u001b[1;33m.\u001b[0m\u001b[0mrecv\u001b[0m\u001b[1;33m(\u001b[0m\u001b[0mflags\u001b[0m\u001b[1;33m,\u001b[0m \u001b[0mcopy\u001b[0m\u001b[1;33m=\u001b[0m\u001b[0mcopy\u001b[0m\u001b[1;33m,\u001b[0m \u001b[0mtrack\u001b[0m\u001b[1;33m=\u001b[0m\u001b[0mtrack\u001b[0m\u001b[1;33m)\u001b[0m\u001b[1;33m]\u001b[0m\u001b[1;33m\u001b[0m\u001b[1;33m\u001b[0m\u001b[0m\n\u001b[0m\u001b[0;32m    476\u001b[0m         \u001b[1;31m# have first part already, only loop while more to receive\u001b[0m\u001b[1;33m\u001b[0m\u001b[1;33m\u001b[0m\u001b[1;33m\u001b[0m\u001b[0m\n",
      "\u001b[1;32mzmq/backend/cython/socket.pyx\u001b[0m in \u001b[0;36mzmq.backend.cython.socket.Socket.recv\u001b[1;34m()\u001b[0m\n",
      "\u001b[1;32mzmq/backend/cython/socket.pyx\u001b[0m in \u001b[0;36mzmq.backend.cython.socket.Socket.recv\u001b[1;34m()\u001b[0m\n",
      "\u001b[1;32mzmq/backend/cython/socket.pyx\u001b[0m in \u001b[0;36mzmq.backend.cython.socket._recv_copy\u001b[1;34m()\u001b[0m\n",
      "\u001b[1;32m~\\Anaconda3\\lib\\site-packages\\zmq\\backend\\cython\\checkrc.pxd\u001b[0m in \u001b[0;36mzmq.backend.cython.checkrc._check_rc\u001b[1;34m()\u001b[0m\n",
      "\u001b[1;31mKeyboardInterrupt\u001b[0m: ",
      "\nDuring handling of the above exception, another exception occurred:\n",
      "\u001b[1;31mKeyboardInterrupt\u001b[0m                         Traceback (most recent call last)",
      "\u001b[1;32m<ipython-input-2-526420d9d296>\u001b[0m in \u001b[0;36m<module>\u001b[1;34m\u001b[0m\n\u001b[0;32m      1\u001b[0m \u001b[1;31m# 문제: 두 수를 입력 받아 몫과 나머지를 출력하시오\u001b[0m\u001b[1;33m\u001b[0m\u001b[1;33m\u001b[0m\u001b[1;33m\u001b[0m\u001b[0m\n\u001b[1;32m----> 2\u001b[1;33m \u001b[0mnum1\u001b[0m \u001b[1;33m=\u001b[0m \u001b[0minput\u001b[0m\u001b[1;33m(\u001b[0m\u001b[1;34m'정수 입력: '\u001b[0m\u001b[1;33m)\u001b[0m\u001b[1;33m\u001b[0m\u001b[1;33m\u001b[0m\u001b[0m\n\u001b[0m\u001b[0;32m      3\u001b[0m \u001b[0mnum2\u001b[0m \u001b[1;33m=\u001b[0m \u001b[0minput\u001b[0m\u001b[1;33m(\u001b[0m\u001b[1;34m'정수 입력: '\u001b[0m\u001b[1;33m)\u001b[0m\u001b[1;33m\u001b[0m\u001b[1;33m\u001b[0m\u001b[0m\n\u001b[0;32m      4\u001b[0m \u001b[0mhab\u001b[0m \u001b[1;33m=\u001b[0m \u001b[0mint\u001b[0m\u001b[1;33m(\u001b[0m\u001b[0mnum1\u001b[0m\u001b[1;33m)\u001b[0m \u001b[1;33m+\u001b[0m \u001b[0mint\u001b[0m\u001b[1;33m(\u001b[0m\u001b[0mnum2\u001b[0m\u001b[1;33m)\u001b[0m\u001b[1;33m\u001b[0m\u001b[1;33m\u001b[0m\u001b[0m\n\u001b[0;32m      5\u001b[0m \u001b[0mquotient\u001b[0m \u001b[1;33m=\u001b[0m \u001b[0mhab\u001b[0m\u001b[1;33m//\u001b[0m\u001b[1;36m2\u001b[0m\u001b[1;33m\u001b[0m\u001b[1;33m\u001b[0m\u001b[0m\n",
      "\u001b[1;32m~\\Anaconda3\\lib\\site-packages\\ipykernel\\kernelbase.py\u001b[0m in \u001b[0;36mraw_input\u001b[1;34m(self, prompt)\u001b[0m\n\u001b[0;32m    858\u001b[0m             \u001b[0mself\u001b[0m\u001b[1;33m.\u001b[0m\u001b[0m_parent_ident\u001b[0m\u001b[1;33m,\u001b[0m\u001b[1;33m\u001b[0m\u001b[1;33m\u001b[0m\u001b[0m\n\u001b[0;32m    859\u001b[0m             \u001b[0mself\u001b[0m\u001b[1;33m.\u001b[0m\u001b[0m_parent_header\u001b[0m\u001b[1;33m,\u001b[0m\u001b[1;33m\u001b[0m\u001b[1;33m\u001b[0m\u001b[0m\n\u001b[1;32m--> 860\u001b[1;33m             \u001b[0mpassword\u001b[0m\u001b[1;33m=\u001b[0m\u001b[1;32mFalse\u001b[0m\u001b[1;33m,\u001b[0m\u001b[1;33m\u001b[0m\u001b[1;33m\u001b[0m\u001b[0m\n\u001b[0m\u001b[0;32m    861\u001b[0m         )\n\u001b[0;32m    862\u001b[0m \u001b[1;33m\u001b[0m\u001b[0m\n",
      "\u001b[1;32m~\\Anaconda3\\lib\\site-packages\\ipykernel\\kernelbase.py\u001b[0m in \u001b[0;36m_input_request\u001b[1;34m(self, prompt, ident, parent, password)\u001b[0m\n\u001b[0;32m    888\u001b[0m             \u001b[1;32mexcept\u001b[0m \u001b[0mKeyboardInterrupt\u001b[0m\u001b[1;33m:\u001b[0m\u001b[1;33m\u001b[0m\u001b[1;33m\u001b[0m\u001b[0m\n\u001b[0;32m    889\u001b[0m                 \u001b[1;31m# re-raise KeyboardInterrupt, to truncate traceback\u001b[0m\u001b[1;33m\u001b[0m\u001b[1;33m\u001b[0m\u001b[1;33m\u001b[0m\u001b[0m\n\u001b[1;32m--> 890\u001b[1;33m                 \u001b[1;32mraise\u001b[0m \u001b[0mKeyboardInterrupt\u001b[0m\u001b[1;33m\u001b[0m\u001b[1;33m\u001b[0m\u001b[0m\n\u001b[0m\u001b[0;32m    891\u001b[0m             \u001b[1;32melse\u001b[0m\u001b[1;33m:\u001b[0m\u001b[1;33m\u001b[0m\u001b[1;33m\u001b[0m\u001b[0m\n\u001b[0;32m    892\u001b[0m                 \u001b[1;32mbreak\u001b[0m\u001b[1;33m\u001b[0m\u001b[1;33m\u001b[0m\u001b[0m\n",
      "\u001b[1;31mKeyboardInterrupt\u001b[0m: "
     ]
    }
   ],
   "source": [
    "# 문제: 두 수를 입력 받아 몫과 나머지를 출력하시오\n",
    "num1 = input('정수 입력: ')\n",
    "num2 = input('정수 입력: ')\n",
    "hab = int(num1) + int(num2)\n",
    "quotient = hab//2\n",
    "remainder = hab%2\n",
    "print(\"입력된 수를 2로 나눈 결과 몫 = \", quotient, \"나머지 =\", remainder)\n",
    "\n",
    "# 파이썬의 블록은 들여쓰기임 - 블록: 여러 일을 묶는 역할\n",
    "# 조건문, 반복문, 함수\n",
    "if remainder ==0:\n",
    "    print(\"짝수입니다.\")\n",
    "    print(\"짝수입니다.\")\n",
    "    print(\"짝수입니다.\")\n",
    "else: \n",
    "    print(\"홀수입니다.\")"
   ]
  },
  {
   "cell_type": "markdown",
   "metadata": {},
   "source": [
    "# scope"
   ]
  },
  {
   "cell_type": "code",
   "execution_count": 4,
   "metadata": {},
   "outputs": [
    {
     "name": "stdout",
     "output_type": "stream",
     "text": [
      "200\n",
      "300\n"
     ]
    }
   ],
   "source": [
    "x = 300 # 전역 변수 global\n",
    "def myfunc(): # 함수도 리턴 타입을 지정하지 않음\n",
    "    x =200 # 지역 변수: 함수와 생사를 같이 함\n",
    "    print(x)\n",
    "myfunc()\n",
    "print(x)"
   ]
  },
  {
   "cell_type": "code",
   "execution_count": 6,
   "metadata": {},
   "outputs": [
    {
     "name": "stdout",
     "output_type": "stream",
     "text": [
      "Input any number: 6\n",
      "가위\n"
     ]
    }
   ],
   "source": [
    "# 어떤 수가 들어오더라도 나머지가  0: 가위, 1:바위, 2: 보로 출력하시오\n",
    "numb = int(input(\"Input any number: \"))\n",
    "remainder = numb % 3\n",
    "if remainder == 0:\n",
    "    print(\"가위\")\n",
    "elif remainder == 1:\n",
    "    print(\"바위\")\n",
    "elif remainder == 2:\n",
    "    print(\"보\")\n"
   ]
  },
  {
   "cell_type": "code",
   "execution_count": 11,
   "metadata": {},
   "outputs": [
    {
     "name": "stdout",
     "output_type": "stream",
     "text": [
      "4\n",
      "earthS\n",
      "['fire', 'air']\n",
      "['air', 1, 'water', 'fire', 'earthS']\n"
     ]
    }
   ],
   "source": [
    "# random : 프로그램에서 난수는 의사 난수(가짜 난수)임\n",
    "import random\n",
    "random.seed(1000)\n",
    "print(random.randint(1,5))\n",
    "elements = ['earth', 1, 'air', 'fire', 'water']\n",
    "elements[0] = \"earthS\"\n",
    "print(random.choice(elements))\n",
    "print(random.sample(elements,2))\n",
    "random.shuffle(elements)\n",
    "print(elements)"
   ]
  },
  {
   "cell_type": "code",
   "execution_count": 14,
   "metadata": {},
   "outputs": [
    {
     "name": "stdout",
     "output_type": "stream",
     "text": [
      "True\n",
      "True\n",
      "False\n"
     ]
    }
   ],
   "source": [
    "# 비교 연산자와 논리 연산자\n",
    "a = 20\n",
    "b = 10\n",
    "c = a > 10 and b < 50\n",
    "print(c)\n",
    "\n",
    "c= 10<a<50\n",
    "print(c)\n",
    "c = 10<b<50\n",
    "print(c)"
   ]
  },
  {
   "cell_type": "code",
   "execution_count": 17,
   "metadata": {},
   "outputs": [
    {
     "name": "stdout",
     "output_type": "stream",
     "text": [
      "6 5\n"
     ]
    }
   ],
   "source": [
    "# swap\n",
    "x = 5\n",
    "y = 6\n",
    "x, y = y, x # 리턴 값이 2개 이상도 가능\n",
    "print(x,y)"
   ]
  },
  {
   "cell_type": "code",
   "execution_count": 21,
   "metadata": {},
   "outputs": [
    {
     "name": "stdout",
     "output_type": "stream",
     "text": [
      "[3, ['a', 'b', 'c'], 4]\n",
      "['a', 'b']\n",
      "1\n",
      "Life\n"
     ]
    }
   ],
   "source": [
    "# list 안의 list\n",
    "# a에 저장된 것: list 주소, 리스트는 주소를 담아놓은 항아리\n",
    "a = [1,2,3,['a','b','c'],4,5]\n",
    "print(a[2:5])\n",
    "print(a[3][:2])\n",
    "# 3차 리스트\n",
    "a = [1,2,['a','b',['Life', 'is']]]\n",
    "print(a[0])\n",
    "print(a[2][2][0])"
   ]
  },
  {
   "cell_type": "code",
   "execution_count": 26,
   "metadata": {},
   "outputs": [
    {
     "name": "stdout",
     "output_type": "stream",
     "text": [
      "60\n",
      "[10, 20, 30, 40, 50]\n",
      "60\n",
      "80\n",
      "[10, 20, 30, 40, 50, 70]\n"
     ]
    }
   ],
   "source": [
    "# 리스트를 이용한 stack : first-in last-out / LIFO - 복귀주소 저장(함수의 운용)\n",
    "a = [10,20,30,40,50]\n",
    "a.append(60) # append 데이터 추가\n",
    "print(a.pop()) # 뒤에서 데이터를 가지고 오면서 삭제\n",
    "print(a)\n",
    "a.append(60)\n",
    "print(a.pop())\n",
    "a.append(70)\n",
    "a.append(80)\n",
    "print(a.pop()) # pop() 안에 인덱스 번호를 넣으면 그 번호가 빠짐\n",
    "print(a)"
   ]
  },
  {
   "cell_type": "code",
   "execution_count": 32,
   "metadata": {},
   "outputs": [
    {
     "name": "stdout",
     "output_type": "stream",
     "text": [
      "7 12\n",
      "7\n",
      "(9, 20)\n"
     ]
    }
   ],
   "source": [
    "# 파이썬 함수 - 리턴값의 지정은 없음\n",
    "# define\n",
    "def calc(a,b): # 함수의 역할: 작업, 매개변수: 작업을 할 때 필요한 데이터\n",
    "    return a+b, a*b\n",
    "x,y = calc(3,4)\n",
    "print(x,y)\n",
    "print(x)\n",
    "x,y\n",
    "args = (4,5) # 튜플\n",
    "calc(*args) # 포인터* 묶여있는 튜플을 풀어서 넣음"
   ]
  },
  {
   "cell_type": "code",
   "execution_count": 34,
   "metadata": {},
   "outputs": [
    {
     "data": {
      "text/plain": [
       "dict_items([('one', 1), ('two', 2)])"
      ]
     },
     "execution_count": 34,
     "metadata": {},
     "output_type": "execute_result"
    }
   ],
   "source": [
    "# dictionary\n",
    "d = {'one':1, 'two':2} # key ('one')=>저장될 주소값으로 계산됨 - 검색에서 가장 속도가 빠르다\n",
    "d.items()\n",
    "# mongodb => NOSQL"
   ]
  },
  {
   "cell_type": "code",
   "execution_count": 32,
   "metadata": {},
   "outputs": [
    {
     "name": "stdout",
     "output_type": "stream",
     "text": [
      "2\n",
      "True\n",
      "1 개\n"
     ]
    },
    {
     "data": {
      "text/plain": [
       "['seoul', 'jeju', 'incheon']"
      ]
     },
     "execution_count": 32,
     "metadata": {},
     "output_type": "execute_result"
    }
   ],
   "source": [
    "cities = ['seoul','incheon','jeju']\n",
    "print(cities.index('jeju')) # 2\n",
    "print('incheon' in cities) # 포함 연산자\n",
    "print(cities.count('seoul'), '개')\n",
    "sorted(cities) # 정렬한 결과만 출력하고, 실제 데이터는 변하지 않음\n",
    "sorted(cities, reverse = True) #내림차순"
   ]
  },
  {
   "cell_type": "code",
   "execution_count": 33,
   "metadata": {},
   "outputs": [
    {
     "name": "stdout",
     "output_type": "stream",
     "text": [
      "['seoul', 'incheon', 'jeju']\n",
      "['seoul', 'incheon', 'jeju', 'busan']\n",
      "['daegu', 'seoul', 'incheon', 'jeju', 'busan']\n",
      "결합 ['daegu', 'seoul', 'incheon', 'jeju', 'busan', 'gwangju', 'cheongju']\n",
      "['daegu', 'seoul', 'incheon', 'jeju', 'busan', ['daejeon', 'ulsan']]\n",
      "['daegu', 'seoul', 'incheon', 'jeju', 'busan', ['daejeon', 'ulsan'], 'bangkok', 'chiangmai']\n"
     ]
    },
    {
     "data": {
      "text/plain": [
       "\"\\n['seoul', 'incheon', 'jeju']\\n['seoul', 'incheon', 'jeju', 'busan']\\n['daegu', 'seoul', 'incheon', 'jeju', 'busan']\\n결합 ['daegu', 'seoul', 'incheon', 'jeju', 'busan', 'gwangju', 'cheongju']\\n['daegu', 'seoul', 'incheon', 'jeju', 'busan', ['daejeon', 'ulsan']]\\n['daegu', 'seoul', 'incheon', 'jeju', 'busan', ['daejeon', 'ulsan'], 'bangkok', 'chiangmai']\\n\""
      ]
     },
     "execution_count": 33,
     "metadata": {},
     "output_type": "execute_result"
    }
   ],
   "source": [
    "# 리스트는 데이터 삽입 삭제가 용이\n",
    "print(cities)\n",
    "cities.append('busan')\n",
    "print(cities)\n",
    "cities.insert(0, 'daegu')\n",
    "print(cities)\n",
    "other_cities = ['gwangju','cheongju']\n",
    "print('결합', cities + other_cities) # 리스트 + 연산자\n",
    "cities.append(['daejeon', 'ulsan'])\n",
    "print(cities)\n",
    "cities.extend(['bangkok', 'chiangmai'])\n",
    "print(cities)\n",
    "'''\n",
    "['seoul', 'incheon', 'jeju']\n",
    "['seoul', 'incheon', 'jeju', 'busan']\n",
    "['daegu', 'seoul', 'incheon', 'jeju', 'busan']\n",
    "결합 ['daegu', 'seoul', 'incheon', 'jeju', 'busan', 'gwangju', 'cheongju']\n",
    "['daegu', 'seoul', 'incheon', 'jeju', 'busan', ['daejeon', 'ulsan']]\n",
    "['daegu', 'seoul', 'incheon', 'jeju', 'busan', ['daejeon', 'ulsan'], 'bangkok', 'chiangmai']\n",
    "'''"
   ]
  },
  {
   "cell_type": "code",
   "execution_count": 34,
   "metadata": {},
   "outputs": [
    {
     "name": "stdout",
     "output_type": "stream",
     "text": [
      "['daejeon', 'ulsan']\n",
      "ulsan\n",
      "['daegu', 'seoul', 'incheon', 'jeju', 'busan', ['daejeon', 'jeju'], 'bangkok', 'chiangmai']\n",
      "['daegu', 'seoul', 'incheon', 'jeju', 'busan', ['daejeon'], 'bangkok', 'chiangmai']\n"
     ]
    },
    {
     "data": {
      "text/plain": [
       "\"\\na = 리스트\\ndel a[인덱스] # 리스트 a의 해당 인덱스 원소가 삭제됩니다!\\n-> del cities[5][1]\\na.remove(원소) # 리스트 a의 해당 원소가 삭제됩니다!\\n-> cities[5].remove('jeju')\\n\\n\""
      ]
     },
     "execution_count": 34,
     "metadata": {},
     "output_type": "execute_result"
    }
   ],
   "source": [
    "print(cities[5])\n",
    "print(cities[5][1])\n",
    "cities[5][1] = 'jeju'\n",
    "print(cities)\n",
    "del cities[5][1]\n",
    "#cities[5].remove(cities[5][1])\n",
    "#cities[5].remove('jeju')\n",
    "print(cities)\n",
    "'''\n",
    "a = 리스트\n",
    "del a[인덱스] # 리스트 a의 해당 인덱스 원소가 삭제됩니다!\n",
    "-> del cities[5][1]\n",
    "a.remove(원소) # 리스트 a의 해당 원소가 삭제됩니다!\n",
    "-> cities[5].remove('jeju')\n",
    "\n",
    "'''\n"
   ]
  },
  {
   "cell_type": "code",
   "execution_count": 35,
   "metadata": {},
   "outputs": [
    {
     "name": "stdout",
     "output_type": "stream",
     "text": [
      "점수 입력:  60\n",
      "D\n"
     ]
    }
   ],
   "source": [
    "print('점수 입력: ', end=' ')\n",
    "jumsu = int(input())\n",
    "if jumsu >= 90: print('A')\n",
    "elif jumsu >= 80: print('B')\n",
    "elif jumsu >= 70: print('C')\n",
    "elif jumsu >= 60: print('D')\n",
    "elif jumsu < 60: print('F')\n",
    "    "
   ]
  },
  {
   "cell_type": "code",
   "execution_count": 36,
   "metadata": {},
   "outputs": [
    {
     "name": "stdout",
     "output_type": "stream",
     "text": [
      "Input a color: red\n",
      "Input a mode: steady\n",
      "비오는 날\n"
     ]
    }
   ],
   "source": [
    "# 다음 표(color와 mode에 따른 날씨)를 if문을 이용하여 출력해라\n",
    "# (반응에 따른 날씨 예측 프로그램)\n",
    "#           BLUE        RED\n",
    "#  steady   화창        비오는날\n",
    "# flashing  구름        눈오는날\n",
    "\n",
    "color = input(\"Input a color: \")\n",
    "mode = input(\"Input a mode: \")\n",
    "if color == 'blue' and mode == 'steady': print(\"화창\")\n",
    "elif color == 'red' and mode == 'steady': print(\"비오는 날\")\n",
    "elif color == 'blue' and mode == 'flashing': print(\"구름\")\n",
    "elif color == 'red' and mode == 'flashing': print(\"눈오는 날\")"
   ]
  },
  {
   "cell_type": "code",
   "execution_count": 3,
   "metadata": {},
   "outputs": [
    {
     "name": "stdout",
     "output_type": "stream",
     "text": [
      "수입을 입력: 400\n",
      "지출을 입력: 400\n",
      "손익분기점 발생! : 0 원\n"
     ]
    }
   ],
   "source": [
    "'''수입과 지출을 입력 받아 순수입을 출력하는 프로그램을 작성하시오.\n",
    " - 제약조건: 소수점 이하 2자리까지 출력 round()\n",
    "           : 수입과 지출이 동일한 경우를 고려하시오(손익분기점)\n",
    "           : 결과 출력시 경우에 따라 순수익, 순손실도 같이 출력하도록 하시오.'''\n",
    "\n",
    "income = int(input(\"수입을 입력: \"))\n",
    "expense = int(input(\"지출을 입력: \"))\n",
    "revenue = income - expense\n",
    "amount = abs(revenue)\n",
    "amount = round(amount, 2)\n",
    "if revenue < 0:\n",
    "    output = '순손실'\n",
    "elif revenue > 0:\n",
    "    output = '순이익'\n",
    "elif revenue == 0:\n",
    "    output = '손익분기점 발생!'\n",
    "print(output,\":\", amount,\"원\")\n"
   ]
  },
  {
   "cell_type": "code",
   "execution_count": 11,
   "metadata": {},
   "outputs": [
    {
     "name": "stdout",
     "output_type": "stream",
     "text": [
      "총 비용 입력: 56444241\n",
      "총 수익 입력: 124145564874\n",
      "순수익 = 124089120633.00\n"
     ]
    },
    {
     "data": {
      "text/plain": [
       "\"\\n{0:,.2f}'.format(round(loss, 2)) \\n\""
      ]
     },
     "execution_count": 11,
     "metadata": {},
     "output_type": "execute_result"
    }
   ],
   "source": [
    "costs = eval(input(\"총 비용 입력: \"))\n",
    "revenue = eval(input(\"총 수익 입력: \"))\n",
    "if costs == revenue:\n",
    "    result = '손익분기점입니다'\n",
    "else:\n",
    "    if costs < revenue:\n",
    "        profit = revenue - costs\n",
    "        result = '순수익 = {0:,.2f}'.format(round(profit,2)) # 포맷 문자열\n",
    "    else:\n",
    "        loss = costs - revenue\n",
    "        result = '순손실 = {0:,.2f}'.format(round(loss, 2))\n",
    "print(result)\n",
    "\n",
    "'''\n",
    "{0:,.2f}'.format(round(loss, 2)) 상세 설명\n",
    "\n",
    "0 format()안 자료에서 첫 번째 자료 대입\n",
    ": 는\n",
    ", 천 단위로 콤마\n",
    ".2 실제 값이 어떻든 소수점 둘째 자리까지 무조건 표현\n",
    "f float (실수) [아마도...]\n",
    "\n",
    "'''"
   ]
  },
  {
   "cell_type": "code",
   "execution_count": null,
   "metadata": {},
   "outputs": [],
   "source": []
  }
 ],
 "metadata": {
  "kernelspec": {
   "display_name": "Python 3",
   "language": "python",
   "name": "python3"
  },
  "language_info": {
   "codemirror_mode": {
    "name": "ipython",
    "version": 3
   },
   "file_extension": ".py",
   "mimetype": "text/x-python",
   "name": "python",
   "nbconvert_exporter": "python",
   "pygments_lexer": "ipython3",
   "version": "3.7.4"
  }
 },
 "nbformat": 4,
 "nbformat_minor": 2
}
