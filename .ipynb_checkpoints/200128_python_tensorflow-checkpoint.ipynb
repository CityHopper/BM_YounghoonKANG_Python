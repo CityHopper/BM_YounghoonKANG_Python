{
 "cells": [
  {
   "cell_type": "code",
   "execution_count": 14,
   "metadata": {},
   "outputs": [
    {
     "name": "stdout",
     "output_type": "stream",
     "text": [
      "1.14.0\n"
     ]
    }
   ],
   "source": [
    "import tensorflow as tf\n",
    "print(tf.__version__)"
   ]
  },
  {
   "cell_type": "code",
   "execution_count": 2,
   "metadata": {},
   "outputs": [
    {
     "name": "stdout",
     "output_type": "stream",
     "text": [
      "Tensor(\"Const:0\", shape=(), dtype=string)\n",
      "b'Hello, Tensorflow!'\n"
     ]
    }
   ],
   "source": [
    "import tensorflow as tf\n",
    "hello = tf.constant(\"Hello, Tensorflow!\")\n",
    "# tensorflow constant, variables, placeholder\n",
    "sess = tf.Session()\n",
    "print(hello) # tensorflow의 데이터는 직접 확인이 불가\n",
    "print(sess.run(hello)) # numpy 데이터로 변경\n",
    "\n",
    "# Session: 실제로 값을 대입한 그래프가 동작하도록 해줌\n",
    "# https://blog.naver.com/PostView.nhn?blogId=ndb796&logNo=221278249999&redirect=Dlog&widgetTypeCall=true&directAccess=false"
   ]
  },
  {
   "cell_type": "code",
   "execution_count": 20,
   "metadata": {},
   "outputs": [
    {
     "name": "stdout",
     "output_type": "stream",
     "text": [
      "<tf.Variable 'y_6:0' shape=() dtype=int32_ref>\n"
     ]
    }
   ],
   "source": [
    "x = tf.constant(35, name = 'x')\n",
    "# 모델의 그래프 구조 확인\n",
    "# 모델을 그대로 저장(가중치)할 때 메모리 위치를 확인하기 위해서\n",
    "y = tf.Variable(x + 5, name = 'y') # 변수가 있는 경우 반드시 초기화\n",
    "print(y)"
   ]
  },
  {
   "cell_type": "code",
   "execution_count": 21,
   "metadata": {},
   "outputs": [
    {
     "name": "stdout",
     "output_type": "stream",
     "text": [
      "40\n"
     ]
    }
   ],
   "source": [
    "model = tf.global_variables_initializer()\n",
    "with tf.Session() as session:\n",
    "    session.run(model)\n",
    "    print(session.run(y))"
   ]
  },
  {
   "cell_type": "code",
   "execution_count": 10,
   "metadata": {},
   "outputs": [
    {
     "name": "stdout",
     "output_type": "stream",
     "text": [
      "[5 7 9]\n"
     ]
    }
   ],
   "source": [
    "# 판다스에서 데이터를 초기화 시킬땐 리스트나 딕셔너리에 담아서 초기화했다. # 요소끼리 연산 = 배열연산\n",
    "a = tf.constant([1,2,3], name='a') # GPU 공간\n",
    "b = tf.constant([4,5,6], name='b')\n",
    "add_op = a+b\n",
    "\n",
    "with tf.Session() as session:\n",
    "    print(session.run(add_op))"
   ]
  },
  {
   "cell_type": "code",
   "execution_count": 11,
   "metadata": {},
   "outputs": [],
   "source": [
    "# 자료구조: 그래프로 구성\n",
    "a = tf.placeholder(tf.int16) # 데이터 없이 공간만 확보\n",
    "b = tf.placeholder(tf.int16)\n",
    "add = tf.add(a,b)\n",
    "mul = tf.multiply(a,b)\n",
    "total = tf.multiply(add, mul)"
   ]
  },
  {
   "cell_type": "code",
   "execution_count": 13,
   "metadata": {},
   "outputs": [
    {
     "name": "stdout",
     "output_type": "stream",
     "text": [
      "feed 변수곱: 30\n"
     ]
    }
   ],
   "source": [
    "with tf.Session() as sess: # with 안에서 끝나면 Session 메모리 삭제됨?\n",
    "#     print(\"feed 변수합: %i\" % sess.run(add, feed_dict={a:2, b:3})) # 데이터 주입 호출\n",
    "#     print(\"feed 변수곱: %i\" % sess.run(mul, feed_dict={a:2, b:3}))\n",
    "    print(\"feed 변수곱: %i\" % sess.run(total, feed_dict={a:2, b:3}))"
   ]
  },
  {
   "cell_type": "code",
   "execution_count": 22,
   "metadata": {},
   "outputs": [
    {
     "name": "stdout",
     "output_type": "stream",
     "text": [
      "[[12.]]\n"
     ]
    }
   ],
   "source": [
    "matrix1 = tf.constant([[3., 3.]]) # 1x2\n",
    "matrix2 = tf.constant([[2.], [2.]]) # 2x1 => 1x1\n",
    "product = tf.matmul(matrix1, matrix2) # matrix multiply\n",
    "\n",
    "with tf.Session() as sess: # 실행부\n",
    "    result = sess.run(product)\n",
    "    print(result)"
   ]
  },
  {
   "cell_type": "code",
   "execution_count": 26,
   "metadata": {},
   "outputs": [],
   "source": [
    "zeros = tf.zeros([2,2]) # 0,\n",
    "ones = tf.ones([6]) #1\n",
    "\n",
    "uniform = tf.random_uniform([3,3,3], minval=0.0, maxval=10) # 균등분포\n",
    "normal = tf.random_normal([3,3,3], mean=0.0, stddev=2.0) # 정규분포\n",
    "trunc = tf.truncated_normal([2,2], mean=5.0, stddev=1.0) # 표준편차 2배 내의 것으로 초기화\n",
    "random_var = tf.Variable(tf.truncated_normal([2,2]))"
   ]
  },
  {
   "cell_type": "code",
   "execution_count": 34,
   "metadata": {},
   "outputs": [
    {
     "name": "stdout",
     "output_type": "stream",
     "text": [
      "[[5.073092  4.1656046]\n",
      " [4.030782  4.0333514]]\n",
      "변수초기화 [[1.2303077 1.1381614]\n",
      " [1.7087954 0.8803499]]\n"
     ]
    }
   ],
   "source": [
    "init = tf.global_variables_initializer()\n",
    "sess = tf.Session()\n",
    "sess.run(init)\n",
    "print(sess.run(trunc))\n",
    "print(\"변수초기화\", sess.run(random_var))"
   ]
  },
  {
   "cell_type": "code",
   "execution_count": 37,
   "metadata": {},
   "outputs": [
    {
     "name": "stdout",
     "output_type": "stream",
     "text": [
      "<class 'tensorflow.python.framework.tensor_shape.TensorShape'>\n",
      "(6, 2)\n",
      "(2, 6)\n",
      "[[0 0 0 0 0 0]\n",
      " [0 0 0 0 0 0]]\n"
     ]
    }
   ],
   "source": [
    "import tensorflow as tf\n",
    "my_tensor = tf.constant(0, shape=[6,2]) # 6x2 행렬로 상수화하여 저장됨\n",
    "my_static_shape = my_tensor.get_shape()\n",
    "print(type(my_static_shape)) # class\n",
    "print(my_static_shape) # 내용은 run으로 확인. 차수는 get_shape 함수로 확인\n",
    "\n",
    "my_tensor_transposed = tf.transpose(my_tensor)\n",
    "print(my_tensor_transposed.get_shape())\n",
    "print(sess.run(my_tensor_transposed))"
   ]
  },
  {
   "cell_type": "code",
   "execution_count": 38,
   "metadata": {},
   "outputs": [
    {
     "name": "stdout",
     "output_type": "stream",
     "text": [
      "[0. 0.]\n"
     ]
    }
   ],
   "source": [
    "import tensorflow as tf\n",
    "tf.InteractiveSession() # 대화형 세션\n",
    "tf.zeros(2)\n",
    "a = tf.zeros(2)\n",
    "print(a.eval()) # run"
   ]
  },
  {
   "cell_type": "code",
   "execution_count": 40,
   "metadata": {},
   "outputs": [],
   "source": [
    "def showvalue(t):\n",
    "    sess = tf.InteractiveSession()\n",
    "    tf.global_variables_initializer().run() # chaining\n",
    "    print(t.eval())\n",
    "    sess.close()"
   ]
  },
  {
   "cell_type": "code",
   "execution_count": 42,
   "metadata": {},
   "outputs": [
    {
     "name": "stdout",
     "output_type": "stream",
     "text": [
      "[ 3.5 10.1]\n",
      "[-8  5 17]\n"
     ]
    }
   ],
   "source": [
    "c2, c3 = tf.constant([1.2, 5.6]), tf.constant([-4, -1, 7])\n",
    "v2, v3 = tf.Variable([2.3, 4.5]), tf.Variable([-2, 3, 5])\n",
    "showvalue(tf.add_n([c2, v2]))\n",
    "showvalue(tf.add_n([c3, v3, v3])) # 여러개를 더할 수 있도록 '_n' 사용"
   ]
  },
  {
   "cell_type": "code",
   "execution_count": null,
   "metadata": {},
   "outputs": [],
   "source": [
    "# 2x + y + z = 1\n",
    "# 4x + 3y + 4z = 2\n",
    "# -4x + 2y + 2z = -6\n",
    "# A dot x = [1,2,-6] # 행렬 나누기 => 역행렬\n",
    "    y\n",
    "    z\n",
    "# 3x3 3x1 => 3x1 == [1,2,-6]"
   ]
  },
  {
   "cell_type": "code",
   "execution_count": 44,
   "metadata": {},
   "outputs": [
    {
     "name": "stdout",
     "output_type": "stream",
     "text": [
      "[[ 2.  1.  1.]\n",
      " [ 4.  3.  4.]\n",
      " [-4.  2.  2.]]\n",
      "[[ 1.]\n",
      " [ 2.]\n",
      " [-6.]]\n"
     ]
    }
   ],
   "source": [
    "sess = tf.Session()\n",
    "x = tf.constant([2.0, 1.0, 1.0, 4, 3, 4, -4, 2, 2], shape=[3,3])\n",
    "print(sess.run(x))\n",
    "y = tf.constant([1.0, 2, -6], shape=[3,1])\n",
    "print(sess.run(y))"
   ]
  },
  {
   "cell_type": "code",
   "execution_count": 45,
   "metadata": {},
   "outputs": [
    {
     "name": "stdout",
     "output_type": "stream",
     "text": [
      "계수: [[ 1.0000001]\n",
      " [-2.0000002]\n",
      " [ 1.0000001]]\n",
      "[[ 1.0000001]\n",
      " [-2.0000002]\n",
      " [ 1.0000001]]\n"
     ]
    }
   ],
   "source": [
    "z = tf.matrix_solve(x,y) # x의 역행렬을 구해 y를 곱해주는 함수\n",
    "result = sess.run(z)\n",
    "print(\"계수:\", result)\n",
    "print(sess.run(z))\n",
    "# 해가 출력됨. 1, -2, 1"
   ]
  },
  {
   "cell_type": "code",
   "execution_count": 47,
   "metadata": {},
   "outputs": [
    {
     "name": "stdout",
     "output_type": "stream",
     "text": [
      "[1.0000001]\n",
      "[[ 1.0000001]\n",
      " [ 2.       ]\n",
      " [-6.000001 ]]\n"
     ]
    }
   ],
   "source": [
    "print(2.0 * result[0] + 1.0 * result[1] + 1.0 * result[2])\n",
    "print(sess.run(tf.matmul(x,z)))"
   ]
  },
  {
   "cell_type": "code",
   "execution_count": 49,
   "metadata": {},
   "outputs": [
    {
     "name": "stdout",
     "output_type": "stream",
     "text": [
      "해: [[ 1.0000002]\n",
      " [-2.0000005]\n",
      " [ 1.0000002]]\n"
     ]
    }
   ],
   "source": [
    "x_1 = tf.matrix_inverse(x)\n",
    "z = tf.matmul(x_1, y) # 이 두 단계가 matrix_solve와 같음\n",
    "print(\"해:\", sess.run(z))"
   ]
  },
  {
   "cell_type": "code",
   "execution_count": 51,
   "metadata": {},
   "outputs": [
    {
     "name": "stdout",
     "output_type": "stream",
     "text": [
      "[9.508034   0.77286935]\n",
      "[[-0.38631773 -0.92236584]\n",
      " [-0.92236584  0.38631773]]\n",
      "[[-0.42866713  0.8059641 ]\n",
      " [-0.56630695  0.1123824 ]\n",
      " [-0.70394677 -0.58119917]]\n"
     ]
    }
   ],
   "source": [
    "# 특이행렬분해(singular value decomposition) : 행열이 다를 때\n",
    "# PCA 할 때 - 고유값분해 eigenvalue + eigenvector : 정방행렬\n",
    "a = tf.constant([1,2,3,4,5,6], shape=[2,3])\n",
    "a = tf.to_float(a)\n",
    "# 행과 열의 특징을 별도로 뽑는다\n",
    "s, u, v = tf.svd(a) # singular value, u(2x2), s(1x2), v(3x2)\n",
    "print(sess.run(s))\n",
    "print(sess.run(u))\n",
    "print(sess.run(v))"
   ]
  },
  {
   "cell_type": "code",
   "execution_count": 52,
   "metadata": {},
   "outputs": [
    {
     "name": "stdout",
     "output_type": "stream",
     "text": [
      "[[1 0 0 0]\n",
      " [0 2 0 0]\n",
      " [0 0 3 0]\n",
      " [0 0 0 4]]\n"
     ]
    }
   ],
   "source": [
    "diagonal = [1,2,3,4]\n",
    "dia = tf.diag(diagonal) # 대각행렬 - one hot encoding 할 때 많이 씀\n",
    "print(sess.run(dia))"
   ]
  },
  {
   "cell_type": "code",
   "execution_count": null,
   "metadata": {},
   "outputs": [],
   "source": []
  },
  {
   "cell_type": "code",
   "execution_count": 53,
   "metadata": {},
   "outputs": [
    {
     "name": "stdout",
     "output_type": "stream",
     "text": [
      "[1 2 3 4]\n",
      "10\n"
     ]
    }
   ],
   "source": [
    "print(sess.run(tf.diag_part(dia)))\n",
    "print(sess.run(tf.trace(dia))) # 대각 요소의 값을 더해줌"
   ]
  },
  {
   "cell_type": "code",
   "execution_count": 55,
   "metadata": {},
   "outputs": [
    {
     "data": {
      "text/plain": [
       "array([[ 58,  64],\n",
       "       [139, 154]])"
      ]
     },
     "execution_count": 55,
     "metadata": {},
     "output_type": "execute_result"
    }
   ],
   "source": [
    "import numpy as np\n",
    "a = tf.constant([1,2,3,4,5,6], shape=[2,3])\n",
    "b = tf.constant([7,8,9,10,11,12], shape=[3,2])\n",
    "c = tf.matmul(a,b)\n",
    "sess.run(c) # 2x2"
   ]
  },
  {
   "cell_type": "code",
   "execution_count": 66,
   "metadata": {},
   "outputs": [
    {
     "name": "stdout",
     "output_type": "stream",
     "text": [
      "[[[ 1  2  3]\n",
      "  [ 4  5  6]]\n",
      "\n",
      " [[ 7  8  9]\n",
      "  [10 11 12]]]\n",
      "[[[13 14]\n",
      "  [15 16]\n",
      "  [17 18]]\n",
      "\n",
      " [[19 20]\n",
      "  [21 22]\n",
      "  [23 24]]]\n"
     ]
    },
    {
     "data": {
      "text/plain": [
       "array([[[ 94, 100],\n",
       "        [229, 244]],\n",
       "\n",
       "       [[508, 532],\n",
       "        [697, 730]]])"
      ]
     },
     "execution_count": 66,
     "metadata": {},
     "output_type": "execute_result"
    }
   ],
   "source": [
    "# 행열: 행과 열을 확인하고 앞의 것은 개수 어떻게 층을 이루가 있는가\n",
    "a = tf.constant(np.arange(1,13, dtype=np.int32), shape=[2,2,3]) # 행열을 중심으로 하여 데이터 표현\n",
    "print(sess.run(a))\n",
    "b = tf.constant(np.arange(13,25, dtype=np.int32), shape=[2,3,2]) # shape에서 뒤의 두가지(행과 열)만 판단\n",
    "print(sess.run(b))\n",
    "c = tf.matmul(a,b)\n",
    "sess.run(c) # 2x2x2\n",
    "# 2x2가 4개"
   ]
  },
  {
   "cell_type": "code",
   "execution_count": 65,
   "metadata": {},
   "outputs": [
    {
     "name": "stdout",
     "output_type": "stream",
     "text": [
      "[[[[ 1  2  3]\n",
      "   [ 4  5  6]]\n",
      "\n",
      "  [[ 7  8  9]\n",
      "   [10 11 12]]]\n",
      "\n",
      "\n",
      " [[[13 14 15]\n",
      "   [16 17 18]]\n",
      "\n",
      "  [[19 20 21]\n",
      "   [22 23 24]]]]\n",
      "[[[[25 26]\n",
      "   [27 28]\n",
      "   [29 30]]\n",
      "\n",
      "  [[31 32]\n",
      "   [33 34]\n",
      "   [35 36]]]\n",
      "\n",
      "\n",
      " [[[37 38]\n",
      "   [39 40]\n",
      "   [41 42]]\n",
      "\n",
      "  [[43 44]\n",
      "   [45 46]\n",
      "   [47 48]]]]\n",
      "[[[[  14   32]\n",
      "   [  32   77]]\n",
      "\n",
      "  [[ 194  266]\n",
      "   [ 266  365]]]\n",
      "\n",
      "\n",
      " [[[ 590  716]\n",
      "   [ 716  869]]\n",
      "\n",
      "  [[1202 1382]\n",
      "   [1382 1589]]]]\n"
     ]
    },
    {
     "data": {
      "text/plain": [
       "<tf.Tensor 'MatMul_15:0' shape=(2, 2, 2, 2) dtype=int32>"
      ]
     },
     "execution_count": 65,
     "metadata": {},
     "output_type": "execute_result"
    }
   ],
   "source": [
    "# a를 제곱해보자 (자기 자신을 제곱하려면 전치해야함)\n",
    "a = tf.constant(np.arange(1,25, dtype=np.int32), shape=[2,2,2,3]) # 행열을 중심으로 하여 데이터 표현\n",
    "print(sess.run(a))\n",
    "b = tf.constant(np.arange(25,49, dtype=np.int32), shape=[2,2,3,2]) # shape에서 뒤의 두가지(행과 열)만 판단\n",
    "print(sess.run(b))\n",
    "c = tf.matmul(a,b)\n",
    "sess.run(c)\n",
    "# 2x2가 4개\n",
    "\n",
    "d = tf.matmul(a, tf.transpose(a, perm=[0,1,3,2]))\n",
    "print(sess.run(d))\n",
    "tf.matmul(a, a, transpose_b=True) # 전치해서 자기 제곱. 바로 위와 같은 코드"
   ]
  },
  {
   "cell_type": "code",
   "execution_count": 69,
   "metadata": {},
   "outputs": [
    {
     "name": "stdout",
     "output_type": "stream",
     "text": [
      "[2 2 3]\n"
     ]
    },
    {
     "data": {
      "text/plain": [
       "array([[[ 1,  7],\n",
       "        [ 4, 10]],\n",
       "\n",
       "       [[ 2,  8],\n",
       "        [ 5, 11]],\n",
       "\n",
       "       [[ 3,  9],\n",
       "        [ 6, 12]]])"
      ]
     },
     "execution_count": 69,
     "metadata": {},
     "output_type": "execute_result"
    }
   ],
   "source": [
    "                            # 0 1 2\n",
    "x = tf.constant([[[1,2,3], # 2x2x3 => 제곱이 되려면 2x3x2(0,2,1)\n",
    "                 [4,5,6]],\n",
    "                [[7,8,9],\n",
    "                [10,11,12]]])\n",
    "print(sess.run(tf.shape(x)))\n",
    "sess.run(tf.transpose(x)) # 3x2x2 : # 디폴트 2 1 0"
   ]
  },
  {
   "cell_type": "code",
   "execution_count": 71,
   "metadata": {},
   "outputs": [
    {
     "data": {
      "text/plain": [
       "array([[[ 1,  7],\n",
       "        [ 2,  8],\n",
       "        [ 3,  9]],\n",
       "\n",
       "       [[ 4, 10],\n",
       "        [ 5, 11],\n",
       "        [ 6, 12]]])"
      ]
     },
     "execution_count": 71,
     "metadata": {},
     "output_type": "execute_result"
    }
   ],
   "source": [
    "y = tf.transpose(x, perm=[0,2,1])\n",
    "sess.run(tf.transpose(y))"
   ]
  },
  {
   "cell_type": "code",
   "execution_count": 72,
   "metadata": {},
   "outputs": [
    {
     "data": {
      "text/plain": [
       "array([[[ 14,  32],\n",
       "        [ 32,  77]],\n",
       "\n",
       "       [[194, 266],\n",
       "        [266, 365]]])"
      ]
     },
     "execution_count": 72,
     "metadata": {},
     "output_type": "execute_result"
    }
   ],
   "source": [
    "sess.run(tf.matmul(x, tf.transpose(x, perm=[0,2,1])))"
   ]
  },
  {
   "cell_type": "code",
   "execution_count": 73,
   "metadata": {},
   "outputs": [
    {
     "data": {
      "text/plain": [
       "array([[[[[[1]],\n",
       "\n",
       "          [[2]],\n",
       "\n",
       "          [[3]]]],\n",
       "\n",
       "\n",
       "\n",
       "        [[[[4]],\n",
       "\n",
       "          [[5]],\n",
       "\n",
       "          [[6]]]]]])"
      ]
     },
     "execution_count": 73,
     "metadata": {},
     "output_type": "execute_result"
    }
   ],
   "source": [
    "t = [1,2,3,4,5,6] # 1개 행, 6개의 데이터를 6차원으로 나누기\n",
    "t = tf.reshape(t, [1,2,1,3,1,1]) # 2x3=6 -> \n",
    "sess.run(t)"
   ]
  },
  {
   "cell_type": "code",
   "execution_count": 74,
   "metadata": {},
   "outputs": [
    {
     "name": "stdout",
     "output_type": "stream",
     "text": [
      "t의 차원은 [1 2 1 3 1 1]\n"
     ]
    }
   ],
   "source": [
    "print(\"t의 차원은\", sess.run(tf.shape(t)))"
   ]
  },
  {
   "cell_type": "code",
   "execution_count": 75,
   "metadata": {},
   "outputs": [
    {
     "name": "stdout",
     "output_type": "stream",
     "text": [
      "차원의 수를 축소할 때 [2 3]\n"
     ]
    }
   ],
   "source": [
    "print(\"차원의 수를 축소할 때\", sess.run(tf.shape(tf.squeeze(t))))"
   ]
  },
  {
   "cell_type": "code",
   "execution_count": 86,
   "metadata": {},
   "outputs": [
    {
     "name": "stdout",
     "output_type": "stream",
     "text": [
      "[[ 1  2  3  4  5  6]\n",
      " [ 7  8  9 10 11 12]]\n",
      "-------------------\n",
      "[[ 1  2  3  4  5  6]\n",
      " [ 7  8  9 10 11 12]]\n",
      "-------------------\n",
      "[[[ 1  2  3]\n",
      "  [ 4  5  6]]\n",
      "\n",
      " [[ 7  8  9]\n",
      "  [10 11 12]]]\n"
     ]
    }
   ],
   "source": [
    "tensor = [1,2,3,4,5,6,7,8,9,10,11,12]\n",
    "print(sess.run(tf.reshape(tensor,[2,-1]))) # -가 들어가면 계산해서 알아서 채워라\n",
    "print(\"-------------------\")\n",
    "print(sess.run(tf.reshape(tensor, [-1, 6])))\n",
    "print(\"-------------------\")\n",
    "print(sess.run(tf.reshape(tensor, [2, -1, 3])))"
   ]
  },
  {
   "cell_type": "code",
   "execution_count": 84,
   "metadata": {},
   "outputs": [
    {
     "name": "stdout",
     "output_type": "stream",
     "text": [
      "Tensor(\"ExpandDims_1:0\", shape=(1, 1, 2, 1, 3, 1, 1), dtype=int32)\n"
     ]
    }
   ],
   "source": [
    "print(tf.expand_dims(t,0)) # 차원 확대"
   ]
  },
  {
   "cell_type": "code",
   "execution_count": 91,
   "metadata": {},
   "outputs": [
    {
     "name": "stdout",
     "output_type": "stream",
     "text": [
      "[[0 0 0 0 0 0 0]\n",
      " [0 0 1 2 3 0 0]\n",
      " [0 0 4 5 6 0 0]\n",
      " [0 0 0 0 0 0 0]]\n"
     ]
    }
   ],
   "source": [
    "# paddings 충전재\n",
    "t = [[1,2,3],[4,5,6]] # 2x3 => 4x7\n",
    "paddings = [[1,1],[2,2]] # 행을 위에 하나 밑에 하나 추가 + 열을 왼쪽에 2개 오른쪽에 2개 추가\n",
    "print(sess.run(tf.pad(t, paddings, \"CONSTANT\")))"
   ]
  },
  {
   "cell_type": "code",
   "execution_count": 92,
   "metadata": {},
   "outputs": [
    {
     "name": "stdout",
     "output_type": "stream",
     "text": [
      "[[5 4 5 6 5]\n",
      " [2 1 2 3 2]\n",
      " [5 4 5 6 5]\n",
      " [2 1 2 3 2]]\n"
     ]
    }
   ],
   "source": [
    "# 수를 반사해서 채움\n",
    "paddings = [[1,1,], [1,1]] # 4x5\n",
    "print(sess.run(tf.pad(t,paddings,\"REFLECT\")))"
   ]
  },
  {
   "cell_type": "code",
   "execution_count": 96,
   "metadata": {},
   "outputs": [
    {
     "name": "stdout",
     "output_type": "stream",
     "text": [
      "[[6 5 4 4 5 6 6 5 4]\n",
      " [3 2 1 1 2 3 3 2 1]\n",
      " [3 2 1 1 2 3 3 2 1]\n",
      " [6 5 4 4 5 6 6 5 4]\n",
      " [6 5 4 4 5 6 6 5 4]\n",
      " [3 2 1 1 2 3 3 2 1]]\n"
     ]
    }
   ],
   "source": [
    "# 거울에 비친 듯 수를 채움\n",
    "paddings = [[2,2,], [3,3]]\n",
    "print(sess.run(tf.pad(t, paddings, \"SYMMETRIC\")))"
   ]
  },
  {
   "cell_type": "markdown",
   "metadata": {},
   "source": [
    "# 다차 방정식의 해를 구하는 방법들\n",
    "- 무작위 대입법\n",
    "- 역행렬 이용\n",
    "- 입출력 데이터만: 계수 결정(가중치 학습을 통해서 학습)"
   ]
  },
  {
   "cell_type": "code",
   "execution_count": 104,
   "metadata": {},
   "outputs": [
    {
     "name": "stdout",
     "output_type": "stream",
     "text": [
      "[0.90160424 0.5707929  0.8607433  0.09412738 0.77912205 0.6895539\n",
      " 0.16438058 0.58987063 0.6694536  0.8989239  0.44048008 0.8927129\n",
      " 0.8545097  0.49542663 0.5529682  0.35968837 0.39535007 0.5769601\n",
      " 0.07599767 0.14843096 0.9436165  0.39564493 0.44753236 0.99959195\n",
      " 0.4102881  0.12286382 0.8678134  0.14908755 0.38730657 0.53173435\n",
      " 0.82774866 0.60519916 0.2947212  0.4199242  0.29629683 0.18754563\n",
      " 0.68207544 0.4857058  0.56368184 0.49938986 0.37910157 0.30652782\n",
      " 0.21850193 0.5475331  0.9522866  0.9895085  0.20929228 0.67320603\n",
      " 0.79826814 0.83640087 0.14148708 0.7486199  0.5407044  0.82187986\n",
      " 0.04729633 0.2752235  0.37572375 0.3033077  0.06388444 0.30362716\n",
      " 0.57155305 0.42360184 0.8564566  0.28528732 0.7813326  0.74949443\n",
      " 0.79007804 0.5611649  0.13100982 0.59372693 0.89638865 0.49929866\n",
      " 0.7918437  0.38076407 0.7785356  0.45087713 0.99390286 0.74221396\n",
      " 0.29099062 0.45858392 0.8320528  0.62181824 0.02915575 0.6744896\n",
      " 0.7603911  0.80775136 0.13794011 0.30996042 0.07903533 0.09741468\n",
      " 0.22916384 0.43105438 0.6384145  0.72241473 0.6335095  0.2889413\n",
      " 0.88597697 0.26893368 0.31762356 0.45585975]\n",
      "[0.39016044 0.3570793  0.38607433 0.30941275 0.37791222 0.3689554\n",
      " 0.31643808 0.35898706 0.3669454  0.3898924  0.34404802 0.38927132\n",
      " 0.385451   0.34954268 0.35529682 0.33596885 0.33953503 0.35769603\n",
      " 0.30759978 0.31484312 0.39436167 0.3395645  0.34475324 0.3999592\n",
      " 0.3410288  0.3122864  0.38678136 0.31490877 0.33873066 0.35317343\n",
      " 0.3827749  0.36051992 0.32947212 0.34199244 0.3296297  0.31875458\n",
      " 0.36820757 0.3485706  0.35636818 0.349939   0.33791018 0.3306528\n",
      " 0.3218502  0.35475332 0.39522868 0.39895087 0.32092923 0.36732063\n",
      " 0.37982684 0.3836401  0.31414872 0.37486202 0.35407045 0.382188\n",
      " 0.30472964 0.32752237 0.3375724  0.3303308  0.30638847 0.33036274\n",
      " 0.35715532 0.3423602  0.3856457  0.32852873 0.37813327 0.37494946\n",
      " 0.37900782 0.3561165  0.313101   0.3593727  0.38963887 0.34992987\n",
      " 0.3791844  0.3380764  0.37785357 0.34508774 0.3993903  0.3742214\n",
      " 0.32909906 0.3458584  0.3832053  0.36218184 0.30291557 0.367449\n",
      " 0.37603912 0.38077515 0.31379402 0.33099607 0.30790356 0.30974147\n",
      " 0.3229164  0.34310544 0.36384147 0.3722415  0.36335096 0.32889414\n",
      " 0.38859773 0.3268934  0.33176237 0.345586  ]\n"
     ]
    },
    {
     "data": {
      "text/plain": [
       "100"
      ]
     },
     "execution_count": 104,
     "metadata": {},
     "output_type": "execute_result"
    }
   ],
   "source": [
    "# 데이터로부터 규칙을 발견 -> 분류와 예측을 하기 위해서\n",
    "import numpy as np\n",
    "import tensorflow as tf\n",
    "# 데이터 생성 => mini batch\n",
    "x_data = np.random.rand(100).astype(np.float32)\n",
    "y_data = x_data * 0.1 + 0.3 # 선형방정식으로 만듬\n",
    "print(x_data)\n",
    "print(y_data)\n",
    "len(y_data)"
   ]
  },
  {
   "cell_type": "code",
   "execution_count": 106,
   "metadata": {},
   "outputs": [],
   "source": [
    "# 가중치(설명력)와 bias\n",
    "W = tf.Variable(tf.random_uniform([1], -1.0, 1.0)) # 균등분포 # variable에는 가중치가 들어감\n",
    "b = tf.Variable(tf.zeros([1])) # bias: activation을 결정(활성화1 비활성화0)\n",
    "# 가중치에는 꼭 bias가 한 개씩 결합\n",
    "sess = tf.Session()\n",
    "y = W * x_data + b # 예측"
   ]
  },
  {
   "cell_type": "code",
   "execution_count": 107,
   "metadata": {},
   "outputs": [],
   "source": [
    "# loss function : MSE: 2차원인 경우 포물선을 이루고 최적점은 한 개\n",
    "loss = tf.reduce_mean(tf.square(y - y_data))\n",
    "# 경사하강법 - 기울기(미분을 이용해서 기울기가 -면 가중치에 차를 더해주고 +이면 가중치에 감하는 연산)\n",
    "optimizer = tf.train.GradientDescentOptimizer(0.5) # 학습율\n",
    "train = optimizer.minimize(loss)"
   ]
  },
  {
   "cell_type": "code",
   "execution_count": 108,
   "metadata": {},
   "outputs": [],
   "source": [
    "init= tf.global_variables_initializer() # 세션을 실행하기 전\n",
    "sess.run(init)"
   ]
  },
  {
   "cell_type": "code",
   "execution_count": 109,
   "metadata": {},
   "outputs": [
    {
     "name": "stdout",
     "output_type": "stream",
     "text": [
      "0 [-0.24626201] [0.695487]\n",
      "20 [-0.03748895] [0.37558317]\n",
      "40 [0.05632957] [0.3240074]\n",
      "60 [0.08612902] [0.30762544]\n",
      "80 [0.09559419] [0.30242208]\n",
      "100 [0.0986006] [0.30076933]\n",
      "120 [0.09955551] [0.30024436]\n",
      "140 [0.09985882] [0.30007762]\n",
      "160 [0.09995515] [0.3000247]\n",
      "180 [0.09998576] [0.30000785]\n",
      "200 [0.09999549] [0.3000025]\n"
     ]
    }
   ],
   "source": [
    "for step in range(201):\n",
    "    sess.run(train)\n",
    "    if step % 20 == 0:\n",
    "        print(step, sess.run(W), sess.run(b)) # 0.1 + 0.3"
   ]
  },
  {
   "cell_type": "code",
   "execution_count": null,
   "metadata": {},
   "outputs": [],
   "source": [
    "# 아래는 위의 다른 버전인데 뭐가 다른지 모르겠다########################################### 주입함수"
   ]
  },
  {
   "cell_type": "code",
   "execution_count": 124,
   "metadata": {},
   "outputs": [],
   "source": [
    "# 가중치(설명력)와 bias\n",
    "x = tf.placeholder(tf.float32, name='x')\n",
    "y = tf.placeholder(tf.float32)\n",
    "\n",
    "W = tf.Variable(tf.random_uniform([1], -1.0, 1.0)) # 균등분포 # variable에는 가중치가 들어감\n",
    "b = tf.Variable(tf.zeros([1])) # bias: activation을 결정(활성화1 비활성화0)\n",
    "# 가중치에는 꼭 bias가 한 개씩 결합\n",
    "sess = tf.Session()\n",
    "y_model = W * x + b # 예측"
   ]
  },
  {
   "cell_type": "code",
   "execution_count": 126,
   "metadata": {},
   "outputs": [],
   "source": [
    "# loss function : MSE: 2차원인 경우 포물선을 이루고 최적점은 한 개\n",
    "loss = tf.reduce_mean(tf.square(y_model - y))\n",
    "# 경사하강법 - 기울기(미분을 이용해서 기울기가 -면 가중치에 차를 더해주고 +이면 가중치에 감하는 연산)\n",
    "optimizer = tf.train.GradientDescentOptimizer(0.5) # 학습율\n",
    "train = optimizer.minimize(loss)"
   ]
  },
  {
   "cell_type": "code",
   "execution_count": 127,
   "metadata": {},
   "outputs": [],
   "source": [
    "init= tf.global_variables_initializer() # 세션을 실행하기 전\n",
    "sess.run(init)"
   ]
  },
  {
   "cell_type": "code",
   "execution_count": 128,
   "metadata": {},
   "outputs": [
    {
     "name": "stdout",
     "output_type": "stream",
     "text": [
      "0 [0.21762669] [0.33001965]\n",
      "20 [0.12466554] [0.2864404]\n",
      "40 [0.10783448] [0.2956931]\n",
      "60 [0.10248847] [0.29863203]\n",
      "80 [0.10079043] [0.2995655]\n",
      "100 [0.10025106] [0.299862]\n",
      "120 [0.10007975] [0.29995617]\n",
      "140 [0.10002534] [0.2999861]\n",
      "160 [0.10000806] [0.29999557]\n",
      "180 [0.10000256] [0.2999986]\n",
      "200 [0.10000083] [0.29999956]\n"
     ]
    }
   ],
   "source": [
    "for step in range(201):\n",
    "    sess.run(train, {x: x_data, y: y_data})\n",
    "    if step % 20 == 0:\n",
    "        print(step, sess.run(W), sess.run(b)) # 0.1 + 0.3"
   ]
  },
  {
   "cell_type": "code",
   "execution_count": 129,
   "metadata": {},
   "outputs": [],
   "source": [
    "predicted = sess.run(y_model, {x:[i for i in range(100)]})"
   ]
  },
  {
   "cell_type": "code",
   "execution_count": 130,
   "metadata": {},
   "outputs": [
    {
     "data": {
      "image/png": "[encoded data removed]",
      "text/plain": [
       "<Figure size 432x288 with 1 Axes>"
      ]
     },
     "metadata": {
      "needs_background": "light"
     },
     "output_type": "display_data"
    }
   ],
   "source": [
    "%matplotlib inline\n",
    "import matplotlib.pyplot as plt\n",
    "plt.plot(x_data, y_data, 'o', markersize=2)\n",
    "plt.plot(predicted,'r')\n",
    "plt.show()"
   ]
  },
  {
   "cell_type": "code",
   "execution_count": 131,
   "metadata": {},
   "outputs": [],
   "source": [
    "from tensorflow.python.framework import ops\n",
    "import os\n",
    "ops.reset_default_graph()"
   ]
  },
  {
   "cell_type": "code",
   "execution_count": 133,
   "metadata": {
    "scrolled": true
   },
   "outputs": [
    {
     "name": "stdout",
     "output_type": "stream",
     "text": [
      "[1. 3. 5. 7. 9.]\n",
      "[ 3.  9. 15. 21. 27.]\n",
      "[ 5. 15. 25. 35. 45.]\n",
      "[ 7. 21. 35. 49. 63.]\n",
      "[ 9. 27. 45. 63. 81.]\n"
     ]
    }
   ],
   "source": [
    "sess = tf.Session()\n",
    "x_vals = np.array([1.,3., 5., 7., 9.])\n",
    "y_vals = np.array([1.,3., 5., 7., 9.])\n",
    "x_data = tf.placeholder(tf.float32)\n",
    "y_data = tf.placeholder(tf.float32)\n",
    "m = tf.constant(3.)\n",
    "prod = tf.multiply(x_data, y_data)\n",
    "for x_val in x_vals:\n",
    "    print(sess.run(prod, feed_dict={x_data: x_val, y_data:y_vals}))"
   ]
  },
  {
   "cell_type": "code",
   "execution_count": 138,
   "metadata": {},
   "outputs": [],
   "source": [
    "merged = tf.summary.merge_all()\n",
    "if not os.path.exists(\"c://tmp/tensorboard_logs/\"):\n",
    "    os.makedirs('c://tmp/tensorboard_logs/')\n",
    "    \n",
    "my_writer = tf.summary.FileWriter('c://tmp/tensorboard_logs/', sess.graph)"
   ]
  },
  {
   "cell_type": "markdown",
   "metadata": {},
   "source": [
    "- 아나콘다 prompt에서: tensorboard--logdir=/tmp\n",
    "- 크롬에서 접속: http://localhost:6006/"
   ]
  },
  {
   "cell_type": "code",
   "execution_count": 141,
   "metadata": {},
   "outputs": [],
   "source": [
    "import numpy\n",
    "rng = numpy.random # 상수화할 때 좋은 점 : 수정할 일이 줄어서 편리함\n",
    "learning_rate = 0.01\n",
    "training_epochs = 4000\n",
    "display_step = 50\n",
    "train_X = numpy.asarray([3.3,4.4,5.5,6.71,6.93,4.168,9.779,6.182,7.59,2.167,7.042,10.791,5.313,7.997,5.654,9.27,3.1])\n",
    "train_Y = numpy.asarray([1.7,2.76,2.09,3.19,1.694,1.573,3.366,2.596,2.53,1.221,2.827,3.465,1.65,2.904,2.42,2.94,1.3]) "
   ]
  },
  {
   "cell_type": "code",
   "execution_count": 143,
   "metadata": {},
   "outputs": [
    {
     "name": "stdout",
     "output_type": "stream",
     "text": [
      "WARNING:tensorflow:From C:\\Users\\ICT01_12\\Anaconda3\\envs\\tf_test\\lib\\site-packages\\tensorflow\\python\\ops\\math_grad.py:1205: add_dispatch_support.<locals>.wrapper (from tensorflow.python.ops.array_ops) is deprecated and will be removed in a future version.\n",
      "Instructions for updating:\n",
      "Use tf.where in 2.0, which has the same broadcast rule as np.where\n",
      "WARNING:tensorflow:From C:\\Users\\ICT01_12\\Anaconda3\\envs\\tf_test\\lib\\site-packages\\tensorflow\\python\\util\\tf_should_use.py:193: initialize_all_variables (from tensorflow.python.ops.variables) is deprecated and will be removed after 2017-03-02.\n",
      "Instructions for updating:\n",
      "Use `tf.global_variables_initializer` instead.\n"
     ]
    }
   ],
   "source": [
    "# data point: 관측치\n",
    "# 변수 개수\n",
    "n_samples = train_X.shape[0] # 차수: 행(3,4)\n",
    "X = tf.placeholder(\"float\")\n",
    "Y = tf.placeholder(\"float\")\n",
    "W = tf.Variable(rng.randn(), name=\"weight\") # 설명\n",
    "b = tf.Variable(rng.randn(), name=\"bias\") # activation 활성화\n",
    "activation = tf.add(tf.multiply(X,W), b)\n",
    "cost = tf.reduce_sum(tf.pow(activation-Y, 2))/(2*n_samples) # ((예측치-실제값)^2) / 2*샘플 # minibatch 사이즈를 고려\n",
    "# 역전파: optimizer도 하이퍼 파라미터\n",
    "optimizer = tf.train.GradientDescentOptimizer(learning_rate).minimize(cost) # 모멘텀 고려 # 하이퍼파라미터 \n",
    "init = tf.initialize_all_variables()"
   ]
  },
  {
   "cell_type": "code",
   "execution_count": 145,
   "metadata": {
    "scrolled": true
   },
   "outputs": [
    {
     "name": "stdout",
     "output_type": "stream",
     "text": [
      "Epoch: 0001 cost= 1.660607457 W= 0.18306708 b= -0.54654115\n",
      "Epoch: 0001 cost= 1.585085750 W= 0.18954039 b= -0.54506993\n",
      "Epoch: 0001 cost= 1.526783347 W= 0.19469291 b= -0.5441331\n",
      "Epoch: 0001 cost= 1.422157526 W= 0.20427535 b= -0.54270506\n",
      "Epoch: 0001 cost= 1.386636734 W= 0.20762245 b= -0.5422221\n",
      "Epoch: 0001 cost= 1.354101777 W= 0.2106868 b= -0.54148686\n",
      "Epoch: 0001 cost= 1.246963739 W= 0.22131243 b= -0.54040027\n",
      "Epoch: 0001 cost= 1.184058070 W= 0.22774261 b= -0.5393601\n",
      "Epoch: 0001 cost= 1.127477169 W= 0.23372886 b= -0.5385714\n",
      "Epoch: 0001 cost= 1.111900091 W= 0.23532617 b= -0.5378343\n",
      "Epoch: 0001 cost= 1.047604322 W= 0.24239993 b= -0.53682977\n",
      "Epoch: 0001 cost= 0.971429467 W= 0.25119835 b= -0.53601444\n",
      "Epoch: 0001 cost= 0.948749423 W= 0.25385922 b= -0.53551364\n",
      "Epoch: 0001 cost= 0.894210756 W= 0.26048923 b= -0.5346846\n",
      "Epoch: 0001 cost= 0.854655802 W= 0.26541778 b= -0.5338129\n",
      "Epoch: 0001 cost= 0.812111855 W= 0.27094373 b= -0.5332168\n",
      "Epoch: 0001 cost= 0.798003495 W= 0.27275503 b= -0.53263247\n",
      "Epoch: 0051 cost= 0.170958430 W= 0.42270008 b= -0.433032\n",
      "Epoch: 0051 cost= 0.170770824 W= 0.4261506 b= -0.4322478\n",
      "Epoch: 0051 cost= 0.170797989 W= 0.42672783 b= -0.43214282\n",
      "Epoch: 0051 cost= 0.171199799 W= 0.42972285 b= -0.43169647\n",
      "Epoch: 0051 cost= 0.170769766 W= 0.42624855 b= -0.4321978\n",
      "Epoch: 0051 cost= 0.170793965 W= 0.426809 b= -0.43206334\n",
      "Epoch: 0051 cost= 0.170736670 W= 0.42464784 b= -0.43228436\n",
      "Epoch: 0051 cost= 0.170739755 W= 0.42611375 b= -0.43204722\n",
      "Epoch: 0051 cost= 0.170724645 W= 0.42489865 b= -0.43220732\n",
      "Epoch: 0051 cost= 0.170685381 W= 0.4258323 b= -0.43177646\n",
      "Epoch: 0051 cost= 0.170742169 W= 0.4269096 b= -0.4316235\n",
      "Epoch: 0051 cost= 0.170823529 W= 0.42240176 b= -0.43204123\n",
      "Epoch: 0051 cost= 0.170898691 W= 0.4218949 b= -0.43213663\n",
      "Epoch: 0051 cost= 0.170925871 W= 0.4217173 b= -0.43215883\n",
      "Epoch: 0051 cost= 0.170723364 W= 0.42327303 b= -0.43188366\n",
      "Epoch: 0051 cost= 0.171179384 W= 0.42026377 b= -0.4322083\n",
      "Epoch: 0051 cost= 0.170991421 W= 0.42104676 b= -0.43195572\n",
      "Epoch: 0101 cost= 0.160091609 W= 0.4124133 b= -0.35960773\n",
      "Epoch: 0101 cost= 0.159915552 W= 0.41579092 b= -0.35884008\n",
      "Epoch: 0101 cost= 0.159939587 W= 0.416315 b= -0.3587448\n",
      "Epoch: 0101 cost= 0.160330743 W= 0.4192961 b= -0.35830054\n",
      "Epoch: 0101 cost= 0.159912020 W= 0.41581714 b= -0.35880256\n",
      "Epoch: 0101 cost= 0.159930944 W= 0.41630426 b= -0.3586857\n",
      "Epoch: 0101 cost= 0.159884989 W= 0.41431192 b= -0.35888943\n",
      "Epoch: 0101 cost= 0.159888163 W= 0.4157433 b= -0.3586579\n",
      "Epoch: 0101 cost= 0.159873784 W= 0.41455194 b= -0.35881487\n",
      "Epoch: 0101 cost= 0.159838557 W= 0.41542062 b= -0.358414\n",
      "Epoch: 0101 cost= 0.159892231 W= 0.41649774 b= -0.35826105\n",
      "Epoch: 0101 cost= 0.159959197 W= 0.4122374 b= -0.35865584\n",
      "Epoch: 0101 cost= 0.160039097 W= 0.41166997 b= -0.35876265\n",
      "Epoch: 0101 cost= 0.160059437 W= 0.41153184 b= -0.35877994\n",
      "Epoch: 0101 cost= 0.159873635 W= 0.41303506 b= -0.35851407\n",
      "Epoch: 0101 cost= 0.160290450 W= 0.41014326 b= -0.358826\n",
      "Epoch: 0101 cost= 0.160128251 W= 0.41084966 b= -0.35859814\n",
      "Epoch: 0151 cost= 0.150480151 W= 0.40273818 b= -0.29055014\n",
      "Epoch: 0151 cost= 0.150314614 W= 0.40604725 b= -0.28979808\n",
      "Epoch: 0151 cost= 0.150335878 W= 0.40652135 b= -0.2897119\n",
      "Epoch: 0151 cost= 0.150717065 W= 0.40948936 b= -0.28926957\n",
      "Epoch: 0151 cost= 0.150309071 W= 0.40600607 b= -0.2897722\n",
      "Epoch: 0151 cost= 0.150323495 W= 0.4064242 b= -0.2896719\n",
      "Epoch: 0151 cost= 0.150287166 W= 0.40459064 b= -0.28985938\n",
      "Epoch: 0151 cost= 0.150290444 W= 0.40598953 b= -0.2896331\n",
      "Epoch: 0151 cost= 0.150276765 W= 0.40482053 b= -0.2897871\n",
      "Epoch: 0151 cost= 0.150245145 W= 0.40562811 b= -0.28941444\n",
      "Epoch: 0151 cost= 0.150295913 W= 0.40670505 b= -0.28926152\n",
      "Epoch: 0151 cost= 0.150350451 W= 0.4026775 b= -0.28963476\n",
      "Epoch: 0151 cost= 0.150433913 W= 0.4020531 b= -0.28975227\n",
      "Epoch: 0151 cost= 0.150448173 W= 0.40195212 b= -0.2897649\n",
      "Epoch: 0151 cost= 0.150277451 W= 0.40340596 b= -0.28950778\n",
      "Epoch: 0151 cost= 0.150659069 W= 0.4006246 b= -0.28980783\n",
      "Epoch: 0151 cost= 0.150519684 W= 0.40125895 b= -0.2896032\n",
      "Epoch: 0201 cost= 0.141979262 W= 0.39363864 b= -0.22560076\n",
      "Epoch: 0201 cost= 0.141823381 W= 0.39688322 b= -0.22486335\n",
      "Epoch: 0201 cost= 0.141842127 W= 0.3973103 b= -0.2247857\n",
      "Epoch: 0201 cost= 0.142213970 W= 0.400266 b= -0.2243452\n",
      "Epoch: 0201 cost= 0.141816035 W= 0.39677858 b= -0.22484843\n",
      "Epoch: 0201 cost= 0.141826853 W= 0.39713183 b= -0.22476369\n",
      "Epoch: 0201 cost= 0.141798615 W= 0.3954476 b= -0.22493592\n",
      "Epoch: 0201 cost= 0.141801998 W= 0.39681593 b= -0.22471458\n",
      "Epoch: 0201 cost= 0.141788945 W= 0.39566797 b= -0.22486582\n",
      "Epoch: 0201 cost= 0.141760573 W= 0.39641806 b= -0.22451967\n",
      "Epoch: 0201 cost= 0.141808599 W= 0.39749485 b= -0.22436677\n",
      "Epoch: 0201 cost= 0.141852304 W= 0.39368626 b= -0.22471972\n",
      "Epoch: 0201 cost= 0.141938478 W= 0.3930083 b= -0.22484733\n",
      "Epoch: 0201 cost= 0.141947404 W= 0.39294225 b= -0.22485559\n",
      "Epoch: 0201 cost= 0.141790360 W= 0.39434963 b= -0.22460666\n",
      "Epoch: 0201 cost= 0.142140269 W= 0.39167216 b= -0.22489549\n",
      "Epoch: 0201 cost= 0.142020956 W= 0.39223877 b= -0.22471271\n",
      "Epoch: 0251 cost= 0.134460449 W= 0.38508028 b= -0.16451362\n",
      "Epoch: 0251 cost= 0.134313479 W= 0.3882642 b= -0.16378999\n",
      "Epoch: 0251 cost= 0.134329900 W= 0.38864705 b= -0.16372038\n",
      "Epoch: 0251 cost= 0.134693041 W= 0.39159116 b= -0.16328162\n",
      "Epoch: 0251 cost= 0.134304628 W= 0.38809988 b= -0.16378541\n",
      "Epoch: 0251 cost= 0.134312496 W= 0.3883921 b= -0.1637153\n",
      "Epoch: 0251 cost= 0.134291038 W= 0.38684833 b= -0.16387317\n",
      "Epoch: 0251 cost= 0.134294480 W= 0.38818792 b= -0.16365647\n",
      "Epoch: 0251 cost= 0.134282008 W= 0.38705972 b= -0.16380511\n",
      "Epoch: 0251 cost= 0.134256512 W= 0.38775578 b= -0.1634839\n",
      "Epoch: 0251 cost= 0.134302005 W= 0.38883242 b= -0.16333102\n",
      "Epoch: 0251 cost= 0.134336367 W= 0.38522974 b= -0.16366488\n",
      "Epoch: 0251 cost= 0.134424403 W= 0.38450134 b= -0.16380197\n",
      "Epoch: 0251 cost= 0.134428695 W= 0.38446814 b= -0.16380613\n",
      "Epoch: 0251 cost= 0.134283990 W= 0.38583183 b= -0.16356494\n",
      "Epoch: 0251 cost= 0.134605303 W= 0.38325205 b= -0.16384323\n",
      "Epoch: 0251 cost= 0.134503797 W= 0.3837549 b= -0.16368102\n",
      "Epoch: 0301 cost= 0.127810448 W= 0.37703094 b= -0.107059546\n",
      "Epoch: 0301 cost= 0.127671570 W= 0.38015786 b= -0.10634889\n",
      "Epoch: 0301 cost= 0.127685919 W= 0.38049912 b= -0.10628684\n",
      "Epoch: 0301 cost= 0.128040954 W= 0.38343233 b= -0.1058497\n",
      "Epoch: 0301 cost= 0.127661467 W= 0.3799374 b= -0.10635401\n",
      "Epoch: 0301 cost= 0.127666980 W= 0.38017222 b= -0.10629767\n",
      "Epoch: 0301 cost= 0.127651155 W= 0.37876055 b= -0.10644203\n",
      "Epoch: 0301 cost= 0.127654687 W= 0.3800731 b= -0.10622971\n",
      "Epoch: 0301 cost= 0.127642766 W= 0.3789635 b= -0.106375895\n",
      "Epoch: 0301 cost= 0.127619892 W= 0.37960872 b= -0.106078155\n",
      "Epoch: 0301 cost= 0.127662912 W= 0.3806852 b= -0.10592529\n",
      "Epoch: 0301 cost= 0.127689257 W= 0.3772762 b= -0.106241204\n",
      "Epoch: 0301 cost= 0.127778426 W= 0.37650043 b= -0.10638722\n",
      "Epoch: 0301 cost= 0.127778709 W= 0.37649813 b= -0.1063875\n",
      "Epoch: 0301 cost= 0.127645150 W= 0.37782073 b= -0.106153585\n",
      "Epoch: 0301 cost= 0.127940699 W= 0.37533286 b= -0.10642196\n",
      "Epoch: 0301 cost= 0.127854869 W= 0.37577578 b= -0.10627908\n",
      "Epoch: 0351 cost= 0.121928886 W= 0.36946025 b= -0.053022567\n",
      "Epoch: 0351 cost= 0.121797465 W= 0.37253353 b= -0.052324098\n",
      "Epoch: 0351 cost= 0.121809907 W= 0.37283567 b= -0.05226916\n",
      "Epoch: 0351 cost= 0.122157305 W= 0.37575862 b= -0.051833548\n",
      "Epoch: 0351 cost= 0.121786326 W= 0.3722603 b= -0.052338354\n",
      "Epoch: 0351 cost= 0.121789977 W= 0.37244114 b= -0.052294966\n",
      "Epoch: 0351 cost= 0.121778809 W= 0.3711537 b= -0.052426618\n",
      "Epoch: 0351 cost= 0.121782415 W= 0.37244084 b= -0.052218407\n",
      "Epoch: 0351 cost= 0.121770971 W= 0.37134874 b= -0.052362293\n",
      "Epoch: 0351 cost= 0.121750437 W= 0.37194613 b= -0.052086618\n",
      "Epoch: 0351 cost= 0.121791169 W= 0.3730225 b= -0.05193377\n",
      "Epoch: 0351 cost= 0.121810563 W= 0.36979565 b= -0.0522328\n",
      "Epoch: 0351 cost= 0.121900387 W= 0.36897528 b= -0.052387204\n",
      "Epoch: 0351 cost= 0.121897154 W= 0.36900204 b= -0.052383855\n",
      "Epoch: 0351 cost= 0.121773690 W= 0.370286 b= -0.05215677\n",
      "Epoch: 0351 cost= 0.122045927 W= 0.36788455 b= -0.052415825\n",
      "Epoch: 0351 cost= 0.121974006 W= 0.36827108 b= -0.052291136\n",
      "Epoch: 0401 cost= 0.116727032 W= 0.36233982 b= -0.0021994072\n",
      "Epoch: 0401 cost= 0.116602436 W= 0.36536264 b= -0.0015124048\n",
      "Epoch: 0401 cost= 0.116613179 W= 0.365628 b= -0.0014641591\n",
      "Epoch: 0401 cost= 0.116953455 W= 0.36854133 b= -0.0010299825\n",
      "Epoch: 0401 cost= 0.116590448 W= 0.3650398 b= -0.0015352538\n",
      "Epoch: 0401 cost= 0.116592653 W= 0.36516985 b= -0.0015040484\n",
      "Epoch: 0401 cost= 0.116585307 W= 0.3639993 b= -0.0016237496\n",
      "Epoch: 0401 cost= 0.116588950 W= 0.36526254 b= -0.0014194085\n",
      "Epoch: 0401 cost= 0.116577968 W= 0.36418688 b= -0.0015611281\n",
      "Epoch: 0401 cost= 0.116559543 W= 0.3647393 b= -0.0013062056\n",
      "Epoch: 0401 cost= 0.116598122 W= 0.36581552 b= -0.001153375\n",
      "Epoch: 0401 cost= 0.116611585 W= 0.36276 b= -0.0014365292\n",
      "Epoch: 0401 cost= 0.116701514 W= 0.3618977 b= -0.0015988278\n",
      "Epoch: 0401 cost= 0.116695218 W= 0.36195183 b= -0.0015920615\n",
      "Epoch: 0401 cost= 0.116580971 W= 0.3631994 b= -0.0013714046\n",
      "Epoch: 0401 cost= 0.116832122 W= 0.36087924 b= -0.0016216913\n",
      "Epoch: 0401 cost= 0.116772480 W= 0.36121276 b= -0.0015141054\n"
     ]
    },
    {
     "name": "stdout",
     "output_type": "stream",
     "text": [
      "Epoch: 0451 cost= 0.112126373 W= 0.35564294 b= 0.045601025\n",
      "Epoch: 0451 cost= 0.112008087 W= 0.3586183 b= 0.046277244\n",
      "Epoch: 0451 cost= 0.112017229 W= 0.35884905 b= 0.046319198\n",
      "Epoch: 0451 cost= 0.112350889 W= 0.3617533 b= 0.046752024\n",
      "Epoch: 0451 cost= 0.111995354 W= 0.35824877 b= 0.046246316\n",
      "Epoch: 0451 cost= 0.111996539 W= 0.35833108 b= 0.046266064\n",
      "Epoch: 0451 cost= 0.111992255 W= 0.35727042 b= 0.046157602\n",
      "Epoch: 0451 cost= 0.111995950 W= 0.35851118 b= 0.046358306\n",
      "Epoch: 0451 cost= 0.111985385 W= 0.357451 b= 0.046218626\n",
      "Epoch: 0451 cost= 0.111968853 W= 0.35796112 b= 0.046454027\n",
      "Epoch: 0451 cost= 0.112005435 W= 0.35903722 b= 0.046606842\n",
      "Epoch: 0451 cost= 0.112013772 W= 0.35614285 b= 0.04633862\n",
      "Epoch: 0451 cost= 0.112103410 W= 0.35524112 b= 0.0461689\n",
      "Epoch: 0451 cost= 0.112094477 W= 0.35532093 b= 0.04617888\n",
      "Epoch: 0451 cost= 0.111988537 W= 0.35653433 b= 0.04639349\n",
      "Epoch: 0451 cost= 0.112220675 W= 0.35429063 b= 0.04615145\n",
      "Epoch: 0451 cost= 0.112171851 W= 0.3545743 b= 0.04624295\n",
      "Epoch: 0501 cost= 0.108057484 W= 0.3493443 b= 0.090558626\n",
      "Epoch: 0501 cost= 0.107944988 W= 0.35227504 b= 0.0912247\n",
      "Epoch: 0501 cost= 0.107952699 W= 0.35247326 b= 0.09126074\n",
      "Epoch: 0501 cost= 0.108280130 W= 0.355369 b= 0.09169229\n",
      "Epoch: 0501 cost= 0.107931681 W= 0.3518616 b= 0.09118617\n",
      "Epoch: 0501 cost= 0.107932106 W= 0.351899 b= 0.091195144\n",
      "Epoch: 0501 cost= 0.107930273 W= 0.35094172 b= 0.09109725\n",
      "Epoch: 0501 cost= 0.107933991 W= 0.35216132 b= 0.091294535\n",
      "Epoch: 0501 cost= 0.107923828 W= 0.35111567 b= 0.09115677\n",
      "Epoch: 0501 cost= 0.107909031 W= 0.351586 b= 0.091373816\n",
      "Epoch: 0501 cost= 0.107943699 W= 0.35266203 b= 0.09152661\n",
      "Epoch: 0501 cost= 0.107947722 W= 0.3499192 b= 0.091272436\n",
      "Epoch: 0501 cost= 0.108036704 W= 0.3489804 b= 0.09109573\n",
      "Epoch: 0501 cost= 0.108025491 W= 0.3490844 b= 0.09110873\n",
      "Epoch: 0501 cost= 0.107927121 W= 0.35026565 b= 0.09131765\n",
      "Epoch: 0501 cost= 0.108141981 W= 0.34809387 b= 0.09108337\n",
      "Epoch: 0501 cost= 0.108102746 W= 0.34833062 b= 0.09115974\n",
      "Epoch: 0551 cost= 0.104458913 W= 0.3434203 b= 0.13284248\n",
      "Epoch: 0551 cost= 0.104351774 W= 0.34630904 b= 0.13349901\n",
      "Epoch: 0551 cost= 0.104358196 W= 0.3464766 b= 0.13352948\n",
      "Epoch: 0551 cost= 0.104679793 W= 0.34936434 b= 0.13395984\n",
      "Epoch: 0551 cost= 0.104337998 W= 0.34585428 b= 0.13345334\n",
      "Epoch: 0551 cost= 0.104337960 W= 0.34584945 b= 0.13345218\n",
      "Epoch: 0551 cost= 0.104338005 W= 0.3449894 b= 0.13336423\n",
      "Epoch: 0551 cost= 0.104341783 W= 0.3461891 b= 0.1335583\n",
      "Epoch: 0551 cost= 0.104331955 W= 0.34515718 b= 0.13342234\n",
      "Epoch: 0551 cost= 0.104318708 W= 0.34559008 b= 0.13362212\n",
      "Epoch: 0551 cost= 0.104351595 W= 0.34666598 b= 0.1337749\n",
      "Epoch: 0551 cost= 0.104351945 W= 0.34406567 b= 0.13353394\n",
      "Epoch: 0551 cost= 0.104440026 W= 0.34309196 b= 0.13335067\n",
      "Epoch: 0551 cost= 0.104426809 W= 0.3432187 b= 0.13336653\n",
      "Epoch: 0551 cost= 0.104335330 W= 0.3443697 b= 0.1335701\n",
      "Epoch: 0551 cost= 0.104534559 W= 0.34226555 b= 0.13334312\n",
      "Epoch: 0551 cost= 0.104503810 W= 0.34245816 b= 0.13340525\n",
      "Epoch: 0601 cost= 0.101276398 W= 0.33784848 b= 0.17261164\n",
      "Epoch: 0601 cost= 0.101174138 W= 0.34069777 b= 0.1732592\n",
      "Epoch: 0601 cost= 0.101179391 W= 0.34083655 b= 0.17328444\n",
      "Epoch: 0601 cost= 0.101495527 W= 0.34371674 b= 0.17371368\n",
      "Epoch: 0601 cost= 0.101160020 W= 0.34020418 b= 0.17320682\n",
      "Epoch: 0601 cost= 0.101159722 W= 0.34015962 b= 0.17319612\n",
      "Epoch: 0601 cost= 0.101161204 W= 0.33939102 b= 0.17311752\n",
      "Epoch: 0601 cost= 0.101165019 W= 0.34057203 b= 0.17330855\n",
      "Epoch: 0601 cost= 0.101155527 W= 0.33955297 b= 0.17317429\n",
      "Epoch: 0601 cost= 0.101143658 W= 0.33995068 b= 0.17335783\n",
      "Epoch: 0601 cost= 0.101174884 W= 0.34102648 b= 0.1735106\n",
      "Epoch: 0601 cost= 0.101172075 W= 0.33856025 b= 0.17328206\n",
      "Epoch: 0601 cost= 0.101259060 W= 0.33755374 b= 0.17309262\n",
      "Epoch: 0601 cost= 0.101244129 W= 0.3377019 b= 0.17311114\n",
      "Epoch: 0601 cost= 0.101158924 W= 0.33882445 b= 0.17330968\n",
      "Epoch: 0601 cost= 0.101343967 W= 0.3367839 b= 0.17308956\n",
      "Epoch: 0601 cost= 0.101320677 W= 0.336935 b= 0.17313832\n",
      "Epoch: 0651 cost= 0.098461799 W= 0.33260825 b= 0.21001542\n",
      "Epoch: 0651 cost= 0.098364137 W= 0.3354204 b= 0.21065454\n",
      "Epoch: 0651 cost= 0.098368272 W= 0.33553213 b= 0.21067485\n",
      "Epoch: 0651 cost= 0.098679304 W= 0.33840522 b= 0.21110304\n",
      "Epoch: 0651 cost= 0.098349698 W= 0.33489028 b= 0.21059583\n",
      "Epoch: 0651 cost= 0.098349340 W= 0.33480835 b= 0.21057618\n",
      "Epoch: 0651 cost= 0.098351881 W= 0.33412573 b= 0.21050638\n",
      "Epoch: 0651 cost= 0.098355718 W= 0.33528915 b= 0.21069457\n",
      "Epoch: 0651 cost= 0.098346539 W= 0.3342822 b= 0.2105619\n",
      "Epoch: 0651 cost= 0.098335922 W= 0.33464682 b= 0.21073017\n",
      "Epoch: 0651 cost= 0.098365560 W= 0.33572254 b= 0.21088292\n",
      "Epoch: 0651 cost= 0.098360114 W= 0.33338237 b= 0.21066606\n",
      "Epoch: 0651 cost= 0.098445818 W= 0.332345 b= 0.21047081\n",
      "Epoch: 0651 cost= 0.098429404 W= 0.33251324 b= 0.21049185\n",
      "Epoch: 0651 cost= 0.098349877 W= 0.33360904 b= 0.21068566\n",
      "Epoch: 0651 cost= 0.098522082 W= 0.33162832 b= 0.21047199\n",
      "Epoch: 0651 cost= 0.098505400 W= 0.33174044 b= 0.21050815\n",
      "Epoch: 0701 cost= 0.095972702 W= 0.32767954 b= 0.24519472\n",
      "Epoch: 0701 cost= 0.095879212 W= 0.33045676 b= 0.2458259\n",
      "Epoch: 0701 cost= 0.095882349 W= 0.330543 b= 0.24584158\n",
      "Epoch: 0701 cost= 0.096188612 W= 0.33340943 b= 0.24626876\n",
      "Epoch: 0701 cost= 0.095864557 W= 0.32989228 b= 0.24576123\n",
      "Epoch: 0701 cost= 0.095864348 W= 0.3297752 b= 0.24573314\n",
      "Epoch: 0701 cost= 0.095867537 W= 0.32917348 b= 0.24567162\n",
      "Epoch: 0701 cost= 0.095871396 W= 0.33032033 b= 0.24585713\n",
      "Epoch: 0701 cost= 0.095862500 W= 0.32932475 b= 0.24572596\n",
      "Epoch: 0701 cost= 0.095853038 W= 0.32965824 b= 0.24587986\n",
      "Epoch: 0701 cost= 0.095881201 W= 0.33073387 b= 0.24603261\n",
      "Epoch: 0701 cost= 0.095873587 W= 0.3285123 b= 0.24582674\n",
      "Epoch: 0701 cost= 0.095957823 W= 0.32744592 b= 0.24562602\n",
      "Epoch: 0701 cost= 0.095940158 W= 0.32763308 b= 0.24564943\n",
      "Epoch: 0701 cost= 0.095865831 W= 0.32870373 b= 0.24583879\n",
      "Epoch: 0701 cost= 0.096026316 W= 0.32677928 b= 0.24563119\n",
      "Epoch: 0701 cost= 0.096015476 W= 0.32685468 b= 0.2456555\n",
      "Epoch: 0751 cost= 0.093771480 W= 0.3230441 b= 0.27828115\n",
      "Epoch: 0751 cost= 0.093681872 W= 0.32578847 b= 0.27890489\n",
      "Epoch: 0751 cost= 0.093684122 W= 0.32585078 b= 0.2789162\n",
      "Epoch: 0751 cost= 0.093985863 W= 0.3287109 b= 0.27934247\n",
      "Epoch: 0751 cost= 0.093667090 W= 0.32519165 b= 0.27883464\n",
      "Epoch: 0751 cost= 0.093667090 W= 0.3250415 b= 0.2787986\n",
      "Epoch: 0751 cost= 0.093670703 W= 0.32451585 b= 0.27874485\n",
      "Epoch: 0751 cost= 0.093674555 W= 0.32564715 b= 0.27892783\n",
      "Epoch: 0751 cost= 0.093665935 W= 0.32466227 b= 0.27879807\n",
      "Epoch: 0751 cost= 0.093657531 W= 0.3249665 b= 0.27893847\n",
      "Epoch: 0751 cost= 0.093684264 W= 0.32604206 b= 0.2790912\n",
      "Epoch: 0751 cost= 0.093674816 W= 0.32393202 b= 0.27889568\n",
      "Epoch: 0751 cost= 0.093757540 W= 0.32283834 b= 0.27868983\n",
      "Epoch: 0751 cost= 0.093738750 W= 0.32304332 b= 0.27871546\n",
      "Epoch: 0751 cost= 0.093669184 W= 0.3240903 b= 0.27890062\n",
      "Epoch: 0751 cost= 0.093819067 W= 0.32221875 b= 0.27869874\n",
      "Epoch: 0751 cost= 0.093813375 W= 0.32225963 b= 0.27871194\n",
      "Epoch: 0801 cost= 0.091824815 W= 0.31868422 b= 0.30940053\n",
      "Epoch: 0801 cost= 0.091738775 W= 0.3213977 b= 0.31001723\n",
      "Epoch: 0801 cost= 0.091740213 W= 0.32143748 b= 0.31002447\n",
      "Epoch: 0801 cost= 0.092037767 W= 0.3242917 b= 0.31044984\n",
      "Epoch: 0801 cost= 0.091723911 W= 0.32077047 b= 0.30994174\n",
      "Epoch: 0801 cost= 0.091724254 W= 0.32058924 b= 0.30989826\n",
      "Epoch: 0801 cost= 0.091728061 W= 0.32013515 b= 0.30985183\n",
      "Epoch: 0801 cost= 0.091731913 W= 0.3212518 b= 0.31003246\n",
      "Epoch: 0801 cost= 0.091723531 W= 0.320277 b= 0.30990404\n",
      "Epoch: 0801 cost= 0.091716029 W= 0.3205537 b= 0.3100317\n",
      "Epoch: 0801 cost= 0.091741487 W= 0.32162917 b= 0.31018445\n",
      "Epoch: 0801 cost= 0.091730505 W= 0.31962404 b= 0.30999863\n",
      "Epoch: 0801 cost= 0.091811627 W= 0.3185047 b= 0.30978796\n",
      "Epoch: 0801 cost= 0.091791928 W= 0.3187264 b= 0.30981568\n",
      "Epoch: 0801 cost= 0.091726668 W= 0.3197511 b= 0.3099969\n",
      "Epoch: 0801 cost= 0.091866866 W= 0.31792933 b= 0.3098004\n",
      "Epoch: 0801 cost= 0.091865733 W= 0.31793776 b= 0.3098031\n",
      "Epoch: 0851 cost= 0.090103373 W= 0.3145838 b= 0.33866856\n",
      "Epoch: 0851 cost= 0.090020657 W= 0.31726822 b= 0.33927864\n",
      "Epoch: 0851 cost= 0.090021327 W= 0.31728682 b= 0.339282\n",
      "Epoch: 0851 cost= 0.090314962 W= 0.3201355 b= 0.33970654\n",
      "Epoch: 0851 cost= 0.090005733 W= 0.31661242 b= 0.33919817\n",
      "Epoch: 0851 cost= 0.090006500 W= 0.31640196 b= 0.3391477\n",
      "Epoch: 0851 cost= 0.090010256 W= 0.31601515 b= 0.33910814\n",
      "Epoch: 0851 cost= 0.090014152 W= 0.31711805 b= 0.33928654\n",
      "Epoch: 0851 cost= 0.090005979 W= 0.31615272 b= 0.33915934\n",
      "Epoch: 0851 cost= 0.089999363 W= 0.3164035 b= 0.33927506\n",
      "Epoch: 0851 cost= 0.090023577 W= 0.3174789 b= 0.33942777\n",
      "Epoch: 0851 cost= 0.090011388 W= 0.31557244 b= 0.3392511\n",
      "Epoch: 0851 cost= 0.090090819 W= 0.31442893 b= 0.33903587\n",
      "Epoch: 0851 cost= 0.090070315 W= 0.31466636 b= 0.33906555\n",
      "Epoch: 0851 cost= 0.090009019 W= 0.31567016 b= 0.33924308\n",
      "Epoch: 0851 cost= 0.090140410 W= 0.3138952 b= 0.3390516\n",
      "Epoch: 0851 cost= 0.090143286 W= 0.31387308 b= 0.33904448\n"
     ]
    },
    {
     "name": "stdout",
     "output_type": "stream",
     "text": [
      "Epoch: 0901 cost= 0.088581085 W= 0.31072706 b= 0.36619592\n",
      "Epoch: 0901 cost= 0.088501453 W= 0.31338415 b= 0.3667998\n",
      "Epoch: 0901 cost= 0.088501386 W= 0.3133828 b= 0.36679956\n",
      "Epoch: 0901 cost= 0.088791311 W= 0.31622627 b= 0.36722332\n",
      "Epoch: 0901 cost= 0.088486500 W= 0.31270146 b= 0.3667147\n",
      "Epoch: 0901 cost= 0.088487767 W= 0.31246352 b= 0.36665758\n",
      "Epoch: 0901 cost= 0.088491336 W= 0.31214002 b= 0.3666245\n",
      "Epoch: 0901 cost= 0.088495217 W= 0.31322995 b= 0.3668008\n",
      "Epoch: 0901 cost= 0.088487305 W= 0.31227353 b= 0.3666748\n",
      "Epoch: 0901 cost= 0.088481434 W= 0.31249997 b= 0.3667793\n",
      "Epoch: 0901 cost= 0.088504478 W= 0.3135753 b= 0.366932\n",
      "Epoch: 0901 cost= 0.088491283 W= 0.31176162 b= 0.36676392\n",
      "Epoch: 0901 cost= 0.088569045 W= 0.3105954 b= 0.36654443\n",
      "Epoch: 0901 cost= 0.088547848 W= 0.31084764 b= 0.36657596\n",
      "Epoch: 0901 cost= 0.088490188 W= 0.31183174 b= 0.36675\n",
      "Epoch: 0901 cost= 0.088613532 W= 0.31010082 b= 0.3665633\n",
      "Epoch: 0901 cost= 0.088619985 W= 0.31004998 b= 0.3665469\n",
      "Epoch: 0951 cost= 0.087234922 W= 0.30709982 b= 0.3920866\n",
      "Epoch: 0951 cost= 0.087158151 W= 0.30973122 b= 0.39268464\n",
      "Epoch: 0951 cost= 0.087157451 W= 0.30971113 b= 0.39268097\n",
      "Epoch: 0951 cost= 0.087443918 W= 0.31254968 b= 0.39310402\n",
      "Epoch: 0951 cost= 0.087143198 W= 0.30902323 b= 0.39259514\n",
      "Epoch: 0951 cost= 0.087145030 W= 0.30875942 b= 0.39253184\n",
      "Epoch: 0951 cost= 0.087148257 W= 0.30849543 b= 0.39250484\n",
      "Epoch: 0951 cost= 0.087152168 W= 0.3095732 b= 0.39267918\n",
      "Epoch: 0951 cost= 0.087144427 W= 0.30862516 b= 0.39255428\n",
      "Epoch: 0951 cost= 0.087139256 W= 0.30882868 b= 0.3926482\n",
      "Epoch: 0951 cost= 0.087161198 W= 0.30990395 b= 0.3928009\n",
      "Epoch: 0951 cost= 0.087147243 W= 0.30817756 b= 0.39264092\n",
      "Epoch: 0951 cost= 0.087223254 W= 0.30699 b= 0.3924174\n",
      "Epoch: 0951 cost= 0.087201506 W= 0.30725616 b= 0.3924507\n",
      "Epoch: 0951 cost= 0.087147191 W= 0.30822176 b= 0.39262146\n",
      "Epoch: 0951 cost= 0.087263167 W= 0.30653223 b= 0.3924392\n",
      "Epoch: 0951 cost= 0.087272726 W= 0.3064544 b= 0.39241406\n",
      "Epoch: 1001 cost= 0.086044602 W= 0.30368832 b= 0.4164366\n",
      "Epoch: 1001 cost= 0.085970454 W= 0.30629554 b= 0.41702917\n",
      "Epoch: 1001 cost= 0.085969172 W= 0.30625784 b= 0.41702232\n",
      "Epoch: 1001 cost= 0.086252384 W= 0.30909178 b= 0.41744468\n",
      "Epoch: 1001 cost= 0.085955568 W= 0.3055638 b= 0.4169356\n",
      "Epoch: 1001 cost= 0.085957989 W= 0.30527565 b= 0.41686645\n",
      "Epoch: 1001 cost= 0.085960761 W= 0.30506766 b= 0.41684517\n",
      "Epoch: 1001 cost= 0.085964657 W= 0.30613396 b= 0.41701767\n",
      "Epoch: 1001 cost= 0.085957110 W= 0.3051938 b= 0.4168938\n",
      "Epoch: 1001 cost= 0.085952587 W= 0.30537578 b= 0.4169778\n",
      "Epoch: 1001 cost= 0.085973509 W= 0.306451 b= 0.41713047\n",
      "Epoch: 1001 cost= 0.085958943 W= 0.30480668 b= 0.4169781\n",
      "Epoch: 1001 cost= 0.086033225 W= 0.30359903 b= 0.4167508\n",
      "Epoch: 1001 cost= 0.086011007 W= 0.3038783 b= 0.41678572\n",
      "Epoch: 1001 cost= 0.085959718 W= 0.30482647 b= 0.4169534\n",
      "Epoch: 1001 cost= 0.086068988 W= 0.3031759 b= 0.41677535\n",
      "Epoch: 1001 cost= 0.086081333 W= 0.30307266 b= 0.41674203\n",
      "Epoch: 1051 cost= 0.084992029 W= 0.30047974 b= 0.43933862\n",
      "Epoch: 1051 cost= 0.084920354 W= 0.30306423 b= 0.439926\n",
      "Epoch: 1051 cost= 0.084918529 W= 0.30300993 b= 0.43991613\n",
      "Epoch: 1051 cost= 0.085198708 W= 0.3058395 b= 0.44033784\n",
      "Epoch: 1051 cost= 0.084905520 W= 0.30231008 b= 0.43982854\n",
      "Epoch: 1051 cost= 0.084908567 W= 0.30199906 b= 0.43975392\n",
      "Epoch: 1051 cost= 0.084910810 W= 0.30184373 b= 0.43973804\n",
      "Epoch: 1051 cost= 0.084914729 W= 0.30289927 b= 0.43990877\n",
      "Epoch: 1051 cost= 0.084907353 W= 0.30196652 b= 0.43978587\n",
      "Epoch: 1051 cost= 0.084903389 W= 0.30212823 b= 0.4398605\n",
      "Epoch: 1051 cost= 0.084923349 W= 0.30320337 b= 0.44001317\n",
      "Epoch: 1051 cost= 0.084908321 W= 0.30163625 b= 0.43986794\n",
      "Epoch: 1051 cost= 0.084980913 W= 0.3004097 b= 0.4396371\n",
      "Epoch: 1051 cost= 0.084958270 W= 0.3007013 b= 0.43967354\n",
      "Epoch: 1051 cost= 0.084909812 W= 0.30163306 b= 0.43983835\n",
      "Epoch: 1051 cost= 0.085012935 W= 0.30001912 b= 0.43966424\n",
      "Epoch: 1051 cost= 0.085027725 W= 0.29989198 b= 0.43962324\n",
      "Epoch: 1101 cost= 0.084061339 W= 0.29746196 b= 0.46087864\n",
      "Epoch: 1101 cost= 0.083991952 W= 0.30002505 b= 0.46146116\n",
      "Epoch: 1101 cost= 0.083989590 W= 0.29995516 b= 0.46144846\n",
      "Epoch: 1101 cost= 0.084266908 W= 0.30278066 b= 0.46186954\n",
      "Epoch: 1101 cost= 0.083977178 W= 0.29924986 b= 0.46136004\n",
      "Epoch: 1101 cost= 0.083980873 W= 0.29891732 b= 0.46128026\n",
      "Epoch: 1101 cost= 0.083982505 W= 0.29881153 b= 0.46126944\n",
      "Epoch: 1101 cost= 0.083986416 W= 0.29985693 b= 0.46143854\n",
      "Epoch: 1101 cost= 0.083979189 W= 0.29893115 b= 0.46131656\n",
      "Epoch: 1101 cost= 0.083975770 W= 0.2990738 b= 0.4613824\n",
      "Epoch: 1101 cost= 0.083994813 W= 0.3001489 b= 0.46153507\n",
      "Epoch: 1101 cost= 0.083979487 W= 0.2986544 b= 0.46139657\n",
      "Epoch: 1101 cost= 0.084050387 W= 0.29741007 b= 0.46116236\n",
      "Epoch: 1101 cost= 0.084027432 W= 0.29771325 b= 0.46120027\n",
      "Epoch: 1101 cost= 0.083981514 W= 0.29862964 b= 0.46136233\n",
      "Epoch: 1101 cost= 0.084079035 W= 0.29705015 b= 0.46119195\n",
      "Epoch: 1101 cost= 0.084095970 W= 0.29690054 b= 0.4611437\n",
      "Epoch: 1151 cost= 0.083238371 W= 0.29462352 b= 0.4811383\n",
      "Epoch: 1151 cost= 0.083171085 W= 0.29716653 b= 0.48171625\n",
      "Epoch: 1151 cost= 0.083168298 W= 0.29708198 b= 0.48170087\n",
      "Epoch: 1151 cost= 0.083442949 W= 0.29990366 b= 0.48212138\n",
      "Epoch: 1151 cost= 0.083156437 W= 0.29637158 b= 0.4816117\n",
      "Epoch: 1151 cost= 0.083160765 W= 0.2960188 b= 0.48152706\n",
      "Epoch: 1151 cost= 0.083161741 W= 0.2959596 b= 0.481521\n",
      "Epoch: 1151 cost= 0.083165668 W= 0.29699546 b= 0.48168856\n",
      "Epoch: 1151 cost= 0.083158568 W= 0.29607624 b= 0.48156744\n",
      "Epoch: 1151 cost= 0.083155662 W= 0.29620096 b= 0.481625\n",
      "Epoch: 1151 cost= 0.083173849 W= 0.29727602 b= 0.48177767\n",
      "Epoch: 1151 cost= 0.083158314 W= 0.2958498 b= 0.4816455\n",
      "Epoch: 1151 cost= 0.083227538 W= 0.29458874 b= 0.48140815\n",
      "Epoch: 1151 cost= 0.083204299 W= 0.29490283 b= 0.48144743\n",
      "Epoch: 1151 cost= 0.083160765 W= 0.2958047 b= 0.48160693\n",
      "Epoch: 1151 cost= 0.083253138 W= 0.2942576 b= 0.48144004\n",
      "Epoch: 1151 cost= 0.083271958 W= 0.29408684 b= 0.48138496\n",
      "Epoch: 1201 cost= 0.082510777 W= 0.291954 b= 0.5001922\n",
      "Epoch: 1201 cost= 0.082445450 W= 0.2944781 b= 0.50076586\n",
      "Epoch: 1201 cost= 0.082442231 W= 0.29437974 b= 0.500748\n",
      "Epoch: 1201 cost= 0.082714356 W= 0.2971978 b= 0.50116795\n",
      "Epoch: 1201 cost= 0.082430877 W= 0.29366452 b= 0.5006581\n",
      "Epoch: 1201 cost= 0.082435898 W= 0.2932927 b= 0.50056887\n",
      "Epoch: 1201 cost= 0.082436159 W= 0.2932773 b= 0.5005673\n",
      "Epoch: 1201 cost= 0.082440086 W= 0.2943042 b= 0.50073344\n",
      "Epoch: 1201 cost= 0.082433164 W= 0.29339114 b= 0.50061315\n",
      "Epoch: 1201 cost= 0.082430638 W= 0.293499 b= 0.5006629\n",
      "Epoch: 1201 cost= 0.082448050 W= 0.294574 b= 0.5008156\n",
      "Epoch: 1201 cost= 0.082432367 W= 0.29321203 b= 0.5006893\n",
      "Epoch: 1201 cost= 0.082499996 W= 0.29193527 b= 0.500449\n",
      "Epoch: 1201 cost= 0.082476549 W= 0.2922596 b= 0.50048953\n",
      "Epoch: 1201 cost= 0.082435161 W= 0.29314786 b= 0.50064665\n",
      "Epoch: 1201 cost= 0.082522824 W= 0.29163125 b= 0.50048304\n",
      "Epoch: 1201 cost= 0.082543321 W= 0.2914406 b= 0.5004215\n",
      "Epoch: 1251 cost= 0.081867456 W= 0.28944334 b= 0.5181129\n",
      "Epoch: 1251 cost= 0.081803977 W= 0.29194963 b= 0.5186825\n",
      "Epoch: 1251 cost= 0.081800364 W= 0.29183832 b= 0.5186622\n",
      "Epoch: 1251 cost= 0.082070112 W= 0.29465297 b= 0.5190817\n",
      "Epoch: 1251 cost= 0.081789516 W= 0.29111856 b= 0.5185717\n",
      "Epoch: 1251 cost= 0.081795171 W= 0.29072884 b= 0.51847816\n",
      "Epoch: 1251 cost= 0.081794716 W= 0.29075465 b= 0.5184808\n",
      "Epoch: 1251 cost= 0.081798650 W= 0.29177314 b= 0.5186455\n",
      "Epoch: 1251 cost= 0.081791833 W= 0.2908659 b= 0.518526\n",
      "Epoch: 1251 cost= 0.081789739 W= 0.2909579 b= 0.51856846\n",
      "Epoch: 1251 cost= 0.081806384 W= 0.29203287 b= 0.5187211\n",
      "Epoch: 1251 cost= 0.081790656 W= 0.29073128 b= 0.51860046\n",
      "Epoch: 1251 cost= 0.081856698 W= 0.28943974 b= 0.5183574\n",
      "Epoch: 1251 cost= 0.081833072 W= 0.2897737 b= 0.5183992\n",
      "Epoch: 1251 cost= 0.081793688 W= 0.29064915 b= 0.51855403\n",
      "Epoch: 1251 cost= 0.081877008 W= 0.2891612 b= 0.5183935\n",
      "Epoch: 1251 cost= 0.081899002 W= 0.28895187 b= 0.518326\n",
      "Epoch: 1301 cost= 0.081298687 W= 0.28708187 b= 0.534968\n",
      "Epoch: 1301 cost= 0.081236906 W= 0.2895714 b= 0.53553385\n",
      "Epoch: 1301 cost= 0.081232898 W= 0.2894479 b= 0.5355114\n",
      "Epoch: 1301 cost= 0.081500463 W= 0.29225937 b= 0.5359304\n",
      "Epoch: 1301 cost= 0.081222542 W= 0.2887239 b= 0.53542024\n",
      "Epoch: 1301 cost= 0.081228882 W= 0.28831732 b= 0.5353227\n",
      "Epoch: 1301 cost= 0.081227683 W= 0.28838187 b= 0.53532934\n",
      "Epoch: 1301 cost= 0.081231602 W= 0.28939244 b= 0.53549284\n",
      "Epoch: 1301 cost= 0.081224889 W= 0.28849065 b= 0.53537405\n",
      "Epoch: 1301 cost= 0.081223175 W= 0.28856772 b= 0.5354096\n",
      "Epoch: 1301 cost= 0.081239104 W= 0.28964266 b= 0.5355623\n",
      "Epoch: 1301 cost= 0.081223406 W= 0.2883979 b= 0.53544694\n",
      "Epoch: 1301 cost= 0.081287920 W= 0.28709245 b= 0.53520125\n",
      "Epoch: 1301 cost= 0.081264131 W= 0.28743547 b= 0.53524417\n",
      "Epoch: 1301 cost= 0.081226595 W= 0.28829885 b= 0.5353969\n",
      "Epoch: 1301 cost= 0.081305958 W= 0.28683785 b= 0.5352393\n",
      "Epoch: 1301 cost= 0.081329234 W= 0.28661093 b= 0.5351661\n"
     ]
    },
    {
     "name": "stdout",
     "output_type": "stream",
     "text": [
      "Epoch: 1351 cost= 0.080795817 W= 0.2848609 b= 0.5508209\n",
      "Epoch: 1351 cost= 0.080735601 W= 0.2873347 b= 0.55138314\n",
      "Epoch: 1351 cost= 0.080731302 W= 0.28719974 b= 0.5513586\n",
      "Epoch: 1351 cost= 0.080996782 W= 0.2900082 b= 0.5517771\n",
      "Epoch: 1351 cost= 0.080721378 W= 0.28647172 b= 0.5512668\n",
      "Epoch: 1351 cost= 0.080728389 W= 0.28604934 b= 0.55116546\n",
      "Epoch: 1351 cost= 0.080726407 W= 0.28615034 b= 0.5511758\n",
      "Epoch: 1351 cost= 0.080730341 W= 0.28715342 b= 0.551338\n",
      "Epoch: 1351 cost= 0.080723740 W= 0.28625676 b= 0.5512199\n",
      "Epoch: 1351 cost= 0.080722354 W= 0.28631982 b= 0.55124897\n",
      "Epoch: 1351 cost= 0.080737628 W= 0.2873947 b= 0.5514016\n",
      "Epoch: 1351 cost= 0.080722004 W= 0.28620338 b= 0.5512912\n",
      "Epoch: 1351 cost= 0.080785021 W= 0.28488484 b= 0.55104303\n",
      "Epoch: 1351 cost= 0.080761150 W= 0.2852364 b= 0.551087\n",
      "Epoch: 1351 cost= 0.080725327 W= 0.28608844 b= 0.5512377\n",
      "Epoch: 1351 cost= 0.080800988 W= 0.2846528 b= 0.55108285\n",
      "Epoch: 1351 cost= 0.080825418 W= 0.28440934 b= 0.5510043\n",
      "Epoch: 1401 cost= 0.080351263 W= 0.282772 b= 0.5657307\n",
      "Epoch: 1401 cost= 0.080292538 W= 0.28523102 b= 0.56628954\n",
      "Epoch: 1401 cost= 0.080287918 W= 0.28508523 b= 0.566263\n",
      "Epoch: 1401 cost= 0.080551423 W= 0.28789085 b= 0.56668115\n",
      "Epoch: 1401 cost= 0.080278441 W= 0.28435344 b= 0.5661707\n",
      "Epoch: 1401 cost= 0.080286086 W= 0.28391615 b= 0.5660658\n",
      "Epoch: 1401 cost= 0.080283336 W= 0.28405142 b= 0.5660796\n",
      "Epoch: 1401 cost= 0.080287240 W= 0.2850475 b= 0.5662407\n",
      "Epoch: 1401 cost= 0.080280781 W= 0.28415567 b= 0.56612325\n",
      "Epoch: 1401 cost= 0.080279686 W= 0.28420553 b= 0.56614625\n",
      "Epoch: 1401 cost= 0.080294333 W= 0.28528038 b= 0.5662989\n",
      "Epoch: 1401 cost= 0.080278829 W= 0.28413934 b= 0.56619316\n",
      "Epoch: 1401 cost= 0.080340415 W= 0.2828085 b= 0.5659427\n",
      "Epoch: 1401 cost= 0.080316454 W= 0.28316808 b= 0.56598765\n",
      "Epoch: 1401 cost= 0.080282196 W= 0.28400946 b= 0.5661365\n",
      "Epoch: 1401 cost= 0.080354512 W= 0.28259766 b= 0.5659842\n",
      "Epoch: 1401 cost= 0.080379941 W= 0.28233865 b= 0.5659006\n",
      "Epoch: 1451 cost= 0.079958245 W= 0.28080726 b= 0.5797546\n",
      "Epoch: 1451 cost= 0.079900928 W= 0.28325236 b= 0.5803103\n",
      "Epoch: 1451 cost= 0.079895996 W= 0.28309643 b= 0.5802819\n",
      "Epoch: 1451 cost= 0.080157675 W= 0.2858994 b= 0.5806996\n",
      "Epoch: 1451 cost= 0.079886913 W= 0.2823611 b= 0.58018905\n",
      "Epoch: 1451 cost= 0.079895206 W= 0.2819098 b= 0.58008075\n",
      "Epoch: 1451 cost= 0.079891674 W= 0.2820773 b= 0.58009785\n",
      "Epoch: 1451 cost= 0.079895601 W= 0.2830668 b= 0.5802579\n",
      "Epoch: 1451 cost= 0.079889230 W= 0.2821795 b= 0.580141\n",
      "Epoch: 1451 cost= 0.079888411 W= 0.28221694 b= 0.5801583\n",
      "Epoch: 1451 cost= 0.079902463 W= 0.28329176 b= 0.58031094\n",
      "Epoch: 1451 cost= 0.079887100 W= 0.28219798 b= 0.58020955\n",
      "Epoch: 1451 cost= 0.079947300 W= 0.2808556 b= 0.5799569\n",
      "Epoch: 1451 cost= 0.079923309 W= 0.2812227 b= 0.5800028\n",
      "Epoch: 1451 cost= 0.079890519 W= 0.28205407 b= 0.5801498\n",
      "Epoch: 1451 cost= 0.079959698 W= 0.2806647 b= 0.5799999\n",
      "Epoch: 1451 cost= 0.079986043 W= 0.28039107 b= 0.57991165\n",
      "Epoch: 1501 cost= 0.079610825 W= 0.2789594 b= 0.5929439\n",
      "Epoch: 1501 cost= 0.079554766 W= 0.28139138 b= 0.5934966\n",
      "Epoch: 1501 cost= 0.079549573 W= 0.2812259 b= 0.5934665\n",
      "Epoch: 1501 cost= 0.079809546 W= 0.28402635 b= 0.5938839\n",
      "Epoch: 1501 cost= 0.079540916 W= 0.2804872 b= 0.5933732\n",
      "Epoch: 1501 cost= 0.079549819 W= 0.28002274 b= 0.5932617\n",
      "Epoch: 1501 cost= 0.079545513 W= 0.2802206 b= 0.5932819\n",
      "Epoch: 1501 cost= 0.079549454 W= 0.28120387 b= 0.593441\n",
      "Epoch: 1501 cost= 0.079543173 W= 0.28032085 b= 0.59332466\n",
      "Epoch: 1501 cost= 0.079542600 W= 0.28034663 b= 0.5933366\n",
      "Epoch: 1501 cost= 0.079556108 W= 0.28142142 b= 0.5934892\n",
      "Epoch: 1501 cost= 0.079540938 W= 0.2803721 b= 0.593392\n",
      "Epoch: 1501 cost= 0.079599798 W= 0.27901882 b= 0.5931373\n",
      "Epoch: 1501 cost= 0.079575755 W= 0.27939302 b= 0.5931841\n",
      "Epoch: 1501 cost= 0.079544291 W= 0.28021494 b= 0.5933295\n",
      "Epoch: 1501 cost= 0.079610646 W= 0.27884668 b= 0.5931819\n",
      "Epoch: 1501 cost= 0.079637773 W= 0.27855927 b= 0.5930892\n",
      "Epoch: 1551 cost= 0.079303741 W= 0.27722156 b= 0.6053483\n",
      "Epoch: 1551 cost= 0.079248883 W= 0.27964124 b= 0.6058982\n",
      "Epoch: 1551 cost= 0.079243459 W= 0.27946678 b= 0.6058665\n",
      "Epoch: 1551 cost= 0.079501808 W= 0.2822649 b= 0.6062835\n",
      "Epoch: 1551 cost= 0.079235151 W= 0.27872497 b= 0.6057727\n",
      "Epoch: 1551 cost= 0.079244643 W= 0.2782481 b= 0.6056583\n",
      "Epoch: 1551 cost= 0.079239622 W= 0.27847448 b= 0.6056814\n",
      "Epoch: 1551 cost= 0.079243533 W= 0.27945194 b= 0.60583955\n",
      "Epoch: 1551 cost= 0.079237312 W= 0.27857292 b= 0.60572374\n",
      "Epoch: 1551 cost= 0.079237014 W= 0.27858773 b= 0.6057306\n",
      "Epoch: 1551 cost= 0.079249993 W= 0.2796625 b= 0.60588324\n",
      "Epoch: 1551 cost= 0.079235040 W= 0.278655 b= 0.6057899\n",
      "Epoch: 1551 cost= 0.079292603 W= 0.27729148 b= 0.60553324\n",
      "Epoch: 1551 cost= 0.079268537 W= 0.27767235 b= 0.60558087\n",
      "Epoch: 1551 cost= 0.079238333 W= 0.2784854 b= 0.6057247\n",
      "Epoch: 1551 cost= 0.079302020 W= 0.27713695 b= 0.60557926\n",
      "Epoch: 1551 cost= 0.079329841 W= 0.2768366 b= 0.6054824\n",
      "Epoch: 1601 cost= 0.079032257 W= 0.27558696 b= 0.6170162\n",
      "Epoch: 1601 cost= 0.078978553 W= 0.27799505 b= 0.6175635\n",
      "Epoch: 1601 cost= 0.078972876 W= 0.27781212 b= 0.6175302\n",
      "Epoch: 1601 cost= 0.079229705 W= 0.28060803 b= 0.6179469\n",
      "Epoch: 1601 cost= 0.078964934 W= 0.27706736 b= 0.617436\n",
      "Epoch: 1601 cost= 0.078974992 W= 0.27657884 b= 0.6173188\n",
      "Epoch: 1601 cost= 0.078969233 W= 0.27683204 b= 0.6173447\n",
      "Epoch: 1601 cost= 0.078973152 W= 0.277804 b= 0.6175019\n",
      "Epoch: 1601 cost= 0.078967027 W= 0.27692875 b= 0.6173866\n",
      "Epoch: 1601 cost= 0.078966938 W= 0.27693322 b= 0.61738867\n",
      "Epoch: 1601 cost= 0.078979440 W= 0.27800795 b= 0.61754125\n",
      "Epoch: 1601 cost= 0.078964688 W= 0.27703977 b= 0.61745155\n",
      "Epoch: 1601 cost= 0.079021029 W= 0.27566662 b= 0.6171931\n",
      "Epoch: 1601 cost= 0.078996949 W= 0.2760538 b= 0.6172415\n",
      "Epoch: 1601 cost= 0.078967899 W= 0.27685848 b= 0.61738384\n",
      "Epoch: 1601 cost= 0.079029150 W= 0.2755287 b= 0.61724037\n",
      "Epoch: 1601 cost= 0.079057597 W= 0.2752162 b= 0.6171396\n",
      "Epoch: 1651 cost= 0.078792378 W= 0.27404964 b= 0.6279882\n",
      "Epoch: 1651 cost= 0.078739680 W= 0.27644685 b= 0.62853307\n",
      "Epoch: 1651 cost= 0.078733794 W= 0.276256 b= 0.6284984\n",
      "Epoch: 1651 cost= 0.078989215 W= 0.2790498 b= 0.6289147\n",
      "Epoch: 1651 cost= 0.078726195 W= 0.27550846 b= 0.6284037\n",
      "Epoch: 1651 cost= 0.078736812 W= 0.27500898 b= 0.62828386\n",
      "Epoch: 1651 cost= 0.078730330 W= 0.27528742 b= 0.62831235\n",
      "Epoch: 1651 cost= 0.078734256 W= 0.2762542 b= 0.62846875\n",
      "Epoch: 1651 cost= 0.078728199 W= 0.27538252 b= 0.6283539\n",
      "Epoch: 1651 cost= 0.078728318 W= 0.27537727 b= 0.62835145\n",
      "Epoch: 1651 cost= 0.078740336 W= 0.27645198 b= 0.62850404\n",
      "Epoch: 1651 cost= 0.078725860 W= 0.2755208 b= 0.62841773\n",
      "Epoch: 1651 cost= 0.078781016 W= 0.2741386 b= 0.62815756\n",
      "Epoch: 1651 cost= 0.078756958 W= 0.27453166 b= 0.62820673\n",
      "Epoch: 1651 cost= 0.078728974 W= 0.27532852 b= 0.6283477\n",
      "Epoch: 1651 cost= 0.078787960 W= 0.2740163 b= 0.62820613\n",
      "Epoch: 1651 cost= 0.078816950 W= 0.27369234 b= 0.62810165\n",
      "Epoch: 1701 cost= 0.078580365 W= 0.2726039 b= 0.6383074\n",
      "Epoch: 1701 cost= 0.078528643 W= 0.27499086 b= 0.63884985\n",
      "Epoch: 1701 cost= 0.078522556 W= 0.27479252 b= 0.6388138\n",
      "Epoch: 1701 cost= 0.078776613 W= 0.27758437 b= 0.6392299\n",
      "Epoch: 1701 cost= 0.078515261 W= 0.27404237 b= 0.6387188\n",
      "Epoch: 1701 cost= 0.078526445 W= 0.27353257 b= 0.6385965\n",
      "Epoch: 1701 cost= 0.078519247 W= 0.27383474 b= 0.63862735\n",
      "Epoch: 1701 cost= 0.078523144 W= 0.27479666 b= 0.638783\n",
      "Epoch: 1701 cost= 0.078517191 W= 0.2739283 b= 0.6386686\n",
      "Epoch: 1701 cost= 0.078517504 W= 0.27391395 b= 0.638662\n",
      "Epoch: 1701 cost= 0.078529052 W= 0.27498862 b= 0.63881457\n",
      "Epoch: 1701 cost= 0.078514829 W= 0.27409223 b= 0.6387315\n",
      "Epoch: 1701 cost= 0.078568868 W= 0.27270153 b= 0.6384697\n",
      "Epoch: 1701 cost= 0.078544833 W= 0.27310014 b= 0.6385195\n",
      "Epoch: 1701 cost= 0.078517824 W= 0.2738896 b= 0.6386592\n",
      "Epoch: 1701 cost= 0.078574732 W= 0.2725939 b= 0.6385194\n",
      "Epoch: 1701 cost= 0.078604192 W= 0.27225915 b= 0.6384114\n",
      "Epoch: 1751 cost= 0.078392975 W= 0.2712441 b= 0.6480126\n",
      "Epoch: 1751 cost= 0.078342147 W= 0.27362144 b= 0.6485529\n",
      "Epoch: 1751 cost= 0.078335911 W= 0.2734161 b= 0.6485156\n",
      "Epoch: 1751 cost= 0.078588687 W= 0.27620614 b= 0.6489314\n",
      "Epoch: 1751 cost= 0.078328922 W= 0.27266353 b= 0.64842016\n",
      "Epoch: 1751 cost= 0.078340597 W= 0.27214405 b= 0.6482955\n",
      "Epoch: 1751 cost= 0.078332737 W= 0.27246854 b= 0.6483287\n",
      "Epoch: 1751 cost= 0.078336641 W= 0.2734259 b= 0.6484836\n",
      "Epoch: 1751 cost= 0.078330740 W= 0.27256072 b= 0.6483696\n",
      "Epoch: 1751 cost= 0.078331202 W= 0.27253777 b= 0.648359\n",
      "Epoch: 1751 cost= 0.078342386 W= 0.2736124 b= 0.6485116\n",
      "Epoch: 1751 cost= 0.078328416 W= 0.27274874 b= 0.64843154\n",
      "Epoch: 1751 cost= 0.078381367 W= 0.27135003 b= 0.64816827\n",
      "Epoch: 1751 cost= 0.078357346 W= 0.27175385 b= 0.64821875\n",
      "Epoch: 1751 cost= 0.078331262 W= 0.27253637 b= 0.64835715\n",
      "Epoch: 1751 cost= 0.078386255 W= 0.27125618 b= 0.64821905\n",
      "Epoch: 1751 cost= 0.078416124 W= 0.27091134 b= 0.6481078\n"
     ]
    },
    {
     "name": "stdout",
     "output_type": "stream",
     "text": [
      "Epoch: 1801 cost= 0.078227356 W= 0.2699654 b= 0.65714043\n",
      "Epoch: 1801 cost= 0.078177445 W= 0.27233368 b= 0.65767866\n",
      "Epoch: 1801 cost= 0.078171007 W= 0.27212173 b= 0.6576401\n",
      "Epoch: 1801 cost= 0.078422621 W= 0.27491003 b= 0.65805566\n",
      "Epoch: 1801 cost= 0.078164294 W= 0.27136683 b= 0.6575444\n",
      "Epoch: 1801 cost= 0.078176476 W= 0.27083823 b= 0.65741754\n",
      "Epoch: 1801 cost= 0.078167938 W= 0.2711837 b= 0.6574529\n",
      "Epoch: 1801 cost= 0.078171849 W= 0.27213678 b= 0.6576071\n",
      "Epoch: 1801 cost= 0.078166030 W= 0.27127454 b= 0.6574935\n",
      "Epoch: 1801 cost= 0.078166634 W= 0.2712435 b= 0.65747917\n",
      "Epoch: 1801 cost= 0.078177430 W= 0.27231812 b= 0.65763175\n",
      "Epoch: 1801 cost= 0.078163713 W= 0.2714852 b= 0.65755457\n",
      "Epoch: 1801 cost= 0.078215636 W= 0.27007896 b= 0.65728986\n",
      "Epoch: 1801 cost= 0.078191653 W= 0.2704877 b= 0.65734094\n",
      "Epoch: 1801 cost= 0.078166425 W= 0.2712637 b= 0.6574782\n",
      "Epoch: 1801 cost= 0.078219630 W= 0.2699981 b= 0.65734166\n",
      "Epoch: 1801 cost= 0.078249857 W= 0.26964372 b= 0.65722734\n",
      "Epoch: 1851 cost= 0.078081042 W= 0.2687624 b= 0.66572636\n",
      "Epoch: 1851 cost= 0.078031868 W= 0.27112216 b= 0.6662627\n",
      "Epoch: 1851 cost= 0.078025274 W= 0.27090397 b= 0.666223\n",
      "Epoch: 1851 cost= 0.078275785 W= 0.27369064 b= 0.6666383\n",
      "Epoch: 1851 cost= 0.078018859 W= 0.2701469 b= 0.66612697\n",
      "Epoch: 1851 cost= 0.078031510 W= 0.26960972 b= 0.6659981\n",
      "Epoch: 1851 cost= 0.078022346 W= 0.26997492 b= 0.6660355\n",
      "Epoch: 1851 cost= 0.078026272 W= 0.27092397 b= 0.666189\n",
      "Epoch: 1851 cost= 0.078020483 W= 0.2700645 b= 0.66607577\n",
      "Epoch: 1851 cost= 0.078021243 W= 0.27002588 b= 0.66605794\n",
      "Epoch: 1851 cost= 0.078031667 W= 0.2711005 b= 0.66621053\n",
      "Epoch: 1851 cost= 0.078018226 W= 0.2702965 b= 0.666136\n",
      "Epoch: 1851 cost= 0.078069165 W= 0.2688832 b= 0.66587\n",
      "Epoch: 1851 cost= 0.078045227 W= 0.26929656 b= 0.6659217\n",
      "Epoch: 1851 cost= 0.078020796 W= 0.2700664 b= 0.6660578\n",
      "Epoch: 1851 cost= 0.078072332 W= 0.26881456 b= 0.66592276\n",
      "Epoch: 1851 cost= 0.078102864 W= 0.26845124 b= 0.6658056\n",
      "Epoch: 1901 cost= 0.077951707 W= 0.2676311 b= 0.6738021\n",
      "Epoch: 1901 cost= 0.077903338 W= 0.26998284 b= 0.67433655\n",
      "Epoch: 1901 cost= 0.077896565 W= 0.26975882 b= 0.67429584\n",
      "Epoch: 1901 cost= 0.078146048 W= 0.27254397 b= 0.6747109\n",
      "Epoch: 1901 cost= 0.077890389 W= 0.26899973 b= 0.6741995\n",
      "Epoch: 1901 cost= 0.077903509 W= 0.26845446 b= 0.6740687\n",
      "Epoch: 1901 cost= 0.077893727 W= 0.26883823 b= 0.6741079\n",
      "Epoch: 1901 cost= 0.077897653 W= 0.26978347 b= 0.6742608\n",
      "Epoch: 1901 cost= 0.077891916 W= 0.26892662 b= 0.6741479\n",
      "Epoch: 1901 cost= 0.077892810 W= 0.26888084 b= 0.6741268\n",
      "Epoch: 1901 cost= 0.077902913 W= 0.26995543 b= 0.6742794\n",
      "Epoch: 1901 cost= 0.077889681 W= 0.2691787 b= 0.6742074\n",
      "Epoch: 1901 cost= 0.077939712 W= 0.2677587 b= 0.6739401\n",
      "Epoch: 1901 cost= 0.077915803 W= 0.2681764 b= 0.67399234\n",
      "Epoch: 1901 cost= 0.077892110 W= 0.26894048 b= 0.67412746\n",
      "Epoch: 1901 cost= 0.077942103 W= 0.26770154 b= 0.6739938\n",
      "Epoch: 1901 cost= 0.077972941 W= 0.26732978 b= 0.6738739\n",
      "Epoch: 1951 cost= 0.077837452 W= 0.266567 b= 0.6813975\n",
      "Epoch: 1951 cost= 0.077789754 W= 0.26891118 b= 0.68193024\n",
      "Epoch: 1951 cost= 0.077782869 W= 0.26868168 b= 0.6818885\n",
      "Epoch: 1951 cost= 0.078031369 W= 0.27146536 b= 0.68230337\n",
      "Epoch: 1951 cost= 0.077776924 W= 0.26792064 b= 0.68179184\n",
      "Epoch: 1951 cost= 0.077790476 W= 0.2673678 b= 0.6816592\n",
      "Epoch: 1951 cost= 0.077780128 W= 0.26776904 b= 0.6817002\n",
      "Epoch: 1951 cost= 0.077784039 W= 0.2687107 b= 0.6818526\n",
      "Epoch: 1951 cost= 0.077778347 W= 0.2678563 b= 0.68174\n",
      "Epoch: 1951 cost= 0.077779368 W= 0.2678038 b= 0.6817158\n",
      "Epoch: 1951 cost= 0.077789165 W= 0.26887834 b= 0.6818684\n",
      "Epoch: 1951 cost= 0.077776194 W= 0.2681272 b= 0.68179876\n",
      "Epoch: 1951 cost= 0.077825338 W= 0.26670095 b= 0.6815303\n",
      "Epoch: 1951 cost= 0.077801473 W= 0.26712275 b= 0.68158305\n",
      "Epoch: 1951 cost= 0.077778459 W= 0.2678814 b= 0.6817172\n",
      "Epoch: 1951 cost= 0.077827014 W= 0.2666546 b= 0.6815849\n",
      "Epoch: 1951 cost= 0.077858113 W= 0.26627493 b= 0.6814624\n",
      "Epoch: 2001 cost= 0.077736497 W= 0.26556602 b= 0.6885419\n",
      "Epoch: 2001 cost= 0.077689461 W= 0.26790312 b= 0.689073\n",
      "Epoch: 2001 cost= 0.077682428 W= 0.26766843 b= 0.68903035\n",
      "Epoch: 2001 cost= 0.077929996 W= 0.27045077 b= 0.689445\n",
      "Epoch: 2001 cost= 0.077676721 W= 0.2669056 b= 0.68893343\n",
      "Epoch: 2001 cost= 0.077690698 W= 0.26634562 b= 0.6887991\n",
      "Epoch: 2001 cost= 0.077679783 W= 0.26676327 b= 0.6888418\n",
      "Epoch: 2001 cost= 0.077683687 W= 0.26770157 b= 0.6889936\n",
      "Epoch: 2001 cost= 0.077678032 W= 0.2668495 b= 0.68888134\n",
      "Epoch: 2001 cost= 0.077679187 W= 0.26679066 b= 0.6888542\n",
      "Epoch: 2001 cost= 0.077688649 W= 0.2678652 b= 0.6890068\n",
      "Epoch: 2001 cost= 0.077675954 W= 0.26713815 b= 0.68893945\n",
      "Epoch: 2001 cost= 0.077724271 W= 0.265706 b= 0.6886699\n",
      "Epoch: 2001 cost= 0.077700421 W= 0.26613164 b= 0.68872315\n",
      "Epoch: 2001 cost= 0.077678055 W= 0.2668852 b= 0.6888564\n",
      "Epoch: 2001 cost= 0.077725314 W= 0.26566982 b= 0.6887253\n",
      "Epoch: 2001 cost= 0.077756599 W= 0.2652827 b= 0.6886004\n",
      "Epoch: 2051 cost= 0.077647321 W= 0.26462474 b= 0.6952604\n",
      "Epoch: 2051 cost= 0.077600889 W= 0.26695517 b= 0.69579005\n",
      "Epoch: 2051 cost= 0.077593751 W= 0.26671562 b= 0.6957465\n",
      "Epoch: 2051 cost= 0.077840455 W= 0.26949668 b= 0.696161\n",
      "Epoch: 2051 cost= 0.077588268 W= 0.26595107 b= 0.6956493\n",
      "Epoch: 2051 cost= 0.077602625 W= 0.26538438 b= 0.69551337\n",
      "Epoch: 2051 cost= 0.077591151 W= 0.2658175 b= 0.69555765\n",
      "Epoch: 2051 cost= 0.077595077 W= 0.26675263 b= 0.69570893\n",
      "Epoch: 2051 cost= 0.077589490 W= 0.26590273 b= 0.69559693\n",
      "Epoch: 2051 cost= 0.077590726 W= 0.26583797 b= 0.6955671\n",
      "Epoch: 2051 cost= 0.077599920 W= 0.2669125 b= 0.69571966\n",
      "Epoch: 2051 cost= 0.077587456 W= 0.26620808 b= 0.6956544\n",
      "Epoch: 2051 cost= 0.077634960 W= 0.2647704 b= 0.6953838\n",
      "Epoch: 2051 cost= 0.077611186 W= 0.26519963 b= 0.6954375\n",
      "Epoch: 2051 cost= 0.077589400 W= 0.26594836 b= 0.69556993\n",
      "Epoch: 2051 cost= 0.077635437 W= 0.26474375 b= 0.69544\n",
      "Epoch: 2051 cost= 0.077666909 W= 0.2643496 b= 0.69531286\n",
      "Epoch: 2101 cost= 0.077568538 W= 0.26373938 b= 0.70158035\n",
      "Epoch: 2101 cost= 0.077522688 W= 0.2660635 b= 0.70210856\n",
      "Epoch: 2101 cost= 0.077515431 W= 0.26581937 b= 0.70206416\n",
      "Epoch: 2101 cost= 0.077761322 W= 0.26859924 b= 0.70247847\n",
      "Epoch: 2101 cost= 0.077510141 W= 0.26505324 b= 0.70196676\n",
      "Epoch: 2101 cost= 0.077524878 W= 0.26448023 b= 0.7018293\n",
      "Epoch: 2101 cost= 0.077512912 W= 0.26492786 b= 0.7018751\n",
      "Epoch: 2101 cost= 0.077516809 W= 0.26586005 b= 0.7020259\n",
      "Epoch: 2101 cost= 0.077511258 W= 0.26501217 b= 0.7019142\n",
      "Epoch: 2101 cost= 0.077512607 W= 0.2649418 b= 0.7018817\n",
      "Epoch: 2101 cost= 0.077521540 W= 0.26601633 b= 0.7020343\n",
      "Epoch: 2101 cost= 0.077509306 W= 0.26533324 b= 0.701971\n",
      "Epoch: 2101 cost= 0.077556074 W= 0.26389033 b= 0.70169944\n",
      "Epoch: 2101 cost= 0.077532336 W= 0.26432297 b= 0.70175356\n",
      "Epoch: 2101 cost= 0.077511102 W= 0.2650672 b= 0.70188516\n",
      "Epoch: 2101 cost= 0.077555969 W= 0.26387268 b= 0.7017563\n",
      "Epoch: 2101 cost= 0.077587627 W= 0.26347193 b= 0.701627\n",
      "Epoch: 2151 cost= 0.077498958 W= 0.26290664 b= 0.70752376\n",
      "Epoch: 2151 cost= 0.077453643 W= 0.2652249 b= 0.7080506\n",
      "Epoch: 2151 cost= 0.077446289 W= 0.26497647 b= 0.7080054\n",
      "Epoch: 2151 cost= 0.077691406 W= 0.2677552 b= 0.70841956\n",
      "Epoch: 2151 cost= 0.077441178 W= 0.26420882 b= 0.7079078\n",
      "Epoch: 2151 cost= 0.077456303 W= 0.26362988 b= 0.7077689\n",
      "Epoch: 2151 cost= 0.077443831 W= 0.2640912 b= 0.70781606\n",
      "Epoch: 2151 cost= 0.077447720 W= 0.26502058 b= 0.7079664\n",
      "Epoch: 2151 cost= 0.077442221 W= 0.26417464 b= 0.7078549\n",
      "Epoch: 2151 cost= 0.077443652 W= 0.26409903 b= 0.70782006\n",
      "Epoch: 2151 cost= 0.077452339 W= 0.26517352 b= 0.70797265\n",
      "Epoch: 2151 cost= 0.077440336 W= 0.26451045 b= 0.7079112\n",
      "Epoch: 2151 cost= 0.077486351 W= 0.26306266 b= 0.7076387\n",
      "Epoch: 2151 cost= 0.077462710 W= 0.26349849 b= 0.70769316\n",
      "Epoch: 2151 cost= 0.077441975 W= 0.26423845 b= 0.70782405\n",
      "Epoch: 2151 cost= 0.077485777 W= 0.26305345 b= 0.7076962\n",
      "Epoch: 2151 cost= 0.077517584 W= 0.2626465 b= 0.70756495\n",
      "Epoch: 2201 cost= 0.077437505 W= 0.26212347 b= 0.7131138\n",
      "Epoch: 2201 cost= 0.077392690 W= 0.26443616 b= 0.7136394\n",
      "Epoch: 2201 cost= 0.077385247 W= 0.26418367 b= 0.7135935\n",
      "Epoch: 2201 cost= 0.077629648 W= 0.26696134 b= 0.71400744\n",
      "Epoch: 2201 cost= 0.077380329 W= 0.2634146 b= 0.7134957\n",
      "Epoch: 2201 cost= 0.077395774 W= 0.26283008 b= 0.7133554\n",
      "Epoch: 2201 cost= 0.077382833 W= 0.26330423 b= 0.7134039\n",
      "Epoch: 2201 cost= 0.077386744 W= 0.264231 b= 0.7135538\n",
      "Epoch: 2201 cost= 0.077381246 W= 0.26338688 b= 0.71344256\n",
      "Epoch: 2201 cost= 0.077382788 W= 0.26330632 b= 0.7134054\n",
      "Epoch: 2201 cost= 0.077391222 W= 0.2643808 b= 0.71355796\n",
      "Epoch: 2201 cost= 0.077379473 W= 0.26373658 b= 0.71349823\n",
      "Epoch: 2201 cost= 0.077424809 W= 0.26228416 b= 0.7132249\n",
      "Epoch: 2201 cost= 0.077401176 W= 0.262723 b= 0.7132798\n",
      "Epoch: 2201 cost= 0.077380948 W= 0.26345897 b= 0.71340996\n",
      "Epoch: 2201 cost= 0.077423751 W= 0.2622829 b= 0.7132831\n",
      "Epoch: 2201 cost= 0.077455699 W= 0.26187015 b= 0.71314996\n"
     ]
    },
    {
     "name": "stdout",
     "output_type": "stream",
     "text": [
      "Epoch: 2251 cost= 0.077383243 W= 0.2613869 b= 0.7183712\n",
      "Epoch: 2251 cost= 0.077338904 W= 0.26369438 b= 0.7188956\n",
      "Epoch: 2251 cost= 0.077331372 W= 0.2634381 b= 0.718849\n",
      "Epoch: 2251 cost= 0.077575088 W= 0.2662148 b= 0.71926284\n",
      "Epoch: 2251 cost= 0.077326603 W= 0.26266772 b= 0.718751\n",
      "Epoch: 2251 cost= 0.077342413 W= 0.26207796 b= 0.7186095\n",
      "Epoch: 2251 cost= 0.077329002 W= 0.2625642 b= 0.7186592\n",
      "Epoch: 2251 cost= 0.077332906 W= 0.2634885 b= 0.7188087\n",
      "Epoch: 2251 cost= 0.077327460 W= 0.26264608 b= 0.7186977\n",
      "Epoch: 2251 cost= 0.077329077 W= 0.26256087 b= 0.7186584\n",
      "Epoch: 2251 cost= 0.077337272 W= 0.26363534 b= 0.718811\n",
      "Epoch: 2251 cost= 0.077325732 W= 0.26300883 b= 0.7187529\n",
      "Epoch: 2251 cost= 0.077370435 W= 0.26155207 b= 0.71847874\n",
      "Epoch: 2251 cost= 0.077346869 W= 0.26199374 b= 0.718534\n",
      "Epoch: 2251 cost= 0.077327073 W= 0.26272595 b= 0.7186635\n",
      "Epoch: 2251 cost= 0.077368960 W= 0.2615583 b= 0.71853757\n",
      "Epoch: 2251 cost= 0.077401005 W= 0.26114005 b= 0.7184026\n",
      "Epoch: 2301 cost= 0.077335343 W= 0.26069397 b= 0.72331655\n",
      "Epoch: 2301 cost= 0.077291429 W= 0.26299652 b= 0.7238399\n",
      "Epoch: 2301 cost= 0.077283800 W= 0.26273665 b= 0.7237926\n",
      "Epoch: 2301 cost= 0.077526882 W= 0.2655124 b= 0.72420627\n",
      "Epoch: 2301 cost= 0.077279210 W= 0.26196504 b= 0.7236944\n",
      "Epoch: 2301 cost= 0.077295303 W= 0.26137033 b= 0.7235517\n",
      "Epoch: 2301 cost= 0.077281490 W= 0.26186794 b= 0.7236026\n",
      "Epoch: 2301 cost= 0.077285372 W= 0.2627899 b= 0.7237517\n",
      "Epoch: 2301 cost= 0.077279963 W= 0.2619491 b= 0.7236409\n",
      "Epoch: 2301 cost= 0.077281632 W= 0.2618595 b= 0.72359955\n",
      "Epoch: 2301 cost= 0.077289656 W= 0.26293397 b= 0.72375214\n",
      "Epoch: 2301 cost= 0.077278323 W= 0.26232412 b= 0.72369564\n",
      "Epoch: 2301 cost= 0.077322409 W= 0.26086327 b= 0.7234207\n",
      "Epoch: 2301 cost= 0.077298872 W= 0.2613076 b= 0.72347623\n",
      "Epoch: 2301 cost= 0.077279516 W= 0.26203626 b= 0.7236051\n",
      "Epoch: 2301 cost= 0.077320553 W= 0.26087654 b= 0.72348\n",
      "Epoch: 2301 cost= 0.077352695 W= 0.2604531 b= 0.7233434\n",
      "Epoch: 2351 cost= 0.077293016 W= 0.26004243 b= 0.7279677\n",
      "Epoch: 2351 cost= 0.077249527 W= 0.2623404 b= 0.72848994\n",
      "Epoch: 2351 cost= 0.077241838 W= 0.26207715 b= 0.7284421\n",
      "Epoch: 2351 cost= 0.077484325 W= 0.26485202 b= 0.7288556\n",
      "Epoch: 2351 cost= 0.077237412 W= 0.26130435 b= 0.72834367\n",
      "Epoch: 2351 cost= 0.077253774 W= 0.260705 b= 0.72819984\n",
      "Epoch: 2351 cost= 0.077239558 W= 0.2612133 b= 0.7282518\n",
      "Epoch: 2351 cost= 0.077243470 W= 0.26213306 b= 0.7284006\n",
      "Epoch: 2351 cost= 0.077238061 W= 0.26129374 b= 0.72829\n",
      "Epoch: 2351 cost= 0.077239811 W= 0.26120004 b= 0.72824675\n",
      "Epoch: 2351 cost= 0.077247627 W= 0.2622745 b= 0.72839934\n",
      "Epoch: 2351 cost= 0.077236496 W= 0.26168033 b= 0.72834426\n",
      "Epoch: 2351 cost= 0.077279992 W= 0.26021567 b= 0.7280686\n",
      "Epoch: 2351 cost= 0.077256531 W= 0.2606625 b= 0.72812444\n",
      "Epoch: 2351 cost= 0.077237546 W= 0.26138783 b= 0.7282527\n",
      "Epoch: 2351 cost= 0.077277780 W= 0.26023552 b= 0.72812843\n",
      "Epoch: 2351 cost= 0.077310011 W= 0.25980726 b= 0.72799027\n",
      "Epoch: 2401 cost= 0.077255689 W= 0.2594294 b= 0.7323425\n",
      "Epoch: 2401 cost= 0.077212587 W= 0.261723 b= 0.7328638\n",
      "Epoch: 2401 cost= 0.077204786 W= 0.2614566 b= 0.7328153\n",
      "Epoch: 2401 cost= 0.077446714 W= 0.26423064 b= 0.73322874\n",
      "Epoch: 2401 cost= 0.077200510 W= 0.2606827 b= 0.7327168\n",
      "Epoch: 2401 cost= 0.077217191 W= 0.26007897 b= 0.73257196\n",
      "Epoch: 2401 cost= 0.077202559 W= 0.26059735 b= 0.73262495\n",
      "Epoch: 2401 cost= 0.077206448 W= 0.26151505 b= 0.7327734\n",
      "Epoch: 2401 cost= 0.077201106 W= 0.26067716 b= 0.73266304\n",
      "Epoch: 2401 cost= 0.077202916 W= 0.2605796 b= 0.73261803\n",
      "Epoch: 2401 cost= 0.077210538 W= 0.26165402 b= 0.7327706\n",
      "Epoch: 2401 cost= 0.077199601 W= 0.2610746 b= 0.7327169\n",
      "Epoch: 2401 cost= 0.077242553 W= 0.25960633 b= 0.7324406\n",
      "Epoch: 2401 cost= 0.077219136 W= 0.2600555 b= 0.73249674\n",
      "Epoch: 2401 cost= 0.077200525 W= 0.2607777 b= 0.7326245\n",
      "Epoch: 2401 cost= 0.077240020 W= 0.2596324 b= 0.7325009\n",
      "Epoch: 2401 cost= 0.077272303 W= 0.25919956 b= 0.73236126\n",
      "Epoch: 2451 cost= 0.077222742 W= 0.25885302 b= 0.7364566\n",
      "Epoch: 2451 cost= 0.077179976 W= 0.26114255 b= 0.7369769\n",
      "Epoch: 2451 cost= 0.077172123 W= 0.26087317 b= 0.7369279\n",
      "Epoch: 2451 cost= 0.077413514 W= 0.26364642 b= 0.7373412\n",
      "Epoch: 2451 cost= 0.077167973 W= 0.26009822 b= 0.7368292\n",
      "Epoch: 2451 cost= 0.077184923 W= 0.25949037 b= 0.73668337\n",
      "Epoch: 2451 cost= 0.077169918 W= 0.2600182 b= 0.7367374\n",
      "Epoch: 2451 cost= 0.077173807 W= 0.26093397 b= 0.7368855\n",
      "Epoch: 2451 cost= 0.077168502 W= 0.26009738 b= 0.7367753\n",
      "Epoch: 2451 cost= 0.077170365 W= 0.25999618 b= 0.73672855\n",
      "Epoch: 2451 cost= 0.077177808 W= 0.2610706 b= 0.73688114\n",
      "Epoch: 2451 cost= 0.077167071 W= 0.26050508 b= 0.73682874\n",
      "Epoch: 2451 cost= 0.077209517 W= 0.2590334 b= 0.73655176\n",
      "Epoch: 2451 cost= 0.077186123 W= 0.2594848 b= 0.7366082\n",
      "Epoch: 2451 cost= 0.077167846 W= 0.26020408 b= 0.7367354\n",
      "Epoch: 2451 cost= 0.077206641 W= 0.25906536 b= 0.73661256\n",
      "Epoch: 2451 cost= 0.077239037 W= 0.25862822 b= 0.73647153\n",
      "Epoch: 2501 cost= 0.077193640 W= 0.25831094 b= 0.74032617\n",
      "Epoch: 2501 cost= 0.077151246 W= 0.26059663 b= 0.7408456\n",
      "Epoch: 2501 cost= 0.077143326 W= 0.26032445 b= 0.74079615\n",
      "Epoch: 2501 cost= 0.077384219 W= 0.26309696 b= 0.7412093\n",
      "Epoch: 2501 cost= 0.077139288 W= 0.25954852 b= 0.74069726\n",
      "Epoch: 2501 cost= 0.077156484 W= 0.25893682 b= 0.7405505\n",
      "Epoch: 2501 cost= 0.077141128 W= 0.25947356 b= 0.7406054\n",
      "Epoch: 2501 cost= 0.077145047 W= 0.2603875 b= 0.74075323\n",
      "Epoch: 2501 cost= 0.077139735 W= 0.25955218 b= 0.7406432\n",
      "Epoch: 2501 cost= 0.077141650 W= 0.25944754 b= 0.7405949\n",
      "Epoch: 2501 cost= 0.077148959 W= 0.26052198 b= 0.7407475\n",
      "Epoch: 2501 cost= 0.077138387 W= 0.25996947 b= 0.7406963\n",
      "Epoch: 2501 cost= 0.077180333 W= 0.25849462 b= 0.74041873\n",
      "Epoch: 2501 cost= 0.077156991 W= 0.2589481 b= 0.7404754\n",
      "Epoch: 2501 cost= 0.077139027 W= 0.2596646 b= 0.74060214\n",
      "Epoch: 2501 cost= 0.077177174 W= 0.25853205 b= 0.74047995\n",
      "Epoch: 2501 cost= 0.077209592 W= 0.25809088 b= 0.7403376\n",
      "Epoch: 2551 cost= 0.077167951 W= 0.25780097 b= 0.7439661\n",
      "Epoch: 2551 cost= 0.077125877 W= 0.26008305 b= 0.7444848\n",
      "Epoch: 2551 cost= 0.077117898 W= 0.25980824 b= 0.74443483\n",
      "Epoch: 2551 cost= 0.077358350 W= 0.26258007 b= 0.7448479\n",
      "Epoch: 2551 cost= 0.077114008 W= 0.2590314 b= 0.74433583\n",
      "Epoch: 2551 cost= 0.077131420 W= 0.25841606 b= 0.7441882\n",
      "Epoch: 2551 cost= 0.077115759 W= 0.25896117 b= 0.7442439\n",
      "Epoch: 2551 cost= 0.077119648 W= 0.25987342 b= 0.7443915\n",
      "Epoch: 2551 cost= 0.077114366 W= 0.25903928 b= 0.7442816\n",
      "Epoch: 2551 cost= 0.077116355 W= 0.25893143 b= 0.7442318\n",
      "Epoch: 2551 cost= 0.077123478 W= 0.26000583 b= 0.7443844\n",
      "Epoch: 2551 cost= 0.077113084 W= 0.2594656 b= 0.74433434\n",
      "Epoch: 2551 cost= 0.077154584 W= 0.25798774 b= 0.74405617\n",
      "Epoch: 2551 cost= 0.077131294 W= 0.25844318 b= 0.7441131\n",
      "Epoch: 2551 cost= 0.077113628 W= 0.25915706 b= 0.74423933\n",
      "Epoch: 2551 cost= 0.077151157 W= 0.25803035 b= 0.7441178\n",
      "Epoch: 2551 cost= 0.077183627 W= 0.2575854 b= 0.74397427\n",
      "Epoch: 2601 cost= 0.077145338 W= 0.2573214 b= 0.74738926\n",
      "Epoch: 2601 cost= 0.077103540 W= 0.25960007 b= 0.74790716\n",
      "Epoch: 2601 cost= 0.077095516 W= 0.2593228 b= 0.74785674\n",
      "Epoch: 2601 cost= 0.077335507 W= 0.26209396 b= 0.74826974\n",
      "Epoch: 2601 cost= 0.077091731 W= 0.25854507 b= 0.7477576\n",
      "Epoch: 2601 cost= 0.077109359 W= 0.25792632 b= 0.74760914\n",
      "Epoch: 2601 cost= 0.077093363 W= 0.2584793 b= 0.7476657\n",
      "Epoch: 2601 cost= 0.077097289 W= 0.25938994 b= 0.747813\n",
      "Epoch: 2601 cost= 0.077092022 W= 0.2585569 b= 0.74770325\n",
      "Epoch: 2601 cost= 0.077094033 W= 0.258446 b= 0.74765205\n",
      "Epoch: 2601 cost= 0.077101029 W= 0.2595204 b= 0.74780464\n",
      "Epoch: 2601 cost= 0.077090815 W= 0.25899172 b= 0.74775565\n",
      "Epoch: 2601 cost= 0.077131845 W= 0.25751102 b= 0.74747694\n",
      "Epoch: 2601 cost= 0.077108592 W= 0.2579683 b= 0.7475341\n",
      "Epoch: 2601 cost= 0.077091210 W= 0.25867975 b= 0.7476599\n",
      "Epoch: 2601 cost= 0.077128172 W= 0.2575585 b= 0.747539\n",
      "Epoch: 2601 cost= 0.077160679 W= 0.25710997 b= 0.7473943\n",
      "Epoch: 2651 cost= 0.077125341 W= 0.25687027 b= 0.75060934\n",
      "Epoch: 2651 cost= 0.077083863 W= 0.25914574 b= 0.75112647\n",
      "Epoch: 2651 cost= 0.077075757 W= 0.2588661 b= 0.7510756\n",
      "Epoch: 2651 cost= 0.077315338 W= 0.26163667 b= 0.7514885\n",
      "Epoch: 2651 cost= 0.077072084 W= 0.25808758 b= 0.7509764\n",
      "Epoch: 2651 cost= 0.077089950 W= 0.2574656 b= 0.75082713\n",
      "Epoch: 2651 cost= 0.077073649 W= 0.25802597 b= 0.7508844\n",
      "Epoch: 2651 cost= 0.077077538 W= 0.2589351 b= 0.75103146\n",
      "Epoch: 2651 cost= 0.077072307 W= 0.2581031 b= 0.75092185\n",
      "Epoch: 2651 cost= 0.077074356 W= 0.25798935 b= 0.75086933\n",
      "Epoch: 2651 cost= 0.077081233 W= 0.25906375 b= 0.7510219\n",
      "Epoch: 2651 cost= 0.077071175 W= 0.2585459 b= 0.75097394\n",
      "Epoch: 2651 cost= 0.077111796 W= 0.25706255 b= 0.75069475\n",
      "Epoch: 2651 cost= 0.077088580 W= 0.25752157 b= 0.75075215\n",
      "Epoch: 2651 cost= 0.077071458 W= 0.25823072 b= 0.75087756\n",
      "Epoch: 2651 cost= 0.077107921 W= 0.25711462 b= 0.75075716\n",
      "Epoch: 2651 cost= 0.077140450 W= 0.25666273 b= 0.75061136\n",
      "Epoch: 2701 cost= 0.077107735 W= 0.25644597 b= 0.7536375\n",
      "Epoch: 2701 cost= 0.077066496 W= 0.25871843 b= 0.75415397\n"
     ]
    },
    {
     "name": "stdout",
     "output_type": "stream",
     "text": [
      "Epoch: 2701 cost= 0.077058345 W= 0.25843662 b= 0.7541027\n",
      "Epoch: 2701 cost= 0.077297546 W= 0.26120663 b= 0.7545155\n",
      "Epoch: 2701 cost= 0.077054769 W= 0.25765735 b= 0.75400335\n",
      "Epoch: 2701 cost= 0.077072844 W= 0.25703233 b= 0.7538534\n",
      "Epoch: 2701 cost= 0.077056289 W= 0.25759968 b= 0.7539114\n",
      "Epoch: 2701 cost= 0.077060163 W= 0.25850737 b= 0.7540582\n",
      "Epoch: 2701 cost= 0.077054925 W= 0.25767636 b= 0.7539487\n",
      "Epoch: 2701 cost= 0.077057064 W= 0.25755993 b= 0.753895\n",
      "Epoch: 2701 cost= 0.077063799 W= 0.25863433 b= 0.7540476\n",
      "Epoch: 2701 cost= 0.077053867 W= 0.2581267 b= 0.75400054\n",
      "Epoch: 2701 cost= 0.077094108 W= 0.25664085 b= 0.7537209\n",
      "Epoch: 2701 cost= 0.077070922 W= 0.25710148 b= 0.75377846\n",
      "Epoch: 2701 cost= 0.077054054 W= 0.25780845 b= 0.7539035\n",
      "Epoch: 2701 cost= 0.077090003 W= 0.2566972 b= 0.75378364\n",
      "Epoch: 2701 cost= 0.077122599 W= 0.25624216 b= 0.75363684\n",
      "Epoch: 2751 cost= 0.077092201 W= 0.25604704 b= 0.7564856\n",
      "Epoch: 2751 cost= 0.077051230 W= 0.2583167 b= 0.7570014\n",
      "Epoch: 2751 cost= 0.077043042 W= 0.25803283 b= 0.7569498\n",
      "Epoch: 2751 cost= 0.077281892 W= 0.26080227 b= 0.75736254\n",
      "Epoch: 2751 cost= 0.077039547 W= 0.25725278 b= 0.75685036\n",
      "Epoch: 2751 cost= 0.077057794 W= 0.25662494 b= 0.75669974\n",
      "Epoch: 2751 cost= 0.077040963 W= 0.2571988 b= 0.75675845\n",
      "Epoch: 2751 cost= 0.077044845 W= 0.25810516 b= 0.7569051\n",
      "Epoch: 2751 cost= 0.077039659 W= 0.25727507 b= 0.7567957\n",
      "Epoch: 2751 cost= 0.077041812 W= 0.25715613 b= 0.7567408\n",
      "Epoch: 2751 cost= 0.077048413 W= 0.2582305 b= 0.7568934\n",
      "Epoch: 2751 cost= 0.077038646 W= 0.25773248 b= 0.75684726\n",
      "Epoch: 2751 cost= 0.077078514 W= 0.25624427 b= 0.7565672\n",
      "Epoch: 2751 cost= 0.077055365 W= 0.25670645 b= 0.756625\n",
      "Epoch: 2751 cost= 0.077038713 W= 0.2574114 b= 0.7567497\n",
      "Epoch: 2751 cost= 0.077074192 W= 0.2563047 b= 0.7566303\n",
      "Epoch: 2751 cost= 0.077106819 W= 0.25584668 b= 0.75648254\n",
      "Epoch: 2801 cost= 0.077078529 W= 0.25567147 b= 0.75916517\n",
      "Epoch: 2801 cost= 0.077037752 W= 0.25793844 b= 0.7596804\n",
      "Epoch: 2801 cost= 0.077029519 W= 0.25765264 b= 0.7596284\n",
      "Epoch: 2801 cost= 0.077267997 W= 0.2604216 b= 0.76004106\n",
      "Epoch: 2801 cost= 0.077026144 W= 0.25687197 b= 0.7595288\n",
      "Epoch: 2801 cost= 0.077044562 W= 0.25624144 b= 0.75937754\n",
      "Epoch: 2801 cost= 0.077027492 W= 0.25682148 b= 0.75943685\n",
      "Epoch: 2801 cost= 0.077031374 W= 0.25772658 b= 0.75958323\n",
      "Epoch: 2801 cost= 0.077026173 W= 0.25689736 b= 0.759474\n",
      "Epoch: 2801 cost= 0.077028371 W= 0.25677603 b= 0.759418\n",
      "Epoch: 2801 cost= 0.077034861 W= 0.2578504 b= 0.7595706\n",
      "Epoch: 2801 cost= 0.077025212 W= 0.2573614 b= 0.7595253\n",
      "Epoch: 2801 cost= 0.077064760 W= 0.255871 b= 0.7592448\n",
      "Epoch: 2801 cost= 0.077041656 W= 0.2563346 b= 0.7593028\n",
      "Epoch: 2801 cost= 0.077025205 W= 0.25703764 b= 0.75942713\n",
      "Epoch: 2801 cost= 0.077060260 W= 0.25593525 b= 0.7593082\n",
      "Epoch: 2801 cost= 0.077092893 W= 0.25547442 b= 0.75915956\n",
      "Epoch: 2851 cost= 0.077066444 W= 0.25531873 b= 0.761684\n",
      "Epoch: 2851 cost= 0.077025920 W= 0.2575832 b= 0.7621986\n",
      "Epoch: 2851 cost= 0.077017650 W= 0.25729555 b= 0.76214635\n",
      "Epoch: 2851 cost= 0.077255815 W= 0.260064 b= 0.76255894\n",
      "Epoch: 2851 cost= 0.077014342 W= 0.2565142 b= 0.7620467\n",
      "Epoch: 2851 cost= 0.077032931 W= 0.25588116 b= 0.7618948\n",
      "Epoch: 2851 cost= 0.077015609 W= 0.25646698 b= 0.7619547\n",
      "Epoch: 2851 cost= 0.077019490 W= 0.2573709 b= 0.76210093\n",
      "Epoch: 2851 cost= 0.077014312 W= 0.25654247 b= 0.7619918\n",
      "Epoch: 2851 cost= 0.077016540 W= 0.25641894 b= 0.7619348\n",
      "Epoch: 2851 cost= 0.077022918 W= 0.25749332 b= 0.7620874\n",
      "Epoch: 2851 cost= 0.077013426 W= 0.2570128 b= 0.7620429\n",
      "Epoch: 2851 cost= 0.077052601 W= 0.2555203 b= 0.76176196\n",
      "Epoch: 2851 cost= 0.077029563 W= 0.2559853 b= 0.7618201\n",
      "Epoch: 2851 cost= 0.077013306 W= 0.2566865 b= 0.7619441\n",
      "Epoch: 2851 cost= 0.077047952 W= 0.25558814 b= 0.7618256\n",
      "Epoch: 2851 cost= 0.077080600 W= 0.2551247 b= 0.76167613\n",
      "Epoch: 2901 cost= 0.077055797 W= 0.25498667 b= 0.7640541\n",
      "Epoch: 2901 cost= 0.077015497 W= 0.2572488 b= 0.76456827\n",
      "Epoch: 2901 cost= 0.077007174 W= 0.25695944 b= 0.76451564\n",
      "Epoch: 2901 cost= 0.077245049 W= 0.25972745 b= 0.76492816\n",
      "Epoch: 2901 cost= 0.077003933 W= 0.25617748 b= 0.7644159\n",
      "Epoch: 2901 cost= 0.077022709 W= 0.25554207 b= 0.76426345\n",
      "Epoch: 2901 cost= 0.077005148 W= 0.25613335 b= 0.7643239\n",
      "Epoch: 2901 cost= 0.077009037 W= 0.25703615 b= 0.7644699\n",
      "Epoch: 2901 cost= 0.077003904 W= 0.2562085 b= 0.7643609\n",
      "Epoch: 2901 cost= 0.077006146 W= 0.25608286 b= 0.7643029\n",
      "Epoch: 2901 cost= 0.077012435 W= 0.25715724 b= 0.7644555\n",
      "Epoch: 2901 cost= 0.077003032 W= 0.25668472 b= 0.7644117\n",
      "Epoch: 2901 cost= 0.077041924 W= 0.25519028 b= 0.7641304\n",
      "Epoch: 2901 cost= 0.077018887 W= 0.2556565 b= 0.7641887\n",
      "Epoch: 2901 cost= 0.077002838 W= 0.25635603 b= 0.76431245\n",
      "Epoch: 2901 cost= 0.077037096 W= 0.25526145 b= 0.76419437\n",
      "Epoch: 2901 cost= 0.077069774 W= 0.25479552 b= 0.76404405\n",
      "Epoch: 2951 cost= 0.077046432 W= 0.2546743 b= 0.76628363\n",
      "Epoch: 2951 cost= 0.077006310 W= 0.2569342 b= 0.76679724\n",
      "Epoch: 2951 cost= 0.076997951 W= 0.25664324 b= 0.7667443\n",
      "Epoch: 2951 cost= 0.077235527 W= 0.25941083 b= 0.7671568\n",
      "Epoch: 2951 cost= 0.076994821 W= 0.25586075 b= 0.7666445\n",
      "Epoch: 2951 cost= 0.077013716 W= 0.2552231 b= 0.7664915\n",
      "Epoch: 2951 cost= 0.076995946 W= 0.2558195 b= 0.76655245\n",
      "Epoch: 2951 cost= 0.076999828 W= 0.25672123 b= 0.7666983\n",
      "Epoch: 2951 cost= 0.076994702 W= 0.2558943 b= 0.76658934\n",
      "Epoch: 2951 cost= 0.076996990 W= 0.2557667 b= 0.76653045\n",
      "Epoch: 2951 cost= 0.077003181 W= 0.25684106 b= 0.76668304\n",
      "Epoch: 2951 cost= 0.076993905 W= 0.25637606 b= 0.76663995\n",
      "Epoch: 2951 cost= 0.077032499 W= 0.25487977 b= 0.7663583\n",
      "Epoch: 2951 cost= 0.077009507 W= 0.25534722 b= 0.7664168\n",
      "Epoch: 2951 cost= 0.076993637 W= 0.25604516 b= 0.7665402\n",
      "Epoch: 2951 cost= 0.077027515 W= 0.25495413 b= 0.7664225\n",
      "Epoch: 2951 cost= 0.077060215 W= 0.25448588 b= 0.7662715\n",
      "Epoch: 3001 cost= 0.077038199 W= 0.25438067 b= 0.7683793\n",
      "Epoch: 3001 cost= 0.076998264 W= 0.2566385 b= 0.7688924\n",
      "Epoch: 3001 cost= 0.076989852 W= 0.25634602 b= 0.76883924\n",
      "Epoch: 3001 cost= 0.077227168 W= 0.25911322 b= 0.76925164\n",
      "Epoch: 3001 cost= 0.076986782 W= 0.255563 b= 0.76873934\n",
      "Epoch: 3001 cost= 0.077005833 W= 0.25492325 b= 0.76858586\n",
      "Epoch: 3001 cost= 0.076987855 W= 0.2555245 b= 0.7686473\n",
      "Epoch: 3001 cost= 0.076991737 W= 0.25642523 b= 0.76879305\n",
      "Epoch: 3001 cost= 0.076986618 W= 0.255599 b= 0.7686842\n",
      "Epoch: 3001 cost= 0.076988935 W= 0.25546953 b= 0.7686245\n",
      "Epoch: 3001 cost= 0.076995052 W= 0.25654387 b= 0.7687771\n",
      "Epoch: 3001 cost= 0.076985866 W= 0.25608593 b= 0.76873463\n",
      "Epoch: 3001 cost= 0.077024184 W= 0.25458792 b= 0.7684527\n",
      "Epoch: 3001 cost= 0.077001229 W= 0.25505647 b= 0.7685113\n",
      "Epoch: 3001 cost= 0.076985523 W= 0.25575292 b= 0.7686345\n",
      "Epoch: 3001 cost= 0.077019081 W= 0.25466526 b= 0.76851714\n",
      "Epoch: 3001 cost= 0.077051781 W= 0.25419483 b= 0.7683654\n",
      "Epoch: 3051 cost= 0.077030927 W= 0.25410435 b= 0.7703515\n",
      "Epoch: 3051 cost= 0.076991156 W= 0.25636023 b= 0.77086425\n",
      "Epoch: 3051 cost= 0.076982729 W= 0.25606632 b= 0.7708108\n",
      "Epoch: 3051 cost= 0.077219792 W= 0.25883314 b= 0.7712231\n",
      "Epoch: 3051 cost= 0.076979734 W= 0.2552828 b= 0.7707108\n",
      "Epoch: 3051 cost= 0.076998919 W= 0.2546411 b= 0.77055687\n",
      "Epoch: 3051 cost= 0.076980747 W= 0.25524685 b= 0.7706188\n",
      "Epoch: 3051 cost= 0.076984636 W= 0.25614667 b= 0.77076435\n",
      "Epoch: 3051 cost= 0.076979525 W= 0.25532106 b= 0.7706556\n",
      "Epoch: 3051 cost= 0.076981872 W= 0.25518984 b= 0.770595\n",
      "Epoch: 3051 cost= 0.076987877 W= 0.25626418 b= 0.7707476\n",
      "Epoch: 3051 cost= 0.076978832 W= 0.25581288 b= 0.77070576\n",
      "Epoch: 3051 cost= 0.077016890 W= 0.25431323 b= 0.7704235\n",
      "Epoch: 3051 cost= 0.076993935 W= 0.25478286 b= 0.7704822\n",
      "Epoch: 3051 cost= 0.076978393 W= 0.25547788 b= 0.7706051\n",
      "Epoch: 3051 cost= 0.077011652 W= 0.25439337 b= 0.7704881\n",
      "Epoch: 3051 cost= 0.077044368 W= 0.25392088 b= 0.7703357\n",
      "Epoch: 3101 cost= 0.077024564 W= 0.25384438 b= 0.77220696\n",
      "Epoch: 3101 cost= 0.076984927 W= 0.25609842 b= 0.77271926\n",
      "Epoch: 3101 cost= 0.076976486 W= 0.25580317 b= 0.77266556\n",
      "Epoch: 3101 cost= 0.077213295 W= 0.25856966 b= 0.77307785\n",
      "Epoch: 3101 cost= 0.076973513 W= 0.2550192 b= 0.7725655\n",
      "Epoch: 3101 cost= 0.076992854 W= 0.25437564 b= 0.7724111\n",
      "Epoch: 3101 cost= 0.076974496 W= 0.25498566 b= 0.7724735\n",
      "Epoch: 3101 cost= 0.076978385 W= 0.25588462 b= 0.77261895\n",
      "Epoch: 3101 cost= 0.076973282 W= 0.25505963 b= 0.77251023\n",
      "Epoch: 3101 cost= 0.076975636 W= 0.25492677 b= 0.7724489\n",
      "Epoch: 3101 cost= 0.076981604 W= 0.2560011 b= 0.7726015\n",
      "Epoch: 3101 cost= 0.076972649 W= 0.25555608 b= 0.77256024\n",
      "Epoch: 3101 cost= 0.077010445 W= 0.2540549 b= 0.7722777\n",
      "Epoch: 3101 cost= 0.076987535 W= 0.25452554 b= 0.77233654\n",
      "Epoch: 3101 cost= 0.076972127 W= 0.25521925 b= 0.7724592\n",
      "Epoch: 3101 cost= 0.077005081 W= 0.2541377 b= 0.77234256\n",
      "Epoch: 3101 cost= 0.077037811 W= 0.25366327 b= 0.7721895\n"
     ]
    },
    {
     "name": "stdout",
     "output_type": "stream",
     "text": [
      "Epoch: 3151 cost= 0.077018932 W= 0.2536002 b= 0.7739502\n",
      "Epoch: 3151 cost= 0.076979473 W= 0.25585252 b= 0.7744621\n",
      "Epoch: 3151 cost= 0.076970972 W= 0.255556 b= 0.77440816\n",
      "Epoch: 3151 cost= 0.077207595 W= 0.25832212 b= 0.7748204\n",
      "Epoch: 3151 cost= 0.076968081 W= 0.25477153 b= 0.774308\n",
      "Epoch: 3151 cost= 0.076987535 W= 0.25412625 b= 0.77415323\n",
      "Epoch: 3151 cost= 0.076969005 W= 0.2547403 b= 0.774216\n",
      "Epoch: 3151 cost= 0.076972909 W= 0.25563842 b= 0.77436125\n",
      "Epoch: 3151 cost= 0.076967791 W= 0.25481397 b= 0.77425265\n",
      "Epoch: 3151 cost= 0.076970182 W= 0.25467956 b= 0.7741906\n",
      "Epoch: 3151 cost= 0.076976061 W= 0.2557539 b= 0.7743432\n",
      "Epoch: 3151 cost= 0.076967187 W= 0.25531474 b= 0.7743025\n",
      "Epoch: 3151 cost= 0.077004768 W= 0.25381213 b= 0.77401966\n",
      "Epoch: 3151 cost= 0.076981857 W= 0.2542837 b= 0.7740786\n",
      "Epoch: 3151 cost= 0.076966614 W= 0.25497615 b= 0.7742011\n",
      "Epoch: 3151 cost= 0.076999307 W= 0.2538974 b= 0.77408475\n",
      "Epoch: 3151 cost= 0.077032022 W= 0.25342116 b= 0.77393115\n",
      "Epoch: 3201 cost= 0.077013992 W= 0.2533703 b= 0.77559084\n",
      "Epoch: 3201 cost= 0.076974660 W= 0.255621 b= 0.77610236\n",
      "Epoch: 3201 cost= 0.076966137 W= 0.2553233 b= 0.77604824\n",
      "Epoch: 3201 cost= 0.077202551 W= 0.25808913 b= 0.7764604\n",
      "Epoch: 3201 cost= 0.076963305 W= 0.25453845 b= 0.77594805\n",
      "Epoch: 3201 cost= 0.076982878 W= 0.25389153 b= 0.77579284\n",
      "Epoch: 3201 cost= 0.076964200 W= 0.25450933 b= 0.775856\n",
      "Epoch: 3201 cost= 0.076968081 W= 0.25540668 b= 0.77600116\n",
      "Epoch: 3201 cost= 0.076962993 W= 0.25458276 b= 0.7758926\n",
      "Epoch: 3201 cost= 0.076965407 W= 0.25444692 b= 0.7758299\n",
      "Epoch: 3201 cost= 0.076971203 W= 0.25552127 b= 0.7759825\n",
      "Epoch: 3201 cost= 0.076962449 W= 0.25508764 b= 0.7759423\n",
      "Epoch: 3201 cost= 0.076999769 W= 0.25358367 b= 0.77565926\n",
      "Epoch: 3201 cost= 0.076976925 W= 0.25405613 b= 0.77571833\n",
      "Epoch: 3201 cost= 0.076961771 W= 0.2547474 b= 0.7758406\n",
      "Epoch: 3201 cost= 0.076994210 W= 0.25367126 b= 0.7757245\n",
      "Epoch: 3201 cost= 0.077026941 W= 0.2531933 b= 0.7755703\n",
      "Epoch: 3251 cost= 0.077009633 W= 0.25315425 b= 0.7771339\n",
      "Epoch: 3251 cost= 0.076970428 W= 0.2554034 b= 0.77764505\n",
      "Epoch: 3251 cost= 0.076961905 W= 0.25510457 b= 0.7775907\n",
      "Epoch: 3251 cost= 0.077198118 W= 0.2578701 b= 0.77800286\n",
      "Epoch: 3251 cost= 0.076959118 W= 0.25431934 b= 0.7774905\n",
      "Epoch: 3251 cost= 0.076978795 W= 0.25367087 b= 0.7773349\n",
      "Epoch: 3251 cost= 0.076959968 W= 0.25429222 b= 0.77739847\n",
      "Epoch: 3251 cost= 0.076963842 W= 0.25518885 b= 0.7775435\n",
      "Epoch: 3251 cost= 0.076958776 W= 0.25436544 b= 0.777435\n",
      "Epoch: 3251 cost= 0.076961182 W= 0.25422823 b= 0.7773717\n",
      "Epoch: 3251 cost= 0.076966926 W= 0.25530258 b= 0.7775243\n",
      "Epoch: 3251 cost= 0.076958254 W= 0.25487414 b= 0.7774846\n",
      "Epoch: 3251 cost= 0.076995380 W= 0.2533689 b= 0.7772013\n",
      "Epoch: 3251 cost= 0.076972559 W= 0.25384218 b= 0.7772605\n",
      "Epoch: 3251 cost= 0.076957539 W= 0.25453234 b= 0.77738255\n",
      "Epoch: 3251 cost= 0.076989725 W= 0.25345868 b= 0.77726674\n",
      "Epoch: 3251 cost= 0.077022456 W= 0.2529791 b= 0.77711207\n",
      "Epoch: 3301 cost= 0.077005826 W= 0.2529508 b= 0.7785857\n",
      "Epoch: 3301 cost= 0.076966748 W= 0.25519848 b= 0.77909654\n",
      "Epoch: 3301 cost= 0.076958194 W= 0.2548986 b= 0.779042\n",
      "Epoch: 3301 cost= 0.077194206 W= 0.25766388 b= 0.7794541\n",
      "Epoch: 3301 cost= 0.076955453 W= 0.25411302 b= 0.77894175\n",
      "Epoch: 3301 cost= 0.076975219 W= 0.2534631 b= 0.7787858\n",
      "Epoch: 3301 cost= 0.076956257 W= 0.25408778 b= 0.7788497\n",
      "Epoch: 3301 cost= 0.076960139 W= 0.25498372 b= 0.7789947\n",
      "Epoch: 3301 cost= 0.076955080 W= 0.2541608 b= 0.77888626\n",
      "Epoch: 3301 cost= 0.076957516 W= 0.2540223 b= 0.77882236\n",
      "Epoch: 3301 cost= 0.076963186 W= 0.25509664 b= 0.77897495\n",
      "Epoch: 3301 cost= 0.076954566 W= 0.25467312 b= 0.77893573\n",
      "Epoch: 3301 cost= 0.076991536 W= 0.25316668 b= 0.7786522\n",
      "Epoch: 3301 cost= 0.076968715 W= 0.25364074 b= 0.7787115\n",
      "Epoch: 3301 cost= 0.076953799 W= 0.2543299 b= 0.7788334\n",
      "Epoch: 3301 cost= 0.076985784 W= 0.25325856 b= 0.7787178\n",
      "Epoch: 3301 cost= 0.077018514 W= 0.2527775 b= 0.7785626\n",
      "Epoch: 3351 cost= 0.077002466 W= 0.25275958 b= 0.7799502\n",
      "Epoch: 3351 cost= 0.076963529 W= 0.25500593 b= 0.7804607\n",
      "Epoch: 3351 cost= 0.076954938 W= 0.25470507 b= 0.780406\n",
      "Epoch: 3351 cost= 0.077190787 W= 0.25747007 b= 0.78081805\n",
      "Epoch: 3351 cost= 0.076952241 W= 0.25391912 b= 0.7803056\n",
      "Epoch: 3351 cost= 0.076972120 W= 0.25326782 b= 0.78014934\n",
      "Epoch: 3351 cost= 0.076953001 W= 0.25389567 b= 0.78021353\n",
      "Epoch: 3351 cost= 0.076956891 W= 0.254791 b= 0.7803584\n",
      "Epoch: 3351 cost= 0.076951817 W= 0.2539685 b= 0.78025\n",
      "Epoch: 3351 cost= 0.076954275 W= 0.2538288 b= 0.7801855\n",
      "Epoch: 3351 cost= 0.076959915 W= 0.2549031 b= 0.7803381\n",
      "Epoch: 3351 cost= 0.076951392 W= 0.25448418 b= 0.7802993\n",
      "Epoch: 3351 cost= 0.076988153 W= 0.25297663 b= 0.7800155\n",
      "Epoch: 3351 cost= 0.076965354 W= 0.2534514 b= 0.7800749\n",
      "Epoch: 3351 cost= 0.076950543 W= 0.25413957 b= 0.7801966\n",
      "Epoch: 3351 cost= 0.076982304 W= 0.2530704 b= 0.7800813\n",
      "Epoch: 3351 cost= 0.077015035 W= 0.2525879 b= 0.77992564\n",
      "Epoch: 3401 cost= 0.076999523 W= 0.25257987 b= 0.7812326\n",
      "Epoch: 3401 cost= 0.076960675 W= 0.25482494 b= 0.7817428\n",
      "Epoch: 3401 cost= 0.076952077 W= 0.25452316 b= 0.7816879\n",
      "Epoch: 3401 cost= 0.077187762 W= 0.25728792 b= 0.78209996\n",
      "Epoch: 3401 cost= 0.076949432 W= 0.25373688 b= 0.78158754\n",
      "Epoch: 3401 cost= 0.076969393 W= 0.2530843 b= 0.78143096\n",
      "Epoch: 3401 cost= 0.076950140 W= 0.2537151 b= 0.78149545\n",
      "Epoch: 3401 cost= 0.076954030 W= 0.2546098 b= 0.7816402\n",
      "Epoch: 3401 cost= 0.076948993 W= 0.25378773 b= 0.7815319\n",
      "Epoch: 3401 cost= 0.076951459 W= 0.25364688 b= 0.7814669\n",
      "Epoch: 3401 cost= 0.076957032 W= 0.2547212 b= 0.7816195\n",
      "Epoch: 3401 cost= 0.076948583 W= 0.25430658 b= 0.78158104\n",
      "Epoch: 3401 cost= 0.076985180 W= 0.25279796 b= 0.7812971\n",
      "Epoch: 3401 cost= 0.076962374 W= 0.25327346 b= 0.7813566\n",
      "Epoch: 3401 cost= 0.076947682 W= 0.2539607 b= 0.7814781\n",
      "Epoch: 3401 cost= 0.076979227 W= 0.2528936 b= 0.781363\n",
      "Epoch: 3401 cost= 0.077011995 W= 0.25240976 b= 0.7812069\n",
      "Epoch: 3451 cost= 0.076996945 W= 0.25241077 b= 0.78243995\n",
      "Epoch: 3451 cost= 0.076958224 W= 0.25465465 b= 0.7829499\n",
      "Epoch: 3451 cost= 0.076949611 W= 0.25435197 b= 0.7828949\n",
      "Epoch: 3451 cost= 0.077185124 W= 0.2571165 b= 0.7833069\n",
      "Epoch: 3451 cost= 0.076946974 W= 0.25356537 b= 0.7827945\n",
      "Epoch: 3451 cost= 0.076967038 W= 0.2529116 b= 0.7826376\n",
      "Epoch: 3451 cost= 0.076947667 W= 0.25354517 b= 0.7827024\n",
      "Epoch: 3451 cost= 0.076951548 W= 0.2544393 b= 0.78284705\n",
      "Epoch: 3451 cost= 0.076946504 W= 0.2536176 b= 0.7827388\n",
      "Epoch: 3451 cost= 0.076948993 W= 0.2534757 b= 0.7826733\n",
      "Epoch: 3451 cost= 0.076954514 W= 0.25455 b= 0.7828259\n",
      "Epoch: 3451 cost= 0.076946110 W= 0.25413948 b= 0.78278786\n",
      "Epoch: 3451 cost= 0.076982565 W= 0.25262988 b= 0.7825037\n",
      "Epoch: 3451 cost= 0.076959796 W= 0.253106 b= 0.78256327\n",
      "Epoch: 3451 cost= 0.076945186 W= 0.25379238 b= 0.7826847\n",
      "Epoch: 3451 cost= 0.076976560 W= 0.2527272 b= 0.78256977\n",
      "Epoch: 3451 cost= 0.077009305 W= 0.25224212 b= 0.7824133\n",
      "Epoch: 3501 cost= 0.076994687 W= 0.2522516 b= 0.7835757\n",
      "Epoch: 3501 cost= 0.076956041 W= 0.25449434 b= 0.78408545\n",
      "Epoch: 3501 cost= 0.076947406 W= 0.25419086 b= 0.78403026\n",
      "Epoch: 3501 cost= 0.077182785 W= 0.25695518 b= 0.78444225\n",
      "Epoch: 3501 cost= 0.076944835 W= 0.253404 b= 0.7839298\n",
      "Epoch: 3501 cost= 0.076964960 W= 0.2527491 b= 0.7837727\n",
      "Epoch: 3501 cost= 0.076945491 W= 0.25338525 b= 0.78383774\n",
      "Epoch: 3501 cost= 0.076949358 W= 0.25427884 b= 0.7839823\n",
      "Epoch: 3501 cost= 0.076944329 W= 0.25345752 b= 0.7838741\n",
      "Epoch: 3501 cost= 0.076946832 W= 0.2533146 b= 0.7838082\n",
      "Epoch: 3501 cost= 0.076952294 W= 0.25438893 b= 0.78396076\n",
      "Epoch: 3501 cost= 0.076943964 W= 0.25398222 b= 0.7839231\n",
      "Epoch: 3501 cost= 0.076980263 W= 0.25247166 b= 0.7836388\n",
      "Epoch: 3501 cost= 0.076957539 W= 0.2529484 b= 0.7836984\n",
      "Epoch: 3501 cost= 0.076942973 W= 0.25363398 b= 0.7838196\n",
      "Epoch: 3501 cost= 0.076974213 W= 0.25257063 b= 0.7837049\n",
      "Epoch: 3501 cost= 0.077006929 W= 0.25208434 b= 0.783548\n",
      "Epoch: 3551 cost= 0.076992691 W= 0.2521018 b= 0.7846451\n",
      "Epoch: 3551 cost= 0.076954149 W= 0.2543435 b= 0.7851546\n",
      "Epoch: 3551 cost= 0.076945499 W= 0.25403926 b= 0.78509927\n",
      "Epoch: 3551 cost= 0.077180736 W= 0.25680336 b= 0.7855112\n",
      "Epoch: 3551 cost= 0.076942965 W= 0.25325212 b= 0.7849988\n",
      "Epoch: 3551 cost= 0.076963149 W= 0.25259614 b= 0.7848414\n",
      "Epoch: 3551 cost= 0.076943576 W= 0.25323477 b= 0.78490674\n",
      "Epoch: 3551 cost= 0.076947451 W= 0.2541279 b= 0.7850512\n",
      "Epoch: 3551 cost= 0.076942436 W= 0.25330693 b= 0.78494304\n",
      "Epoch: 3551 cost= 0.076944932 W= 0.25316307 b= 0.78487664\n",
      "Epoch: 3551 cost= 0.076950379 W= 0.25423738 b= 0.78502923\n"
     ]
    },
    {
     "name": "stdout",
     "output_type": "stream",
     "text": [
      "Epoch: 3551 cost= 0.076942109 W= 0.25383428 b= 0.78499186\n",
      "Epoch: 3551 cost= 0.076978244 W= 0.25232285 b= 0.78470737\n",
      "Epoch: 3551 cost= 0.076955520 W= 0.25280017 b= 0.78476703\n",
      "Epoch: 3551 cost= 0.076941080 W= 0.25348496 b= 0.78488815\n",
      "Epoch: 3551 cost= 0.076972090 W= 0.25242332 b= 0.78477365\n",
      "Epoch: 3551 cost= 0.077004857 W= 0.2519359 b= 0.7846164\n",
      "Epoch: 3601 cost= 0.076990962 W= 0.25196105 b= 0.7856497\n",
      "Epoch: 3601 cost= 0.076952502 W= 0.25420174 b= 0.786159\n",
      "Epoch: 3601 cost= 0.076943837 W= 0.25389674 b= 0.78610355\n",
      "Epoch: 3601 cost= 0.077178948 W= 0.25666067 b= 0.7865155\n",
      "Epoch: 3601 cost= 0.076941341 W= 0.25310937 b= 0.786003\n",
      "Epoch: 3601 cost= 0.076961592 W= 0.25245237 b= 0.78584534\n",
      "Epoch: 3601 cost= 0.076941915 W= 0.2530933 b= 0.7859109\n",
      "Epoch: 3601 cost= 0.076945782 W= 0.25398594 b= 0.78605527\n",
      "Epoch: 3601 cost= 0.076940775 W= 0.2531653 b= 0.78594714\n",
      "Epoch: 3601 cost= 0.076943316 W= 0.25302055 b= 0.7858803\n",
      "Epoch: 3601 cost= 0.076948695 W= 0.25409487 b= 0.7860329\n",
      "Epoch: 3601 cost= 0.076940477 W= 0.25369516 b= 0.7859959\n",
      "Epoch: 3601 cost= 0.076976486 W= 0.2521829 b= 0.7857113\n",
      "Epoch: 3601 cost= 0.076953776 W= 0.25266075 b= 0.7857711\n",
      "Epoch: 3601 cost= 0.076939404 W= 0.25334483 b= 0.78589207\n",
      "Epoch: 3601 cost= 0.076970287 W= 0.2522848 b= 0.7857777\n",
      "Epoch: 3601 cost= 0.077003032 W= 0.25179633 b= 0.7856201\n",
      "Epoch: 3651 cost= 0.076989450 W= 0.25182912 b= 0.78659105\n",
      "Epoch: 3651 cost= 0.076951049 W= 0.25406888 b= 0.7871001\n",
      "Epoch: 3651 cost= 0.076942399 W= 0.25376323 b= 0.7870445\n",
      "Epoch: 3651 cost= 0.077177383 W= 0.25652698 b= 0.7874564\n",
      "Epoch: 3651 cost= 0.076939911 W= 0.2529756 b= 0.7869439\n",
      "Epoch: 3651 cost= 0.076960251 W= 0.2523177 b= 0.7867861\n",
      "Epoch: 3651 cost= 0.076940462 W= 0.2529608 b= 0.7868518\n",
      "Epoch: 3651 cost= 0.076944344 W= 0.253853 b= 0.7869961\n",
      "Epoch: 3651 cost= 0.076939330 W= 0.25303265 b= 0.78688806\n",
      "Epoch: 3651 cost= 0.076941878 W= 0.25288707 b= 0.7868209\n",
      "Epoch: 3651 cost= 0.076947227 W= 0.25396138 b= 0.7869734\n",
      "Epoch: 3651 cost= 0.076939054 W= 0.25356483 b= 0.78693664\n",
      "Epoch: 3651 cost= 0.076974928 W= 0.2520518 b= 0.78665185\n",
      "Epoch: 3651 cost= 0.076952249 W= 0.25253016 b= 0.7867117\n",
      "Epoch: 3651 cost= 0.076937951 W= 0.25321358 b= 0.7868326\n",
      "Epoch: 3651 cost= 0.076968677 W= 0.25215504 b= 0.78671837\n",
      "Epoch: 3651 cost= 0.077001438 W= 0.2516656 b= 0.7865605\n",
      "Epoch: 3701 cost= 0.076988131 W= 0.25170517 b= 0.787476\n",
      "Epoch: 3701 cost= 0.076949820 W= 0.25394404 b= 0.78798485\n",
      "Epoch: 3701 cost= 0.076941118 W= 0.25363773 b= 0.7879292\n",
      "Epoch: 3701 cost= 0.077175990 W= 0.2564013 b= 0.78834105\n",
      "Epoch: 3701 cost= 0.076938681 W= 0.25284988 b= 0.78782856\n",
      "Epoch: 3701 cost= 0.076959066 W= 0.25219107 b= 0.7876705\n",
      "Epoch: 3701 cost= 0.076939195 W= 0.2528362 b= 0.7877365\n",
      "Epoch: 3701 cost= 0.076943092 W= 0.25372797 b= 0.7878807\n",
      "Epoch: 3701 cost= 0.076938100 W= 0.2529079 b= 0.78777266\n",
      "Epoch: 3701 cost= 0.076940648 W= 0.25276154 b= 0.7877051\n",
      "Epoch: 3701 cost= 0.076945946 W= 0.25383586 b= 0.78785765\n",
      "Epoch: 3701 cost= 0.076937832 W= 0.2534423 b= 0.7878212\n",
      "Epoch: 3701 cost= 0.076973602 W= 0.2519285 b= 0.78753626\n",
      "Epoch: 3701 cost= 0.076950908 W= 0.25240734 b= 0.78759617\n",
      "Epoch: 3701 cost= 0.076936677 W= 0.2530901 b= 0.7877169\n",
      "Epoch: 3701 cost= 0.076967284 W= 0.252033 b= 0.7876029\n",
      "Epoch: 3701 cost= 0.077000059 W= 0.25154263 b= 0.7874447\n",
      "Epoch: 3751 cost= 0.076986976 W= 0.2515883 b= 0.78831017\n",
      "Epoch: 3751 cost= 0.076948725 W= 0.25382638 b= 0.78881884\n",
      "Epoch: 3751 cost= 0.076940022 W= 0.25351948 b= 0.78876305\n",
      "Epoch: 3751 cost= 0.077174798 W= 0.2562829 b= 0.78917485\n",
      "Epoch: 3751 cost= 0.076937623 W= 0.2527314 b= 0.7886624\n",
      "Epoch: 3751 cost= 0.076958053 W= 0.25207177 b= 0.7885041\n",
      "Epoch: 3751 cost= 0.076938115 W= 0.25271884 b= 0.7885703\n",
      "Epoch: 3751 cost= 0.076941989 W= 0.25361022 b= 0.78871447\n",
      "Epoch: 3751 cost= 0.076937005 W= 0.25279042 b= 0.78860646\n",
      "Epoch: 3751 cost= 0.076939553 W= 0.25264332 b= 0.7885386\n",
      "Epoch: 3751 cost= 0.076944835 W= 0.25371763 b= 0.7886911\n",
      "Epoch: 3751 cost= 0.076936767 W= 0.2533269 b= 0.78865486\n",
      "Epoch: 3751 cost= 0.076972403 W= 0.25181243 b= 0.78836983\n",
      "Epoch: 3751 cost= 0.076949753 W= 0.2522917 b= 0.7884298\n",
      "Epoch: 3751 cost= 0.076935567 W= 0.25297388 b= 0.78855044\n",
      "Epoch: 3751 cost= 0.076966040 W= 0.2519181 b= 0.78843653\n",
      "Epoch: 3751 cost= 0.076998815 W= 0.25142688 b= 0.78827804\n",
      "Epoch: 3801 cost= 0.076985978 W= 0.2514786 b= 0.78909284\n",
      "Epoch: 3801 cost= 0.076947786 W= 0.25371587 b= 0.7896013\n",
      "Epoch: 3801 cost= 0.076939069 W= 0.2534084 b= 0.7895454\n",
      "Epoch: 3801 cost= 0.077173732 W= 0.25617167 b= 0.7899572\n",
      "Epoch: 3801 cost= 0.076936685 W= 0.25262013 b= 0.78944474\n",
      "Epoch: 3801 cost= 0.076957189 W= 0.2519597 b= 0.7892863\n",
      "Epoch: 3801 cost= 0.076937154 W= 0.25260857 b= 0.78935266\n",
      "Epoch: 3801 cost= 0.076941043 W= 0.25349957 b= 0.7894968\n",
      "Epoch: 3801 cost= 0.076936066 W= 0.25268003 b= 0.7893888\n",
      "Epoch: 3801 cost= 0.076938629 W= 0.25253224 b= 0.7893206\n",
      "Epoch: 3801 cost= 0.076943859 W= 0.25360656 b= 0.7894731\n",
      "Epoch: 3801 cost= 0.076935835 W= 0.25321844 b= 0.7894372\n",
      "Epoch: 3801 cost= 0.076971382 W= 0.25170335 b= 0.789152\n",
      "Epoch: 3801 cost= 0.076948732 W= 0.25218305 b= 0.789212\n",
      "Epoch: 3801 cost= 0.076934628 W= 0.25286466 b= 0.78933257\n",
      "Epoch: 3801 cost= 0.076964982 W= 0.25181013 b= 0.7892188\n",
      "Epoch: 3801 cost= 0.076997727 W= 0.2513181 b= 0.78906006\n",
      "Epoch: 3851 cost= 0.076985069 W= 0.25137517 b= 0.78983146\n",
      "Epoch: 3851 cost= 0.076946959 W= 0.2536117 b= 0.79033977\n",
      "Epoch: 3851 cost= 0.076938242 W= 0.2533037 b= 0.79028374\n",
      "Epoch: 3851 cost= 0.077172823 W= 0.25606683 b= 0.79069555\n",
      "Epoch: 3851 cost= 0.076935887 W= 0.25251526 b= 0.79018307\n",
      "Epoch: 3851 cost= 0.076956429 W= 0.2518541 b= 0.79002446\n",
      "Epoch: 3851 cost= 0.076936342 W= 0.25250465 b= 0.790091\n",
      "Epoch: 3851 cost= 0.076940224 W= 0.25339532 b= 0.79023504\n",
      "Epoch: 3851 cost= 0.076935239 W= 0.25257602 b= 0.7901271\n",
      "Epoch: 3851 cost= 0.076937817 W= 0.25242758 b= 0.7900586\n",
      "Epoch: 3851 cost= 0.076943018 W= 0.2535019 b= 0.79021114\n",
      "Epoch: 3851 cost= 0.076935038 W= 0.25311628 b= 0.7901754\n",
      "Epoch: 3851 cost= 0.076970488 W= 0.25160056 b= 0.7898901\n",
      "Epoch: 3851 cost= 0.076947831 W= 0.25208068 b= 0.78995013\n",
      "Epoch: 3851 cost= 0.076933779 W= 0.25276178 b= 0.7900706\n",
      "Epoch: 3851 cost= 0.076964021 W= 0.25170842 b= 0.789957\n",
      "Epoch: 3851 cost= 0.076996766 W= 0.2512156 b= 0.789798\n",
      "Epoch: 3901 cost= 0.076984324 W= 0.25127792 b= 0.79052544\n",
      "Epoch: 3901 cost= 0.076946266 W= 0.25351378 b= 0.79103357\n",
      "Epoch: 3901 cost= 0.076937519 W= 0.25320527 b= 0.7909775\n",
      "Epoch: 3901 cost= 0.077172011 W= 0.25596827 b= 0.7913892\n",
      "Epoch: 3901 cost= 0.076935172 W= 0.25241664 b= 0.79087675\n",
      "Epoch: 3901 cost= 0.076955788 W= 0.2517548 b= 0.79071796\n",
      "Epoch: 3901 cost= 0.076935612 W= 0.25240695 b= 0.79078466\n",
      "Epoch: 3901 cost= 0.076939493 W= 0.2532973 b= 0.79092866\n",
      "Epoch: 3901 cost= 0.076934502 W= 0.2524782 b= 0.7908207\n",
      "Epoch: 3901 cost= 0.076937109 W= 0.25232914 b= 0.79075193\n",
      "Epoch: 3901 cost= 0.076942272 W= 0.25340346 b= 0.79090446\n",
      "Epoch: 3901 cost= 0.076934345 W= 0.25302017 b= 0.79086894\n",
      "Epoch: 3901 cost= 0.076969691 W= 0.25150388 b= 0.79058355\n",
      "Epoch: 3901 cost= 0.076947071 W= 0.25198436 b= 0.79064363\n",
      "Epoch: 3901 cost= 0.076933056 W= 0.25266495 b= 0.79076403\n",
      "Epoch: 3901 cost= 0.076963201 W= 0.25161272 b= 0.79065055\n",
      "Epoch: 3901 cost= 0.076995961 W= 0.2511192 b= 0.79049134\n",
      "Epoch: 3951 cost= 0.076983653 W= 0.25118646 b= 0.7911784\n",
      "Epoch: 3951 cost= 0.076945655 W= 0.25342166 b= 0.7916864\n",
      "Epoch: 3951 cost= 0.076936901 W= 0.25311267 b= 0.7916302\n",
      "Epoch: 3951 cost= 0.077171303 W= 0.25587556 b= 0.79204196\n",
      "Epoch: 3951 cost= 0.076934591 W= 0.2523239 b= 0.7915295\n",
      "Epoch: 3951 cost= 0.076955229 W= 0.2516614 b= 0.7913705\n",
      "Epoch: 3951 cost= 0.076935001 W= 0.25231504 b= 0.7914373\n",
      "Epoch: 3951 cost= 0.076938882 W= 0.25320506 b= 0.7915813\n",
      "Epoch: 3951 cost= 0.076933891 W= 0.2523862 b= 0.7914734\n",
      "Epoch: 3951 cost= 0.076936483 W= 0.25223657 b= 0.7914043\n",
      "Epoch: 3951 cost= 0.076941647 W= 0.2533109 b= 0.79155684\n",
      "Epoch: 3951 cost= 0.076933749 W= 0.2529298 b= 0.79152155\n",
      "Epoch: 3951 cost= 0.076968990 W= 0.251413 b= 0.79123604\n",
      "Epoch: 3951 cost= 0.076946385 W= 0.25189382 b= 0.7912962\n",
      "Epoch: 3951 cost= 0.076932430 W= 0.25257394 b= 0.79141647\n",
      "Epoch: 3951 cost= 0.076962471 W= 0.25152275 b= 0.79130304\n",
      "Epoch: 3951 cost= 0.076995224 W= 0.25102854 b= 0.7911436\n",
      "최적화 종료\n",
      "cost= 0.07699461 W= 0.25094497 b= 0.7917448\n"
     ]
    },
    {
     "data": {
      "image/png": "[encoded data removed]",
      "text/plain": [
       "<Figure size 432x288 with 1 Axes>"
      ]
     },
     "metadata": {
      "needs_background": "light"
     },
     "output_type": "display_data"
    }
   ],
   "source": [
    "# 그래프 정의: node(연산) + edge(데이터 전달: tensor(배열적 요소 + 행렬적 요소))\n",
    "# 전제 조건: GPU가 있다는 가정 => 네트워크로 연결\n",
    "with tf.Session() as sess: # 실행부\n",
    "    sess.run(init)\n",
    "    for epoch in range(training_epochs): # epoch: 반복 횟수, # 데이터가 부족하기 때문에 동일한 데이터를 돌림\n",
    "        for (x,y) in zip(train_X, train_Y):\n",
    "            sess.run(optimizer, feed_dict={X: x, Y: y})\n",
    "            if epoch % display_step == 0: # 비용함수: 감소 - 우하향, # accuracy: 증가함수\n",
    "                print(\"Epoch:\", '%04d' % (epoch+1), \"cost=\", \"{:.9f}\".format(sess.run(cost, feed_dict={X: train_X, Y:train_Y})),\n",
    "                     \"W=\", sess.run(W), \"b=\", sess.run(b)) # 수렴값\n",
    "    print(\"최적화 종료\")\n",
    "    print(\"cost=\", sess.run(cost, feed_dict={X: train_X, Y: train_Y}), \"W=\", sess.run(W), \"b=\", sess.run(b))\n",
    "    plt.plot(train_X, train_Y, 'ro', label = 'Original Data')\n",
    "    plt.plot(train_X, sess.run(W)*train_X + sess.run(b), label='Fitted Line') # predict한 결과값 출력: 회귀식 \n",
    "    plt.legend()\n",
    "    plt.show()"
   ]
  },
  {
   "cell_type": "code",
   "execution_count": 146,
   "metadata": {},
   "outputs": [],
   "source": [
    "# tensor -> 직접 시각화하는 것이 불가능\n",
    "import tensorflow as tf\n",
    "def run_variable(variable):\n",
    "    tf.global_variables_initializer()\n",
    "    with tf.Session() as sess:\n",
    "        return sess.run(variable)"
   ]
  },
  {
   "cell_type": "code",
   "execution_count": 150,
   "metadata": {},
   "outputs": [],
   "source": [
    "my_distribution = tf.random_uniform((600,400), seed = 42) # 6x4 = 24개. 600x400(데이터 수)하면 균등분포(아래 그래프)가 달라짐\n",
    "uniform = run_variable(my_distribution)"
   ]
  },
  {
   "cell_type": "code",
   "execution_count": 151,
   "metadata": {},
   "outputs": [
    {
     "data": {
      "image/png": "[encoded data removed]",
      "text/plain": [
       "<Figure size 432x288 with 1 Axes>"
      ]
     },
     "metadata": {
      "needs_background": "light"
     },
     "output_type": "display_data"
    }
   ],
   "source": [
    "from matplotlib import pyplot as plt\n",
    "plt.hist(uniform.flatten()) # 데이터 메모리 저장: 1차원\n",
    "plt.show()"
   ]
  },
  {
   "cell_type": "markdown",
   "metadata": {},
   "source": [
    "# activation 함수: 활성화 함수 - 회귀냐 분류냐를 결정\n",
    "- 비선형 매핑(선형대수 -> 비선형으로 바꿈)\n",
    "- 가중치를 깊게 하고 활성화 함수 매핑으로 XOR 문제를 해결"
   ]
  },
  {
   "cell_type": "code",
   "execution_count": 179,
   "metadata": {},
   "outputs": [
    {
     "name": "stdout",
     "output_type": "stream",
     "text": [
      "[-10.          -9.7979798   -9.5959596   -9.39393939  -9.19191919\n",
      "  -8.98989899  -8.78787879  -8.58585859  -8.38383838  -8.18181818\n",
      "  -7.97979798  -7.77777778  -7.57575758  -7.37373737  -7.17171717\n",
      "  -6.96969697  -6.76767677  -6.56565657  -6.36363636  -6.16161616\n",
      "  -5.95959596  -5.75757576  -5.55555556  -5.35353535  -5.15151515\n",
      "  -4.94949495  -4.74747475  -4.54545455  -4.34343434  -4.14141414\n",
      "  -3.93939394  -3.73737374  -3.53535354  -3.33333333  -3.13131313\n",
      "  -2.92929293  -2.72727273  -2.52525253  -2.32323232  -2.12121212\n",
      "  -1.91919192  -1.71717172  -1.51515152  -1.31313131  -1.11111111\n",
      "  -0.90909091  -0.70707071  -0.50505051  -0.3030303   -0.1010101\n",
      "   0.1010101    0.3030303    0.50505051   0.70707071   0.90909091\n",
      "   1.11111111   1.31313131   1.51515152   1.71717172   1.91919192\n",
      "   2.12121212   2.32323232   2.52525253   2.72727273   2.92929293\n",
      "   3.13131313   3.33333333   3.53535354   3.73737374   3.93939394\n",
      "   4.14141414   4.34343434   4.54545455   4.74747475   4.94949495\n",
      "   5.15151515   5.35353535   5.55555556   5.75757576   5.95959596\n",
      "   6.16161616   6.36363636   6.56565657   6.76767677   6.96969697\n",
      "   7.17171717   7.37373737   7.57575758   7.77777778   7.97979798\n",
      "   8.18181818   8.38383838   8.58585859   8.78787879   8.98989899\n",
      "   9.19191919   9.39393939   9.5959596    9.7979798   10.        ]\n"
     ]
    }
   ],
   "source": [
    "import tensorflow as tf\n",
    "import numpy as np\n",
    "import matplotlib.pyplot as plt\n",
    "from tensorflow.python.framework import ops\n",
    "ops.reset_default_graph() # 그래프 초기화\n",
    "sess = tf.Session()\n",
    "\n",
    "x_vals = np.linspace(start=-10., stop=10., num=100)\n",
    "print(x_vals)"
   ]
  },
  {
   "cell_type": "code",
   "execution_count": 180,
   "metadata": {},
   "outputs": [
    {
     "name": "stdout",
     "output_type": "stream",
     "text": [
      "[-0.  3. 10.]\n",
      "[0.26894143 0.5        0.7310586 ]\n",
      "[-0.7615942  0.         0.7615942]\n",
      "[-0.63212055  0.          1.        ]\n",
      "[0.31326166 0.6931472  1.3132616 ]\n",
      "[4.53988992e-05 5.55621925e-05 6.80006294e-05 8.32234827e-05\n",
      " 1.01854002e-04 1.24654915e-04 1.52559623e-04 1.86710374e-04\n",
      " 2.28504961e-04 2.79653838e-04 3.42249995e-04 4.18854392e-04\n",
      " 5.12600439e-04 6.27321712e-04 7.67708042e-04 9.39496227e-04\n",
      " 1.14970295e-03 1.40690911e-03 1.72160671e-03 2.10662180e-03\n",
      " 2.57762963e-03 3.15378152e-03 3.85846667e-03 4.72023638e-03\n",
      " 5.77392318e-03 7.06199264e-03 8.63617122e-03 1.05593993e-02\n",
      " 1.29081631e-02 1.57752639e-02 1.92730804e-02 2.35373794e-02\n",
      " 2.87317129e-02 3.50524161e-02 4.27341757e-02 5.20560700e-02\n",
      " 6.33478781e-02 7.69963170e-02 9.34506760e-02 1.13227094e-01\n",
      " 1.36910472e-01 1.65152775e-01 1.98666320e-01 2.38210660e-01\n",
      " 2.84571982e-01 3.38534624e-01 4.00845440e-01 4.72173209e-01\n",
      " 5.53066799e-01 6.43916968e-01 7.44927069e-01 8.56097102e-01\n",
      " 9.77223714e-01 1.10791615e+00 1.24762553e+00 1.39568309e+00\n",
      " 1.55134197e+00 1.71381783e+00 1.88232449e+00 2.05610239e+00\n",
      " 2.23443922e+00 2.41668300e+00 2.60224884e+00 2.79062061e+00\n",
      " 2.98134900e+00 3.17404731e+00 3.36838575e+00 3.56408525e+00\n",
      " 3.76091112e+00 3.95866702e+00 4.15718941e+00 4.35634251e+00\n",
      " 4.55601394e+00 4.75611092e+00 4.95655694e+00 5.15728907e+00\n",
      " 5.35825559e+00 5.55941402e+00 5.76072954e+00 5.96217359e+00\n",
      " 6.16372278e+00 6.36535797e+00 6.56706347e+00 6.76882647e+00\n",
      " 6.97063647e+00 7.17248488e+00 7.37436470e+00 7.57627018e+00\n",
      " 7.77819663e+00 7.98014023e+00 8.18209784e+00 8.38406689e+00\n",
      " 8.58604530e+00 8.78803135e+00 8.99002364e+00 9.19202105e+00\n",
      " 9.39402262e+00 9.59602760e+00 9.79803536e+00 1.00000454e+01]\n",
      "[-0.9999546  -0.99994444 -0.999932   -0.99991677 -0.99989814 -0.99987534\n",
      " -0.99984743 -0.99981327 -0.99977147 -0.99972031 -0.99965769 -0.99958106\n",
      " -0.99948727 -0.99937248 -0.999232   -0.99906006 -0.99884964 -0.9985921\n",
      " -0.99827691 -0.99789116 -0.99741905 -0.99684124 -0.99613408 -0.99526861\n",
      " -0.99420938 -0.99291301 -0.99132643 -0.98938465 -0.98700817 -0.98409965\n",
      " -0.98053999 -0.97618343 -0.97085155 -0.96432601 -0.95633957 -0.94656519\n",
      " -0.9346026  -0.9199619  -0.90204355 -0.88011378 -0.85327452 -0.82042669\n",
      " -0.78022512 -0.73102351 -0.67080701 -0.59710968 -0.50691352 -0.3965249\n",
      " -0.26142329 -0.0960761   0.1010101   0.3030303   0.50505051  0.70707071\n",
      "  0.90909091  1.11111111  1.31313131  1.51515152  1.71717172  1.91919192\n",
      "  2.12121212  2.32323232  2.52525253  2.72727273  2.92929293  3.13131313\n",
      "  3.33333333  3.53535354  3.73737374  3.93939394  4.14141414  4.34343434\n",
      "  4.54545455  4.74747475  4.94949495  5.15151515  5.35353535  5.55555556\n",
      "  5.75757576  5.95959596  6.16161616  6.36363636  6.56565657  6.76767677\n",
      "  6.96969697  7.17171717  7.37373737  7.57575758  7.77777778  7.97979798\n",
      "  8.18181818  8.38383838  8.58585859  8.78787879  8.98989899  9.19191919\n",
      "  9.39393939  9.5959596   9.7979798  10.        ]\n"
     ]
    },
    {
     "data": {
      "image/png": "[encoded data removed]",
      "text/plain": [
       "<Figure size 432x288 with 1 Axes>"
      ]
     },
     "metadata": {
      "needs_background": "light"
     },
     "output_type": "display_data"
    },
    {
     "data": {
      "image/png": "[encoded data removed]",
      "text/plain": [
       "<Figure size 432x288 with 1 Axes>"
      ]
     },
     "metadata": {
      "needs_background": "light"
     },
     "output_type": "display_data"
    }
   ],
   "source": [
    "# ReLU\n",
    "print(sess.run(tf.nn.relu([-3., 3., 10.]))) # 렐루가 가장 많이 쓰임. 0~무한대\n",
    "y_relu = sess.run(tf.nn.relu(x_vals))\n",
    "\n",
    "# Sigmoid\n",
    "print(sess.run(tf.nn.sigmoid([-1., 0., 1.]))) \n",
    "y_sigmoid = sess.run(tf.nn.sigmoid(x_vals))\n",
    "\n",
    "# tanh\n",
    "print(sess.run(tf.nn.tanh([-1., 0., 1.]))) # -1 ~ 1\n",
    "y_tanh = sess.run(tf.nn.tanh(x_vals))\n",
    "\n",
    "# elu\n",
    "print(sess.run(tf.nn.elu([-1., 0., 1.]))) # -1 ~ 00 수정본 \n",
    "y_elu = sess.run(tf.nn.elu(x_vals))\n",
    "\n",
    "# softplus\n",
    "print(sess.run(tf.nn.softplus([-1., 0., 1.]))) # 각진 단점 보완(부드럽게)\n",
    "y_softplus = sess.run(tf.nn.softplus(x_vals))\n",
    "\n",
    "print(y_softplus)\n",
    "print(y_elu)\n",
    "\n",
    "############################################################################################# 다 그려보자\n",
    "plt.plot(x_vals, y_relu, 'b:', label='ReLU', linewidth=2)\n",
    "plt.plot(x_vals, y_elu, 'k-', label='ExpLU', linewidth=0.5)\n",
    "plt.ylim([-1.5, 7])\n",
    "plt.legend(loc='upper left')\n",
    "plt.show()\n",
    "\n",
    "plt.plot(x_vals, y_sigmoid, 'r--', label='Sigmoid', linewidth=2)\n",
    "plt.plot(x_vals, y_tanh, 'b:', label='Tanh', linewidth=2)\n",
    "plt.ylim([-2, 2])\n",
    "plt.legend(loc='upper left')\n",
    "plt.show()\n"
   ]
  },
  {
   "cell_type": "code",
   "execution_count": 166,
   "metadata": {},
   "outputs": [],
   "source": [
    "ops.reset_default_graph() # 그래프 초기화\n",
    "sess = tf.Session()\n",
    "tf.set_random_seed(5) # 시드의 초기값\n",
    "np.random.seed(42)\n",
    "batch_size = 50\n",
    "a1 = tf.Variable(tf.random_normal(shape=[1,1])) # 가중치\n",
    "b1 = tf.Variable(tf.random_uniform(shape=[1,1])) # bias\n",
    "a2 = tf.Variable(tf.random_normal(shape=[1,1]))\n",
    "b2 = tf.Variable(tf.random_uniform(shape=[1,1]))\n",
    "x = np.random.normal(2, 0.1, 500) # 랜덤 데이터 500개\n",
    "x_data = tf.placeholder(shape=[None, 1], dtype=tf.float32) # 사이즈를 fix하지 않고(none) 입력 데이터로부터 계산. 한 개의 행 데이터로 생성"
   ]
  },
  {
   "cell_type": "code",
   "execution_count": 169,
   "metadata": {},
   "outputs": [
    {
     "name": "stdout",
     "output_type": "stream",
     "text": [
      "\n",
      " Sigmoid & Relu 함수의 최적화 0.75\n"
     ]
    }
   ],
   "source": [
    "# y = ax + b 이지만 sigmoid로 매핑 => 0~1 사이 값으로 변함\n",
    "sigmoid_activation = tf.sigmoid(tf.add(tf.matmul(x_data, a1), b1))\n",
    "# 0 ~ oo(무한대)\n",
    "relu_activation = tf.nn.relu(tf.add(tf.matmul(x_data, a2), b2))\n",
    "# 0.75로 수렴 과정\n",
    "# MSE\n",
    "loss1 = tf.reduce_mean(tf.square(tf.subtract(sigmoid_activation, 0.75)))\n",
    "loss2 = tf.reduce_mean(tf.square(tf.subtract(relu_activation, 0.75)))\n",
    "init = tf.global_variables_initializer()\n",
    "sess.run(init)\n",
    "my_opt = tf.train.GradientDescentOptimizer(0.01)\n",
    "train_step_sigmoid = my_opt.minimize(loss1)\n",
    "train_step_relu = my_opt.minimize(loss2)\n",
    "print(\"\\n Sigmoid & Relu 함수의 최적화 0.75\")\n"
   ]
  },
  {
   "cell_type": "code",
   "execution_count": 170,
   "metadata": {},
   "outputs": [],
   "source": [
    "loss_vec_sigmoid = [] # 로스값을 저장\n",
    "loss_vec_relu = []"
   ]
  },
  {
   "cell_type": "code",
   "execution_count": 175,
   "metadata": {},
   "outputs": [
    {
     "name": "stdout",
     "output_type": "stream",
     "text": [
      "sigmoid = 0.74903303\trelu = 0.7492768\n",
      "sigmoid = 0.74972016\trelu = 0.74646974\n",
      "sigmoid = 0.7499535\trelu = 0.74655896\n",
      "sigmoid = 0.74864596\trelu = 0.75382453\n",
      "sigmoid = 0.7491845\trelu = 0.75044996\n",
      "sigmoid = 0.74786156\trelu = 0.757092\n",
      "sigmoid = 0.7492991\trelu = 0.7519531\n",
      "sigmoid = 0.74979097\trelu = 0.7482766\n",
      "sigmoid = 0.7496743\trelu = 0.74895364\n",
      "sigmoid = 0.74910986\trelu = 0.75318223\n"
     ]
    }
   ],
   "source": [
    "for i in range(500):\n",
    "    # 500 -> 50\n",
    "    rand_indices = np.random.choice(len(x), size=batch_size)\n",
    "    x_vals = np.transpose([x[rand_indices]])\n",
    "    sess.run(train_step_sigmoid, feed_dict={x_data: x_vals})\n",
    "    sess.run(train_step_relu, feed_dict={x_data: x_vals})\n",
    "    loss_vec_sigmoid.append(sess.run(loss1, feed_dict={x_data: x_vals}))\n",
    "    loss_vec_relu.append(sess.run(loss2, feed_dict={x_data: x_vals}))\n",
    "    sigmoid_output = np.mean(sess.run(sigmoid_activation, feed_dict={x_data: x_vals}))\n",
    "    relu_output = np.mean(sess.run(relu_activation, feed_dict={x_data: x_vals}))\n",
    "    if i% 50==0:\n",
    "        print('sigmoid = ' + str(np.mean(sigmoid_output)) + '\\t' +'relu = ' + str(np.mean(relu_output)))\n",
    "        \n",
    "# 0.75로 수렴하는 과정"
   ]
  },
  {
   "cell_type": "code",
   "execution_count": 176,
   "metadata": {},
   "outputs": [
    {
     "data": {
      "image/png": "[encoded data removed]",
      "text/plain": [
       "<Figure size 432x288 with 1 Axes>"
      ]
     },
     "metadata": {
      "needs_background": "light"
     },
     "output_type": "display_data"
    }
   ],
   "source": [
    "plt.plot(loss_vec_sigmoid, 'k-', label='Sigmoid Activation')\n",
    "plt.plot(loss_vec_relu, 'r--', label='Relu Activation') # 빠른 속도로 근사해 감\n",
    "plt.ylim([0, 1.0])\n",
    "plt.title(' Loss per Generation')\n",
    "plt.xlabel('Generation')\n",
    "plt.ylabel('Loss')\n",
    "plt.legend(loc='upper right')\n",
    "plt.show() "
   ]
  },
  {
   "cell_type": "code",
   "execution_count": null,
   "metadata": {},
   "outputs": [],
   "source": [
    "\n",
    "\n",
    "- 미니배치: 속도 개선, 지역해 문제 해결\n",
    "\n",
    "- 액티베이션 함수 역할: 선형을 비선형으로 매핑하여 회귀와 분류 구분\n",
    "- 경사하강법: 러닝레이트, 기울기 - 두가지 문제"
   ]
  },
  {
   "cell_type": "code",
   "execution_count": null,
   "metadata": {},
   "outputs": [],
   "source": []
  },
  {
   "cell_type": "code",
   "execution_count": null,
   "metadata": {},
   "outputs": [],
   "source": []
  },
  {
   "cell_type": "code",
   "execution_count": null,
   "metadata": {},
   "outputs": [],
   "source": []
  }
 ],
 "metadata": {
  "kernelspec": {
   "display_name": "Python 3",
   "language": "python",
   "name": "python3"
  },
  "language_info": {
   "codemirror_mode": {
    "name": "ipython",
    "version": 3
   },
   "file_extension": ".py",
   "mimetype": "text/x-python",
   "name": "python",
   "nbconvert_exporter": "python",
   "pygments_lexer": "ipython3",
   "version": "3.7.6"
  }
 },
 "nbformat": 4,
 "nbformat_minor": 2
}
