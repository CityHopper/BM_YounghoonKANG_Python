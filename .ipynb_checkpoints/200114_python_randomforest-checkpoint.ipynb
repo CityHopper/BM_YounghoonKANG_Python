{
 "cells": [
  {
   "cell_type": "code",
   "execution_count": 4,
   "metadata": {},
   "outputs": [],
   "source": [
    "%matplotlib inline\n",
    "from sklearn.datasets import load_iris\n",
    "from sklearn.model_selection import cross_val_score # cv\n",
    "from sklearn import tree\n",
    "clf= tree.DecisionTreeClassifier(random_state=0)\n",
    "iris = load_iris()"
   ]
  },
  {
   "cell_type": "code",
   "execution_count": 5,
   "metadata": {
    "scrolled": false
   },
   "outputs": [
    {
     "data": {
      "text/plain": [
       "[Text(167.4, 199.32, 'X[3] <= 0.8\\ngini = 0.667\\nsamples = 150\\nvalue = [50, 50, 50]'),\n",
       " Text(141.64615384615385, 163.07999999999998, 'gini = 0.0\\nsamples = 50\\nvalue = [50, 0, 0]'),\n",
       " Text(193.15384615384616, 163.07999999999998, 'X[3] <= 1.75\\ngini = 0.5\\nsamples = 100\\nvalue = [0, 50, 50]'),\n",
       " Text(103.01538461538462, 126.83999999999999, 'X[2] <= 4.95\\ngini = 0.168\\nsamples = 54\\nvalue = [0, 49, 5]'),\n",
       " Text(51.50769230769231, 90.6, 'X[3] <= 1.65\\ngini = 0.041\\nsamples = 48\\nvalue = [0, 47, 1]'),\n",
       " Text(25.753846153846155, 54.359999999999985, 'gini = 0.0\\nsamples = 47\\nvalue = [0, 47, 0]'),\n",
       " Text(77.26153846153846, 54.359999999999985, 'gini = 0.0\\nsamples = 1\\nvalue = [0, 0, 1]'),\n",
       " Text(154.52307692307693, 90.6, 'X[3] <= 1.55\\ngini = 0.444\\nsamples = 6\\nvalue = [0, 2, 4]'),\n",
       " Text(128.76923076923077, 54.359999999999985, 'gini = 0.0\\nsamples = 3\\nvalue = [0, 0, 3]'),\n",
       " Text(180.27692307692308, 54.359999999999985, 'X[2] <= 5.45\\ngini = 0.444\\nsamples = 3\\nvalue = [0, 2, 1]'),\n",
       " Text(154.52307692307693, 18.119999999999976, 'gini = 0.0\\nsamples = 2\\nvalue = [0, 2, 0]'),\n",
       " Text(206.03076923076924, 18.119999999999976, 'gini = 0.0\\nsamples = 1\\nvalue = [0, 0, 1]'),\n",
       " Text(283.2923076923077, 126.83999999999999, 'X[2] <= 4.85\\ngini = 0.043\\nsamples = 46\\nvalue = [0, 1, 45]'),\n",
       " Text(257.53846153846155, 90.6, 'X[1] <= 3.1\\ngini = 0.444\\nsamples = 3\\nvalue = [0, 1, 2]'),\n",
       " Text(231.7846153846154, 54.359999999999985, 'gini = 0.0\\nsamples = 2\\nvalue = [0, 0, 2]'),\n",
       " Text(283.2923076923077, 54.359999999999985, 'gini = 0.0\\nsamples = 1\\nvalue = [0, 1, 0]'),\n",
       " Text(309.04615384615386, 90.6, 'gini = 0.0\\nsamples = 43\\nvalue = [0, 0, 43]')]"
      ]
     },
     "execution_count": 5,
     "metadata": {},
     "output_type": "execute_result"
    },
    {
     "data": {
      "image/png": "[encoded data removed]",
      "text/plain": [
       "<Figure size 432x288 with 1 Axes>"
      ]
     },
     "metadata": {
      "needs_background": "light"
     },
     "output_type": "display_data"
    }
   ],
   "source": [
    "clf = clf.fit(iris.data, iris.target)\n",
    "tree.plot_tree(clf)"
   ]
  },
  {
   "cell_type": "code",
   "execution_count": null,
   "metadata": {},
   "outputs": [],
   "source": [
    "# 트리 : 정보이득 : 불순도: {\"gini\" 계수, entropy}\n",
    "                # hyper parameter => GridSearchCV\n",
    "# 의사결정 트리를 만드는 이유\n",
    "- 비교를 적게 하기 위해\n",
    "# 단점: 과적합이 문제. 변수의 순서를 달리하면 결과가 달라진다는 점도 문제.\n",
    "- max_depth : 과적합 방지 변수. 보통 5로 지정.\n",
    "- 끝단의 leaf : min_samples_split (노드를 나누기 위한 최소 개수)\n",
    "- min_samples_leaf: 하나의 노드가 되기 위한 최소한의 수\n",
    "- hyper parameter 조합을 만들어서 테스트하는 놈이 GridSearchCV\n",
    "\n",
    "# https://scikit-learn.org/stable/modules/generated/sklearn.tree.DecisionTreeClassifier.html"
   ]
  },
  {
   "cell_type": "code",
   "execution_count": 7,
   "metadata": {},
   "outputs": [
    {
     "data": {
      "text/plain": [
       "array([1.        , 0.93333333, 1.        , 0.93333333, 0.93333333,\n",
       "       0.86666667, 0.93333333, 1.        , 1.        , 1.        ])"
      ]
     },
     "execution_count": 7,
     "metadata": {},
     "output_type": "execute_result"
    }
   ],
   "source": [
    "cross_val_score(clf, iris.data, iris.target, cv=10) # 값 10개, 다 비슷함"
   ]
  },
  {
   "cell_type": "code",
   "execution_count": 8,
   "metadata": {},
   "outputs": [
    {
     "name": "stdout",
     "output_type": "stream",
     "text": [
      "9\n"
     ]
    }
   ],
   "source": [
    "print(clf.get_n_leaves()) # 끝단 9개"
   ]
  },
  {
   "cell_type": "code",
   "execution_count": 9,
   "metadata": {},
   "outputs": [
    {
     "data": {
      "text/plain": [
       "5"
      ]
     },
     "execution_count": 9,
     "metadata": {},
     "output_type": "execute_result"
    }
   ],
   "source": [
    "clf.get_depth() # 깊이 5"
   ]
  },
  {
   "cell_type": "code",
   "execution_count": 11,
   "metadata": {},
   "outputs": [
    {
     "data": {
      "text/plain": [
       "{'class_weight': None,\n",
       " 'criterion': 'gini',\n",
       " 'max_depth': None,\n",
       " 'max_features': None,\n",
       " 'max_leaf_nodes': None,\n",
       " 'min_impurity_decrease': 0.0,\n",
       " 'min_impurity_split': None,\n",
       " 'min_samples_leaf': 1,\n",
       " 'min_samples_split': 2,\n",
       " 'min_weight_fraction_leaf': 0.0,\n",
       " 'presort': False,\n",
       " 'random_state': 0,\n",
       " 'splitter': 'best'}"
      ]
     },
     "execution_count": 11,
     "metadata": {},
     "output_type": "execute_result"
    }
   ],
   "source": [
    "clf.get_params() # default 값"
   ]
  },
  {
   "cell_type": "code",
   "execution_count": 13,
   "metadata": {},
   "outputs": [
    {
     "name": "stdout",
     "output_type": "stream",
     "text": [
      "(150, 4)\n",
      "['sepal length (cm)', 'sepal width (cm)', 'petal length (cm)', 'petal width (cm)']\n"
     ]
    }
   ],
   "source": [
    "# 품종\n",
    "print(iris.data.shape) # 150, 4\n",
    "print(iris.feature_names) # 변수 이름"
   ]
  },
  {
   "cell_type": "code",
   "execution_count": 15,
   "metadata": {},
   "outputs": [
    {
     "name": "stdout",
     "output_type": "stream",
     "text": [
      "     0    1    2    3\n",
      "0  5.1  3.5  1.4  0.2\n",
      "1  4.9  3.0  1.4  0.2\n",
      "2  4.7  3.2  1.3  0.2\n",
      "3  4.6  3.1  1.5  0.2\n",
      "4  5.0  3.6  1.4  0.2\n"
     ]
    },
    {
     "data": {
      "text/plain": [
       "array([0, 0, 0, 0, 0, 0, 0, 0, 0, 0, 0, 0, 0, 0, 0, 0, 0, 0, 0, 0, 0, 0,\n",
       "       0, 0, 0, 0, 0, 0, 0, 0, 0, 0, 0, 0, 0, 0, 0, 0, 0, 0, 0, 0, 0, 0,\n",
       "       0, 0, 0, 0, 0, 1, 1, 1, 1, 1, 1, 1, 1, 1, 1, 1, 1, 1, 1, 1, 1, 1,\n",
       "       1, 1, 1, 1, 1, 1, 1, 1, 1, 1, 1, 1, 1, 1, 1, 1, 1, 1, 1, 1, 1, 1,\n",
       "       1, 1, 1, 1, 1, 1, 1, 1, 1, 1, 1, 2, 2, 2, 2, 2, 2, 2, 2, 2, 2, 2,\n",
       "       2, 2, 2, 2, 2, 2, 2, 2, 2, 2, 2, 2, 2, 2, 2, 2, 2, 2, 2, 2, 2, 2,\n",
       "       2, 2, 2, 2, 2, 2, 2, 2, 2, 2, 2, 2, 2, 2, 2, 2, 2])"
      ]
     },
     "execution_count": 15,
     "metadata": {},
     "output_type": "execute_result"
    }
   ],
   "source": [
    "import pandas as pd\n",
    "data = pd.DataFrame(iris.data)\n",
    "print(data.head())\n",
    "clf.predict(data.iloc[1:150,:]) ############ 뭘 예상한거임"
   ]
  },
  {
   "cell_type": "code",
   "execution_count": 19,
   "metadata": {},
   "outputs": [],
   "source": [
    "from sklearn.pipeline import make_pipeline\n",
    "from sklearn.naive_bayes import MultinomialNB # bayes\n",
    "from sklearn.preprocessing import Binarizer # 경계값을 기준으로 0,1로 나누어주는 것\n",
    "pipe = make_pipeline(Binarizer(), MultinomialNB()) # 데이터를 Binarizer()에 처리하고 MultinomialNB()로 넘겨라"
   ]
  },
  {
   "cell_type": "code",
   "execution_count": 20,
   "metadata": {},
   "outputs": [
    {
     "name": "stdout",
     "output_type": "stream",
     "text": [
      "('binarizer', Binarizer(copy=True, threshold=0.0))\n",
      "Binarizer(copy=True, threshold=0.0)\n"
     ]
    }
   ],
   "source": [
    "print(pipe.steps[0])\n",
    "print(pipe[0])\n",
    "# pipe['reduce_dim']"
   ]
  },
  {
   "cell_type": "code",
   "execution_count": 22,
   "metadata": {},
   "outputs": [
    {
     "data": {
      "text/plain": [
       "Pipeline(memory=None,\n",
       "         steps=[('reduce_dim',\n",
       "                 PCA(copy=True, iterated_power='auto', n_components=None,\n",
       "                     random_state=None, svd_solver='auto', tol=0.0,\n",
       "                     whiten=False)),\n",
       "                ('clf',\n",
       "                 SVC(C=1.0, cache_size=200, class_weight=None, coef0=0.0,\n",
       "                     decision_function_shape='ovr', degree=3,\n",
       "                     gamma='auto_deprecated', kernel='rbf', max_iter=-1,\n",
       "                     probability=False, random_state=None, shrinking=True,\n",
       "                     tol=0.001, verbose=False))],\n",
       "         verbose=False)"
      ]
     },
     "execution_count": 22,
     "metadata": {},
     "output_type": "execute_result"
    }
   ],
   "source": [
    "from sklearn.pipeline import Pipeline\n",
    "from sklearn.svm import SVC # Support Vector Classifier\n",
    "from sklearn.decomposition import PCA # Principle Component Analysis\n",
    "estimators = [('reduce_dim', PCA()), ('clf',SVC())] # PCA 이름과 SVC 이름 각각 지정\n",
    "pipe = Pipeline(estimators)\n",
    "pipe"
   ]
  },
  {
   "cell_type": "code",
   "execution_count": 24,
   "metadata": {},
   "outputs": [
    {
     "name": "stdout",
     "output_type": "stream",
     "text": [
      "('clf', SVC(C=1.0, cache_size=200, class_weight=None, coef0=0.0,\n",
      "    decision_function_shape='ovr', degree=3, gamma='auto_deprecated',\n",
      "    kernel='rbf', max_iter=-1, probability=False, random_state=None,\n",
      "    shrinking=True, tol=0.001, verbose=False))\n",
      "PCA(copy=True, iterated_power='auto', n_components=None, random_state=None,\n",
      "    svd_solver='auto', tol=0.0, whiten=False)\n"
     ]
    }
   ],
   "source": [
    "print(pipe.steps[1])\n",
    "print(pipe[0])"
   ]
  },
  {
   "cell_type": "code",
   "execution_count": 26,
   "metadata": {},
   "outputs": [
    {
     "data": {
      "text/plain": [
       "Pipeline(memory=None,\n",
       "         steps=[('reduce_dim',\n",
       "                 PCA(copy=True, iterated_power='auto', n_components=None,\n",
       "                     random_state=None, svd_solver='auto', tol=0.0,\n",
       "                     whiten=False)),\n",
       "                ('clf',\n",
       "                 SVC(C=10, cache_size=200, class_weight=None, coef0=0.0,\n",
       "                     decision_function_shape='ovr', degree=3,\n",
       "                     gamma='auto_deprecated', kernel='rbf', max_iter=-1,\n",
       "                     probability=False, random_state=None, shrinking=True,\n",
       "                     tol=0.001, verbose=False))],\n",
       "         verbose=False)"
      ]
     },
     "execution_count": 26,
     "metadata": {},
     "output_type": "execute_result"
    }
   ],
   "source": [
    "pipe.set_params(clf__C=10) # 매개변수 초기화. clf에 파라미터(10) 전달."
   ]
  },
  {
   "cell_type": "code",
   "execution_count": 60,
   "metadata": {},
   "outputs": [
    {
     "name": "stdout",
     "output_type": "stream",
     "text": [
      "<class 'numpy.ndarray'>\n"
     ]
    }
   ],
   "source": [
    "def make_data(N, err=1.0, rseed=1):\n",
    "    rng = np.random.RandomState(rseed)\n",
    "    X = rng.rand(N,1) ** 2\n",
    "    y = 10 - 1. / (X.ravel() + 0.1)\n",
    "    if err >0:\n",
    "        y+= err * rng.randn(N)\n",
    "    return X, y\n",
    "X, y = make_data(40)\n",
    "print(type(X))"
   ]
  },
  {
   "cell_type": "code",
   "execution_count": 61,
   "metadata": {},
   "outputs": [],
   "source": [
    "import pandas as pd\n",
    "import numpy as np\n",
    "from sklearn.linear_model import LinearRegression\n",
    "from sklearn.model_selection import GridSearchCV # parameter tuning\n",
    "from sklearn.preprocessing import PolynomialFeatures # 다차원 특성 추가\n",
    "\n",
    "# 파이프라인 리턴\n",
    "def PolynomialRegression(degree = 2, **kwargs): # dict 변동 매개변수\n",
    "    return make_pipeline(PolynomialFeatures(degree),\n",
    "                        LinearRegression(**kwargs))\n",
    "# 0~20\n",
    "# 모델의 hyper parameter : 21x2x2 총 84개 조합을 7개(cv)로 나눔\n",
    "param_grid = {'polynomialfeatures__degree': np.arange(21),\n",
    "              'linearregression__fit_intercept': [True, False],\n",
    "              'linearregression__normalize':[True, False]}"
   ]
  },
  {
   "cell_type": "code",
   "execution_count": 62,
   "metadata": {},
   "outputs": [],
   "source": [
    "# Cross Validation\n",
    "# 21x2x2 총 84개 조합을 7개(cv)로 나눔\n",
    "grid = GridSearchCV(PolynomialRegression(),param_grid, cv=7) # Cross Validation 교차검증 - 만든 놈이 7개로 나눔"
   ]
  },
  {
   "cell_type": "code",
   "execution_count": 63,
   "metadata": {},
   "outputs": [
    {
     "name": "stderr",
     "output_type": "stream",
     "text": [
      "C:\\Users\\ICT01_04\\Anaconda3\\lib\\site-packages\\sklearn\\model_selection\\_search.py:814: DeprecationWarning: The default of the `iid` parameter will change from True to False in version 0.22 and will be removed in 0.24. This will change numeric results when test-set sizes are unequal.\n",
      "  DeprecationWarning)\n"
     ]
    }
   ],
   "source": [
    "grid.fit(X, y);"
   ]
  },
  {
   "cell_type": "code",
   "execution_count": 64,
   "metadata": {},
   "outputs": [
    {
     "data": {
      "text/plain": [
       "{'linearregression__fit_intercept': False,\n",
       " 'linearregression__normalize': True,\n",
       " 'polynomialfeatures__degree': 4}"
      ]
     },
     "execution_count": 64,
     "metadata": {},
     "output_type": "execute_result"
    }
   ],
   "source": [
    "grid.best_params_ # 비선형회귀 4차일 경우"
   ]
  },
  {
   "cell_type": "code",
   "execution_count": 65,
   "metadata": {},
   "outputs": [
    {
     "data": {
      "text/plain": [
       "Pipeline(memory=None,\n",
       "         steps=[('polynomialfeatures',\n",
       "                 PolynomialFeatures(degree=4, include_bias=True,\n",
       "                                    interaction_only=False, order='C')),\n",
       "                ('linearregression',\n",
       "                 LinearRegression(copy_X=True, fit_intercept=False, n_jobs=None,\n",
       "                                  normalize=True))],\n",
       "         verbose=False)"
      ]
     },
     "execution_count": 65,
     "metadata": {},
     "output_type": "execute_result"
    }
   ],
   "source": [
    "grid.best_estimator_"
   ]
  },
  {
   "cell_type": "code",
   "execution_count": 73,
   "metadata": {},
   "outputs": [
    {
     "data": {
      "text/plain": [
       "0.8956938691106144"
      ]
     },
     "execution_count": 73,
     "metadata": {},
     "output_type": "execute_result"
    }
   ],
   "source": [
    "grid.best_score_ # 최고 점수의 파라미터\n",
    "# https://datascienceschool.net/view-notebook/ff4b5d491cc34f94aea04baca86fbef8/"
   ]
  },
  {
   "cell_type": "code",
   "execution_count": 74,
   "metadata": {},
   "outputs": [
    {
     "data": {
      "text/plain": [
       "array([[-1.00000000e-01],\n",
       "       [-9.75951904e-02],\n",
       "       [-9.51903808e-02],\n",
       "       [-9.27855711e-02],\n",
       "       [-9.03807615e-02],\n",
       "       [-8.79759519e-02],\n",
       "       [-8.55711423e-02],\n",
       "       [-8.31663327e-02],\n",
       "       [-8.07615230e-02],\n",
       "       [-7.83567134e-02],\n",
       "       [-7.59519038e-02],\n",
       "       [-7.35470942e-02],\n",
       "       [-7.11422846e-02],\n",
       "       [-6.87374749e-02],\n",
       "       [-6.63326653e-02],\n",
       "       [-6.39278557e-02],\n",
       "       [-6.15230461e-02],\n",
       "       [-5.91182365e-02],\n",
       "       [-5.67134269e-02],\n",
       "       [-5.43086172e-02],\n",
       "       [-5.19038076e-02],\n",
       "       [-4.94989980e-02],\n",
       "       [-4.70941884e-02],\n",
       "       [-4.46893788e-02],\n",
       "       [-4.22845691e-02],\n",
       "       [-3.98797595e-02],\n",
       "       [-3.74749499e-02],\n",
       "       [-3.50701403e-02],\n",
       "       [-3.26653307e-02],\n",
       "       [-3.02605210e-02],\n",
       "       [-2.78557114e-02],\n",
       "       [-2.54509018e-02],\n",
       "       [-2.30460922e-02],\n",
       "       [-2.06412826e-02],\n",
       "       [-1.82364729e-02],\n",
       "       [-1.58316633e-02],\n",
       "       [-1.34268537e-02],\n",
       "       [-1.10220441e-02],\n",
       "       [-8.61723447e-03],\n",
       "       [-6.21242485e-03],\n",
       "       [-3.80761523e-03],\n",
       "       [-1.40280561e-03],\n",
       "       [ 1.00200401e-03],\n",
       "       [ 3.40681363e-03],\n",
       "       [ 5.81162325e-03],\n",
       "       [ 8.21643287e-03],\n",
       "       [ 1.06212425e-02],\n",
       "       [ 1.30260521e-02],\n",
       "       [ 1.54308617e-02],\n",
       "       [ 1.78356713e-02],\n",
       "       [ 2.02404810e-02],\n",
       "       [ 2.26452906e-02],\n",
       "       [ 2.50501002e-02],\n",
       "       [ 2.74549098e-02],\n",
       "       [ 2.98597194e-02],\n",
       "       [ 3.22645291e-02],\n",
       "       [ 3.46693387e-02],\n",
       "       [ 3.70741483e-02],\n",
       "       [ 3.94789579e-02],\n",
       "       [ 4.18837675e-02],\n",
       "       [ 4.42885772e-02],\n",
       "       [ 4.66933868e-02],\n",
       "       [ 4.90981964e-02],\n",
       "       [ 5.15030060e-02],\n",
       "       [ 5.39078156e-02],\n",
       "       [ 5.63126253e-02],\n",
       "       [ 5.87174349e-02],\n",
       "       [ 6.11222445e-02],\n",
       "       [ 6.35270541e-02],\n",
       "       [ 6.59318637e-02],\n",
       "       [ 6.83366733e-02],\n",
       "       [ 7.07414830e-02],\n",
       "       [ 7.31462926e-02],\n",
       "       [ 7.55511022e-02],\n",
       "       [ 7.79559118e-02],\n",
       "       [ 8.03607214e-02],\n",
       "       [ 8.27655311e-02],\n",
       "       [ 8.51703407e-02],\n",
       "       [ 8.75751503e-02],\n",
       "       [ 8.99799599e-02],\n",
       "       [ 9.23847695e-02],\n",
       "       [ 9.47895792e-02],\n",
       "       [ 9.71943888e-02],\n",
       "       [ 9.95991984e-02],\n",
       "       [ 1.02004008e-01],\n",
       "       [ 1.04408818e-01],\n",
       "       [ 1.06813627e-01],\n",
       "       [ 1.09218437e-01],\n",
       "       [ 1.11623246e-01],\n",
       "       [ 1.14028056e-01],\n",
       "       [ 1.16432866e-01],\n",
       "       [ 1.18837675e-01],\n",
       "       [ 1.21242485e-01],\n",
       "       [ 1.23647295e-01],\n",
       "       [ 1.26052104e-01],\n",
       "       [ 1.28456914e-01],\n",
       "       [ 1.30861723e-01],\n",
       "       [ 1.33266533e-01],\n",
       "       [ 1.35671343e-01],\n",
       "       [ 1.38076152e-01],\n",
       "       [ 1.40480962e-01],\n",
       "       [ 1.42885772e-01],\n",
       "       [ 1.45290581e-01],\n",
       "       [ 1.47695391e-01],\n",
       "       [ 1.50100200e-01],\n",
       "       [ 1.52505010e-01],\n",
       "       [ 1.54909820e-01],\n",
       "       [ 1.57314629e-01],\n",
       "       [ 1.59719439e-01],\n",
       "       [ 1.62124248e-01],\n",
       "       [ 1.64529058e-01],\n",
       "       [ 1.66933868e-01],\n",
       "       [ 1.69338677e-01],\n",
       "       [ 1.71743487e-01],\n",
       "       [ 1.74148297e-01],\n",
       "       [ 1.76553106e-01],\n",
       "       [ 1.78957916e-01],\n",
       "       [ 1.81362725e-01],\n",
       "       [ 1.83767535e-01],\n",
       "       [ 1.86172345e-01],\n",
       "       [ 1.88577154e-01],\n",
       "       [ 1.90981964e-01],\n",
       "       [ 1.93386774e-01],\n",
       "       [ 1.95791583e-01],\n",
       "       [ 1.98196393e-01],\n",
       "       [ 2.00601202e-01],\n",
       "       [ 2.03006012e-01],\n",
       "       [ 2.05410822e-01],\n",
       "       [ 2.07815631e-01],\n",
       "       [ 2.10220441e-01],\n",
       "       [ 2.12625251e-01],\n",
       "       [ 2.15030060e-01],\n",
       "       [ 2.17434870e-01],\n",
       "       [ 2.19839679e-01],\n",
       "       [ 2.22244489e-01],\n",
       "       [ 2.24649299e-01],\n",
       "       [ 2.27054108e-01],\n",
       "       [ 2.29458918e-01],\n",
       "       [ 2.31863727e-01],\n",
       "       [ 2.34268537e-01],\n",
       "       [ 2.36673347e-01],\n",
       "       [ 2.39078156e-01],\n",
       "       [ 2.41482966e-01],\n",
       "       [ 2.43887776e-01],\n",
       "       [ 2.46292585e-01],\n",
       "       [ 2.48697395e-01],\n",
       "       [ 2.51102204e-01],\n",
       "       [ 2.53507014e-01],\n",
       "       [ 2.55911824e-01],\n",
       "       [ 2.58316633e-01],\n",
       "       [ 2.60721443e-01],\n",
       "       [ 2.63126253e-01],\n",
       "       [ 2.65531062e-01],\n",
       "       [ 2.67935872e-01],\n",
       "       [ 2.70340681e-01],\n",
       "       [ 2.72745491e-01],\n",
       "       [ 2.75150301e-01],\n",
       "       [ 2.77555110e-01],\n",
       "       [ 2.79959920e-01],\n",
       "       [ 2.82364729e-01],\n",
       "       [ 2.84769539e-01],\n",
       "       [ 2.87174349e-01],\n",
       "       [ 2.89579158e-01],\n",
       "       [ 2.91983968e-01],\n",
       "       [ 2.94388778e-01],\n",
       "       [ 2.96793587e-01],\n",
       "       [ 2.99198397e-01],\n",
       "       [ 3.01603206e-01],\n",
       "       [ 3.04008016e-01],\n",
       "       [ 3.06412826e-01],\n",
       "       [ 3.08817635e-01],\n",
       "       [ 3.11222445e-01],\n",
       "       [ 3.13627255e-01],\n",
       "       [ 3.16032064e-01],\n",
       "       [ 3.18436874e-01],\n",
       "       [ 3.20841683e-01],\n",
       "       [ 3.23246493e-01],\n",
       "       [ 3.25651303e-01],\n",
       "       [ 3.28056112e-01],\n",
       "       [ 3.30460922e-01],\n",
       "       [ 3.32865731e-01],\n",
       "       [ 3.35270541e-01],\n",
       "       [ 3.37675351e-01],\n",
       "       [ 3.40080160e-01],\n",
       "       [ 3.42484970e-01],\n",
       "       [ 3.44889780e-01],\n",
       "       [ 3.47294589e-01],\n",
       "       [ 3.49699399e-01],\n",
       "       [ 3.52104208e-01],\n",
       "       [ 3.54509018e-01],\n",
       "       [ 3.56913828e-01],\n",
       "       [ 3.59318637e-01],\n",
       "       [ 3.61723447e-01],\n",
       "       [ 3.64128257e-01],\n",
       "       [ 3.66533066e-01],\n",
       "       [ 3.68937876e-01],\n",
       "       [ 3.71342685e-01],\n",
       "       [ 3.73747495e-01],\n",
       "       [ 3.76152305e-01],\n",
       "       [ 3.78557114e-01],\n",
       "       [ 3.80961924e-01],\n",
       "       [ 3.83366733e-01],\n",
       "       [ 3.85771543e-01],\n",
       "       [ 3.88176353e-01],\n",
       "       [ 3.90581162e-01],\n",
       "       [ 3.92985972e-01],\n",
       "       [ 3.95390782e-01],\n",
       "       [ 3.97795591e-01],\n",
       "       [ 4.00200401e-01],\n",
       "       [ 4.02605210e-01],\n",
       "       [ 4.05010020e-01],\n",
       "       [ 4.07414830e-01],\n",
       "       [ 4.09819639e-01],\n",
       "       [ 4.12224449e-01],\n",
       "       [ 4.14629259e-01],\n",
       "       [ 4.17034068e-01],\n",
       "       [ 4.19438878e-01],\n",
       "       [ 4.21843687e-01],\n",
       "       [ 4.24248497e-01],\n",
       "       [ 4.26653307e-01],\n",
       "       [ 4.29058116e-01],\n",
       "       [ 4.31462926e-01],\n",
       "       [ 4.33867735e-01],\n",
       "       [ 4.36272545e-01],\n",
       "       [ 4.38677355e-01],\n",
       "       [ 4.41082164e-01],\n",
       "       [ 4.43486974e-01],\n",
       "       [ 4.45891784e-01],\n",
       "       [ 4.48296593e-01],\n",
       "       [ 4.50701403e-01],\n",
       "       [ 4.53106212e-01],\n",
       "       [ 4.55511022e-01],\n",
       "       [ 4.57915832e-01],\n",
       "       [ 4.60320641e-01],\n",
       "       [ 4.62725451e-01],\n",
       "       [ 4.65130261e-01],\n",
       "       [ 4.67535070e-01],\n",
       "       [ 4.69939880e-01],\n",
       "       [ 4.72344689e-01],\n",
       "       [ 4.74749499e-01],\n",
       "       [ 4.77154309e-01],\n",
       "       [ 4.79559118e-01],\n",
       "       [ 4.81963928e-01],\n",
       "       [ 4.84368737e-01],\n",
       "       [ 4.86773547e-01],\n",
       "       [ 4.89178357e-01],\n",
       "       [ 4.91583166e-01],\n",
       "       [ 4.93987976e-01],\n",
       "       [ 4.96392786e-01],\n",
       "       [ 4.98797595e-01],\n",
       "       [ 5.01202405e-01],\n",
       "       [ 5.03607214e-01],\n",
       "       [ 5.06012024e-01],\n",
       "       [ 5.08416834e-01],\n",
       "       [ 5.10821643e-01],\n",
       "       [ 5.13226453e-01],\n",
       "       [ 5.15631263e-01],\n",
       "       [ 5.18036072e-01],\n",
       "       [ 5.20440882e-01],\n",
       "       [ 5.22845691e-01],\n",
       "       [ 5.25250501e-01],\n",
       "       [ 5.27655311e-01],\n",
       "       [ 5.30060120e-01],\n",
       "       [ 5.32464930e-01],\n",
       "       [ 5.34869739e-01],\n",
       "       [ 5.37274549e-01],\n",
       "       [ 5.39679359e-01],\n",
       "       [ 5.42084168e-01],\n",
       "       [ 5.44488978e-01],\n",
       "       [ 5.46893788e-01],\n",
       "       [ 5.49298597e-01],\n",
       "       [ 5.51703407e-01],\n",
       "       [ 5.54108216e-01],\n",
       "       [ 5.56513026e-01],\n",
       "       [ 5.58917836e-01],\n",
       "       [ 5.61322645e-01],\n",
       "       [ 5.63727455e-01],\n",
       "       [ 5.66132265e-01],\n",
       "       [ 5.68537074e-01],\n",
       "       [ 5.70941884e-01],\n",
       "       [ 5.73346693e-01],\n",
       "       [ 5.75751503e-01],\n",
       "       [ 5.78156313e-01],\n",
       "       [ 5.80561122e-01],\n",
       "       [ 5.82965932e-01],\n",
       "       [ 5.85370741e-01],\n",
       "       [ 5.87775551e-01],\n",
       "       [ 5.90180361e-01],\n",
       "       [ 5.92585170e-01],\n",
       "       [ 5.94989980e-01],\n",
       "       [ 5.97394790e-01],\n",
       "       [ 5.99799599e-01],\n",
       "       [ 6.02204409e-01],\n",
       "       [ 6.04609218e-01],\n",
       "       [ 6.07014028e-01],\n",
       "       [ 6.09418838e-01],\n",
       "       [ 6.11823647e-01],\n",
       "       [ 6.14228457e-01],\n",
       "       [ 6.16633267e-01],\n",
       "       [ 6.19038076e-01],\n",
       "       [ 6.21442886e-01],\n",
       "       [ 6.23847695e-01],\n",
       "       [ 6.26252505e-01],\n",
       "       [ 6.28657315e-01],\n",
       "       [ 6.31062124e-01],\n",
       "       [ 6.33466934e-01],\n",
       "       [ 6.35871743e-01],\n",
       "       [ 6.38276553e-01],\n",
       "       [ 6.40681363e-01],\n",
       "       [ 6.43086172e-01],\n",
       "       [ 6.45490982e-01],\n",
       "       [ 6.47895792e-01],\n",
       "       [ 6.50300601e-01],\n",
       "       [ 6.52705411e-01],\n",
       "       [ 6.55110220e-01],\n",
       "       [ 6.57515030e-01],\n",
       "       [ 6.59919840e-01],\n",
       "       [ 6.62324649e-01],\n",
       "       [ 6.64729459e-01],\n",
       "       [ 6.67134269e-01],\n",
       "       [ 6.69539078e-01],\n",
       "       [ 6.71943888e-01],\n",
       "       [ 6.74348697e-01],\n",
       "       [ 6.76753507e-01],\n",
       "       [ 6.79158317e-01],\n",
       "       [ 6.81563126e-01],\n",
       "       [ 6.83967936e-01],\n",
       "       [ 6.86372745e-01],\n",
       "       [ 6.88777555e-01],\n",
       "       [ 6.91182365e-01],\n",
       "       [ 6.93587174e-01],\n",
       "       [ 6.95991984e-01],\n",
       "       [ 6.98396794e-01],\n",
       "       [ 7.00801603e-01],\n",
       "       [ 7.03206413e-01],\n",
       "       [ 7.05611222e-01],\n",
       "       [ 7.08016032e-01],\n",
       "       [ 7.10420842e-01],\n",
       "       [ 7.12825651e-01],\n",
       "       [ 7.15230461e-01],\n",
       "       [ 7.17635271e-01],\n",
       "       [ 7.20040080e-01],\n",
       "       [ 7.22444890e-01],\n",
       "       [ 7.24849699e-01],\n",
       "       [ 7.27254509e-01],\n",
       "       [ 7.29659319e-01],\n",
       "       [ 7.32064128e-01],\n",
       "       [ 7.34468938e-01],\n",
       "       [ 7.36873747e-01],\n",
       "       [ 7.39278557e-01],\n",
       "       [ 7.41683367e-01],\n",
       "       [ 7.44088176e-01],\n",
       "       [ 7.46492986e-01],\n",
       "       [ 7.48897796e-01],\n",
       "       [ 7.51302605e-01],\n",
       "       [ 7.53707415e-01],\n",
       "       [ 7.56112224e-01],\n",
       "       [ 7.58517034e-01],\n",
       "       [ 7.60921844e-01],\n",
       "       [ 7.63326653e-01],\n",
       "       [ 7.65731463e-01],\n",
       "       [ 7.68136273e-01],\n",
       "       [ 7.70541082e-01],\n",
       "       [ 7.72945892e-01],\n",
       "       [ 7.75350701e-01],\n",
       "       [ 7.77755511e-01],\n",
       "       [ 7.80160321e-01],\n",
       "       [ 7.82565130e-01],\n",
       "       [ 7.84969940e-01],\n",
       "       [ 7.87374749e-01],\n",
       "       [ 7.89779559e-01],\n",
       "       [ 7.92184369e-01],\n",
       "       [ 7.94589178e-01],\n",
       "       [ 7.96993988e-01],\n",
       "       [ 7.99398798e-01],\n",
       "       [ 8.01803607e-01],\n",
       "       [ 8.04208417e-01],\n",
       "       [ 8.06613226e-01],\n",
       "       [ 8.09018036e-01],\n",
       "       [ 8.11422846e-01],\n",
       "       [ 8.13827655e-01],\n",
       "       [ 8.16232465e-01],\n",
       "       [ 8.18637275e-01],\n",
       "       [ 8.21042084e-01],\n",
       "       [ 8.23446894e-01],\n",
       "       [ 8.25851703e-01],\n",
       "       [ 8.28256513e-01],\n",
       "       [ 8.30661323e-01],\n",
       "       [ 8.33066132e-01],\n",
       "       [ 8.35470942e-01],\n",
       "       [ 8.37875752e-01],\n",
       "       [ 8.40280561e-01],\n",
       "       [ 8.42685371e-01],\n",
       "       [ 8.45090180e-01],\n",
       "       [ 8.47494990e-01],\n",
       "       [ 8.49899800e-01],\n",
       "       [ 8.52304609e-01],\n",
       "       [ 8.54709419e-01],\n",
       "       [ 8.57114228e-01],\n",
       "       [ 8.59519038e-01],\n",
       "       [ 8.61923848e-01],\n",
       "       [ 8.64328657e-01],\n",
       "       [ 8.66733467e-01],\n",
       "       [ 8.69138277e-01],\n",
       "       [ 8.71543086e-01],\n",
       "       [ 8.73947896e-01],\n",
       "       [ 8.76352705e-01],\n",
       "       [ 8.78757515e-01],\n",
       "       [ 8.81162325e-01],\n",
       "       [ 8.83567134e-01],\n",
       "       [ 8.85971944e-01],\n",
       "       [ 8.88376754e-01],\n",
       "       [ 8.90781563e-01],\n",
       "       [ 8.93186373e-01],\n",
       "       [ 8.95591182e-01],\n",
       "       [ 8.97995992e-01],\n",
       "       [ 9.00400802e-01],\n",
       "       [ 9.02805611e-01],\n",
       "       [ 9.05210421e-01],\n",
       "       [ 9.07615230e-01],\n",
       "       [ 9.10020040e-01],\n",
       "       [ 9.12424850e-01],\n",
       "       [ 9.14829659e-01],\n",
       "       [ 9.17234469e-01],\n",
       "       [ 9.19639279e-01],\n",
       "       [ 9.22044088e-01],\n",
       "       [ 9.24448898e-01],\n",
       "       [ 9.26853707e-01],\n",
       "       [ 9.29258517e-01],\n",
       "       [ 9.31663327e-01],\n",
       "       [ 9.34068136e-01],\n",
       "       [ 9.36472946e-01],\n",
       "       [ 9.38877756e-01],\n",
       "       [ 9.41282565e-01],\n",
       "       [ 9.43687375e-01],\n",
       "       [ 9.46092184e-01],\n",
       "       [ 9.48496994e-01],\n",
       "       [ 9.50901804e-01],\n",
       "       [ 9.53306613e-01],\n",
       "       [ 9.55711423e-01],\n",
       "       [ 9.58116232e-01],\n",
       "       [ 9.60521042e-01],\n",
       "       [ 9.62925852e-01],\n",
       "       [ 9.65330661e-01],\n",
       "       [ 9.67735471e-01],\n",
       "       [ 9.70140281e-01],\n",
       "       [ 9.72545090e-01],\n",
       "       [ 9.74949900e-01],\n",
       "       [ 9.77354709e-01],\n",
       "       [ 9.79759519e-01],\n",
       "       [ 9.82164329e-01],\n",
       "       [ 9.84569138e-01],\n",
       "       [ 9.86973948e-01],\n",
       "       [ 9.89378758e-01],\n",
       "       [ 9.91783567e-01],\n",
       "       [ 9.94188377e-01],\n",
       "       [ 9.96593186e-01],\n",
       "       [ 9.98997996e-01],\n",
       "       [ 1.00140281e+00],\n",
       "       [ 1.00380762e+00],\n",
       "       [ 1.00621242e+00],\n",
       "       [ 1.00861723e+00],\n",
       "       [ 1.01102204e+00],\n",
       "       [ 1.01342685e+00],\n",
       "       [ 1.01583166e+00],\n",
       "       [ 1.01823647e+00],\n",
       "       [ 1.02064128e+00],\n",
       "       [ 1.02304609e+00],\n",
       "       [ 1.02545090e+00],\n",
       "       [ 1.02785571e+00],\n",
       "       [ 1.03026052e+00],\n",
       "       [ 1.03266533e+00],\n",
       "       [ 1.03507014e+00],\n",
       "       [ 1.03747495e+00],\n",
       "       [ 1.03987976e+00],\n",
       "       [ 1.04228457e+00],\n",
       "       [ 1.04468938e+00],\n",
       "       [ 1.04709419e+00],\n",
       "       [ 1.04949900e+00],\n",
       "       [ 1.05190381e+00],\n",
       "       [ 1.05430862e+00],\n",
       "       [ 1.05671343e+00],\n",
       "       [ 1.05911824e+00],\n",
       "       [ 1.06152305e+00],\n",
       "       [ 1.06392786e+00],\n",
       "       [ 1.06633267e+00],\n",
       "       [ 1.06873747e+00],\n",
       "       [ 1.07114228e+00],\n",
       "       [ 1.07354709e+00],\n",
       "       [ 1.07595190e+00],\n",
       "       [ 1.07835671e+00],\n",
       "       [ 1.08076152e+00],\n",
       "       [ 1.08316633e+00],\n",
       "       [ 1.08557114e+00],\n",
       "       [ 1.08797595e+00],\n",
       "       [ 1.09038076e+00],\n",
       "       [ 1.09278557e+00],\n",
       "       [ 1.09519038e+00],\n",
       "       [ 1.09759519e+00],\n",
       "       [ 1.10000000e+00]])"
      ]
     },
     "execution_count": 74,
     "metadata": {},
     "output_type": "execute_result"
    }
   ],
   "source": [
    "np.linspace(-0.1, 1.1, 500)[:, None] # 모든 행을, 하지만 열은 없이"
   ]
  },
  {
   "cell_type": "code",
   "execution_count": 80,
   "metadata": {},
   "outputs": [
    {
     "data": {
      "text/plain": [
       "(-0.05673314103942452,\n",
       " 0.994263633135634,\n",
       " -0.7459943120970807,\n",
       " 10.918045992764213)"
      ]
     },
     "execution_count": 80,
     "metadata": {},
     "output_type": "execute_result"
    },
    {
     "data": {
      "image/png": "[encoded data removed]",
      "text/plain": [
       "<Figure size 432x288 with 1 Axes>"
      ]
     },
     "metadata": {
      "needs_background": "light"
     },
     "output_type": "display_data"
    }
   ],
   "source": [
    "import matplotlib.pyplot as plt\n",
    "model = grid.best_estimator_\n",
    "X_test = np.linspace(-0.1, 1.1, 500)[:, None] \n",
    "\n",
    "plt.scatter(X.ravel(), y) # ravel: 평평하게 1차원으로 만듦. 차수를 일치시키기 위해\n",
    "lim = plt.axis()\n",
    "y_test = model.fit(X,y).predict(X_test)\n",
    "plt.plot(X_test.ravel(),y_test)\n",
    "plt.axis(lim)"
   ]
  },
  {
   "cell_type": "code",
   "execution_count": 72,
   "metadata": {},
   "outputs": [
    {
     "data": {
      "text/plain": [
       "Pipeline(memory=None,\n",
       "         steps=[('polynomialfeatures',\n",
       "                 PolynomialFeatures(degree=4, include_bias=True,\n",
       "                                    interaction_only=False, order='C')),\n",
       "                ('linearregression',\n",
       "                 LinearRegression(copy_X=True, fit_intercept=False, n_jobs=None,\n",
       "                                  normalize=True))],\n",
       "         verbose=False)"
      ]
     },
     "execution_count": 72,
     "metadata": {},
     "output_type": "execute_result"
    }
   ],
   "source": [
    "grid.best_estimator_"
   ]
  },
  {
   "cell_type": "code",
   "execution_count": 87,
   "metadata": {},
   "outputs": [
    {
     "name": "stdout",
     "output_type": "stream",
     "text": [
      "[100]\n"
     ]
    }
   ],
   "source": [
    "dataset = [10,12,12,13,12,11,14,13,15,10,10,10,100,12,14,13,12,10,10,11,12,15,12,13,12,11,14,13,15,10,15,12,10,14,13,15,10] \n",
    "outliers=[]\n",
    "def detect_outlier(data_1): # 이상치 걸러내는 함수\n",
    "    threshold = 3\n",
    "    mean_1 = np.mean(data_1) # 평균\n",
    "    std_1 = np.std(data_1) # 표준편차\n",
    "    for y in data_1:\n",
    "        z_score = (y-mean_1) / std_1 # Z점수\n",
    "        if np.abs(z_score) > threshold: # 문지방: 경계값\n",
    "            outliers.append(y)\n",
    "    return outliers\n",
    "outlier_datapoints = detect_outlier(dataset)\n",
    "print(outlier_datapoints)"
   ]
  },
  {
   "cell_type": "code",
   "execution_count": 98,
   "metadata": {},
   "outputs": [
    {
     "name": "stdout",
     "output_type": "stream",
     "text": [
      "Using matplotlib backend: Qt5Agg\n",
      "[-3. -2. -1.  0.  1.  2.  3.  4.  5.  6.]\n"
     ]
    },
    {
     "data": {
      "text/plain": [
       "<matplotlib.axes._subplots.AxesSubplot at 0x1ed81f47248>"
      ]
     },
     "execution_count": 98,
     "metadata": {},
     "output_type": "execute_result"
    }
   ],
   "source": [
    "%matplotlib\n",
    "import numpy as np\n",
    "import pandas as pd\n",
    "\n",
    "from sklearn.preprocessing import scale, robust_scale, minmax_scale,maxabs_scale\n",
    "# robust_scale 평균: median(위치적 중위수)/IQR\n",
    "# minmax 0~1\n",
    "# maxabs -1~1\n",
    "print((np.arange(10, dtype=np.float)- 3))\n",
    "x = (np.arange(10, dtype=np.float)- 3).reshape(-1,1)\n",
    "#print(x)\n",
    "df = pd.DataFrame(np.hstack([x, scale(x), robust_scale(x), minmax_scale(x) ,maxabs_scale(x)]),\n",
    "                            columns = [\"x\",'scale(x)','rubust_scale(x)', 'minmax_scale(x)','maxabs_scale(x)'])\n",
    "df.plot()"
   ]
  },
  {
   "cell_type": "code",
   "execution_count": 102,
   "metadata": {},
   "outputs": [
    {
     "name": "stdout",
     "output_type": "stream",
     "text": [
      "<class 'sklearn.utils.Bunch'>\n",
      "전처리전 평균: [5.84333333 3.05733333 3.758      1.19933333]\n",
      "전처리전 std: [0.82530129 0.43441097 1.75940407 0.75969263]\n",
      "전처리후 평균: [-1.69031455e-15 -1.84297022e-15 -1.69864123e-15 -1.40924309e-15]\n",
      "전처리후 std: [1. 1. 1. 1.]\n"
     ]
    }
   ],
   "source": [
    "# 분포는 동일\n",
    "# 정규화를 왜 하나? 변수기여도를 동일하게 (키와 체중의 사이즈가 다르니까 동일하게 0~1로)\n",
    "import seaborn as sns\n",
    "from sklearn.datasets import load_iris\n",
    "iris = load_iris()\n",
    "print(type(iris))\n",
    "data1 = iris.data\n",
    "data2 = scale(iris.data)\n",
    "print('전처리전 평균:', np.mean(data1, axis=0))\n",
    "print('전처리전 std:', np.std(data1, axis=0))\n",
    "print('전처리후 평균:', np.mean(data2, axis=0))\n",
    "print('전처리후 std:', np.std(data2, axis=0))\n",
    "sns.jointplot(data1[:,0], data1[:,1])\n",
    "plt.show()\n",
    "sns.jointplot(data2[:,0], data2[:,1])\n",
    "plt.show()"
   ]
  },
  {
   "cell_type": "code",
   "execution_count": 99,
   "metadata": {},
   "outputs": [
    {
     "data": {
      "text/plain": [
       "(1.9738430577598278, 1.0)"
      ]
     },
     "execution_count": 99,
     "metadata": {},
     "output_type": "execute_result"
    }
   ],
   "source": [
    "from sklearn.preprocessing import StandardScaler\n",
    "scaler = StandardScaler() # 인스턴스\n",
    "scaler.fit(data1)\n",
    "data2 = scaler.transform(data1) # transformer(변환기), estimator(추정기-모델)\n",
    "data1.std(), data2.std()"
   ]
  },
  {
   "cell_type": "code",
   "execution_count": 101,
   "metadata": {},
   "outputs": [
    {
     "name": "stdout",
     "output_type": "stream",
     "text": [
      "[3] [0 3] [0 1 2]\n"
     ]
    },
    {
     "name": "stderr",
     "output_type": "stream",
     "text": [
      "C:\\Users\\ICT01_04\\Anaconda3\\lib\\site-packages\\sklearn\\preprocessing\\_encoders.py:415: FutureWarning: The handling of integer data will change in version 0.22. Currently, the categories are determined based on the range [0, max(values)], while in the future they will be determined based on the unique values.\n",
      "If you want the future behaviour and silence this warning, you can specify \"categories='auto'\".\n",
      "In case you used a LabelEncoder before this OneHotEncoder to convert the categories to integers, then you can now use the OneHotEncoder directly.\n",
      "  warnings.warn(msg, FutureWarning)\n",
      "C:\\Users\\ICT01_04\\Anaconda3\\lib\\site-packages\\sklearn\\utils\\deprecation.py:100: DeprecationWarning: The ``n_values_`` attribute was deprecated in version 0.20 and will be removed 0.22.\n",
      "  warnings.warn(msg, category=DeprecationWarning)\n",
      "C:\\Users\\ICT01_04\\Anaconda3\\lib\\site-packages\\sklearn\\utils\\deprecation.py:100: DeprecationWarning: The ``feature_indices_`` attribute was deprecated in version 0.20 and will be removed 0.22.\n",
      "  warnings.warn(msg, category=DeprecationWarning)\n",
      "C:\\Users\\ICT01_04\\Anaconda3\\lib\\site-packages\\sklearn\\utils\\deprecation.py:100: DeprecationWarning: The ``active_features_`` attribute was deprecated in version 0.20 and will be removed 0.22.\n",
      "  warnings.warn(msg, category=DeprecationWarning)\n"
     ]
    },
    {
     "data": {
      "text/plain": [
       "[array([0., 1., 2.])]"
      ]
     },
     "execution_count": 101,
     "metadata": {},
     "output_type": "execute_result"
    }
   ],
   "source": [
    "from sklearn.preprocessing import OneHotEncoder\n",
    "ohe = OneHotEncoder()\n",
    "X = np.array([[0],[1],[2]])\n",
    "X\n",
    "ohe.fit(X)\n",
    "print(ohe.n_values_, ohe.feature_indices_, ohe.active_features_)\n",
    "ohe.categories_"
   ]
  },
  {
   "cell_type": "code",
   "execution_count": 107,
   "metadata": {},
   "outputs": [
    {
     "name": "stdout",
     "output_type": "stream",
     "text": [
      "[[1. 0. 1. 0. 0. 0. 0. 0. 0. 1.]\n",
      " [0. 1. 0. 1. 0. 1. 0. 0. 0. 0.]\n",
      " [1. 0. 0. 0. 1. 0. 1. 0. 0. 0.]\n",
      " [0. 1. 1. 0. 0. 0. 0. 1. 0. 0.]\n",
      " [0. 1. 0. 1. 0. 0. 0. 0. 1. 0.]]\n"
     ]
    }
   ],
   "source": [
    "# 원핫인코딩: 0과 1로 표현\n",
    "# 입력 3자리 => 원핫인코딩 후 10자리로 변경됨: 2가지+3가지+5가지(각 리스트의 인덱스별 종류수)\n",
    "X = np.array([[0,0,4],[1,1,0],[0,2,1],[1,0,2],[1,1,3]])\n",
    "ohe = OneHotEncoder()\n",
    "ohe.fit(X)\n",
    "print(ohe.transform(X).toarray()) # 리스트로 보여줌: 세로로 잘라서 봐야함. 2개|3개|5개"
   ]
  },
  {
   "cell_type": "code",
   "execution_count": 110,
   "metadata": {},
   "outputs": [
    {
     "data": {
      "text/plain": [
       "array([1, 2, 6])"
      ]
     },
     "execution_count": 110,
     "metadata": {},
     "output_type": "execute_result"
    }
   ],
   "source": [
    "from sklearn.preprocessing import LabelEncoder\n",
    "le= LabelEncoder()\n",
    "le.fit([1,2,2,6])\n",
    "le.classes_"
   ]
  },
  {
   "cell_type": "code",
   "execution_count": 112,
   "metadata": {},
   "outputs": [
    {
     "data": {
      "text/plain": [
       "array([0, 0, 1, 2], dtype=int64)"
      ]
     },
     "execution_count": 112,
     "metadata": {},
     "output_type": "execute_result"
    }
   ],
   "source": [
    "le.transform([1,1,2,6]) # 1이 0번째, 1이 0번째, 2가 1번째, 6이 2번째"
   ]
  },
  {
   "cell_type": "code",
   "execution_count": 113,
   "metadata": {},
   "outputs": [
    {
     "data": {
      "text/plain": [
       "array([1, 1, 2, 6])"
      ]
     },
     "execution_count": 113,
     "metadata": {},
     "output_type": "execute_result"
    }
   ],
   "source": [
    "le.inverse_transform([0,0,1,2])"
   ]
  },
  {
   "cell_type": "code",
   "execution_count": 116,
   "metadata": {},
   "outputs": [
    {
     "data": {
      "text/plain": [
       "array(['대전', '부산', '서울'], dtype='<U2')"
      ]
     },
     "execution_count": 116,
     "metadata": {},
     "output_type": "execute_result"
    }
   ],
   "source": [
    "# 다음 데이터를 인코딩하시오\n",
    "le.fit([\"서울\",\"서울\",\"대전\",\"부산\"])\n",
    "le.classes_"
   ]
  },
  {
   "cell_type": "code",
   "execution_count": 117,
   "metadata": {},
   "outputs": [
    {
     "data": {
      "text/plain": [
       "['서울', '서울', '부산']"
      ]
     },
     "execution_count": 117,
     "metadata": {},
     "output_type": "execute_result"
    }
   ],
   "source": [
    "le.transform([\"서울\",\"서울\",\"부산\"])\n",
    "list(le.inverse_transform([2,2,1]))"
   ]
  },
  {
   "cell_type": "code",
   "execution_count": 119,
   "metadata": {},
   "outputs": [
    {
     "data": {
      "text/plain": [
       "array([[2., 0., 1.],\n",
       "       [0., 1., 3.]])"
      ]
     },
     "execution_count": 119,
     "metadata": {},
     "output_type": "execute_result"
    }
   ],
   "source": [
    "from sklearn.feature_extraction import DictVectorizer\n",
    "v = DictVectorizer(sparse=False)\n",
    "D = [{'foo':1, 'bar':2}, {'foo':3, 'baz':1}]\n",
    "X = v.fit_transform(D)\n",
    "X\n",
    "#  bar, baz, foo\n",
    "#  2     0    1\n",
    "#  0     1    3"
   ]
  },
  {
   "cell_type": "code",
   "execution_count": 121,
   "metadata": {},
   "outputs": [
    {
     "data": {
      "text/plain": [
       "['bar', 'baz', 'foo']"
      ]
     },
     "execution_count": 121,
     "metadata": {},
     "output_type": "execute_result"
    }
   ],
   "source": [
    "v.feature_names_"
   ]
  },
  {
   "cell_type": "code",
   "execution_count": 123,
   "metadata": {},
   "outputs": [
    {
     "data": {
      "text/plain": [
       "[{'bar': 2.0, 'foo': 1.0}, {'baz': 1.0, 'foo': 3.0}]"
      ]
     },
     "execution_count": 123,
     "metadata": {},
     "output_type": "execute_result"
    }
   ],
   "source": [
    "v.inverse_transform(X)"
   ]
  },
  {
   "cell_type": "code",
   "execution_count": 125,
   "metadata": {},
   "outputs": [
    {
     "name": "stdout",
     "output_type": "stream",
     "text": [
      "[[ 7.   2.   3. ]\n",
      " [ 4.   3.5  6. ]\n",
      " [10.   3.5  9. ]]\n"
     ]
    }
   ],
   "source": [
    "# 결측치 처리\n",
    "from sklearn.impute import SimpleImputer\n",
    "imp_mean = SimpleImputer(missing_values=np.nan, strategy = 'mean') # mean, median, most_frequency\n",
    "imp_mean.fit([[7,2,3],[4,np.nan,6],[10,5,9]])\n",
    "X = [[np.nan, 2, 3], [4, np.nan, 6],[10, np.nan, 9]]\n",
    "print(imp_mean.transform(X))"
   ]
  },
  {
   "cell_type": "code",
   "execution_count": 129,
   "metadata": {},
   "outputs": [
    {
     "data": {
      "text/plain": [
       "array([[0., 0., 1.],\n",
       "       [0., 0., 1.]])"
      ]
     },
     "execution_count": 129,
     "metadata": {},
     "output_type": "execute_result"
    }
   ],
   "source": [
    "ohe = OneHotEncoder()\n",
    "ohe.fit([[\"서울\"],[\"서울\"],[\"대전\"],[\"부산\"]])\n",
    "ohe.transform([[\"서울\"],[\"서울\"]]).toarray()"
   ]
  },
  {
   "cell_type": "code",
   "execution_count": 130,
   "metadata": {},
   "outputs": [
    {
     "data": {
      "text/plain": [
       "array([[0, 1],\n",
       "       [2, 3],\n",
       "       [4, 5]])"
      ]
     },
     "execution_count": 130,
     "metadata": {},
     "output_type": "execute_result"
    }
   ],
   "source": [
    "from sklearn.preprocessing import PolynomialFeatures\n",
    "X = np.arange(6).reshape(3,2)\n",
    "X"
   ]
  },
  {
   "cell_type": "code",
   "execution_count": 132,
   "metadata": {},
   "outputs": [
    {
     "data": {
      "text/plain": [
       "array([[ 1.,  0.,  1.,  0.,  0.,  1.],\n",
       "       [ 1.,  2.,  3.,  4.,  6.,  9.],\n",
       "       [ 1.,  4.,  5., 16., 20., 25.]])"
      ]
     },
     "execution_count": 132,
     "metadata": {},
     "output_type": "execute_result"
    }
   ],
   "source": [
    "# [1, a, b, a^2, b^2] => 비선형회귀\n",
    "poly = PolynomialFeatures(2) # 다항식 계산 결과값을 속성값으로 추가\n",
    "poly.fit_transform(X)"
   ]
  },
  {
   "cell_type": "markdown",
   "metadata": {},
   "source": [
    "- Ensemble 학습\n",
    "- RandomForest: DT를 여러개의 모델로 구축해서\n",
    "   - 연속형: 결과값의 평균으로 예측\n",
    "   - 이산형: 결과값의 투표를 통해서 결정"
   ]
  },
  {
   "cell_type": "code",
   "execution_count": 147,
   "metadata": {},
   "outputs": [
    {
     "name": "stderr",
     "output_type": "stream",
     "text": [
      "C:\\Users\\ICT01_04\\Anaconda3\\lib\\site-packages\\sklearn\\ensemble\\forest.py:245: FutureWarning: The default value of n_estimators will change from 10 in version 0.20 to 100 in 0.22.\n",
      "  \"10 in version 0.20 to 100 in 0.22.\", FutureWarning)\n"
     ]
    },
    {
     "data": {
      "text/plain": [
       "RandomForestClassifier(bootstrap=True, class_weight=None, criterion='gini',\n",
       "                       max_depth=None, max_features='auto', max_leaf_nodes=None,\n",
       "                       min_impurity_decrease=0.0, min_impurity_split=None,\n",
       "                       min_samples_leaf=1, min_samples_split=2,\n",
       "                       min_weight_fraction_leaf=0.0, n_estimators=10,\n",
       "                       n_jobs=None, oob_score=False, random_state=None,\n",
       "                       verbose=0, warm_start=False)"
      ]
     },
     "execution_count": 147,
     "metadata": {},
     "output_type": "execute_result"
    }
   ],
   "source": [
    "from sklearn.datasets import make_classification\n",
    "X, y = make_classification(1000)\n",
    "# =10\n",
    "from sklearn.ensemble import RandomForestClassifier\n",
    "rf =RandomForestClassifier() # n_estimators=30이면 다름. 디폴트는 10\n",
    "rf.fit(X,y)"
   ]
  },
  {
   "cell_type": "code",
   "execution_count": 146,
   "metadata": {},
   "outputs": [
    {
     "name": "stdout",
     "output_type": "stream",
     "text": [
      "Accuracy:\t 0.994\n"
     ]
    }
   ],
   "source": [
    "print(\"Accuracy:\\t\", (y== rf.predict(X)).mean()) # 같으면 1, 거짓이면 0. 랜덤이라 매번 값 다름"
   ]
  },
  {
   "cell_type": "code",
   "execution_count": 148,
   "metadata": {},
   "outputs": [
    {
     "data": {
      "text/plain": [
       "Text(0.5, 1.0, '특성중요도')"
      ]
     },
     "execution_count": 148,
     "metadata": {},
     "output_type": "execute_result"
    },
    {
     "name": "stderr",
     "output_type": "stream",
     "text": [
      "C:\\Users\\ICT01_04\\Anaconda3\\lib\\site-packages\\matplotlib\\backends\\backend_agg.py:211: RuntimeWarning: Glyph 53945 missing from current font.\n",
      "  font.set_text(s, 0.0, flags=flags)\n",
      "C:\\Users\\ICT01_04\\Anaconda3\\lib\\site-packages\\matplotlib\\backends\\backend_agg.py:211: RuntimeWarning: Glyph 49457 missing from current font.\n",
      "  font.set_text(s, 0.0, flags=flags)\n",
      "C:\\Users\\ICT01_04\\Anaconda3\\lib\\site-packages\\matplotlib\\backends\\backend_agg.py:211: RuntimeWarning: Glyph 51473 missing from current font.\n",
      "  font.set_text(s, 0.0, flags=flags)\n",
      "C:\\Users\\ICT01_04\\Anaconda3\\lib\\site-packages\\matplotlib\\backends\\backend_agg.py:211: RuntimeWarning: Glyph 50836 missing from current font.\n",
      "  font.set_text(s, 0.0, flags=flags)\n",
      "C:\\Users\\ICT01_04\\Anaconda3\\lib\\site-packages\\matplotlib\\backends\\backend_agg.py:211: RuntimeWarning: Glyph 46020 missing from current font.\n",
      "  font.set_text(s, 0.0, flags=flags)\n",
      "C:\\Users\\ICT01_04\\Anaconda3\\lib\\site-packages\\matplotlib\\backends\\backend_agg.py:180: RuntimeWarning: Glyph 53945 missing from current font.\n",
      "  font.set_text(s, 0, flags=flags)\n",
      "C:\\Users\\ICT01_04\\Anaconda3\\lib\\site-packages\\matplotlib\\backends\\backend_agg.py:180: RuntimeWarning: Glyph 49457 missing from current font.\n",
      "  font.set_text(s, 0, flags=flags)\n",
      "C:\\Users\\ICT01_04\\Anaconda3\\lib\\site-packages\\matplotlib\\backends\\backend_agg.py:180: RuntimeWarning: Glyph 51473 missing from current font.\n",
      "  font.set_text(s, 0, flags=flags)\n",
      "C:\\Users\\ICT01_04\\Anaconda3\\lib\\site-packages\\matplotlib\\backends\\backend_agg.py:180: RuntimeWarning: Glyph 50836 missing from current font.\n",
      "  font.set_text(s, 0, flags=flags)\n",
      "C:\\Users\\ICT01_04\\Anaconda3\\lib\\site-packages\\matplotlib\\backends\\backend_agg.py:180: RuntimeWarning: Glyph 46020 missing from current font.\n",
      "  font.set_text(s, 0, flags=flags)\n"
     ]
    }
   ],
   "source": [
    "f, ax = plt.subplots(figsize=(7,5))\n",
    "ax.bar(range(0, len(rf.feature_importances_)),\n",
    "      rf.feature_importances_)\n",
    "ax.set_title(\"특성중요도\")"
   ]
  },
  {
   "cell_type": "code",
   "execution_count": 150,
   "metadata": {},
   "outputs": [
    {
     "name": "stdout",
     "output_type": "stream",
     "text": [
      "특성수 20\n",
      "모델 [DecisionTreeClassifier(class_weight=None, criterion='gini', max_depth=None,\n",
      "                       max_features='auto', max_leaf_nodes=None,\n",
      "                       min_impurity_decrease=0.0, min_impurity_split=None,\n",
      "                       min_samples_leaf=1, min_samples_split=2,\n",
      "                       min_weight_fraction_leaf=0.0, presort=False,\n",
      "                       random_state=1801115276, splitter='best'), DecisionTreeClassifier(class_weight=None, criterion='gini', max_depth=None,\n",
      "                       max_features='auto', max_leaf_nodes=None,\n",
      "                       min_impurity_decrease=0.0, min_impurity_split=None,\n",
      "                       min_samples_leaf=1, min_samples_split=2,\n",
      "                       min_weight_fraction_leaf=0.0, presort=False,\n",
      "                       random_state=1743823212, splitter='best'), DecisionTreeClassifier(class_weight=None, criterion='gini', max_depth=None,\n",
      "                       max_features='auto', max_leaf_nodes=None,\n",
      "                       min_impurity_decrease=0.0, min_impurity_split=None,\n",
      "                       min_samples_leaf=1, min_samples_split=2,\n",
      "                       min_weight_fraction_leaf=0.0, presort=False,\n",
      "                       random_state=62479733, splitter='best'), DecisionTreeClassifier(class_weight=None, criterion='gini', max_depth=None,\n",
      "                       max_features='auto', max_leaf_nodes=None,\n",
      "                       min_impurity_decrease=0.0, min_impurity_split=None,\n",
      "                       min_samples_leaf=1, min_samples_split=2,\n",
      "                       min_weight_fraction_leaf=0.0, presort=False,\n",
      "                       random_state=1629996787, splitter='best'), DecisionTreeClassifier(class_weight=None, criterion='gini', max_depth=None,\n",
      "                       max_features='auto', max_leaf_nodes=None,\n",
      "                       min_impurity_decrease=0.0, min_impurity_split=None,\n",
      "                       min_samples_leaf=1, min_samples_split=2,\n",
      "                       min_weight_fraction_leaf=0.0, presort=False,\n",
      "                       random_state=1236120507, splitter='best'), DecisionTreeClassifier(class_weight=None, criterion='gini', max_depth=None,\n",
      "                       max_features='auto', max_leaf_nodes=None,\n",
      "                       min_impurity_decrease=0.0, min_impurity_split=None,\n",
      "                       min_samples_leaf=1, min_samples_split=2,\n",
      "                       min_weight_fraction_leaf=0.0, presort=False,\n",
      "                       random_state=1750156902, splitter='best'), DecisionTreeClassifier(class_weight=None, criterion='gini', max_depth=None,\n",
      "                       max_features='auto', max_leaf_nodes=None,\n",
      "                       min_impurity_decrease=0.0, min_impurity_split=None,\n",
      "                       min_samples_leaf=1, min_samples_split=2,\n",
      "                       min_weight_fraction_leaf=0.0, presort=False,\n",
      "                       random_state=1415703565, splitter='best'), DecisionTreeClassifier(class_weight=None, criterion='gini', max_depth=None,\n",
      "                       max_features='auto', max_leaf_nodes=None,\n",
      "                       min_impurity_decrease=0.0, min_impurity_split=None,\n",
      "                       min_samples_leaf=1, min_samples_split=2,\n",
      "                       min_weight_fraction_leaf=0.0, presort=False,\n",
      "                       random_state=1853470364, splitter='best'), DecisionTreeClassifier(class_weight=None, criterion='gini', max_depth=None,\n",
      "                       max_features='auto', max_leaf_nodes=None,\n",
      "                       min_impurity_decrease=0.0, min_impurity_split=None,\n",
      "                       min_samples_leaf=1, min_samples_split=2,\n",
      "                       min_weight_fraction_leaf=0.0, presort=False,\n",
      "                       random_state=738901262, splitter='best'), DecisionTreeClassifier(class_weight=None, criterion='gini', max_depth=None,\n",
      "                       max_features='auto', max_leaf_nodes=None,\n",
      "                       min_impurity_decrease=0.0, min_impurity_split=None,\n",
      "                       min_samples_leaf=1, min_samples_split=2,\n",
      "                       min_weight_fraction_leaf=0.0, presort=False,\n",
      "                       random_state=673678817, splitter='best')]\n"
     ]
    }
   ],
   "source": [
    "print(\"특성수\", rf.n_features_)\n",
    "print(\"모델\", rf.estimators_)"
   ]
  },
  {
   "cell_type": "code",
   "execution_count": 182,
   "metadata": {},
   "outputs": [
    {
     "name": "stderr",
     "output_type": "stream",
     "text": [
      "C:\\Users\\ICT01_04\\Anaconda3\\lib\\site-packages\\sklearn\\ensemble\\forest.py:245: FutureWarning: The default value of n_estimators will change from 10 in version 0.20 to 100 in 0.22.\n",
      "  \"10 in version 0.20 to 100 in 0.22.\", FutureWarning)\n"
     ]
    },
    {
     "data": {
      "text/plain": [
       "RandomForestRegressor(bootstrap=True, criterion='mse', max_depth=None,\n",
       "                      max_features='auto', max_leaf_nodes=None,\n",
       "                      min_impurity_decrease=0.0, min_impurity_split=None,\n",
       "                      min_samples_leaf=1, min_samples_split=2,\n",
       "                      min_weight_fraction_leaf=0.0, n_estimators=10,\n",
       "                      n_jobs=None, oob_score=False, random_state=None,\n",
       "                      verbose=0, warm_start=False)"
      ]
     },
     "execution_count": 182,
     "metadata": {},
     "output_type": "execute_result"
    }
   ],
   "source": [
    "# 문제: load_boston()을 이용해 데이터를 로딩하고 rf로 변수중요도를 출력해봐라\n",
    "from sklearn.datasets import load_boston\n",
    "from sklearn.ensemble import RandomForestRegressor\n",
    "boston = load_boston()\n",
    "\n",
    "X = boston[\"data\"]\n",
    "Y = boston[\"target\"]\n",
    "names= boston[\"feature_names\"]\n",
    "rf = RandomForestRegressor()\n",
    "rf.fit(X, Y)"
   ]
  },
  {
   "cell_type": "code",
   "execution_count": 183,
   "metadata": {},
   "outputs": [
    {
     "name": "stdout",
     "output_type": "stream",
     "text": [
      "[(0.45, 'RM'), (0.37, 'LSTAT'), (0.06, 'DIS'), (0.05, 'CRIM'), (0.03, 'NOX'), (0.01, 'TAX'), (0.01, 'PTRATIO'), (0.01, 'INDUS'), (0.01, 'B'), (0.01, 'AGE'), (0.0, 'ZN'), (0.0, 'RAD'), (0.0, 'CHAS')]\n"
     ]
    }
   ],
   "source": [
    "print(sorted(zip(map(lambda x: round(x,2),\n",
    "                    rf.feature_importances_), names), reverse=True)) # 내림차순 정렬"
   ]
  },
  {
   "cell_type": "code",
   "execution_count": 185,
   "metadata": {},
   "outputs": [
    {
     "data": {
      "text/plain": [
       "Text(0.5, 1.0, 'feature importance')"
      ]
     },
     "execution_count": 185,
     "metadata": {},
     "output_type": "execute_result"
    }
   ],
   "source": [
    "import matplotlib.pyplot as plt\n",
    "f, ax = plt.subplots(figsize=(7,5))\n",
    "ax.bar(range(0, len(rf.feature_importances_)),\n",
    "      rf.feature_importances_)\n",
    "ax.set_title('feature importance')"
   ]
  },
  {
   "cell_type": "code",
   "execution_count": 176,
   "metadata": {},
   "outputs": [],
   "source": [
    "# 평가: 예측 - 상관계수, mse()"
   ]
  },
  {
   "cell_type": "code",
   "execution_count": 186,
   "metadata": {},
   "outputs": [
    {
     "data": {
      "text/plain": [
       "2.493899604743083"
      ]
     },
     "execution_count": 186,
     "metadata": {},
     "output_type": "execute_result"
    }
   ],
   "source": [
    "from sklearn.metrics import mean_squared_error, mean_absolute_error, r2_score\n",
    "mean_squared_error(Y, rf.predict(X))"
   ]
  },
  {
   "cell_type": "code",
   "execution_count": 188,
   "metadata": {},
   "outputs": [
    {
     "data": {
      "text/plain": [
       "0.9704582715392428"
      ]
     },
     "execution_count": 188,
     "metadata": {},
     "output_type": "execute_result"
    }
   ],
   "source": [
    "r2_score(Y, rf.predict(X))"
   ]
  },
  {
   "cell_type": "code",
   "execution_count": 192,
   "metadata": {},
   "outputs": [
    {
     "data": {
      "text/plain": [
       "RandomForestClassifier(bootstrap=True, class_weight=None, criterion='gini',\n",
       "                       max_depth=None, max_features='auto', max_leaf_nodes=None,\n",
       "                       min_impurity_decrease=0.0, min_impurity_split=None,\n",
       "                       min_samples_leaf=1, min_samples_split=2,\n",
       "                       min_weight_fraction_leaf=0.0, n_estimators=100,\n",
       "                       n_jobs=None, oob_score=False, random_state=0, verbose=0,\n",
       "                       warm_start=False)"
      ]
     },
     "execution_count": 192,
     "metadata": {},
     "output_type": "execute_result"
    }
   ],
   "source": [
    "from sklearn.datasets import load_breast_cancer\n",
    "from sklearn.model_selection import train_test_split # 0.75: 0.25\n",
    "cancer = load_breast_cancer()\n",
    "X_train, X_test, y_train, y_test = train_test_split(cancer.data, cancer.target, random_state=0)\n",
    "forest = RandomForestClassifier(n_estimators=100, random_state=0)\n",
    "forest.fit(X_train, y_train)"
   ]
  },
  {
   "cell_type": "code",
   "execution_count": 194,
   "metadata": {},
   "outputs": [
    {
     "name": "stdout",
     "output_type": "stream",
     "text": [
      "훈련 세트 정확도: 1.0\n",
      "테스트 세트 정확도: 0.972\n"
     ]
    }
   ],
   "source": [
    "# predict : score\n",
    "print(\"훈련 세트 정확도: {:.3}\".format(forest.score(X_train, y_train)))\n",
    "print(\"테스트 세트 정확도: {:.3}\".format(forest.score(X_test, y_test)))"
   ]
  },
  {
   "cell_type": "code",
   "execution_count": 196,
   "metadata": {},
   "outputs": [],
   "source": [
    "from sklearn.tree import export_graphviz\n",
    "export_graphviz(forest.estimators_[0], out_file=\"tree.dot\", class_names=[\"악성\", \"양성\"],\n",
    "               feature_names = cancer.feature_names, impurity=False, filled=True)"
   ]
  },
  {
   "cell_type": "code",
   "execution_count": 198,
   "metadata": {},
   "outputs": [
    {
     "data": {
      "image/svg+xml": [
       "<?xml version=\"1.0\" encoding=\"UTF-8\" standalone=\"no\"?>\r\n",
       "<!DOCTYPE svg PUBLIC \"-//W3C//DTD SVG 1.1//EN\"\r\n",
       " \"http://www.w3.org/Graphics/SVG/1.1/DTD/svg11.dtd\">\r\n",
       "<!-- Generated by graphviz version 2.38.0 (20140413.2041)\r\n",
       " -->\r\n",
       "<!-- Title: Tree Pages: 1 -->\r\n",
       "<svg width=\"1824pt\" height=\"685pt\"\r\n",
       " viewBox=\"0.00 0.00 1823.50 685.00\" xmlns=\"http://www.w3.org/2000/svg\" xmlns:xlink=\"http://www.w3.org/1999/xlink\">\r\n",
       "<g id=\"graph0\" class=\"graph\" transform=\"scale(1 1) rotate(0) translate(4 681)\">\r\n",
       "<title>Tree</title>\r\n",
       "<polygon fill=\"white\" stroke=\"none\" points=\"-4,4 -4,-681 1819.5,-681 1819.5,4 -4,4\"/>\r\n",
       "<!-- 0 -->\r\n",
       "<g id=\"node1\" class=\"node\"><title>0</title>\r\n",
       "<polygon fill=\"#a7d3f3\" stroke=\"black\" points=\"1073,-677 915,-677 915,-609 1073,-609 1073,-677\"/>\r\n",
       "<text text-anchor=\"middle\" x=\"994\" y=\"-661.8\" font-family=\"Times New Roman,serif\" font-size=\"14.00\">mean concavity &lt;= 0.097</text>\r\n",
       "<text text-anchor=\"middle\" x=\"994\" y=\"-646.8\" font-family=\"Times New Roman,serif\" font-size=\"14.00\">samples = 265</text>\r\n",
       "<text text-anchor=\"middle\" x=\"994\" y=\"-631.8\" font-family=\"Times New Roman,serif\" font-size=\"14.00\">value = [152, 274]</text>\r\n",
       "<text text-anchor=\"middle\" x=\"994\" y=\"-616.8\" font-family=\"Times New Roman,serif\" font-size=\"14.00\">class = 양성</text>\r\n",
       "</g>\r\n",
       "<!-- 1 -->\r\n",
       "<g id=\"node2\" class=\"node\"><title>1</title>\r\n",
       "<polygon fill=\"#4ea7e8\" stroke=\"black\" points=\"874.5,-573 711.5,-573 711.5,-505 874.5,-505 874.5,-573\"/>\r\n",
       "<text text-anchor=\"middle\" x=\"793\" y=\"-557.8\" font-family=\"Times New Roman,serif\" font-size=\"14.00\">mean perimeter &lt;= 94.385</text>\r\n",
       "<text text-anchor=\"middle\" x=\"793\" y=\"-542.8\" font-family=\"Times New Roman,serif\" font-size=\"14.00\">samples = 171</text>\r\n",
       "<text text-anchor=\"middle\" x=\"793\" y=\"-527.8\" font-family=\"Times New Roman,serif\" font-size=\"14.00\">value = [27, 255]</text>\r\n",
       "<text text-anchor=\"middle\" x=\"793\" y=\"-512.8\" font-family=\"Times New Roman,serif\" font-size=\"14.00\">class = 양성</text>\r\n",
       "</g>\r\n",
       "<!-- 0&#45;&gt;1 -->\r\n",
       "<g id=\"edge1\" class=\"edge\"><title>0&#45;&gt;1</title>\r\n",
       "<path fill=\"none\" stroke=\"black\" d=\"M928.741,-608.884C909.158,-598.946 887.531,-587.971 867.404,-577.757\"/>\r\n",
       "<polygon fill=\"black\" stroke=\"black\" points=\"868.777,-574.529 858.275,-573.125 865.609,-580.771 868.777,-574.529\"/>\r\n",
       "<text text-anchor=\"middle\" x=\"866.04\" y=\"-593.188\" font-family=\"Times New Roman,serif\" font-size=\"14.00\">True</text>\r\n",
       "</g>\r\n",
       "<!-- 24 -->\r\n",
       "<g id=\"node25\" class=\"node\"><title>24</title>\r\n",
       "<polygon fill=\"#e99457\" stroke=\"black\" points=\"1278.5,-573 1113.5,-573 1113.5,-505 1278.5,-505 1278.5,-573\"/>\r\n",
       "<text text-anchor=\"middle\" x=\"1196\" y=\"-557.8\" font-family=\"Times New Roman,serif\" font-size=\"14.00\">worst perimeter &lt;= 97.155</text>\r\n",
       "<text text-anchor=\"middle\" x=\"1196\" y=\"-542.8\" font-family=\"Times New Roman,serif\" font-size=\"14.00\">samples = 94</text>\r\n",
       "<text text-anchor=\"middle\" x=\"1196\" y=\"-527.8\" font-family=\"Times New Roman,serif\" font-size=\"14.00\">value = [125, 19]</text>\r\n",
       "<text text-anchor=\"middle\" x=\"1196\" y=\"-512.8\" font-family=\"Times New Roman,serif\" font-size=\"14.00\">class = 악성</text>\r\n",
       "</g>\r\n",
       "<!-- 0&#45;&gt;24 -->\r\n",
       "<g id=\"edge24\" class=\"edge\"><title>0&#45;&gt;24</title>\r\n",
       "<path fill=\"none\" stroke=\"black\" d=\"M1059.58,-608.884C1079.26,-598.946 1101,-587.971 1121.23,-577.757\"/>\r\n",
       "<polygon fill=\"black\" stroke=\"black\" points=\"1123.05,-580.757 1130.4,-573.125 1119.9,-574.508 1123.05,-580.757\"/>\r\n",
       "<text text-anchor=\"middle\" x=\"1122.59\" y=\"-593.173\" font-family=\"Times New Roman,serif\" font-size=\"14.00\">False</text>\r\n",
       "</g>\r\n",
       "<!-- 2 -->\r\n",
       "<g id=\"node3\" class=\"node\"><title>2</title>\r\n",
       "<polygon fill=\"#41a1e6\" stroke=\"black\" points=\"641.5,-469 468.5,-469 468.5,-401 641.5,-401 641.5,-469\"/>\r\n",
       "<text text-anchor=\"middle\" x=\"555\" y=\"-453.8\" font-family=\"Times New Roman,serif\" font-size=\"14.00\">worst compactness &lt;= 0.35</text>\r\n",
       "<text text-anchor=\"middle\" x=\"555\" y=\"-438.8\" font-family=\"Times New Roman,serif\" font-size=\"14.00\">samples = 155</text>\r\n",
       "<text text-anchor=\"middle\" x=\"555\" y=\"-423.8\" font-family=\"Times New Roman,serif\" font-size=\"14.00\">value = [10, 246]</text>\r\n",
       "<text text-anchor=\"middle\" x=\"555\" y=\"-408.8\" font-family=\"Times New Roman,serif\" font-size=\"14.00\">class = 양성</text>\r\n",
       "</g>\r\n",
       "<!-- 1&#45;&gt;2 -->\r\n",
       "<g id=\"edge2\" class=\"edge\"><title>1&#45;&gt;2</title>\r\n",
       "<path fill=\"none\" stroke=\"black\" d=\"M715.728,-504.884C692.018,-494.722 665.778,-483.476 641.493,-473.069\"/>\r\n",
       "<polygon fill=\"black\" stroke=\"black\" points=\"642.861,-469.847 632.291,-469.125 640.104,-476.281 642.861,-469.847\"/>\r\n",
       "</g>\r\n",
       "<!-- 17 -->\r\n",
       "<g id=\"node18\" class=\"node\"><title>17</title>\r\n",
       "<polygon fill=\"#f3c4a2\" stroke=\"black\" points=\"868.5,-469 717.5,-469 717.5,-401 868.5,-401 868.5,-469\"/>\r\n",
       "<text text-anchor=\"middle\" x=\"793\" y=\"-453.8\" font-family=\"Times New Roman,serif\" font-size=\"14.00\">worst texture &lt;= 23.895</text>\r\n",
       "<text text-anchor=\"middle\" x=\"793\" y=\"-438.8\" font-family=\"Times New Roman,serif\" font-size=\"14.00\">samples = 16</text>\r\n",
       "<text text-anchor=\"middle\" x=\"793\" y=\"-423.8\" font-family=\"Times New Roman,serif\" font-size=\"14.00\">value = [17, 9]</text>\r\n",
       "<text text-anchor=\"middle\" x=\"793\" y=\"-408.8\" font-family=\"Times New Roman,serif\" font-size=\"14.00\">class = 악성</text>\r\n",
       "</g>\r\n",
       "<!-- 1&#45;&gt;17 -->\r\n",
       "<g id=\"edge17\" class=\"edge\"><title>1&#45;&gt;17</title>\r\n",
       "<path fill=\"none\" stroke=\"black\" d=\"M793,-504.884C793,-496.778 793,-487.982 793,-479.472\"/>\r\n",
       "<polygon fill=\"black\" stroke=\"black\" points=\"796.5,-479.299 793,-469.299 789.5,-479.299 796.5,-479.299\"/>\r\n",
       "</g>\r\n",
       "<!-- 3 -->\r\n",
       "<g id=\"node4\" class=\"node\"><title>3</title>\r\n",
       "<polygon fill=\"#3fa0e6\" stroke=\"black\" points=\"457.5,-365 266.5,-365 266.5,-297 457.5,-297 457.5,-365\"/>\r\n",
       "<text text-anchor=\"middle\" x=\"362\" y=\"-349.8\" font-family=\"Times New Roman,serif\" font-size=\"14.00\">worst concave points &lt;= 0.093</text>\r\n",
       "<text text-anchor=\"middle\" x=\"362\" y=\"-334.8\" font-family=\"Times New Roman,serif\" font-size=\"14.00\">samples = 153</text>\r\n",
       "<text text-anchor=\"middle\" x=\"362\" y=\"-319.8\" font-family=\"Times New Roman,serif\" font-size=\"14.00\">value = [8, 244]</text>\r\n",
       "<text text-anchor=\"middle\" x=\"362\" y=\"-304.8\" font-family=\"Times New Roman,serif\" font-size=\"14.00\">class = 양성</text>\r\n",
       "</g>\r\n",
       "<!-- 2&#45;&gt;3 -->\r\n",
       "<g id=\"edge3\" class=\"edge\"><title>2&#45;&gt;3</title>\r\n",
       "<path fill=\"none\" stroke=\"black\" d=\"M492.338,-400.884C473.62,-390.991 452.956,-380.07 433.704,-369.895\"/>\r\n",
       "<polygon fill=\"black\" stroke=\"black\" points=\"435.154,-366.703 424.677,-365.125 431.883,-372.892 435.154,-366.703\"/>\r\n",
       "</g>\r\n",
       "<!-- 14 -->\r\n",
       "<g id=\"node15\" class=\"node\"><title>14</title>\r\n",
       "<polygon fill=\"#ffffff\" stroke=\"black\" points=\"623,-365 487,-365 487,-297 623,-297 623,-365\"/>\r\n",
       "<text text-anchor=\"middle\" x=\"555\" y=\"-349.8\" font-family=\"Times New Roman,serif\" font-size=\"14.00\">radius error &lt;= 0.256</text>\r\n",
       "<text text-anchor=\"middle\" x=\"555\" y=\"-334.8\" font-family=\"Times New Roman,serif\" font-size=\"14.00\">samples = 2</text>\r\n",
       "<text text-anchor=\"middle\" x=\"555\" y=\"-319.8\" font-family=\"Times New Roman,serif\" font-size=\"14.00\">value = [2, 2]</text>\r\n",
       "<text text-anchor=\"middle\" x=\"555\" y=\"-304.8\" font-family=\"Times New Roman,serif\" font-size=\"14.00\">class = 악성</text>\r\n",
       "</g>\r\n",
       "<!-- 2&#45;&gt;14 -->\r\n",
       "<g id=\"edge14\" class=\"edge\"><title>2&#45;&gt;14</title>\r\n",
       "<path fill=\"none\" stroke=\"black\" d=\"M555,-400.884C555,-392.778 555,-383.982 555,-375.472\"/>\r\n",
       "<polygon fill=\"black\" stroke=\"black\" points=\"558.5,-375.299 555,-365.299 551.5,-375.299 558.5,-375.299\"/>\r\n",
       "</g>\r\n",
       "<!-- 4 -->\r\n",
       "<g id=\"node5\" class=\"node\"><title>4</title>\r\n",
       "<polygon fill=\"#3a9de5\" stroke=\"black\" points=\"268,-261 114,-261 114,-193 268,-193 268,-261\"/>\r\n",
       "<text text-anchor=\"middle\" x=\"191\" y=\"-245.8\" font-family=\"Times New Roman,serif\" font-size=\"14.00\">perimeter error &lt;= 4.079</text>\r\n",
       "<text text-anchor=\"middle\" x=\"191\" y=\"-230.8\" font-family=\"Times New Roman,serif\" font-size=\"14.00\">samples = 125</text>\r\n",
       "<text text-anchor=\"middle\" x=\"191\" y=\"-215.8\" font-family=\"Times New Roman,serif\" font-size=\"14.00\">value = [1, 202]</text>\r\n",
       "<text text-anchor=\"middle\" x=\"191\" y=\"-200.8\" font-family=\"Times New Roman,serif\" font-size=\"14.00\">class = 양성</text>\r\n",
       "</g>\r\n",
       "<!-- 3&#45;&gt;4 -->\r\n",
       "<g id=\"edge4\" class=\"edge\"><title>3&#45;&gt;4</title>\r\n",
       "<path fill=\"none\" stroke=\"black\" d=\"M306.481,-296.884C290.121,-287.125 272.084,-276.366 255.226,-266.31\"/>\r\n",
       "<polygon fill=\"black\" stroke=\"black\" points=\"256.914,-263.242 246.533,-261.125 253.328,-269.253 256.914,-263.242\"/>\r\n",
       "</g>\r\n",
       "<!-- 9 -->\r\n",
       "<g id=\"node10\" class=\"node\"><title>9</title>\r\n",
       "<polygon fill=\"#5aade9\" stroke=\"black\" points=\"437.5,-261 286.5,-261 286.5,-193 437.5,-193 437.5,-261\"/>\r\n",
       "<text text-anchor=\"middle\" x=\"362\" y=\"-245.8\" font-family=\"Times New Roman,serif\" font-size=\"14.00\">worst texture &lt;= 29.565</text>\r\n",
       "<text text-anchor=\"middle\" x=\"362\" y=\"-230.8\" font-family=\"Times New Roman,serif\" font-size=\"14.00\">samples = 28</text>\r\n",
       "<text text-anchor=\"middle\" x=\"362\" y=\"-215.8\" font-family=\"Times New Roman,serif\" font-size=\"14.00\">value = [7, 42]</text>\r\n",
       "<text text-anchor=\"middle\" x=\"362\" y=\"-200.8\" font-family=\"Times New Roman,serif\" font-size=\"14.00\">class = 양성</text>\r\n",
       "</g>\r\n",
       "<!-- 3&#45;&gt;9 -->\r\n",
       "<g id=\"edge9\" class=\"edge\"><title>3&#45;&gt;9</title>\r\n",
       "<path fill=\"none\" stroke=\"black\" d=\"M362,-296.884C362,-288.778 362,-279.982 362,-271.472\"/>\r\n",
       "<polygon fill=\"black\" stroke=\"black\" points=\"365.5,-271.299 362,-261.299 358.5,-271.299 365.5,-271.299\"/>\r\n",
       "</g>\r\n",
       "<!-- 5 -->\r\n",
       "<g id=\"node6\" class=\"node\"><title>5</title>\r\n",
       "<polygon fill=\"#399de5\" stroke=\"black\" points=\"104,-149.5 0,-149.5 0,-96.5 104,-96.5 104,-149.5\"/>\r\n",
       "<text text-anchor=\"middle\" x=\"52\" y=\"-134.3\" font-family=\"Times New Roman,serif\" font-size=\"14.00\">samples = 123</text>\r\n",
       "<text text-anchor=\"middle\" x=\"52\" y=\"-119.3\" font-family=\"Times New Roman,serif\" font-size=\"14.00\">value = [0, 198]</text>\r\n",
       "<text text-anchor=\"middle\" x=\"52\" y=\"-104.3\" font-family=\"Times New Roman,serif\" font-size=\"14.00\">class = 양성</text>\r\n",
       "</g>\r\n",
       "<!-- 4&#45;&gt;5 -->\r\n",
       "<g id=\"edge5\" class=\"edge\"><title>4&#45;&gt;5</title>\r\n",
       "<path fill=\"none\" stroke=\"black\" d=\"M145.871,-192.884C129.535,-180.896 111.141,-167.399 94.9939,-155.549\"/>\r\n",
       "<polygon fill=\"black\" stroke=\"black\" points=\"96.9101,-152.614 86.7772,-149.52 92.7687,-158.258 96.9101,-152.614\"/>\r\n",
       "</g>\r\n",
       "<!-- 6 -->\r\n",
       "<g id=\"node7\" class=\"node\"><title>6</title>\r\n",
       "<polygon fill=\"#6ab6ec\" stroke=\"black\" points=\"273.5,-157 122.5,-157 122.5,-89 273.5,-89 273.5,-157\"/>\r\n",
       "<text text-anchor=\"middle\" x=\"198\" y=\"-141.8\" font-family=\"Times New Roman,serif\" font-size=\"14.00\">worst texture &lt;= 23.445</text>\r\n",
       "<text text-anchor=\"middle\" x=\"198\" y=\"-126.8\" font-family=\"Times New Roman,serif\" font-size=\"14.00\">samples = 2</text>\r\n",
       "<text text-anchor=\"middle\" x=\"198\" y=\"-111.8\" font-family=\"Times New Roman,serif\" font-size=\"14.00\">value = [1, 4]</text>\r\n",
       "<text text-anchor=\"middle\" x=\"198\" y=\"-96.8\" font-family=\"Times New Roman,serif\" font-size=\"14.00\">class = 양성</text>\r\n",
       "</g>\r\n",
       "<!-- 4&#45;&gt;6 -->\r\n",
       "<g id=\"edge6\" class=\"edge\"><title>4&#45;&gt;6</title>\r\n",
       "<path fill=\"none\" stroke=\"black\" d=\"M193.273,-192.884C193.829,-184.778 194.433,-175.982 195.017,-167.472\"/>\r\n",
       "<polygon fill=\"black\" stroke=\"black\" points=\"198.522,-167.516 195.715,-157.299 191.538,-167.036 198.522,-167.516\"/>\r\n",
       "</g>\r\n",
       "<!-- 7 -->\r\n",
       "<g id=\"node8\" class=\"node\"><title>7</title>\r\n",
       "<polygon fill=\"#e58139\" stroke=\"black\" points=\"209.5,-53 118.5,-53 118.5,-0 209.5,-0 209.5,-53\"/>\r\n",
       "<text text-anchor=\"middle\" x=\"164\" y=\"-37.8\" font-family=\"Times New Roman,serif\" font-size=\"14.00\">samples = 1</text>\r\n",
       "<text text-anchor=\"middle\" x=\"164\" y=\"-22.8\" font-family=\"Times New Roman,serif\" font-size=\"14.00\">value = [1, 0]</text>\r\n",
       "<text text-anchor=\"middle\" x=\"164\" y=\"-7.8\" font-family=\"Times New Roman,serif\" font-size=\"14.00\">class = 악성</text>\r\n",
       "</g>\r\n",
       "<!-- 6&#45;&gt;7 -->\r\n",
       "<g id=\"edge7\" class=\"edge\"><title>6&#45;&gt;7</title>\r\n",
       "<path fill=\"none\" stroke=\"black\" d=\"M186.108,-88.9485C183.047,-80.4408 179.743,-71.2562 176.645,-62.6464\"/>\r\n",
       "<polygon fill=\"black\" stroke=\"black\" points=\"179.939,-61.4613 173.26,-53.2367 173.352,-63.8311 179.939,-61.4613\"/>\r\n",
       "</g>\r\n",
       "<!-- 8 -->\r\n",
       "<g id=\"node9\" class=\"node\"><title>8</title>\r\n",
       "<polygon fill=\"#399de5\" stroke=\"black\" points=\"318.5,-53 227.5,-53 227.5,-0 318.5,-0 318.5,-53\"/>\r\n",
       "<text text-anchor=\"middle\" x=\"273\" y=\"-37.8\" font-family=\"Times New Roman,serif\" font-size=\"14.00\">samples = 1</text>\r\n",
       "<text text-anchor=\"middle\" x=\"273\" y=\"-22.8\" font-family=\"Times New Roman,serif\" font-size=\"14.00\">value = [0, 4]</text>\r\n",
       "<text text-anchor=\"middle\" x=\"273\" y=\"-7.8\" font-family=\"Times New Roman,serif\" font-size=\"14.00\">class = 양성</text>\r\n",
       "</g>\r\n",
       "<!-- 6&#45;&gt;8 -->\r\n",
       "<g id=\"edge8\" class=\"edge\"><title>6&#45;&gt;8</title>\r\n",
       "<path fill=\"none\" stroke=\"black\" d=\"M224.231,-88.9485C231.346,-79.9834 239.058,-70.2666 246.204,-61.2629\"/>\r\n",
       "<polygon fill=\"black\" stroke=\"black\" points=\"249.099,-63.2454 252.574,-53.2367 243.616,-58.8938 249.099,-63.2454\"/>\r\n",
       "</g>\r\n",
       "<!-- 10 -->\r\n",
       "<g id=\"node11\" class=\"node\"><title>10</title>\r\n",
       "<polygon fill=\"#399de5\" stroke=\"black\" points=\"404,-149.5 306,-149.5 306,-96.5 404,-96.5 404,-149.5\"/>\r\n",
       "<text text-anchor=\"middle\" x=\"355\" y=\"-134.3\" font-family=\"Times New Roman,serif\" font-size=\"14.00\">samples = 22</text>\r\n",
       "<text text-anchor=\"middle\" x=\"355\" y=\"-119.3\" font-family=\"Times New Roman,serif\" font-size=\"14.00\">value = [0, 39]</text>\r\n",
       "<text text-anchor=\"middle\" x=\"355\" y=\"-104.3\" font-family=\"Times New Roman,serif\" font-size=\"14.00\">class = 양성</text>\r\n",
       "</g>\r\n",
       "<!-- 9&#45;&gt;10 -->\r\n",
       "<g id=\"edge10\" class=\"edge\"><title>9&#45;&gt;10</title>\r\n",
       "<path fill=\"none\" stroke=\"black\" d=\"M359.727,-192.884C358.995,-182.216 358.181,-170.352 357.438,-159.519\"/>\r\n",
       "<polygon fill=\"black\" stroke=\"black\" points=\"360.928,-159.257 356.751,-149.52 353.944,-159.736 360.928,-159.257\"/>\r\n",
       "</g>\r\n",
       "<!-- 11 -->\r\n",
       "<g id=\"node12\" class=\"node\"><title>11</title>\r\n",
       "<polygon fill=\"#f0b78e\" stroke=\"black\" points=\"578,-157 422,-157 422,-89 578,-89 578,-157\"/>\r\n",
       "<text text-anchor=\"middle\" x=\"500\" y=\"-141.8\" font-family=\"Times New Roman,serif\" font-size=\"14.00\">concavity error &lt;= 0.027</text>\r\n",
       "<text text-anchor=\"middle\" x=\"500\" y=\"-126.8\" font-family=\"Times New Roman,serif\" font-size=\"14.00\">samples = 6</text>\r\n",
       "<text text-anchor=\"middle\" x=\"500\" y=\"-111.8\" font-family=\"Times New Roman,serif\" font-size=\"14.00\">value = [7, 3]</text>\r\n",
       "<text text-anchor=\"middle\" x=\"500\" y=\"-96.8\" font-family=\"Times New Roman,serif\" font-size=\"14.00\">class = 악성</text>\r\n",
       "</g>\r\n",
       "<!-- 9&#45;&gt;11 -->\r\n",
       "<g id=\"edge11\" class=\"edge\"><title>9&#45;&gt;11</title>\r\n",
       "<path fill=\"none\" stroke=\"black\" d=\"M406.805,-192.884C419.579,-183.442 433.62,-173.064 446.841,-163.292\"/>\r\n",
       "<polygon fill=\"black\" stroke=\"black\" points=\"448.987,-166.058 454.948,-157.299 444.826,-160.429 448.987,-166.058\"/>\r\n",
       "</g>\r\n",
       "<!-- 12 -->\r\n",
       "<g id=\"node13\" class=\"node\"><title>12</title>\r\n",
       "<polygon fill=\"#e58139\" stroke=\"black\" points=\"469.5,-53 378.5,-53 378.5,-0 469.5,-0 469.5,-53\"/>\r\n",
       "<text text-anchor=\"middle\" x=\"424\" y=\"-37.8\" font-family=\"Times New Roman,serif\" font-size=\"14.00\">samples = 4</text>\r\n",
       "<text text-anchor=\"middle\" x=\"424\" y=\"-22.8\" font-family=\"Times New Roman,serif\" font-size=\"14.00\">value = [7, 0]</text>\r\n",
       "<text text-anchor=\"middle\" x=\"424\" y=\"-7.8\" font-family=\"Times New Roman,serif\" font-size=\"14.00\">class = 악성</text>\r\n",
       "</g>\r\n",
       "<!-- 11&#45;&gt;12 -->\r\n",
       "<g id=\"edge12\" class=\"edge\"><title>11&#45;&gt;12</title>\r\n",
       "<path fill=\"none\" stroke=\"black\" d=\"M473.419,-88.9485C466.209,-79.9834 458.394,-70.2666 451.153,-61.2629\"/>\r\n",
       "<polygon fill=\"black\" stroke=\"black\" points=\"453.693,-58.8358 444.698,-53.2367 448.238,-63.2228 453.693,-58.8358\"/>\r\n",
       "</g>\r\n",
       "<!-- 13 -->\r\n",
       "<g id=\"node14\" class=\"node\"><title>13</title>\r\n",
       "<polygon fill=\"#399de5\" stroke=\"black\" points=\"578.5,-53 487.5,-53 487.5,-0 578.5,-0 578.5,-53\"/>\r\n",
       "<text text-anchor=\"middle\" x=\"533\" y=\"-37.8\" font-family=\"Times New Roman,serif\" font-size=\"14.00\">samples = 2</text>\r\n",
       "<text text-anchor=\"middle\" x=\"533\" y=\"-22.8\" font-family=\"Times New Roman,serif\" font-size=\"14.00\">value = [0, 3]</text>\r\n",
       "<text text-anchor=\"middle\" x=\"533\" y=\"-7.8\" font-family=\"Times New Roman,serif\" font-size=\"14.00\">class = 양성</text>\r\n",
       "</g>\r\n",
       "<!-- 11&#45;&gt;13 -->\r\n",
       "<g id=\"edge13\" class=\"edge\"><title>11&#45;&gt;13</title>\r\n",
       "<path fill=\"none\" stroke=\"black\" d=\"M511.542,-88.9485C514.481,-80.5323 517.651,-71.4536 520.63,-62.9243\"/>\r\n",
       "<polygon fill=\"black\" stroke=\"black\" points=\"524.02,-63.8315 524.013,-53.2367 517.411,-61.5237 524.02,-63.8315\"/>\r\n",
       "</g>\r\n",
       "<!-- 15 -->\r\n",
       "<g id=\"node16\" class=\"node\"><title>15</title>\r\n",
       "<polygon fill=\"#399de5\" stroke=\"black\" points=\"546.5,-253.5 455.5,-253.5 455.5,-200.5 546.5,-200.5 546.5,-253.5\"/>\r\n",
       "<text text-anchor=\"middle\" x=\"501\" y=\"-238.3\" font-family=\"Times New Roman,serif\" font-size=\"14.00\">samples = 1</text>\r\n",
       "<text text-anchor=\"middle\" x=\"501\" y=\"-223.3\" font-family=\"Times New Roman,serif\" font-size=\"14.00\">value = [0, 2]</text>\r\n",
       "<text text-anchor=\"middle\" x=\"501\" y=\"-208.3\" font-family=\"Times New Roman,serif\" font-size=\"14.00\">class = 양성</text>\r\n",
       "</g>\r\n",
       "<!-- 14&#45;&gt;15 -->\r\n",
       "<g id=\"edge15\" class=\"edge\"><title>14&#45;&gt;15</title>\r\n",
       "<path fill=\"none\" stroke=\"black\" d=\"M537.468,-296.884C531.645,-285.886 525.15,-273.617 519.273,-262.517\"/>\r\n",
       "<polygon fill=\"black\" stroke=\"black\" points=\"522.283,-260.72 514.511,-253.52 516.096,-263.995 522.283,-260.72\"/>\r\n",
       "</g>\r\n",
       "<!-- 16 -->\r\n",
       "<g id=\"node17\" class=\"node\"><title>16</title>\r\n",
       "<polygon fill=\"#e58139\" stroke=\"black\" points=\"655.5,-253.5 564.5,-253.5 564.5,-200.5 655.5,-200.5 655.5,-253.5\"/>\r\n",
       "<text text-anchor=\"middle\" x=\"610\" y=\"-238.3\" font-family=\"Times New Roman,serif\" font-size=\"14.00\">samples = 1</text>\r\n",
       "<text text-anchor=\"middle\" x=\"610\" y=\"-223.3\" font-family=\"Times New Roman,serif\" font-size=\"14.00\">value = [2, 0]</text>\r\n",
       "<text text-anchor=\"middle\" x=\"610\" y=\"-208.3\" font-family=\"Times New Roman,serif\" font-size=\"14.00\">class = 악성</text>\r\n",
       "</g>\r\n",
       "<!-- 14&#45;&gt;16 -->\r\n",
       "<g id=\"edge16\" class=\"edge\"><title>14&#45;&gt;16</title>\r\n",
       "<path fill=\"none\" stroke=\"black\" d=\"M572.857,-296.884C578.787,-285.886 585.402,-273.617 591.388,-262.517\"/>\r\n",
       "<polygon fill=\"black\" stroke=\"black\" points=\"594.574,-263.983 596.239,-253.52 588.412,-260.661 594.574,-263.983\"/>\r\n",
       "</g>\r\n",
       "<!-- 18 -->\r\n",
       "<g id=\"node19\" class=\"node\"><title>18</title>\r\n",
       "<polygon fill=\"#399de5\" stroke=\"black\" points=\"742.5,-357.5 651.5,-357.5 651.5,-304.5 742.5,-304.5 742.5,-357.5\"/>\r\n",
       "<text text-anchor=\"middle\" x=\"697\" y=\"-342.3\" font-family=\"Times New Roman,serif\" font-size=\"14.00\">samples = 6</text>\r\n",
       "<text text-anchor=\"middle\" x=\"697\" y=\"-327.3\" font-family=\"Times New Roman,serif\" font-size=\"14.00\">value = [0, 8]</text>\r\n",
       "<text text-anchor=\"middle\" x=\"697\" y=\"-312.3\" font-family=\"Times New Roman,serif\" font-size=\"14.00\">class = 양성</text>\r\n",
       "</g>\r\n",
       "<!-- 17&#45;&gt;18 -->\r\n",
       "<g id=\"edge18\" class=\"edge\"><title>17&#45;&gt;18</title>\r\n",
       "<path fill=\"none\" stroke=\"black\" d=\"M761.832,-400.884C750.963,-389.336 738.776,-376.387 727.928,-364.86\"/>\r\n",
       "<polygon fill=\"black\" stroke=\"black\" points=\"730.421,-362.403 721.019,-357.52 725.324,-367.201 730.421,-362.403\"/>\r\n",
       "</g>\r\n",
       "<!-- 19 -->\r\n",
       "<g id=\"node20\" class=\"node\"><title>19</title>\r\n",
       "<polygon fill=\"#e78845\" stroke=\"black\" points=\"941,-365 761,-365 761,-297 941,-297 941,-365\"/>\r\n",
       "<text text-anchor=\"middle\" x=\"851\" y=\"-349.8\" font-family=\"Times New Roman,serif\" font-size=\"14.00\">worst compactness &lt;= 0.303</text>\r\n",
       "<text text-anchor=\"middle\" x=\"851\" y=\"-334.8\" font-family=\"Times New Roman,serif\" font-size=\"14.00\">samples = 10</text>\r\n",
       "<text text-anchor=\"middle\" x=\"851\" y=\"-319.8\" font-family=\"Times New Roman,serif\" font-size=\"14.00\">value = [17, 1]</text>\r\n",
       "<text text-anchor=\"middle\" x=\"851\" y=\"-304.8\" font-family=\"Times New Roman,serif\" font-size=\"14.00\">class = 악성</text>\r\n",
       "</g>\r\n",
       "<!-- 17&#45;&gt;19 -->\r\n",
       "<g id=\"edge19\" class=\"edge\"><title>17&#45;&gt;19</title>\r\n",
       "<path fill=\"none\" stroke=\"black\" d=\"M811.831,-400.884C816.693,-392.332 821.992,-383.013 827.077,-374.072\"/>\r\n",
       "<polygon fill=\"black\" stroke=\"black\" points=\"830.165,-375.722 832.065,-365.299 824.079,-372.262 830.165,-375.722\"/>\r\n",
       "</g>\r\n",
       "<!-- 20 -->\r\n",
       "<g id=\"node21\" class=\"node\"><title>20</title>\r\n",
       "<polygon fill=\"#e58139\" stroke=\"black\" points=\"772,-253.5 674,-253.5 674,-200.5 772,-200.5 772,-253.5\"/>\r\n",
       "<text text-anchor=\"middle\" x=\"723\" y=\"-238.3\" font-family=\"Times New Roman,serif\" font-size=\"14.00\">samples = 8</text>\r\n",
       "<text text-anchor=\"middle\" x=\"723\" y=\"-223.3\" font-family=\"Times New Roman,serif\" font-size=\"14.00\">value = [16, 0]</text>\r\n",
       "<text text-anchor=\"middle\" x=\"723\" y=\"-208.3\" font-family=\"Times New Roman,serif\" font-size=\"14.00\">class = 악성</text>\r\n",
       "</g>\r\n",
       "<!-- 19&#45;&gt;20 -->\r\n",
       "<g id=\"edge20\" class=\"edge\"><title>19&#45;&gt;20</title>\r\n",
       "<path fill=\"none\" stroke=\"black\" d=\"M809.442,-296.884C794.537,-285.006 777.772,-271.646 763.001,-259.876\"/>\r\n",
       "<polygon fill=\"black\" stroke=\"black\" points=\"765.027,-257.015 755.025,-253.52 760.664,-262.489 765.027,-257.015\"/>\r\n",
       "</g>\r\n",
       "<!-- 21 -->\r\n",
       "<g id=\"node22\" class=\"node\"><title>21</title>\r\n",
       "<polygon fill=\"#ffffff\" stroke=\"black\" points=\"951.5,-261 790.5,-261 790.5,-193 951.5,-193 951.5,-261\"/>\r\n",
       "<text text-anchor=\"middle\" x=\"871\" y=\"-245.8\" font-family=\"Times New Roman,serif\" font-size=\"14.00\">worst concavity &lt;= 0.235</text>\r\n",
       "<text text-anchor=\"middle\" x=\"871\" y=\"-230.8\" font-family=\"Times New Roman,serif\" font-size=\"14.00\">samples = 2</text>\r\n",
       "<text text-anchor=\"middle\" x=\"871\" y=\"-215.8\" font-family=\"Times New Roman,serif\" font-size=\"14.00\">value = [1, 1]</text>\r\n",
       "<text text-anchor=\"middle\" x=\"871\" y=\"-200.8\" font-family=\"Times New Roman,serif\" font-size=\"14.00\">class = 악성</text>\r\n",
       "</g>\r\n",
       "<!-- 19&#45;&gt;21 -->\r\n",
       "<g id=\"edge21\" class=\"edge\"><title>19&#45;&gt;21</title>\r\n",
       "<path fill=\"none\" stroke=\"black\" d=\"M857.493,-296.884C859.1,-288.689 860.845,-279.789 862.531,-271.192\"/>\r\n",
       "<polygon fill=\"black\" stroke=\"black\" points=\"865.981,-271.786 864.471,-261.299 859.112,-270.439 865.981,-271.786\"/>\r\n",
       "</g>\r\n",
       "<!-- 22 -->\r\n",
       "<g id=\"node23\" class=\"node\"><title>22</title>\r\n",
       "<polygon fill=\"#399de5\" stroke=\"black\" points=\"844.5,-149.5 753.5,-149.5 753.5,-96.5 844.5,-96.5 844.5,-149.5\"/>\r\n",
       "<text text-anchor=\"middle\" x=\"799\" y=\"-134.3\" font-family=\"Times New Roman,serif\" font-size=\"14.00\">samples = 1</text>\r\n",
       "<text text-anchor=\"middle\" x=\"799\" y=\"-119.3\" font-family=\"Times New Roman,serif\" font-size=\"14.00\">value = [0, 1]</text>\r\n",
       "<text text-anchor=\"middle\" x=\"799\" y=\"-104.3\" font-family=\"Times New Roman,serif\" font-size=\"14.00\">class = 양성</text>\r\n",
       "</g>\r\n",
       "<!-- 21&#45;&gt;22 -->\r\n",
       "<g id=\"edge22\" class=\"edge\"><title>21&#45;&gt;22</title>\r\n",
       "<path fill=\"none\" stroke=\"black\" d=\"M847.624,-192.884C839.705,-181.666 830.854,-169.126 822.895,-157.852\"/>\r\n",
       "<polygon fill=\"black\" stroke=\"black\" points=\"825.64,-155.671 817.014,-149.52 819.922,-159.708 825.64,-155.671\"/>\r\n",
       "</g>\r\n",
       "<!-- 23 -->\r\n",
       "<g id=\"node24\" class=\"node\"><title>23</title>\r\n",
       "<polygon fill=\"#e58139\" stroke=\"black\" points=\"953.5,-149.5 862.5,-149.5 862.5,-96.5 953.5,-96.5 953.5,-149.5\"/>\r\n",
       "<text text-anchor=\"middle\" x=\"908\" y=\"-134.3\" font-family=\"Times New Roman,serif\" font-size=\"14.00\">samples = 1</text>\r\n",
       "<text text-anchor=\"middle\" x=\"908\" y=\"-119.3\" font-family=\"Times New Roman,serif\" font-size=\"14.00\">value = [1, 0]</text>\r\n",
       "<text text-anchor=\"middle\" x=\"908\" y=\"-104.3\" font-family=\"Times New Roman,serif\" font-size=\"14.00\">class = 악성</text>\r\n",
       "</g>\r\n",
       "<!-- 21&#45;&gt;23 -->\r\n",
       "<g id=\"edge23\" class=\"edge\"><title>21&#45;&gt;23</title>\r\n",
       "<path fill=\"none\" stroke=\"black\" d=\"M883.013,-192.884C886.922,-182.106 891.275,-170.108 895.237,-159.184\"/>\r\n",
       "<polygon fill=\"black\" stroke=\"black\" points=\"898.623,-160.114 898.743,-149.52 892.042,-157.727 898.623,-160.114\"/>\r\n",
       "</g>\r\n",
       "<!-- 25 -->\r\n",
       "<g id=\"node26\" class=\"node\"><title>25</title>\r\n",
       "<polygon fill=\"#5caeea\" stroke=\"black\" points=\"1276.5,-469 1115.5,-469 1115.5,-401 1276.5,-401 1276.5,-469\"/>\r\n",
       "<text text-anchor=\"middle\" x=\"1196\" y=\"-453.8\" font-family=\"Times New Roman,serif\" font-size=\"14.00\">worst symmetry &lt;= 0.384</text>\r\n",
       "<text text-anchor=\"middle\" x=\"1196\" y=\"-438.8\" font-family=\"Times New Roman,serif\" font-size=\"14.00\">samples = 13</text>\r\n",
       "<text text-anchor=\"middle\" x=\"1196\" y=\"-423.8\" font-family=\"Times New Roman,serif\" font-size=\"14.00\">value = [3, 17]</text>\r\n",
       "<text text-anchor=\"middle\" x=\"1196\" y=\"-408.8\" font-family=\"Times New Roman,serif\" font-size=\"14.00\">class = 양성</text>\r\n",
       "</g>\r\n",
       "<!-- 24&#45;&gt;25 -->\r\n",
       "<g id=\"edge25\" class=\"edge\"><title>24&#45;&gt;25</title>\r\n",
       "<path fill=\"none\" stroke=\"black\" d=\"M1196,-504.884C1196,-496.778 1196,-487.982 1196,-479.472\"/>\r\n",
       "<polygon fill=\"black\" stroke=\"black\" points=\"1199.5,-479.299 1196,-469.299 1192.5,-479.299 1199.5,-479.299\"/>\r\n",
       "</g>\r\n",
       "<!-- 34 -->\r\n",
       "<g id=\"node35\" class=\"node\"><title>34</title>\r\n",
       "<polygon fill=\"#e5833c\" stroke=\"black\" points=\"1527.5,-469 1366.5,-469 1366.5,-401 1527.5,-401 1527.5,-469\"/>\r\n",
       "<text text-anchor=\"middle\" x=\"1447\" y=\"-453.8\" font-family=\"Times New Roman,serif\" font-size=\"14.00\">worst concavity &lt;= 0.224</text>\r\n",
       "<text text-anchor=\"middle\" x=\"1447\" y=\"-438.8\" font-family=\"Times New Roman,serif\" font-size=\"14.00\">samples = 81</text>\r\n",
       "<text text-anchor=\"middle\" x=\"1447\" y=\"-423.8\" font-family=\"Times New Roman,serif\" font-size=\"14.00\">value = [122, 2]</text>\r\n",
       "<text text-anchor=\"middle\" x=\"1447\" y=\"-408.8\" font-family=\"Times New Roman,serif\" font-size=\"14.00\">class = 악성</text>\r\n",
       "</g>\r\n",
       "<!-- 24&#45;&gt;34 -->\r\n",
       "<g id=\"edge34\" class=\"edge\"><title>24&#45;&gt;34</title>\r\n",
       "<path fill=\"none\" stroke=\"black\" d=\"M1277.49,-504.884C1302.86,-494.574 1330.98,-483.147 1356.9,-472.613\"/>\r\n",
       "<polygon fill=\"black\" stroke=\"black\" points=\"1358.4,-475.783 1366.35,-468.776 1355.76,-469.298 1358.4,-475.783\"/>\r\n",
       "</g>\r\n",
       "<!-- 26 -->\r\n",
       "<g id=\"node27\" class=\"node\"><title>26</title>\r\n",
       "<polygon fill=\"#45a3e7\" stroke=\"black\" points=\"1210.5,-365 1039.5,-365 1039.5,-297 1210.5,-297 1210.5,-365\"/>\r\n",
       "<text text-anchor=\"middle\" x=\"1125\" y=\"-349.8\" font-family=\"Times New Roman,serif\" font-size=\"14.00\">mean smoothness &lt;= 0.115</text>\r\n",
       "<text text-anchor=\"middle\" x=\"1125\" y=\"-334.8\" font-family=\"Times New Roman,serif\" font-size=\"14.00\">samples = 11</text>\r\n",
       "<text text-anchor=\"middle\" x=\"1125\" y=\"-319.8\" font-family=\"Times New Roman,serif\" font-size=\"14.00\">value = [1, 16]</text>\r\n",
       "<text text-anchor=\"middle\" x=\"1125\" y=\"-304.8\" font-family=\"Times New Roman,serif\" font-size=\"14.00\">class = 양성</text>\r\n",
       "</g>\r\n",
       "<!-- 25&#45;&gt;26 -->\r\n",
       "<g id=\"edge26\" class=\"edge\"><title>25&#45;&gt;26</title>\r\n",
       "<path fill=\"none\" stroke=\"black\" d=\"M1172.95,-400.884C1166.87,-392.154 1160.24,-382.625 1153.9,-373.514\"/>\r\n",
       "<polygon fill=\"black\" stroke=\"black\" points=\"1156.76,-371.507 1148.18,-365.299 1151.02,-375.506 1156.76,-371.507\"/>\r\n",
       "</g>\r\n",
       "<!-- 31 -->\r\n",
       "<g id=\"node32\" class=\"node\"><title>31</title>\r\n",
       "<polygon fill=\"#f2c09c\" stroke=\"black\" points=\"1383,-365 1229,-365 1229,-297 1383,-297 1383,-365\"/>\r\n",
       "<text text-anchor=\"middle\" x=\"1306\" y=\"-349.8\" font-family=\"Times New Roman,serif\" font-size=\"14.00\">perimeter error &lt;= 1.802</text>\r\n",
       "<text text-anchor=\"middle\" x=\"1306\" y=\"-334.8\" font-family=\"Times New Roman,serif\" font-size=\"14.00\">samples = 2</text>\r\n",
       "<text text-anchor=\"middle\" x=\"1306\" y=\"-319.8\" font-family=\"Times New Roman,serif\" font-size=\"14.00\">value = [2, 1]</text>\r\n",
       "<text text-anchor=\"middle\" x=\"1306\" y=\"-304.8\" font-family=\"Times New Roman,serif\" font-size=\"14.00\">class = 악성</text>\r\n",
       "</g>\r\n",
       "<!-- 25&#45;&gt;31 -->\r\n",
       "<g id=\"edge31\" class=\"edge\"><title>25&#45;&gt;31</title>\r\n",
       "<path fill=\"none\" stroke=\"black\" d=\"M1231.71,-400.884C1241.61,-391.709 1252.46,-381.65 1262.73,-372.123\"/>\r\n",
       "<polygon fill=\"black\" stroke=\"black\" points=\"1265.14,-374.665 1270.09,-365.299 1260.38,-369.532 1265.14,-374.665\"/>\r\n",
       "</g>\r\n",
       "<!-- 27 -->\r\n",
       "<g id=\"node28\" class=\"node\"><title>27</title>\r\n",
       "<polygon fill=\"#399de5\" stroke=\"black\" points=\"1068,-253.5 970,-253.5 970,-200.5 1068,-200.5 1068,-253.5\"/>\r\n",
       "<text text-anchor=\"middle\" x=\"1019\" y=\"-238.3\" font-family=\"Times New Roman,serif\" font-size=\"14.00\">samples = 8</text>\r\n",
       "<text text-anchor=\"middle\" x=\"1019\" y=\"-223.3\" font-family=\"Times New Roman,serif\" font-size=\"14.00\">value = [0, 13]</text>\r\n",
       "<text text-anchor=\"middle\" x=\"1019\" y=\"-208.3\" font-family=\"Times New Roman,serif\" font-size=\"14.00\">class = 양성</text>\r\n",
       "</g>\r\n",
       "<!-- 26&#45;&gt;27 -->\r\n",
       "<g id=\"edge27\" class=\"edge\"><title>26&#45;&gt;27</title>\r\n",
       "<path fill=\"none\" stroke=\"black\" d=\"M1090.58,-296.884C1078.47,-285.226 1064.87,-272.141 1052.81,-260.532\"/>\r\n",
       "<polygon fill=\"black\" stroke=\"black\" points=\"1055.15,-257.932 1045.52,-253.52 1050.3,-262.976 1055.15,-257.932\"/>\r\n",
       "</g>\r\n",
       "<!-- 28 -->\r\n",
       "<g id=\"node29\" class=\"node\"><title>28</title>\r\n",
       "<polygon fill=\"#7bbeee\" stroke=\"black\" points=\"1242,-261 1086,-261 1086,-193 1242,-193 1242,-261\"/>\r\n",
       "<text text-anchor=\"middle\" x=\"1164\" y=\"-245.8\" font-family=\"Times New Roman,serif\" font-size=\"14.00\">concavity error &lt;= 0.037</text>\r\n",
       "<text text-anchor=\"middle\" x=\"1164\" y=\"-230.8\" font-family=\"Times New Roman,serif\" font-size=\"14.00\">samples = 3</text>\r\n",
       "<text text-anchor=\"middle\" x=\"1164\" y=\"-215.8\" font-family=\"Times New Roman,serif\" font-size=\"14.00\">value = [1, 3]</text>\r\n",
       "<text text-anchor=\"middle\" x=\"1164\" y=\"-200.8\" font-family=\"Times New Roman,serif\" font-size=\"14.00\">class = 양성</text>\r\n",
       "</g>\r\n",
       "<!-- 26&#45;&gt;28 -->\r\n",
       "<g id=\"edge28\" class=\"edge\"><title>26&#45;&gt;28</title>\r\n",
       "<path fill=\"none\" stroke=\"black\" d=\"M1137.66,-296.884C1140.83,-288.6 1144.27,-279.595 1147.59,-270.911\"/>\r\n",
       "<polygon fill=\"black\" stroke=\"black\" points=\"1150.97,-271.89 1151.27,-261.299 1144.43,-269.39 1150.97,-271.89\"/>\r\n",
       "</g>\r\n",
       "<!-- 29 -->\r\n",
       "<g id=\"node30\" class=\"node\"><title>29</title>\r\n",
       "<polygon fill=\"#e58139\" stroke=\"black\" points=\"1154.5,-149.5 1063.5,-149.5 1063.5,-96.5 1154.5,-96.5 1154.5,-149.5\"/>\r\n",
       "<text text-anchor=\"middle\" x=\"1109\" y=\"-134.3\" font-family=\"Times New Roman,serif\" font-size=\"14.00\">samples = 1</text>\r\n",
       "<text text-anchor=\"middle\" x=\"1109\" y=\"-119.3\" font-family=\"Times New Roman,serif\" font-size=\"14.00\">value = [1, 0]</text>\r\n",
       "<text text-anchor=\"middle\" x=\"1109\" y=\"-104.3\" font-family=\"Times New Roman,serif\" font-size=\"14.00\">class = 악성</text>\r\n",
       "</g>\r\n",
       "<!-- 28&#45;&gt;29 -->\r\n",
       "<g id=\"edge29\" class=\"edge\"><title>28&#45;&gt;29</title>\r\n",
       "<path fill=\"none\" stroke=\"black\" d=\"M1146.14,-192.884C1140.21,-181.886 1133.6,-169.617 1127.61,-158.517\"/>\r\n",
       "<polygon fill=\"black\" stroke=\"black\" points=\"1130.59,-156.661 1122.76,-149.52 1124.43,-159.983 1130.59,-156.661\"/>\r\n",
       "</g>\r\n",
       "<!-- 30 -->\r\n",
       "<g id=\"node31\" class=\"node\"><title>30</title>\r\n",
       "<polygon fill=\"#399de5\" stroke=\"black\" points=\"1263.5,-149.5 1172.5,-149.5 1172.5,-96.5 1263.5,-96.5 1263.5,-149.5\"/>\r\n",
       "<text text-anchor=\"middle\" x=\"1218\" y=\"-134.3\" font-family=\"Times New Roman,serif\" font-size=\"14.00\">samples = 2</text>\r\n",
       "<text text-anchor=\"middle\" x=\"1218\" y=\"-119.3\" font-family=\"Times New Roman,serif\" font-size=\"14.00\">value = [0, 3]</text>\r\n",
       "<text text-anchor=\"middle\" x=\"1218\" y=\"-104.3\" font-family=\"Times New Roman,serif\" font-size=\"14.00\">class = 양성</text>\r\n",
       "</g>\r\n",
       "<!-- 28&#45;&gt;30 -->\r\n",
       "<g id=\"edge30\" class=\"edge\"><title>28&#45;&gt;30</title>\r\n",
       "<path fill=\"none\" stroke=\"black\" d=\"M1181.53,-192.884C1187.35,-181.886 1193.85,-169.617 1199.73,-158.517\"/>\r\n",
       "<polygon fill=\"black\" stroke=\"black\" points=\"1202.9,-159.995 1204.49,-149.52 1196.72,-156.72 1202.9,-159.995\"/>\r\n",
       "</g>\r\n",
       "<!-- 32 -->\r\n",
       "<g id=\"node33\" class=\"node\"><title>32</title>\r\n",
       "<polygon fill=\"#e58139\" stroke=\"black\" points=\"1351.5,-253.5 1260.5,-253.5 1260.5,-200.5 1351.5,-200.5 1351.5,-253.5\"/>\r\n",
       "<text text-anchor=\"middle\" x=\"1306\" y=\"-238.3\" font-family=\"Times New Roman,serif\" font-size=\"14.00\">samples = 1</text>\r\n",
       "<text text-anchor=\"middle\" x=\"1306\" y=\"-223.3\" font-family=\"Times New Roman,serif\" font-size=\"14.00\">value = [2, 0]</text>\r\n",
       "<text text-anchor=\"middle\" x=\"1306\" y=\"-208.3\" font-family=\"Times New Roman,serif\" font-size=\"14.00\">class = 악성</text>\r\n",
       "</g>\r\n",
       "<!-- 31&#45;&gt;32 -->\r\n",
       "<g id=\"edge32\" class=\"edge\"><title>31&#45;&gt;32</title>\r\n",
       "<path fill=\"none\" stroke=\"black\" d=\"M1306,-296.884C1306,-286.326 1306,-274.597 1306,-263.854\"/>\r\n",
       "<polygon fill=\"black\" stroke=\"black\" points=\"1309.5,-263.52 1306,-253.52 1302.5,-263.52 1309.5,-263.52\"/>\r\n",
       "</g>\r\n",
       "<!-- 33 -->\r\n",
       "<g id=\"node34\" class=\"node\"><title>33</title>\r\n",
       "<polygon fill=\"#399de5\" stroke=\"black\" points=\"1460.5,-253.5 1369.5,-253.5 1369.5,-200.5 1460.5,-200.5 1460.5,-253.5\"/>\r\n",
       "<text text-anchor=\"middle\" x=\"1415\" y=\"-238.3\" font-family=\"Times New Roman,serif\" font-size=\"14.00\">samples = 1</text>\r\n",
       "<text text-anchor=\"middle\" x=\"1415\" y=\"-223.3\" font-family=\"Times New Roman,serif\" font-size=\"14.00\">value = [0, 1]</text>\r\n",
       "<text text-anchor=\"middle\" x=\"1415\" y=\"-208.3\" font-family=\"Times New Roman,serif\" font-size=\"14.00\">class = 양성</text>\r\n",
       "</g>\r\n",
       "<!-- 31&#45;&gt;33 -->\r\n",
       "<g id=\"edge33\" class=\"edge\"><title>31&#45;&gt;33</title>\r\n",
       "<path fill=\"none\" stroke=\"black\" d=\"M1341.39,-296.884C1353.85,-285.226 1367.83,-272.141 1380.24,-260.532\"/>\r\n",
       "<polygon fill=\"black\" stroke=\"black\" points=\"1382.82,-262.908 1387.73,-253.52 1378.04,-257.797 1382.82,-262.908\"/>\r\n",
       "</g>\r\n",
       "<!-- 35 -->\r\n",
       "<g id=\"node36\" class=\"node\"><title>35</title>\r\n",
       "<polygon fill=\"#399de5\" stroke=\"black\" points=\"1492.5,-357.5 1401.5,-357.5 1401.5,-304.5 1492.5,-304.5 1492.5,-357.5\"/>\r\n",
       "<text text-anchor=\"middle\" x=\"1447\" y=\"-342.3\" font-family=\"Times New Roman,serif\" font-size=\"14.00\">samples = 1</text>\r\n",
       "<text text-anchor=\"middle\" x=\"1447\" y=\"-327.3\" font-family=\"Times New Roman,serif\" font-size=\"14.00\">value = [0, 1]</text>\r\n",
       "<text text-anchor=\"middle\" x=\"1447\" y=\"-312.3\" font-family=\"Times New Roman,serif\" font-size=\"14.00\">class = 양성</text>\r\n",
       "</g>\r\n",
       "<!-- 34&#45;&gt;35 -->\r\n",
       "<g id=\"edge35\" class=\"edge\"><title>34&#45;&gt;35</title>\r\n",
       "<path fill=\"none\" stroke=\"black\" d=\"M1447,-400.884C1447,-390.326 1447,-378.597 1447,-367.854\"/>\r\n",
       "<polygon fill=\"black\" stroke=\"black\" points=\"1450.5,-367.52 1447,-357.52 1443.5,-367.52 1450.5,-367.52\"/>\r\n",
       "</g>\r\n",
       "<!-- 36 -->\r\n",
       "<g id=\"node37\" class=\"node\"><title>36</title>\r\n",
       "<polygon fill=\"#e5823b\" stroke=\"black\" points=\"1711,-365 1511,-365 1511,-297 1711,-297 1711,-365\"/>\r\n",
       "<text text-anchor=\"middle\" x=\"1611\" y=\"-349.8\" font-family=\"Times New Roman,serif\" font-size=\"14.00\">mean fractal dimension &lt;= 0.077</text>\r\n",
       "<text text-anchor=\"middle\" x=\"1611\" y=\"-334.8\" font-family=\"Times New Roman,serif\" font-size=\"14.00\">samples = 80</text>\r\n",
       "<text text-anchor=\"middle\" x=\"1611\" y=\"-319.8\" font-family=\"Times New Roman,serif\" font-size=\"14.00\">value = [122, 1]</text>\r\n",
       "<text text-anchor=\"middle\" x=\"1611\" y=\"-304.8\" font-family=\"Times New Roman,serif\" font-size=\"14.00\">class = 악성</text>\r\n",
       "</g>\r\n",
       "<!-- 34&#45;&gt;36 -->\r\n",
       "<g id=\"edge36\" class=\"edge\"><title>34&#45;&gt;36</title>\r\n",
       "<path fill=\"none\" stroke=\"black\" d=\"M1500.25,-400.884C1515.79,-391.214 1532.92,-380.563 1548.96,-370.587\"/>\r\n",
       "<polygon fill=\"black\" stroke=\"black\" points=\"1551.1,-373.378 1557.74,-365.125 1547.4,-367.434 1551.1,-373.378\"/>\r\n",
       "</g>\r\n",
       "<!-- 37 -->\r\n",
       "<g id=\"node38\" class=\"node\"><title>37</title>\r\n",
       "<polygon fill=\"#e58139\" stroke=\"black\" points=\"1623,-253.5 1519,-253.5 1519,-200.5 1623,-200.5 1623,-253.5\"/>\r\n",
       "<text text-anchor=\"middle\" x=\"1571\" y=\"-238.3\" font-family=\"Times New Roman,serif\" font-size=\"14.00\">samples = 76</text>\r\n",
       "<text text-anchor=\"middle\" x=\"1571\" y=\"-223.3\" font-family=\"Times New Roman,serif\" font-size=\"14.00\">value = [114, 0]</text>\r\n",
       "<text text-anchor=\"middle\" x=\"1571\" y=\"-208.3\" font-family=\"Times New Roman,serif\" font-size=\"14.00\">class = 악성</text>\r\n",
       "</g>\r\n",
       "<!-- 36&#45;&gt;37 -->\r\n",
       "<g id=\"edge37\" class=\"edge\"><title>36&#45;&gt;37</title>\r\n",
       "<path fill=\"none\" stroke=\"black\" d=\"M1598.01,-296.884C1593.74,-285.996 1588.99,-273.863 1584.67,-262.85\"/>\r\n",
       "<polygon fill=\"black\" stroke=\"black\" points=\"1587.92,-261.552 1581.01,-253.52 1581.4,-264.107 1587.92,-261.552\"/>\r\n",
       "</g>\r\n",
       "<!-- 38 -->\r\n",
       "<g id=\"node39\" class=\"node\"><title>38</title>\r\n",
       "<polygon fill=\"#e89152\" stroke=\"black\" points=\"1790.5,-261 1641.5,-261 1641.5,-193 1790.5,-193 1790.5,-261\"/>\r\n",
       "<text text-anchor=\"middle\" x=\"1716\" y=\"-245.8\" font-family=\"Times New Roman,serif\" font-size=\"14.00\">mean texture &lt;= 20.015</text>\r\n",
       "<text text-anchor=\"middle\" x=\"1716\" y=\"-230.8\" font-family=\"Times New Roman,serif\" font-size=\"14.00\">samples = 4</text>\r\n",
       "<text text-anchor=\"middle\" x=\"1716\" y=\"-215.8\" font-family=\"Times New Roman,serif\" font-size=\"14.00\">value = [8, 1]</text>\r\n",
       "<text text-anchor=\"middle\" x=\"1716\" y=\"-200.8\" font-family=\"Times New Roman,serif\" font-size=\"14.00\">class = 악성</text>\r\n",
       "</g>\r\n",
       "<!-- 36&#45;&gt;38 -->\r\n",
       "<g id=\"edge38\" class=\"edge\"><title>36&#45;&gt;38</title>\r\n",
       "<path fill=\"none\" stroke=\"black\" d=\"M1645.09,-296.884C1654.44,-287.798 1664.69,-277.845 1674.41,-268.4\"/>\r\n",
       "<polygon fill=\"black\" stroke=\"black\" points=\"1676.99,-270.778 1681.72,-261.299 1672.11,-265.757 1676.99,-270.778\"/>\r\n",
       "</g>\r\n",
       "<!-- 39 -->\r\n",
       "<g id=\"node40\" class=\"node\"><title>39</title>\r\n",
       "<polygon fill=\"#399de5\" stroke=\"black\" points=\"1706.5,-149.5 1615.5,-149.5 1615.5,-96.5 1706.5,-96.5 1706.5,-149.5\"/>\r\n",
       "<text text-anchor=\"middle\" x=\"1661\" y=\"-134.3\" font-family=\"Times New Roman,serif\" font-size=\"14.00\">samples = 1</text>\r\n",
       "<text text-anchor=\"middle\" x=\"1661\" y=\"-119.3\" font-family=\"Times New Roman,serif\" font-size=\"14.00\">value = [0, 1]</text>\r\n",
       "<text text-anchor=\"middle\" x=\"1661\" y=\"-104.3\" font-family=\"Times New Roman,serif\" font-size=\"14.00\">class = 양성</text>\r\n",
       "</g>\r\n",
       "<!-- 38&#45;&gt;39 -->\r\n",
       "<g id=\"edge39\" class=\"edge\"><title>38&#45;&gt;39</title>\r\n",
       "<path fill=\"none\" stroke=\"black\" d=\"M1698.14,-192.884C1692.21,-181.886 1685.6,-169.617 1679.61,-158.517\"/>\r\n",
       "<polygon fill=\"black\" stroke=\"black\" points=\"1682.59,-156.661 1674.76,-149.52 1676.43,-159.983 1682.59,-156.661\"/>\r\n",
       "</g>\r\n",
       "<!-- 40 -->\r\n",
       "<g id=\"node41\" class=\"node\"><title>40</title>\r\n",
       "<polygon fill=\"#e58139\" stroke=\"black\" points=\"1815.5,-149.5 1724.5,-149.5 1724.5,-96.5 1815.5,-96.5 1815.5,-149.5\"/>\r\n",
       "<text text-anchor=\"middle\" x=\"1770\" y=\"-134.3\" font-family=\"Times New Roman,serif\" font-size=\"14.00\">samples = 3</text>\r\n",
       "<text text-anchor=\"middle\" x=\"1770\" y=\"-119.3\" font-family=\"Times New Roman,serif\" font-size=\"14.00\">value = [8, 0]</text>\r\n",
       "<text text-anchor=\"middle\" x=\"1770\" y=\"-104.3\" font-family=\"Times New Roman,serif\" font-size=\"14.00\">class = 악성</text>\r\n",
       "</g>\r\n",
       "<!-- 38&#45;&gt;40 -->\r\n",
       "<g id=\"edge40\" class=\"edge\"><title>38&#45;&gt;40</title>\r\n",
       "<path fill=\"none\" stroke=\"black\" d=\"M1733.53,-192.884C1739.35,-181.886 1745.85,-169.617 1751.73,-158.517\"/>\r\n",
       "<polygon fill=\"black\" stroke=\"black\" points=\"1754.9,-159.995 1756.49,-149.52 1748.72,-156.72 1754.9,-159.995\"/>\r\n",
       "</g>\r\n",
       "</g>\r\n",
       "</svg>\r\n"
      ],
      "text/plain": [
       "<graphviz.files.Source at 0x1ed889a6148>"
      ]
     },
     "metadata": {},
     "output_type": "display_data"
    }
   ],
   "source": [
    "from IPython.display import display\n",
    "import graphviz\n",
    "# 읽기용으로\n",
    "with open(\"tree.dot\", \"rt\",encoding='utf-8') as f:dot_graph = f.read()\n",
    "display(graphviz.Source(dot_graph))"
   ]
  },
  {
   "cell_type": "code",
   "execution_count": 199,
   "metadata": {},
   "outputs": [
    {
     "name": "stdout",
     "output_type": "stream",
     "text": [
      "<class 'pandas.core.frame.DataFrame'>\n",
      "RangeIndex: 506 entries, 0 to 505\n",
      "Data columns (total 14 columns):\n",
      "CRIM       506 non-null float64\n",
      "ZN         506 non-null float64\n",
      "INDUS      506 non-null float64\n",
      "CHAS       506 non-null float64\n",
      "NOX        506 non-null float64\n",
      "RM         506 non-null float64\n",
      "AGE        506 non-null float64\n",
      "DIS        506 non-null float64\n",
      "RAD        506 non-null float64\n",
      "TAX        506 non-null float64\n",
      "PTRATIO    506 non-null float64\n",
      "B          506 non-null float64\n",
      "LSTAT      506 non-null float64\n",
      "PRICE      506 non-null float64\n",
      "dtypes: float64(14)\n",
      "memory usage: 55.5 KB\n",
      "None\n"
     ]
    }
   ],
   "source": [
    "import pandas as pd\n",
    "boston = load_boston() # data(독립변수), target(종속변수),\n",
    "data = pd.DataFrame(boston.data)\n",
    "data.columns = boston.feature_names \n",
    "\n",
    "data.head()\n",
    "data['PRICE'] = boston.target # 하나의 데이터로 묶는다\n",
    "print(data.info())\n",
    "data.describe()\n",
    "import xgboost as xgb\n",
    "from sklearn.metrics import mean_squared_error # 평가"
   ]
  },
  {
   "cell_type": "code",
   "execution_count": 211,
   "metadata": {},
   "outputs": [
    {
     "name": "stderr",
     "output_type": "stream",
     "text": [
      "C:\\Users\\ICT01_04\\Anaconda3\\lib\\site-packages\\xgboost\\core.py:587: FutureWarning: Series.base is deprecated and will be removed in a future version\n",
      "  if getattr(data, 'base', None) is not None and \\\n",
      "C:\\Users\\ICT01_04\\Anaconda3\\lib\\site-packages\\xgboost\\core.py:588: FutureWarning: Series.base is deprecated and will be removed in a future version\n",
      "  data.base is not None and isinstance(data, np.ndarray) \\\n"
     ]
    },
    {
     "name": "stdout",
     "output_type": "stream",
     "text": [
      "[17:11:16] WARNING: src/objective/regression_obj.cu:152: reg:linear is now deprecated in favor of reg:squarederror.\n",
      "RMSE: 10.449300\n"
     ]
    }
   ],
   "source": [
    "# 데이터프레임은 ndarray + dict(순서 보장, 중복 허용)\n",
    "X, y = data.iloc[:,:-1],data.iloc[:,-1] # 추가\n",
    "data_dmatrix = xgb.DMatrix(data=X, label=y) # 전용행렬\n",
    "from sklearn.model_selection import train_test_split\n",
    "X_train, X_test, y_train, y_test = train_test_split(X,y,test_size=0.2, random_state=123)\n",
    "xg_reg = xgb.XGBRegressor(objective='reg:linear', \n",
    "                          colsample_bytree=0.3, \n",
    "                          learing_rate=0.1, # 경사하강법에 등장하는 학습률\n",
    "                          max_depth=5, # 깊어지면 과적합 일어남\n",
    "                          alpha=10, \n",
    "                          n_estimators =10)\n",
    "xg_reg.fit(X_train, y_train)\n",
    "preds = xg_reg.predict(X_test) # ybar예측치가 결정됨\n",
    "rmse = np.sqrt(mean_squared_error(y_test, preds))\n",
    "print(\"RMSE: %f\" % (rmse)) # 10.449300\n",
    "\n",
    "xgb.plot_tree(xg_reg,num_trees=0)\n",
    "plt.rcParams['figure.figsize'] = [500,200]\n",
    "plt.show()"
   ]
  },
  {
   "cell_type": "code",
   "execution_count": 228,
   "metadata": {},
   "outputs": [],
   "source": [
    "from numpy import loadtxt\n",
    "from xgboost import XGBClassifier\n",
    "from sklearn.metrics import accuracy_score"
   ]
  },
  {
   "cell_type": "code",
   "execution_count": 229,
   "metadata": {},
   "outputs": [
    {
     "name": "stdout",
     "output_type": "stream",
     "text": [
      "XGBClassifier(base_score=0.5, booster='gbtree', colsample_bylevel=1,\n",
      "              colsample_bynode=1, colsample_bytree=1, gamma=0,\n",
      "              learning_rate=0.1, max_delta_step=0, max_depth=3,\n",
      "              min_child_weight=1, missing=None, n_estimators=100, n_jobs=1,\n",
      "              nthread=None, objective='binary:logistic', random_state=0,\n",
      "              reg_alpha=0, reg_lambda=1, scale_pos_weight=1, seed=None,\n",
      "              silent=None, subsample=1, verbosity=1)\n"
     ]
    }
   ],
   "source": [
    "dataset = loadtxt('pima.data',delimiter=\",\")\n",
    "X = dataset[:,0:8]\n",
    "Y = dataset[:,8]\n",
    "seed = 7\n",
    "test_size = 0.33\n",
    "X_train, X_test, y_train,y_test = train_test_split(X,Y,\n",
    "                                                  test_size = test_size, random_state=seed)\n",
    "model = XGBClassifier()\n",
    "model.fit(X_train, y_train)\n",
    "print(model)"
   ]
  },
  {
   "cell_type": "code",
   "execution_count": 232,
   "metadata": {},
   "outputs": [],
   "source": [
    "from xgboost import plot_importance\n",
    "from matplotlib import pyplot\n",
    "plot_importance(model)\n",
    "plt.rcParams['figure.figsize'] = [50,20]\n",
    "plt.show()\n",
    "pyplot.show()"
   ]
  },
  {
   "cell_type": "code",
   "execution_count": 235,
   "metadata": {},
   "outputs": [
    {
     "name": "stdout",
     "output_type": "stream",
     "text": [
      "[0. 1. 1. 0. 1. 1. 0. 0. 1. 0. 1. 0. 1. 1. 0. 0. 0. 1. 0. 0. 0. 0. 1. 1.\n",
      " 0. 0. 0. 0. 0. 1. 1. 0. 0. 0. 0. 1. 1. 0. 1. 0. 1. 1. 1. 0. 0. 0. 1. 0.\n",
      " 0. 1. 0. 0. 0. 0. 0. 0. 0. 0. 0. 0. 0. 0. 0. 1. 1. 1. 0. 1. 1. 1. 1. 1.\n",
      " 0. 0. 0. 0. 0. 0. 0. 0. 0. 0. 0. 0. 0. 0. 1. 0. 1. 0. 1. 0. 1. 0. 0. 1.\n",
      " 1. 0. 1. 0. 1. 0. 0. 0. 0. 1. 0. 0. 0. 1. 0. 1. 0. 0. 1. 1. 0. 0. 0. 1.\n",
      " 0. 0. 0. 0. 0. 1. 0. 0. 0. 0. 0. 1. 0. 0. 0. 0. 0. 0. 0. 1. 0. 1. 0. 0.\n",
      " 0. 0. 0. 0. 1. 0. 0. 1. 0. 0. 0. 0. 1. 0. 1. 0. 0. 0. 0. 0. 1. 0. 1. 0.\n",
      " 0. 1. 0. 1. 0. 0. 1. 0. 1. 0. 1. 0. 1. 0. 0. 0. 0. 0. 0. 0. 0. 1. 1. 0.\n",
      " 1. 1. 0. 0. 1. 0. 0. 1. 0. 1. 1. 1. 0. 0. 1. 0. 0. 0. 1. 1. 0. 1. 0. 0.\n",
      " 0. 1. 0. 0. 0. 0. 1. 0. 1. 1. 1. 1. 1. 0. 0. 1. 0. 0. 0. 0. 0. 1. 0. 0.\n",
      " 1. 1. 0. 0. 1. 0. 1. 0. 0. 0. 0. 1. 1. 1.]\n",
      "정확도: 77.95%\n"
     ]
    }
   ],
   "source": [
    "y_pred = model.predict(X_test)\n",
    "print(y_pred)\n",
    "accuracy = accuracy_score(y_test, y_pred)\n",
    "print(\"정확도: %.2f%%\" % (accuracy * 100.0))"
   ]
  },
  {
   "cell_type": "code",
   "execution_count": 238,
   "metadata": {},
   "outputs": [],
   "source": [
    "from sklearn.feature_selection import SelectFromModel\n",
    "thresholds = np.sort(model.feature_importances_) # 오름차순이 디폴트"
   ]
  },
  {
   "cell_type": "code",
   "execution_count": 242,
   "metadata": {},
   "outputs": [
    {
     "name": "stdout",
     "output_type": "stream",
     "text": [
      "Thresh=0.078, n=8, Accuracy: 77.95%\n",
      "Thresh=0.080, n=7, Accuracy: 76.38%\n",
      "Thresh=0.085, n=6, Accuracy: 77.56%\n",
      "Thresh=0.095, n=5, Accuracy: 76.38%\n",
      "Thresh=0.102, n=4, Accuracy: 76.38%\n",
      "Thresh=0.109, n=3, Accuracy: 74.80%\n",
      "Thresh=0.160, n=2, Accuracy: 75.98%\n",
      "Thresh=0.292, n=1, Accuracy: 70.08%\n"
     ]
    }
   ],
   "source": [
    "# 변수선택법\n",
    "for thresh in thresholds: # 경계선\n",
    "    selection = SelectFromModel(model, threshold = thresh, prefit = True)\n",
    "    select_X_train = selection.transform(X_train) # 경계선 이하의 중요를 가진 변수 제거\n",
    "    selection_model= XGBClassifier()\n",
    "    selection_model.fit(select_X_train, y_train)\n",
    "    select_X_test = selection.transform(X_test) # 테스트용 데이터\n",
    "    y_pred = selection_model.predict(select_X_test)\n",
    "    predictions = [round(value) for value in y_pred]\n",
    "    accuracy = accuracy_score(y_test, predictions)\n",
    "    print(\"Thresh=%.3f, n=%d, Accuracy: %.2f%%\" %(thresh, select_X_train.shape[1], accuracy*100.0))"
   ]
  },
  {
   "cell_type": "code",
   "execution_count": 244,
   "metadata": {},
   "outputs": [
    {
     "name": "stdout",
     "output_type": "stream",
     "text": [
      "Accuracy: 77.95%\n"
     ]
    }
   ],
   "source": [
    "# 모델 저장하고 불러오기\n",
    "import pickle # 메모리의 내용을 그대로 저장\n",
    "pickle.dump(model, open(\"pima.pickle.dat\", \"wb\"))\n",
    "loaded_model = pickle.load(open(\"pima.pickle.dat\",\"rb\")) # 불러오기 # binary: 읽을 수 있음, text는 읽힘\n",
    "y_pred = loaded_model.predict(X_test)\n",
    "predictions = [round(value) for value in y_pred]\n",
    "accuracy = accuracy_score(y_test, predictions)\n",
    "print(\"Accuracy: %.2f%%\" %(accuracy*100.0))"
   ]
  },
  {
   "cell_type": "code",
   "execution_count": null,
   "metadata": {},
   "outputs": [],
   "source": []
  },
  {
   "cell_type": "code",
   "execution_count": null,
   "metadata": {},
   "outputs": [],
   "source": []
  }
 ],
 "metadata": {
  "kernelspec": {
   "display_name": "Python 3",
   "language": "python",
   "name": "python3"
  },
  "language_info": {
   "codemirror_mode": {
    "name": "ipython",
    "version": 3
   },
   "file_extension": ".py",
   "mimetype": "text/x-python",
   "name": "python",
   "nbconvert_exporter": "python",
   "pygments_lexer": "ipython3",
   "version": "3.7.4"
  }
 },
 "nbformat": 4,
 "nbformat_minor": 2
}
