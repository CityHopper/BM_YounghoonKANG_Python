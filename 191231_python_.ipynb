{
 "cells": [
  {
   "cell_type": "code",
   "execution_count": null,
   "metadata": {},
   "outputs": [],
   "source": [
    "# Linux: mariadb, 서버관리자\n",
    "- 서비스 제공을 제어: systemctl\n",
    "    systemctl get-default : graphic mode (GUI: Graphic User Interface)\n",
    "        : text mode() - 서버가 서비스를 제공\n",
    "- 보안: firewall-cmd - firewall 방화벽\n",
    "- ip, port 포트 번호는 막혀있음\n",
    "firewall-cmd --permanent -- zone=public --ad-port=3306/tcp\n",
    "HeidiSQL: 원격으로 mariadb 접속 작업\n",
    "\n",
    "vi편집기\n",
    "- 명령모드(esc키) 커서가 있는 곳에서 dd삭제, yy복사, p붙여넣기\n",
    "- 입력모드 i(insert), a(append), o\n",
    "- 마지막행 모드: w 저장, :q! 저장하지 않고 종료\n",
    "    \n"
   ]
  }
 ],
 "metadata": {
  "kernelspec": {
   "display_name": "Python 3",
   "language": "python",
   "name": "python3"
  },
  "language_info": {
   "codemirror_mode": {
    "name": "ipython",
    "version": 3
   },
   "file_extension": ".py",
   "mimetype": "text/x-python",
   "name": "python",
   "nbconvert_exporter": "python",
   "pygments_lexer": "ipython3",
   "version": "3.7.4"
  }
 },
 "nbformat": 4,
 "nbformat_minor": 2
}
