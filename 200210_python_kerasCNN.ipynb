{
 "cells": [
  {
   "cell_type": "markdown",
   "metadata": {},
   "source": [
    "# CNN"
   ]
  },
  {
   "cell_type": "code",
   "execution_count": 1,
   "metadata": {
    "scrolled": true
   },
   "outputs": [
    {
     "name": "stderr",
     "output_type": "stream",
     "text": [
      "Using TensorFlow backend.\n"
     ]
    },
    {
     "data": {
      "text/plain": [
       "'1.15.0'"
      ]
     },
     "execution_count": 1,
     "metadata": {},
     "output_type": "execute_result"
    }
   ],
   "source": [
    "import tensorflow as tf\n",
    "import keras\n",
    "tf.__version__"
   ]
  },
  {
   "cell_type": "code",
   "execution_count": 2,
   "metadata": {},
   "outputs": [
    {
     "name": "stdout",
     "output_type": "stream",
     "text": [
      "[name: \"/device:CPU:0\"\n",
      "device_type: \"CPU\"\n",
      "memory_limit: 268435456\n",
      "locality {\n",
      "}\n",
      "incarnation: 14865430508941650972\n",
      "]\n"
     ]
    }
   ],
   "source": [
    "from tensorflow.python.client import device_lib\n",
    "print(device_lib.list_local_devices())"
   ]
  },
  {
   "cell_type": "code",
   "execution_count": 5,
   "metadata": {
    "scrolled": true
   },
   "outputs": [
    {
     "ename": "NameError",
     "evalue": "name 'K' is not defined",
     "output_type": "error",
     "traceback": [
      "\u001b[1;31m---------------------------------------------------------------------------\u001b[0m",
      "\u001b[1;31mNameError\u001b[0m                                 Traceback (most recent call last)",
      "\u001b[1;32m<ipython-input-5-72613cbf4bdd>\u001b[0m in \u001b[0;36m<module>\u001b[1;34m\u001b[0m\n\u001b[1;32m----> 1\u001b[1;33m \u001b[0mK\u001b[0m\u001b[1;33m.\u001b[0m\u001b[0mset_image_data_format\u001b[0m\u001b[1;33m(\u001b[0m\u001b[1;34m'channels_first'\u001b[0m\u001b[1;33m)\u001b[0m\u001b[1;33m\u001b[0m\u001b[1;33m\u001b[0m\u001b[0m\n\u001b[0m",
      "\u001b[1;31mNameError\u001b[0m: name 'K' is not defined"
     ]
    }
   ],
   "source": [
    "K.set_image_data_format('channels_first')"
   ]
  },
  {
   "cell_type": "code",
   "execution_count": 11,
   "metadata": {},
   "outputs": [],
   "source": [
    "%matplotlib inline\n",
    "import matplotlib.pyplot as plt\n",
    "import keras\n",
    "from keras.datasets import mnist\n",
    "from keras.models import Sequential\n",
    "from keras.layers import Dense, Dropout, Flatten, Conv2D, MaxPooling2D, Activation\n",
    "from keras import backend as K\n",
    "batch_size = 128\n",
    "num_classes = 10\n",
    "epochs = 12\n",
    "img_rows, img_cols = 28,28\n",
    "(x_train, y_train), (x_test, y_test)=mnist.load_data()"
   ]
  },
  {
   "cell_type": "code",
   "execution_count": 17,
   "metadata": {},
   "outputs": [
    {
     "data": {
      "image/png": "[encoded data removed]",
      "text/plain": [
       "<Figure size 432x288 with 1 Axes>"
      ]
     },
     "metadata": {
      "needs_background": "light"
     },
     "output_type": "display_data"
    }
   ],
   "source": [
    "first_image = x_train[0, :, :] #x_train에 첫번째 이미지를 보고싶을때\n",
    "plt.imshow(first_image, cmap=plt.cm.Greys);"
   ]
  },
  {
   "cell_type": "code",
   "execution_count": 18,
   "metadata": {},
   "outputs": [
    {
     "name": "stdout",
     "output_type": "stream",
     "text": [
      "x_train shape:  (60000, 28, 28, 1)\n",
      "60000 train samples\n",
      "10000 test samples\n"
     ]
    }
   ],
   "source": [
    "# X_train = X_train.reshape(X_train.shape[0], 1, 28, 28) # channel_first\n",
    "# X_test = X_test.reshape(X_test.shape[0], 1, 28, 28) # channel_first\n",
    "x_train = x_train.reshape(x_train.shape[0], 28, 28, 1) # channel_last\n",
    "x_test = x_test.reshape(x_test.shape[0], 28, 28, 1) # channel_last\n",
    "\n",
    "x_train = x_train.astype('float32') # 타입을 바꾸는 이유: 255로 나누기 위해\n",
    "x_test = x_test.astype('float32')\n",
    "x_train /= 255\n",
    "x_test /= 255\n",
    "print('x_train shape: ', x_train.shape)\n",
    "print(x_train.shape[0], 'train samples')\n",
    "print(x_test.shape[0], 'test samples')\n",
    "y_train = keras.utils.to_categorical(y_train, num_classes)\n",
    "y_test = keras.utils.to_categorical(y_test, num_classes)"
   ]
  },
  {
   "cell_type": "code",
   "execution_count": 19,
   "metadata": {},
   "outputs": [
    {
     "name": "stdout",
     "output_type": "stream",
     "text": [
      "WARNING:tensorflow:From C:\\Users\\peace\\Anaconda3\\envs\\test_tensor\\lib\\site-packages\\keras\\backend\\tensorflow_backend.py:74: The name tf.get_default_graph is deprecated. Please use tf.compat.v1.get_default_graph instead.\n",
      "\n",
      "WARNING:tensorflow:From C:\\Users\\peace\\Anaconda3\\envs\\test_tensor\\lib\\site-packages\\keras\\backend\\tensorflow_backend.py:517: The name tf.placeholder is deprecated. Please use tf.compat.v1.placeholder instead.\n",
      "\n",
      "WARNING:tensorflow:From C:\\Users\\peace\\Anaconda3\\envs\\test_tensor\\lib\\site-packages\\keras\\backend\\tensorflow_backend.py:4138: The name tf.random_uniform is deprecated. Please use tf.random.uniform instead.\n",
      "\n",
      "WARNING:tensorflow:From C:\\Users\\peace\\Anaconda3\\envs\\test_tensor\\lib\\site-packages\\keras\\backend\\tensorflow_backend.py:3976: The name tf.nn.max_pool is deprecated. Please use tf.nn.max_pool2d instead.\n",
      "\n",
      "WARNING:tensorflow:From C:\\Users\\peace\\Anaconda3\\envs\\test_tensor\\lib\\site-packages\\keras\\backend\\tensorflow_backend.py:133: The name tf.placeholder_with_default is deprecated. Please use tf.compat.v1.placeholder_with_default instead.\n",
      "\n"
     ]
    },
    {
     "name": "stderr",
     "output_type": "stream",
     "text": [
      "C:\\Users\\peace\\Anaconda3\\envs\\test_tensor\\lib\\site-packages\\ipykernel_launcher.py:7: UserWarning: Update your `Conv2D` call to the Keras 2 API: `Conv2D(32, (3, 3), activation=\"relu\", input_shape=(28, 28, 1...)`\n",
      "  import sys\n",
      "C:\\Users\\peace\\Anaconda3\\envs\\test_tensor\\lib\\site-packages\\ipykernel_launcher.py:9: UserWarning: Update your `Conv2D` call to the Keras 2 API: `Conv2D(64, (3, 3), activation=\"relu\")`\n",
      "  if __name__ == '__main__':\n"
     ]
    },
    {
     "name": "stdout",
     "output_type": "stream",
     "text": [
      "WARNING:tensorflow:From C:\\Users\\peace\\Anaconda3\\envs\\test_tensor\\lib\\site-packages\\keras\\backend\\tensorflow_backend.py:3445: calling dropout (from tensorflow.python.ops.nn_ops) with keep_prob is deprecated and will be removed in a future version.\n",
      "Instructions for updating:\n",
      "Please use `rate` instead of `keep_prob`. Rate should be set to `rate = 1 - keep_prob`.\n"
     ]
    }
   ],
   "source": [
    "model=Sequential()\n",
    "\n",
    "# (33,3,3) output필터개수,필터사이즈 3x3\n",
    "# 입력데이터 (28,28) => (배치사이즈 128, 26필터적용, 26필터적용, 32아웃풋)\n",
    "#padding은 valid(필터적용): 모서리 특징을 버릴때 ,same(28*28) :모서리 특징 유지\n",
    "#relu니까 음수가 제거됨 (+)부분만\n",
    "model.add(Conv2D(32,3,3,activation='relu',input_shape=(28,28,1)))#input_shape도 채널순서에 맞춰줘야한다\n",
    "#(128,26,26,32) => (128,24,24,64)\n",
    "model.add(Conv2D(64,3,3,activation='relu'))\n",
    "#128장은 그대로 살고 24=>12, 24=>12,64그대로 (128(원래는 모르는 수?,장수),12,12,64)\n",
    "model.add(MaxPooling2D(pool_size=(2,2)))\n",
    "model.add(Dropout(0.25))\n",
    "#12*12*64=> 1차원으로 바껴야한다 9216\n",
    "model.add(Flatten()) #flatten은 1차원 배열로\n",
    "#ffnn망으로 들어옴(fc), dense 나가는 것만\n",
    "model.add(Dense(128,activation='relu')) #dense망의 가중치 (128*9216)=>9216*128=>128x128\n",
    "# 나가는 차수 128? . 128*128\n",
    "model.add(Dropout(0.5)) #계산회로만 생략(계산만 덜하라는 거지 차수?차원?가 바뀌지 않음) #128x10\n",
    "model.add(Dense(10,activation='softmax')) #128x10"
   ]
  },
  {
   "cell_type": "code",
   "execution_count": 14,
   "metadata": {},
   "outputs": [
    {
     "name": "stdout",
     "output_type": "stream",
     "text": [
      "WARNING:tensorflow:From C:\\Users\\ICT01_03\\Anaconda3\\envs\\venv\\lib\\site-packages\\keras\\optimizers.py:790: The name tf.train.Optimizer is deprecated. Please use tf.compat.v1.train.Optimizer instead.\n",
      "\n",
      "WARNING:tensorflow:From C:\\Users\\ICT01_03\\Anaconda3\\envs\\venv\\lib\\site-packages\\keras\\backend\\tensorflow_backend.py:3295: The name tf.log is deprecated. Please use tf.math.log instead.\n",
      "\n",
      "WARNING:tensorflow:From C:\\Users\\ICT01_03\\Anaconda3\\envs\\venv\\lib\\site-packages\\tensorflow_core\\python\\ops\\math_grad.py:1424: where (from tensorflow.python.ops.array_ops) is deprecated and will be removed in a future version.\n",
      "Instructions for updating:\n",
      "Use tf.where in 2.0, which has the same broadcast rule as np.where\n",
      "WARNING:tensorflow:From C:\\Users\\ICT01_03\\Anaconda3\\envs\\venv\\lib\\site-packages\\keras\\backend\\tensorflow_backend.py:986: The name tf.assign_add is deprecated. Please use tf.compat.v1.assign_add instead.\n",
      "\n",
      "WARNING:tensorflow:From C:\\Users\\ICT01_03\\Anaconda3\\envs\\venv\\lib\\site-packages\\keras\\backend\\tensorflow_backend.py:973: The name tf.assign is deprecated. Please use tf.compat.v1.assign instead.\n",
      "\n",
      "WARNING:tensorflow:From C:\\Users\\ICT01_03\\Anaconda3\\envs\\venv\\lib\\site-packages\\keras\\backend\\tensorflow_backend.py:2741: The name tf.Session is deprecated. Please use tf.compat.v1.Session instead.\n",
      "\n",
      "Train on 60000 samples, validate on 10000 samples\n",
      "Epoch 1/12\n",
      "WARNING:tensorflow:From C:\\Users\\ICT01_03\\Anaconda3\\envs\\venv\\lib\\site-packages\\keras\\backend\\tensorflow_backend.py:174: The name tf.get_default_session is deprecated. Please use tf.compat.v1.get_default_session instead.\n",
      "\n",
      "WARNING:tensorflow:From C:\\Users\\ICT01_03\\Anaconda3\\envs\\venv\\lib\\site-packages\\keras\\backend\\tensorflow_backend.py:181: The name tf.ConfigProto is deprecated. Please use tf.compat.v1.ConfigProto instead.\n",
      "\n",
      "WARNING:tensorflow:From C:\\Users\\ICT01_03\\Anaconda3\\envs\\venv\\lib\\site-packages\\keras\\backend\\tensorflow_backend.py:190: The name tf.global_variables is deprecated. Please use tf.compat.v1.global_variables instead.\n",
      "\n",
      "WARNING:tensorflow:From C:\\Users\\ICT01_03\\Anaconda3\\envs\\venv\\lib\\site-packages\\keras\\backend\\tensorflow_backend.py:199: The name tf.is_variable_initialized is deprecated. Please use tf.compat.v1.is_variable_initialized instead.\n",
      "\n",
      "WARNING:tensorflow:From C:\\Users\\ICT01_03\\Anaconda3\\envs\\venv\\lib\\site-packages\\keras\\backend\\tensorflow_backend.py:206: The name tf.variables_initializer is deprecated. Please use tf.compat.v1.variables_initializer instead.\n",
      "\n",
      "60000/60000 [==============================] - 13s 217us/step - loss: 0.2793 - acc: 0.9138 - val_loss: 0.0604 - val_acc: 0.9801\n",
      "Epoch 2/12\n",
      "60000/60000 [==============================] - 10s 163us/step - loss: 0.0926 - acc: 0.9730 - val_loss: 0.0423 - val_acc: 0.9862\n",
      "Epoch 3/12\n",
      "60000/60000 [==============================] - 10s 163us/step - loss: 0.0681 - acc: 0.9791 - val_loss: 0.0375 - val_acc: 0.9872\n",
      "Epoch 4/12\n",
      "60000/60000 [==============================] - 10s 162us/step - loss: 0.0552 - acc: 0.9839 - val_loss: 0.0298 - val_acc: 0.9903\n",
      "Epoch 5/12\n",
      "60000/60000 [==============================] - 10s 162us/step - loss: 0.0483 - acc: 0.9856 - val_loss: 0.0285 - val_acc: 0.9909\n",
      "Epoch 6/12\n",
      "60000/60000 [==============================] - 10s 164us/step - loss: 0.0416 - acc: 0.9873 - val_loss: 0.0267 - val_acc: 0.9909\n",
      "Epoch 7/12\n",
      "60000/60000 [==============================] - 10s 163us/step - loss: 0.0385 - acc: 0.9880 - val_loss: 0.0257 - val_acc: 0.9913\n",
      "Epoch 8/12\n",
      "60000/60000 [==============================] - 10s 161us/step - loss: 0.0344 - acc: 0.9896 - val_loss: 0.0285 - val_acc: 0.9915\n",
      "Epoch 9/12\n",
      "60000/60000 [==============================] - 10s 162us/step - loss: 0.0310 - acc: 0.9903 - val_loss: 0.0293 - val_acc: 0.9906\n",
      "Epoch 10/12\n",
      "60000/60000 [==============================] - 10s 162us/step - loss: 0.0301 - acc: 0.9901 - val_loss: 0.0263 - val_acc: 0.9909\n",
      "Epoch 11/12\n",
      "60000/60000 [==============================] - 10s 162us/step - loss: 0.0272 - acc: 0.9913 - val_loss: 0.0246 - val_acc: 0.9924\n",
      "Epoch 12/12\n",
      "60000/60000 [==============================] - 10s 164us/step - loss: 0.0255 - acc: 0.9919 - val_loss: 0.0259 - val_acc: 0.9926\n",
      "0.02591775789607309\n",
      "0.9926\n"
     ]
    },
    {
     "data": {
      "image/png": "[encoded data removed]",
      "text/plain": [
       "<Figure size 432x288 with 1 Axes>"
      ]
     },
     "metadata": {
      "needs_background": "light"
     },
     "output_type": "display_data"
    }
   ],
   "source": [
    "model.compile(loss=keras.losses.categorical_crossentropy, optimizer = keras.optimizers.Adadelta(), metrics=['acc'])\n",
    "# train, validation, test\n",
    "# epoch 마다 accuracy를 저장\n",
    "class AccuracyHistory(keras.callbacks.Callback): # 오버라이딩 (재정의)\n",
    "    def on_train_begin(self, logs={}): # 훈련 시작시 이벤트\n",
    "        self.acc = []\n",
    "    def on_epoch_end(self, batch, logs={}):\n",
    "        self.acc.append(logs.get('acc'))\n",
    "        \n",
    "history = AccuracyHistory()\n",
    "history.on_train_begin()\n",
    "\n",
    "model.fit(x_train, y_train, batch_size = batch_size, epochs=epochs, verbose = 1, validation_data =(x_test, y_test), callbacks=[history])\n",
    "score = model.evaluate(x_test, y_test, verbose =0)\n",
    "print(score[0])\n",
    "print(score[1])\n",
    "\n",
    "plt.plot(range(1,13), history.acc)\n",
    "plt.xlabel('Epochs')\n",
    "plt.ylabel('Accuracy')\n",
    "plt.show()"
   ]
  },
  {
   "cell_type": "code",
   "execution_count": 15,
   "metadata": {},
   "outputs": [
    {
     "data": {
      "image/png": "[encoded data removed]",
      "text/plain": [
       "<Figure size 432x288 with 1 Axes>"
      ]
     },
     "metadata": {
      "needs_background": "light"
     },
     "output_type": "display_data"
    }
   ],
   "source": [
    "plt.plot(range(1,13), history.acc)\n",
    "plt.xlabel('Epochs')\n",
    "plt.ylabel('Accuracy')\n",
    "plt.show()"
   ]
  },
  {
   "cell_type": "code",
   "execution_count": null,
   "metadata": {},
   "outputs": [],
   "source": [
    "history.on_train_begin()\n",
    "model.history.history.keys()"
   ]
  },
  {
   "cell_type": "markdown",
   "metadata": {},
   "source": [
    "# 모델 저장 / 로딩"
   ]
  },
  {
   "cell_type": "code",
   "execution_count": 16,
   "metadata": {},
   "outputs": [
    {
     "name": "stdout",
     "output_type": "stream",
     "text": [
      "모델이 저장되었습니다.\n",
      "모델이 로딩되었습니다\n",
      "_________________________________________________________________\n",
      "Layer (type)                 Output Shape              Param #   \n",
      "=================================================================\n",
      "conv2d_1 (Conv2D)            (None, 26, 26, 32)        320       \n",
      "_________________________________________________________________\n",
      "conv2d_2 (Conv2D)            (None, 24, 24, 64)        18496     \n",
      "_________________________________________________________________\n",
      "max_pooling2d_1 (MaxPooling2 (None, 12, 12, 64)        0         \n",
      "_________________________________________________________________\n",
      "dropout_1 (Dropout)          (None, 12, 12, 64)        0         \n",
      "_________________________________________________________________\n",
      "flatten_1 (Flatten)          (None, 9216)              0         \n",
      "_________________________________________________________________\n",
      "dense_1 (Dense)              (None, 128)               1179776   \n",
      "_________________________________________________________________\n",
      "dropout_2 (Dropout)          (None, 128)               0         \n",
      "_________________________________________________________________\n",
      "dense_2 (Dense)              (None, 10)                1290      \n",
      "=================================================================\n",
      "Total params: 1,199,882\n",
      "Trainable params: 1,199,882\n",
      "Non-trainable params: 0\n",
      "_________________________________________________________________\n"
     ]
    }
   ],
   "source": [
    "# HDFS(hadoop file system) : model 구조 전체 저장\n",
    "# 가중치 구조, optimization stage 등이 저장\n",
    "# json으로 저장, 구조, 가중치를 별도로 저장 => web에서 tensorflow\n",
    "# tensorflow.js import\n",
    "model.save(\"model_mnist.h5\")\n",
    "print(\"모델이 저장되었습니다.\")\n",
    "from keras.models import load_model\n",
    "\n",
    "model = load_model('model_mnist.h5')\n",
    "print('모델이 로딩되었습니다')\n",
    "\n",
    "model.summary()"
   ]
  },
  {
   "cell_type": "code",
   "execution_count": 17,
   "metadata": {},
   "outputs": [
    {
     "name": "stdout",
     "output_type": "stream",
     "text": [
      "conv2d_1\n",
      "(None, 28, 28, 1)\n",
      "<function relu at 0x000002685272F1E0>\n",
      "(None, 26, 26, 32)\n"
     ]
    }
   ],
   "source": [
    "# 레이어 정보 확인\n",
    "l1 = model.layers[0]\n",
    "l2 = model.layers[1]\n",
    "print(l1.name)\n",
    "print(l1.input_shape)\n",
    "print(l1.activation)\n",
    "print(l1.output_shape)"
   ]
  },
  {
   "cell_type": "markdown",
   "metadata": {},
   "source": [
    "# imageDataGenerator"
   ]
  },
  {
   "cell_type": "code",
   "execution_count": 18,
   "metadata": {},
   "outputs": [
    {
     "name": "stderr",
     "output_type": "stream",
     "text": [
      "C:\\Users\\ICT01_03\\Anaconda3\\envs\\venv\\lib\\site-packages\\keras_preprocessing\\image\\image_data_generator.py:336: UserWarning: This ImageDataGenerator specifies `zca_whitening`, which overrides setting of `featurewise_center`.\n",
      "  warnings.warn('This ImageDataGenerator specifies '\n"
     ]
    },
    {
     "data": {
      "image/png": "[encoded data removed]",
      "text/plain": [
       "<Figure size 432x288 with 9 Axes>"
      ]
     },
     "metadata": {
      "needs_background": "light"
     },
     "output_type": "display_data"
    }
   ],
   "source": [
    "from keras.datasets import mnist\n",
    "from keras.preprocessing.image import ImageDataGenerator\n",
    "from matplotlib import pyplot\n",
    "from keras import backend as K\n",
    "(X_train,y_train), (X_test, y_test) = mnist.load_data()\n",
    "X_train = X_train.reshape(X_train.shape[0], 28, 28, 1)\n",
    "X_test  = X_test.reshape(X_test.shape[0], 28, 28, 1)\n",
    "X_train = X_train.astype('float32')\n",
    "X_test = X_test.astype('float32')\n",
    "# datagen = ImageDataGenerator(horizontal_flip = True, vertical_flip = True)\n",
    "# datagen = ImageDataGenerator(width_shift_range=0.2, height_shift_range=0.2)\n",
    "# datagen = ImageDataGenerator(rotation_range=90) # 로테이션 옵션\n",
    "datagen = ImageDataGenerator(zca_whitening=True) # 이미지 백색화 -> 노이즈 제거(변수간 상관도를 없앰-PCA)\n",
    "datagen.fit(X_train)\n",
    "for X_batch, y_batch in datagen.flow(X_train, y_train, batch_size=9, save_to_dir='images', save_prefix='aug', save_format='png'):\n",
    "    for i in range(0,9):\n",
    "        pyplot.subplot(330 + 1 + i)\n",
    "        pyplot.imshow(X_batch[i].reshape(28,28), cmap=pyplot.get_cmap('gray'))\n",
    "    pyplot.show()\n",
    "    break"
   ]
  },
  {
   "cell_type": "code",
   "execution_count": 19,
   "metadata": {
    "scrolled": true
   },
   "outputs": [
    {
     "name": "stdout",
     "output_type": "stream",
     "text": [
      "1.15.0\n"
     ]
    },
    {
     "data": {
      "text/plain": [
       "True"
      ]
     },
     "execution_count": 19,
     "metadata": {},
     "output_type": "execute_result"
    }
   ],
   "source": [
    "# gpu 사용 가능 확인\n",
    "import tensorflow as tf \n",
    "print(tf.__version__) \n",
    "tf.test.is_gpu_available()\n"
   ]
  },
  {
   "cell_type": "code",
   "execution_count": 20,
   "metadata": {
    "scrolled": true
   },
   "outputs": [
    {
     "data": {
      "text/plain": [
       "'/device:GPU:0'"
      ]
     },
     "execution_count": 20,
     "metadata": {},
     "output_type": "execute_result"
    }
   ],
   "source": [
    "import tensorflow as tf\n",
    "tf.test.gpu_device_name()"
   ]
  },
  {
   "cell_type": "code",
   "execution_count": 21,
   "metadata": {},
   "outputs": [
    {
     "name": "stdout",
     "output_type": "stream",
     "text": [
      "Downloading data from https://www.cs.toronto.edu/~kriz/cifar-10-python.tar.gz\n",
      "170500096/170498071 [==============================] - 26s 0us/step\n",
      "X_train shape:  (50000, 32, 32, 3)\n",
      "50000 train samples\n",
      "10000 test samples\n"
     ]
    },
    {
     "data": {
      "image/png": "[encoded data removed]",
      "text/plain": [
       "<Figure size 432x288 with 1 Axes>"
      ]
     },
     "metadata": {
      "needs_background": "light"
     },
     "output_type": "display_data"
    },
    {
     "data": {
      "image/png": "[encoded data removed]",
      "text/plain": [
       "<Figure size 432x288 with 1 Axes>"
      ]
     },
     "metadata": {
      "needs_background": "light"
     },
     "output_type": "display_data"
    }
   ],
   "source": [
    "from keras.datasets import cifar10\n",
    "from keras.optimizers import SGD, Adam, RMSprop\n",
    "from keras.utils import np_utils\n",
    "(X_train, Y_train), (X_test, Y_test) = cifar10.load_data()\n",
    "print('X_train shape: ', X_train.shape)\n",
    "print(X_train.shape[0], 'train samples')\n",
    "print(X_test.shape[0] , 'test samples')\n",
    "NB_CLASSES = 10\n",
    "Y_train = np_utils.to_categorical(Y_train, NB_CLASSES)\n",
    "Y_test = np_utils.to_categorical(Y_test, NB_CLASSES)\n",
    "\n",
    "X_train = X_train.astype('float32')\n",
    "X_test = X_test.astype('float32')\n",
    "X_train /= 255\n",
    "X_test /= 255\n",
    "\n",
    "plt.imshow(X_train[5])\n",
    "plt.grid(False)\n",
    "plt.show()\n",
    "plt.imshow(X_train[6])\n",
    "plt.grid(False)\n",
    "plt.show()"
   ]
  },
  {
   "cell_type": "code",
   "execution_count": 34,
   "metadata": {},
   "outputs": [],
   "source": [
    "IMG_CHANNELS = 3\n",
    "IMG_ROWS = 32\n",
    "IMG_COLS = 32\n",
    "BATCH_SIZE = 128\n",
    "NB_EPOCH = 40\n",
    "NB_CLASSES = 10\n",
    "VERBOSE = 1\n",
    "VALIDATION_SPLIT = 0.2\n",
    "OPTIM = RMSprop()"
   ]
  },
  {
   "cell_type": "code",
   "execution_count": 35,
   "metadata": {},
   "outputs": [],
   "source": [
    "from keras.layers import Activation\n",
    "model = Sequential()\n",
    "model.add(Conv2D(32, kernel_size =3, padding = 'same', input_shape=(IMG_ROWS, IMG_COLS, IMG_CHANNELS)))\n",
    "model.add(Activation('relu'))\n",
    "model.add(Conv2D(32, kernel_size =3, padding = 'same'))\n",
    "model.add(Activation('relu'))\n",
    "model.add(MaxPooling2D(pool_size=(2,2)))\n",
    "model.add(Dropout(0.25))"
   ]
  },
  {
   "cell_type": "code",
   "execution_count": 36,
   "metadata": {},
   "outputs": [
    {
     "name": "stderr",
     "output_type": "stream",
     "text": [
      "C:\\Users\\ICT01_03\\Anaconda3\\envs\\venv\\lib\\site-packages\\ipykernel_launcher.py:3: UserWarning: Update your `Conv2D` call to the Keras 2 API: `Conv2D(64, (3, 3))`\n",
      "  This is separate from the ipykernel package so we can avoid doing imports until\n"
     ]
    }
   ],
   "source": [
    "model.add(Conv2D(64,kernel_size=3,padding='same'))\n",
    "model.add(Activation('relu'))\n",
    "model.add(Conv2D(64,3,3))\n",
    "model.add(Activation('relu'))\n",
    "model.add(MaxPooling2D(pool_size=(2,2)))\n",
    "model.add(Dropout(0.25))"
   ]
  },
  {
   "cell_type": "code",
   "execution_count": 37,
   "metadata": {},
   "outputs": [
    {
     "name": "stdout",
     "output_type": "stream",
     "text": [
      "_________________________________________________________________\n",
      "Layer (type)                 Output Shape              Param #   \n",
      "=================================================================\n",
      "conv2d_20 (Conv2D)           (None, 32, 32, 32)        896       \n",
      "_________________________________________________________________\n",
      "activation_16 (Activation)   (None, 32, 32, 32)        0         \n",
      "_________________________________________________________________\n",
      "conv2d_21 (Conv2D)           (None, 32, 32, 32)        9248      \n",
      "_________________________________________________________________\n",
      "activation_17 (Activation)   (None, 32, 32, 32)        0         \n",
      "_________________________________________________________________\n",
      "max_pooling2d_7 (MaxPooling2 (None, 16, 16, 32)        0         \n",
      "_________________________________________________________________\n",
      "dropout_9 (Dropout)          (None, 16, 16, 32)        0         \n",
      "_________________________________________________________________\n",
      "conv2d_22 (Conv2D)           (None, 16, 16, 64)        18496     \n",
      "_________________________________________________________________\n",
      "activation_18 (Activation)   (None, 16, 16, 64)        0         \n",
      "_________________________________________________________________\n",
      "conv2d_23 (Conv2D)           (None, 14, 14, 64)        36928     \n",
      "_________________________________________________________________\n",
      "activation_19 (Activation)   (None, 14, 14, 64)        0         \n",
      "_________________________________________________________________\n",
      "max_pooling2d_8 (MaxPooling2 (None, 7, 7, 64)          0         \n",
      "_________________________________________________________________\n",
      "dropout_10 (Dropout)         (None, 7, 7, 64)          0         \n",
      "_________________________________________________________________\n",
      "flatten_4 (Flatten)          (None, 3136)              0         \n",
      "_________________________________________________________________\n",
      "dense_5 (Dense)              (None, 512)               1606144   \n",
      "_________________________________________________________________\n",
      "activation_20 (Activation)   (None, 512)               0         \n",
      "_________________________________________________________________\n",
      "dropout_11 (Dropout)         (None, 512)               0         \n",
      "_________________________________________________________________\n",
      "dense_6 (Dense)              (None, 10)                5130      \n",
      "_________________________________________________________________\n",
      "activation_21 (Activation)   (None, 10)                0         \n",
      "=================================================================\n",
      "Total params: 1,676,842\n",
      "Trainable params: 1,676,842\n",
      "Non-trainable params: 0\n",
      "_________________________________________________________________\n"
     ]
    }
   ],
   "source": [
    "model.add(Flatten())\n",
    "model.add(Dense(512))\n",
    "model.add(Activation('relu'))\n",
    "model.add(Dropout(0.5))\n",
    "model.add(Dense(NB_CLASSES))\n",
    "model.add(Activation('softmax'))\n",
    "model.summary()\n",
    "model.compile(loss='categorical_crossentropy',optimizer=OPTIM,metrics=['accuracy'])"
   ]
  },
  {
   "cell_type": "code",
   "execution_count": 41,
   "metadata": {},
   "outputs": [
    {
     "name": "stdout",
     "output_type": "stream",
     "text": [
      "Train on 40000 samples, validate on 10000 samples\n",
      "Epoch 1/40\n",
      "40000/40000 [==============================] - 11s 275us/step - loss: 1.8218 - acc: 0.3396 - val_loss: 1.3994 - val_acc: 0.4915\n",
      "Epoch 2/40\n",
      "40000/40000 [==============================] - 10s 239us/step - loss: 1.3529 - acc: 0.5193 - val_loss: 1.1834 - val_acc: 0.5857\n",
      "Epoch 3/40\n",
      "40000/40000 [==============================] - 10s 240us/step - loss: 1.1367 - acc: 0.6006 - val_loss: 1.2804 - val_acc: 0.5739\n",
      "Epoch 4/40\n",
      "40000/40000 [==============================] - 10s 241us/step - loss: 0.9977 - acc: 0.6482 - val_loss: 0.8763 - val_acc: 0.6938\n",
      "Epoch 5/40\n",
      "40000/40000 [==============================] - 10s 243us/step - loss: 0.9004 - acc: 0.6854 - val_loss: 0.7965 - val_acc: 0.7251\n",
      "Epoch 6/40\n",
      "40000/40000 [==============================] - 10s 242us/step - loss: 0.8288 - acc: 0.7101 - val_loss: 0.8347 - val_acc: 0.7171\n",
      "Epoch 7/40\n",
      "40000/40000 [==============================] - 10s 239us/step - loss: 0.7685 - acc: 0.7319 - val_loss: 0.8029 - val_acc: 0.7314\n",
      "Epoch 8/40\n",
      "40000/40000 [==============================] - 10s 240us/step - loss: 0.7220 - acc: 0.7500 - val_loss: 0.7532 - val_acc: 0.7441\n",
      "Epoch 9/40\n",
      "40000/40000 [==============================] - 10s 240us/step - loss: 0.6846 - acc: 0.7629 - val_loss: 0.6995 - val_acc: 0.7634\n",
      "Epoch 10/40\n",
      "40000/40000 [==============================] - 10s 240us/step - loss: 0.6597 - acc: 0.7706 - val_loss: 0.8315 - val_acc: 0.7186\n",
      "Epoch 11/40\n",
      "40000/40000 [==============================] - 10s 240us/step - loss: 0.6327 - acc: 0.7808 - val_loss: 0.6768 - val_acc: 0.7729\n",
      "Epoch 12/40\n",
      "40000/40000 [==============================] - 10s 242us/step - loss: 0.6131 - acc: 0.7906 - val_loss: 0.8039 - val_acc: 0.7524\n",
      "Epoch 13/40\n",
      "40000/40000 [==============================] - 10s 242us/step - loss: 0.6016 - acc: 0.7962 - val_loss: 0.7526 - val_acc: 0.7694\n",
      "Epoch 14/40\n",
      "40000/40000 [==============================] - 10s 241us/step - loss: 0.5970 - acc: 0.7969 - val_loss: 0.8006 - val_acc: 0.7560\n",
      "Epoch 15/40\n",
      "40000/40000 [==============================] - 10s 243us/step - loss: 0.5870 - acc: 0.8025 - val_loss: 0.7091 - val_acc: 0.7809\n",
      "Epoch 16/40\n",
      "40000/40000 [==============================] - 10s 243us/step - loss: 0.5845 - acc: 0.8040 - val_loss: 0.6766 - val_acc: 0.7770\n",
      "Epoch 17/40\n",
      "40000/40000 [==============================] - 10s 241us/step - loss: 0.5789 - acc: 0.8083 - val_loss: 0.6663 - val_acc: 0.7864\n",
      "Epoch 18/40\n",
      "40000/40000 [==============================] - 10s 241us/step - loss: 0.5740 - acc: 0.8104 - val_loss: 0.7594 - val_acc: 0.7501\n",
      "Epoch 19/40\n",
      "40000/40000 [==============================] - 10s 240us/step - loss: 0.5691 - acc: 0.8123 - val_loss: 0.7975 - val_acc: 0.7750\n",
      "Epoch 20/40\n",
      "40000/40000 [==============================] - 10s 240us/step - loss: 0.5665 - acc: 0.8126 - val_loss: 0.7204 - val_acc: 0.7582\n",
      "Epoch 21/40\n",
      "40000/40000 [==============================] - 10s 241us/step - loss: 0.5638 - acc: 0.8157 - val_loss: 0.8774 - val_acc: 0.7567\n",
      "Epoch 22/40\n",
      "40000/40000 [==============================] - 10s 241us/step - loss: 0.5626 - acc: 0.8142 - val_loss: 0.7983 - val_acc: 0.7696\n",
      "Epoch 23/40\n",
      "40000/40000 [==============================] - 10s 241us/step - loss: 0.5562 - acc: 0.8162 - val_loss: 0.7937 - val_acc: 0.7762\n",
      "Epoch 24/40\n",
      "40000/40000 [==============================] - 10s 243us/step - loss: 0.5505 - acc: 0.8203 - val_loss: 0.7741 - val_acc: 0.7708\n",
      "Epoch 25/40\n",
      "40000/40000 [==============================] - 10s 240us/step - loss: 0.5585 - acc: 0.8187 - val_loss: 0.6659 - val_acc: 0.7831\n",
      "Epoch 26/40\n",
      "40000/40000 [==============================] - 10s 240us/step - loss: 0.5577 - acc: 0.8176 - val_loss: 1.0725 - val_acc: 0.7635\n",
      "Epoch 27/40\n",
      "40000/40000 [==============================] - 10s 242us/step - loss: 0.5531 - acc: 0.8165 - val_loss: 0.6930 - val_acc: 0.7743\n",
      "Epoch 28/40\n",
      "40000/40000 [==============================] - 10s 241us/step - loss: 0.5554 - acc: 0.8207 - val_loss: 0.8418 - val_acc: 0.7759\n",
      "Epoch 29/40\n",
      "40000/40000 [==============================] - 10s 242us/step - loss: 0.5498 - acc: 0.8219 - val_loss: 0.7491 - val_acc: 0.7917\n",
      "Epoch 30/40\n",
      "40000/40000 [==============================] - 10s 239us/step - loss: 0.5458 - acc: 0.8195 - val_loss: 0.8416 - val_acc: 0.7524\n",
      "Epoch 31/40\n",
      "40000/40000 [==============================] - 10s 243us/step - loss: 0.5540 - acc: 0.8214 - val_loss: 0.8235 - val_acc: 0.7690\n",
      "Epoch 32/40\n",
      "40000/40000 [==============================] - 10s 241us/step - loss: 0.5511 - acc: 0.8214 - val_loss: 0.7135 - val_acc: 0.7809\n",
      "Epoch 33/40\n",
      "40000/40000 [==============================] - 10s 242us/step - loss: 0.5544 - acc: 0.8221 - val_loss: 0.6780 - val_acc: 0.7944\n",
      "Epoch 34/40\n",
      "40000/40000 [==============================] - 10s 241us/step - loss: 0.5556 - acc: 0.8199 - val_loss: 0.7205 - val_acc: 0.7928\n",
      "Epoch 35/40\n",
      "40000/40000 [==============================] - 10s 243us/step - loss: 0.5438 - acc: 0.8225 - val_loss: 0.7564 - val_acc: 0.7906\n",
      "Epoch 36/40\n",
      "40000/40000 [==============================] - 10s 242us/step - loss: 0.5568 - acc: 0.8202 - val_loss: 0.7058 - val_acc: 0.7950\n",
      "Epoch 37/40\n",
      "40000/40000 [==============================] - 10s 240us/step - loss: 0.5630 - acc: 0.8214 - val_loss: 0.6794 - val_acc: 0.7859\n",
      "Epoch 38/40\n",
      "40000/40000 [==============================] - 10s 240us/step - loss: 0.5546 - acc: 0.8210 - val_loss: 0.7885 - val_acc: 0.7760\n",
      "Epoch 39/40\n",
      "40000/40000 [==============================] - 10s 240us/step - loss: 0.5582 - acc: 0.8208 - val_loss: 0.7353 - val_acc: 0.7734\n",
      "Epoch 40/40\n",
      "40000/40000 [==============================] - 10s 240us/step - loss: 0.5670 - acc: 0.8197 - val_loss: 0.7341 - val_acc: 0.7766\n"
     ]
    }
   ],
   "source": [
    "history = model.fit(X_train, Y_train, batch_size=BATCH_SIZE, epochs=NB_EPOCH, validation_split=VALIDATION_SPLIT, \n",
    "                    verbose=VERBOSE)"
   ]
  },
  {
   "cell_type": "code",
   "execution_count": 46,
   "metadata": {},
   "outputs": [],
   "source": [
    "datagen = ImageDataGenerator(featurewise_center=False, samplewise_center=False, \n",
    "                             featurewise_std_normalization=False, samplewise_std_normalization = False, zca_whitening=False, \n",
    "                             rotation_range=0, width_shift_range=0.1, height_shift_range=0.1, \n",
    "                             horizontal_flip = True, vertical_flip=False)\n",
    "datagen.fit(X_train)"
   ]
  },
  {
   "cell_type": "code",
   "execution_count": 47,
   "metadata": {},
   "outputs": [
    {
     "name": "stdout",
     "output_type": "stream",
     "text": [
      "Epoch 1/40\n",
      "  3/390 [..............................] - ETA: 19s - loss: 1.3810 - acc: 0.6250"
     ]
    },
    {
     "name": "stderr",
     "output_type": "stream",
     "text": [
      "C:\\Users\\ICT01_03\\Anaconda3\\envs\\venv\\lib\\site-packages\\ipykernel_launcher.py:3: UserWarning: The semantics of the Keras 2 argument `steps_per_epoch` is not the same as the Keras 1 argument `samples_per_epoch`. `steps_per_epoch` is the number of batches to draw from the generator at each epoch. Basically steps_per_epoch = samples_per_epoch/batch_size. Similarly `nb_val_samples`->`validation_steps` and `val_samples`->`steps` arguments have changed. Update your method calls accordingly.\n",
      "  This is separate from the ipykernel package so we can avoid doing imports until\n",
      "C:\\Users\\ICT01_03\\Anaconda3\\envs\\venv\\lib\\site-packages\\ipykernel_launcher.py:3: UserWarning: Update your `fit_generator` call to the Keras 2 API: `fit_generator(<keras_pre..., verbose=1, steps_per_epoch=390, epochs=40)`\n",
      "  This is separate from the ipykernel package so we can avoid doing imports until\n"
     ]
    },
    {
     "name": "stdout",
     "output_type": "stream",
     "text": [
      "390/390 [==============================] - 16s 42ms/step - loss: 0.9873 - acc: 0.6829\n",
      "Epoch 2/40\n",
      "390/390 [==============================] - 16s 42ms/step - loss: 0.9609 - acc: 0.6852\n",
      "Epoch 3/40\n",
      "390/390 [==============================] - 16s 41ms/step - loss: 0.9344 - acc: 0.6918\n",
      "Epoch 4/40\n",
      "390/390 [==============================] - 16s 42ms/step - loss: 0.9371 - acc: 0.6931\n",
      "Epoch 5/40\n",
      "390/390 [==============================] - 17s 43ms/step - loss: 0.9216 - acc: 0.6974\n",
      "Epoch 6/40\n",
      "390/390 [==============================] - 16s 42ms/step - loss: 0.9107 - acc: 0.7019\n",
      "Epoch 7/40\n",
      "390/390 [==============================] - 16s 41ms/step - loss: 0.9147 - acc: 0.6986\n",
      "Epoch 8/40\n",
      "390/390 [==============================] - 16s 41ms/step - loss: 0.9076 - acc: 0.7008\n",
      "Epoch 9/40\n",
      "390/390 [==============================] - 16s 41ms/step - loss: 0.9080 - acc: 0.7038\n",
      "Epoch 10/40\n",
      "390/390 [==============================] - 16s 41ms/step - loss: 0.9010 - acc: 0.7038\n",
      "Epoch 11/40\n",
      "390/390 [==============================] - 16s 41ms/step - loss: 0.9049 - acc: 0.7034\n",
      "Epoch 12/40\n",
      "390/390 [==============================] - 16s 42ms/step - loss: 0.9067 - acc: 0.7027\n",
      "Epoch 13/40\n",
      "390/390 [==============================] - 16s 42ms/step - loss: 0.9122 - acc: 0.7007\n",
      "Epoch 14/40\n",
      "390/390 [==============================] - 17s 43ms/step - loss: 0.9027 - acc: 0.7040\n",
      "Epoch 15/40\n",
      "390/390 [==============================] - 17s 42ms/step - loss: 0.9182 - acc: 0.7021\n",
      "Epoch 16/40\n",
      "390/390 [==============================] - 16s 41ms/step - loss: 0.9126 - acc: 0.7027\n",
      "Epoch 17/40\n",
      "390/390 [==============================] - 16s 41ms/step - loss: 0.9102 - acc: 0.7020\n",
      "Epoch 18/40\n",
      "390/390 [==============================] - 16s 41ms/step - loss: 0.9053 - acc: 0.7053\n",
      "Epoch 19/40\n",
      "390/390 [==============================] - 16s 41ms/step - loss: 0.9172 - acc: 0.7009\n",
      "Epoch 20/40\n",
      "390/390 [==============================] - 16s 41ms/step - loss: 0.9109 - acc: 0.7016\n",
      "Epoch 21/40\n",
      "390/390 [==============================] - 16s 41ms/step - loss: 0.9234 - acc: 0.7013\n",
      "Epoch 22/40\n",
      "390/390 [==============================] - ETA: 0s - loss: 0.9143 - acc: 0.704 - 16s 42ms/step - loss: 0.9143 - acc: 0.7039\n",
      "Epoch 23/40\n",
      "390/390 [==============================] - 17s 43ms/step - loss: 0.9334 - acc: 0.6958\n",
      "Epoch 24/40\n",
      "390/390 [==============================] - 17s 43ms/step - loss: 0.9247 - acc: 0.7003\n",
      "Epoch 25/40\n",
      "390/390 [==============================] - 16s 42ms/step - loss: 0.9349 - acc: 0.6945\n",
      "Epoch 26/40\n",
      "390/390 [==============================] - 16s 41ms/step - loss: 0.9340 - acc: 0.6958\n",
      "Epoch 27/40\n",
      "390/390 [==============================] - 17s 43ms/step - loss: 0.9435 - acc: 0.6951\n",
      "Epoch 28/40\n",
      "390/390 [==============================] - 17s 43ms/step - loss: 0.9446 - acc: 0.6957\n",
      "Epoch 29/40\n",
      "390/390 [==============================] - 16s 42ms/step - loss: 0.9448 - acc: 0.6915\n",
      "Epoch 30/40\n",
      "390/390 [==============================] - 16s 42ms/step - loss: 0.9499 - acc: 0.6926\n",
      "Epoch 31/40\n",
      "390/390 [==============================] - 16s 41ms/step - loss: 0.9570 - acc: 0.6904\n",
      "Epoch 32/40\n",
      "390/390 [==============================] - 16s 42ms/step - loss: 0.9557 - acc: 0.6903\n",
      "Epoch 33/40\n",
      "390/390 [==============================] - 16s 42ms/step - loss: 0.9599 - acc: 0.6908\n",
      "Epoch 34/40\n",
      "390/390 [==============================] - 16s 42ms/step - loss: 0.9576 - acc: 0.6915\n",
      "Epoch 35/40\n",
      "390/390 [==============================] - 17s 42ms/step - loss: 0.9580 - acc: 0.6905\n",
      "Epoch 36/40\n",
      "390/390 [==============================] - 16s 42ms/step - loss: 0.9702 - acc: 0.6849\n",
      "Epoch 37/40\n",
      "390/390 [==============================] - 16s 41ms/step - loss: 0.9629 - acc: 0.6878\n",
      "Epoch 38/40\n",
      "390/390 [==============================] - 17s 42ms/step - loss: 0.9693 - acc: 0.6888\n",
      "Epoch 39/40\n",
      "390/390 [==============================] - 17s 43ms/step - loss: 0.9829 - acc: 0.6848\n",
      "Epoch 40/40\n",
      "390/390 [==============================] - 16s 42ms/step - loss: 0.9745 - acc: 0.6838\n"
     ]
    },
    {
     "data": {
      "text/plain": [
       "<keras.callbacks.History at 0x268b1154940>"
      ]
     },
     "execution_count": 47,
     "metadata": {},
     "output_type": "execute_result"
    }
   ],
   "source": [
    "model.fit_generator(datagen.flow(X_train, Y_train, batch_size = BATCH_SIZE), samples_per_epoch=X_train.shape[0],\n",
    "                    nb_epoch = NB_EPOCH,\n",
    "                    verbose = VERBOSE)"
   ]
  },
  {
   "cell_type": "code",
   "execution_count": 49,
   "metadata": {},
   "outputs": [
    {
     "name": "stdout",
     "output_type": "stream",
     "text": [
      "10000/10000 [==============================] - 1s 76us/step\n",
      "\n",
      "Test Score:  1.1753920742034911\n",
      "\n",
      "Test Accuracy:  0.6802\n"
     ]
    }
   ],
   "source": [
    "score = model.evaluate(X_test, Y_test, batch_size=BATCH_SIZE, verbose=VERBOSE)\n",
    "print(\"\\nTest Score: \", score[0])\n",
    "print(\"\\nTest Accuracy: \", score[1])"
   ]
  },
  {
   "cell_type": "code",
   "execution_count": 50,
   "metadata": {},
   "outputs": [],
   "source": [
    "# json\n",
    "model_json =model.to_json()\n",
    "open('cifar10_architecture.json','w').write(model_json)\n",
    "model.save_weights('cifar10_weights.h5', overwrite=True)"
   ]
  },
  {
   "cell_type": "code",
   "execution_count": 51,
   "metadata": {},
   "outputs": [
    {
     "name": "stdout",
     "output_type": "stream",
     "text": [
      "Loaded model from disk\n"
     ]
    }
   ],
   "source": [
    "from keras.models import model_from_json\n",
    "json_file = open('cifar10_architecture.json', 'r')\n",
    "loaded_model_json = json_file.read()\n",
    "json_file.close()\n",
    "loaded_model = model_from_json(loaded_model_json)\n",
    "loaded_model.load_weights('cifar10_weights.h5')\n",
    "print(\"Loaded model from disk\")"
   ]
  },
  {
   "cell_type": "code",
   "execution_count": 52,
   "metadata": {},
   "outputs": [],
   "source": [
    "# 문제 1: accuracy graph를 출력\n",
    "%matplotlib inline\n",
    "import matplotlib.pyplot as plt\n",
    "\n",
    "plt.plot(history.history['accuracy'])\n",
    "plt.plot(history.history['val_accuracy'])\n",
    "plt.title('model accuracy')\n",
    "plt.ylabel('accuracy')\n",
    "plt.xlabel('epoch')\n",
    "plt.legend(['train','test'],loc='upper left')\n",
    "plt.show()"
   ]
  },
  {
   "cell_type": "code",
   "execution_count": 54,
   "metadata": {},
   "outputs": [
    {
     "name": "stdout",
     "output_type": "stream",
     "text": [
      "[8 8]\n"
     ]
    }
   ],
   "source": [
    "# 문제 2: 이미지 cat, dog을 다운로드 한 다음 위의 모델로 예측해보시오\n",
    "import numpy as np #이미지 사이즈 일치\n",
    "from imageio import imread\n",
    "from skimage.transform import resize\n",
    "from keras.models import model_from_json\n",
    "img_names=['cat.jpg','dog.jpg']\n",
    "imgs=[resize(imread(img_name),(32,32)).astype('float32')\n",
    "     for img_name in img_names]\n",
    "imgs=np.array(imgs)/255\n",
    "predictions=model.predict_classes(imgs)\n",
    "print(predictions)"
   ]
  },
  {
   "cell_type": "markdown",
   "metadata": {},
   "source": [
    "# 전이 (transfer learning) 학습 Application<br>\n",
    "- 반지도학습(일부데이터의 라벨이 무): Knn, Transductive SVM<br>\n",
    "- 가중치 활용: 그대로 적용<br>\n",
    "- 가중치 중 일부만 활용<br>\n",
    "- FFNN 부분만 학습해서 사용"
   ]
  },
  {
   "cell_type": "code",
   "execution_count": 105,
   "metadata": {},
   "outputs": [
    {
     "name": "stdout",
     "output_type": "stream",
     "text": [
      "PIL image size (224, 224)\n"
     ]
    },
    {
     "data": {
      "image/png": "[encoded data removed]",
      "text/plain": [
       "<Figure size 432x288 with 1 Axes>"
      ]
     },
     "metadata": {
      "needs_background": "light"
     },
     "output_type": "display_data"
    },
    {
     "name": "stdout",
     "output_type": "stream",
     "text": [
      "numpy array size (224, 224, 3)\n",
      "image array size (1, 224, 224, 3)\n"
     ]
    },
    {
     "ename": "RuntimeError",
     "evalue": "`get_session` is not available when TensorFlow is executing eagerly.",
     "output_type": "error",
     "traceback": [
      "\u001b[1;31m---------------------------------------------------------------------------\u001b[0m",
      "\u001b[1;31mRuntimeError\u001b[0m                              Traceback (most recent call last)",
      "\u001b[1;32m<ipython-input-105-7a7fe6f3e85e>\u001b[0m in \u001b[0;36m<module>\u001b[1;34m\u001b[0m\n\u001b[0;32m     29\u001b[0m \u001b[0mprecessed_image\u001b[0m \u001b[1;33m=\u001b[0m \u001b[0mresnet50\u001b[0m\u001b[1;33m.\u001b[0m\u001b[0mpreprocess_input\u001b[0m\u001b[1;33m(\u001b[0m\u001b[0mimage_batch\u001b[0m\u001b[1;33m.\u001b[0m\u001b[0mcopy\u001b[0m\u001b[1;33m(\u001b[0m\u001b[1;33m)\u001b[0m\u001b[1;33m)\u001b[0m\u001b[1;33m\u001b[0m\u001b[1;33m\u001b[0m\u001b[0m\n\u001b[0;32m     30\u001b[0m \u001b[1;31m#sotfmax 확률(상위 3개로 예측)\u001b[0m\u001b[1;33m\u001b[0m\u001b[1;33m\u001b[0m\u001b[1;33m\u001b[0m\u001b[0m\n\u001b[1;32m---> 31\u001b[1;33m \u001b[0mresnet_model\u001b[0m \u001b[1;33m=\u001b[0m \u001b[0mresnet50\u001b[0m\u001b[1;33m.\u001b[0m\u001b[0mResNet50\u001b[0m\u001b[1;33m(\u001b[0m\u001b[0mweights\u001b[0m \u001b[1;33m=\u001b[0m \u001b[1;34m'imagenet'\u001b[0m\u001b[1;33m)\u001b[0m\u001b[1;33m\u001b[0m\u001b[1;33m\u001b[0m\u001b[0m\n\u001b[0m\u001b[0;32m     32\u001b[0m \u001b[0mpredictions\u001b[0m \u001b[1;33m=\u001b[0m \u001b[0mresnet_model\u001b[0m\u001b[1;33m.\u001b[0m\u001b[0mpredict\u001b[0m\u001b[1;33m(\u001b[0m\u001b[0mprecessed_image\u001b[0m\u001b[1;33m)\u001b[0m\u001b[1;33m\u001b[0m\u001b[1;33m\u001b[0m\u001b[0m\n\u001b[0;32m     33\u001b[0m \u001b[0mlabel\u001b[0m \u001b[1;33m=\u001b[0m \u001b[0mdecode_predictions\u001b[0m\u001b[1;33m(\u001b[0m\u001b[0mpredictions\u001b[0m\u001b[1;33m,\u001b[0m \u001b[0mtop\u001b[0m\u001b[1;33m=\u001b[0m\u001b[1;36m3\u001b[0m\u001b[1;33m)\u001b[0m \u001b[1;31m#labeling , top=3 상위세개로 제한\u001b[0m\u001b[1;33m\u001b[0m\u001b[1;33m\u001b[0m\u001b[0m\n",
      "\u001b[1;32m~\\Anaconda3\\envs\\venv\\lib\\site-packages\\keras-2.3.1-py3.6.egg\\keras\\applications\\__init__.py\u001b[0m in \u001b[0;36mwrapper\u001b[1;34m(*args, **kwargs)\u001b[0m\n\u001b[0;32m     18\u001b[0m         \u001b[0mkwargs\u001b[0m\u001b[1;33m[\u001b[0m\u001b[1;34m'models'\u001b[0m\u001b[1;33m]\u001b[0m \u001b[1;33m=\u001b[0m \u001b[0mmodels\u001b[0m\u001b[1;33m\u001b[0m\u001b[1;33m\u001b[0m\u001b[0m\n\u001b[0;32m     19\u001b[0m         \u001b[0mkwargs\u001b[0m\u001b[1;33m[\u001b[0m\u001b[1;34m'utils'\u001b[0m\u001b[1;33m]\u001b[0m \u001b[1;33m=\u001b[0m \u001b[0mutils\u001b[0m\u001b[1;33m\u001b[0m\u001b[1;33m\u001b[0m\u001b[0m\n\u001b[1;32m---> 20\u001b[1;33m         \u001b[1;32mreturn\u001b[0m \u001b[0mbase_fun\u001b[0m\u001b[1;33m(\u001b[0m\u001b[1;33m*\u001b[0m\u001b[0margs\u001b[0m\u001b[1;33m,\u001b[0m \u001b[1;33m**\u001b[0m\u001b[0mkwargs\u001b[0m\u001b[1;33m)\u001b[0m\u001b[1;33m\u001b[0m\u001b[1;33m\u001b[0m\u001b[0m\n\u001b[0m\u001b[0;32m     21\u001b[0m \u001b[1;33m\u001b[0m\u001b[0m\n\u001b[0;32m     22\u001b[0m     \u001b[1;32mreturn\u001b[0m \u001b[0mwrapper\u001b[0m\u001b[1;33m\u001b[0m\u001b[1;33m\u001b[0m\u001b[0m\n",
      "\u001b[1;32m~\\Anaconda3\\envs\\venv\\lib\\site-packages\\keras-2.3.1-py3.6.egg\\keras\\applications\\resnet50.py\u001b[0m in \u001b[0;36mResNet50\u001b[1;34m(*args, **kwargs)\u001b[0m\n\u001b[0;32m      9\u001b[0m \u001b[1;33m@\u001b[0m\u001b[0mkeras_modules_injection\u001b[0m\u001b[1;33m\u001b[0m\u001b[1;33m\u001b[0m\u001b[0m\n\u001b[0;32m     10\u001b[0m \u001b[1;32mdef\u001b[0m \u001b[0mResNet50\u001b[0m\u001b[1;33m(\u001b[0m\u001b[1;33m*\u001b[0m\u001b[0margs\u001b[0m\u001b[1;33m,\u001b[0m \u001b[1;33m**\u001b[0m\u001b[0mkwargs\u001b[0m\u001b[1;33m)\u001b[0m\u001b[1;33m:\u001b[0m\u001b[1;33m\u001b[0m\u001b[1;33m\u001b[0m\u001b[0m\n\u001b[1;32m---> 11\u001b[1;33m     \u001b[1;32mreturn\u001b[0m \u001b[0mresnet50\u001b[0m\u001b[1;33m.\u001b[0m\u001b[0mResNet50\u001b[0m\u001b[1;33m(\u001b[0m\u001b[1;33m*\u001b[0m\u001b[0margs\u001b[0m\u001b[1;33m,\u001b[0m \u001b[1;33m**\u001b[0m\u001b[0mkwargs\u001b[0m\u001b[1;33m)\u001b[0m\u001b[1;33m\u001b[0m\u001b[1;33m\u001b[0m\u001b[0m\n\u001b[0m\u001b[0;32m     12\u001b[0m \u001b[1;33m\u001b[0m\u001b[0m\n\u001b[0;32m     13\u001b[0m \u001b[1;33m\u001b[0m\u001b[0m\n",
      "\u001b[1;32m~\\Anaconda3\\envs\\venv\\lib\\site-packages\\keras_applications\\resnet50.py\u001b[0m in \u001b[0;36mResNet50\u001b[1;34m(include_top, weights, input_tensor, input_shape, pooling, classes, **kwargs)\u001b[0m\n\u001b[0;32m    229\u001b[0m                       \u001b[0mkernel_initializer\u001b[0m\u001b[1;33m=\u001b[0m\u001b[1;34m'he_normal'\u001b[0m\u001b[1;33m,\u001b[0m\u001b[1;33m\u001b[0m\u001b[1;33m\u001b[0m\u001b[0m\n\u001b[0;32m    230\u001b[0m                       name='conv1')(x)\n\u001b[1;32m--> 231\u001b[1;33m     \u001b[0mx\u001b[0m \u001b[1;33m=\u001b[0m \u001b[0mlayers\u001b[0m\u001b[1;33m.\u001b[0m\u001b[0mBatchNormalization\u001b[0m\u001b[1;33m(\u001b[0m\u001b[0maxis\u001b[0m\u001b[1;33m=\u001b[0m\u001b[0mbn_axis\u001b[0m\u001b[1;33m,\u001b[0m \u001b[0mname\u001b[0m\u001b[1;33m=\u001b[0m\u001b[1;34m'bn_conv1'\u001b[0m\u001b[1;33m)\u001b[0m\u001b[1;33m(\u001b[0m\u001b[0mx\u001b[0m\u001b[1;33m)\u001b[0m\u001b[1;33m\u001b[0m\u001b[1;33m\u001b[0m\u001b[0m\n\u001b[0m\u001b[0;32m    232\u001b[0m     \u001b[0mx\u001b[0m \u001b[1;33m=\u001b[0m \u001b[0mlayers\u001b[0m\u001b[1;33m.\u001b[0m\u001b[0mActivation\u001b[0m\u001b[1;33m(\u001b[0m\u001b[1;34m'relu'\u001b[0m\u001b[1;33m)\u001b[0m\u001b[1;33m(\u001b[0m\u001b[0mx\u001b[0m\u001b[1;33m)\u001b[0m\u001b[1;33m\u001b[0m\u001b[1;33m\u001b[0m\u001b[0m\n\u001b[0;32m    233\u001b[0m     \u001b[0mx\u001b[0m \u001b[1;33m=\u001b[0m \u001b[0mlayers\u001b[0m\u001b[1;33m.\u001b[0m\u001b[0mZeroPadding2D\u001b[0m\u001b[1;33m(\u001b[0m\u001b[0mpadding\u001b[0m\u001b[1;33m=\u001b[0m\u001b[1;33m(\u001b[0m\u001b[1;36m1\u001b[0m\u001b[1;33m,\u001b[0m \u001b[1;36m1\u001b[0m\u001b[1;33m)\u001b[0m\u001b[1;33m,\u001b[0m \u001b[0mname\u001b[0m\u001b[1;33m=\u001b[0m\u001b[1;34m'pool1_pad'\u001b[0m\u001b[1;33m)\u001b[0m\u001b[1;33m(\u001b[0m\u001b[0mx\u001b[0m\u001b[1;33m)\u001b[0m\u001b[1;33m\u001b[0m\u001b[1;33m\u001b[0m\u001b[0m\n",
      "\u001b[1;32m~\\Anaconda3\\envs\\venv\\lib\\site-packages\\keras-2.3.1-py3.6.egg\\keras\\engine\\base_layer.py\u001b[0m in \u001b[0;36m__call__\u001b[1;34m(self, inputs, **kwargs)\u001b[0m\n\u001b[0;32m    487\u001b[0m             \u001b[1;31m# Actually call the layer,\u001b[0m\u001b[1;33m\u001b[0m\u001b[1;33m\u001b[0m\u001b[1;33m\u001b[0m\u001b[0m\n\u001b[0;32m    488\u001b[0m             \u001b[1;31m# collecting output(s), mask(s), and shape(s).\u001b[0m\u001b[1;33m\u001b[0m\u001b[1;33m\u001b[0m\u001b[1;33m\u001b[0m\u001b[0m\n\u001b[1;32m--> 489\u001b[1;33m             \u001b[0moutput\u001b[0m \u001b[1;33m=\u001b[0m \u001b[0mself\u001b[0m\u001b[1;33m.\u001b[0m\u001b[0mcall\u001b[0m\u001b[1;33m(\u001b[0m\u001b[0minputs\u001b[0m\u001b[1;33m,\u001b[0m \u001b[1;33m**\u001b[0m\u001b[0mkwargs\u001b[0m\u001b[1;33m)\u001b[0m\u001b[1;33m\u001b[0m\u001b[1;33m\u001b[0m\u001b[0m\n\u001b[0m\u001b[0;32m    490\u001b[0m             \u001b[0moutput_mask\u001b[0m \u001b[1;33m=\u001b[0m \u001b[0mself\u001b[0m\u001b[1;33m.\u001b[0m\u001b[0mcompute_mask\u001b[0m\u001b[1;33m(\u001b[0m\u001b[0minputs\u001b[0m\u001b[1;33m,\u001b[0m \u001b[0mprevious_mask\u001b[0m\u001b[1;33m)\u001b[0m\u001b[1;33m\u001b[0m\u001b[1;33m\u001b[0m\u001b[0m\n\u001b[0;32m    491\u001b[0m \u001b[1;33m\u001b[0m\u001b[0m\n",
      "\u001b[1;32m~\\Anaconda3\\envs\\venv\\lib\\site-packages\\keras-2.3.1-py3.6.egg\\keras\\layers\\normalization.py\u001b[0m in \u001b[0;36mcall\u001b[1;34m(self, inputs, training)\u001b[0m\n\u001b[0;32m    183\u001b[0m         normed_training, mean, variance = K.normalize_batch_in_training(\n\u001b[0;32m    184\u001b[0m             \u001b[0minputs\u001b[0m\u001b[1;33m,\u001b[0m \u001b[0mself\u001b[0m\u001b[1;33m.\u001b[0m\u001b[0mgamma\u001b[0m\u001b[1;33m,\u001b[0m \u001b[0mself\u001b[0m\u001b[1;33m.\u001b[0m\u001b[0mbeta\u001b[0m\u001b[1;33m,\u001b[0m \u001b[0mreduction_axes\u001b[0m\u001b[1;33m,\u001b[0m\u001b[1;33m\u001b[0m\u001b[1;33m\u001b[0m\u001b[0m\n\u001b[1;32m--> 185\u001b[1;33m             epsilon=self.epsilon)\n\u001b[0m\u001b[0;32m    186\u001b[0m \u001b[1;33m\u001b[0m\u001b[0m\n\u001b[0;32m    187\u001b[0m         \u001b[1;32mif\u001b[0m \u001b[0mK\u001b[0m\u001b[1;33m.\u001b[0m\u001b[0mbackend\u001b[0m\u001b[1;33m(\u001b[0m\u001b[1;33m)\u001b[0m \u001b[1;33m!=\u001b[0m \u001b[1;34m'cntk'\u001b[0m\u001b[1;33m:\u001b[0m\u001b[1;33m\u001b[0m\u001b[1;33m\u001b[0m\u001b[0m\n",
      "\u001b[1;32m~\\Anaconda3\\envs\\venv\\lib\\site-packages\\keras-2.3.1-py3.6.egg\\keras\\backend\\tensorflow_backend.py\u001b[0m in \u001b[0;36mnormalize_batch_in_training\u001b[1;34m(x, gamma, beta, reduction_axes, epsilon)\u001b[0m\n\u001b[0;32m   2307\u001b[0m             \u001b[0mlist\u001b[0m\u001b[1;33m(\u001b[0m\u001b[0mreduction_axes\u001b[0m\u001b[1;33m)\u001b[0m \u001b[1;32min\u001b[0m \u001b[1;33m[\u001b[0m\u001b[1;33m[\u001b[0m\u001b[1;36m0\u001b[0m\u001b[1;33m,\u001b[0m \u001b[1;36m1\u001b[0m\u001b[1;33m,\u001b[0m \u001b[1;36m2\u001b[0m\u001b[1;33m]\u001b[0m\u001b[1;33m,\u001b[0m \u001b[1;33m[\u001b[0m\u001b[1;36m0\u001b[0m\u001b[1;33m,\u001b[0m \u001b[1;36m2\u001b[0m\u001b[1;33m,\u001b[0m \u001b[1;36m3\u001b[0m\u001b[1;33m]\u001b[0m\u001b[1;33m]\u001b[0m \u001b[1;32mand\u001b[0m\u001b[1;33m\u001b[0m\u001b[1;33m\u001b[0m\u001b[0m\n\u001b[0;32m   2308\u001b[0m             _is_tf_1()):\n\u001b[1;32m-> 2309\u001b[1;33m         \u001b[1;32mif\u001b[0m \u001b[1;32mnot\u001b[0m \u001b[0m_has_nchw_support\u001b[0m\u001b[1;33m(\u001b[0m\u001b[1;33m)\u001b[0m \u001b[1;32mand\u001b[0m \u001b[0mlist\u001b[0m\u001b[1;33m(\u001b[0m\u001b[0mreduction_axes\u001b[0m\u001b[1;33m)\u001b[0m \u001b[1;33m==\u001b[0m \u001b[1;33m[\u001b[0m\u001b[1;36m0\u001b[0m\u001b[1;33m,\u001b[0m \u001b[1;36m2\u001b[0m\u001b[1;33m,\u001b[0m \u001b[1;36m3\u001b[0m\u001b[1;33m]\u001b[0m\u001b[1;33m:\u001b[0m\u001b[1;33m\u001b[0m\u001b[1;33m\u001b[0m\u001b[0m\n\u001b[0m\u001b[0;32m   2310\u001b[0m             return _broadcast_normalize_batch_in_training(x, gamma, beta,\n\u001b[0;32m   2311\u001b[0m                                                           \u001b[0mreduction_axes\u001b[0m\u001b[1;33m,\u001b[0m\u001b[1;33m\u001b[0m\u001b[1;33m\u001b[0m\u001b[0m\n",
      "\u001b[1;32m~\\Anaconda3\\envs\\venv\\lib\\site-packages\\keras-2.3.1-py3.6.egg\\keras\\backend\\tensorflow_backend.py\u001b[0m in \u001b[0;36m_has_nchw_support\u001b[1;34m()\u001b[0m\n\u001b[0;32m    520\u001b[0m     \"\"\"\n\u001b[0;32m    521\u001b[0m     \u001b[0mexplicitly_on_cpu\u001b[0m \u001b[1;33m=\u001b[0m \u001b[0m_is_current_explicit_device\u001b[0m\u001b[1;33m(\u001b[0m\u001b[1;34m'cpu'\u001b[0m\u001b[1;33m)\u001b[0m\u001b[1;33m\u001b[0m\u001b[1;33m\u001b[0m\u001b[0m\n\u001b[1;32m--> 522\u001b[1;33m     \u001b[0mgpus_available\u001b[0m \u001b[1;33m=\u001b[0m \u001b[0mlen\u001b[0m\u001b[1;33m(\u001b[0m\u001b[0m_get_available_gpus\u001b[0m\u001b[1;33m(\u001b[0m\u001b[1;33m)\u001b[0m\u001b[1;33m)\u001b[0m \u001b[1;33m>\u001b[0m \u001b[1;36m0\u001b[0m\u001b[1;33m\u001b[0m\u001b[1;33m\u001b[0m\u001b[0m\n\u001b[0m\u001b[0;32m    523\u001b[0m     \u001b[1;32mreturn\u001b[0m \u001b[1;33m(\u001b[0m\u001b[1;32mnot\u001b[0m \u001b[0mexplicitly_on_cpu\u001b[0m \u001b[1;32mand\u001b[0m \u001b[0mgpus_available\u001b[0m\u001b[1;33m)\u001b[0m\u001b[1;33m\u001b[0m\u001b[1;33m\u001b[0m\u001b[0m\n\u001b[0;32m    524\u001b[0m \u001b[1;33m\u001b[0m\u001b[0m\n",
      "\u001b[1;32m~\\Anaconda3\\envs\\venv\\lib\\site-packages\\keras-2.3.1-py3.6.egg\\keras\\backend\\tensorflow_backend.py\u001b[0m in \u001b[0;36m_get_available_gpus\u001b[1;34m()\u001b[0m\n\u001b[0;32m    501\u001b[0m     \u001b[1;32mif\u001b[0m \u001b[0m_LOCAL_DEVICES\u001b[0m \u001b[1;32mis\u001b[0m \u001b[1;32mNone\u001b[0m\u001b[1;33m:\u001b[0m\u001b[1;33m\u001b[0m\u001b[1;33m\u001b[0m\u001b[0m\n\u001b[0;32m    502\u001b[0m         \u001b[1;32mif\u001b[0m \u001b[0m_is_tf_1\u001b[0m\u001b[1;33m(\u001b[0m\u001b[1;33m)\u001b[0m\u001b[1;33m:\u001b[0m\u001b[1;33m\u001b[0m\u001b[1;33m\u001b[0m\u001b[0m\n\u001b[1;32m--> 503\u001b[1;33m             \u001b[0mdevices\u001b[0m \u001b[1;33m=\u001b[0m \u001b[0mget_session\u001b[0m\u001b[1;33m(\u001b[0m\u001b[1;33m)\u001b[0m\u001b[1;33m.\u001b[0m\u001b[0mlist_devices\u001b[0m\u001b[1;33m(\u001b[0m\u001b[1;33m)\u001b[0m\u001b[1;33m\u001b[0m\u001b[1;33m\u001b[0m\u001b[0m\n\u001b[0m\u001b[0;32m    504\u001b[0m             \u001b[0m_LOCAL_DEVICES\u001b[0m \u001b[1;33m=\u001b[0m \u001b[1;33m[\u001b[0m\u001b[0mx\u001b[0m\u001b[1;33m.\u001b[0m\u001b[0mname\u001b[0m \u001b[1;32mfor\u001b[0m \u001b[0mx\u001b[0m \u001b[1;32min\u001b[0m \u001b[0mdevices\u001b[0m\u001b[1;33m]\u001b[0m\u001b[1;33m\u001b[0m\u001b[1;33m\u001b[0m\u001b[0m\n\u001b[0;32m    505\u001b[0m         \u001b[1;32melse\u001b[0m\u001b[1;33m:\u001b[0m\u001b[1;33m\u001b[0m\u001b[1;33m\u001b[0m\u001b[0m\n",
      "\u001b[1;32m~\\Anaconda3\\envs\\venv\\lib\\site-packages\\keras-2.3.1-py3.6.egg\\keras\\backend\\tensorflow_backend.py\u001b[0m in \u001b[0;36mget_session\u001b[1;34m()\u001b[0m\n\u001b[0;32m    381\u001b[0m     \u001b[1;32mif\u001b[0m \u001b[0mtf\u001b[0m\u001b[1;33m.\u001b[0m\u001b[0mexecuting_eagerly\u001b[0m\u001b[1;33m(\u001b[0m\u001b[1;33m)\u001b[0m\u001b[1;33m:\u001b[0m\u001b[1;33m\u001b[0m\u001b[1;33m\u001b[0m\u001b[0m\n\u001b[0;32m    382\u001b[0m         raise RuntimeError(\n\u001b[1;32m--> 383\u001b[1;33m             \u001b[1;34m'`get_session` is not available when '\u001b[0m\u001b[1;33m\u001b[0m\u001b[1;33m\u001b[0m\u001b[0m\n\u001b[0m\u001b[0;32m    384\u001b[0m             'TensorFlow is executing eagerly.')\n\u001b[0;32m    385\u001b[0m     \u001b[1;32mreturn\u001b[0m \u001b[0mtf_keras_backend\u001b[0m\u001b[1;33m.\u001b[0m\u001b[0mget_session\u001b[0m\u001b[1;33m(\u001b[0m\u001b[1;33m)\u001b[0m\u001b[1;33m\u001b[0m\u001b[1;33m\u001b[0m\u001b[0m\n",
      "\u001b[1;31mRuntimeError\u001b[0m: `get_session` is not available when TensorFlow is executing eagerly."
     ]
    },
    {
     "data": {
      "image/png": "[encoded data removed]",
      "text/plain": [
       "<Figure size 432x288 with 1 Axes>"
      ]
     },
     "metadata": {
      "needs_background": "light"
     },
     "output_type": "display_data"
    }
   ],
   "source": [
    "import PIL\n",
    "from keras.preprocessing.image import load_img, img_to_array\n",
    "from keras.applications.imagenet_utils import decode_predictions\n",
    "# from keras.applications.vgg16 import preprocess_input, decode_predictions\n",
    "import numpy as np\n",
    "from keras.applications.resnet50 import ResNet50\n",
    "from keras.applications import resnet50\n",
    "#resnet 초기의 입력값이 다음 연산들에게 지속적으로 영향을 준다\n",
    "\n",
    "#전처리\n",
    "filename = 'banana.jpg'\n",
    "#(224,224) 사이즈 fix\n",
    "original = load_img(filename, target_size=(224,224))\n",
    "print('PIL image size', original.size)\n",
    "plt.imshow(original)\n",
    "plt.show()\n",
    "numpy_image = img_to_array(original)\n",
    "plt.imshow(np.uint8(numpy_image))\n",
    "print('numpy array size' , numpy_image.shape)\n",
    "\n",
    "#차원확대가 생긴 이유?: 이미지 여러장을 처리하는 것이 전제조건인데 \n",
    "#사진이 한장이니까 3차원->4차원으로 확장해줘야 한다\n",
    "image_batch=np.expand_dims(numpy_image, axis=0)\n",
    "print('image array size' , image_batch.shape)\n",
    "\n",
    "#prepare the image for the resnet50 model\n",
    "#dense을 이용해서 모델을 생성=>resnet을 이용해서 모델 생성\n",
    "#label=>확률 : 1\n",
    "precessed_image = resnet50.preprocess_input(image_batch.copy())\n",
    "#sotfmax 확률(상위 3개로 예측)\n",
    "resnet_model = resnet50.ResNet50(weights = 'imagenet')\n",
    "predictions = resnet_model.predict(precessed_image) \n",
    "label = decode_predictions(predictions, top=3) #labeling , top=3 상위세개로 제한\n",
    "#원래는 5개 출력\n",
    "print(label)"
   ]
  },
  {
   "cell_type": "code",
   "execution_count": null,
   "metadata": {},
   "outputs": [],
   "source": []
  },
  {
   "cell_type": "code",
   "execution_count": 70,
   "metadata": {},
   "outputs": [],
   "source": [
    "# tf.keras\n",
    "# fine-tuning : FFNN 부분만 학습"
   ]
  },
  {
   "cell_type": "code",
   "execution_count": 94,
   "metadata": {},
   "outputs": [],
   "source": [
    "from numpy.random import randn\n",
    "import pathlib\n",
    "import random\n",
    "import matplotlib.pyplot as plt\n",
    "import tensorflow as tf\n",
    "import numpy as np\n",
    "from matplotlib.image import imread\n",
    "from keras.preprocessing import image\n",
    "# tf.enable_eager_execution()\n",
    "AUTOTUNE = tf.data.experimental.AUTOTUNE\n",
    "data_dir = 'C:/Users/ICT01_03/Downloads/전달/flowers/flower_photos'\n",
    "data_dir = pathlib.Path(data_dir)\n",
    "label_names ={'daisy':0,'dandelion':1,'roses':2,'sunflowers':3,'tulips':4}\n",
    "label_key=['daisy','dandelion','roses','sunflowers','tulips']"
   ]
  },
  {
   "cell_type": "code",
   "execution_count": 95,
   "metadata": {},
   "outputs": [],
   "source": [
    "all_images = list(data_dir.glob('*/*'))\n",
    "all_images = [str(path) for path in all_images]\n",
    "random.shuffle(all_images)\n",
    "# pathlib: 디렉터리의 경로를 관리하는 라이브러리\n",
    "all_labels=[label_names[pathlib.Path(path).parent.name] for path in all_images]\n",
    "data_size = len(all_images)\n",
    "train_test_split=(int)(data_size*0.2) # 80:20\n",
    "x_train = all_images[train_test_split:]\n",
    "x_test = all_images[:train_test_split]\n",
    "y_train = all_labels[train_test_split:]\n",
    "y_test = all_labels[:train_test_split]\n",
    "img_size = 160\n",
    "batch_size = 32"
   ]
  },
  {
   "cell_type": "code",
   "execution_count": 96,
   "metadata": {},
   "outputs": [],
   "source": [
    "def _parse_data(x,y):\n",
    "    image = tf.read_file(x) # 파일에는 헤더 파일(압축 방법)\n",
    "    image = tf.image.decode_jpeg(image, channels= 3) # 컬러\n",
    "    image = tf.cast(image,tf.float32)\n",
    "    image = (image/127.5) -1  # 이미지를 -1 ~ 1 값으로\n",
    "    image = tf.image.resize(image, (img_size, img_size)) # 이미지 사이즈 통일\n",
    "    return image,y \n",
    "def _input_fn(x,y):\n",
    "    ds = tf.data.Dataset.from_tensor_slices((x,y)) # 기본 단위 요소로 분해. 데이터셋을 생성.\n",
    "    ds = ds.map(_parse_data) # 데이터마다 함수를 적용할 때 사용\n",
    "    ds = ds.shuffle(buffer_size=data_size) # 충분한 공간 확보. 버퍼: 거쳐가는 기억공간\n",
    "    ds = ds.repeat() # 데이터가 부족하면 처음부터 다시 시작\n",
    "    ds = ds.batch(batch_size) # mini batch 사이즈\n",
    "    ds = ds.prefetch(buffer_size=AUTOTUNE) # 32x3 or 32x5 - 3장할지 5장할지 알아서 결정해라\n",
    "    return ds\n",
    "train_ds = _input_fn(x_train,y_train)\n",
    "validation_ds = _input_fn(x_test, y_test)"
   ]
  },
  {
   "cell_type": "code",
   "execution_count": 97,
   "metadata": {},
   "outputs": [],
   "source": [
    "IMG_SHAPE = (IMG_SIZE, IMG_SIZE, 3)\n",
    "VGG16_MODEL = tf.keras.applications.VGG16(input_shape = IMG_SHAPE, \n",
    "                                          include_top = False, weights = 'imagenet')\n",
    "# include_top=False : pooling 으로 1000개 분류하기 전에 모델셋팅 가져오기"
   ]
  },
  {
   "cell_type": "code",
   "execution_count": 98,
   "metadata": {},
   "outputs": [],
   "source": [
    "VGG16_MODEL.trainable = False\n",
    "global_average_layer = tf.keras.layers.GlobalAveragePooling2D() # flatten 가중치\n",
    "prediction_layer = tf.keras.layers.Dense(len(label_names), activation='softmax') # ffn의 가중치는 학습"
   ]
  },
  {
   "cell_type": "code",
   "execution_count": 99,
   "metadata": {},
   "outputs": [],
   "source": [
    "model = tf.keras.Sequential([VGG16_MODEL, global_average_layer, prediction_layer])"
   ]
  },
  {
   "cell_type": "code",
   "execution_count": 100,
   "metadata": {},
   "outputs": [],
   "source": [
    "# tf.train.AdamOptimizer()\n",
    "# sparse_categorical_crossentropy 희소행렬\n",
    "model.compile(optimizer=tf.train.AdamOptimizer(), \n",
    "              loss=tf.keras.losses.sparse_categorical_crossentropy, metrics=['accuracy'])"
   ]
  },
  {
   "cell_type": "code",
   "execution_count": 101,
   "metadata": {},
   "outputs": [
    {
     "name": "stdout",
     "output_type": "stream",
     "text": [
      "Epoch 1/100\n",
      "WARNING:tensorflow:From C:\\Users\\ICT01_03\\Anaconda3\\envs\\venv\\lib\\site-packages\\tensorflow_core\\python\\ops\\math_grad.py:1424: where (from tensorflow.python.ops.array_ops) is deprecated and will be removed in a future version.\n",
      "Instructions for updating:\n",
      "Use tf.where in 2.0, which has the same broadcast rule as np.where\n",
      "2/2 [==============================] - 11s 5s/step - loss: 1.7895 - acc: 0.1250\n",
      "Epoch 2/100\n",
      "2/2 [==============================] - 0s 197ms/step - loss: 1.7481 - acc: 0.1250\n",
      "Epoch 3/100\n",
      "2/2 [==============================] - 0s 196ms/step - loss: 1.5826 - acc: 0.2031\n",
      "Epoch 4/100\n",
      "2/2 [==============================] - 0s 185ms/step - loss: 1.6781 - acc: 0.1875\n",
      "Epoch 5/100\n",
      "2/2 [==============================] - 0s 202ms/step - loss: 1.6239 - acc: 0.1719\n",
      "Epoch 6/100\n",
      "2/2 [==============================] - 0s 195ms/step - loss: 1.5406 - acc: 0.2812\n",
      "Epoch 7/100\n",
      "2/2 [==============================] - 0s 194ms/step - loss: 1.5409 - acc: 0.4531\n",
      "Epoch 8/100\n",
      "2/2 [==============================] - 0s 195ms/step - loss: 1.5924 - acc: 0.2500\n",
      "Epoch 9/100\n",
      "2/2 [==============================] - 0s 185ms/step - loss: 1.5656 - acc: 0.3281\n",
      "Epoch 10/100\n",
      "2/2 [==============================] - 0s 201ms/step - loss: 1.5753 - acc: 0.3750\n",
      "Epoch 11/100\n",
      "2/2 [==============================] - 0s 196ms/step - loss: 1.5138 - acc: 0.3750\n",
      "Epoch 12/100\n",
      "2/2 [==============================] - 0s 196ms/step - loss: 1.4838 - acc: 0.4844\n",
      "Epoch 13/100\n",
      "2/2 [==============================] - 0s 195ms/step - loss: 1.4775 - acc: 0.4531\n",
      "Epoch 14/100\n",
      "2/2 [==============================] - 0s 191ms/step - loss: 1.4995 - acc: 0.4688\n",
      "Epoch 15/100\n",
      "2/2 [==============================] - 0s 192ms/step - loss: 1.5407 - acc: 0.3750\n",
      "Epoch 16/100\n",
      "2/2 [==============================] - 0s 193ms/step - loss: 1.4772 - acc: 0.4688\n",
      "Epoch 17/100\n",
      "2/2 [==============================] - 0s 196ms/step - loss: 1.4774 - acc: 0.4375\n",
      "Epoch 18/100\n",
      "2/2 [==============================] - 0s 193ms/step - loss: 1.4474 - acc: 0.4375\n",
      "Epoch 19/100\n",
      "2/2 [==============================] - 0s 194ms/step - loss: 1.4514 - acc: 0.4531\n",
      "Epoch 20/100\n",
      "2/2 [==============================] - 0s 193ms/step - loss: 1.4263 - acc: 0.5156\n",
      "Epoch 21/100\n",
      "2/2 [==============================] - 0s 194ms/step - loss: 1.3716 - acc: 0.5781\n",
      "Epoch 22/100\n",
      "2/2 [==============================] - 0s 194ms/step - loss: 1.4316 - acc: 0.5000\n",
      "Epoch 23/100\n",
      "2/2 [==============================] - 0s 195ms/step - loss: 1.3815 - acc: 0.5469\n",
      "Epoch 24/100\n",
      "2/2 [==============================] - 0s 194ms/step - loss: 1.3772 - acc: 0.5312\n",
      "Epoch 25/100\n",
      "2/2 [==============================] - 0s 190ms/step - loss: 1.3982 - acc: 0.5469\n",
      "Epoch 26/100\n",
      "2/2 [==============================] - 0s 199ms/step - loss: 1.3801 - acc: 0.5000\n",
      "Epoch 27/100\n",
      "2/2 [==============================] - 0s 198ms/step - loss: 1.4240 - acc: 0.3906\n",
      "Epoch 28/100\n",
      "2/2 [==============================] - 0s 198ms/step - loss: 1.3140 - acc: 0.6094\n",
      "Epoch 29/100\n",
      "2/2 [==============================] - 0s 196ms/step - loss: 1.2922 - acc: 0.5781\n",
      "Epoch 30/100\n",
      "2/2 [==============================] - 0s 190ms/step - loss: 1.3462 - acc: 0.5312\n",
      "Epoch 31/100\n",
      "2/2 [==============================] - 0s 194ms/step - loss: 1.2159 - acc: 0.7031\n",
      "Epoch 32/100\n",
      "2/2 [==============================] - 0s 195ms/step - loss: 1.3101 - acc: 0.6406\n",
      "Epoch 33/100\n",
      "2/2 [==============================] - 0s 195ms/step - loss: 1.2332 - acc: 0.6250\n",
      "Epoch 34/100\n",
      "2/2 [==============================] - 0s 194ms/step - loss: 1.3122 - acc: 0.5781\n",
      "Epoch 35/100\n",
      "2/2 [==============================] - 0s 187ms/step - loss: 1.2466 - acc: 0.5781\n",
      "Epoch 36/100\n",
      "2/2 [==============================] - 0s 195ms/step - loss: 1.3394 - acc: 0.4844\n",
      "Epoch 37/100\n",
      "2/2 [==============================] - 0s 196ms/step - loss: 1.3233 - acc: 0.4531\n",
      "Epoch 38/100\n",
      "2/2 [==============================] - 0s 197ms/step - loss: 1.2757 - acc: 0.5156\n",
      "Epoch 39/100\n",
      "2/2 [==============================] - 0s 195ms/step - loss: 1.3449 - acc: 0.5000\n",
      "Epoch 40/100\n",
      "2/2 [==============================] - 0s 184ms/step - loss: 1.2094 - acc: 0.5938\n",
      "Epoch 41/100\n",
      "2/2 [==============================] - 0s 203ms/step - loss: 1.2127 - acc: 0.6719\n",
      "Epoch 42/100\n",
      "2/2 [==============================] - 0s 193ms/step - loss: 1.2238 - acc: 0.6250\n",
      "Epoch 43/100\n",
      "2/2 [==============================] - 0s 194ms/step - loss: 1.2410 - acc: 0.5938\n",
      "Epoch 44/100\n",
      "2/2 [==============================] - 0s 195ms/step - loss: 1.2207 - acc: 0.6094\n",
      "Epoch 45/100\n",
      "2/2 [==============================] - 0s 185ms/step - loss: 1.1352 - acc: 0.6875\n",
      "Epoch 46/100\n",
      "2/2 [==============================] - 0s 201ms/step - loss: 1.1193 - acc: 0.6250\n",
      "Epoch 47/100\n",
      "2/2 [==============================] - 0s 197ms/step - loss: 1.1816 - acc: 0.6562\n",
      "Epoch 48/100\n",
      "2/2 [==============================] - 0s 196ms/step - loss: 1.1729 - acc: 0.6406\n",
      "Epoch 49/100\n",
      "2/2 [==============================] - 0s 196ms/step - loss: 1.1708 - acc: 0.5938\n",
      "Epoch 50/100\n",
      "2/2 [==============================] - 0s 190ms/step - loss: 1.0954 - acc: 0.6875\n",
      "Epoch 51/100\n",
      "2/2 [==============================] - 0s 197ms/step - loss: 1.1269 - acc: 0.7188\n",
      "Epoch 52/100\n",
      "2/2 [==============================] - 0s 195ms/step - loss: 1.1458 - acc: 0.6719\n",
      "Epoch 53/100\n",
      "2/2 [==============================] - 0s 195ms/step - loss: 1.1938 - acc: 0.6250\n",
      "Epoch 54/100\n",
      "2/2 [==============================] - 0s 194ms/step - loss: 1.1629 - acc: 0.5625\n",
      "Epoch 55/100\n",
      "2/2 [==============================] - 0s 190ms/step - loss: 1.1198 - acc: 0.6406\n",
      "Epoch 56/100\n",
      "2/2 [==============================] - 0s 198ms/step - loss: 1.1264 - acc: 0.6094\n",
      "Epoch 57/100\n",
      "2/2 [==============================] - 0s 196ms/step - loss: 1.1285 - acc: 0.6094\n",
      "Epoch 58/100\n",
      "2/2 [==============================] - 0s 195ms/step - loss: 1.0685 - acc: 0.6250\n",
      "Epoch 59/100\n",
      "2/2 [==============================] - 0s 196ms/step - loss: 1.1217 - acc: 0.6406\n",
      "Epoch 60/100\n",
      "2/2 [==============================] - 0s 188ms/step - loss: 1.0945 - acc: 0.6875\n",
      "Epoch 61/100\n",
      "2/2 [==============================] - 0s 198ms/step - loss: 1.2079 - acc: 0.5312\n",
      "Epoch 62/100\n",
      "2/2 [==============================] - 0s 196ms/step - loss: 1.1293 - acc: 0.5781\n",
      "Epoch 63/100\n",
      "2/2 [==============================] - 0s 195ms/step - loss: 1.0593 - acc: 0.6875\n",
      "Epoch 64/100\n",
      "2/2 [==============================] - 0s 195ms/step - loss: 1.0600 - acc: 0.7344\n",
      "Epoch 65/100\n",
      "2/2 [==============================] - 0s 189ms/step - loss: 1.0938 - acc: 0.6562\n",
      "Epoch 66/100\n",
      "2/2 [==============================] - 0s 191ms/step - loss: 1.1227 - acc: 0.6875\n",
      "Epoch 67/100\n",
      "2/2 [==============================] - 0s 195ms/step - loss: 1.1116 - acc: 0.5938\n",
      "Epoch 68/100\n",
      "2/2 [==============================] - 0s 195ms/step - loss: 0.9509 - acc: 0.7812\n",
      "Epoch 69/100\n",
      "2/2 [==============================] - 0s 194ms/step - loss: 1.1549 - acc: 0.6406\n",
      "Epoch 70/100\n",
      "2/2 [==============================] - 0s 195ms/step - loss: 1.0569 - acc: 0.7031\n",
      "Epoch 71/100\n",
      "2/2 [==============================] - 0s 191ms/step - loss: 1.0607 - acc: 0.6406\n",
      "Epoch 72/100\n",
      "2/2 [==============================] - 0s 194ms/step - loss: 1.0372 - acc: 0.6875\n",
      "Epoch 73/100\n",
      "2/2 [==============================] - 0s 194ms/step - loss: 0.9879 - acc: 0.6875\n",
      "Epoch 74/100\n",
      "2/2 [==============================] - 0s 195ms/step - loss: 1.0250 - acc: 0.6406\n",
      "Epoch 75/100\n",
      "2/2 [==============================] - 0s 194ms/step - loss: 0.9942 - acc: 0.7344\n",
      "Epoch 76/100\n",
      "2/2 [==============================] - 0s 191ms/step - loss: 0.9559 - acc: 0.7969\n",
      "Epoch 77/100\n",
      "2/2 [==============================] - ETA: 0s - loss: 0.9910 - acc: 0.750 - 0s 196ms/step - loss: 0.9921 - acc: 0.7188\n",
      "Epoch 78/100\n",
      "2/2 [==============================] - 0s 195ms/step - loss: 0.9868 - acc: 0.7188\n",
      "Epoch 79/100\n",
      "2/2 [==============================] - 0s 195ms/step - loss: 0.9980 - acc: 0.6406\n",
      "Epoch 80/100\n",
      "2/2 [==============================] - 0s 195ms/step - loss: 1.0634 - acc: 0.6719\n",
      "Epoch 81/100\n",
      "2/2 [==============================] - 0s 186ms/step - loss: 0.9883 - acc: 0.7344\n",
      "Epoch 82/100\n",
      "2/2 [==============================] - 0s 198ms/step - loss: 1.0583 - acc: 0.7188\n",
      "Epoch 83/100\n",
      "2/2 [==============================] - 0s 195ms/step - loss: 0.9953 - acc: 0.7031\n",
      "Epoch 84/100\n",
      "2/2 [==============================] - 0s 195ms/step - loss: 0.9374 - acc: 0.7500\n",
      "Epoch 85/100\n",
      "2/2 [==============================] - 0s 194ms/step - loss: 0.9400 - acc: 0.6875\n",
      "Epoch 86/100\n",
      "2/2 [==============================] - 0s 189ms/step - loss: 1.0032 - acc: 0.6562\n",
      "Epoch 87/100\n",
      "2/2 [==============================] - 0s 195ms/step - loss: 0.9794 - acc: 0.7031\n",
      "Epoch 88/100\n",
      "2/2 [==============================] - 0s 194ms/step - loss: 0.9267 - acc: 0.7500\n",
      "Epoch 89/100\n",
      "2/2 [==============================] - 0s 195ms/step - loss: 0.8478 - acc: 0.7812\n",
      "Epoch 90/100\n",
      "2/2 [==============================] - 0s 194ms/step - loss: 0.9372 - acc: 0.7969\n",
      "Epoch 91/100\n",
      "2/2 [==============================] - 0s 191ms/step - loss: 1.0163 - acc: 0.6562\n",
      "Epoch 92/100\n",
      "2/2 [==============================] - 0s 195ms/step - loss: 0.9673 - acc: 0.7188\n",
      "Epoch 93/100\n",
      "2/2 [==============================] - 0s 194ms/step - loss: 0.8125 - acc: 0.7969\n",
      "Epoch 94/100\n",
      "2/2 [==============================] - 0s 194ms/step - loss: 0.9710 - acc: 0.7188\n",
      "Epoch 95/100\n",
      "2/2 [==============================] - 0s 195ms/step - loss: 0.9101 - acc: 0.7500\n",
      "Epoch 96/100\n",
      "2/2 [==============================] - 0s 186ms/step - loss: 0.8619 - acc: 0.7656\n",
      "Epoch 97/100\n",
      "2/2 [==============================] - 0s 199ms/step - loss: 0.9488 - acc: 0.7500\n",
      "Epoch 98/100\n",
      "2/2 [==============================] - 0s 195ms/step - loss: 0.9351 - acc: 0.7500\n",
      "Epoch 99/100\n",
      "2/2 [==============================] - 0s 194ms/step - loss: 0.9519 - acc: 0.7344\n",
      "Epoch 100/100\n",
      "2/2 [==============================] - 0s 194ms/step - loss: 0.9446 - acc: 0.7031\n"
     ]
    }
   ],
   "source": [
    "history = model.fit(train_ds, epochs = 100, steps_per_epoch=2)"
   ]
  },
  {
   "cell_type": "code",
   "execution_count": 104,
   "metadata": {},
   "outputs": [
    {
     "ename": "KeyError",
     "evalue": "'val_acc'",
     "output_type": "error",
     "traceback": [
      "\u001b[1;31m---------------------------------------------------------------------------\u001b[0m",
      "\u001b[1;31mKeyError\u001b[0m                                  Traceback (most recent call last)",
      "\u001b[1;32m<ipython-input-104-1c6ea0624647>\u001b[0m in \u001b[0;36m<module>\u001b[1;34m\u001b[0m\n\u001b[0;32m      1\u001b[0m \u001b[0mplt\u001b[0m\u001b[1;33m.\u001b[0m\u001b[0mplot\u001b[0m\u001b[1;33m(\u001b[0m\u001b[0mhistory\u001b[0m\u001b[1;33m.\u001b[0m\u001b[0mhistory\u001b[0m\u001b[1;33m[\u001b[0m\u001b[1;34m'acc'\u001b[0m\u001b[1;33m]\u001b[0m\u001b[1;33m)\u001b[0m\u001b[1;33m\u001b[0m\u001b[1;33m\u001b[0m\u001b[0m\n\u001b[1;32m----> 2\u001b[1;33m \u001b[0mplt\u001b[0m\u001b[1;33m.\u001b[0m\u001b[0mplot\u001b[0m\u001b[1;33m(\u001b[0m\u001b[0mhistory\u001b[0m\u001b[1;33m.\u001b[0m\u001b[0mhistory\u001b[0m\u001b[1;33m[\u001b[0m\u001b[1;34m'val_acc'\u001b[0m\u001b[1;33m]\u001b[0m\u001b[1;33m)\u001b[0m\u001b[1;33m\u001b[0m\u001b[1;33m\u001b[0m\u001b[0m\n\u001b[0m\u001b[0;32m      3\u001b[0m \u001b[0mplt\u001b[0m\u001b[1;33m.\u001b[0m\u001b[0mtitle\u001b[0m\u001b[1;33m(\u001b[0m\u001b[1;34m'model accuracy'\u001b[0m\u001b[1;33m)\u001b[0m\u001b[1;33m\u001b[0m\u001b[1;33m\u001b[0m\u001b[0m\n\u001b[0;32m      4\u001b[0m \u001b[0mplt\u001b[0m\u001b[1;33m.\u001b[0m\u001b[0mylabel\u001b[0m\u001b[1;33m(\u001b[0m\u001b[1;34m'accuracy'\u001b[0m\u001b[1;33m)\u001b[0m\u001b[1;33m\u001b[0m\u001b[1;33m\u001b[0m\u001b[0m\n\u001b[0;32m      5\u001b[0m \u001b[0mplt\u001b[0m\u001b[1;33m.\u001b[0m\u001b[0mxlabel\u001b[0m\u001b[1;33m(\u001b[0m\u001b[1;34m'epoch'\u001b[0m\u001b[1;33m)\u001b[0m\u001b[1;33m\u001b[0m\u001b[1;33m\u001b[0m\u001b[0m\n",
      "\u001b[1;31mKeyError\u001b[0m: 'val_acc'"
     ]
    },
    {
     "data": {
      "image/png": "[encoded data removed]",
      "text/plain": [
       "<Figure size 432x288 with 1 Axes>"
      ]
     },
     "metadata": {
      "needs_background": "light"
     },
     "output_type": "display_data"
    }
   ],
   "source": [
    "plt.plot(history.history['acc'])\n",
    "plt.plot(history.history['val_acc'])\n",
    "plt.title('model accuracy')\n",
    "plt.ylabel('accuracy')\n",
    "plt.xlabel('epoch')\n",
    "plt.legend(['train', 'test'], loc='upper left')\n",
    "plt.show()"
   ]
  },
  {
   "cell_type": "code",
   "execution_count": null,
   "metadata": {},
   "outputs": [],
   "source": []
  }
 ],
 "metadata": {
  "kernelspec": {
   "display_name": "Python 3",
   "language": "python",
   "name": "python3"
  },
  "language_info": {
   "codemirror_mode": {
    "name": "ipython",
    "version": 3
   },
   "file_extension": ".py",
   "mimetype": "text/x-python",
   "name": "python",
   "nbconvert_exporter": "python",
   "pygments_lexer": "ipython3",
   "version": "3.6.10"
  },
  "toc": {
   "base_numbering": 1,
   "nav_menu": {},
   "number_sections": true,
   "sideBar": true,
   "skip_h1_title": false,
   "title_cell": "Table of Contents",
   "title_sidebar": "Contents",
   "toc_cell": false,
   "toc_position": {},
   "toc_section_display": true,
   "toc_window_display": false
  }
 },
 "nbformat": 4,
 "nbformat_minor": 2
}
